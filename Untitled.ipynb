{
 "cells": [
  {
   "cell_type": "code",
   "execution_count": 2,
   "id": "47353965-32f0-4298-a253-c423abd3a155",
   "metadata": {
    "tags": []
   },
   "outputs": [],
   "source": [
    "from pyquibbler import q, iquib, initialize_quibbler\n",
    "initialize_quibbler()\n",
    "\n",
    "import numpy as np\n"
   ]
  },
  {
   "cell_type": "code",
   "execution_count": 25,
   "id": "c141073d-55d1-41c8-b767-fa5c67c12a6e",
   "metadata": {
    "tags": []
   },
   "outputs": [],
   "source": [
    "class A:\n",
    "    def __init__(self, x):\n",
    "        self.x = x\n",
    "        \n",
    "    def __add__(self, other):\n",
    "        print('calculating')\n",
    "        return A(self.x + other.x)\n",
    "\n",
    "    def __repr__(self):\n",
    "        return f\"A({self.x})\"\n",
    "\n",
    "a = A(1)"
   ]
  },
  {
   "cell_type": "code",
   "execution_count": 30,
   "id": "6c0d0100-287b-4b02-a671-6929662b6325",
   "metadata": {
    "tags": []
   },
   "outputs": [],
   "source": [
    "a1 = A(1)\n",
    "a2 = A(2)\n",
    "aq1 = iquib(a1)\n",
    "aq2 = iquib(a2)\n",
    "s = aq1 + aq2"
   ]
  },
  {
   "cell_type": "code",
   "execution_count": 31,
   "id": "ff440eeb-251d-4ae8-8fde-aaf19a9ed953",
   "metadata": {
    "tags": []
   },
   "outputs": [
    {
     "name": "stdout",
     "output_type": "stream",
     "text": [
      "calculating\n",
      "calculating\n"
     ]
    },
    {
     "data": {
      "text/plain": [
       "A(3)"
      ]
     },
     "execution_count": 31,
     "metadata": {},
     "output_type": "execute_result"
    }
   ],
   "source": [
    "s.get_value()"
   ]
  },
  {
   "cell_type": "code",
   "execution_count": 20,
   "id": "06353fa8-18ee-4e99-ac14-71819d8681ed",
   "metadata": {
    "tags": []
   },
   "outputs": [
    {
     "data": {
      "text/plain": [
       "False"
      ]
     },
     "execution_count": 20,
     "metadata": {},
     "output_type": "execute_result"
    }
   ],
   "source": [
    "qw.get_value() is w"
   ]
  },
  {
   "cell_type": "code",
   "execution_count": 15,
   "id": "1a25d01e-8551-4c76-8d4d-87cc1b6068b2",
   "metadata": {
    "tags": []
   },
   "outputs": [
    {
     "data": {
      "application/vnd.jupyter.widget-view+json": {
       "model_id": "1111d50f56ca41aba55b913d9bbbb2c9",
       "version_major": 2,
       "version_minor": 0
      },
      "text/plain": [
       "VBox(children=(Label(value='x = iquib(A(1))'), VBox(), HBox(children=(HBox(children=(ToggleButton(value=False,…"
      ]
     },
     "metadata": {},
     "output_type": "display_data"
    },
    {
     "data": {
      "text/html": [],
      "text/plain": [
       "x = iquib(A(1))"
      ]
     },
     "execution_count": 15,
     "metadata": {},
     "output_type": "execute_result"
    }
   ],
   "source": [
    "x = iquib(a)\n",
    "x"
   ]
  },
  {
   "cell_type": "code",
   "execution_count": 16,
   "id": "0f34a748-ed86-41dd-acdb-0fb0fdf192f7",
   "metadata": {
    "tags": []
   },
   "outputs": [
    {
     "ename": "PyQuibblerAttributeError",
     "evalue": "Quib has no attribute x.",
     "output_type": "error",
     "traceback": [
      "\u001b[31m---------------------------------------------------------------------------\u001b[39m",
      "\u001b[31mPyQuibblerAttributeError\u001b[39m                  Traceback (most recent call last)",
      "\u001b[36mCell\u001b[39m\u001b[36m \u001b[39m\u001b[32mIn[16]\u001b[39m\u001b[32m, line 1\u001b[39m\n\u001b[32m----> \u001b[39m\u001b[32m1\u001b[39m \u001b[43mx\u001b[49m\u001b[43m.\u001b[49m\u001b[43mx\u001b[49m\n",
      "\u001b[36mFile \u001b[39m\u001b[32m~/Git/pyquibbler/pyquibbler/pyquibbler/quib/quib.py:1600\u001b[39m, in \u001b[36mQuib.__getattr__\u001b[39m\u001b[34m(self, item)\u001b[39m\n\u001b[32m   1598\u001b[39m \u001b[38;5;28;01mdef\u001b[39;00m\u001b[38;5;250m \u001b[39m\u001b[34m__getattr__\u001b[39m(\u001b[38;5;28mself\u001b[39m, item):\n\u001b[32m   1599\u001b[39m     \u001b[38;5;28;01mfrom\u001b[39;00m\u001b[38;5;250m \u001b[39m\u001b[34;01mpyquibbler\u001b[39;00m\u001b[34;01m.\u001b[39;00m\u001b[34;01mquib\u001b[39;00m\u001b[34;01m.\u001b[39;00m\u001b[34;01mspecialized_functions\u001b[39;00m\u001b[34;01m.\u001b[39;00m\u001b[34;01mgetattr\u001b[39;00m\u001b[38;5;250m \u001b[39m\u001b[38;5;28;01mimport\u001b[39;00m create_getattr_quib_or_quiby_method\n\u001b[32m-> \u001b[39m\u001b[32m1600\u001b[39m     \u001b[38;5;28;01mreturn\u001b[39;00m \u001b[43mcreate_getattr_quib_or_quiby_method\u001b[49m\u001b[43m(\u001b[49m\u001b[38;5;28;43mself\u001b[39;49m\u001b[43m,\u001b[49m\u001b[43m \u001b[49m\u001b[43mitem\u001b[49m\u001b[43m)\u001b[49m\n",
      "\u001b[36mFile \u001b[39m\u001b[32m~/Git/pyquibbler/pyquibbler/pyquibbler/quib/specialized_functions/getattr.py:22\u001b[39m, in \u001b[36mcreate_getattr_quib_or_quiby_method\u001b[39m\u001b[34m(quib, item)\u001b[39m\n\u001b[32m     20\u001b[39m attribute_override = ATTRIBUTES_TO_ATTRIBUTE_OVERRIDES.get(item, \u001b[38;5;28;01mNone\u001b[39;00m)\n\u001b[32m     21\u001b[39m \u001b[38;5;28;01mif\u001b[39;00m attribute_override \u001b[38;5;129;01mis\u001b[39;00m \u001b[38;5;28;01mNone\u001b[39;00m:\n\u001b[32m---> \u001b[39m\u001b[32m22\u001b[39m     \u001b[38;5;28;01mraise\u001b[39;00m PyQuibblerAttributeError(item)\n\u001b[32m     24\u001b[39m \u001b[38;5;28;01mif\u001b[39;00m \u001b[38;5;28misinstance\u001b[39m(attribute_override, MethodOverride):\n\u001b[32m     25\u001b[39m     \u001b[38;5;28;01mreturn\u001b[39;00m QuibyMethod(quib, method_override=attribute_override)\n",
      "\u001b[31mPyQuibblerAttributeError\u001b[39m: Quib has no attribute x."
     ]
    }
   ],
   "source": [
    "x.x"
   ]
  },
  {
   "cell_type": "code",
   "execution_count": null,
   "id": "79ab258a-1e72-4204-b2f6-8650e55f9316",
   "metadata": {},
   "outputs": [],
   "source": []
  }
 ],
 "metadata": {
  "kernelspec": {
   "display_name": "Python 3 (ipykernel)",
   "language": "python",
   "name": "python3"
  },
  "language_info": {
   "codemirror_mode": {
    "name": "ipython",
    "version": 3
   },
   "file_extension": ".py",
   "mimetype": "text/x-python",
   "name": "python",
   "nbconvert_exporter": "python",
   "pygments_lexer": "ipython3",
   "version": "3.11.11"
  }
 },
 "nbformat": 4,
 "nbformat_minor": 5
}
