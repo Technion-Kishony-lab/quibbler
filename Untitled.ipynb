{
 "cells": [
  {
   "cell_type": "code",
   "execution_count": 1,
   "id": "1e5402d8-74c4-4636-ba41-5d2718292961",
   "metadata": {},
   "outputs": [],
   "source": [
    "from pyquibbler import quibapp\n",
    "%matplotlib tk"
   ]
  },
  {
   "cell_type": "code",
   "execution_count": 2,
   "id": "e860f792-1848-484e-b37e-44e4c0fe26ed",
   "metadata": {},
   "outputs": [
    {
     "data": {
      "text/plain": [
       "<pyquibbler.user_utils.quibapp.QuibApp at 0x10d995810>"
      ]
     },
     "execution_count": 2,
     "metadata": {},
     "output_type": "execute_result"
    }
   ],
   "source": [
    "quibapp()"
   ]
  },
  {
   "cell_type": "code",
   "execution_count": null,
   "id": "55630c90-4d96-46cc-a0f2-985f5e87643d",
   "metadata": {},
   "outputs": [],
   "source": []
  }
 ],
 "metadata": {
  "kernelspec": {
   "display_name": "Python 3 (ipykernel)",
   "language": "python",
   "name": "python3"
  },
  "language_info": {
   "codemirror_mode": {
    "name": "ipython",
    "version": 3
   },
   "file_extension": ".py",
   "mimetype": "text/x-python",
   "name": "python",
   "nbconvert_exporter": "python",
   "pygments_lexer": "ipython3",
   "version": "3.11.9"
  }
 },
 "nbformat": 4,
 "nbformat_minor": 5
}
