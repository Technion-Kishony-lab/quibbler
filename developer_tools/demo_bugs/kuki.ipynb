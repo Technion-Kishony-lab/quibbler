{
 "cells": [
  {
   "cell_type": "code",
   "execution_count": 1,
   "metadata": {
    "collapsed": true
   },
   "outputs": [
    {
     "name": "stdout",
     "output_type": "stream",
     "text": [
      "<traitlets.traitlets.Instance object at 0x118043a60> <matplotlib_inline.config.InlineBackend object at 0x118043af0> <ipykernel.zmqshell.ZMQInteractiveShell object at 0x1089aa230>\n",
      "<traitlets.traitlets.Any object at 0x108058850> <ipykernel.ipkernel.IPythonKernel object at 0x1089a9d50> <function loop_tk at 0x108969bd0>\n",
      "<traitlets.traitlets.Bool object at 0x107557310> <ipykernel.zmqshell.ZMQInteractiveShell object at 0x1089aa230> True\n",
      "<traitlets.traitlets.Instance object at 0x107557340> <ipykernel.zmqshell.ZMQInteractiveShell object at 0x1089aa230> <ExecutionResult object at 108a21270, execution_count=1 error_before_exec=None error_in_exec=None info=<ExecutionInfo object at 108a21450, raw_cell=\"from pyquibbler import iquib, initialize_quibbler\n",
      "..\" store_history=True silent=False shell_futures=True cell_id=None> result=None>\n",
      "<traitlets.traitlets.Instance object at 0x1074e62f0> <ipykernel.displayhook.ZMQShellDisplayHook object at 0x1089abf70> None\n",
      "<traitlets.traitlets.Int object at 0x107556bf0> <ipykernel.zmqshell.ZMQInteractiveShell object at 0x1089aa230> 2\n",
      "<traitlets.traitlets.List object at 0x107554f10> <IPython.core.payload.PayloadManager object at 0x1089e4790> []\n",
      "<traitlets.traitlets.Int object at 0x106fb9480> <jupyter_client.session.Session object at 0x108967d60> 87196\n"
     ]
    }
   ],
   "source": [
    "from pyquibbler import iquib, initialize_quibbler\n",
    "initialize_quibbler()\n",
    "import ipywidgets\n",
    "import matplotlib.pyplot as plt\n",
    "%matplotlib tk"
   ]
  },
  {
   "cell_type": "code",
   "execution_count": 5,
   "outputs": [
    {
     "data": {
      "text/plain": "<Figure size 640x480 with 0 Axes>"
     },
     "execution_count": 5,
     "metadata": {},
     "output_type": "execute_result"
    }
   ],
   "source": [
    "plt.figure()"
   ],
   "metadata": {
    "collapsed": false,
    "pycharm": {
     "name": "#%%\n"
    }
   }
  },
  {
   "cell_type": "code",
   "execution_count": 2,
   "outputs": [
    {
     "name": "stdout",
     "output_type": "stream",
     "text": [
      "<traitlets.traitlets.Int object at 0x106fb9480> <jupyter_client.session.Session object at 0x108967d60> 87196\n",
      "<traitlets.traitlets.Any object at 0x1089661d0> <ipykernel.zmqshell.ZMQInteractiveShell object at 0x1089aa230> {'header': {'msg_id': 'f2bac4df-de6e-47b1-ac71-0d711d950871', 'username': 'username', 'session': 'd1f24c4a-b582-4fd7-a4fb-8c2fd19c6f51', 'date': None, 'msg_type': 'execute_request', 'version': '5.1'}, 'msg_id': 'f2bac4df-de6e-47b1-ac71-0d711d950871', 'msg_type': 'execute_request', 'parent_header': {}, 'metadata': {}, 'content': {'code': \"# pydev_util_command\\nimport sys\\nif '/Applications/PyCharm.app/Contents/plugins/python/helpers/pydev' not in sys.path:\\n    sys.path.insert(0, '/Applications/PyCharm.app/Contents/plugins/python/helpers/pydev')\\n    sys.path.insert(0, '/Applications/PyCharm.app/Contents/plugins/python/helpers-pro/jupyter_debug')\\nfrom pydev_jupyter_utils import remove_imported_pydev_package\\nremove_imported_pydev_package()\\nimport pydev_jupyter_utils\\npydev_jupyter_utils.attach_to_debugger(52776)\\n\", 'silent': True, 'store_history': False, 'user_expressions': {}, 'allow_stdin': True}, 'buffers': []}\n",
      "<traitlets.traitlets.Dict object at 0x108965ff0> <ipykernel.displayhook.ZMQShellDisplayHook object at 0x1089abf70> {'msg_id': 'f2bac4df-de6e-47b1-ac71-0d711d950871', 'username': 'username', 'session': 'd1f24c4a-b582-4fd7-a4fb-8c2fd19c6f51', 'date': None, 'msg_type': 'execute_request', 'version': '5.1'}\n",
      "<traitlets.traitlets.Dict object at 0x108965960> <ipykernel.zmqshell.ZMQDisplayPublisher object at 0x1089abfa0> {'msg_id': 'f2bac4df-de6e-47b1-ac71-0d711d950871', 'username': 'username', 'session': 'd1f24c4a-b582-4fd7-a4fb-8c2fd19c6f51', 'date': None, 'msg_type': 'execute_request', 'version': '5.1'}\n",
      "<traitlets.traitlets.Bool object at 0x1080bf0d0> <ipykernel.ipkernel.IPythonKernel object at 0x1089a9d50> True\n",
      "<traitlets.traitlets.Any object at 0x1089666b0> <ipykernel.ipkernel.IPythonKernel object at 0x1089a9d50> <built-in function input>\n",
      "<traitlets.traitlets.Instance object at 0x1074e62f0> <ipykernel.displayhook.ZMQShellDisplayHook object at 0x1089abf70> <ExecutionResult object at 11887b430, execution_count=None error_before_exec=None error_in_exec=None info=<ExecutionInfo object at 11887b580, raw_cell=\"# pydev_util_command\n",
      "import sys\n",
      "if '/Applications/..\" store_history=False silent=True shell_futures=True cell_id=None> result=None>\n",
      "<traitlets.traitlets.Int object at 0x106fb9480> <jupyter_client.session.Session object at 0x108967d60> 87196\n",
      "<traitlets.traitlets.Int object at 0x106fb9480> <jupyter_client.session.Session object at 0x108967d60> 87196\n",
      "<traitlets.traitlets.Int object at 0x106fb9480> <jupyter_client.session.Session object at 0x108967d60> 87196\n",
      "<traitlets.traitlets.Int object at 0x106fb9480> <jupyter_client.session.Session object at 0x108967d60> 87196\n",
      "<traitlets.traitlets.Int object at 0x106fb9480> <jupyter_client.session.Session object at 0x108967d60> 87196\n",
      "<traitlets.traitlets.Int object at 0x106fb9480> <jupyter_client.session.Session object at 0x108967d60> 87196\n",
      "<traitlets.traitlets.Int object at 0x106fb9480> <jupyter_client.session.Session object at 0x108967d60> 87196\n",
      "<traitlets.traitlets.Int object at 0x106fb9480> <jupyter_client.session.Session object at 0x108967d60> 87196\n",
      "<traitlets.traitlets.Int object at 0x106fb9480> <jupyter_client.session.Session object at 0x108967d60> 87196\n",
      "<traitlets.traitlets.Int object at 0x106fb9480> <jupyter_client.session.Session object at 0x108967d60> 87196\n",
      "<traitlets.traitlets.Int object at 0x106fb9480> <jupyter_client.session.Session object at 0x108967d60> 87196\n",
      "<traitlets.traitlets.Int object at 0x106fb9480> <jupyter_client.session.Session object at 0x108967d60> 87196\n",
      "<traitlets.traitlets.Int object at 0x106fb9480> <jupyter_client.session.Session object at 0x108967d60> 87196\n",
      "<traitlets.traitlets.Int object at 0x106fb9480> <jupyter_client.session.Session object at 0x108967d60> 87196\n",
      "<traitlets.traitlets.Int object at 0x106fb9480> <jupyter_client.session.Session object at 0x108967d60> 87196\n",
      "<traitlets.traitlets.Int object at 0x106fb9480> <jupyter_client.session.Session object at 0x108967d60> 87196\n",
      "<traitlets.traitlets.Int object at 0x106fb9480> <jupyter_client.session.Session object at 0x108967d60> 87196\n",
      "<traitlets.traitlets.Int object at 0x106fb9480> <jupyter_client.session.Session object at 0x108967d60> 87196\n",
      "<traitlets.traitlets.Int object at 0x106fb9480> <jupyter_client.session.Session object at 0x108967d60> 87196\n",
      "<traitlets.traitlets.Int object at 0x106fb9480> <jupyter_client.session.Session object at 0x108967d60> 87196\n",
      "<traitlets.traitlets.Int object at 0x106fb9480> <jupyter_client.session.Session object at 0x108967d60> 87196\n",
      "<traitlets.traitlets.Int object at 0x106fb9480> <jupyter_client.session.Session object at 0x108967d60> 87196\n",
      "<traitlets.traitlets.Int object at 0x106fb9480> <jupyter_client.session.Session object at 0x108967d60> 87196\n",
      "<traitlets.traitlets.Int object at 0x106fb9480> <jupyter_client.session.Session object at 0x108967d60> 87196\n",
      "<traitlets.traitlets.Int object at 0x106fb9480> <jupyter_client.session.Session object at 0x108967d60> 87196\n",
      "<traitlets.traitlets.Int object at 0x106fb9480> <jupyter_client.session.Session object at 0x108967d60> 87196\n",
      "<traitlets.traitlets.Int object at 0x106fb9480> <jupyter_client.session.Session object at 0x108967d60> 87196\n",
      "<traitlets.traitlets.Int object at 0x106fb9480> <jupyter_client.session.Session object at 0x108967d60> 87196\n",
      "<traitlets.traitlets.Int object at 0x106fb9480> <jupyter_client.session.Session object at 0x108967d60> 87196\n",
      "<traitlets.traitlets.Bool object at 0x107557310> <ipykernel.zmqshell.ZMQInteractiveShell object at 0x1089aa230> True\n",
      "<traitlets.traitlets.Instance object at 0x107557340> <ipykernel.zmqshell.ZMQInteractiveShell object at 0x1089aa230> <ExecutionResult object at 11887b430, execution_count=None error_before_exec=None error_in_exec=None info=<ExecutionInfo object at 11887b580, raw_cell=\"# pydev_util_command\n",
      "import sys\n",
      "if '/Applications/..\" store_history=False silent=True shell_futures=True cell_id=None> result=None>\n",
      "<traitlets.traitlets.Instance object at 0x1074e62f0> <ipykernel.displayhook.ZMQShellDisplayHook object at 0x1089abf70> None\n",
      "<traitlets.traitlets.List object at 0x107554f10> <IPython.core.payload.PayloadManager object at 0x1089e4790> []\n",
      "<traitlets.traitlets.Int object at 0x106fb9480> <jupyter_client.session.Session object at 0x108967d60> 87196\n"
     ]
    }
   ],
   "source": [
    "ipywidgets.IntSlider(10)"
   ],
   "metadata": {
    "collapsed": false,
    "pycharm": {
     "name": "#%%\n"
    }
   }
  },
  {
   "cell_type": "code",
   "execution_count": null,
   "outputs": [],
   "source": [],
   "metadata": {
    "collapsed": false,
    "pycharm": {
     "name": "#%%\n"
    }
   }
  }
 ],
 "metadata": {
  "kernelspec": {
   "display_name": "Python 3",
   "language": "python",
   "name": "python3"
  },
  "language_info": {
   "codemirror_mode": {
    "name": "ipython",
    "version": 2
   },
   "file_extension": ".py",
   "mimetype": "text/x-python",
   "name": "python",
   "nbconvert_exporter": "python",
   "pygments_lexer": "ipython2",
   "version": "2.7.6"
  }
 },
 "nbformat": 4,
 "nbformat_minor": 0
}