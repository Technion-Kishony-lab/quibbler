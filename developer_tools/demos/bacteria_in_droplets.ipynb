{
 "cells": [
  {
   "cell_type": "code",
   "execution_count": null,
   "id": "a13af426-ac0d-48f7-89f6-c847b35a2575",
   "metadata": {},
   "outputs": [],
   "source": [
    "xy = iquib([100, 100])\n",
    "x, y = xy\n",
    "plt.plot(x, y, marker='o', color='Orange')\n",
    "plt.title(xy)\n",
    "\n",
    "# Plot a circle around the xy-point\n",
    "radius = iquib(50)\n",
    "phi = np.linspace(0, 2 * np.pi, 30)\n",
    "x_circle = radius * np.cos(phi)\n",
    "y_circle = radius * np.sin(phi)\n",
    "plt.plot(x_circle + x, y_circle + y, color='Orange')\n",
    "\n",
    "# Create a TextBox for the radius:\n",
    "TextBox(ax=plt.axes([0.65, 0.05, 0.2, 0.05]),\n",
    "        label='radius: ', initial=radius)\n",
    "\n",
    "# Load and plot source image\n",
    "filename = iquib('bacteria_droplets.tif')\n",
    "img = plt.imread(filename)\n",
    "plt.imshow(img)\n",
    "\n",
    "# Create a new figure\n",
    "plt.figure()\n",
    "ax = plt.subplot(2, 2, 1)\n",
    "ax.set_title('Bacteria in a droplet')\n",
    "\n",
    "# Slice and plot selected region of image:\n",
    "sub_img = img[y-radius : y+radius+1, x-radius : x+radius+1, :]\n",
    "ax.imshow(sub_img)\n",
    "\n",
    "# Threshold the sub-image in each color\n",
    "thresholds = iquib([200, 200, 200])\n",
    "sub_img_binary = sub_img > np.expand_dims(thresholds, axis=(0, 1))\n",
    "ax = plt.subplot(2, 2, 3)\n",
    "ax.imshow(sub_img_binary * 1.0)\n",
    "\n",
    "# Plot RGB intensity histograms\n",
    "rgb = np.eye(3)\n",
    "bins = np.arange(2, 8, 0.25)\n",
    "min_x = iquib(2.)  # common axes limit\n",
    "for i, color in enumerate(rgb):\n",
    "    ax = plt.subplot(3, 2, (i + 1) * 2)\n",
    "    ax.set_xlim(min_x, 8)\n",
    "    log_intensity = np.log2(sub_img[:, :, i])\n",
    "    log_threshold = np.log2(thresholds[i])\n",
    "    ax.hist(np.ravel(log_intensity), bins,\n",
    "            color=color*0.5, log=True)\n",
    "    ax.hist(log_intensity[log_intensity>log_threshold], bins,\n",
    "            color=color)\n",
    "    ax.plot(log_threshold + np.array([0, 0]), ax.get_ylim(),\n",
    "            '--kd', linewidth=2)\n",
    "\n",
    "# Total area above threshold in each color\n",
    "fraction_above_threshold = np.average(sub_img_binary, (0, 1))\n",
    "plt.figure()\n",
    "plt.bar(['R', 'G', 'B'], fraction_above_threshold*100, color=rgb)\n",
    "plt.ylabel('area above threshold, %')"
   ]
  },
  {
   "cell_type": "code",
   "execution_count": null,
   "id": "3885d6d1-8c15-4a2a-9ef2-cde1085446c8",
   "metadata": {},
   "outputs": [],
   "source": [
    "dependency_graph(sub_img_binary)\n"
   ]
  }
 ],
 "metadata": {
  "kernelspec": {
   "display_name": "Python 3 (ipykernel)",
   "language": "python",
   "name": "python3"
  },
  "language_info": {
   "codemirror_mode": {
    "name": "ipython",
    "version": 3
   },
   "file_extension": ".py",
   "mimetype": "text/x-python",
   "name": "python",
   "nbconvert_exporter": "python",
   "pygments_lexer": "ipython3",
   "version": "3.10.5"
  },
  "widgets": {
   "application/vnd.jupyter.widget-state+json": {
    "state": {},
    "version_major": 2,
    "version_minor": 0
   }
  }
 },
 "nbformat": 4,
 "nbformat_minor": 5
}
