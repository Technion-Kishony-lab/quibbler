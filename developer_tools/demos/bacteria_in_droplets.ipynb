{
 "cells": [
  {
   "cell_type": "code",
   "execution_count": 2,
   "id": "0a95dcaa-4e1e-4636-ba4c-4c59cb136dd0",
   "metadata": {},
   "outputs": [
    {
     "ename": "NameError",
     "evalue": "name 'iquib' is not defined",
     "output_type": "error",
     "traceback": [
      "\u001b[0;31m---------------------------------------------------------------------------\u001b[0m",
      "\u001b[0;31mNameError\u001b[0m                                 Traceback (most recent call last)",
      "Input \u001b[0;32mIn [2]\u001b[0m, in \u001b[0;36m<cell line: 1>\u001b[0;34m()\u001b[0m\n\u001b[0;32m----> 1\u001b[0m xy \u001b[38;5;241m=\u001b[39m \u001b[43miquib\u001b[49m([\u001b[38;5;241m125\u001b[39m, \u001b[38;5;241m125\u001b[39m])\n\u001b[1;32m      2\u001b[0m x, y \u001b[38;5;241m=\u001b[39m xy\n\u001b[1;32m      3\u001b[0m plt\u001b[38;5;241m.\u001b[39mplot(x, y, marker\u001b[38;5;241m=\u001b[39m\u001b[38;5;124m'\u001b[39m\u001b[38;5;124m+\u001b[39m\u001b[38;5;124m'\u001b[39m)\n",
      "\u001b[0;31mNameError\u001b[0m: name 'iquib' is not defined"
     ]
    }
   ],
   "source": [
    "xy = iquib([125, 125])\n",
    "x, y = xy\n",
    "plt.plot(x, y, marker='+')\n",
    "plt.title(xy)\n",
    "\n",
    "# Plot a circle around the xy-point\n",
    "radius = iquib(50)\n",
    "phi = np.linspace(0, 2 * np.pi, 30)\n",
    "x_circle = radius * np.cos(phi)\n",
    "y_circle = radius * np.sin(phi)\n",
    "plt.plot(x_circle + x, y_circle + y, linewidth=3)\n",
    "\n",
    "# Create a TextBox for the radius:\n",
    "TextBox(ax=plt.axes([0.65, 0.05, 0.2, 0.05]),\n",
    "        label='radius: ', initial=radius)\n",
    "\n",
    "# Load and plot source image\n",
    "filename = iquib('bacteria_droplets.tif')\n",
    "img = plt.imread(filename)\n",
    "plt.imshow(img)\n",
    "\n",
    "# Create a new figure\n",
    "plt.figure()\n",
    "ax = plt.subplot(2, 2, 1)\n",
    "ax.set_title('Bacteria in a droplet')\n",
    "\n",
    "# Slice and plot selected region of image:\n",
    "sub_img = img[y-radius : y+radius+1, x-radius : x+radius+1, :]\n",
    "ax.imshow(sub_img)\n",
    "\n",
    "# Threshold the sub-image in each color\n",
    "thresholds = iquib([200, 200, 200])\n",
    "sub_img_binary = sub_img > np.expand_dims(thresholds, axis=(0, 1))\n",
    "ax = plt.subplot(2, 2, 3)\n",
    "ax.imshow(sub_img_binary * 1.0)\n",
    "\n",
    "# Plot RGB intensity histograms\n",
    "rgb = np.eye(3)\n",
    "bins = np.arange(2, 8, 0.25)\n",
    "min_x = iquib(2.)  # Common axes limit\n",
    "for i, color in enumerate(rgb):\n",
    "    ax = plt.subplot(3, 2, (i + 1) * 2)\n",
    "    ax.set_xlim(min_x, 8)\n",
    "    log_intensity = np.log2(sub_img[:, :, i])\n",
    "    log_threshold = np.log2(thresholds[i])\n",
    "    ax.hist(log_intensity.flatted(), bins, color=color*0.5, log=True)\n",
    "    ax.hist(log_intensity[log_intensity>log_threshold], bins, color)\n",
    "    ax.plot(log_threshold + np.array([0, 0]), ax.get_ylim(),\n",
    "            '--kd', linewidth=2)\n",
    "\n",
    "# Total area above threshold in each color\n",
    "fraction_above_threshold = np.average(sub_img_binary, (0, 1))\n",
    "plt.figure()\n",
    "plt.bar(['R', 'G', 'B'], fraction_above_threshold*100, color=rgb)\n",
    "plt.ylabel('area above threshold, %')\n",
    "\n",
    "from pyquibbler.quib_network import dependency_graph\n",
    "dependency_graph(fraction_above_threshold)"
   ]
  },
  {
   "cell_type": "code",
   "execution_count": null,
   "id": "5a182ef5-a740-4577-a717-03bde139522d",
   "metadata": {},
   "outputs": [],
   "source": []
  }
 ],
 "metadata": {
  "kernelspec": {
   "display_name": "Python 3 (ipykernel)",
   "language": "python",
   "name": "python3"
  },
  "language_info": {
   "codemirror_mode": {
    "name": "ipython",
    "version": 3
   },
   "file_extension": ".py",
   "mimetype": "text/x-python",
   "name": "python",
   "nbconvert_exporter": "python",
   "pygments_lexer": "ipython3",
   "version": "3.10.5"
  },
  "widgets": {
   "application/vnd.jupyter.widget-state+json": {
    "state": {},
    "version_major": 2,
    "version_minor": 0
   }
  }
 },
 "nbformat": 4,
 "nbformat_minor": 5
}
