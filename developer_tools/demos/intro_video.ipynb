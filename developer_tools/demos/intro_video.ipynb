{
 "cells": [
  {
   "cell_type": "code",
   "execution_count": 1,
   "id": "896dffba-bc14-437c-ab82-0015c56c44b3",
   "metadata": {
    "tags": []
   },
   "outputs": [],
   "source": [
    "from pyquibbler import iquib, initialize_quibbler, quiby\n",
    "initialize_quibbler()\n",
    "import matplotlib.pyplot as plt\n",
    "import numpy as np\n",
    "from matplotlib.widgets import TextBox\n",
    "\n",
    "%matplotlib osx"
   ]
  },
  {
   "cell_type": "code",
   "execution_count": 2,
   "id": "7a75cf24-eaf0-453b-b8d4-eca138e61b3c",
   "metadata": {},
   "outputs": [],
   "source": [
    "import imageio\n",
    "filename = 'bacteria_in_droplets.tif'\n",
    "img = plt.imread(filename)\n",
    "plt.figure()\n",
    "im = img[0:250, 150:400, :]\n",
    "im = np.swapaxes(im, 0, 1)\n",
    "plt.imshow(im)\n",
    "imageio.imsave('bacteria_droplets.tif', im) "
   ]
  },
  {
   "cell_type": "code",
   "execution_count": 2,
   "id": "381a759b-b9cf-4ecf-bed7-69b307c26802",
   "metadata": {},
   "outputs": [],
   "source": [
    "plt.figure(9, figsize=(0.3, 8.7))\n",
    "plt.figure(8, figsize=(12, 0.3));\n",
    "# width of Camtasia window: 4656"
   ]
  },
  {
   "cell_type": "code",
   "execution_count": 3,
   "id": "c596f2fd-32bc-4d31-8fb3-2de29c89895f",
   "metadata": {},
   "outputs": [],
   "source": [
    "# Prepare figure\n",
    "fig0 = plt.figure(0, figsize=(3.6, 4.09))\n",
    "plt.clf()\n",
    "plt.axes([0.15, 0.2, 0.7, 0.6])\n",
    "plt.axis('square')\n",
    "plt.axis([0, 250, 0, 250]);\n",
    "ax = plt.gca()"
   ]
  },
  {
   "cell_type": "code",
   "execution_count": 4,
   "id": "7c770435-6bb3-4572-908b-0d5f71d78c2c",
   "metadata": {},
   "outputs": [],
   "source": [
    "# Plot a \"live\" marker and text at defined xy-coordinates:\n",
    "xy = iquib([125, 125])\n",
    "x, y = xy\n",
    "plt.plot(x, y, marker='+', color='Orange', markersize=18, markeredgewidth=4)\n",
    "plt.title(xy);"
   ]
  },
  {
   "cell_type": "code",
   "execution_count": 6,
   "id": "27c229e0-8900-4725-a128-c51715274730",
   "metadata": {},
   "outputs": [],
   "source": [
    "x.assign(156)\n",
    "y.assign(139)"
   ]
  },
  {
   "cell_type": "code",
   "execution_count": 5,
   "id": "2ffa454a-673e-4c8c-8563-7b3e4944ee77",
   "metadata": {},
   "outputs": [],
   "source": [
    "# Plot a circle around the xy-point\n",
    "radius = iquib(80)\n",
    "phi = np.linspace(0, 2*np.pi, 30)\n",
    "x_circle = radius * np.cos(phi)\n",
    "y_circle = radius * np.sin(phi)\n",
    "plt.plot(x_circle + x, y_circle + y, color='Orange', linewidth=3);"
   ]
  },
  {
   "cell_type": "code",
   "execution_count": 8,
   "id": "53f0d074-d78c-41ac-9415-e76d343698e8",
   "metadata": {},
   "outputs": [],
   "source": [
    "x.assign(124)\n",
    "y.assign(124)\n",
    "radius.assign(90)"
   ]
  },
  {
   "cell_type": "code",
   "execution_count": 6,
   "id": "98bd2dcd-8e0a-4a1b-bb7d-121778435c2d",
   "metadata": {},
   "outputs": [],
   "source": [
    "# Create a TextBox for the radius:\n",
    "TextBox(ax=plt.axes([0.65, 0.05, 0.2, 0.05]), label='radius: ', initial=radius);"
   ]
  },
  {
   "cell_type": "code",
   "execution_count": 10,
   "id": "377769ec-787d-4250-a0c2-7911c9b18dbe",
   "metadata": {},
   "outputs": [],
   "source": [
    "radius.assign(70)"
   ]
  },
  {
   "cell_type": "code",
   "execution_count": 7,
   "id": "43d61223-6b3b-4057-aef0-c1110ea35071",
   "metadata": {},
   "outputs": [],
   "source": [
    "plt.axes(ax);"
   ]
  },
  {
   "cell_type": "code",
   "execution_count": 8,
   "id": "225cf7c6-7ace-42c2-8be4-3d9fd4657076",
   "metadata": {},
   "outputs": [],
   "source": [
    "# Load and plot source image\n",
    "filename = iquib('bacteria_droplets.tif')\n",
    "img = plt.imread(filename)\n",
    "plt.imshow(img);"
   ]
  },
  {
   "cell_type": "code",
   "execution_count": 9,
   "id": "a1c54379-a8f5-43cb-af63-662fb17a16c1",
   "metadata": {},
   "outputs": [],
   "source": [
    "# Create a new figure\n",
    "plt.figure(1, figsize=(7, 7))\n",
    "plt.clf()\n",
    "ax = plt.subplot(2, 2, 1)\n",
    "ax.set_title('Bacteria in a droplet');"
   ]
  },
  {
   "cell_type": "code",
   "execution_count": 10,
   "id": "de5761d3-d855-4f64-85b7-546a4e967ba1",
   "metadata": {},
   "outputs": [],
   "source": [
    "# Slice and plot selected region of image:\n",
    "sub_img = img[y-radius : y+radius+1, x-radius : x+radius+1, :]\n",
    "ax.imshow(sub_img, origin='lower')\n",
    "ax.xaxis.set_visible(False)\n",
    "ax.yaxis.set_visible(False)"
   ]
  },
  {
   "cell_type": "code",
   "execution_count": 15,
   "id": "48dcfc17-67ac-450b-b8db-731e3fe0c0aa",
   "metadata": {},
   "outputs": [],
   "source": [
    "radius.assign(36)\n",
    "x.assign(157)\n",
    "y.assign(41)"
   ]
  },
  {
   "cell_type": "code",
   "execution_count": 11,
   "id": "75c28189-cb91-4dd7-8052-f86a4b0e3573",
   "metadata": {},
   "outputs": [],
   "source": [
    "# Threshold the sub-image in each color\n",
    "thresholds = iquib([200, 200, 200])\n",
    "sub_img_binary = sub_img > np.expand_dims(thresholds, axis=(0, 1))\n",
    "ax = plt.subplot(2, 2, 3)\n",
    "ax.imshow(sub_img_binary * 1.0, origin='lower');\n",
    "ax.xaxis.set_visible(False)\n",
    "ax.yaxis.set_visible(False)"
   ]
  },
  {
   "cell_type": "code",
   "execution_count": 17,
   "id": "8acb85e6-de6f-405e-aea5-80c230cb1f73",
   "metadata": {},
   "outputs": [],
   "source": [
    "radius.assign(49)\n",
    "x.assign(138)\n",
    "y.assign(163)"
   ]
  },
  {
   "cell_type": "code",
   "execution_count": 12,
   "id": "c6d674b1-bc1b-44df-8a32-b5aa762a679a",
   "metadata": {},
   "outputs": [],
   "source": [
    "# Plot RGB intensity histograms\n",
    "rgb = np.eye(3)\n",
    "bins = np.arange(2, 8, 0.25)\n",
    "min_x = iquib(2.)\n",
    "ylim = iquib((0.5, 1000), allow_overriding=False)\n",
    "for i, color in enumerate(rgb):\n",
    "    ax = plt.subplot(3, 2, (i + 1) * 2)\n",
    "    ax.set_xlim(min_x, 8)\n",
    "    ax.set_ylim(ylim)\n",
    "    log_intensity = np.log2(sub_img[:, :, i])\n",
    "    log_threshold = np.log2(thresholds[i])\n",
    "    ax.hist(log_intensity.flatten(), bins, color=color*0.5, log=True)\n",
    "    ax.hist(log_intensity[log_intensity>log_threshold], bins, color=color)\n",
    "    ax.plot(log_threshold + np.array([0, 0]), ax.get_ylim(), '--kd', linewidth=2)"
   ]
  },
  {
   "cell_type": "code",
   "execution_count": 13,
   "id": "ec5167dd-94bf-4e25-8df1-a3e5895e34a4",
   "metadata": {},
   "outputs": [],
   "source": [
    "# Total area above threshold in each color\n",
    "fig2 = plt.figure(2, figsize=(3.6, 2.32))\n",
    "plt.clf()\n",
    "plt.axes([0.25, 0.15, 0.6, 0.7])\n",
    "fraction_above_threshold = np.average(sub_img_binary, (0, 1)) \n",
    "plt.bar(['R', 'G', 'B'], fraction_above_threshold*100, color=rgb)\n",
    "plt.axis([-0.5, 2.5, 0, 1.5])\n",
    "plt.ylabel('area above threshold, %');"
   ]
  },
  {
   "cell_type": "code",
   "execution_count": null,
   "id": "8a04560c-18bd-4e95-bb91-93034e024b85",
   "metadata": {},
   "outputs": [],
   "source": [
    "thresholds.get_value()"
   ]
  },
  {
   "cell_type": "code",
   "execution_count": null,
   "id": "584a5ce6-ec42-4775-ad3c-2a10522548ce",
   "metadata": {},
   "outputs": [],
   "source": [
    "thresholds.get_value()"
   ]
  },
  {
   "cell_type": "code",
   "execution_count": null,
   "id": "31cb76b4-5b0e-4554-92a7-1ab90871482d",
   "metadata": {},
   "outputs": [],
   "source": [
    "thresholds[2] = 161"
   ]
  },
  {
   "cell_type": "code",
   "execution_count": null,
   "id": "2931058b-b609-44b3-99e5-c6d7915b4777",
   "metadata": {},
   "outputs": [],
   "source": [
    "min_x.get_value()"
   ]
  },
  {
   "cell_type": "code",
   "execution_count": null,
   "id": "6055a1d8-714f-492e-8f79-7131fb67fee4",
   "metadata": {},
   "outputs": [],
   "source": [
    "min_x.assign(4.72)"
   ]
  },
  {
   "cell_type": "code",
   "execution_count": null,
   "id": "edc3e879-d2f1-4120-9ce5-eb7501dd27f2",
   "metadata": {},
   "outputs": [],
   "source": [
    "from pyquibbler import undo"
   ]
  },
  {
   "cell_type": "code",
   "execution_count": null,
   "id": "464ca300-2eba-4add-add9-ce1048a34d30",
   "metadata": {},
   "outputs": [],
   "source": []
  },
  {
   "cell_type": "code",
   "execution_count": null,
   "id": "db5b34f8-3496-4105-9b59-cbe0a13aafd3",
   "metadata": {},
   "outputs": [],
   "source": [
    "from pyquibbler.quib_network import dependency_graph\n",
    "dependency_graph(fraction_above_threshold)"
   ]
  },
  {
   "cell_type": "code",
   "execution_count": null,
   "id": "44933024-f8ef-4ccd-8975-0703d1c1afab",
   "metadata": {},
   "outputs": [],
   "source": [
    "thresholds"
   ]
  },
  {
   "cell_type": "code",
   "execution_count": null,
   "id": "4489bfc6-10a9-413f-89fa-0aba5ff01877",
   "metadata": {},
   "outputs": [],
   "source": [
    "min_x.assign(2.)"
   ]
  },
  {
   "cell_type": "code",
   "execution_count": null,
   "id": "e8df2908-a939-42d3-ad4a-03e4b9206458",
   "metadata": {},
   "outputs": [],
   "source": []
  }
 ],
 "metadata": {
  "kernelspec": {
   "display_name": "Python 3 (ipykernel)",
   "language": "python",
   "name": "python3"
  },
  "language_info": {
   "codemirror_mode": {
    "name": "ipython",
    "version": 3
   },
   "file_extension": ".py",
   "mimetype": "text/x-python",
   "name": "python",
   "nbconvert_exporter": "python",
   "pygments_lexer": "ipython3",
   "version": "3.10.5"
  },
  "quibs_archive": "UEsDBBQAAAAIAGizbVVvl2mXEQAAAA8AAAAKAAAAcmFkaXVzLnR4dCsszUzSSywuzkzP0zAx1gQAUEsDBBQAAAAIAGizbVW6DnvBFgAAABkAAAAGAAAAeHkudHh0KyzNTIo2iFWwVbAw5CoEcQxBHEtDAFBLAwQUAAAACABos21V6W/ewB0AAAAoAAAADgAAAHRocmVzaG9sZHMudHh0KyzNTIo2iFWwVTA0MuMqBPEMITwDCM8IxLOwAABQSwECFAMUAAAACABos21Vb5dplxEAAAAPAAAACgAAAAAAAAAAAAAApIEAAAAAcmFkaXVzLnR4dFBLAQIUAxQAAAAIAGizbVW6DnvBFgAAABkAAAAGAAAAAAAAAAAAAACkgTkAAAB4eS50eHRQSwECFAMUAAAACABos21V6W/ewB0AAAAoAAAADgAAAAAAAAAAAAAApIFzAAAAdGhyZXNob2xkcy50eHRQSwUGAAAAAAMAAwCoAAAAvAAAAAAA",
  "widgets": {
   "application/vnd.jupyter.widget-state+json": {
    "state": {},
    "version_major": 2,
    "version_minor": 0
   }
  }
 },
 "nbformat": 4,
 "nbformat_minor": 5
}
