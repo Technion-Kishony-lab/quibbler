{
 "cells": [
  {
   "cell_type": "markdown",
   "id": "ae765841-6760-4dfa-bfdf-f5281505f3db",
   "metadata": {},
   "source": [
    "**Design principle**\n",
    "\n",
    "- Ultrasensitive negative feedback can generate periodic oscillations in cells.\n",
    "- Oscillator phase can be used as a growth timer.\n",
    "\n",
    "**Techniques**\n",
    "\n",
    "- Composition of functions\n",
    "- Linear stability analysis\n",
    "- Linear stability diagrams\n",
    "- Numerical calculation of a scalar fixed point\n",
    "- Synthetic biology\n",
    "\n",
    "**References**\n",
    "\n",
    "- [Elowitz & Leibler, A synthetic oscillatory network of transcriptional regulators, *Nature*, 2000](https://doi.org/10.1038/35002125)\n",
    "- [Synchronous long-term oscillations in a synthetic gene circuit, *Nature*, 2016](https://doi.org/10.1038/nature19841) \n",
    "\n",
    "<hr>"
   ]
  },
  {
   "cell_type": "code",
   "execution_count": 1,
   "id": "02246c57-2eaf-4081-8b9d-8c8c8f420492",
   "metadata": {},
   "outputs": [],
   "source": [
    "from pyquibbler import iquib, override_all, q, quiby\n",
    "override_all()\n",
    "import matplotlib.pyplot as plt\n",
    "import numpy as np\n",
    "%matplotlib tk"
   ]
  },
  {
   "cell_type": "code",
   "execution_count": 2,
   "id": "aec1c622-adce-4e67-8f6a-de42719e5b3a",
   "metadata": {},
   "outputs": [],
   "source": [
    "import scipy.integrate\n",
    "import scipy.optimize"
   ]
  },
  {
   "cell_type": "code",
   "execution_count": 3,
   "id": "a322b5bc-aec9-4703-a418-08736e9b2eb4",
   "metadata": {},
   "outputs": [],
   "source": [
    "from matplotlib.widgets import Slider"
   ]
  },
  {
   "cell_type": "code",
   "execution_count": 4,
   "id": "8168f4a1-5dad-4a73-b019-75bcef66eedb",
   "metadata": {},
   "outputs": [],
   "source": [
    "beta_slider = iquib(1.)\n",
    "gamma_slider = iquib(0.)\n",
    "rho_slider = iquib(-3.)\n",
    "n_slider = iquib(3.)\n",
    "\n",
    "def repressilator_rhs(mx, t, beta, gamma, rho, n):\n",
    "    \"\"\"\n",
    "    Returns 6-array of (dm_1/dt, dm_2/dt, dm_3/dt, dx_1/dt, dx_2/dt, dx_3/dt)\n",
    "    \"\"\"\n",
    "    m_1, m_2, m_3, x_1, x_2, x_3 = mx\n",
    "    return np.array(\n",
    "        [\n",
    "            beta * (rho + 1 / (1 + x_3 ** n)) - m_1,\n",
    "            beta * (rho + 1 / (1 + x_1 ** n)) - m_2,\n",
    "            beta * (rho + 1 / (1 + x_2 ** n)) - m_3,\n",
    "            gamma * (m_1 - x_1),\n",
    "            gamma * (m_2 - x_2),\n",
    "            gamma * (m_3 - x_3),\n",
    "        ]\n",
    "    )\n",
    "\n",
    "\n",
    "# Initial condiations\n",
    "x0 = iquib(np.array([0, 0, 0, 1., 1.5, 2.2]))\n",
    "\n",
    "# Number of points to use in plots\n",
    "n_points = 1000\n",
    "\n",
    "\n",
    "# Solve for species concentrations\n",
    "@quiby\n",
    "def _solve_repressilator(log_beta, log_gamma, log_rho, n, t_max, x_init):\n",
    "    beta = 10 ** log_beta\n",
    "    gamma = 10 ** log_gamma\n",
    "    rho = 10 ** log_rho\n",
    "    t = np.linspace(0, t_max, n_points)\n",
    "    x = scipy.integrate.odeint(repressilator_rhs, x_init, t, args=(beta, gamma, rho, n))\n",
    "    m1, m2, m3, x1, x2, x3 = x.transpose()\n",
    "    return t, m1, m2, m3, x1, x2, x3\n",
    "\n",
    "\n",
    "t, m1, m2, m3, x1, x2, x3 = _solve_repressilator(\n",
    "    beta_slider,\n",
    "    gamma_slider,\n",
    "    rho_slider,\n",
    "    n_slider,\n",
    "    40.0,\n",
    "    x0,\n",
    ").iter_first()\n",
    "\n",
    "plt.figure(1)\n",
    "plt.clf()\n",
    "plt.plot(t, x1, 'r', t, x2, 'g', t, x3, 'b');\n",
    "\n",
    "plt.plot(0, x0[3], 'ro')\n",
    "plt.plot(0, x0[4], 'go')\n",
    "plt.plot(0, x0[5], 'bo');"
   ]
  },
  {
   "cell_type": "code",
   "execution_count": 7,
   "id": "f49d9575-b14c-4943-8898-b8bdcb2f0ba1",
   "metadata": {},
   "outputs": [],
   "source": [
    "plt.figure(figsize=(6, 2))\n",
    "Slider(ax=plt.subplot(4, 1, 1), valmin=0,  valmax=3, valinit=beta_slider, label='beta')\n",
    "Slider(ax=plt.subplot(4, 1, 2), valmin=0,  valmax=2, valinit=gamma_slider, label='gamma')\n",
    "Slider(ax=plt.subplot(4, 1, 3), valmin=-5, valmax=0, valinit=rho_slider, label='rho')\n",
    "Slider(ax=plt.subplot(4, 1, 4), valmin=0,  valmax=5, valinit=n_slider, label='n_slider');"
   ]
  }
 ],
 "metadata": {
  "kernelspec": {
   "display_name": "Python 3 (ipykernel)",
   "language": "python",
   "name": "python3"
  },
  "language_info": {
   "codemirror_mode": {
    "name": "ipython",
    "version": 3
   },
   "file_extension": ".py",
   "mimetype": "text/x-python",
   "name": "python",
   "nbconvert_exporter": "python",
   "pygments_lexer": "ipython3",
   "version": "3.10.4"
  },
  "quibs_archive": "UEsDBBQAAAAIAAUQ21QQeG+vIQAAAB8AAAAOAAAAcmhvX3NsaWRlci50eHQrLM1M0kssLs5Mz9PQNdYzM7E0tDQ2NbEwtjA3sDTXBABQSwMEFAAAAAgAWxDbVPMxwdclAAAAOQAAAAYAAAB4MC50eHQrLM1MijaOVbBVMNCzMDUzNDI3MjAwMjMxNDG34CoESZpglwQAUEsDBBQAAAAIACsQ21RQAwISIQAAAB8AAAAMAAAAbl9zbGlkZXIudHh0KyzNTNJLLC7OTM/TMNSzMDIxtTQzNzcxtDQ2NbEw1gQAUEsDBBQAAAAIABkQ21Q+C0qnIQAAAB8AAAAPAAAAYmV0YV9zbGlkZXIudHh0KyzNTNJLLC7OTM/TMNIzMjMysDQzNzcxtDQ2NbEw1QQAUEsDBBQAAAAIABoQ21SCDTEaFwAAAB8AAAAQAAAAZ2FtbWFfc2xpZGVyLnR4dCsszUzSSywuzkzP0zDUMzUyNUACJpoAUEsBAhQDFAAAAAgABRDbVBB4b68hAAAAHwAAAA4AAAAAAAAAAAAAAKSBAAAAAHJob19zbGlkZXIudHh0UEsBAhQDFAAAAAgAWxDbVPMxwdclAAAAOQAAAAYAAAAAAAAAAAAAAKSBTQAAAHgwLnR4dFBLAQIUAxQAAAAIACsQ21RQAwISIQAAAB8AAAAMAAAAAAAAAAAAAACkgZYAAABuX3NsaWRlci50eHRQSwECFAMUAAAACAAZENtUPgtKpyEAAAAfAAAADwAAAAAAAAAAAAAApIHhAAAAYmV0YV9zbGlkZXIudHh0UEsBAhQDFAAAAAgAGhDbVIINMRoXAAAAHwAAABAAAAAAAAAAAAAAAKSBLwEAAGdhbW1hX3NsaWRlci50eHRQSwUGAAAAAAUABQAlAQAAdAEAAAAA"
 },
 "nbformat": 4,
 "nbformat_minor": 5
}
