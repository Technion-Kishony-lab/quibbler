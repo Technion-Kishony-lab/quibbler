{
 "cells": [
  {
   "cell_type": "code",
   "execution_count": 1,
   "id": "6e33d56c-19df-4057-8384-5083d1b9923b",
   "metadata": {
    "tags": []
   },
   "outputs": [],
   "source": [
    "from pyquibbler import iquib, initialize_quibbler\n",
    "initialize_quibbler()\n",
    "\n",
    "import numpy as np\n",
    "import matplotlib.pyplot as plt\n",
    "from matplotlib.widgets import Slider\n",
    "from functools import partial\n",
    "%matplotlib osx"
   ]
  },
  {
   "cell_type": "code",
   "execution_count": 2,
   "id": "c722228d-676e-4efb-aee3-2101cc9b3863",
   "metadata": {},
   "outputs": [],
   "source": [
    "# from colonycounter.image_processing_functions import search_for_blobs\n",
    "# from colonycounter.plotting_functions import plot_circles"
   ]
  },
  {
   "cell_type": "code",
   "execution_count": 3,
   "id": "e4cbf497-cc13-4160-8bd3-682826ad53c2",
   "metadata": {},
   "outputs": [],
   "source": [
    "@partial(np.vectorize, signature='(),(m,n),()->()', otypes=[type(None)], is_graphics=True)\n",
    "def show_image(ax, image, label=None):\n",
    "    ax.imshow(image)\n",
    "    if label is not None:\n",
    "        ax.text(0.05, 0.95, label, color='w', ha='left', va='top', transform=ax.transAxes)"
   ]
  },
  {
   "cell_type": "code",
   "execution_count": 4,
   "id": "20fae3c9-c78e-4c6e-a6e2-65dbbe664c12",
   "metadata": {},
   "outputs": [],
   "source": [
    "@partial(np.vectorize, otypes=[type(None)], is_graphics=True)\n",
    "def plot_circles(ax, circle_list, args={\"color\": \"white\", \"linewidth\": 1, \"alpha\": 0.5} , is_graphics=True):\n",
    "    for blob in circle_list:\n",
    "        y, x, r = blob\n",
    "        c = plt.Circle((x, y), r, **args, fill=False)\n",
    "        ax.add_patch(c)"
   ]
  },
  {
   "cell_type": "code",
   "execution_count": 5,
   "id": "866086e2-2237-4a20-a5fe-edc506473e5c",
   "metadata": {},
   "outputs": [],
   "source": [
    "from skimage.feature import blob_log\n",
    "\n",
    "@partial(np.vectorize, signature='(m,n),(),()->()', otypes=[object])\n",
    "def find_colonies(image, params, label=None):\n",
    "    if label is not None:\n",
    "        print(f\"processing image: {label}\")\n",
    "    blobs_log = blob_log(image, \n",
    "                         max_sigma=params['max_sigma'], \n",
    "                         min_sigma=params['min_sigma'],\n",
    "                         num_sigma=params['num_sigma'],\n",
    "                         overlap=params['overlap'],\n",
    "                         threshold=params['threshold'], \n",
    "                         log_scale=True)\n",
    "    blobs_log[:, 2] = blobs_log[:, 2] * np.sqrt(2)\n",
    "    return blobs_log"
   ]
  },
  {
   "cell_type": "code",
   "execution_count": 6,
   "id": "4b8f8317-0442-490d-86e6-6087938fb7f8",
   "metadata": {},
   "outputs": [],
   "source": [
    "# Prepare images\n",
    "num_rows = 4\n",
    "num_cols = 6\n",
    "num_images = num_rows * num_cols\n",
    "\n",
    "image = plt.imread('colonies1.png')\n",
    "images = np.tile(image[:, :, 1], (num_images, 1, 1))"
   ]
  },
  {
   "cell_type": "code",
   "execution_count": 7,
   "id": "2229168f-1f11-4d9b-bf29-f424769a362f",
   "metadata": {},
   "outputs": [],
   "source": [
    "# Image labels\n",
    "labels = np.arange(1, num_images)"
   ]
  },
  {
   "cell_type": "code",
   "execution_count": 8,
   "id": "a6bf6d8c-2e43-4b62-b5ca-19399458bbfb",
   "metadata": {},
   "outputs": [],
   "source": [
    "# Colony-finding parameters\n",
    "default_params = iquib({\n",
    "    'min_sigma': 3,\n",
    "    'max_sigma': 15,\n",
    "    'num_sigma': 10,\n",
    "    'overlap': 0.5,\n",
    "    'threshold': 0.02})\n",
    "\n",
    "default_params.allow_overriding = False\n",
    "\n",
    "per_image_params = np.tile(default_params, num_images).setp(allow_overriding=True)"
   ]
  },
  {
   "cell_type": "code",
   "execution_count": 9,
   "id": "ab5f2820-7c79-40c3-a803-e2a5f5e51f5f",
   "metadata": {},
   "outputs": [],
   "source": [
    "# Show parameters\n",
    "def show_parameters(params, label=None):\n",
    "    fig = plt.figure(figsize=(4, 2.5))\n",
    "    gs = fig.add_gridspec(5, hspace=0.7, left=0.3)\n",
    "    axs_sliders = gs.subplots()\n",
    "    sliders_values = (\n",
    "        ('min_sigma', 0, 30),\n",
    "        ('max_sigma', 0, 30),\n",
    "        ('num_sigma', 0, 30),\n",
    "        ('overlap', 0, 1),\n",
    "        ('threshold', 0, 1),\n",
    "    )\n",
    "    for num_slider, (name, valmin, valmax) in enumerate(sliders_values):\n",
    "        Slider(ax=axs_sliders[num_slider], valmin=valmin, valmax=valmax, \n",
    "               valinit=params[name], label=name)\n",
    "    if label is not None:\n",
    "        axs_sliders[0].set_title(f'Parameters for image: {label}')\n",
    "        "
   ]
  },
  {
   "cell_type": "code",
   "execution_count": 9,
   "id": "9a7c6757-ee08-447e-b3cc-394bcf15369c",
   "metadata": {},
   "outputs": [],
   "source": [
    "def show_parameters_by_index(index: int):\n",
    "    show_parameters(per_image_params[index], labels[index])"
   ]
  },
  {
   "cell_type": "code",
   "execution_count": 18,
   "id": "5434a33f-c8a1-4245-be35-46f5fbdd0457",
   "metadata": {},
   "outputs": [],
   "source": [
    "# Prepare array of axes\n",
    "fig = plt.figure(figsize=(8, 6))\n",
    "gs = fig.add_gridspec(4, 6, hspace=0, wspace=0)\n",
    "axs = gs.subplots()\n",
    "axs = axs.ravel()\n",
    "for ax in axs:\n",
    "    ax.set_xticks([])\n",
    "    ax.set_yticks([])"
   ]
  },
  {
   "cell_type": "code",
   "execution_count": 11,
   "id": "54de8ee8-5cc5-4fad-b4be-a0f431423b04",
   "metadata": {},
   "outputs": [],
   "source": [
    "# Run find_colonies on all images\n",
    "colonies = find_colonies(images, per_image_params, axs)"
   ]
  },
  {
   "cell_type": "code",
   "execution_count": 12,
   "id": "686cb8cc-dec8-41af-8002-f2d9ce580379",
   "metadata": {},
   "outputs": [],
   "source": [
    "show_parameters_by_index(0)"
   ]
  },
  {
   "cell_type": "code",
   "execution_count": 13,
   "id": "b2099132-d410-4233-989a-60656925689d",
   "metadata": {},
   "outputs": [
    {
     "data": {
      "text/plain": [
       "array(None, dtype=object)"
      ]
     },
     "execution_count": 13,
     "metadata": {},
     "output_type": "execute_result"
    }
   ],
   "source": [
    "show_image(axs[3], images[3], labels[3])"
   ]
  },
  {
   "cell_type": "code",
   "execution_count": 17,
   "id": "f7e6c3a1-f387-4aa4-9504-91d194f666e0",
   "metadata": {},
   "outputs": [
    {
     "data": {
      "text/plain": [
       "np.vectorize(plot_circles)(array([<AxesSubplot:>], dtype=object), colonies[[3, 4]])"
      ]
     },
     "execution_count": 17,
     "metadata": {},
     "output_type": "execute_result"
    }
   ],
   "source": [
    "plot_circles(axs[3:4], colonies[[3,4]])"
   ]
  },
  {
   "cell_type": "code",
   "execution_count": 25,
   "id": "968ed79e-5ada-4a62-ac88-e656a89ad302",
   "metadata": {},
   "outputs": [],
   "source": [
    "plt.figure()\n",
    "ax = plt.gca()"
   ]
  },
  {
   "cell_type": "code",
   "execution_count": 26,
   "id": "faa25dcc-a780-4a5e-ab39-d3b1a5a7dd58",
   "metadata": {},
   "outputs": [
    {
     "data": {
      "text/plain": [
       "array(None, dtype=object)"
      ]
     },
     "execution_count": 26,
     "metadata": {},
     "output_type": "execute_result"
    }
   ],
   "source": [
    "show_image(ax, images[5], labels[5])"
   ]
  },
  {
   "cell_type": "code",
   "execution_count": 27,
   "id": "c76a4c1e-be6b-48d5-ad3f-0d7d548332db",
   "metadata": {},
   "outputs": [
    {
     "data": {
      "text/plain": [
       "np.vectorize(plot_circles)(<AxesSubplot:>, colonies[[5]])"
      ]
     },
     "execution_count": 27,
     "metadata": {},
     "output_type": "execute_result"
    }
   ],
   "source": [
    "plot_circles(ax, colonies[[5]])"
   ]
  },
  {
   "cell_type": "code",
   "execution_count": 28,
   "id": "1199db26-77ba-4985-8199-a91d114aa897",
   "metadata": {},
   "outputs": [],
   "source": [
    "show_parameters_by_index(5)"
   ]
  }
 ],
 "metadata": {
  "kernelspec": {
   "display_name": "Python 3 (ipykernel)",
   "language": "python",
   "name": "python3"
  },
  "language_info": {
   "codemirror_mode": {
    "name": "ipython",
    "version": 3
   },
   "file_extension": ".py",
   "mimetype": "text/x-python",
   "name": "python",
   "nbconvert_exporter": "python",
   "pygments_lexer": "ipython3",
   "version": "3.10.5"
  }
 },
 "nbformat": 4,
 "nbformat_minor": 5
}
