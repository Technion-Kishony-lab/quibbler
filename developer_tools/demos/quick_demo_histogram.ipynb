{
 "cells": [
  {
   "cell_type": "code",
   "execution_count": 13,
   "id": "41d0b4c5-19f7-4fcd-aeea-3dffe9120c25",
   "metadata": {},
   "outputs": [],
   "source": [
    "from pyquibbler import iquib, initialize_quibbler, q\n",
    "initialize_quibbler()\n",
    "import matplotlib.pyplot as plt\n",
    "import numpy as np\n",
    "%matplotlib tk"
   ]
  },
  {
   "cell_type": "code",
   "execution_count": 14,
   "id": "11171734-4f63-49fd-a3fb-28787db20a12",
   "metadata": {},
   "outputs": [],
   "source": [
    "import matplotlib as mpl    \n",
    "mpl.rcParams['lines.markersize'] = 14\n",
    "mpl.rcParams['lines.linewidth'] = 1\n",
    "mpl.rcParams['lines.markeredgewidth'] = 3\n",
    "mpl.rcParams['axes.titlesize'] = 20"
   ]
  },
  {
   "cell_type": "code",
   "execution_count": 15,
   "id": "a2cd3358-7af7-4f6a-a376-d27a7b010cb3",
   "metadata": {},
   "outputs": [],
   "source": [
    "plt.figure(1, figsize=(4.5, 2.5))\n",
    "plt.clf()\n",
    "plt.axis([0, 120, 0, 130]);"
   ]
  },
  {
   "cell_type": "code",
   "execution_count": 16,
   "id": "682b7b7b-4b3b-4f3a-acaf-02ac3079672b",
   "metadata": {},
   "outputs": [],
   "source": [
    "# Read data and plot histogram\n",
    "file = iquib('measurements.txt')\n",
    "data = np.loadtxt(file)\n",
    "x = iquib(np.arange(0, 130, 5))\n",
    "plt.hist(data, x, facecolor='g')\n",
    "\n",
    "# Identify above-threshold measurements\n",
    "threshold = iquib(80)\n",
    "is_above = data > threshold\n",
    "plt.hist(data[is_above], x, facecolor='r')\n",
    "plt.plot([threshold, threshold], plt.ylim(), 'kd:')\n",
    "\n",
    "# Plot pie chart\n",
    "plt.axes([0.6, 0.5, 0.3, 0.3])\n",
    "totals = np.array([np.sum(~is_above), np.sum(is_above)])\n",
    "plt.pie(totals, colors='rg', labels=totals);"
   ]
  },
  {
   "cell_type": "code",
   "execution_count": 17,
   "id": "ab0c0db4-32aa-466b-9dc6-ff911405e0f3",
   "metadata": {},
   "outputs": [],
   "source": [
    "from pyquibbler import dependency_graph"
   ]
  },
  {
   "cell_type": "code",
   "execution_count": 18,
   "id": "235b5555-e560-404d-bbe4-260ac4389f48",
   "metadata": {},
   "outputs": [],
   "source": [
    "dependency_graph(threshold)"
   ]
  }
 ],
 "metadata": {
  "kernelspec": {
   "display_name": "Python 3 (ipykernel)",
   "language": "python",
   "name": "python3"
  },
  "language_info": {
   "codemirror_mode": {
    "name": "ipython",
    "version": 3
   },
   "file_extension": ".py",
   "mimetype": "text/x-python",
   "name": "python",
   "nbconvert_exporter": "python",
   "pygments_lexer": "ipython3",
   "version": "3.10.5"
  },
  "quibs_archive": "UEsDBBQAAAAIANk9DVWbroa9EQAAAA8AAAANAAAAdGhyZXNob2xkLnR4dCsszUzSSywuzkzP0zA10AQAUEsBAhQDFAAAAAgA2T0NVZuuhr0RAAAADwAAAA0AAAAAAAAAAAAAAKSBAAAAAHRocmVzaG9sZC50eHRQSwUGAAAAAAEAAQA7AAAAPAAAAAAA"
 },
 "nbformat": 4,
 "nbformat_minor": 5
}
