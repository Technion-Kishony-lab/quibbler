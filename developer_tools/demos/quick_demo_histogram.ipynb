{
 "cells": [
  {
   "cell_type": "code",
   "execution_count": 1,
   "id": "41d0b4c5-19f7-4fcd-aeea-3dffe9120c25",
   "metadata": {},
   "outputs": [],
   "source": [
    "from pyquibbler import iquib, initialize_quibbler, q\n",
    "initialize_quibbler()\n",
    "import matplotlib.pyplot as plt\n",
    "import numpy as np\n",
    "%matplotlib tk"
   ]
  },
  {
   "cell_type": "code",
   "execution_count": 2,
   "id": "11171734-4f63-49fd-a3fb-28787db20a12",
   "metadata": {},
   "outputs": [],
   "source": [
    "import matplotlib as mpl    \n",
    "mpl.rcParams['lines.markersize'] = 30\n",
    "mpl.rcParams['lines.linewidth'] = 2\n",
    "mpl.rcParams['lines.markeredgewidth'] = 3\n",
    "mpl.rcParams['axes.titlesize'] = 20"
   ]
  },
  {
   "cell_type": "code",
   "execution_count": 18,
   "id": "a2cd3358-7af7-4f6a-a376-d27a7b010cb3",
   "metadata": {},
   "outputs": [
    {
     "data": {
      "text/plain": [
       "(0.0, 120.0)"
      ]
     },
     "execution_count": 18,
     "metadata": {},
     "output_type": "execute_result"
    }
   ],
   "source": [
    "plt.figure(1, figsize=(5, 3))\n",
    "plt.clf()\n",
    "plt.xlim([0, 120])"
   ]
  },
  {
   "cell_type": "code",
   "execution_count": 19,
   "id": "c8b7540c-2681-4034-ae5f-9f186bc2c9e3",
   "metadata": {},
   "outputs": [
    {
     "data": {
      "text/plain": [
       "pie(<Axes:>, [sum(is_below), sum(invert(is_above))], explode=None, labels=[sum(is_below), sum(invert(is_above))], colors='rg', autopct=None, pctdistance=0.6, shadow=False, labeldistance=1.1, startangle=0, radius=1, counterclock=True, wedgeprops=None, textprops=None, center=(0, 0), frame=False, rotatelabels=False, normalize=None)"
      ]
     },
     "execution_count": 19,
     "metadata": {},
     "output_type": "execute_result"
    }
   ],
   "source": [
    "# Read data and plot histogram\n",
    "file = iquib('measurements.txt')\n",
    "data = np.loadtxt(file)\n",
    "x = np.arange(0, 130, 5)\n",
    "plt.hist(data, x, facecolor='g')\n",
    "\n",
    "# Identify above-threshold measurements\n",
    "threshold = iquib(80)\n",
    "is_above = data > threshold\n",
    "plt.hist(data[is_above], x, facecolor='r')\n",
    "plt.plot(threshold, 0, 'k^')\n",
    "\n",
    "# Plot pie chart\n",
    "plt.axes([0.6, 0.5, 0.3, 0.3])\n",
    "totals = [np.sum(is_below), np.sum(~is_above)]\n",
    "plt.pie(totals, colors='rg', labels=totals)"
   ]
  },
  {
   "cell_type": "code",
   "execution_count": null,
   "id": "4e7dd443-11fb-4aa0-9e79-eebb197e9cec",
   "metadata": {},
   "outputs": [],
   "source": []
  }
 ],
 "metadata": {
  "kernelspec": {
   "display_name": "Python 3 (ipykernel)",
   "language": "python",
   "name": "python3"
  },
  "language_info": {
   "codemirror_mode": {
    "name": "ipython",
    "version": 3
   },
   "file_extension": ".py",
   "mimetype": "text/x-python",
   "name": "python",
   "nbconvert_exporter": "python",
   "pygments_lexer": "ipython3",
   "version": "3.10.5"
  }
 },
 "nbformat": 4,
 "nbformat_minor": 5
}
