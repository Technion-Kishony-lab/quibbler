{
 "cells": [
  {
   "cell_type": "code",
   "execution_count": 7,
   "id": "41d0b4c5-19f7-4fcd-aeea-3dffe9120c25",
   "metadata": {},
   "outputs": [],
   "source": [
    "from pyquibbler import iquib, initialize_quibbler, q\n",
    "initialize_quibbler()\n",
    "import matplotlib.pyplot as plt\n",
    "import numpy as np\n",
    "%matplotlib tk"
   ]
  },
  {
   "cell_type": "code",
   "execution_count": 8,
   "id": "11171734-4f63-49fd-a3fb-28787db20a12",
   "metadata": {},
   "outputs": [],
   "source": [
    "import matplotlib as mpl    \n",
    "mpl.rcParams['lines.markersize'] = 16\n",
    "mpl.rcParams['lines.linewidth'] = 1\n",
    "mpl.rcParams['lines.markeredgewidth'] = 3\n",
    "mpl.rcParams['axes.titlesize'] = 20"
   ]
  },
  {
   "cell_type": "code",
   "execution_count": 9,
   "id": "a2cd3358-7af7-4f6a-a376-d27a7b010cb3",
   "metadata": {},
   "outputs": [],
   "source": [
    "plt.figure(1, figsize=(5, 3))\n",
    "plt.clf()\n",
    "plt.axis([0, 120, 0, 130]);"
   ]
  },
  {
   "cell_type": "code",
   "execution_count": 10,
   "id": "c8b7540c-2681-4034-ae5f-9f186bc2c9e3",
   "metadata": {},
   "outputs": [],
   "source": [
    "# Read data and plot histogram\n",
    "file = iquib('measurements.txt')\n",
    "data = np.loadtxt(file)\n",
    "x = np.arange(0, 130, 5)\n",
    "plt.hist(data, x, facecolor='g')\n",
    "\n",
    "# Identify above-threshold measurements\n",
    "threshold = iquib(80)\n",
    "is_above = data > threshold\n",
    "plt.hist(data[is_above], x, facecolor='r')\n",
    "plt.plot([threshold, threshold], plt.ylim(), 'kd:')\n",
    "\n",
    "# Plot pie chart\n",
    "plt.axes([0.6, 0.5, 0.3, 0.3])\n",
    "totals = [np.sum(~is_above), np.sum(is_above)]\n",
    "plt.pie(totals, colors='rg', labels=totals);"
   ]
  }
 ],
 "metadata": {
  "kernelspec": {
   "display_name": "Python 3 (ipykernel)",
   "language": "python",
   "name": "python3"
  },
  "language_info": {
   "codemirror_mode": {
    "name": "ipython",
    "version": 3
   },
   "file_extension": ".py",
   "mimetype": "text/x-python",
   "name": "python",
   "nbconvert_exporter": "python",
   "pygments_lexer": "ipython3",
   "version": "3.10.5"
  },
  "quibs_archive": "UEsDBBQAAAAIAAE3DVUFhoHwEQAAAA8AAAANAAAAdGhyZXNob2xkLnR4dCsszUzSSywuzkzP0zAz1wQAUEsBAhQDFAAAAAgAATcNVQWGgfARAAAADwAAAA0AAAAAAAAAAAAAAKSBAAAAAHRocmVzaG9sZC50eHRQSwUGAAAAAAEAAQA7AAAAPAAAAAAA"
 },
 "nbformat": 4,
 "nbformat_minor": 5
}
