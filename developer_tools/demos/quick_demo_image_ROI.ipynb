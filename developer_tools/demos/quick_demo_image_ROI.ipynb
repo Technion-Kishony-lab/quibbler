{
 "cells": [
  {
   "cell_type": "code",
   "execution_count": 1,
   "id": "41d0b4c5-19f7-4fcd-aeea-3dffe9120c25",
   "metadata": {},
   "outputs": [],
   "source": [
    "from pyquibbler import iquib, override_all, q\n",
    "override_all()\n",
    "import matplotlib.pyplot as plt\n",
    "from matplotlib.widgets import RectangleSelector\n",
    "import numpy as np\n",
    "%matplotlib tk"
   ]
  },
  {
   "cell_type": "code",
   "execution_count": 2,
   "id": "11171734-4f63-49fd-a3fb-28787db20a12",
   "metadata": {},
   "outputs": [],
   "source": [
    "import matplotlib as mpl\n",
    "plt.figure(1, figsize=(8, 3));\n",
    "plt.clf()\n",
    "mpl.rcParams['lines.markersize'] = 20\n",
    "mpl.rcParams['lines.linewidth'] = 2\n",
    "mpl.rcParams['lines.markeredgewidth'] = 3\n",
    "mpl.rcParams['axes.titlesize'] = 20"
   ]
  },
  {
   "cell_type": "code",
   "execution_count": 3,
   "id": "98871c7f-44bd-429c-be97-6d1afe9c2097",
   "metadata": {
    "tags": []
   },
   "outputs": [
    {
     "data": {
      "text/plain": [
       "<matplotlib.image.AxesImage at 0x11695ded0>"
      ]
     },
     "execution_count": 3,
     "metadata": {},
     "output_type": "execute_result"
    }
   ],
   "source": [
    "# Load and plot an image:\n",
    "file = iquib('bacteria_in_droplets.tif')\n",
    "img = plt.imread(file)\n",
    "plt.subplot(1, 2, 1).imshow(img)\n",
    "\n",
    "# Define a rectangle selector:\n",
    "xy = iquib(np.array([250, 400, 300, 450]))\n",
    "RectangleSelector(plt.gca(), extents=xy)\n",
    "\n",
    "# Cut and show the sub-image:\n",
    "sub_img = img[xy[2]:xy[3], xy[0]:xy[1]]\n",
    "plt.subplot(1, 2, 2).imshow(sub_img)"
   ]
  },
  {
   "cell_type": "code",
   "execution_count": 3,
   "id": "55efd417-0230-42ff-b6aa-94e429ed408c",
   "metadata": {},
   "outputs": [
    {
     "data": {
      "text/plain": [
       "imshow(<AxesSubplot:>, sub_img)"
      ]
     },
     "execution_count": 3,
     "metadata": {},
     "output_type": "execute_result"
    }
   ],
   "source": [
    "rectprops = dict(edgecolor='w', alpha=0.7, fill=False, linewidth=1)\n",
    "\n",
    "# Load and plot an image:\n",
    "file = iquib('bacteria_in_droplets.tif')\n",
    "img = plt.imread(file)\n",
    "plt.subplot(1, 2, 1).imshow(img)\n",
    "\n",
    "# Define a rectangle selector:\n",
    "xy = iquib(np.array([250, 400, 300, 450]))\n",
    "RectangleSelector(plt.gca(), extents=xy, rectprops=rectprops)\n",
    "\n",
    "# Cut and show the sub-image:\n",
    "sub_img = img[xy[2]:xy[3], xy[0]:xy[1]]\n",
    "plt.subplot(1, 2, 2).imshow(sub_img)"
   ]
  },
  {
   "cell_type": "code",
   "execution_count": null,
   "id": "7d2a24e2-c8fc-4552-8e17-d96782ee6983",
   "metadata": {},
   "outputs": [],
   "source": []
  }
 ],
 "metadata": {
  "kernelspec": {
   "display_name": "Python 3 (ipykernel)",
   "language": "python",
   "name": "python3"
  },
  "language_info": {
   "codemirror_mode": {
    "name": "ipython",
    "version": 3
   },
   "file_extension": ".py",
   "mimetype": "text/x-python",
   "name": "python",
   "nbconvert_exporter": "python",
   "pygments_lexer": "ipython3",
   "version": "3.10.4"
  }
 },
 "nbformat": 4,
 "nbformat_minor": 5
}
