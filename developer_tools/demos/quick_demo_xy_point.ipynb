{
 "cells": [
  {
   "cell_type": "code",
   "execution_count": 1,
   "id": "41d0b4c5-19f7-4fcd-aeea-3dffe9120c25",
   "metadata": {},
   "outputs": [],
   "source": [
    "from pyquibbler import iquib, override_all, q\n",
    "override_all()\n",
    "import matplotlib.pyplot as plt\n",
    "import numpy as np\n",
    "%matplotlib tk"
   ]
  },
  {
   "cell_type": "code",
   "execution_count": 18,
   "id": "5d1fc754-573d-4954-9918-3cc874cb50b2",
   "metadata": {},
   "outputs": [],
   "source": [
    "import matplotlib as mpl    \n",
    "mpl.rcParams['lines.markersize'] = 4\n",
    "mpl.rcParams['lines.linewidth'] = 4\n",
    "mpl.rcParams['lines.markeredgewidth'] = 3\n",
    "mpl.rcParams['axes.titlesize'] = 20"
   ]
  },
  {
   "cell_type": "code",
   "execution_count": 40,
   "id": "a2cd3358-7af7-4f6a-a376-d27a7b010cb3",
   "metadata": {},
   "outputs": [],
   "source": [
    "plt.figure(1, figsize=(5, 3))\n",
    "plt.clf()\n",
    "plt.axis('square')\n",
    "plt.axis([-1, 100, -1, 100]);"
   ]
  },
  {
   "cell_type": "code",
   "execution_count": 37,
   "id": "5957d0aa-19c4-4a29-a304-99116461caaa",
   "metadata": {},
   "outputs": [
    {
     "data": {
      "text/plain": [
       "text(<AxesSubplot:>, mean(x), mean(y), dist, fontdict=None)"
      ]
     },
     "execution_count": 37,
     "metadata": {},
     "output_type": "execute_result"
    }
   ],
   "source": [
    "x = iquib(np.array([10, 50]))\n",
    "y = iquib(np.array([10, 40]))\n",
    "plt.plot(x[[0, 1, 1, 0, 0]], y[[0, 0, 1, 1, 0]], '-o')\n",
    "area = (x[1] - x[0]) * (y[1] - y[0])\n",
    "plt.text(np.mean(x), np.mean(y), area)"
   ]
  },
  {
   "cell_type": "code",
   "execution_count": 39,
   "id": "d22bd1f6-9dea-488e-99db-84c8c995a1f8",
   "metadata": {},
   "outputs": [
    {
     "data": {
      "text/plain": [
       "text(<AxesSubplot:>, x / 2, y / 2, x * y, fontdict=None, ha='center', va='center', fontsize=18)"
      ]
     },
     "execution_count": 39,
     "metadata": {},
     "output_type": "execute_result"
    }
   ],
   "source": [
    "xy = iquib([10, 10])\n",
    "x = xy[0]\n",
    "y = xy[1]\n",
    "plt.plot([0, x, x, 0, 0], [0, 0, y, y, 0])\n",
    "plt.text(x/2, y/2, x*y, ha='center', va='center', fontsize=18)"
   ]
  },
  {
   "cell_type": "code",
   "execution_count": 41,
   "id": "ad9b7257-82f4-4606-a7ab-a0c56c326271",
   "metadata": {},
   "outputs": [
    {
     "data": {
      "text/plain": [
       "set_title(<AxesSubplot:title={'center':'[50, 50]'}>, xy, fontdict=None, loc=None, pad=None, y=None)"
      ]
     },
     "execution_count": 41,
     "metadata": {},
     "output_type": "execute_result"
    }
   ],
   "source": [
    "xy = iquib([50, 50])\n",
    "plt.plot(xy[0], xy[1], 'x')\n",
    "plt.title(xy)"
   ]
  },
  {
   "cell_type": "code",
   "execution_count": 33,
   "id": "4e7dd443-11fb-4aa0-9e79-eebb197e9cec",
   "metadata": {},
   "outputs": [
    {
     "data": {
      "text/plain": [
       "text(<AxesSubplot:>, x / 2 + 1, y / 2, round(dist, 1), fontdict=None)"
      ]
     },
     "execution_count": 33,
     "metadata": {},
     "output_type": "execute_result"
    }
   ],
   "source": [
    "xy = iquib([10, 10])\n",
    "x = xy[0]\n",
    "y = xy[1]\n",
    "plt.plot([0, x], [0, y], '.-')\n",
    "dist = np.sqrt(x**2 + y**2)\n",
    "plt.text(x/2 + 1, y/2, round(dist, 1))"
   ]
  },
  {
   "cell_type": "code",
   "execution_count": null,
   "id": "144fca49-0b35-436b-b166-32bac3c41028",
   "metadata": {},
   "outputs": [],
   "source": []
  }
 ],
 "metadata": {
  "kernelspec": {
   "display_name": "Python 3 (ipykernel)",
   "language": "python",
   "name": "python3"
  },
  "language_info": {
   "codemirror_mode": {
    "name": "ipython",
    "version": 3
   },
   "file_extension": ".py",
   "mimetype": "text/x-python",
   "name": "python",
   "nbconvert_exporter": "python",
   "pygments_lexer": "ipython3",
   "version": "3.10.4"
  }
 },
 "nbformat": 4,
 "nbformat_minor": 5
}
