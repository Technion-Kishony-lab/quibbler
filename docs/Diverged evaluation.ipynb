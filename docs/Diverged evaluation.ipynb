{
 "cells": [
  {
   "cell_type": "markdown",
   "id": "a16052db",
   "metadata": {},
   "source": [
    "## Diverged evaluation"
   ]
  },
  {
   "cell_type": "markdown",
   "id": "3c1c80a0",
   "metadata": {},
   "source": [
    "#### Rationale\n",
    "\n",
    "Data analysis pipelines can have *diverged* processing steps, where a specific function is applied repeatedly to each of many individual data items (e.g., enhancing each image in a stack of images). In such diverged analysis, the processing of each data item could be done independently, and we may only want to process some and not all of the items at a given time. Furthermore, changes to upstream parameters may only affect the calculations of some of the data items while any cached calculations of other items remain valid (e.g., changing an enhancement parameter specific for one image requires repeating the processing of this image alone). We therefore need ways to independently calculate, cache and track the validity of each data item in such diverged analysis steps. In *Quibbler*, such independent processing and tracking is automatically enabled by adopting the *NumPy* syntax of [[vectorize|https://numpy.org/doc/stable/reference/generated/numpy.vectorize.html]] and [[apply_along_axis|https://numpy.org/doc/stable/reference/generated/numpy.apply_along_axis.html]]. Applying such *NumPy* vectorized functions to quib arguments creates a *vectorized function quib* whose output array is calculated, cached and invalidated not as a whole but rather element-by-element, or slice by slice."
   ]
  },
  {
   "cell_type": "markdown",
   "id": "c7c0c37b",
   "metadata": {
    "tags": []
   },
   "source": [
    "#### Reviewing the standard behavior of np.vectorize\n",
    "\n",
    "*NumPy*'s `np.vectorize` provides a standard syntax to *vectorize* a given function such that when applied to array arguments it creates a new array by acting repeatedly on each element of the array arguments (or across slices thereof, see the `signature` kwarg). \n",
    "\n",
    "For example:"
   ]
  },
  {
   "cell_type": "code",
   "execution_count": 8,
   "id": "50177c11",
   "metadata": {
    "tags": []
   },
   "outputs": [],
   "source": [
    "# Imports\n",
    "import pyquibbler as qb\n",
    "from pyquibbler import iquib, q\n",
    "qb.override_all()\n",
    "import numpy as np\n",
    "import matplotlib.pyplot as plt\n",
    "from matplotlib.widgets import RectangleSelector, Slider\n",
    "from matplotlib.patches import Arrow\n",
    "%matplotlib tk"
   ]
  },
  {
   "cell_type": "code",
   "execution_count": 9,
   "id": "f1ec5780-3ce1-46d0-afe3-fee03740e7db",
   "metadata": {},
   "outputs": [],
   "source": [
    "def mysqr(x):\n",
    "    print('calculating sqr({})'.format(x))\n",
    "    return x ** 2\n",
    "\n",
    "\n",
    "v_mysqr = np.vectorize(mysqr, otypes=[int])"
   ]
  },
  {
   "cell_type": "markdown",
   "id": "589fd497-1d99-43af-acf1-9dc2aa22d933",
   "metadata": {},
   "source": [
    "In this example, `v_mysqr` is the vectorized form of `mysqr`; when `v_mysqr` is applied to an array, it executes the underlying function `mysqr` on each element of the input array:"
   ]
  },
  {
   "cell_type": "code",
   "execution_count": 10,
   "id": "92487802-566e-4123-a83a-0c1c489c19e5",
   "metadata": {},
   "outputs": [
    {
     "name": "stdout",
     "output_type": "stream",
     "text": [
      "calculating sqr(0)\n",
      "calculating sqr(1)\n",
      "calculating sqr(2)\n",
      "calculating sqr(3)\n",
      "calculating sqr(4)\n"
     ]
    },
    {
     "data": {
      "text/plain": [
       "array([ 0,  1,  4,  9, 16])"
      ]
     },
     "execution_count": 10,
     "metadata": {},
     "output_type": "execute_result"
    }
   ],
   "source": [
    "v_mysqr(np.array([0, 1, 2, 3, 4]))"
   ]
  },
  {
   "cell_type": "markdown",
   "id": "53ecff2c-a3b1-4155-83a1-e3e6a4163a31",
   "metadata": {},
   "source": [
    "#### Applying a vectorized function to quib arguments creates a vectorized function quib"
   ]
  },
  {
   "cell_type": "markdown",
   "id": "1623df8f-44b2-473a-a5bd-ae43a1a9b813",
   "metadata": {},
   "source": [
    "In analogy to the standard behavior above, applying a vectorized function to quib arguments creates a vectorized function quib that calculates its output by calling the underlying function on each element of the output of its quib arguments. As with other function quibs, this definion is declarative, no calculations are initially performed:"
   ]
  },
  {
   "cell_type": "code",
   "execution_count": 21,
   "id": "5c982077-6f33-4ac9-9911-9223acd3b5e1",
   "metadata": {},
   "outputs": [],
   "source": [
    "x = iquib(np.array([0, 1, 2, 3, 4]))\n",
    "x2 = v_mysqr(x).setp(cache_behavior='on')"
   ]
  },
  {
   "cell_type": "markdown",
   "id": "945a8066-5bb2-4fb3-9917-21f0f8d31b6f",
   "metadata": {},
   "source": [
    "Calculations are only performed once we request the output of the function quib:"
   ]
  },
  {
   "cell_type": "code",
   "execution_count": 22,
   "id": "26665778-e67e-4b5e-831c-f2c0ad2af420",
   "metadata": {},
   "outputs": [
    {
     "name": "stdout",
     "output_type": "stream",
     "text": [
      "calculating sqr(0)\n",
      "calculating sqr(1)\n",
      "calculating sqr(2)\n",
      "calculating sqr(3)\n",
      "calculating sqr(4)\n"
     ]
    },
    {
     "data": {
      "text/plain": [
       "array([ 0,  1,  4,  9, 16])"
      ]
     },
     "execution_count": 22,
     "metadata": {},
     "output_type": "execute_result"
    }
   ],
   "source": [
    "x2.get_value()"
   ]
  },
  {
   "cell_type": "markdown",
   "id": "a5cfeabf",
   "metadata": {},
   "source": [
    "#### Vectorized quibs targetly calculate and cache specifically requested array elements\n",
    "\n",
    "As the output of vectorized function quibs is calculated element-by-element, there is no need to calculate the entire array if only specific elements are requested. Indeed, the *Quibbler* implementation of `np.vectorize`, unlike the standard *NumPy* implementation, knows to only calculate the array elements specifically requested to provide a requested output. \n",
    "\n",
    "For example, let's repeat the simple code above, but only ask for the value of `x2` at a specific element. *Quibbler* will only evaluate the function at the requested position:"
   ]
  },
  {
   "cell_type": "code",
   "execution_count": 30,
   "id": "f88dc21b-b61f-4636-a3ed-051ffd03df23",
   "metadata": {},
   "outputs": [
    {
     "name": "stdout",
     "output_type": "stream",
     "text": [
      "calculating sqr(3)\n"
     ]
    },
    {
     "data": {
      "text/plain": [
       "9"
      ]
     },
     "execution_count": 30,
     "metadata": {},
     "output_type": "execute_result"
    }
   ],
   "source": [
    "x = iquib(np.array([0, 1, 2, 3, 4]))\n",
    "x2 = v_mysqr(x).setp(cache_behavior='on')\n",
    "x2[3].get_value()"
   ]
  },
  {
   "cell_type": "markdown",
   "id": "c5cb898d",
   "metadata": {},
   "source": [
    "These values are indepdnently cached, so additional requests for array output only calculate the parts of the array not yet calculated:"
   ]
  },
  {
   "cell_type": "code",
   "execution_count": 31,
   "id": "269b12c9",
   "metadata": {
    "scrolled": true
   },
   "outputs": [
    {
     "name": "stdout",
     "output_type": "stream",
     "text": [
      "calculating sqr(2)\n",
      "calculating sqr(4)\n"
     ]
    },
    {
     "data": {
      "text/plain": [
       "array([ 4,  9, 16])"
      ]
     },
     "execution_count": 31,
     "metadata": {},
     "output_type": "execute_result"
    }
   ],
   "source": [
    "x2[2:].get_value()"
   ]
  },
  {
   "cell_type": "code",
   "execution_count": 32,
   "id": "aebfebd9-6354-4fa2-b778-233973a66297",
   "metadata": {},
   "outputs": [
    {
     "name": "stdout",
     "output_type": "stream",
     "text": [
      "calculating sqr(0)\n",
      "calculating sqr(1)\n"
     ]
    },
    {
     "data": {
      "text/plain": [
       "array([ 0,  1,  4,  9, 16])"
      ]
     },
     "execution_count": 32,
     "metadata": {},
     "output_type": "execute_result"
    }
   ],
   "source": [
    "x2.get_value()"
   ]
  },
  {
   "cell_type": "markdown",
   "id": "474ea6a8-8751-4c3e-bf3b-5fcbc2593122",
   "metadata": {},
   "source": [
    "#### Vectorized quibs track validity of individual array elements \n",
    "\n",
    "Not only array elements of vectorized function quibs are individually calculated and cached, their validity is also independently tracked upon upstream changes. \n",
    "\n",
    "When upstream value changes, such changes only invalidate the specifically affected array elements. Only the calculation of these elements is then repeated when the output is requested:"
   ]
  },
  {
   "cell_type": "markdown",
   "id": "2c079d29-652f-4f21-81ae-33f461e44615",
   "metadata": {},
   "source": [
    "TODO: repeat after making vectorized non-graphic"
   ]
  },
  {
   "cell_type": "code",
   "execution_count": 33,
   "id": "28c7abb5-74cf-4878-927e-c890634cb14a",
   "metadata": {},
   "outputs": [
    {
     "name": "stdout",
     "output_type": "stream",
     "text": [
      "calculating sqr(10)\n"
     ]
    }
   ],
   "source": [
    "x[3] = 10"
   ]
  },
  {
   "cell_type": "code",
   "execution_count": 27,
   "id": "f02646a7-d1c3-411f-a43f-b2dd97c2879f",
   "metadata": {},
   "outputs": [
    {
     "data": {
      "text/plain": [
       "array([  0,   1,   4, 100,  16])"
      ]
     },
     "execution_count": 27,
     "metadata": {},
     "output_type": "execute_result"
    }
   ],
   "source": [
    "x2.get_value()"
   ]
  },
  {
   "cell_type": "markdown",
   "id": "34715532-5221-4ee4-bd7c-e0edefc6f7f1",
   "metadata": {},
   "source": [
    "#### Using vectorize for graphic functions\n",
    "\n",
    "Vectorized function quibs readily facilitate creating multiple instances of similar graphic elements. This is done simply by vectorizing an underlying function that create graphics and setting `lazy=False` in the vectorize command. \n",
    "\n",
    "Here is a simple example:"
   ]
  },
  {
   "cell_type": "code",
   "execution_count": 34,
   "id": "56697d19-0b52-4387-a3a4-d171b4b70a15",
   "metadata": {},
   "outputs": [],
   "source": [
    "def draw_arrow(ax, xy, dxy, w):\n",
    "    plt.plot([xy[0], xy[0]+dxy[0]], [xy[1], xy[1]+dxy[1]], 'r-')\n",
    "    #ax.add_patch(Arrow(xy[0], xy[1], dxy[0], dxy[1], w)) <- TODO - use this when patches work\n",
    "\n",
    "\n",
    "v_draw_arrow = np.vectorize(draw_arrow, lazy=False, signature='(),(2),(2),()->()')\n",
    "\n",
    "plt.figure()\n",
    "ax = plt.gca()\n",
    "plt.axis([0, 100, 0, 100])\n",
    "\n",
    "xy = iquib(np.array([[10, 10], [20, 20], [30, 30], [40, 40]]))\n",
    "xy_tail = xy[0:-1]\n",
    "xy_head = xy[1:]\n",
    "dxy = xy_head - xy_tail\n",
    "w = iquib(10.)\n",
    "v_draw_arrow(ax, xy_tail, dxy, w);\n",
    "plt.plot(xy[:,0], xy[:,1], 'ob', markersize=16, picker=True);"
   ]
  },
  {
   "cell_type": "markdown",
   "id": "0d0ce4d6-cdce-406e-9745-d42afd890d0a",
   "metadata": {},
   "source": [
    "#### Passing quibs as arguments to allows inverse assignment from vectorized quibs\n",
    "\n",
    "In the examples above, when the vectorized function quib gets quib arguments it sends to the underlying function the output value of these quibs at given array positions. The underlying function deals with regular, non-quib, arguments. Alternatively, it is also possible to send the underlying function quibs which reference the vectorize quib arguments at the corresponding indices. This behavior is controlled by the `pass_quibs` kwarg of np.vectorize. By default, `pass_quibs` is set to `False`. Setting `pass_quibs=True` will pass quib as arguments thus enabling some important functionality including in particular the ability to inverse assign from graphics created within the function. \n",
    "\n",
    "See this example:"
   ]
  },
  {
   "cell_type": "code",
   "execution_count": 35,
   "id": "c07ff229-33fe-4b2a-89aa-a05c0b154051",
   "metadata": {},
   "outputs": [],
   "source": [
    "xy_default = iquib(np.array([10, 20, 10, 20]))\n",
    "xy_default.allow_overriding = False\n",
    "n = iquib(np.array([5]))\n",
    "xy = np.tile(xy_default, (n[0], 1))\n",
    "xy.allow_overriding = True\n",
    "\n",
    "def rectselect(ax, ext):\n",
    "    RectangleSelector(ax=ax, extents=ext)\n",
    "    return\n",
    "\n",
    "v_rectselect = np.vectorize(rectselect, signature='(),(4)->()', lazy=False, pass_quibs=True)\n",
    "\n",
    "ax = plt.gca()\n",
    "plt.axis('square')\n",
    "plt.axis([0, 100, 0, 100])\n",
    "v_rectselect(ax, xy)\n",
    "\n",
    "plt.text(5, 95, q(str, xy), va='top');\n",
    "\n",
    "# TODO: add after fixing bug:\n",
    "#Slider(ax=plt.axes([0.4, 0.2, 0.3, 0.05]), label='n', valmin=1, valmax=8, valinit=n[0])"
   ]
  },
  {
   "cell_type": "markdown",
   "id": "a8db4ac7-3c52-4b4a-8ebc-9a399289fc04",
   "metadata": {},
   "source": [
    "[[/images/divergence_gif/Divergence_passquibs.gif]]"
   ]
  },
  {
   "cell_type": "markdown",
   "id": "367bd61a-0f39-4923-97c1-197d982b00c4",
   "metadata": {},
   "source": [
    "#### Additional demos\n",
    "For additional examples, see:\n",
    "\n",
    "* [[quibdemo_compare_images]]"
   ]
  }
 ],
 "metadata": {
  "kernelspec": {
   "display_name": "Python 3 (ipykernel)",
   "language": "python",
   "name": "python3"
  },
  "language_info": {
   "codemirror_mode": {
    "name": "ipython",
    "version": 3
   },
   "file_extension": ".py",
   "mimetype": "text/x-python",
   "name": "python",
   "nbconvert_exporter": "python",
   "pygments_lexer": "ipython3",
   "version": "3.9.7"
  }
 },
 "nbformat": 4,
 "nbformat_minor": 5
}