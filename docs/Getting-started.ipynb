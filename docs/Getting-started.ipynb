{
 "cells": [
  {
   "cell_type": "markdown",
   "id": "dd5f1390",
   "metadata": {},
   "source": [
    "# Getting started with Data Quibbler\n",
    "\n",
    "Below is a quick getting-started guide for *Data Quibbler*. \n",
    "\n",
    "You may also consult with the [[Examples]] to quickly demo some of the key *Data Quibbler* functionalities."
   ]
  },
  {
   "cell_type": "markdown",
   "id": "b55a0b1e",
   "metadata": {},
   "source": [
    "## Setting up"
   ]
  },
  {
   "cell_type": "markdown",
   "id": "1acf8337",
   "metadata": {},
   "source": [
    "### Install\n",
    "\n",
    "To install *Data Quibbler* use: [Maor]\n",
    "\n",
    "`pip install pyquibbler`"
   ]
  },
  {
   "cell_type": "markdown",
   "id": "6ec30e18",
   "metadata": {},
   "source": [
    "### Import\n",
    "\n",
    "`pyquibbler` is conventionally imported as `qb`:"
   ]
  },
  {
   "cell_type": "code",
   "execution_count": 1,
   "id": "e8580cc0",
   "metadata": {},
   "outputs": [],
   "source": [
    "import pyquibbler as qb"
   ]
  },
  {
   "cell_type": "markdown",
   "id": "eaa9fa49",
   "metadata": {},
   "source": [
    "Some key required functions are `iquib` and `q`, which we import directly: "
   ]
  },
  {
   "cell_type": "code",
   "execution_count": 2,
   "id": "b7bce34c",
   "metadata": {},
   "outputs": [],
   "source": [
    "from pyquibbler import iquib, override_all, q"
   ]
  },
  {
   "cell_type": "markdown",
   "id": "f10f6f2e",
   "metadata": {},
   "source": [
    "As *Data Quibbler* needs to override normal *NumPy* and *matplotlib* functionalities, it needs to be imported and `override_all()` first:"
   ]
  },
  {
   "cell_type": "code",
   "execution_count": 3,
   "id": "9dda3ff2",
   "metadata": {},
   "outputs": [],
   "source": [
    "qb.override_all()"
   ]
  },
  {
   "cell_type": "markdown",
   "id": "eb32fb40",
   "metadata": {},
   "source": [
    "Imports of numpy and matplotlib, if needed, should follow after we have run `override_all()`: "
   ]
  },
  {
   "cell_type": "code",
   "execution_count": 4,
   "id": "4d8a2407",
   "metadata": {},
   "outputs": [],
   "source": [
    "import matplotlib.pyplot as plt\n",
    "import numpy as np"
   ]
  },
  {
   "cell_type": "markdown",
   "id": "12e51587",
   "metadata": {},
   "source": [
    "### Graphics backend\n",
    "\n",
    "*Data Quibbler* works well with `tk` and `widget` and [Maor].\n",
    "\n",
    "If you are using *Jupiter Notebook*, use for example:"
   ]
  },
  {
   "cell_type": "code",
   "execution_count": 5,
   "id": "297320d4",
   "metadata": {},
   "outputs": [],
   "source": [
    "%matplotlib tk"
   ]
  },
  {
   "cell_type": "markdown",
   "id": "16a36ded",
   "metadata": {},
   "source": [
    "## The quib object\n",
    "\n",
    "A quib is an object that represents an output *value* as well as the *function* and *arguments* used to calculate this value.  There are two major types of quibs: *input-quibs* (i-quibs) which take any *Python* object as their argument and present it as their value (their function is trivially the identity function), and *function-quibs* (f-quibs) that produce their output value by applying any arbitrary function to any list of arguments including i-quibs, other f-quibs and any additional Python objects. "
   ]
  },
  {
   "cell_type": "markdown",
   "id": "640af06c",
   "metadata": {},
   "source": [
    "### Input quibs\n",
    "\n",
    "Any *Python* object can be transformed into an input-quib using the `iquib` command. For example:"
   ]
  },
  {
   "cell_type": "code",
   "execution_count": 6,
   "id": "b0bb915e",
   "metadata": {},
   "outputs": [
    {
     "data": {
      "text/plain": [
       "my_lucky_number = iquib(7)"
      ]
     },
     "execution_count": 6,
     "metadata": {},
     "output_type": "execute_result"
    }
   ],
   "source": [
    "my_lucky_number = iquib(7)\n",
    "my_lucky_number"
   ]
  },
  {
   "cell_type": "markdown",
   "id": "dc6dfb9e",
   "metadata": {},
   "source": [
    "Note that the repr of a quib shows its *name* (in this case `'my_lucky_number'`) and its *function* (in this case, `iquib(7)`). "
   ]
  },
  {
   "cell_type": "markdown",
   "id": "3fd567f4",
   "metadata": {},
   "source": [
    "#### Getting the quib's value using `get_value()`\n",
    "To get the output *value* of the quib, we use the `get_value()` method:"
   ]
  },
  {
   "cell_type": "code",
   "execution_count": 7,
   "id": "4e21346a",
   "metadata": {},
   "outputs": [
    {
     "data": {
      "text/plain": [
       "7"
      ]
     },
     "execution_count": 7,
     "metadata": {},
     "output_type": "execute_result"
    }
   ],
   "source": [
    "my_lucky_number.get_value()"
   ]
  },
  {
   "cell_type": "markdown",
   "id": "2b52baa0",
   "metadata": {},
   "source": [
    "#### Input quibs can represent objects of any standard class\n",
    "Quibs can represent any *Python* object including Numeric, String, List, Tuple, Set, and\n",
    "Dictionary. They can also represent NumPy ndarrays, matplotlib Artists as well as essentially objects of any arbitrary class.\n",
    "\n",
    "For example:"
   ]
  },
  {
   "cell_type": "code",
   "execution_count": 8,
   "id": "687dd098",
   "metadata": {},
   "outputs": [
    {
     "data": {
      "text/plain": [
       "city_data = iquib({'City': 'Haifa', 'Population': 279247})"
      ]
     },
     "execution_count": 8,
     "metadata": {},
     "output_type": "execute_result"
    }
   ],
   "source": [
    "city_data = iquib({'City':'Haifa', 'Population':279247})\n",
    "city_data"
   ]
  },
  {
   "cell_type": "code",
   "execution_count": 9,
   "id": "97280fb2",
   "metadata": {},
   "outputs": [
    {
     "data": {
      "text/plain": [
       "['Hello', 'World']"
      ]
     },
     "execution_count": 9,
     "metadata": {},
     "output_type": "execute_result"
    }
   ],
   "source": [
    "hello_world = iquib(['Hello','World'])\n",
    "hello_world.get_value()"
   ]
  },
  {
   "cell_type": "markdown",
   "id": "929e6da2",
   "metadata": {},
   "source": [
    "#### Assigning new values to input quibs\n",
    "\n",
    "Input quibs can be modified by assignments using standard *Python* assignment syntax:"
   ]
  },
  {
   "cell_type": "code",
   "execution_count": 10,
   "id": "21ff5f9b",
   "metadata": {},
   "outputs": [
    {
     "data": {
      "text/plain": [
       "['Hi', 'World']"
      ]
     },
     "execution_count": 10,
     "metadata": {},
     "output_type": "execute_result"
    }
   ],
   "source": [
    "hello_world[0] = 'Hi'\n",
    "hello_world.get_value()"
   ]
  },
  {
   "cell_type": "markdown",
   "id": "f53dc13a",
   "metadata": {},
   "source": [
    "To completely replace the value of a quib, even with objects of a different type, use the `assign_value` method:"
   ]
  },
  {
   "cell_type": "code",
   "execution_count": 11,
   "id": "1ea9ca06",
   "metadata": {
    "scrolled": true
   },
   "outputs": [
    {
     "data": {
      "text/plain": [
       "'anything'"
      ]
     },
     "execution_count": 11,
     "metadata": {},
     "output_type": "execute_result"
    }
   ],
   "source": [
    "city_data.assign_value('anything')\n",
    "city_data.get_value()"
   ]
  },
  {
   "cell_type": "markdown",
   "id": "e793e695",
   "metadata": {},
   "source": [
    "### Functional quibs\n",
    "\n",
    "#### Applying functions or operators to quibs creates a *function-quib* that performs these operations\n",
    "Applying *Python* functions or operators to quibs, or to combinations of quibs with other objects, creates a *function-quib* whose function is to perform the indicated operation. Quibs can work with many standard *Python*, *NumPy* and *matplotlib* functions. Operators such as `+`, `-`, `/`, `*`, `**`, are also supported. Furthermore, indexing a quib also creates a function-quib. We can therefore easily define functional quibs using standard *Python* syntax."
   ]
  },
  {
   "cell_type": "markdown",
   "id": "bd54f37b",
   "metadata": {},
   "source": [
    "As a simple example, let's start with an input quib `z` representing a numeric *NumPy* array:"
   ]
  },
  {
   "cell_type": "code",
   "execution_count": 12,
   "id": "52f7d342",
   "metadata": {},
   "outputs": [],
   "source": [
    "z = iquib(np.array([3, 1, 2]))"
   ]
  },
  {
   "cell_type": "markdown",
   "id": "641e4585",
   "metadata": {},
   "source": [
    "We can use this quib in standard functions and operations, just like we would use a normal *NumPy* array. For example:"
   ]
  },
  {
   "cell_type": "code",
   "execution_count": 13,
   "id": "f7f31823",
   "metadata": {},
   "outputs": [
    {
     "data": {
      "text/plain": [
       "z_sqr = z ^ 2"
      ]
     },
     "execution_count": 13,
     "metadata": {},
     "output_type": "execute_result"
    }
   ],
   "source": [
    "z_sqr = z ** 2\n",
    "z_sqr"
   ]
  },
  {
   "cell_type": "markdown",
   "id": "eb39bf5d",
   "metadata": {},
   "source": [
    "The operation above created `z_sqr` which is a functional quib whose _function_ is to square the *value* of `z`."
   ]
  },
  {
   "cell_type": "markdown",
   "id": "23a73677",
   "metadata": {},
   "source": [
    "We can similarly continue with additional downstream operations. Say, calculating the sum of all the elements of `z_sqr`:"
   ]
  },
  {
   "cell_type": "code",
   "execution_count": 14,
   "id": "f3eefb2c",
   "metadata": {},
   "outputs": [
    {
     "data": {
      "text/plain": [
       "sum_z_sqr = sum(z_sqr)"
      ]
     },
     "execution_count": 14,
     "metadata": {},
     "output_type": "execute_result"
    }
   ],
   "source": [
    "sum_z_sqr = np.sum(z_sqr)\n",
    "sum_z_sqr"
   ]
  },
  {
   "cell_type": "markdown",
   "id": "48f3b5b3",
   "metadata": {},
   "source": [
    "#### Quibs are typically defined declaratively (lazy evaluation) \n",
    "\n",
    "In general, quib operations are declarative; they define quibs with assigned functions, but do not execute these functions. For example, the statement above, `sum_z_sqr = np.sum(z_sqr)` creates a new quib whose function is to perform `np.sum` on the value of `z_sqr`, but this summation is not yet computed (deferred evaluation). The summation is only performed when we ask for the value of the quib."
   ]
  },
  {
   "cell_type": "markdown",
   "id": "438a3584",
   "metadata": {},
   "source": [
    "#### Quib values are only calculated when their value is requested\n",
    "To calculate the value of a funational-quib, we can use the `get_value()` method:"
   ]
  },
  {
   "cell_type": "code",
   "execution_count": 15,
   "id": "21c28fac",
   "metadata": {},
   "outputs": [
    {
     "data": {
      "text/plain": [
       "14"
      ]
     },
     "execution_count": 15,
     "metadata": {},
     "output_type": "execute_result"
    }
   ],
   "source": [
    "sum_z_sqr.get_value() # 3^2 + 1^2 + 2^2"
   ]
  },
  {
   "cell_type": "markdown",
   "id": "5561133a",
   "metadata": {},
   "source": [
    "The statement above cause the evaluation of `sum_z_sqr` (performing the function `np.sum` on the value of `z_sqr`). This operation, in turn, also caused the evaluation of `z_sqr`. "
   ]
  },
  {
   "cell_type": "markdown",
   "id": "02fcbf1d",
   "metadata": {},
   "source": [
    "#### Function quibs cache their calculated value\n",
    "Following calculation of its value, a quib can cache the result to avoid unnecessary future calculations. Repeated requests for the value of the quib thereby do not require recalculations. "
   ]
  },
  {
   "cell_type": "markdown",
   "id": "55373055",
   "metadata": {},
   "source": [
    "### Upstream changes automatically propagate to affect downstream results.\n",
    "\n",
    "When we make changes to a quib, these changes are automatically propagated downstream to affect the values of dependent quibs (recursively). For example, suppose we change one of the elements of our input quib `z`:"
   ]
  },
  {
   "cell_type": "code",
   "execution_count": 16,
   "id": "5361f44b",
   "metadata": {},
   "outputs": [],
   "source": [
    "z[2] = 0"
   ]
  },
  {
   "cell_type": "markdown",
   "id": "e36bc4a6",
   "metadata": {},
   "source": [
    "When such change is made, downstream dependent quibs are notified that their cached output is no longer valid (though, no calculation is being performed). Then, when we ask for the value of a downstream quib, it will get recalculated to reflect the upstream change:"
   ]
  },
  {
   "cell_type": "code",
   "execution_count": 17,
   "id": "823252c6",
   "metadata": {},
   "outputs": [
    {
     "data": {
      "text/plain": [
       "10"
      ]
     },
     "execution_count": 17,
     "metadata": {},
     "output_type": "execute_result"
    }
   ],
   "source": [
    "sum_z_sqr.get_value() # 3^2 + 1^2 + 0^2"
   ]
  },
  {
   "cell_type": "markdown",
   "id": "30cf77ec",
   "metadata": {},
   "source": [
    "### Defining function quibs for a user-function or any unsupported functions\n",
    "\n",
    "Many *Python*, *NumPy* and *matplotlib* functions are supported to work directly on quibs. Yet, some functions are not currently supported to work directly. Similarly, any user function that expect normal, non-quib, arguments cannot work directly with quib arguments. \n",
    "Therefore, Quibbler also provides a generic way to create functional quibs that apply any Python function (whether supported or not) or any user-functions to the value of quib arguments. This is done using the `q` function: the syntax `w = q(fun, *args, **kwards)` defines a new function-quib `w` whose function is to apply `fun` on the provided args and kwards arguments, while replacing any quib arguments with with respective values. \n",
    "\n",
    "For example, consider the Python function `str`. Applying `str(quib)` returns the string representation of the quib, rather than a function quib that performs `str` on the value of the quib: "
   ]
  },
  {
   "cell_type": "code",
   "execution_count": 18,
   "id": "733423b0",
   "metadata": {},
   "outputs": [
    {
     "data": {
      "text/plain": [
       "'sum_z_sqr = sum(z_sqr)'"
      ]
     },
     "execution_count": 18,
     "metadata": {},
     "output_type": "execute_result"
    }
   ],
   "source": [
    "str(sum_z_sqr)"
   ]
  },
  {
   "cell_type": "markdown",
   "id": "0492cdc4",
   "metadata": {},
   "source": [
    "Alternatively, to create a new function quib that performs the function `str` on the value of `sum_z_sqr`, we can use the `q` syntax:"
   ]
  },
  {
   "cell_type": "code",
   "execution_count": 19,
   "id": "4ba07f5f",
   "metadata": {},
   "outputs": [
    {
     "data": {
      "text/plain": [
       "str_sum_z_sqr = str(sum_z_sqr)"
      ]
     },
     "execution_count": 19,
     "metadata": {},
     "output_type": "execute_result"
    }
   ],
   "source": [
    "str_sum_z_sqr = q(str, sum_z_sqr)\n",
    "str_sum_z_sqr # this is a function-quib:"
   ]
  },
  {
   "cell_type": "code",
   "execution_count": 20,
   "id": "f64c7111",
   "metadata": {},
   "outputs": [
    {
     "data": {
      "text/plain": [
       "'10'"
      ]
     },
     "execution_count": 20,
     "metadata": {},
     "output_type": "execute_result"
    }
   ],
   "source": [
    "str_sum_z_sqr.get_value() # the value of the function-quib is the string '10'"
   ]
  },
  {
   "cell_type": "markdown",
   "id": "f892f695",
   "metadata": {},
   "source": [
    "### Quib indexing is also interpreted functionally\n",
    "\n",
    "When we index a quib, we get a new quib whose function is to perform the indexing operation. \n",
    "\n",
    "For example, we can define a function quib that calculates the middle value of consecutive elements of an array:"
   ]
  },
  {
   "cell_type": "code",
   "execution_count": 21,
   "id": "8c0bbe65",
   "metadata": {},
   "outputs": [
    {
     "data": {
      "text/plain": [
       "r_middle = (r[0:-1] + r[1:]) / 2"
      ]
     },
     "execution_count": 21,
     "metadata": {},
     "output_type": "execute_result"
    }
   ],
   "source": [
    "r = iquib(np.array([0., 3., 2., 5., 8.]))\n",
    "r_middle = (r[0:-1] + r[1:]) / 2\n",
    "r_middle"
   ]
  },
  {
   "cell_type": "code",
   "execution_count": 22,
   "id": "373ef964",
   "metadata": {},
   "outputs": [
    {
     "data": {
      "text/plain": [
       "array([1.5, 2.5, 3.5, 6.5])"
      ]
     },
     "execution_count": 22,
     "metadata": {},
     "output_type": "execute_result"
    }
   ],
   "source": [
    "r_middle.get_value()"
   ]
  },
  {
   "cell_type": "markdown",
   "id": "aeeed901",
   "metadata": {},
   "source": [
    "Note that `r_middle` is defined functionaly; if its argument change it will get re-evaluated:"
   ]
  },
  {
   "cell_type": "code",
   "execution_count": 23,
   "id": "b08ff07a",
   "metadata": {},
   "outputs": [
    {
     "data": {
      "text/plain": [
       "array([1.5, 2.5, 3.5, 9. ])"
      ]
     },
     "execution_count": 23,
     "metadata": {},
     "output_type": "execute_result"
    }
   ],
   "source": [
    "r[-1] = 13.\n",
    "r_middle.get_value()"
   ]
  },
  {
   "cell_type": "markdown",
   "id": "b983eec9",
   "metadata": {},
   "source": [
    "### Quibs can be combined with graphics functions, readily forming interactive GUIs.\n",
    "\n",
    "Graphical functions too can be applied to quibs. Such graphics is bi-directionally linked to the quib: changes to upstream quibs refresh the graphics, and user interactions with the graphics can change upstream quibs (see also a separate chapter on [[Inverse assignments]]).\n",
    "\n",
    "Consider, for example, the presentation of a graphics marker whose x-y coordinates are specified by quibs. Moving the graphics marker will change the values of x and y. Any quib graphics that depend on x or y will immediately refresh. "
   ]
  },
  {
   "cell_type": "code",
   "execution_count": 24,
   "id": "db24622e",
   "metadata": {},
   "outputs": [],
   "source": [
    "# define and plot a curve:\n",
    "curve_function = lambda v: 4 * v ** 2 - v ** 3\n",
    "graph_xs = np.arange(0, 4, .2)\n",
    "graph_ys = curve_function(graph_xs)\n",
    "plt.figure(figsize=(4,3))\n",
    "plt.plot(graph_xs, graph_ys, 'k')\n",
    "plt.axis([0, 4, 0, 12])\n",
    "\n",
    "# define x-y quibs:\n",
    "point_x = iquib(3.)\n",
    "point_y = q(curve_function, point_x)\n",
    "\n",
    "# Plot the point, use picker=True to allow dragging\n",
    "plt.plot(point_x, point_y, marker='o', markerfacecolor='c', \n",
    "         markersize=18, picker=True, pickradius=20)\n",
    "\n",
    "# Define and plot text (this text will change when the marker is dragged):\n",
    "xy_str = q(\"X={:.2f}, Y={:.2f}\".format, point_x, point_y)\n",
    "plt.text(point_x, point_y + .6, xy_str, \n",
    "         horizontalalignment=\"center\",\n",
    "         verticalalignment=\"bottom\", fontsize=13);"
   ]
  },
  {
   "cell_type": "markdown",
   "id": "4086de02",
   "metadata": {},
   "source": [
    "[[/images/demo_gif/quibdemo_drag_on_curve.gif]]"
   ]
  }
 ],
 "metadata": {
  "kernelspec": {
   "display_name": "Python 3 (ipykernel)",
   "language": "python",
   "name": "python3"
  },
  "language_info": {
   "codemirror_mode": {
    "name": "ipython",
    "version": 3
   },
   "file_extension": ".py",
   "mimetype": "text/x-python",
   "name": "python",
   "nbconvert_exporter": "python",
   "pygments_lexer": "ipython3",
   "version": "3.9.7"
  }
 },
 "nbformat": 4,
 "nbformat_minor": 5
}
