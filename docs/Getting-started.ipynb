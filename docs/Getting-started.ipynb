{
 "cells": [
  {
   "cell_type": "markdown",
   "id": "dd5f1390",
   "metadata": {},
   "source": [
    "# Getting started with Data Quibbler\n",
    "\n",
    "Below is a quick tutorial of *Quibbler* for *Python* (`pyquibbler`). It briefly shows some of the basic functionality and concepts, providing links to more compehensive descriptions on each topic.\n",
    "\n",
    "You may also consult with the [[Examples]] to quickly demo some of the key functionalities of *Quibbler*."
   ]
  },
  {
   "cell_type": "markdown",
   "id": "b55a0b1e",
   "metadata": {},
   "source": [
    "## Setting up"
   ]
  },
  {
   "cell_type": "markdown",
   "id": "1acf8337",
   "metadata": {},
   "source": [
    "### Install\n",
    "\n",
    "To install *Quibbler* use: [Maor: anything else? specify the version requirements?]\n",
    "\n",
    "`pip install pyquibbler`"
   ]
  },
  {
   "cell_type": "markdown",
   "id": "6ec30e18",
   "metadata": {},
   "source": [
    "### Import\n",
    "\n",
    "`pyquibbler` is conventionally imported as `qb`. In addition, it is convenient to directly import some key functions such as `iquib` and `q` (which will be explained below). Following import, we need to also execute `qb.override_all()` which configure *NumPy* and *Matplotlib* functions to work with *Quibbler*. Imports of *NumPy* and *Matplotlib*, if needed, shoud follow the execution of `qb.override_all()`. [Maor: correct? Anything else?] A typical import therefore looks like:"
   ]
  },
  {
   "cell_type": "code",
   "execution_count": 11,
   "id": "4d8a2407",
   "metadata": {},
   "outputs": [],
   "source": [
    "# importing and initializing pyquibbler:\n",
    "import pyquibbler as qb\n",
    "from pyquibbler import iquib, q\n",
    "qb.override_all()\n",
    "\n",
    "# any other imports:\n",
    "import matplotlib.pyplot as plt\n",
    "import numpy as np"
   ]
  },
  {
   "cell_type": "markdown",
   "id": "12e51587",
   "metadata": {},
   "source": [
    "### Graphics backend\n",
    "\n",
    "`pyquibbler` works well with `tk` and `widget` [Maor: anything else?].\n",
    "\n",
    "If you are using *Jupiter Notebook*, use for example:"
   ]
  },
  {
   "cell_type": "code",
   "execution_count": 12,
   "id": "297320d4",
   "metadata": {},
   "outputs": [],
   "source": [
    "%matplotlib tk"
   ]
  },
  {
   "cell_type": "markdown",
   "id": "16a36ded",
   "metadata": {},
   "source": [
    "## The quib object\n",
    "\n",
    "A `Quib` is an object that represents an output *value* as well as the *function* and *arguments* used to calculate this value.  There are two major types of quibs: *input-quibs* (i-quibs) which take any *Python* object [Maor: any object - true?] as their argument and present it as their value (their function is trivially the identity function), and *function-quibs* (f-quibs) that produce their output value by applying a given function to a given list of arguments, which could be i-quibs, other f-quibs and any other *Python* objects. "
   ]
  },
  {
   "cell_type": "markdown",
   "id": "640af06c",
   "metadata": {},
   "source": [
    "### Input quib (i-quib)\n",
    "\n",
    "Any *Python* object can be transformed into an i-quib using the `iquib` command. For example:"
   ]
  },
  {
   "cell_type": "code",
   "execution_count": 13,
   "id": "b0bb915e",
   "metadata": {},
   "outputs": [
    {
     "data": {
      "text/plain": [
       "my_lucky_number = iquib(7)"
      ]
     },
     "execution_count": 13,
     "metadata": {},
     "output_type": "execute_result"
    }
   ],
   "source": [
    "my_lucky_number = iquib(7)\n",
    "my_lucky_number"
   ]
  },
  {
   "cell_type": "markdown",
   "id": "dc6dfb9e",
   "metadata": {},
   "source": [
    "Note that the string representation of a quib shows its *name* (in this case 'my_lucky_number'; see [[name]] property) and its *function* and *arguments* (in this case, 'iquib(7)'; See [[func]], [[args]], [[kwargs]] properties). "
   ]
  },
  {
   "cell_type": "markdown",
   "id": "3fd567f4",
   "metadata": {},
   "source": [
    "#### Getting the quib's value using `get_value()`\n",
    "To get the output *value* of the quib, we use the [[get_value]] method:"
   ]
  },
  {
   "cell_type": "code",
   "execution_count": 14,
   "id": "4e21346a",
   "metadata": {},
   "outputs": [
    {
     "data": {
      "text/plain": [
       "7"
      ]
     },
     "execution_count": 14,
     "metadata": {},
     "output_type": "execute_result"
    }
   ],
   "source": [
    "my_lucky_number.get_value()"
   ]
  },
  {
   "cell_type": "markdown",
   "id": "2b52baa0",
   "metadata": {},
   "source": [
    "#### Input quibs can represent objects of any class [Maor: true?]\n",
    "Quibs can represent any *Python* object including Numeric, String, List, Tuple, Set, and\n",
    "Dictionary. They can also represent *NumPy* ndarrays, *Matplotlib* Artists as well as essentially any other type of objects.\n",
    "\n",
    "For example:"
   ]
  },
  {
   "cell_type": "code",
   "execution_count": 15,
   "id": "687dd098",
   "metadata": {},
   "outputs": [
    {
     "data": {
      "text/plain": [
       "city_data = iquib({'City': 'Haifa', 'Population': 279247})"
      ]
     },
     "execution_count": 15,
     "metadata": {},
     "output_type": "execute_result"
    }
   ],
   "source": [
    "city_data = iquib({'City':'Haifa', 'Population':279247})\n",
    "city_data"
   ]
  },
  {
   "cell_type": "code",
   "execution_count": 16,
   "id": "97280fb2",
   "metadata": {},
   "outputs": [
    {
     "data": {
      "text/plain": [
       "['Hello', 'World']"
      ]
     },
     "execution_count": 16,
     "metadata": {},
     "output_type": "execute_result"
    }
   ],
   "source": [
    "hello_world = iquib(['Hello','World'])\n",
    "hello_world.get_value()"
   ]
  },
  {
   "cell_type": "markdown",
   "id": "929e6da2",
   "metadata": {},
   "source": [
    "#### Assigning new values to input quibs\n",
    "\n",
    "Input quibs can be modified by assignments using standard *Python* assignment syntax:"
   ]
  },
  {
   "cell_type": "code",
   "execution_count": 17,
   "id": "21ff5f9b",
   "metadata": {},
   "outputs": [
    {
     "data": {
      "text/plain": [
       "['Hi', 'World']"
      ]
     },
     "execution_count": 17,
     "metadata": {},
     "output_type": "execute_result"
    }
   ],
   "source": [
    "hello_world[0] = 'Hi'\n",
    "hello_world.get_value()"
   ]
  },
  {
   "cell_type": "markdown",
   "id": "f53dc13a",
   "metadata": {},
   "source": [
    "To completely replace the value of a quib, even with objects of a different type, use the `assign_value()` method:"
   ]
  },
  {
   "cell_type": "code",
   "execution_count": 18,
   "id": "1ea9ca06",
   "metadata": {
    "scrolled": true
   },
   "outputs": [
    {
     "data": {
      "text/plain": [
       "'anything'"
      ]
     },
     "execution_count": 18,
     "metadata": {},
     "output_type": "execute_result"
    }
   ],
   "source": [
    "city_data.assign_value('anything')\n",
    "city_data.get_value()"
   ]
  },
  {
   "cell_type": "markdown",
   "id": "e793e695",
   "metadata": {},
   "source": [
    "### Function quib (f-quib)\n",
    "\n",
    "#### Applying functions or operators to quib arguments creates a *function-quib* that performs these operations\n",
    "Quibbler modifies standard functions and operators suich that can work directly with quib arguments, or with combinations of quibs and other objects, to create a new *f-quib*, whose function is to perform the indicated operation. When we execute `qb.override_all()` (see in the import abobe),  *Quibbler* modifies many standard *Python*, *NumPy* and *Matplotlib* functions such that can work directly with quib arguments. Such Quibbler-adapted functions are called _quiby functions_ (see [full list[Quiby functions]]). Operators, such as `+`, `-`, `<`, `>`, `**`, `@`, etc. are also quiby, and so are all types of indexing including slicing, field access, and advanced indexing [Maor: correct?]. We can therefore easily define a chanined network of functional quibs using standard *Python* syntax."
   ]
  },
  {
   "cell_type": "markdown",
   "id": "bd54f37b",
   "metadata": {},
   "source": [
    "As a simple example, let's start with an input quib `z` representing a numeric *NumPy* array:"
   ]
  },
  {
   "cell_type": "code",
   "execution_count": 19,
   "id": "52f7d342",
   "metadata": {},
   "outputs": [],
   "source": [
    "z = iquib(np.array([2, 1, 2, 3]))"
   ]
  },
  {
   "cell_type": "markdown",
   "id": "641e4585",
   "metadata": {},
   "source": [
    "We can use this quib in standard functions and operations, just like we would use a normal numeric *NumPy* array. For example:"
   ]
  },
  {
   "cell_type": "code",
   "execution_count": 20,
   "id": "f7f31823",
   "metadata": {},
   "outputs": [
    {
     "data": {
      "text/plain": [
       "z_sqr = z ** 2"
      ]
     },
     "execution_count": 20,
     "metadata": {},
     "output_type": "execute_result"
    }
   ],
   "source": [
    "z_sqr = z ** 2\n",
    "z_sqr"
   ]
  },
  {
   "cell_type": "markdown",
   "id": "eb39bf5d",
   "metadata": {},
   "source": [
    "The statement above created `z_sqr` which is a functional quib whose _function_ is to square the *value* of `z`."
   ]
  },
  {
   "cell_type": "markdown",
   "id": "23a73677",
   "metadata": {},
   "source": [
    "We can similarly continue with additional downstream operations. Say, calculating the average of the elements of `z_sqr`:"
   ]
  },
  {
   "cell_type": "code",
   "execution_count": 21,
   "id": "f3eefb2c",
   "metadata": {},
   "outputs": [
    {
     "data": {
      "text/plain": [
       "mean_z_sqr = average(z_sqr)"
      ]
     },
     "execution_count": 21,
     "metadata": {},
     "output_type": "execute_result"
    }
   ],
   "source": [
    "mean_z_sqr = np.average(z_sqr)\n",
    "mean_z_sqr"
   ]
  },
  {
   "cell_type": "markdown",
   "id": "48f3b5b3",
   "metadata": {},
   "source": [
    "#### Quibs are defined declaratively (lazy evaluation) \n",
    "\n",
    "In general, quib operations are declarative; they define a quib with a specified function and arguments, but do not immediately execute this function. For example, the statement above, `mean_z_zqr = np.average(z_sqr)` creates a new quib whose function is to perform `np.average` on the value of `z_sqr`, but this averaging operation is not yet computed (deferred evaluation). Instead, as shown below, the quib's function is only evaluated when we ask for the value of the quib."
   ]
  },
  {
   "cell_type": "markdown",
   "id": "438a3584",
   "metadata": {},
   "source": [
    "#### Quib functions are only evaluated when their output value is needed\n",
    "\n",
    "To calculate the value of a funational-quib, we can use the `get_value()` method:"
   ]
  },
  {
   "cell_type": "code",
   "execution_count": 22,
   "id": "21c28fac",
   "metadata": {},
   "outputs": [
    {
     "data": {
      "text/plain": [
       "4.5"
      ]
     },
     "execution_count": 22,
     "metadata": {},
     "output_type": "execute_result"
    }
   ],
   "source": [
    "mean_z_sqr.get_value() # (2^2 + 1^2 + 2^2 + 3^2) / 4 = 4.5"
   ]
  },
  {
   "cell_type": "markdown",
   "id": "5561133a",
   "metadata": {},
   "source": [
    "The statement above triggers the evaluation of `mean_z_sqr`: performing the function `np.average` on the *value* of `z_sqr`. This operation, in turn, therefore also triggers the evaluation of `z_sqr`."
   ]
  },
  {
   "cell_type": "markdown",
   "id": "e2afc014",
   "metadata": {},
   "source": [
    "#### f-quibs cache their calculated value\n",
    "\n",
    "Following calculation of its value, a quib can cache the result to avoid unnecessary future calculations. Repeated requests for the value of the quib thereby do not require recalculations. For more about caching, see the [[cache_behavior]] and [[cache_status]] properties. "
   ]
  },
  {
   "cell_type": "markdown",
   "id": "55373055",
   "metadata": {},
   "source": [
    "### Upstream changes automatically propagate to affect downstream results\n",
    "\n",
    "When we make changes to a quib, these changes are automatically propagated downstream to affect the values of dependent quibs (recursively). For example, suppose we change one of the elements of our input quib `z`:"
   ]
  },
  {
   "cell_type": "code",
   "execution_count": 23,
   "id": "5361f44b",
   "metadata": {},
   "outputs": [],
   "source": [
    "z[2] = 0"
   ]
  },
  {
   "cell_type": "markdown",
   "id": "e36bc4a6",
   "metadata": {},
   "source": [
    "When such a change is made, downstream dependent quibs are notified that some or all of their cached output is no longer valid (though, no re-calculation is immediately being performed). Then, when we ask for the value of a downstream quib, it will get recalculated to reflect the upstream change:"
   ]
  },
  {
   "cell_type": "code",
   "execution_count": 24,
   "id": "c75ebb4d",
   "metadata": {},
   "outputs": [
    {
     "data": {
      "text/plain": [
       "3.5"
      ]
     },
     "execution_count": 24,
     "metadata": {},
     "output_type": "execute_result"
    }
   ],
   "source": [
    "mean_z_sqr.get_value() # (2^2 + 1^2 + 0^2 + 3^2) / 4 = 3.5"
   ]
  },
  {
   "cell_type": "markdown",
   "id": "4a7b6cd4",
   "metadata": {},
   "source": [
    "### Quib indexing too is interpreted decleratively\n",
    "\n",
    "Similarily to applying functions on quib arguments, which returns a function quib, index a quib also creates a function quib whose function is to perform the indexing operation. \n",
    "\n",
    "For example, we can define a function quib that calculates the middle value of each two consecutive elements of an array:"
   ]
  },
  {
   "cell_type": "code",
   "execution_count": 25,
   "id": "857b07d3",
   "metadata": {},
   "outputs": [
    {
     "data": {
      "text/plain": [
       "r_middle = (r[0:-1] + r[1:]) * 0.5"
      ]
     },
     "execution_count": 25,
     "metadata": {},
     "output_type": "execute_result"
    }
   ],
   "source": [
    "r = iquib(np.array([0., 3., 2., 5., 8.]))\n",
    "r_middle = (r[0:-1] + r[1:]) * 0.5\n",
    "r_middle"
   ]
  },
  {
   "cell_type": "code",
   "execution_count": 26,
   "id": "e2005e86",
   "metadata": {},
   "outputs": [
    {
     "data": {
      "text/plain": [
       "array([1.5, 2.5, 3.5, 6.5])"
      ]
     },
     "execution_count": 26,
     "metadata": {},
     "output_type": "execute_result"
    }
   ],
   "source": [
    "r_middle.get_value()"
   ]
  },
  {
   "cell_type": "markdown",
   "id": "23815192",
   "metadata": {},
   "source": [
    "Note that `r_middle` is defined functionaly; if its argument change it will get re-evaluated:"
   ]
  },
  {
   "cell_type": "code",
   "execution_count": 27,
   "id": "0941724c",
   "metadata": {},
   "outputs": [
    {
     "data": {
      "text/plain": [
       "array([1.5, 2.5, 3.5, 9. ])"
      ]
     },
     "execution_count": 27,
     "metadata": {},
     "output_type": "execute_result"
    }
   ],
   "source": [
    "r[-1] = 13.\n",
    "r_middle.get_value()"
   ]
  },
  {
   "cell_type": "markdown",
   "id": "39aedb51",
   "metadata": {},
   "source": [
    "### Any function can be implemented as \"_quiby_\"\n",
    "\n",
    "While many *Python*, *NumPy* and *Matplotlib* functions are supported to work directly on quibs [Quiby functions]], some functions are left regular, not quiby. In addition, any typical user function is generally not quiby. Therefore, to allow a generic way to create a function quib for _any_ function, even non-quiby, Quibbler provides a special syntax, called the _q-syntax_. Defining `w = q(fun, *args, **kwards)` creates a new function-quib `w` whose value is calculated by applyig the function `fun` on the provided args and kwards arguments, while replacing any quib arguments with their respective values. "
   ]
  },
  {
   "cell_type": "markdown",
   "id": "b0cf7a13",
   "metadata": {},
   "source": [
    "For example, to define a quib that implements a string-specific `format()` function (which is not a *Quibbler* function), we can use:"
   ]
  },
  {
   "cell_type": "code",
   "execution_count": 28,
   "id": "fcfe72d9",
   "metadata": {},
   "outputs": [
    {
     "data": {
      "text/plain": [
       "'X=2, Y=3'"
      ]
     },
     "execution_count": 28,
     "metadata": {},
     "output_type": "execute_result"
    }
   ],
   "source": [
    "xy = iquib([2, 3])\n",
    "xy_text = q('X={}, Y={}'.format, xy[0], xy[1])\n",
    "xy_text.get_value()"
   ]
  },
  {
   "cell_type": "code",
   "execution_count": 29,
   "id": "534dd7c1",
   "metadata": {},
   "outputs": [
    {
     "data": {
      "text/plain": [
       "'X=2, Y=5'"
      ]
     },
     "execution_count": 29,
     "metadata": {},
     "output_type": "execute_result"
    }
   ],
   "source": [
    "xy[1] = 5\n",
    "xy_text.get_value()"
   ]
  },
  {
   "cell_type": "markdown",
   "id": "cf309a38",
   "metadata": {},
   "source": [
    "As another example, consider `str`: applied to quib, it returns its string represntation, rather than a new quib that performs `str` on the value of the argument quib. If we want the latter, we can use the `q` syntax:"
   ]
  },
  {
   "cell_type": "code",
   "execution_count": 30,
   "id": "62d51477",
   "metadata": {},
   "outputs": [
    {
     "data": {
      "text/plain": [
       "'w = iquib(7)'"
      ]
     },
     "execution_count": 30,
     "metadata": {},
     "output_type": "execute_result"
    }
   ],
   "source": [
    "w = iquib(7)\n",
    "str_native = str(w)\n",
    "str_native"
   ]
  },
  {
   "cell_type": "code",
   "execution_count": 31,
   "id": "9e3ca61b",
   "metadata": {},
   "outputs": [
    {
     "data": {
      "text/plain": [
       "'7'"
      ]
     },
     "execution_count": 31,
     "metadata": {},
     "output_type": "execute_result"
    }
   ],
   "source": [
    "str_quiby = q(str, w)\n",
    "str_quiby.get_value()"
   ]
  },
  {
   "cell_type": "markdown",
   "id": "21d2c349",
   "metadata": {},
   "source": [
    "Other common *Python* functions that are not quiby, yet can be implemented using the `q` syntax include: `len`, `int`, `str` [Maor: others?]. "
   ]
  },
  {
   "cell_type": "markdown",
   "id": "be13f262",
   "metadata": {},
   "source": [
    "### Calculation effeciency\n",
    "\n",
    "As noted above, calculations in *Quibbler* are cached and are only repeated following changes to upstream inputs. Notably though, when upstream changes occur, *Quibbler* does not blindly invalidates all downstream results. Instead, it follows which are specific quibs and the specific pinpointed slices or elements thereof, that must be recalculated, thereby effeciently reducing required calculations. \n",
    "\n",
    "Consider the following example:"
   ]
  },
  {
   "cell_type": "code",
   "execution_count": 32,
   "id": "214e0553",
   "metadata": {},
   "outputs": [],
   "source": [
    "def my_mean(x):\n",
    "    print('Calculating the mean of: ',x)\n",
    "    return np.average(np.log(x))"
   ]
  },
  {
   "cell_type": "code",
   "execution_count": 33,
   "id": "7ec549bd",
   "metadata": {},
   "outputs": [],
   "source": [
    "v = iquib(np.array([1, 3, 2, 3, 1, 4]))\n",
    "v_sqr = v ** 2\n",
    "n = 3 #q(len, v) // 2\n",
    "mean_v_sqr_left = q(my_mean, v_sqr[0:n]) # average of the first 3 elements of v_sqr\n",
    "mean_v_sqr_right = q(my_mean, v_sqr[n:]) # average of the last 3 elements of v_sqr\n",
    "mean_v_sqr = np.array([mean_v_sqr_left, mean_v_sqr_right])"
   ]
  },
  {
   "cell_type": "code",
   "execution_count": 34,
   "id": "b23be16c",
   "metadata": {},
   "outputs": [
    {
     "name": "stdout",
     "output_type": "stream",
     "text": [
      "Calculating the mean of:  [1 9 4]\n",
      "Calculating the mean of:  [ 9  1 16]\n",
      "Calculating the mean of:  [1 9 4]\n",
      "Calculating the mean of:  [ 9  1 16]\n"
     ]
    },
    {
     "data": {
      "text/plain": [
       "array([1.19450631, 1.65660443])"
      ]
     },
     "execution_count": 34,
     "metadata": {},
     "output_type": "execute_result"
    }
   ],
   "source": [
    "mean_v_sqr.get_value()"
   ]
  },
  {
   "cell_type": "code",
   "execution_count": 35,
   "id": "9c0dab79",
   "metadata": {},
   "outputs": [
    {
     "name": "stdout",
     "output_type": "stream",
     "text": [
      "Calculating the mean of:  [ 9  1 25]\n"
     ]
    },
    {
     "data": {
      "text/plain": [
       "array([1.19450631, 1.8053668 ])"
      ]
     },
     "execution_count": 35,
     "metadata": {},
     "output_type": "execute_result"
    }
   ],
   "source": [
    "v[5] = 5\n",
    "mean_v_sqr.get_value() \n",
    "# Quibbler knows to only re-calculate the mean of the last 3-elements:"
   ]
  },
  {
   "cell_type": "markdown",
   "id": "2b6f0999",
   "metadata": {},
   "source": [
    "### Matplotlib functions too can work directly on quibs, creating \"live\" graphics\n",
    "\n",
    "Graphics *Matplotlib* functions too can work directly with quib arguments, creating *graphics quibs*, which represent \"live\" graphics: graphics that automatically refreshes upon upstream changes. \n",
    "\n",
    "For example:"
   ]
  },
  {
   "cell_type": "code",
   "execution_count": 36,
   "id": "aaf2db0c",
   "metadata": {},
   "outputs": [],
   "source": [
    "z = iquib(np.array([1., 2, 2, 3, 1, 4]))\n",
    "z_sqr = z ** 2\n",
    "mean_z_sqr = np.average(z_sqr)"
   ]
  },
  {
   "cell_type": "code",
   "execution_count": 37,
   "id": "24115348",
   "metadata": {
    "scrolled": true
   },
   "outputs": [],
   "source": [
    "plt.plot(z_sqr, '-o')\n",
    "plt.plot([0, 5], mean_z_sqr + [0, 0],'k--')\n",
    "plt.text(0, mean_z_sqr + 0.5, q('Average = {:.2f}'.format, mean_z_sqr))\n",
    "plt.ylabel(str(z_sqr));\n",
    "plt.ylim([0, 17]);"
   ]
  },
  {
   "cell_type": "markdown",
   "id": "717c5fc4",
   "metadata": {},
   "source": [
    "[[/images/graphics_refresh.gif]]"
   ]
  },
  {
   "cell_type": "markdown",
   "id": "4a5df65e",
   "metadata": {},
   "source": [
    "Note that unlike regular quibs which evaluate *lazily*, graphics quibs are evaluated *eagerly*, immediately upon creation, and are also recalculated immediately upon upstream changes, thereby enabling the above behavior."
   ]
  },
  {
   "cell_type": "markdown",
   "id": "b983eec9",
   "metadata": {},
   "source": [
    "### Quibbler readily creates interactive GUIs.\n",
    "\n",
    "We have seen that graphics quibs automatically refresh when upstream changes occur, yet this data-to-graphics linkage can also be used reversely, readily creating interactive GUIs. Indicating `picer=True` for plots allows the user to drag the graphics and such changes in the graphics are inverted to upstream changes in the data (see also separate chapters on [[graphics]] and [[Inverse assignments]])."
   ]
  },
  {
   "cell_type": "markdown",
   "id": "35b61533",
   "metadata": {},
   "source": [
    "For example, let's re-plot the data above, ploting both the input `z` and the output `z_aqr` and `mean_z_sqr` and indicating `picker=True`. As can be seen, the points can now be interactively dragged. Dragging `z` affect downstream results. More powerfully, even `z_sqr` can be dragged with these operations inverted to affect upstream `z` and downstream `mean_z_sqr`. "
   ]
  },
  {
   "cell_type": "code",
   "execution_count": 38,
   "id": "4319314f",
   "metadata": {},
   "outputs": [],
   "source": [
    "plt.figure()\n",
    "plt.subplot(2, 1, 1)\n",
    "plt.plot(z, '-o', picker=True)\n",
    "plt.ylabel('z');\n",
    "plt.ylim([0, 5]);"
   ]
  },
  {
   "cell_type": "code",
   "execution_count": 39,
   "id": "e579d1b7",
   "metadata": {},
   "outputs": [],
   "source": [
    "plt.subplot(2, 1, 2)\n",
    "plt.plot(z_sqr, '-o', picker=True)\n",
    "plt.plot([0, 5], mean_z_sqr + [0, 0],'k--')\n",
    "plt.text(0, mean_z_sqr + 0.5, q('Average = {:.2f}'.format, mean_z_sqr))\n",
    "plt.ylabel(str(z_sqr));\n",
    "plt.ylim([0, 17]);"
   ]
  },
  {
   "cell_type": "markdown",
   "id": "2e672c72",
   "metadata": {},
   "source": [
    "[[imges/graphics_inverse.gif]]"
   ]
  }
 ],
 "metadata": {
  "kernelspec": {
   "display_name": "Python 3 (ipykernel)",
   "language": "python",
   "name": "python3"
  },
  "language_info": {
   "codemirror_mode": {
    "name": "ipython",
    "version": 3
   },
   "file_extension": ".py",
   "mimetype": "text/x-python",
   "name": "python",
   "nbconvert_exporter": "python",
   "pygments_lexer": "ipython3",
   "version": "3.9.7"
  }
 },
 "nbformat": 4,
 "nbformat_minor": 5
}
