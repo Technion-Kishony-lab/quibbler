{
 "cells": [
  {
   "cell_type": "markdown",
   "id": "dd5f1390",
   "metadata": {},
   "source": [
    "# Getting started with Data Quibbler\n",
    "\n",
    "Below is a quick introuction tour of *Quibbler* for *Python* (`pyquibbler`). \n",
    "\n",
    "You may also consult with the [[Examples]] to quickly demo some of the key functionalities of *Quibbler*."
   ]
  },
  {
   "cell_type": "markdown",
   "id": "b55a0b1e",
   "metadata": {},
   "source": [
    "## Setting up"
   ]
  },
  {
   "cell_type": "markdown",
   "id": "1acf8337",
   "metadata": {},
   "source": [
    "### Install\n",
    "\n",
    "To install *Quibbler* use: [Maor]\n",
    "\n",
    "`pip install pyquibbler`"
   ]
  },
  {
   "cell_type": "markdown",
   "id": "6ec30e18",
   "metadata": {},
   "source": [
    "### Import\n",
    "\n",
    "`pyquibbler` is conventionally imported as `qb`. In addition, it is convenient to directly import some key functions such as `iquib` and `q` (which will be explained below). Following import, we need to also execute `qb.override_all()` which initiates pyquibbler and configure *NumPy* and *Matplotlib* functions to work with *Quibbler*. Imports of *NumPy* and *Matplotlib*, if needed, shoud follow the execution of `qb.override_all()`. A typical import therefore looks like:"
   ]
  },
  {
   "cell_type": "code",
   "execution_count": 2,
   "id": "4d8a2407",
   "metadata": {},
   "outputs": [],
   "source": [
    "# importing and initializing pyquibbler:\n",
    "import pyquibbler as qb\n",
    "from pyquibbler import iquib, q\n",
    "qb.override_all()\n",
    "\n",
    "# any other imports:\n",
    "import matplotlib.pyplot as plt\n",
    "import numpy as np"
   ]
  },
  {
   "cell_type": "markdown",
   "id": "12e51587",
   "metadata": {},
   "source": [
    "### Graphics backend\n",
    "\n",
    "`pyquibbler` works well with `tk`, `widget` and [Maor].\n",
    "\n",
    "If you are using *Jupiter Notebook*, use for example:"
   ]
  },
  {
   "cell_type": "code",
   "execution_count": 3,
   "id": "297320d4",
   "metadata": {},
   "outputs": [],
   "source": [
    "%matplotlib tk"
   ]
  },
  {
   "cell_type": "markdown",
   "id": "16a36ded",
   "metadata": {},
   "source": [
    "## The quib object\n",
    "\n",
    "A `Quib` is an object that represents an output *value* as well as the *function* and *arguments* used to calculate this value.  There are two major types of quibs: *input-quibs* (i-quibs) which take any *Python* object [Maor: true?] as their argument and present it as their value (their function is trivially the identity function), and *function-quibs* (f-quibs) that produce their output value by applying a given function to a given list of arguments, which could be i-quibs, other f-quibs and any additional *Python* objects. "
   ]
  },
  {
   "cell_type": "markdown",
   "id": "640af06c",
   "metadata": {},
   "source": [
    "### Input quib (i-quib)\n",
    "\n",
    "Any *Python* object can be transformed into an i-quib using the `iquib` command. For example:"
   ]
  },
  {
   "cell_type": "code",
   "execution_count": 3,
   "id": "b0bb915e",
   "metadata": {},
   "outputs": [
    {
     "data": {
      "text/plain": [
       "my_lucky_number = iquib(7)"
      ]
     },
     "execution_count": 3,
     "metadata": {},
     "output_type": "execute_result"
    }
   ],
   "source": [
    "my_lucky_number = iquib(7)\n",
    "my_lucky_number"
   ]
  },
  {
   "cell_type": "markdown",
   "id": "dc6dfb9e",
   "metadata": {},
   "source": [
    "Note that the string representation of a quib shows its *name* (in this case 'my_lucky_number'; see [[name]] property) and its *function* and *arguments* (in this case, 'iquib(7)'; See [[func]], [[args]], [[kwargs]] properties). "
   ]
  },
  {
   "cell_type": "markdown",
   "id": "3fd567f4",
   "metadata": {},
   "source": [
    "#### Getting the quib's value using `get_value()`\n",
    "To get the output *value* of the quib, we use the [[get_value]] method:"
   ]
  },
  {
   "cell_type": "code",
   "execution_count": 4,
   "id": "4e21346a",
   "metadata": {},
   "outputs": [
    {
     "data": {
      "text/plain": [
       "7"
      ]
     },
     "execution_count": 4,
     "metadata": {},
     "output_type": "execute_result"
    }
   ],
   "source": [
    "my_lucky_number.get_value()"
   ]
  },
  {
   "cell_type": "markdown",
   "id": "2b52baa0",
   "metadata": {},
   "source": [
    "#### Input quibs can represent objects of any class [Maor: true?]\n",
    "Quibs can represent any *Python* object including Numeric, String, List, Tuple, Set, and\n",
    "Dictionary. They can also represent *NumPy* ndarrays, *Matplotlib* Artists as well as essentially any other type of objects.\n",
    "\n",
    "For example:"
   ]
  },
  {
   "cell_type": "code",
   "execution_count": 5,
   "id": "687dd098",
   "metadata": {},
   "outputs": [
    {
     "data": {
      "text/plain": [
       "city_data = iquib({'City': 'Haifa', 'Population': 279247})"
      ]
     },
     "execution_count": 5,
     "metadata": {},
     "output_type": "execute_result"
    }
   ],
   "source": [
    "city_data = iquib({'City':'Haifa', 'Population':279247})\n",
    "city_data"
   ]
  },
  {
   "cell_type": "code",
   "execution_count": 6,
   "id": "97280fb2",
   "metadata": {},
   "outputs": [
    {
     "data": {
      "text/plain": [
       "['Hello', 'World']"
      ]
     },
     "execution_count": 6,
     "metadata": {},
     "output_type": "execute_result"
    }
   ],
   "source": [
    "hello_world = iquib(['Hello','World'])\n",
    "hello_world.get_value()"
   ]
  },
  {
   "cell_type": "markdown",
   "id": "929e6da2",
   "metadata": {},
   "source": [
    "#### Assigning new values to input quibs\n",
    "\n",
    "Input quibs can be modified by assignments using standard *Python* assignment syntax:"
   ]
  },
  {
   "cell_type": "code",
   "execution_count": 7,
   "id": "21ff5f9b",
   "metadata": {},
   "outputs": [
    {
     "data": {
      "text/plain": [
       "['Hi', 'World']"
      ]
     },
     "execution_count": 7,
     "metadata": {},
     "output_type": "execute_result"
    }
   ],
   "source": [
    "hello_world[0] = 'Hi'\n",
    "hello_world.get_value()"
   ]
  },
  {
   "cell_type": "markdown",
   "id": "f53dc13a",
   "metadata": {},
   "source": [
    "To completely replace the value of a quib, even with objects of a different type, use the `assign_value` method:"
   ]
  },
  {
   "cell_type": "code",
   "execution_count": 8,
   "id": "1ea9ca06",
   "metadata": {
    "scrolled": true
   },
   "outputs": [
    {
     "data": {
      "text/plain": [
       "'anything'"
      ]
     },
     "execution_count": 8,
     "metadata": {},
     "output_type": "execute_result"
    }
   ],
   "source": [
    "city_data.assign_value('anything')\n",
    "city_data.get_value()"
   ]
  },
  {
   "cell_type": "markdown",
   "id": "e793e695",
   "metadata": {},
   "source": [
    "### Function quib (f-quib)\n",
    "\n",
    "#### Applying functions or operators to quib arguments creates a *function-quib*\n",
    "Applying standard functions or operators to quibs, or to combinations of quibs with other objects, creates an *f-quib* whose function is to perform the indicated operation. Quibs can be used as arguments with many standard *Python*, *NumPy* and *Matplotlib* functions ([[Supported function]]). Operators such as `+`, `-`, `/`, `*`, `**`, are also supported. We can therefore easily define a chanined network of functional quibs using standard *Python* syntax."
   ]
  },
  {
   "cell_type": "markdown",
   "id": "bd54f37b",
   "metadata": {},
   "source": [
    "As a simple example, let's start with an input quib `z` representing a numeric *NumPy* array:"
   ]
  },
  {
   "cell_type": "code",
   "execution_count": 9,
   "id": "52f7d342",
   "metadata": {},
   "outputs": [],
   "source": [
    "z = iquib(np.array([2, 1, 2, 3]))"
   ]
  },
  {
   "cell_type": "markdown",
   "id": "641e4585",
   "metadata": {},
   "source": [
    "We can use this quib in standard functions and operations, just like we would use a normal numeric *NumPy* array. For example:"
   ]
  },
  {
   "cell_type": "code",
   "execution_count": 10,
   "id": "f7f31823",
   "metadata": {},
   "outputs": [
    {
     "data": {
      "text/plain": [
       "z_sqr = z ^ 2"
      ]
     },
     "execution_count": 10,
     "metadata": {},
     "output_type": "execute_result"
    }
   ],
   "source": [
    "z_sqr = z ** 2\n",
    "z_sqr"
   ]
  },
  {
   "cell_type": "markdown",
   "id": "eb39bf5d",
   "metadata": {},
   "source": [
    "The operation above created `z_sqr` which is a functional quib whose _function_ is to square the *value* of `z`."
   ]
  },
  {
   "cell_type": "markdown",
   "id": "23a73677",
   "metadata": {},
   "source": [
    "We can similarly continue with additional downstream operations. Say, calculating the average of the elements of `z_sqr`:"
   ]
  },
  {
   "cell_type": "code",
   "execution_count": 11,
   "id": "f3eefb2c",
   "metadata": {},
   "outputs": [
    {
     "data": {
      "text/plain": [
       "mean_z_sqr = average(z_sqr)"
      ]
     },
     "execution_count": 11,
     "metadata": {},
     "output_type": "execute_result"
    }
   ],
   "source": [
    "mean_z_sqr = np.average(z_sqr)\n",
    "mean_z_sqr"
   ]
  },
  {
   "cell_type": "markdown",
   "id": "48f3b5b3",
   "metadata": {},
   "source": [
    "#### Quibs are typically defined declaratively (lazy evaluation) \n",
    "\n",
    "In general, quib operations are declarative; they define a quib with a specified function and arguments, but do not immediately execute this function. For example, the statement above, `mean_z_zqr = np.average(z_sqr)` creates a new f-quib whose function is to perform `np.average` on the value of `z_sqr`, but this average operation is not yet computed (deferred evaluation). The average function is only evaluated when we ask for the value of the quib."
   ]
  },
  {
   "cell_type": "markdown",
   "id": "438a3584",
   "metadata": {},
   "source": [
    "#### Quib functions are only evaluated when their output value is requested\n",
    "\n",
    "To calculate the value of a funational-quib, we can use the `get_value()` method:"
   ]
  },
  {
   "cell_type": "code",
   "execution_count": 12,
   "id": "21c28fac",
   "metadata": {},
   "outputs": [
    {
     "data": {
      "text/plain": [
       "4.5"
      ]
     },
     "execution_count": 12,
     "metadata": {},
     "output_type": "execute_result"
    }
   ],
   "source": [
    "mean_z_sqr.get_value() # (2^2 + 1^2 + 2^2 + 3^2) / 4 = 4.5"
   ]
  },
  {
   "cell_type": "markdown",
   "id": "5561133a",
   "metadata": {},
   "source": [
    "The statement above cause the evaluation of `mean_z_sqr`, performing the function `np.average` on the *value* of `z_sqr`. This operation, in turn, therefore also caused the evaluation of `z_sqr`. "
   ]
  },
  {
   "cell_type": "markdown",
   "id": "e2afc014",
   "metadata": {},
   "source": [
    "#### f-quibs cache their calculated value\n",
    "\n",
    "Following calculation of its value, a quib can cache the result to avoid unnecessary future calculations. Repeated requests for the value of the quib thereby do not require recalculations. For more about caching, see the [[cache_behavior]] and [[cache_status]] properties. "
   ]
  },
  {
   "cell_type": "markdown",
   "id": "55373055",
   "metadata": {},
   "source": [
    "### Upstream changes automatically propagate to affect downstream results\n",
    "\n",
    "When we make changes to a quib, these changes are automatically propagated downstream to affect the values of dependent quibs (recursively). For example, suppose we change one of the elements of our input quib `z`:"
   ]
  },
  {
   "cell_type": "code",
   "execution_count": 13,
   "id": "5361f44b",
   "metadata": {},
   "outputs": [],
   "source": [
    "z[2] = 0"
   ]
  },
  {
   "cell_type": "markdown",
   "id": "e36bc4a6",
   "metadata": {},
   "source": [
    "When such a change is made, downstream dependent quibs are notified that some or all of their cached output is no longer valid (tough, no re-calculation is immediately being performed). Then, when we ask for the value of a downstream quib, it will get recalculated to reflect the upstream change:"
   ]
  },
  {
   "cell_type": "code",
   "execution_count": 14,
   "id": "c75ebb4d",
   "metadata": {},
   "outputs": [
    {
     "data": {
      "text/plain": [
       "3.5"
      ]
     },
     "execution_count": 14,
     "metadata": {},
     "output_type": "execute_result"
    }
   ],
   "source": [
    "mean_z_sqr.get_value() # (2^2 + 1^2 + 0^2 + 3^2) / 4 = 3.5"
   ]
  },
  {
   "cell_type": "markdown",
   "id": "4a7b6cd4",
   "metadata": {},
   "source": [
    "### Quib indexing is also interpreted functionally\n",
    "\n",
    "When we index a quib, we get a new quib whose function is to perform the indexing operation. \n",
    "\n",
    "For example, we can define a function quib that calculates the middle value of consecutive elements of an array:"
   ]
  },
  {
   "cell_type": "code",
   "execution_count": 20,
   "id": "857b07d3",
   "metadata": {},
   "outputs": [
    {
     "data": {
      "text/plain": [
       "r_middle = (r[0:-1] + r[1:]) * 0.5"
      ]
     },
     "execution_count": 20,
     "metadata": {},
     "output_type": "execute_result"
    }
   ],
   "source": [
    "r = iquib(np.array([0., 3., 2., 5., 8.]))\n",
    "r_middle = (r[0:-1] + r[1:]) * 0.5\n",
    "r_middle"
   ]
  },
  {
   "cell_type": "code",
   "execution_count": 21,
   "id": "e2005e86",
   "metadata": {},
   "outputs": [
    {
     "data": {
      "text/plain": [
       "array([1.5, 2.5, 3.5, 6.5])"
      ]
     },
     "execution_count": 21,
     "metadata": {},
     "output_type": "execute_result"
    }
   ],
   "source": [
    "r_middle.get_value()"
   ]
  },
  {
   "cell_type": "markdown",
   "id": "23815192",
   "metadata": {},
   "source": [
    "Note that `r_middle` is defined functionaly; if its argument change it will get re-evaluated:"
   ]
  },
  {
   "cell_type": "code",
   "execution_count": 22,
   "id": "0941724c",
   "metadata": {},
   "outputs": [
    {
     "data": {
      "text/plain": [
       "array([1.5, 2.5, 3.5, 9. ])"
      ]
     },
     "execution_count": 22,
     "metadata": {},
     "output_type": "execute_result"
    }
   ],
   "source": [
    "r[-1] = 13.\n",
    "r_middle.get_value()"
   ]
  },
  {
   "cell_type": "markdown",
   "id": "30cf77ec",
   "metadata": {},
   "source": [
    "### Defining function quibs for user functions or for ״unsupported״ functions\n",
    "\n",
    "Many *Python*, *NumPy* and *Matplotlib* functions are supported to work directly on quibs [Supported functions]]. Yet, not all functions are not currently supported to work directly on quib arguments. Similarly, any typical user function that expect normal, non-quib, arguments cannot work directly with quib arguments.\n",
    "Therefore, *Quibbler* also provides a generic way to create function quibs that apply *any* Python function (whether supported or not), or any user-function, to the value of specfied quib arguments. This is done using the `q` function. The syntax `w = q(fun, *args, **kwards)` creates a new function-quib `w` whose function is to apply the function `fun` on the provided args and kwards arguments, while replacing any quib arguments with their respective values. \n",
    "\n",
    "For example, consider the Python function `str`. Applying `str(quib)` returns the string representation of the quib:"
   ]
  },
  {
   "cell_type": "code",
   "execution_count": 28,
   "id": "733423b0",
   "metadata": {},
   "outputs": [
    {
     "data": {
      "text/plain": [
       "'mean_z_sqr = average(z_sqr)'"
      ]
     },
     "execution_count": 28,
     "metadata": {},
     "output_type": "execute_result"
    }
   ],
   "source": [
    "str(mean_z_sqr)"
   ]
  },
  {
   "cell_type": "markdown",
   "id": "0492cdc4",
   "metadata": {},
   "source": [
    "But, we may want instead to create a function quib that performs `str` on the *value* of its argument. To create an f-quib that performs the function `str` on the value of `mean_z_sqr`, we can use the `q` syntax:"
   ]
  },
  {
   "cell_type": "code",
   "execution_count": 17,
   "id": "4ba07f5f",
   "metadata": {},
   "outputs": [
    {
     "data": {
      "text/plain": [
       "str_mean_z_sqr = str(mean_z_sqr)"
      ]
     },
     "execution_count": 17,
     "metadata": {},
     "output_type": "execute_result"
    }
   ],
   "source": [
    "str_mean_z_sqr = q(str, mean_z_sqr)\n",
    "str_mean_z_sqr # this is a function-quib:"
   ]
  },
  {
   "cell_type": "code",
   "execution_count": 18,
   "id": "f64c7111",
   "metadata": {},
   "outputs": [
    {
     "data": {
      "text/plain": [
       "'3.5'"
      ]
     },
     "execution_count": 18,
     "metadata": {},
     "output_type": "execute_result"
    }
   ],
   "source": [
    "str_mean_z_sqr.get_value() # the value of this function-quib is the string '3.5'"
   ]
  },
  {
   "cell_type": "markdown",
   "id": "2b6f0999",
   "metadata": {},
   "source": [
    "### Matplotlib functions too can work directly on quibs, creating \"live\" graphics\n",
    "\n",
    "*Matplotlib* functions too can work directly with quib arguments, creating a *graphics quib*, which represents \"live\" graphics: graphics that automatically refreshes upon upstream changes. \n",
    "\n",
    "For example:"
   ]
  },
  {
   "cell_type": "code",
   "execution_count": 15,
   "id": "a915a232",
   "metadata": {},
   "outputs": [],
   "source": [
    "plt.plot(z_sqr, '-o', markersize=20)\n",
    "plt.ylabel(str(z_sqr));"
   ]
  },
  {
   "cell_type": "markdown",
   "id": "717c5fc4",
   "metadata": {},
   "source": [
    "[[/images/graphics_refresh.gif]]"
   ]
  },
  {
   "cell_type": "markdown",
   "id": "4a5df65e",
   "metadata": {},
   "source": [
    "Note that unlike regular quibs which evaluate *lazily*, graphics quibs are evaluated *eagerly*, immediately upon creation, and are also recalculated immediately upon upstream changes, thereby enabling the above behavior."
   ]
  },
  {
   "cell_type": "markdown",
   "id": "8ed474cb",
   "metadata": {},
   "source": [
    "WIP"
   ]
  },
  {
   "cell_type": "code",
   "execution_count": 24,
   "id": "8a3d5289",
   "metadata": {},
   "outputs": [
    {
     "data": {
      "text/plain": [
       "plot(<AxesSubplot:>, arange(n - 1) + 0.5, r_middle, 'or', scalex=True, scaley=True, picker=True)"
      ]
     },
     "execution_count": 24,
     "metadata": {},
     "output_type": "execute_result"
    }
   ],
   "source": [
    "n = q(len, r)\n",
    "plt.plot(np.arange(n), r, 'x-', picker=True)\n",
    "plt.plot(np.arange(n - 1) + 0.5, r_middle, 'or', picker=True)"
   ]
  },
  {
   "cell_type": "markdown",
   "id": "b983eec9",
   "metadata": {},
   "source": [
    "### Quibs can be combined with graphics functions, readily forming interactive GUIs.\n",
    "\n",
    "Graphical functions too can be applied to quibs. Such graphics is bi-directionally linked to the quib: changes to upstream quibs refresh the graphics, and user interactions with the graphics can change upstream quibs (see also a separate chapter on [[Inverse assignments]]).\n",
    "\n",
    "Consider, for example, the presentation of a graphics marker whose x-y coordinates are specified by quibs. Moving the graphics marker will change the values of x and y. Any quib graphics that depend on x or y will immediately refresh. "
   ]
  },
  {
   "cell_type": "code",
   "execution_count": 22,
   "id": "db24622e",
   "metadata": {},
   "outputs": [],
   "source": [
    "# define and plot a curve:\n",
    "curve_function = lambda v: 4 * v ** 2 - v ** 3\n",
    "graph_xs = np.arange(0, 4, .2)\n",
    "graph_ys = curve_function(graph_xs)\n",
    "plt.figure(figsize=(4,3))\n",
    "plt.plot(graph_xs, graph_ys, 'k')\n",
    "plt.axis([0, 4, 0, 12])\n",
    "\n",
    "# define x-y quibs:\n",
    "point_x = iquib(3.)\n",
    "point_y = q(curve_function, point_x)\n",
    "\n",
    "# Plot the point, use picker=True to allow dragging\n",
    "plt.plot(point_x, point_y, marker='o', markerfacecolor='c', \n",
    "         markersize=18, picker=True, pickradius=20)\n",
    "\n",
    "# Define and plot text (this text will change when the marker is dragged):\n",
    "xy_str = q(\"X={:.2f}, Y={:.2f}\".format, point_x, point_y)\n",
    "plt.text(point_x, point_y + .6, xy_str, \n",
    "         horizontalalignment=\"center\",\n",
    "         verticalalignment=\"bottom\", fontsize=13);"
   ]
  },
  {
   "cell_type": "markdown",
   "id": "4086de02",
   "metadata": {},
   "source": [
    "[[/images/demo_gif/quibdemo_drag_on_curve.gif]]"
   ]
  }
 ],
 "metadata": {
  "kernelspec": {
   "display_name": "Python 3 (ipykernel)",
   "language": "python",
   "name": "python3"
  },
  "language_info": {
   "codemirror_mode": {
    "name": "ipython",
    "version": 3
   },
   "file_extension": ".py",
   "mimetype": "text/x-python",
   "name": "python",
   "nbconvert_exporter": "python",
   "pygments_lexer": "ipython3",
   "version": "3.9.7"
  }
 },
 "nbformat": 4,
 "nbformat_minor": 5
}
