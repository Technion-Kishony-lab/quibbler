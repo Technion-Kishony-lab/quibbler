{
 "cells": [
  {
   "cell_type": "markdown",
   "id": "a16052db",
   "metadata": {},
   "source": [
    "## Graphics quibs"
   ]
  },
  {
   "cell_type": "markdown",
   "id": "3c1c80a0",
   "metadata": {},
   "source": [
    "### Quibbler easily creates live interactive graphics\n",
    "\n",
    "Quibs can be used as arguments in most *Matplotlib* graphics functions, creating *graphics quibs* - quibs that represents \"live\", reactive-interactive, graphics. Indeed, such graphics quibs are bi-directionally linked to their source data. Any changes to upstream quibs are propagated downstream to immediately affect the graphics; and, conversely, user interactions with the graphics (dragging, clicking) propagates backwards to affect the values of upstream quibs. Combining quibs with widgets and graphics, we can thereby readily create a highly interactive app-like analysis of our data.\n",
    "\n",
    "Notably, such interactive pipelines are naturally created in *Quibbler* without us needing to worry about the traditional, and often tedious, programming of specific callback functions for each interactive behavior. Unlike in \"regular\" programming, where in order to create interactive analysis we need to specifically program callback functions for each graphics object or widget, in *Quibbler*, we inherently get interactive functionality without requiring us to deal with such what-to-do-if behaviors. Instead, we can set our mind on the analysis from a data-oriented forward-looking standpoint, and let *Quibbler* deal with any asynchronous graphics or widget events, deciding what needs to change, what needs to re-run, and what to re-plot in order to make things interactive and fun. "
   ]
  },
  {
   "cell_type": "markdown",
   "id": "80e0d78a",
   "metadata": {},
   "source": [
    "Here, to demonstrate the key features of graphics quibs, we will build towards a simple example of building an interactive app for probing the RGB intensities of an image at a chosen point (x,y)."
   ]
  },
  {
   "cell_type": "markdown",
   "id": "8c9d6b56",
   "metadata": {},
   "source": [
    "### Upstream changes automatically refresh downstream graphics quibs \n",
    "\n",
    "When we apply a *Matplotlib* graphics function to quib arguments, we get a *graphics quib* - a quib that creates graphics that automatically refreshes upon upstream changes. \n",
    "\n",
    "In general, when a quib changes, the values of any downstream dependent quibs are invalidated, but are not immediately recalculated (deferred evaluation). Graphics quibs form an exception to this rule; by default, when graphics quibs are affected by upstream changes, they immediately recalculate, creating live updates to their graphics. \n",
    "\n",
    "For example, consider the following code for choosing a coordinate x-y:"
   ]
  },
  {
   "cell_type": "code",
   "execution_count": 2,
   "id": "757f07b7",
   "metadata": {},
   "outputs": [],
   "source": [
    "# Imports\n",
    "import pyquibbler as qb\n",
    "from pyquibbler import iquib, q\n",
    "qb.override_all()\n",
    "import numpy as np\n",
    "import matplotlib.pyplot as plt\n",
    "from matplotlib.widgets import Slider\n",
    "import os\n",
    "\n",
    "%matplotlib tk"
   ]
  },
  {
   "cell_type": "code",
   "execution_count": null,
   "id": "f19dfaea",
   "metadata": {},
   "outputs": [],
   "source": [
    "# Figure setup\n",
    "plt.figure(figsize=(5, 3))\n",
    "plt.axes([0.25, 0.25, 0.7, 0.7])\n",
    "plt.axis('square')\n",
    "plt.axis([0, 100, 0, 100])\n",
    "\n",
    "# Define x-y coordinates of chosen point:\n",
    "xy = iquib(np.array([50, 50]))\n",
    "x = xy[0]\n",
    "y = xy[1]\n",
    "\n",
    "# Plot the point as an 'x' marker:\n",
    "plt.plot(x, y, 'xr', markersize=16, picker=True)\n",
    "\n",
    "# Add text indicating the coordinates of the point:\n",
    "text_label = q('x={}, y={}'.format, x, y)\n",
    "plt.text(5, 95, text_label, va='top', ha='left');"
   ]
  },
  {
   "cell_type": "markdown",
   "id": "6a6e07b5",
   "metadata": {},
   "source": [
    "[[/images/graphics_gif/graphics_xy_refresh.gif]]"
   ]
  },
  {
   "cell_type": "markdown",
   "id": "8b1b9c7e",
   "metadata": {},
   "source": [
    "As we see, making an upstream change to the input quib `xy`, for example setting `xy[1] = 40`, refreshes the position of the x-y point as well as the text, as both of which depend on the function quibs `x` and `y` which depend on `xy`."
   ]
  },
  {
   "cell_type": "markdown",
   "id": "4463b4f0",
   "metadata": {},
   "source": [
    "### User interactions with graphics are translated into upstream quib assignments\n",
    "\n",
    "The above example demonstrates how upstream changes affect downstream quib graphics. Importantly, this relationship can also go backwards: changing the graphics of a graphics quib is translated into assignments to the corresponding upstream quib arguments, and from there, through inverse assignments, to any further upstream quibs.\n",
    "\n",
    "Such *graphics-driven assignments* are currently supported for plt.plot and for common widgets (see below). To enable graphics-driven assignments for plt.plot, we indicate `picker=True` in the plot creation function.\n",
    "\n",
    "In our point-choosing example code above, we used plt.plot with with `picker=True`, thereby moving the marker is enabled and such movements triggers graphics-driven assignments to the arguments of the plot, in this case to the quibs `x` and `y`. As `x` and `y` are function quibs not allowing overriding (`allow_overriding=False` by default for function quibs), these assignments propagate, through inverse-assignments, higher upstream to `xy` where they are ultimately actualized. Any quib graphics that depend on `xy`, such as the text message, is then immediately refreshed:"
   ]
  },
  {
   "cell_type": "markdown",
   "id": "c634c25f",
   "metadata": {},
   "source": [
    "[[/images/graphics_gif/graphics_xy_drag.gif]]"
   ]
  },
  {
   "cell_type": "markdown",
   "id": "4950d7e0",
   "metadata": {},
   "source": [
    "#### Restricting object dragging horizontally or vertically\n",
    "\n",
    "In the above example, both the x and y arguments of the plt.plot function are quibs and thereby *Quibbler* allows dragging the marker freely in both the x and y directions. Alternatively, using non-quib arguments as either x or y, or using quibs that do not allow inverse assignments (quibs with `allow_overriding=False` and `set_assigned_quibs([])`), we can restrict dragging either vertically or horizontally.\n",
    "\n",
    "For example, in the code below, we add horizontally and vertically sliding markers for setting the x-y coordinates of our chosen point:"
   ]
  },
  {
   "cell_type": "code",
   "execution_count": null,
   "id": "e423871b",
   "metadata": {},
   "outputs": [],
   "source": [
    "# Add horizontal and vertical guiding lines:\n",
    "plt.plot([0, x], [y, y], 'r--', linewidth=0.5)\n",
    "plt.plot([x, x], [0, y], 'r--', linewidth=0.5)\n",
    "\n",
    "# Add horizontal and vertical draggable markers: \n",
    "plt.plot(1, y, '>r', markersize=16, picker=True)\n",
    "plt.plot(x, 1, '^r', markersize=16, picker=True);"
   ]
  },
  {
   "cell_type": "markdown",
   "id": "b116fec6",
   "metadata": {},
   "source": [
    "[[/images/graphics_gif/graphics_xy_drag_horz_vert.gif]]"
   ]
  },
  {
   "cell_type": "markdown",
   "id": "513f07f2",
   "metadata": {},
   "source": [
    "For dragging on more complex paths, see: [[quibdemo_drag_on_curve]]"
   ]
  },
  {
   "cell_type": "markdown",
   "id": "d769ea34",
   "metadata": {},
   "source": [
    "### Quiby setters of axis attributes "
   ]
  },
  {
   "cell_type": "markdown",
   "id": "8cfdbf81",
   "metadata": {},
   "source": [
    "Using a quibs as an argument to a setter of an axis property creates a graphics quib that sets the property. Thereby, the specified axis property will automatically refresh upon upstream changes. Such quiby behavior is supported for diverse axis properties including axis limits (i.e., `set_xlim`, `set_ylim`, `plt.xlim`, `plt.ylim`) axis ticks (`set_xticks`, `set_yticks`, `plt.xticks`, `plt.yticks`), axis labels and title (i.e., `set_xlabel`, `set_ylabel`, `set_title`, `plt.xlabel`, `plt.ylabel`, `plt.title`) and other attributes (e.g., `set_visible`, `set_facecolor`)."
   ]
  },
  {
   "cell_type": "markdown",
   "id": "1715bd09",
   "metadata": {},
   "source": [
    "As an example, let's set the x-label and y-label of our coordinate-choosing axes to indicate the chosen x and y values. These labels will thereby update automatically as the markers setting `xy` are dragged:"
   ]
  },
  {
   "cell_type": "code",
   "execution_count": null,
   "id": "93b0f801",
   "metadata": {},
   "outputs": [],
   "source": [
    "plt.xlabel(q('x={}'.format, x))\n",
    "plt.ylabel(q('y={}'.format, y));"
   ]
  },
  {
   "cell_type": "markdown",
   "id": "55a46e71",
   "metadata": {},
   "source": [
    "[[/images/graphics_gif/graphics_xy_axis_labels.gif]]"
   ]
  },
  {
   "cell_type": "markdown",
   "id": "7b61dd90",
   "metadata": {},
   "source": [
    "### Using quibs with widgets\n",
    "\n",
    "Quibs can be used as arguments to *Matplotlib* widget functions, creating bi-directionally linked widget graphics quibs. Like with other graphics quibs, widgets created with quib arguments automatically update upon upstream changes that affect their arguments. In addition, if a given quib is set as the initial value-setting kwarg of the widget, then interacting with the widget creates graphics-driven assignments to this given quib. This behavior allows to easily create interactive GUIs without a need for the classical, and more cumbersome, use of callback functions.\n",
    "\n",
    "Quib-supported widgets and their corresponding value-setting kwargs: \n",
    "\n",
    "    Slider(valinit=quib, ...)\n",
    "    TextBox(initial=quib, ...)\n",
    "    CheckButtons(actives=quib, ...)\n",
    "    RaioButtons(active=quib, ...)\n",
    "    RectangleSelector(extents=quib, ...)\n",
    "\n",
    "(note that while normally *Matplotlib* does not allow specifying `extents` as a parameter for RectangleSelector, such specification is supported in the *Quibbler* implementation of RectangleSelector)"
   ]
  },
  {
   "cell_type": "markdown",
   "id": "f968f157",
   "metadata": {},
   "source": [
    "For example, let's define a box around our point x-y and create a Slider to control the size of this box: "
   ]
  },
  {
   "cell_type": "code",
   "execution_count": null,
   "id": "793f4fac",
   "metadata": {},
   "outputs": [],
   "source": [
    "# Plot a square around the point (x,y):\n",
    "box_size = iquib(6) # size of the square\n",
    "plt.plot(x + box_size * np.array([-1, 1, 1, -1, -1]), \n",
    "         y + box_size * np.array([-1, -1, 1, 1, -1]), 'r-');\n",
    "\n",
    "# Create a slider to control the box size:\n",
    "ax = plt.axes([0.35, 0.02, 0.5, 0.04])\n",
    "Slider(ax=ax, valmin=0, valmax=20, valstep=2, label=\"box size\", valinit=box_size);"
   ]
  },
  {
   "cell_type": "markdown",
   "id": "7b6ffc5f",
   "metadata": {},
   "source": [
    "Setting `Slider(..., valinit=box_size)` enables graphics-driven assignments from the widget to `box_size`:"
   ]
  },
  {
   "cell_type": "markdown",
   "id": "b2124ba3",
   "metadata": {},
   "source": [
    "[[/images/graphics_gif/graphics_slider_for_box_size.gif]]"
   ]
  },
  {
   "cell_type": "markdown",
   "id": "9a990ce3",
   "metadata": {},
   "source": [
    "### Quibbler-based GUI applications\n",
    "\n",
    "Combining widgets and draggable graphics with quibs allows us to quickly and easily build powerful GUI-like interaction with our data. As an example, we apply below our point-choosing implementation to probe the RGB intensities of an image (here, an image of red, green and blue labeled bacteria growing in a water-in-oil droplet). "
   ]
  },
  {
   "cell_type": "code",
   "execution_count": 3,
   "id": "2fe40677",
   "metadata": {},
   "outputs": [],
   "source": [
    "# Load an image from file:\n",
    "filename = iquib(os.path.join('..','examples','data_files','bacteria_in_a_droplet.tif'))\n",
    "img = plt.imread(filename)\n",
    "\n",
    "# Plot the image:\n",
    "plt.figure(figsize=(6, 4))\n",
    "ax = plt.axes([0.05, 0.4, 0.5, 0.5])\n",
    "ax.imshow(img, origin='lower');\n",
    "plt.setp(ax, xticks=[], yticks=[])\n",
    "\n",
    "# Define x-y coordinates of chosen point:\n",
    "xy = iquib(np.array([50, 50]))\n",
    "x = xy[0]\n",
    "y = xy[1]\n",
    "\n",
    "# Plot the point as a white marker.\n",
    "ax.plot(x, y, 'xw', markersize=12, picker=True)\n",
    "\n",
    "# Add text indicating the coordinates of the point:\n",
    "text_label = q('x={}, y={}'.format, x, y)\n",
    "ax.text(5, 95, text_label, va='top', ha='left', color='w');\n",
    "\n",
    "# Add horizontal and vertical guiding lines:\n",
    "ax.plot([0, x], [y, y], 'w--', linewidth=0.5)\n",
    "ax.plot([x, x], [0, y], 'w--', linewidth=0.5)\n",
    "\n",
    "# Add horizontal and vertical draggable markers: \n",
    "ax.plot(1, y, '>w', markersize=16, picker=True)\n",
    "ax.plot(x, 1, '^w', markersize=16, picker=True);\n",
    "\n",
    "# Plot a square around the point (x,y):\n",
    "box_size = iquib(6) # size of the square\n",
    "plt.plot(x + box_size * np.array([-1, 1, 1, -1, -1]), \n",
    "         y + box_size * np.array([-1, -1, 1, 1, -1]), \n",
    "         'w-', picker=True);\n",
    "\n",
    "# Create a slider to control the box size:\n",
    "ax = plt.axes([0.15, 0.08, 0.3, 0.05])\n",
    "Slider(ax=ax, valmin=0, valmax=20, valstep=2, label=\"box size\", valinit=box_size);\n",
    "\n",
    "# Cut and plot the boxed image:\n",
    "img_cut = img[y - box_size:y + box_size + 1, x - box_size : x + box_size + 1, :]\n",
    "ax = plt.axes([0.6, 0.08, 0.3, 0.2])\n",
    "ax.imshow(img_cut, origin='lower');\n",
    "ax.plot(x - (x - box_size), y - (y - box_size), 'xw', markersize=12, picker=True)\n",
    "ax.axis([-0.5, 2 * box_size + 0.5, -0.5, 2 * box_size + 0.5])\n",
    "plt.setp(ax, xticks=[], yticks=[])\n",
    "\n",
    "# Plot the RGB of the image at the chosen point:\n",
    "rgb_point = img[y, x, :]\n",
    "ax = plt.axes([0.6, 0.4, 0.3, 0.5])\n",
    "ax.bar([1, 2, 3], rgb_point, color=['r', 'g', 'b']);\n",
    "ax.axis([0.5, 3.5, 0, 255])\n",
    "ax.set_ylabel('Intensity');\n",
    "ax.set_xticks([1,2,3])\n",
    "ax.set_xticklabels(['Red','Green','Blue']);"
   ]
  },
  {
   "cell_type": "markdown",
   "id": "147a8e39",
   "metadata": {},
   "source": [
    "[[/images/graphics_gif/graphics_rgb_probing_of_image.gif]]"
   ]
  },
  {
   "cell_type": "markdown",
   "id": "5047733d",
   "metadata": {},
   "source": [
    "A few notes on the above implementation. Beyond the use of draggable markers and widgets demoed in the introduction above, we also use here the following features:\n",
    "\n",
    "* Setting `picker=True` for the plot of the box allows dragging the box leading to assignment into the `x` and `y` quibs (as they are specified as the first argument in the `+` operator, see [[inverse assignments]]).\n",
    "\n",
    "* Using a quiby setter of the axis limits (`ax.axis([-0.5, 2 * box_size + 0.5, -0.5, 2 * box_size + 0.5])`) dynamically changes the axis to fit the cut image as it size grows or shrinks.\n",
    "\n",
    "* Plotting the x-marker in at the center of the cut image, we shift to new coordinates `x - (x - box_size), y - (y - box_size)` thereby allowing dragging of this x-marker to affect `x` and `y` (the marker stays in place as expected since its dependence on `x` and `y` cancels out)\n"
   ]
  },
  {
   "cell_type": "markdown",
   "id": "0b3a363c",
   "metadata": {},
   "source": [
    "### Graphics refresh mode\n",
    "\n",
    "For computationally heavy calculations, we might prefer to disable immediate recalculation for graphics quib. The `update_type` property allows us to specify, for each given quib, when it will be updated. The following options are available:\n",
    "\n",
    "`'drag'`: Update continuously as upstream quibs are being dragged, or upon programmatic assignments to upstream quibs (default for graphics quibs).\n",
    "\n",
    "`'drop'`: Update only at the end of dragging of upstream quibs (at mouse 'drop'), or upon programmatic assignments to upstream quibs. \n",
    "\n",
    "`'central'`: Do not automatically update graphics upon upstream changes. Only update upon explicit request for the quibs `get_value()` or upon the central redraw command: `qb.redraw_central_refresh_graphics_function_quibs()`\n",
    "\n",
    "`'never'`: Do not automatically update graphics upon upstream changes. Only update upon explicit request for the quibs `get_value()` (default for non-graphics quibs). "
   ]
  }
 ],
 "metadata": {
  "kernelspec": {
   "display_name": "Python 3 (ipykernel)",
   "language": "python",
   "name": "python3"
  },
  "language_info": {
   "codemirror_mode": {
    "name": "ipython",
    "version": 3
   },
   "file_extension": ".py",
   "mimetype": "text/x-python",
   "name": "python",
   "nbconvert_exporter": "python",
   "pygments_lexer": "ipython3",
   "version": "3.8.8"
  }
 },
 "nbformat": 4,
 "nbformat_minor": 5
}
