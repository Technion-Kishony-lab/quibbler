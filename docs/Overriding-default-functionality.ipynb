{
 "cells": [
  {
   "cell_type": "markdown",
   "id": "2024a07d",
   "metadata": {},
   "source": [
    "## Overriding default functionality"
   ]
  },
  {
   "cell_type": "markdown",
   "id": "1c0d1a3c",
   "metadata": {},
   "source": [
    "#### Rationale\n",
    "\n",
    "Overriding, or making exceptions, is an inherent inevitability in many data analysis applications. For example, when analyzing many similar data items, we can often devise a processing scheme that works well on most of the data items, yet requires some adjustments for outlier items (say, we may have thousands of images that are each normalized according to some default normalization scheme, but we need to make an exception for few of these images that were taken in different lighting conditions). *Quibbler* allows ways to override such default functional behavior in a simple, interactive, yet also transparent and well-documented fashion. Such exceptions are made by *overriding assignments*. "
   ]
  },
  {
   "cell_type": "markdown",
   "id": "38cf07e2",
   "metadata": {},
   "source": [
    "#### Overriding is controlled by the 'allow_overriding' and 'assigned_quibs' properties\n",
    "\n",
    "When a _de novo_ assignment is being made to a specific quib (the \"assigned quib\") the assignment can be actualized as overriding of this focal quib, or can [[inverse-propagate|inverse-assignments]] upstream and actualized as overrides of some higher up quibs (\"inverse-assigned quibs\"). The choice of which quibs should be chosen for actualizing the overriding assignment is controlled by the following two quib properties:"
   ]
  },
  {
   "cell_type": "markdown",
   "id": "d8282f77",
   "metadata": {},
   "source": [
    "* **allow_overriding.** A boolean property specifying for each quib whether it accepts overriding. By default, i-quibs accept overriding and f-quibs do not. In order to allow overriding of a specific f-quib, we need to explicitly set its `allow_overriding` to `True`.\n",
    "\n",
    "\n",
    "* **assigned_quibs.** Indicates a set of possible upstream quibs into which an assignment to the current quib should be inverse-propagated and actualized:\n",
    "\n",
    "    * `None` (default): If there is only one upstream quib with allow_overriding=True, inverse-assign to it. If multiple options exist, bring up a dialog box to ask the user which quib to inverse-assign to.\n",
    "\n",
    "    * `{}`: Do not allow _de novo_ assignments to this quib. \n",
    "\n",
    "    * `{quibs}`: Set of upstream quibs into which to actualize _de novo_ assignments made to the current quib. If multiple options exist, bring up a dialog box."
   ]
  },
  {
   "cell_type": "markdown",
   "id": "5c6198af",
   "metadata": {},
   "source": [
    "In the default settings, where `assigned_quibs=None` and `allow_overriding=True` only for i-quibs, any _de novo_ assignment to an f-quib is inverse-propagated all the way to the respective upstream i-quibs, where it is ultimately actualized. \n",
    "\n",
    "Though, when overriding of specific intermediate f-quibs is enabled (`allow_overriding=True`), multiple options for actualizing a _de novo_ assignment to a downstream quib may be available. The choice among these options is determined by the `assigned_quibs` property of the quib to which the _de novo_ assignment was made.\n",
    "\n",
    "The following diagram depicts such inverse assignment behaviors:\n",
    "[[/images/inverse_assignment_choice.png]]"
   ]
  },
  {
   "cell_type": "markdown",
   "id": "b2b4c3f9",
   "metadata": {},
   "source": [
    "#### Inverse-assign to upstream input quibs\n",
    "\n",
    "Consider the following simple example of defining a default value to be used for n items: "
   ]
  },
  {
   "cell_type": "code",
   "execution_count": 1,
   "id": "d1162478",
   "metadata": {},
   "outputs": [],
   "source": [
    "# Imports\n",
    "import pyquibbler as qb\n",
    "from pyquibbler import iquib\n",
    "qb.override_all()\n",
    "import numpy as np\n",
    "\n",
    "%matplotlib tk"
   ]
  },
  {
   "cell_type": "code",
   "execution_count": 24,
   "id": "29b85ef6",
   "metadata": {},
   "outputs": [],
   "source": [
    "# Number of data items:\n",
    "n = iquib(5)\n",
    "\n",
    "# Define default factor:\n",
    "default_factor = iquib(np.array([7]))\n",
    "\n",
    "# Define per-item factor by replicating the default factor \n",
    "# for each of the n items:\n",
    "per_item_factor = np.tile(default_factor, n)"
   ]
  },
  {
   "cell_type": "code",
   "execution_count": 25,
   "id": "a0ddec7f",
   "metadata": {},
   "outputs": [
    {
     "data": {
      "text/plain": [
       "array([7, 7, 7, 7, 7])"
      ]
     },
     "execution_count": 25,
     "metadata": {},
     "output_type": "execute_result"
    }
   ],
   "source": [
    "per_item_factor.get_value()"
   ]
  },
  {
   "cell_type": "markdown",
   "id": "8b41115d",
   "metadata": {},
   "source": [
    "The `per_item_factor` is a function quib, providing a value to be used for processing some presumed data items. In this simple example, this value is simply a result of applying `tile` to the underlying i-quib `default_factor`. In general, though, such per-item decision could be a result of other, more complex, functionality. Yet, as sophisticated as our automatic choice gets, we may still sometime need to make an exception to the default functional behavior. \n",
    "\n",
    "Say we want to override the functional behavior of the `per_item_factor` f-quib, substituting 9 in position 2. Since, by default, f-quibs do not allow overriding, when we assign:"
   ]
  },
  {
   "cell_type": "code",
   "execution_count": 21,
   "id": "6ca6033e",
   "metadata": {},
   "outputs": [],
   "source": [
    "per_item_factor[1] = 9"
   ]
  },
  {
   "cell_type": "markdown",
   "id": "9ccfb627",
   "metadata": {},
   "source": [
    "the assignment propagates upstream and actualized at the `default_factor` i-quib:"
   ]
  },
  {
   "cell_type": "code",
   "execution_count": 22,
   "id": "e852f2df",
   "metadata": {},
   "outputs": [
    {
     "data": {
      "text/plain": [
       "array([9])"
      ]
     },
     "execution_count": 22,
     "metadata": {},
     "output_type": "execute_result"
    }
   ],
   "source": [
    "default_factor.get_value()"
   ]
  },
  {
   "cell_type": "markdown",
   "id": "09a89480",
   "metadata": {},
   "source": [
    "This upstream assignment thereby changes the `per_item_factor` to 9 not only at position 2, but also in all other positions:"
   ]
  },
  {
   "cell_type": "code",
   "execution_count": 23,
   "id": "7f5187e5",
   "metadata": {},
   "outputs": [
    {
     "data": {
      "text/plain": [
       "array([9, 9, 9, 9, 9])"
      ]
     },
     "execution_count": 23,
     "metadata": {},
     "output_type": "execute_result"
    }
   ],
   "source": [
    "per_item_factor.get_value()"
   ]
  },
  {
   "cell_type": "markdown",
   "id": "a7876ddf",
   "metadata": {},
   "source": [
    "[[/images/tile_7_5_inverse.gif]]"
   ]
  },
  {
   "cell_type": "markdown",
   "id": "29b466e2",
   "metadata": {},
   "source": [
    "#### Overriding function quibs"
   ]
  },
  {
   "cell_type": "markdown",
   "id": "416d16cd",
   "metadata": {},
   "source": [
    "To allow overriding the `per_item_factor` at the specified index, we need to set its `allow_overriding` to `True`:"
   ]
  },
  {
   "cell_type": "code",
   "execution_count": 26,
   "id": "05cd07a2",
   "metadata": {},
   "outputs": [],
   "source": [
    "n = iquib(5)\n",
    "default_factor = iquib(np.array([7]))\n",
    "per_item_factor = np.tile(default_factor, n)\n",
    "per_item_factor.set_allow_overriding(True)"
   ]
  },
  {
   "cell_type": "markdown",
   "id": "74ec02b1",
   "metadata": {},
   "source": [
    "There are now two options for actualizing an assignment to `per_item_factor`, either at this focal assigned quib, or at the upstream i-quib `default_factor`. Since we did not specify which option to use (the `assigned_quibs` is `None` by default), if we now try to assign to `per_item_factor`, we will get a dialog box indicating that there are two ways to fulfil our request and asking us to choose whether to actualize the assignment as overriding of the i-quib `default_factor` or f-quib `per_item_factor`:"
   ]
  },
  {
   "cell_type": "code",
   "execution_count": 29,
   "id": "debdeceb",
   "metadata": {},
   "outputs": [],
   "source": [
    "per_item_factor[1] = 9"
   ]
  },
  {
   "cell_type": "markdown",
   "id": "c035cf0b",
   "metadata": {},
   "source": [
    "[[/images/dialog_box_per_item_factor.png]]"
   ]
  },
  {
   "cell_type": "markdown",
   "id": "2954cac6",
   "metadata": {},
   "source": [
    "Choosing to actualize at the `per_item_factor` will cause an overriding assignment to this function quib:"
   ]
  },
  {
   "cell_type": "code",
   "execution_count": 30,
   "id": "4b39b6ec",
   "metadata": {},
   "outputs": [
    {
     "data": {
      "text/plain": [
       "array([7, 9, 7, 7, 7])"
      ]
     },
     "execution_count": 30,
     "metadata": {},
     "output_type": "execute_result"
    }
   ],
   "source": [
    "per_item_factor.get_value()"
   ]
  },
  {
   "cell_type": "markdown",
   "id": "ae3ca999",
   "metadata": {},
   "source": [
    "[[/images/tile_7_5_override.gif]]"
   ]
  },
  {
   "cell_type": "markdown",
   "id": "bdeda295",
   "metadata": {},
   "source": [
    "As we see, the quib has been overridden to have a value of 9 at position 1. All other values remain functional: they are equal to the `default_factor`. Changing `default_factor` will change the downstream `per_item_factor` in all but the overridden positions:"
   ]
  },
  {
   "cell_type": "code",
   "execution_count": 31,
   "id": "a0c5f80b",
   "metadata": {},
   "outputs": [
    {
     "data": {
      "text/plain": [
       "array([8, 9, 8, 8, 8])"
      ]
     },
     "execution_count": 31,
     "metadata": {},
     "output_type": "execute_result"
    }
   ],
   "source": [
    "default_factor[0] = 8\n",
    "per_item_factor.get_value()"
   ]
  },
  {
   "cell_type": "markdown",
   "id": "2d614962",
   "metadata": {},
   "source": [
    "The choice we made in the dialog box is recorded in [MAOR: where?] of the quib:"
   ]
  },
  {
   "cell_type": "code",
   "execution_count": null,
   "id": "3090482a",
   "metadata": {},
   "outputs": [],
   "source": []
  },
  {
   "cell_type": "markdown",
   "id": "f8f03cba",
   "metadata": {},
   "source": [
    "So further assignments do not require bringing up the dialog box again:"
   ]
  },
  {
   "cell_type": "code",
   "execution_count": 32,
   "id": "edcee593",
   "metadata": {},
   "outputs": [
    {
     "data": {
      "text/plain": [
       "array([ 8,  9,  8, 10,  8])"
      ]
     },
     "execution_count": 32,
     "metadata": {},
     "output_type": "execute_result"
    }
   ],
   "source": [
    "per_item_factor[3] = 10\n",
    "per_item_factor.get_value()"
   ]
  },
  {
   "cell_type": "markdown",
   "id": "c48500b8",
   "metadata": {},
   "source": [
    "#### Assignments are actualized as a list of overrides to a quib's 'default' value\n",
    "\n",
    "When we make overriding assignments to a quib, these assignments are actualized as a list of overrides that apply to the quib's 'default' value. For i-quibs, this default value is the value they are assigned upon creation (stored as the quib's `args[0]`). For f-quibs, the default value is the output of their implemented function. "
   ]
  },
  {
   "cell_type": "markdown",
   "id": "01c69c17",
   "metadata": {},
   "source": [
    "This override list is accessible through the `get_override_list()` method:"
   ]
  },
  {
   "cell_type": "code",
   "execution_count": 33,
   "id": "c80b7463",
   "metadata": {},
   "outputs": [
    {
     "data": {
      "text/plain": [
       "dict_values([Assignment(value=9, path=[PathComponent(indexed_cls=<class 'numpy.ndarray'>, component=1)]), Assignment(value=10, path=[PathComponent(indexed_cls=<class 'numpy.ndarray'>, component=3)])])"
      ]
     },
     "execution_count": 33,
     "metadata": {},
     "output_type": "execute_result"
    }
   ],
   "source": [
    "per_item_factor.get_override_list()"
   ]
  },
  {
   "cell_type": "markdown",
   "id": "4415c494",
   "metadata": {},
   "source": [
    "In addition, we can check which element positions are overridden, using the `get_override_mask()` method:"
   ]
  },
  {
   "cell_type": "code",
   "execution_count": 34,
   "id": "c95e8758",
   "metadata": {},
   "outputs": [
    {
     "data": {
      "text/plain": [
       "array([False,  True, False,  True, False])"
      ]
     },
     "execution_count": 34,
     "metadata": {},
     "output_type": "execute_result"
    }
   ],
   "source": [
    "per_item_factor.get_override_mask().get_value() #MAOR: better syntax?"
   ]
  },
  {
   "cell_type": "markdown",
   "id": "6d66f58e",
   "metadata": {},
   "source": [
    "#### Graphics-driven overriding assignments\n",
    "\n",
    "Overriding assignments can also be used together with graphics-driven assignments, easily yielding interactive GUIs for default-overriding parameter specification. See [[quibdemo_default overriding]]."
   ]
  },
  {
   "cell_type": "markdown",
   "id": "43dd2468",
   "metadata": {},
   "source": [
    "#### Clearing assignments by assigning the Default value\n",
    "Overriding assignments at specific quib array subscripts can be cleared by assigning the `default` value:"
   ]
  },
  {
   "cell_type": "code",
   "execution_count": null,
   "id": "55931d6e",
   "metadata": {},
   "outputs": [],
   "source": [
    "# TODO\n",
    "per_item_factor[2] = qb.default\n",
    "per_item_factor.get_value()"
   ]
  },
  {
   "cell_type": "markdown",
   "id": "879a112c",
   "metadata": {},
   "source": [
    "All assignments to a quib can be cleared using:"
   ]
  },
  {
   "cell_type": "code",
   "execution_count": null,
   "id": "b541ca87",
   "metadata": {},
   "outputs": [],
   "source": [
    "# TODO\n",
    "per_item_factor.assign_value(qb.default)"
   ]
  },
  {
   "cell_type": "markdown",
   "id": "d1f24038",
   "metadata": {},
   "source": [
    "#### Out of range overriding are ignored\n",
    "\n",
    "When we try to assign out of range, we get an exception. For example,"
   ]
  },
  {
   "cell_type": "code",
   "execution_count": null,
   "id": "f7b4182a",
   "metadata": {},
   "outputs": [],
   "source": [
    "per_item_factor[10] = 3\n",
    "# yields: IndexError: index 10 is out of bounds for axis 0 with size 8"
   ]
  },
  {
   "cell_type": "markdown",
   "id": "27900571",
   "metadata": {},
   "source": [
    "However, it is also possible that an originally within-range assignment will become out-of-range. For example:"
   ]
  },
  {
   "cell_type": "code",
   "execution_count": 35,
   "id": "a9a0b160",
   "metadata": {},
   "outputs": [
    {
     "data": {
      "text/plain": [
       "array([ 8,  9,  8, 10,  3])"
      ]
     },
     "execution_count": 35,
     "metadata": {},
     "output_type": "execute_result"
    }
   ],
   "source": [
    "per_item_factor[4] = 3\n",
    "per_item_factor.get_value()"
   ]
  },
  {
   "cell_type": "markdown",
   "id": "9b18b483",
   "metadata": {},
   "source": [
    "This assignment will become out-of-range if we now change `n`. In such a case, *Quibbler* gives a warning and otherwise ignores the out-of-range assignment:"
   ]
  },
  {
   "cell_type": "code",
   "execution_count": 37,
   "id": "6cf89e0a",
   "metadata": {
    "scrolled": true
   },
   "outputs": [
    {
     "name": "stderr",
     "output_type": "stream",
     "text": [
      "Attempted out of range assignment:\n",
      "\tdata: [ 8  9  8 10]\n",
      "\tpath: [PathComponent(indexed_cls=<class 'numpy.ndarray'>, component=4)]\n",
      "\tfailed path component: 4\n",
      "\texception: index 4 is out of bounds for axis 0 with size 4\n",
      "Attempted out of range assignment:\n",
      "\tdata: [ 8  9  8 10]\n",
      "\tpath: [PathComponent(indexed_cls=<class 'numpy.ndarray'>, component=4)]\n",
      "\tfailed path component: 4\n",
      "\texception: index 4 is out of bounds for axis 0 with size 4\n"
     ]
    },
    {
     "data": {
      "text/plain": [
       "array([ 8,  9,  8, 10])"
      ]
     },
     "execution_count": 37,
     "metadata": {},
     "output_type": "execute_result"
    }
   ],
   "source": [
    "# TODO: no need for warning for out of bound\n",
    "n.assign_value(4)\n",
    "per_item_factor.get_value()"
   ]
  }
 ],
 "metadata": {
  "kernelspec": {
   "display_name": "Python 3 (ipykernel)",
   "language": "python",
   "name": "python3"
  },
  "language_info": {
   "codemirror_mode": {
    "name": "ipython",
    "version": 3
   },
   "file_extension": ".py",
   "mimetype": "text/x-python",
   "name": "python",
   "nbconvert_exporter": "python",
   "pygments_lexer": "ipython3",
   "version": "3.9.7"
  }
 },
 "nbformat": 4,
 "nbformat_minor": 5
}
