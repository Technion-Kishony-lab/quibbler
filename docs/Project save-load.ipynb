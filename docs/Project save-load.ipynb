{
 "cells": [
  {
   "cell_type": "markdown",
   "id": "ac6ee2bc",
   "metadata": {},
   "source": [
    "## Project save/load"
   ]
  },
  {
   "cell_type": "markdown",
   "id": "89d992ca",
   "metadata": {},
   "source": [
    "## WIP"
   ]
  },
  {
   "cell_type": "markdown",
   "id": "9dbf20ed",
   "metadata": {},
   "source": [
    "*Quibbler* allows saving and loading the value of input quibs as well as overriding, if any, to function quibs.\n",
    "\n",
    "A quib can be bi-directionally connected with a linked input file (LIF), where inputs to the quib are saved. LIFs can be saved in simple text human readable/writable files, providing a transparent record of user defined parameters and changes. The linkage between a quib and its LIF is bidirectional - changes to the inputs of the quib can update the file, and changes to the file can update the quib. \n",
    "\n",
    "There are two types of LIFs:\n",
    "\n",
    "* Array linked input file (arr-LIF): For an i-quib, the linked input file saves the whole array represented by the i-quib.\n",
    "\n",
    "* Overriding linked input file (ovr-LIF): For a functional quib, the linked input file saves the list of any user overrides to the quib."
   ]
  },
  {
   "cell_type": "markdown",
   "id": "a625e5a9",
   "metadata": {},
   "source": [
    "### Import"
   ]
  },
  {
   "cell_type": "code",
   "execution_count": 1,
   "id": "5d7bb894",
   "metadata": {},
   "outputs": [],
   "source": [
    "# Quibbler import:\n",
    "import pyquibbler as qb\n",
    "from pyquibbler import iquib, save_quibs, load_quibs, set_project_path\n",
    "qb.override_all()\n",
    "\n",
    "# Other imports:\n",
    "import numpy as np\n",
    "import matplotlib.pyplot as plt\n",
    "%matplotlib tk"
   ]
  },
  {
   "cell_type": "code",
   "execution_count": 10,
   "id": "d80e6578",
   "metadata": {},
   "outputs": [],
   "source": [
    "xy = iquib(np.array([[250], [250]]))\n",
    "xy2 = xy + 1000"
   ]
  },
  {
   "cell_type": "code",
   "execution_count": 5,
   "id": "c8e0824e",
   "metadata": {},
   "outputs": [],
   "source": [
    "set_project_path('/Users/roeekishony/Git/pyquibbler/docs')"
   ]
  },
  {
   "cell_type": "code",
   "execution_count": 11,
   "id": "8a92d909",
   "metadata": {},
   "outputs": [],
   "source": [
    "save_quibs()"
   ]
  },
  {
   "cell_type": "code",
   "execution_count": 14,
   "id": "61d6a525",
   "metadata": {},
   "outputs": [
    {
     "data": {
      "text/plain": [
       "'/Users/roeekishony/Git/pyquibbler/docs'"
      ]
     },
     "execution_count": 14,
     "metadata": {},
     "output_type": "execute_result"
    }
   ],
   "source": [
    "pwd"
   ]
  }
 ],
 "metadata": {
  "kernelspec": {
   "display_name": "Python 3 (ipykernel)",
   "language": "python",
   "name": "python3"
  },
  "language_info": {
   "codemirror_mode": {
    "name": "ipython",
    "version": 3
   },
   "file_extension": ".py",
   "mimetype": "text/x-python",
   "name": "python",
   "nbconvert_exporter": "python",
   "pygments_lexer": "ipython3",
   "version": "3.9.7"
  }
 },
 "nbformat": 4,
 "nbformat_minor": 5
}
