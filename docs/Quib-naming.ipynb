{
 "cells": [
  {
   "cell_type": "markdown",
   "id": "a16052db",
   "metadata": {},
   "source": [
    "## The quib name"
   ]
  },
  {
   "cell_type": "markdown",
   "id": "5aee2fe9",
   "metadata": {},
   "source": [
    "TODO: need to update after adding the assigned_name property"
   ]
  },
  {
   "cell_type": "markdown",
   "id": "2d40c5dc",
   "metadata": {},
   "source": [
    "Quibs have both a static user-assigned name (the `assigned_name` property) and a dynamic automatic name representing their function (the `functional_representation` property). These names do not determine or affect the function of the quib. Instead, they are only useful for annotating and clarifying what each quib is doing as well as for naming linked input files of the quibs. "
   ]
  },
  {
   "cell_type": "markdown",
   "id": "ce5d52ba",
   "metadata": {},
   "source": [
    "The `assigned_name` and the `functional_representation` of a quib are indicated by its repr representation. Consider the following example:"
   ]
  },
  {
   "cell_type": "code",
   "execution_count": 1,
   "id": "52d89e8f",
   "metadata": {},
   "outputs": [],
   "source": [
    "# Imports\n",
    "import pyquibbler as qb\n",
    "from pyquibbler import iquib\n",
    "qb.override_all()\n",
    "import numpy as np"
   ]
  },
  {
   "cell_type": "code",
   "execution_count": 2,
   "id": "b75346a2",
   "metadata": {},
   "outputs": [
    {
     "data": {
      "text/plain": [
       "total = sum(numbers)"
      ]
     },
     "execution_count": 2,
     "metadata": {},
     "output_type": "execute_result"
    }
   ],
   "source": [
    "n = iquib(6)\n",
    "numbers = np.arange(n**2)\n",
    "total = np.sum(numbers)\n",
    "total"
   ]
  },
  {
   "cell_type": "markdown",
   "id": "c84d4ea7",
   "metadata": {},
   "source": [
    "The string to the left of the equal sign is the `assigned_name` of the quib (in this case, 'total'), and the string to the right of the equal sign is the `functional_representation` (in this case, 'sum(numbers)')."
   ]
  },
  {
   "cell_type": "markdown",
   "id": "fb740463",
   "metadata": {},
   "source": [
    "### The `functional_representation` property\n",
    "\n",
    "The property `functional_representation` is a read-only property automatically assigned to a quib to represent its function and arguments. This automatically assigned string is displayed after the equal sign in the quib repr and can also be accessed directly through the `functional_representation` property:"
   ]
  },
  {
   "cell_type": "code",
   "execution_count": 3,
   "id": "b1f02eee",
   "metadata": {},
   "outputs": [
    {
     "data": {
      "text/plain": [
       "'iquib(6)'"
      ]
     },
     "execution_count": 3,
     "metadata": {},
     "output_type": "execute_result"
    }
   ],
   "source": [
    "n.functional_representation"
   ]
  },
  {
   "cell_type": "code",
   "execution_count": 4,
   "id": "7f40fa56",
   "metadata": {},
   "outputs": [
    {
     "data": {
      "text/plain": [
       "'arange(n ** 2)'"
      ]
     },
     "execution_count": 4,
     "metadata": {},
     "output_type": "execute_result"
    }
   ],
   "source": [
    "numbers.functional_representation"
   ]
  },
  {
   "cell_type": "code",
   "execution_count": 5,
   "id": "a9fcd232",
   "metadata": {},
   "outputs": [
    {
     "data": {
      "text/plain": [
       "'sum(numbers)'"
      ]
     },
     "execution_count": 5,
     "metadata": {},
     "output_type": "execute_result"
    }
   ],
   "source": [
    "total.functional_representation"
   ]
  },
  {
   "cell_type": "markdown",
   "id": "f00eac1f",
   "metadata": {},
   "source": [
    "### The `assgined_name` property\n",
    "\n",
    "The `assigned_name` property is a string indicating the name of the quib as assigned by the user. The `assigned_name` is set either explicitly, using `set_assigned_name()`, or by inference according to the name of the variable to which the quib is assigned. This assigned name is displayed before the equal sign in the quib repr and can also be accessed by the `assigned_name` property:"
   ]
  },
  {
   "cell_type": "code",
   "execution_count": 31,
   "id": "1d099637",
   "metadata": {},
   "outputs": [
    {
     "data": {
      "text/plain": [
       "'numbers'"
      ]
     },
     "execution_count": 31,
     "metadata": {},
     "output_type": "execute_result"
    }
   ],
   "source": [
    "numbers.assigned_name"
   ]
  },
  {
   "cell_type": "markdown",
   "id": "8a0574d8",
   "metadata": {},
   "source": [
    "#### The quib's `name` can be different than the name of the variable of the quib.\n",
    "\n",
    "By default, upon initiation of a new quib, its `name` is automatically assigned as the name of the variable of the quib (e.g., the statement `numbers = np.arange(n**2 + 1)` above, created a quib `numbers` and assigned the name 'numbers' as its `name`. In general though, a quib name does not need to be the same as the name of the variable holding the quib. To begin with, while each quib has a single `name`, it can be pointed to by multiple different variables with different names (for example, if we set `numbers_copy = numbers`, then `numbers_copy.name` will equal `'numbers'` not `'numbers_copy'`). Furthermore, at the practical level, it is often useful to use different set names and variable names. For example, assigning a comprehensive description of the quib as the `name` and a shorter, more compact, name for the variable pointing to it. \n",
    "\n",
    "In the above example, the user may choose for instance to rename numbers:"
   ]
  },
  {
   "cell_type": "code",
   "execution_count": 40,
   "id": "1aaf1478",
   "metadata": {},
   "outputs": [
    {
     "data": {
      "text/plain": [
       "'numbers_from_zero_to_sqr_n_minus_one'"
      ]
     },
     "execution_count": 40,
     "metadata": {},
     "output_type": "execute_result"
    }
   ],
   "source": [
    "numbers.set_name('numbers_from_zero_to_sqr_n_minus_one')\n",
    "numbers.name"
   ]
  },
  {
   "cell_type": "markdown",
   "id": "44560fc1",
   "metadata": {},
   "source": [
    "#### The quib's `assigned_name` is also used to name quib-associated files.\n",
    "\n",
    "Note that besides providing a comprehensive description of the quib, the quib's `assigned_name` is also used to define the name of the quib's linked input file if any (see [[Project save-load]])."
   ]
  },
  {
   "cell_type": "markdown",
   "id": "b7a63d41",
   "metadata": {},
   "source": [
    "#### Quibs with `assigned_name = None` represent an intermediate analysis step. \n",
    "\n",
    "Quibs do not need to be named; they can have their `assigned_name = None`, indicating unnamed quibs. Unnamed quibs typically represent intermediate analysis steps.\n",
    "\n",
    "For example, when we defined `numbers = np.arange(n**2)`, an intermediate quib `n**2` was created:"
   ]
  },
  {
   "cell_type": "code",
   "execution_count": 6,
   "id": "9b5f3633",
   "metadata": {},
   "outputs": [
    {
     "data": {
      "text/plain": [
       "{n ** 2}"
      ]
     },
     "execution_count": 6,
     "metadata": {},
     "output_type": "execute_result"
    }
   ],
   "source": [
    "numbers.parents"
   ]
  },
  {
   "cell_type": "markdown",
   "id": "37f90629",
   "metadata": {},
   "source": [
    "This intermediate quib has no assigned `assigned_name`:"
   ]
  },
  {
   "cell_type": "code",
   "execution_count": 53,
   "id": "def3699d",
   "metadata": {},
   "outputs": [
    {
     "name": "stdout",
     "output_type": "stream",
     "text": [
      "None\n"
     ]
    }
   ],
   "source": [
    "n2 = next(iter(numbers.parents))\n",
    "print(n2.assigned_name)"
   ]
  },
  {
   "cell_type": "markdown",
   "id": "5bd62508",
   "metadata": {},
   "source": [
    "### The `name` property\n",
    "\n",
    "The `name` property of a quib is defined as its `assigned_name` if specified, or as its `functional_representation` if `assigned_name` is `None`. "
   ]
  },
  {
   "cell_type": "code",
   "execution_count": 54,
   "id": "770b8543",
   "metadata": {},
   "outputs": [
    {
     "data": {
      "text/plain": [
       "'total'"
      ]
     },
     "execution_count": 54,
     "metadata": {},
     "output_type": "execute_result"
    }
   ],
   "source": [
    "total.name"
   ]
  },
  {
   "cell_type": "code",
   "execution_count": null,
   "id": "9e1ab488",
   "metadata": {},
   "outputs": [],
   "source": [
    "total.set_assigned_name(None)\n",
    "total.name"
   ]
  },
  {
   "cell_type": "markdown",
   "id": "3b5d556e",
   "metadata": {},
   "source": [
    "Setting the `name` property is equivalent to setting the `assigned_name` property. "
   ]
  },
  {
   "attachments": {},
   "cell_type": "markdown",
   "id": "46536bb7",
   "metadata": {},
   "source": [
    "#### `functional_representation` changes dynamically to reflect changes in the names of quib arguments, recursively.\n",
    "\n",
    "For example, is we set `numbers` to as un-named:"
   ]
  },
  {
   "cell_type": "code",
   "execution_count": null,
   "id": "763c6c96",
   "metadata": {},
   "outputs": [],
   "source": [
    "numbers.set_name(None)"
   ]
  },
  {
   "cell_type": "markdown",
   "id": "c9a49f6c",
   "metadata": {},
   "source": [
    "then the name of the downstream quib `total` is updated:"
   ]
  },
  {
   "cell_type": "code",
   "execution_count": null,
   "id": "b8207f53",
   "metadata": {},
   "outputs": [],
   "source": [
    "total.name"
   ]
  },
  {
   "cell_type": "markdown",
   "id": "c2858c8c",
   "metadata": {},
   "source": [
    "Changing the name of `n` will now also be reflected downstream:"
   ]
  },
  {
   "cell_type": "code",
   "execution_count": 56,
   "id": "d3dacf1d",
   "metadata": {},
   "outputs": [
    {
     "data": {
      "text/plain": [
       "'sum(numbers_from_zero_to_sqr_n_minus_one)'"
      ]
     },
     "execution_count": 56,
     "metadata": {},
     "output_type": "execute_result"
    }
   ],
   "source": [
    "n.set_name('number_of_numbers')\n",
    "total.functional_representation"
   ]
  },
  {
   "cell_type": "markdown",
   "id": "3c1c80a0",
   "metadata": {},
   "source": [
    "See also: \n",
    "[[name]]\n",
    "[[assigned_name]]\n",
    "[[functional_representation]]"
   ]
  }
 ],
 "metadata": {
  "kernelspec": {
   "display_name": "Python 3 (ipykernel)",
   "language": "python",
   "name": "python3"
  },
  "language_info": {
   "codemirror_mode": {
    "name": "ipython",
    "version": 3
   },
   "file_extension": ".py",
   "mimetype": "text/x-python",
   "name": "python",
   "nbconvert_exporter": "python",
   "pygments_lexer": "ipython3",
   "version": "3.9.7"
  }
 },
 "nbformat": 4,
 "nbformat_minor": 5
}
