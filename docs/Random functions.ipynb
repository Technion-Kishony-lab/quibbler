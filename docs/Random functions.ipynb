{
 "cells": [
  {
   "cell_type": "markdown",
   "id": "ac6ee2bc",
   "metadata": {},
   "source": [
    "## Random functions"
   ]
  },
  {
   "attachments": {},
   "cell_type": "markdown",
   "id": "9dbf20ed",
   "metadata": {},
   "source": [
    "Random functions can be implemented in *Quibbler* using *random* function quibs. Random function quibs are function quibs that call random functions and are specified with (TODO: update is_random property). Defining a function quib as random forces the quib to cache its output, so that multiple request for its value give the same random realization (quenched randomness). Then, to refresh randomization, we invalidate the cached values of these random quibs, which can be done either centrally for all random quibs, or inidvidually for each given random quib. Such invalidation of random quibs will then invalidate any downstream calculations that depend on these random values, causing re-evaluated of the random function upon downstream output request."
   ]
  },
  {
   "cell_type": "markdown",
   "id": "a625e5a9",
   "metadata": {},
   "source": [
    "### Import"
   ]
  },
  {
   "cell_type": "code",
   "execution_count": 14,
   "id": "b26840ea",
   "metadata": {},
   "outputs": [],
   "source": [
    "import pyquibbler as qb\n",
    "from pyquibbler import iquib, q, reset_impure_function_quibs\n",
    "qb.override_all()\n",
    "import numpy as np"
   ]
  },
  {
   "cell_type": "markdown",
   "id": "3283c9fd",
   "metadata": {},
   "source": [
    "### Quibs calling *NumPy* random functions are automatically defined as random quibs\n",
    "\n",
    "By default, all standard *NumPy* functions that generate random output are automatically implemented as random function quibs. We can therefore define random quibs simply by calling *NumPy* random functions with quib arguments.\n",
    "\n",
    "For example,"
   ]
  },
  {
   "cell_type": "code",
   "execution_count": 2,
   "id": "b8093e7d",
   "metadata": {},
   "outputs": [
    {
     "data": {
      "text/plain": [
       "array([0.30530187, 0.27942297, 0.127104  ])"
      ]
     },
     "execution_count": 2,
     "metadata": {},
     "output_type": "execute_result"
    }
   ],
   "source": [
    "n = iquib(3)\n",
    "rand_numbers = np.random.rand(n)\n",
    "rand_numbers.get_value()"
   ]
  },
  {
   "cell_type": "markdown",
   "id": "d0bc4b1e",
   "metadata": {},
   "source": [
    "### Random quibs always cache their results\n",
    "\n",
    "Random quibs always cache their results, so repeated calls for their value yields the same randomization:"
   ]
  },
  {
   "cell_type": "code",
   "execution_count": 21,
   "id": "8716fa43",
   "metadata": {},
   "outputs": [
    {
     "data": {
      "text/plain": [
       "array([0.74206872, 0.82927428, 0.39501332])"
      ]
     },
     "execution_count": 21,
     "metadata": {},
     "output_type": "execute_result"
    }
   ],
   "source": [
    "rand_numbers.get_value()"
   ]
  },
  {
   "attachments": {},
   "cell_type": "markdown",
   "id": "81eda6c6",
   "metadata": {},
   "source": [
    "Because the randomization is fixed, mathematical trivialities hold true:"
   ]
  },
  {
   "cell_type": "code",
   "execution_count": 22,
   "id": "c8e0824e",
   "metadata": {},
   "outputs": [
    {
     "data": {
      "text/plain": [
       "0.0"
      ]
     },
     "execution_count": 22,
     "metadata": {},
     "output_type": "execute_result"
    }
   ],
   "source": [
    "rand_numbers_plus_1 = rand_numbers + 1\n",
    "should_equal_zero = np.sum(rand_numbers_plus_1 - rand_numbers) - n\n",
    "should_equal_zero.get_value()"
   ]
  },
  {
   "cell_type": "markdown",
   "id": "84a40c6c",
   "metadata": {},
   "source": [
    "### Refreshing randomization"
   ]
  },
  {
   "attachments": {},
   "cell_type": "markdown",
   "id": "6266fe0c",
   "metadata": {},
   "source": [
    "The cache of the random quibs can be invalidated either centrally for all random quibs, or individually for a given specific random quib. Upon invalidation, all downstream dependent quibs are also invalidated. Requesting the value of such downstream calculations will then lead to recalculation of the random function (re-randomization)."
   ]
  },
  {
   "cell_type": "markdown",
   "id": "dab14b33",
   "metadata": {},
   "source": [
    "**Central re-randomization of all random quibs.** To simply refresh randomization of all the random quibs in an entire analysis pipeline, we use the `reset_impure_function_quibs` function (TODO: replace function name). All downstream results are also invalidated and upon request for their value, new randomization will be calculated:"
   ]
  },
  {
   "cell_type": "code",
   "execution_count": 23,
   "id": "42564f22",
   "metadata": {},
   "outputs": [
    {
     "data": {
      "text/plain": [
       "array([1.74206872, 1.82927428, 1.39501332])"
      ]
     },
     "execution_count": 23,
     "metadata": {},
     "output_type": "execute_result"
    }
   ],
   "source": [
    "rand_numbers_plus_1.get_value()"
   ]
  },
  {
   "cell_type": "code",
   "execution_count": 24,
   "id": "853c24f6",
   "metadata": {},
   "outputs": [
    {
     "data": {
      "text/plain": [
       "array([1.35043564, 1.08631101, 1.80128479])"
      ]
     },
     "execution_count": 24,
     "metadata": {},
     "output_type": "execute_result"
    }
   ],
   "source": [
    "reset_impure_function_quibs()\n",
    "rand_numbers_plus_1.get_value()"
   ]
  },
  {
   "cell_type": "markdown",
   "id": "a9c3de97",
   "metadata": {},
   "source": [
    "**Quib-specific re-randomization.** To specifically refresh the randomization of a given chosen random quib, we can invalidate its cache using the `reset_cache` method. Any function quibs downstream of this specific quib will thereby also invalidate. Request the value of such downstream results will lead to new randomization:"
   ]
  },
  {
   "cell_type": "code",
   "execution_count": 25,
   "id": "2ff8bd82",
   "metadata": {},
   "outputs": [
    {
     "data": {
      "text/plain": [
       "array([1.71539653, 1.10610631, 1.27845747])"
      ]
     },
     "execution_count": 25,
     "metadata": {},
     "output_type": "execute_result"
    }
   ],
   "source": [
    "rand_numbers.reset_cache()\n",
    "rand_numbers_plus_1.get_value()"
   ]
  },
  {
   "cell_type": "markdown",
   "id": "c4f3796e",
   "metadata": {},
   "source": [
    "### Examples\n",
    "\n",
    "For an example of an *Quibbler* app with random quibs, see:\n",
    "\n",
    "* [[quibdemo_fft]] \n",
    "* [[quibdemo_random_quibs_dice]]."
   ]
  }
 ],
 "metadata": {
  "kernelspec": {
   "display_name": "Python 3 (ipykernel)",
   "language": "python",
   "name": "python3"
  },
  "language_info": {
   "codemirror_mode": {
    "name": "ipython",
    "version": 3
   },
   "file_extension": ".py",
   "mimetype": "text/x-python",
   "name": "python",
   "nbconvert_exporter": "python",
   "pygments_lexer": "ipython3",
   "version": "3.8.8"
  }
 },
 "nbformat": 4,
 "nbformat_minor": 5
}
