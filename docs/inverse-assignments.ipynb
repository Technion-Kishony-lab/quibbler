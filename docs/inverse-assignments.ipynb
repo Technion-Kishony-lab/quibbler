{
 "cells": [
  {
   "cell_type": "markdown",
   "id": "a16052db",
   "metadata": {},
   "source": [
    "## Assignments"
   ]
  },
  {
   "cell_type": "markdown",
   "id": "665a889f",
   "metadata": {},
   "source": [
    "### Rationale\n",
    "\n",
    "Data analysis pipelines are often heavily parametrized, necessitating means to specify and change parameters easily and interactively. Typically, though, interactive parameter specification is challenging, as underlying parameters are often transformed into various forms through different functional operations (changing units, shifting between linear and log scales, extracting data out of larger data structures, combining data structures, etc). Such transformed versions of the parameters can then be presented in various graphical forms. In *Quibbler*, these various representations of upstream parameters are inherently connected, such that changing any of the representations of a given parameter is propagated backwards to affect the corresponding upstream source parameters, thereby automatically affecting all other representations and uses of these same parameters. This behavior allows to readily build sophisticated, yet inherently interactive, data analysis pipelines."
   ]
  },
  {
   "cell_type": "markdown",
   "id": "2d40c5dc",
   "metadata": {},
   "source": [
    "### Making quib assignments\n",
    "\n",
    "Quib assignments are made using standard _Python_ assignment syntax.\n",
    "\n",
    "For example:"
   ]
  },
  {
   "cell_type": "code",
   "execution_count": 2,
   "id": "05ec6521",
   "metadata": {},
   "outputs": [],
   "source": [
    "# Imports\n",
    "import pyquibbler as qb\n",
    "from pyquibbler import iquib\n",
    "qb.override_all()\n",
    "import numpy as np\n",
    "import matplotlib.pyplot as plt\n",
    "%matplotlib tk"
   ]
  },
  {
   "cell_type": "code",
   "execution_count": 2,
   "id": "c74e02f8",
   "metadata": {},
   "outputs": [
    {
     "data": {
      "text/plain": [
       "['We', 'love', 'big', 'data']"
      ]
     },
     "execution_count": 2,
     "metadata": {},
     "output_type": "execute_result"
    }
   ],
   "source": [
    "words = iquib(['We', 'love', 'big', 'data'])\n",
    "words.get_value()"
   ]
  },
  {
   "cell_type": "code",
   "execution_count": 3,
   "id": "23a59058",
   "metadata": {},
   "outputs": [
    {
     "data": {
      "text/plain": [
       "['We', 'love', 'huge', 'data']"
      ]
     },
     "execution_count": 3,
     "metadata": {},
     "output_type": "execute_result"
    }
   ],
   "source": [
    "words[2] = 'huge'\n",
    "words.get_value()"
   ]
  },
  {
   "cell_type": "markdown",
   "id": "d46b6649",
   "metadata": {},
   "source": [
    "Deep-level assignments are also supported:"
   ]
  },
  {
   "cell_type": "code",
   "execution_count": 4,
   "id": "69ec9e3b",
   "metadata": {},
   "outputs": [
    {
     "data": {
      "text/plain": [
       "[1, [2, 0], 4]"
      ]
     },
     "execution_count": 4,
     "metadata": {},
     "output_type": "execute_result"
    }
   ],
   "source": [
    "x = iquib([1, [2, 3], 4])\n",
    "x[1][1] = 0\n",
    "x.get_value()"
   ]
  },
  {
   "cell_type": "markdown",
   "id": "4a90b578",
   "metadata": {},
   "source": [
    "#### Whole-object assignments\n",
    "\n",
    "If we want to completely replace the whole value of a quib, we use the `assign_value()` method. For example, suppose we want to assign the *NumPy* array `np.array([10, 20, 30])` into the quib `x` above. The syntax `x = np.array([10, 20, 30])` cannot work as it simply sets `x` to *be* the *NumPy* array rather than setting the existing quib's value to the array. To perform such whole-object assignments, we can use the `assign_value()` method:"
   ]
  },
  {
   "cell_type": "code",
   "execution_count": 58,
   "id": "2e2165c3",
   "metadata": {},
   "outputs": [
    {
     "data": {
      "text/plain": [
       "array([10, 20, 30])"
      ]
     },
     "execution_count": 58,
     "metadata": {},
     "output_type": "execute_result"
    }
   ],
   "source": [
    "x.assign_value(np.array([10, 20, 30]))\n",
    "x.get_value()"
   ]
  },
  {
   "cell_type": "markdown",
   "id": "a3332f23",
   "metadata": {},
   "source": [
    "### Inverse assignments: assignments into functional quibs are inverted to affect upstream quibs\n",
    "\n",
    "By default, assignments to functional quibs are propagated backwards to alter upstream quibs. This process of upstream assignment propagation is termed *inverse assignment*. Inverse assignment proceeds upstream until it reaches a quib, typically an i-quib, in which the assignment is ultimately *actualized* (for assignments actualized at intermediate f-quibs, see [[Overriding default functionality]])."
   ]
  },
  {
   "cell_type": "markdown",
   "id": "d7843109",
   "metadata": {},
   "source": [
    "For example, suppose `z` is an i-quib and `z10` is an f-quib that depends on `z`:"
   ]
  },
  {
   "cell_type": "code",
   "execution_count": 64,
   "id": "dd8557f3",
   "metadata": {},
   "outputs": [
    {
     "data": {
      "text/plain": [
       "array([21, 22, 23])"
      ]
     },
     "execution_count": 64,
     "metadata": {},
     "output_type": "execute_result"
    }
   ],
   "source": [
    "z = iquib(np.array([11, 12, 13]))\n",
    "z10 = z + 10\n",
    "z10.get_value()"
   ]
  },
  {
   "cell_type": "markdown",
   "id": "f23dbe37",
   "metadata": {},
   "source": [
    "Then, making an assignment into `z10` is propagated backwards, reaching the i-quib `z` where the assignment is actualized:"
   ]
  },
  {
   "cell_type": "code",
   "execution_count": 65,
   "id": "bd0c4195",
   "metadata": {},
   "outputs": [
    {
     "data": {
      "text/plain": [
       "array([11, 12, 90])"
      ]
     },
     "execution_count": 65,
     "metadata": {},
     "output_type": "execute_result"
    }
   ],
   "source": [
    "z10[2] = 100;\n",
    "z.get_value()"
   ]
  },
  {
   "cell_type": "code",
   "execution_count": 66,
   "id": "a6790753",
   "metadata": {},
   "outputs": [
    {
     "data": {
      "text/plain": [
       "array([ 21,  22, 100])"
      ]
     },
     "execution_count": 66,
     "metadata": {},
     "output_type": "execute_result"
    }
   ],
   "source": [
    "z10.get_value()"
   ]
  },
  {
   "cell_type": "markdown",
   "id": "ad8c3f39",
   "metadata": {},
   "source": [
    "Such inverse assignment can transverse multiple levels and many types of functional operations including arithmetic functions, type casting, concatenation, array-reordering, array referencing and more.\n",
    "\n",
    "For example, consider a series of functional operations starting with a given i-quib:"
   ]
  },
  {
   "cell_type": "code",
   "execution_count": 9,
   "id": "bc5b83e4",
   "metadata": {},
   "outputs": [
    {
     "data": {
      "text/plain": [
       "array([[ 8,  1],\n",
       "       [16,  2],\n",
       "       [ 2,  4]])"
      ]
     },
     "execution_count": 9,
     "metadata": {},
     "output_type": "execute_result"
    }
   ],
   "source": [
    "xy_list = iquib(np.array([[8, 1], [16, 2], [2, 4]]))\n",
    "xy_list.get_value()"
   ]
  },
  {
   "cell_type": "code",
   "execution_count": 10,
   "id": "de8b8fc7",
   "metadata": {},
   "outputs": [
    {
     "data": {
      "text/plain": [
       "array([13., 12.])"
      ]
     },
     "execution_count": 10,
     "metadata": {},
     "output_type": "execute_result"
    }
   ],
   "source": [
    "xy0 = xy_list[0] # -> [8, 1]\n",
    "xy2 = xy_list[2] # -> [2, 4]\n",
    "x0 = xy0[[0]] # -> [8]\n",
    "y2 = xy2[[1]] # -> [4]\n",
    "x0y2 = np.concatenate([x0, y2]) # -> [8, 4]\n",
    "x0y2_log = np.log2(x0y2) # -> [3, 2]\n",
    "x0y2_log_plus10 = 10 + x0y2_log # -> [13, 12]\n",
    "x0y2_log_plus10.get_value()"
   ]
  },
  {
   "cell_type": "markdown",
   "id": "d44e6930",
   "metadata": {},
   "source": [
    "then, assigning to the downstream f-quib:"
   ]
  },
  {
   "cell_type": "code",
   "execution_count": 11,
   "id": "e8d2d1e4",
   "metadata": {},
   "outputs": [],
   "source": [
    "x0y2_log_plus10[1] = 16"
   ]
  },
  {
   "cell_type": "markdown",
   "id": "4539af87",
   "metadata": {},
   "source": [
    "is translated into upstream changes in the corresponding indeces of the relevant source i-quibs:"
   ]
  },
  {
   "cell_type": "code",
   "execution_count": 12,
   "id": "ccc6256f",
   "metadata": {},
   "outputs": [
    {
     "data": {
      "text/plain": [
       "array([[ 8,  1],\n",
       "       [16,  2],\n",
       "       [ 2, 64]])"
      ]
     },
     "execution_count": 12,
     "metadata": {},
     "output_type": "execute_result"
    }
   ],
   "source": [
    "xy_list.get_value()"
   ]
  },
  {
   "attachments": {},
   "cell_type": "markdown",
   "id": "274b05c1",
   "metadata": {},
   "source": [
    "### Combining inverse assignment with graphics-driven assignment readily creates interactive GUI for parameter specification\n",
    "\n",
    "By combining inverse assignment with [[graphics-driven assignment|Graphics]] we can easily create intuitive and interactive graphical user interface for parameter specification. This combination is particularly powerful in cases where an upstream parameter is transformed into one or more different presentations that are all thereby inherently dependent. In such cases, changing any of these presentations will affect the source parameter, by inverse assignment, and thereby affect all other dependent presentations. \n",
    "\n",
    "Consider the following example:"
   ]
  },
  {
   "cell_type": "code",
   "execution_count": 40,
   "id": "9598dd79",
   "metadata": {},
   "outputs": [
    {
     "data": {
      "text/plain": [
       "2.0"
      ]
     },
     "execution_count": 40,
     "metadata": {},
     "output_type": "execute_result"
    }
   ],
   "source": [
    "p = iquib(100.)\n",
    "logp = np.log10(p)"
   ]
  },
  {
   "attachments": {},
   "cell_type": "markdown",
   "id": "ea7450c2",
   "metadata": {},
   "source": [
    "For additional examples, see:\n",
    "\n",
    "* [[quibdemo_LotkaVolterra]]\n",
    "* [[quibdemo_same_data_in_many_forms]]"
   ]
  },
  {
   "cell_type": "markdown",
   "id": "cf70610d",
   "metadata": {},
   "source": [
    "### Inverse assignments of many-to-one functions\n",
    "\n",
    "To allow natural powerful behavior, inverse assignment is defined in *Quibbler* not only for one-to-one functions, but also for many-to-one functions. In gerenral, such inversions are based on the original upstream value onto which the assignment is inverted. This functionality creates the naturally expected behaviors for the following type of functions:"
   ]
  },
  {
   "cell_type": "markdown",
   "id": "682adf5d",
   "metadata": {},
   "source": [
    "**Casting.** TODO"
   ]
  },
  {
   "cell_type": "markdown",
   "id": "e7ab957f",
   "metadata": {},
   "source": [
    "**Rounding.** In *Quibbler*, the inverse of rounding functions, like `round`, `ceil`, `floor` is simply defined as the identify function. So, while the inverse of round(10) can be any number between 9.5 and 10.5, *Quibbler* uses the value 10 for the inversion:"
   ]
  },
  {
   "cell_type": "code",
   "execution_count": 39,
   "id": "51f90aa8",
   "metadata": {},
   "outputs": [
    {
     "data": {
      "text/plain": [
       "array([10., 10., 10., 10.])"
      ]
     },
     "execution_count": 39,
     "metadata": {},
     "output_type": "execute_result"
    }
   ],
   "source": [
    "f = iquib(np.array([-3.2, 3.2, -3.7, 3.7]))\n",
    "f_round = np.round(f)\n",
    "f_round[:] = 10\n",
    "f.get_value()"
   ]
  },
  {
   "cell_type": "markdown",
   "id": "e39d223e",
   "metadata": {},
   "source": [
    "**Periodic functions.** Periodic functions have multiple inversion solutions. *Quibbler* automatically chooses the solution closet to the current value of the assigned quib. For example:"
   ]
  },
  {
   "cell_type": "code",
   "execution_count": 33,
   "id": "e6759b33",
   "metadata": {},
   "outputs": [
    {
     "data": {
      "text/plain": [
       "array([  30.,  150.,  390., -330., 3630.])"
      ]
     },
     "execution_count": 33,
     "metadata": {},
     "output_type": "execute_result"
    }
   ],
   "source": [
    "phi = iquib(np.array([0., 180., 360., -360., 3600.]))\n",
    "sin_phi = np.sin(phi / 360 * 2 * np.pi) # <- [0., 0., 0., 0., 0.]\n",
    "sin_phi[:] = 0.5\n",
    "phi.get_value()"
   ]
  },
  {
   "cell_type": "markdown",
   "id": "85d5ada3",
   "metadata": {},
   "source": [
    "**Other many-to-one functions.** As with periodic functions, in other functions where multiple solutions exist, inverse assignments assumes the solution closest to the current value:"
   ]
  },
  {
   "cell_type": "code",
   "execution_count": 50,
   "id": "83e8488d",
   "metadata": {},
   "outputs": [
    {
     "data": {
      "text/plain": [
       "array([-4.,  4.])"
      ]
     },
     "execution_count": 50,
     "metadata": {},
     "output_type": "execute_result"
    }
   ],
   "source": [
    "r = iquib(np.array([-3., 3.]))\n",
    "r2 = np.square(r)\n",
    "r2[:] = 16\n",
    "r.get_value()"
   ]
  },
  {
   "cell_type": "markdown",
   "id": "e78bc792",
   "metadata": {},
   "source": [
    "### Inverse assignment of binary operators with two quib arguments\n",
    "\n",
    "As a convention, in binary operators, inverse assignment is defined to target the first quib argument. \n",
    "\n",
    "This definition allows specifying the upstream target for assignment inversion."
   ]
  },
  {
   "cell_type": "markdown",
   "id": "5182234d",
   "metadata": {},
   "source": [
    "Consider for example the different in behavior of the following two code snippets:"
   ]
  },
  {
   "cell_type": "code",
   "execution_count": 7,
   "id": "ee2879ae",
   "metadata": {},
   "outputs": [
    {
     "data": {
      "text/plain": [
       "[6, 4]"
      ]
     },
     "execution_count": 7,
     "metadata": {},
     "output_type": "execute_result"
    }
   ],
   "source": [
    "x = iquib([3, 4])\n",
    "s = x[0] + x[1]\n",
    "s.assign_value(10)\n",
    "x.get_value()"
   ]
  },
  {
   "cell_type": "code",
   "execution_count": 8,
   "id": "9ff87f9b",
   "metadata": {},
   "outputs": [
    {
     "data": {
      "text/plain": [
       "[3, 7]"
      ]
     },
     "execution_count": 8,
     "metadata": {},
     "output_type": "execute_result"
    }
   ],
   "source": [
    "x = iquib([3, 4])\n",
    "s = x[1] + x[0]\n",
    "s.assign_value(10)\n",
    "x.get_value()"
   ]
  },
  {
   "cell_type": "markdown",
   "id": "5e68cbb1",
   "metadata": {},
   "source": [
    "These two codes differ only in the order in which `x[0]` and `x[1]` are added. In the first case, when we use `s = x[0] + x[1]`, the first quib is `x[0]` and the assignment into `s` is inverted to affect `x[0]`. Conversely, in the second case, when we use `s = x[1] + x[0]`, the first quib is `x[1]` and the assignment into `s` is inverted to affect `x[1]`."
   ]
  },
  {
   "cell_type": "markdown",
   "id": "e2d71eb5",
   "metadata": {},
   "source": [
    "This behavior allows controlling the desired behavior of inverse assignment when a given change can be satisfied in more than one way. As an illustrating example, see: \n",
    "* [[quibdemo_drag_whole_object_vs_individual_points]]"
   ]
  },
  {
   "cell_type": "markdown",
   "id": "35d1cd50",
   "metadata": {},
   "source": [
    "### Inverse assignment of binary operators with two dependent quib arguments\n",
    "\n",
    "As indicated above, when binary operators acting on two quibs are inverted, inversion is set to always target the first quib. When these two quibs are independent, the resulted upstream assignment will satisfy the downstream assignment we have made (as seen in the example above). However, when the two quibs are dependent, we can get upstream assignments that do not necessarily satisfy the downstream assignments we made. Formally speaking, inverse assignment is not meant to 'solve' an equation, rather as a function that propagate downstream assignments to desired upstream changes. This is perhaps best exemplified in the following simple code which allows adding a given value to specified quib: "
   ]
  },
  {
   "cell_type": "code",
   "execution_count": 24,
   "id": "0f40f63b",
   "metadata": {},
   "outputs": [],
   "source": [
    "xy = iquib(np.array([2, 3]))\n",
    "dxy = xy - xy"
   ]
  },
  {
   "cell_type": "code",
   "execution_count": 25,
   "id": "9a662faa",
   "metadata": {},
   "outputs": [
    {
     "data": {
      "text/plain": [
       "array([2, 7])"
      ]
     },
     "execution_count": 25,
     "metadata": {},
     "output_type": "execute_result"
    }
   ],
   "source": [
    "dxy[1] = 4\n",
    "xy.get_value()"
   ]
  },
  {
   "cell_type": "code",
   "execution_count": 26,
   "id": "b79d7309",
   "metadata": {},
   "outputs": [
    {
     "data": {
      "text/plain": [
       "array([5, 6])"
      ]
     },
     "execution_count": 26,
     "metadata": {},
     "output_type": "execute_result"
    }
   ],
   "source": [
    "dxy[:] = [3, -1]\n",
    "xy.get_value()"
   ]
  },
  {
   "cell_type": "markdown",
   "id": "b615c587",
   "metadata": {},
   "source": [
    "This behavior can be used, for example, to graphically control the position of one object by \"dragging\" another fixed object. See:"
   ]
  },
  {
   "cell_type": "markdown",
   "id": "1f2c0538",
   "metadata": {},
   "source": [
    "* [[Dragging fixed object to affect another|quibdemo_dragging_fixed_object]]"
   ]
  },
  {
   "cell_type": "markdown",
   "id": "11d0b60a",
   "metadata": {},
   "source": [
    "### Upstream type casting can be used to restrict the value of downstream results\n",
    "\n",
    "The value of downstream functional quibs could be restricted due to specific type of upstream quibs. \n",
    "\n",
    "In the following example, `a` is an integer and thereby `b = 10 * a` must be divisible by 10. Assigning a value of 33 to `b` assigns 3.3 to `a`, but since `a` is an array of integers, it changes to 3 thereby changing `b` to 30 (rather than the assigned value of 33):"
   ]
  },
  {
   "cell_type": "code",
   "execution_count": 15,
   "id": "1af03dad",
   "metadata": {},
   "outputs": [
    {
     "data": {
      "text/plain": [
       "30"
      ]
     },
     "execution_count": 15,
     "metadata": {},
     "output_type": "execute_result"
    }
   ],
   "source": [
    "a = iquib(np.array([7]))\n",
    "b = 10 * a\n",
    "b[0] = 33\n",
    "b[0].get_value()"
   ]
  },
  {
   "cell_type": "markdown",
   "id": "75a542ab",
   "metadata": {},
   "source": [
    "This natural behavior can be used in applications where we need to restrict the possible values of specific function quibs. See for example: [[quibdemo_drag_fixed_values]]."
   ]
  },
  {
   "cell_type": "markdown",
   "id": "627d23fa",
   "metadata": {},
   "source": [
    "### Graphics-driven assignments\n",
    "\n",
    "As we have seen in the [[Quickstart]] page, applying a graphics function to a quib generates \"live\" graphics that changes when the quib is changed; and conversely, making changes to quib graphics can be interpreted as assignments to its source quib arguments. Such graphics-driven assignments are enabled when we use a quib as the value-setting kwarg of *Matplotlib* widgets, or when we indicate `picker=True` for plt.plot with quib arguments (see [[Graphics]])."
   ]
  },
  {
   "cell_type": "markdown",
   "id": "61c2d075",
   "metadata": {},
   "source": [
    "Combining inverse assignments with graphics driven assignments\n",
    "\n",
    "When the red or green triangles are moved, Quibbler attempts to assign to Threshold1 or Threshold2, respectively. Then, using inverse assignment, these assignments are propagated backwards to the specific indices of the Thresholds vector. \n",
    " "
   ]
  },
  {
   "cell_type": "markdown",
   "id": "a62a0bb6",
   "metadata": {},
   "source": [
    "### Undo/Redo assignments\n",
    "\n",
    "Quibbler tracks all assignments (either graphics-driven as above, or through the command line), allowing Undo/Redo functionality.\n",
    "Undo/Redo can be done using the Undo/Redo buttons of the quibapp, or programatically using `qb.undo()`, `qb.redo()`."
   ]
  },
  {
   "cell_type": "markdown",
   "id": "5f1b097a",
   "metadata": {},
   "source": [
    "### The assignment_template is used to restrict assigned values\n",
    "Depending on the application, we may need to assure and verify that the user only assign specific data types and values to a given quib. This is achieved using the `assignment_template` property. When `None`, there are no restrictions on assignments. Otherwise, the following options are available:\n",
    "\n",
    "TODO"
   ]
  },
  {
   "cell_type": "markdown",
   "id": "8af8db2c",
   "metadata": {},
   "source": [
    "### Saving quib assignments to files\n",
    "\n",
    "The assignments of each quib can be saved into quib-associated files.  TODO: methods. For details, see [[Project save-load]]. "
   ]
  }
 ],
 "metadata": {
  "kernelspec": {
   "display_name": "Python 3 (ipykernel)",
   "language": "python",
   "name": "python3"
  },
  "language_info": {
   "codemirror_mode": {
    "name": "ipython",
    "version": 3
   },
   "file_extension": ".py",
   "mimetype": "text/x-python",
   "name": "python",
   "nbconvert_exporter": "python",
   "pygments_lexer": "ipython3",
   "version": "3.9.7"
  }
 },
 "nbformat": 4,
 "nbformat_minor": 5
}
