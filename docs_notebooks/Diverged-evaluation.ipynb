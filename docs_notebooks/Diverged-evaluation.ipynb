{
 "cells": [
  {
   "cell_type": "markdown",
   "id": "a16052db",
   "metadata": {},
   "source": [
    "## Diverged evaluation"
   ]
  },
  {
   "cell_type": "markdown",
   "id": "3c1c80a0",
   "metadata": {},
   "source": [
    "#### Rationale\n",
    "\n",
    "Data analysis pipelines can have *diverged* processing steps, where a specific function is applied repeatedly to each of many individual data items (e.g., enhancing each image in a stack of images). In such diverged steps, the calculation of each data item could be done independently, and we may only want to calculate some and not all of the items at a given time. Furthermore, changes to upstream parameters may only affect the calculations of some of the data items while any cached calculations of other items remain valid (e.g., changing an enhancement parameter specific for one image will require repeating the processing of this image alone). We therefore need ways to independently calculate, cache and track the validity of each data item in such diverged analysis steps. In *Quibbler*, such independent processing and tracking is automatically enabled when we use the *NumPy* syntax of \n",
    "[[vectorize|<https://numpy.org/doc/stable/reference/generated/numpy.vectorize.html>]] \n",
    "and [[apply_along_axis|<https://numpy.org/doc/stable/reference/generated/numpy.apply_along_axis.html>]]. \n",
    "\n",
    "Applying such *NumPy* vectorized functions to quib arguments creates a *vectorized function quib* whose output array is calculated, cached and invalidated not as a whole but rather element-by-element, or slice by slice."
   ]
  },
  {
   "cell_type": "markdown",
   "id": "c7c0c37b",
   "metadata": {
    "tags": []
   },
   "source": [
    "#### Quickly reviewing the standard behavior of np.vectorize\n",
    "\n",
    "*NumPy*'s `np.vectorize` provides a standard syntax to *vectorize* a given function such that when applied to array arguments it creates a new array by acting repeatedly on each element of the array arguments (or across slices thereof, see the `signature` kwarg). \n",
    "\n",
    "For example:"
   ]
  },
  {
   "cell_type": "code",
   "execution_count": 1,
   "id": "50177c11",
   "metadata": {
    "tags": []
   },
   "outputs": [],
   "source": [
    "# Import Quibbler:\n",
    "import pyquibbler as qb\n",
    "from pyquibbler import iquib, q\n",
    "qb.override_all()\n",
    "\n",
    "# Other imports:\n",
    "import numpy as np\n",
    "import matplotlib.pyplot as plt\n",
    "%matplotlib tk"
   ]
  },
  {
   "cell_type": "code",
   "execution_count": 2,
   "id": "f1ec5780-3ce1-46d0-afe3-fee03740e7db",
   "metadata": {},
   "outputs": [],
   "source": [
    "def my_sqr(x):\n",
    "    print(f'calculating my_sqr of x = {x}')\n",
    "    return x ** 2\n",
    "\n",
    "\n",
    "v_my_sqr = np.vectorize(my_sqr, otypes=[int])"
   ]
  },
  {
   "cell_type": "markdown",
   "id": "589fd497-1d99-43af-acf1-9dc2aa22d933",
   "metadata": {},
   "source": [
    "In this example, `v_my_sqr` is the vectorized form of `my_sqr`; when `v_my_sqr` is applied to an array, it executes the underlying function `my_sqr` on each element of the input array:"
   ]
  },
  {
   "cell_type": "code",
   "execution_count": 3,
   "id": "92487802-566e-4123-a83a-0c1c489c19e5",
   "metadata": {},
   "outputs": [
    {
     "name": "stdout",
     "output_type": "stream",
     "text": [
      "calculating my_sqr of x = 0\n",
      "calculating my_sqr of x = 1\n",
      "calculating my_sqr of x = 2\n",
      "calculating my_sqr of x = 3\n",
      "calculating my_sqr of x = 4\n"
     ]
    },
    {
     "data": {
      "text/plain": [
       "array([ 0,  1,  4,  9, 16])"
      ]
     },
     "execution_count": 3,
     "metadata": {},
     "output_type": "execute_result"
    }
   ],
   "source": [
    "v_my_sqr(np.array([0, 1, 2, 3, 4]))"
   ]
  },
  {
   "cell_type": "markdown",
   "id": "53ecff2c-a3b1-4155-83a1-e3e6a4163a31",
   "metadata": {},
   "source": [
    "#### Applying a vectorized function to quib arguments creates a vectorized function quib"
   ]
  },
  {
   "cell_type": "markdown",
   "id": "1623df8f-44b2-473a-a5bd-ae43a1a9b813",
   "metadata": {},
   "source": [
    "In analogy to the standard behavior above, applying a vectorized function to quib arguments creates a vectorized function quib that calculates its output by calling the underlying function on each element of the output of its quib arguments. As with other function quibs, this definion is declarative (`lazy` by default), so no calculations are initially performed:"
   ]
  },
  {
   "cell_type": "code",
   "execution_count": 4,
   "id": "5c982077-6f33-4ac9-9911-9223acd3b5e1",
   "metadata": {},
   "outputs": [],
   "source": [
    "x = iquib(np.array([0, 1, 2, 3, 4]))\n",
    "x_sqr = v_my_sqr(x).setp(cache_mode='on')"
   ]
  },
  {
   "cell_type": "markdown",
   "id": "945a8066-5bb2-4fb3-9917-21f0f8d31b6f",
   "metadata": {},
   "source": [
    "Calculations are only performed once we request the output of the function quib:"
   ]
  },
  {
   "cell_type": "code",
   "execution_count": 5,
   "id": "26665778-e67e-4b5e-831c-f2c0ad2af420",
   "metadata": {},
   "outputs": [
    {
     "name": "stdout",
     "output_type": "stream",
     "text": [
      "calculating my_sqr of x = 0\n",
      "calculating my_sqr of x = 1\n",
      "calculating my_sqr of x = 2\n",
      "calculating my_sqr of x = 3\n",
      "calculating my_sqr of x = 4\n"
     ]
    },
    {
     "data": {
      "text/plain": [
       "array([ 0,  1,  4,  9, 16])"
      ]
     },
     "execution_count": 5,
     "metadata": {},
     "output_type": "execute_result"
    }
   ],
   "source": [
    "x_sqr.get_value()"
   ]
  },
  {
   "cell_type": "markdown",
   "id": "a5cfeabf",
   "metadata": {},
   "source": [
    "#### Vectorized quibs independently calculate and cache specifically requested array elements\n",
    "\n",
    "As the output of vectorized function quibs is calculated element-by-element, there is no need to calculate the entire array if only specific elements are requested. Indeed, an `np.vectorize` quib knows to only calculate the array elements specifically needed to provide a requested output. \n",
    "\n",
    "For example, let's repeat the simple code above, but only ask for the value of `x_sqr` at a specific element. *Quibbler* will only evaluate the function at the requested position:"
   ]
  },
  {
   "cell_type": "code",
   "execution_count": 6,
   "id": "f88dc21b-b61f-4636-a3ed-051ffd03df23",
   "metadata": {},
   "outputs": [
    {
     "name": "stdout",
     "output_type": "stream",
     "text": [
      "calculating my_sqr of x = 3\n"
     ]
    },
    {
     "data": {
      "text/plain": [
       "9"
      ]
     },
     "execution_count": 6,
     "metadata": {},
     "output_type": "execute_result"
    }
   ],
   "source": [
    "x = iquib(np.array([0, 1, 2, 3, 4]))\n",
    "x_sqr = v_my_sqr(x).setp(cache_mode='on')\n",
    "x_sqr[3].get_value()"
   ]
  },
  {
   "cell_type": "markdown",
   "id": "c5cb898d",
   "metadata": {},
   "source": [
    "These calculated values resulting from each call to the underlying fucntion are indepdnently cached, so further requests for array output only calculate the parts of the array not yet calculated:"
   ]
  },
  {
   "cell_type": "code",
   "execution_count": 7,
   "id": "9ed0d605-271b-471b-84b8-8735d572b0c6",
   "metadata": {},
   "outputs": [
    {
     "name": "stdout",
     "output_type": "stream",
     "text": [
      "calculating my_sqr of x = 2\n",
      "calculating my_sqr of x = 4\n"
     ]
    },
    {
     "data": {
      "text/plain": [
       "array([ 4,  9, 16])"
      ]
     },
     "execution_count": 7,
     "metadata": {},
     "output_type": "execute_result"
    }
   ],
   "source": [
    "x_sqr[2:].get_value()"
   ]
  },
  {
   "cell_type": "code",
   "execution_count": 8,
   "id": "19e54427-84cd-4ba3-90fe-23a6c4e8e4d0",
   "metadata": {},
   "outputs": [
    {
     "name": "stdout",
     "output_type": "stream",
     "text": [
      "calculating my_sqr of x = 0\n",
      "calculating my_sqr of x = 1\n"
     ]
    },
    {
     "data": {
      "text/plain": [
       "array([ 0,  1,  4,  9, 16])"
      ]
     },
     "execution_count": 8,
     "metadata": {},
     "output_type": "execute_result"
    }
   ],
   "source": [
    "x_sqr.get_value()"
   ]
  },
  {
   "cell_type": "markdown",
   "id": "474ea6a8-8751-4c3e-bf3b-5fcbc2593122",
   "metadata": {},
   "source": [
    "#### Vectorized quibs track validity of individual array elements \n",
    "\n",
    "Not only array elements of vectorized function quibs are individually calculated and cached, their validity is also independently tracked upon upstream changes. \n",
    "\n",
    "When upstream value changes, such changes only invalidate the specifically affected array elements. Only the calculation of these elements is then repeated when the output is requested:"
   ]
  },
  {
   "cell_type": "code",
   "execution_count": 9,
   "id": "28c7abb5-74cf-4878-927e-c890634cb14a",
   "metadata": {},
   "outputs": [],
   "source": [
    "x[3] = 10"
   ]
  },
  {
   "cell_type": "code",
   "execution_count": 10,
   "id": "f02646a7-d1c3-411f-a43f-b2dd97c2879f",
   "metadata": {},
   "outputs": [
    {
     "name": "stdout",
     "output_type": "stream",
     "text": [
      "calculating my_sqr of x = 10\n"
     ]
    },
    {
     "data": {
      "text/plain": [
       "array([  0,   1,   4, 100,  16])"
      ]
     },
     "execution_count": 10,
     "metadata": {},
     "output_type": "execute_result"
    }
   ],
   "source": [
    "x_sqr.get_value()"
   ]
  },
  {
   "cell_type": "markdown",
   "id": "34715532-5221-4ee4-bd7c-e0edefc6f7f1",
   "metadata": {},
   "source": [
    "#### Using vectorize for graphic functions\n",
    "\n",
    "Vectorized function quibs readily facilitate creating multiple instances of similar graphic elements. This is done simply by vectorizing an underlying function that create graphics and setting `Quib.is_graphics=True` in the vectorize command. \n",
    "\n",
    "Here is a simple example:"
   ]
  },
  {
   "cell_type": "code",
   "execution_count": 11,
   "id": "afaf8f16-dd54-4fa2-8009-1f3c397532c5",
   "metadata": {},
   "outputs": [],
   "source": [
    "from functools import partial\n",
    "\n",
    "# define graphics vectorize function\n",
    "@partial(np.vectorize, is_graphics=True, signature='(),(2),(2),()->()')\n",
    "def draw_arrow(ax, xy0, dxy, w):\n",
    "    xy1 = xy0 + dxy\n",
    "    ax.plot([xy0[0], xy1[0]], [xy0[1], xy1[1]], 'r-')\n",
    "    phi = np.pi + np.arctan2(dxy[1], dxy[0])\n",
    "    phi1 = phi - 0.3\n",
    "    phi2 = phi + 0.3\n",
    "    ax.plot([xy1[0], xy1[0] + w*np.cos(phi1)], [xy1[1], xy1[1] + w*np.sin(phi1)], 'r')\n",
    "    ax.plot([xy1[0], xy1[0] + w*np.cos(phi2)], [xy1[1], xy1[1] + w*np.sin(phi2)], 'r')\n",
    "\n",
    "# prepare figure\n",
    "plt.figure()\n",
    "ax = plt.gca()\n",
    "ax.axis('square')\n",
    "ax.axis([0, 50, 0, 50])\n",
    "\n",
    "# define quibs:\n",
    "xy = iquib(np.array([[10, 10], [20, 20], [30, 30], [40, 40]]))\n",
    "xy_tail = xy[0:-1]\n",
    "xy_head = xy[1:]\n",
    "dxy = xy_head - xy_tail\n",
    "w = iquib(4.)\n",
    "\n",
    "# draw\n",
    "draw_arrow(ax, xy_tail, dxy, w);\n",
    "plt.plot(xy[:,0], xy[:,1], 'ob', markersize=4, picker=True);"
   ]
  },
  {
   "cell_type": "markdown",
   "id": "38865505-a8f9-4b41-a40f-6d9dc7780957",
   "metadata": {},
   "source": [
    "[[/images/divergence_gif/Divergence_arrows.gif]]"
   ]
  },
  {
   "cell_type": "markdown",
   "id": "47d32b52-c80e-48e0-ada2-daf56c8d1cf9",
   "metadata": {},
   "source": [
    "#### Passing quibs as arguments to allows inverse assignment from vectorized quibs\n",
    "\n",
    "In the examples above, when the vectorized function quib gets quib arguments it sends to the underlying function the output value of these quibs at given array positions. The underlying function deals with regular, non-quib, arguments. Alternatively, it is also possible to send the underlying function quib arguments which reference the vectorize quib arguments at the corresponding indices. This behavior is controlled by the `pass_quibs` kwarg of `np.vectorize`. Setting `pass_quibs=True` will pass quib as arguments thus enabling some additional functionality including in particular the ability to inverse assign from graphics created within the function. \n",
    "\n",
    "See this example:"
   ]
  },
  {
   "cell_type": "code",
   "execution_count": 13,
   "id": "11d11d47-1f47-4101-940c-48a44b88db88",
   "metadata": {},
   "outputs": [],
   "source": [
    "from matplotlib.widgets import RectangleSelector, Slider\n",
    "\n",
    "# Set figure:\n",
    "plt.figure(figsize=(4, 5))\n",
    "ax = plt.gca()\n",
    "ax.axis('square')\n",
    "ax.axis([0, 100, 0, 100])\n",
    "ax_slider = plt.axes([0.2, 0.05, 0.6, 0.05])\n",
    "\n",
    "# Define quibs:\n",
    "number_of_rectangles = iquib(3, assignment_template=(1, 8))\n",
    "ext_default = iquib(np.array([10, 20, 10, 20]))\n",
    "exts = np.tile(ext_default, (number_of_rectangles, 1))\n",
    "exts.setp(allow_overriding=True, assigned_quibs='self')\n",
    "\n",
    "# Use vectorize with pass_quibs to allow inverse_assignment:\n",
    "@partial(np.vectorize, signature='(4)->()', \n",
    "         is_graphics=True, pass_quibs=True)\n",
    "def rectangle_selector(ext):\n",
    "    RectangleSelector(ax=ax, extents=ext)\n",
    "    return\n",
    "\n",
    "# Graphics:\n",
    "rectangle_selector(exts)\n",
    "ax.text(5, 95, q(str, exts), va='top');\n",
    "Slider(ax=ax_slider, label='n', valmin=1, valmax=8, \n",
    "       valinit=number_of_rectangles);"
   ]
  },
  {
   "cell_type": "markdown",
   "id": "a8db4ac7-3c52-4b4a-8ebc-9a399289fc04",
   "metadata": {},
   "source": [
    "[[/images/divergence_gif/Divergence_passquibs.gif]]"
   ]
  },
  {
   "cell_type": "markdown",
   "id": "367bd61a-0f39-4923-97c1-197d982b00c4",
   "metadata": {},
   "source": [
    "#### Additional demos\n",
    "For additional examples, see:\n",
    "\n",
    "* [[quibdemo_compare_images]]"
   ]
  }
 ],
 "metadata": {
  "kernelspec": {
   "display_name": "Python 3 (ipykernel)",
   "language": "python",
   "name": "python3"
  },
  "language_info": {
   "codemirror_mode": {
    "name": "ipython",
    "version": 3
   },
   "file_extension": ".py",
   "mimetype": "text/x-python",
   "name": "python",
   "nbconvert_exporter": "python",
   "pygments_lexer": "ipython3",
   "version": "3.10.4"
  }
 },
 "nbformat": 4,
 "nbformat_minor": 5
}