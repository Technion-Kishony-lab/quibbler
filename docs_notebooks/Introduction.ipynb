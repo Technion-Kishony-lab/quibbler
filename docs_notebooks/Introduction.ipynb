{
 "cells": [
  {
   "cell_type": "markdown",
   "id": "dd5f1390",
   "metadata": {},
   "source": [
    "# Introduction to Quibbler\n",
    "\n",
    "Below is a quick tutorial of *Quibbler* for *Python* (`pyquibbler`). The tutorial briefly shows some of the basic functionalities and concepts of *Quibbler*, while providing links to more comprehensive descriptions on each topic.\n",
    "\n",
    "For a demo-style getting-started, please consult the minimal-app [[Quickstart]], or the [[Examples]]."
   ]
  },
  {
   "cell_type": "markdown",
   "id": "b55a0b1e",
   "metadata": {},
   "source": [
    "## Setting up"
   ]
  },
  {
   "cell_type": "markdown",
   "id": "1acf8337",
   "metadata": {},
   "source": [
    "### Install\n",
    "\n",
    "To install *Quibbler* use:\n",
    "\n",
    "`pip install pyquibbler`"
   ]
  },
  {
   "cell_type": "markdown",
   "id": "6ec30e18",
   "metadata": {},
   "source": [
    "### Import\n",
    "\n",
    "`pyquibbler` is customarily imported as `qb`. In addition, it is convenient to directly import some often used functions such as `iquib` and `quiby` (which will be explained below). Following import, we need to execute `qb.override_all()` which configure *NumPy* and *Matplotlib* functions to work with *Quibbler*. Imports of *NumPy* and *Matplotlib*, if needed, should follow the execution of `qb.override_all()`. A typical import therefore looks like:"
   ]
  },
  {
   "cell_type": "code",
   "execution_count": 57,
   "id": "4d8a2407",
   "metadata": {},
   "outputs": [],
   "source": [
    "# importing and initializing pyquibbler:\n",
    "import pyquibbler as qb\n",
    "from pyquibbler import iquib, quiby\n",
    "qb.override_all()\n",
    "\n",
    "# any other imports:\n",
    "import matplotlib.pyplot as plt\n",
    "import numpy as np"
   ]
  },
  {
   "cell_type": "markdown",
   "id": "12e51587",
   "metadata": {},
   "source": [
    "### Graphics backend\n",
    "\n",
    "`pyquibbler` works well with `tk` and `widget`.\n",
    "\n",
    "If you are using *Jupiter Notebook*, use for example:"
   ]
  },
  {
   "cell_type": "code",
   "execution_count": 58,
   "id": "297320d4",
   "metadata": {},
   "outputs": [],
   "source": [
    "%matplotlib tk"
   ]
  },
  {
   "cell_type": "markdown",
   "id": "16a36ded",
   "metadata": {},
   "source": [
    "## The quib object\n",
    "\n",
    "A `Quib` is an object that represents an output *value* as well as the *function* and *arguments* used to calculate this value.  There are two major types of quibs: *input-quibs* (i-quibs) which take any *Python* object as their argument and present it as their value (their function is trivially the identity function), and *function-quibs* (f-quibs) that produce their output value by applying a given function to a given list of arguments, which could be i-quibs, other f-quibs and any other *Python* objects. "
   ]
  },
  {
   "cell_type": "markdown",
   "id": "640af06c",
   "metadata": {},
   "source": [
    "### Input quib (i-quib)\n",
    "\n",
    "Any *Python* object can be transformed into an i-quib using the `iquib` command. For example:"
   ]
  },
  {
   "cell_type": "code",
   "execution_count": 59,
   "id": "b0bb915e",
   "metadata": {},
   "outputs": [
    {
     "data": {
      "text/plain": [
       "my_lucky_number = iquib(7)"
      ]
     },
     "execution_count": 59,
     "metadata": {},
     "output_type": "execute_result"
    }
   ],
   "source": [
    "my_lucky_number = iquib(7)\n",
    "my_lucky_number"
   ]
  },
  {
   "cell_type": "markdown",
   "id": "dc6dfb9e",
   "metadata": {},
   "source": [
    "Note that the string representation of a quib shows its *name* (in this case ‘my_lucky_number’; see :py:attr:`~pyquibbler.Quib.name` property) and its *function* and *arguments* (in this case, ‘iquib(7)’; See :py:attr:`~pyquibbler.Quib.func`, :py:attr:`~pyquibbler.Quib.args`, :py:attr:`~pyquibbler.Quib.kwargs` properties)."
   ]
  },
  {
   "cell_type": "markdown",
   "id": "3fd567f4",
   "metadata": {},
   "source": [
    "#### Getting the quib's value using get_value()\n",
    "To get the output *value* of the quib, we use the [[Quib.get_value]] method:"
   ]
  },
  {
   "cell_type": "code",
   "execution_count": 60,
   "id": "4e21346a",
   "metadata": {},
   "outputs": [
    {
     "data": {
      "text/plain": [
       "7"
      ]
     },
     "execution_count": 60,
     "metadata": {},
     "output_type": "execute_result"
    }
   ],
   "source": [
    "my_lucky_number.get_value()"
   ]
  },
  {
   "cell_type": "markdown",
   "id": "2b52baa0",
   "metadata": {},
   "source": [
    "#### Input quibs can represent objects of any class\n",
    "Quibs can represent any *Python* object including Numeric, String, List, Tuple, Set, and\n",
    "Dictionary. They can also represent *NumPy* ndarrays, *Matplotlib* Artists as well as essentially any other type of objects.\n",
    "\n",
    "For example:"
   ]
  },
  {
   "cell_type": "code",
   "execution_count": 61,
   "id": "687dd098",
   "metadata": {},
   "outputs": [
    {
     "data": {
      "text/plain": [
       "city_data = iquib({'City': 'Haifa', 'Population': 279247})"
      ]
     },
     "execution_count": 61,
     "metadata": {},
     "output_type": "execute_result"
    }
   ],
   "source": [
    "city_data = iquib({'City': 'Haifa', 'Population': 279247})\n",
    "city_data"
   ]
  },
  {
   "cell_type": "code",
   "execution_count": 62,
   "id": "97280fb2",
   "metadata": {},
   "outputs": [
    {
     "data": {
      "text/plain": [
       "['Hello', 'World']"
      ]
     },
     "execution_count": 62,
     "metadata": {},
     "output_type": "execute_result"
    }
   ],
   "source": [
    "hello_world = iquib(['Hello', 'World'])\n",
    "hello_world.get_value()"
   ]
  },
  {
   "cell_type": "markdown",
   "id": "929e6da2",
   "metadata": {},
   "source": [
    "#### Assigning new values to input quibs\n",
    "\n",
    "Input quibs can be modified by assignments using standard *Python* assignment syntax:"
   ]
  },
  {
   "cell_type": "code",
   "execution_count": 63,
   "id": "21ff5f9b",
   "metadata": {},
   "outputs": [
    {
     "data": {
      "text/plain": [
       "['Hi', 'World']"
      ]
     },
     "execution_count": 63,
     "metadata": {},
     "output_type": "execute_result"
    }
   ],
   "source": [
    "hello_world[0] = 'Hi'\n",
    "hello_world.get_value()"
   ]
  },
  {
   "cell_type": "markdown",
   "id": "f53dc13a",
   "metadata": {},
   "source": [
    "To completely replace the value of a quib, even with objects of a different type, use the `assign()` method:"
   ]
  },
  {
   "cell_type": "code",
   "execution_count": 64,
   "id": "1ea9ca06",
   "metadata": {
    "scrolled": true
   },
   "outputs": [
    {
     "data": {
      "text/plain": [
       "'anything'"
      ]
     },
     "execution_count": 64,
     "metadata": {},
     "output_type": "execute_result"
    }
   ],
   "source": [
    "city_data.assign('anything')\n",
    "city_data.get_value()"
   ]
  },
  {
   "cell_type": "markdown",
   "id": "e793e695",
   "metadata": {},
   "source": [
    "### Function quib (f-quib)\n",
    "\n",
    "#### Applying functions or operators to quib arguments creates a *function-quib* that performs these operations\n",
    "*Quibbler* modifies standard functions and operators such that they can work directly with quib arguments, or with combinations of quibs and other objects, to create a *function quib*, whose function is to perform the indicated operation. Such Quibbler-supported functions, also called _quiby functions_, include many standard *Python*, *NumPy* and *Matplotlib* functions (see [full list[Quiby functions]]). Operators, such as `+`, `-`, `<`, `>`, `**`, `@`, are also quiby, and so are all types of indexing including slicing, field access, and advanced indexing. We can therefore easily define a chained network of functional quibs using standard *Python* syntax."
   ]
  },
  {
   "cell_type": "markdown",
   "id": "bd54f37b",
   "metadata": {},
   "source": [
    "As a simple example, let's start with an input quib `z` representing a numeric *NumPy* array:"
   ]
  },
  {
   "cell_type": "code",
   "execution_count": 65,
   "id": "52f7d342",
   "metadata": {},
   "outputs": [],
   "source": [
    "z = iquib(np.array([2, 1, 2, 3]))"
   ]
  },
  {
   "cell_type": "markdown",
   "id": "641e4585",
   "metadata": {},
   "source": [
    "We can use this quib in standard functions and operations, just like we would use a normal numeric *NumPy* array. For example:"
   ]
  },
  {
   "cell_type": "code",
   "execution_count": 66,
   "id": "f7f31823",
   "metadata": {},
   "outputs": [
    {
     "data": {
      "text/plain": [
       "z_sqr = z ** 2"
      ]
     },
     "execution_count": 66,
     "metadata": {},
     "output_type": "execute_result"
    }
   ],
   "source": [
    "z_sqr = z ** 2\n",
    "z_sqr"
   ]
  },
  {
   "cell_type": "markdown",
   "id": "eb39bf5d",
   "metadata": {},
   "source": [
    "The statement above created `z_sqr` which is a functional quib whose _function_ is to square the *value* of `z`."
   ]
  },
  {
   "cell_type": "markdown",
   "id": "23a73677",
   "metadata": {},
   "source": [
    "We can similarly continue with additional downstream operations. Say, calculating the average of the elements of `z_sqr`:"
   ]
  },
  {
   "cell_type": "code",
   "execution_count": 67,
   "id": "f3eefb2c",
   "metadata": {},
   "outputs": [
    {
     "data": {
      "text/plain": [
       "mean_z_sqr = average(z_sqr)"
      ]
     },
     "execution_count": 67,
     "metadata": {},
     "output_type": "execute_result"
    }
   ],
   "source": [
    "mean_z_sqr = np.average(z_sqr)\n",
    "mean_z_sqr"
   ]
  },
  {
   "cell_type": "markdown",
   "id": "48f3b5b3",
   "metadata": {},
   "source": [
    "#### Quibs are defined declaratively (lazy evaluation) \n",
    "\n",
    "In general, quib operations are declarative; they define a quib with a specified function and arguments, but do not immediately execute this function. For example, the statement above, `mean_z_zqr = np.average(z_sqr)` creates a new quib whose function is to perform `np.average` on the value of `z_sqr`, but this averaging operation is not yet computed (deferred evaluation). Instead, as shown below, the quib's function is only evaluated when we ask for the value of the quib."
   ]
  },
  {
   "cell_type": "markdown",
   "id": "438a3584",
   "metadata": {},
   "source": [
    "#### Quib functions are only evaluated when their output value is needed\n",
    "\n",
    "To calculate the value of a function-quib, we can use the [[Quib.get_value()]] method:"
   ]
  },
  {
   "cell_type": "code",
   "execution_count": 68,
   "id": "21c28fac",
   "metadata": {},
   "outputs": [
    {
     "data": {
      "text/plain": [
       "4.5"
      ]
     },
     "execution_count": 68,
     "metadata": {},
     "output_type": "execute_result"
    }
   ],
   "source": [
    "mean_z_sqr.get_value() # (2^2 + 1^2 + 2^2 + 3^2) / 4 = 4.5"
   ]
  },
  {
   "cell_type": "markdown",
   "id": "5561133a",
   "metadata": {},
   "source": [
    "The statement above triggers the evaluation of `mean_z_sqr`: performing the function `np.average` on the *value* of `z_sqr`. This operation, in turn, therefore also triggers the evaluation of `z_sqr`, squaring the value of `z`."
   ]
  },
  {
   "cell_type": "markdown",
   "id": "e2afc014",
   "metadata": {},
   "source": [
    "#### f-quibs can cache their calculated value\n",
    "\n",
    "Following calculation of its value, a quib can cache the result to avoid unnecessary future re-calculations. For more about caching, see the [[Quib.cache_mode]] and [[Quib.cache_status]] properties."
   ]
  },
  {
   "cell_type": "markdown",
   "id": "55373055",
   "metadata": {},
   "source": [
    "### Upstream changes automatically propagate to affect downstream results\n",
    "\n",
    "When we make changes to a quib, these changes are automatically propagated to affect the values of downstream dependent quibs (recursively). For example, suppose we change one of the elements of our input quib `z`:"
   ]
  },
  {
   "cell_type": "code",
   "execution_count": 69,
   "id": "5361f44b",
   "metadata": {},
   "outputs": [],
   "source": [
    "z[2] = 0"
   ]
  },
  {
   "cell_type": "markdown",
   "id": "e36bc4a6",
   "metadata": {},
   "source": [
    "When such a change is made, downstream dependent quibs are notified that their cached output is no longer valid (though, no re-calculation is immediately being performed). Then, when we ask for the value of a downstream quib, it will get recalculated to reflect the upstream change:"
   ]
  },
  {
   "cell_type": "code",
   "execution_count": 70,
   "id": "c75ebb4d",
   "metadata": {},
   "outputs": [
    {
     "data": {
      "text/plain": [
       "3.5"
      ]
     },
     "execution_count": 70,
     "metadata": {},
     "output_type": "execute_result"
    }
   ],
   "source": [
    "mean_z_sqr.get_value() # (2^2 + 1^2 + 0^2 + 3^2) / 4 = 3.5"
   ]
  },
  {
   "cell_type": "markdown",
   "id": "f6554aed",
   "metadata": {},
   "source": [
    "### Quib indexing too is interpreted declaratively\n",
    "\n",
    "Similarly to applying functions on quib arguments, indexing a quib also creates an f-quib, whose function is to perform the indexing operation. "
   ]
  },
  {
   "cell_type": "markdown",
   "id": "4a7b6cd4",
   "metadata": {},
   "source": [
    "For example, let's define a function quib that calculates the middle value of each two consecutive elements of an array:"
   ]
  },
  {
   "cell_type": "code",
   "execution_count": 71,
   "id": "857b07d3",
   "metadata": {},
   "outputs": [
    {
     "data": {
      "text/plain": [
       "r_middle = (r[0:-1] + r[1:]) * 0.5"
      ]
     },
     "execution_count": 71,
     "metadata": {},
     "output_type": "execute_result"
    }
   ],
   "source": [
    "r = iquib(np.array([0., 3., 2., 5., 8.]))\n",
    "r_middle = (r[0:-1] + r[1:]) * 0.5\n",
    "r_middle"
   ]
  },
  {
   "cell_type": "code",
   "execution_count": 72,
   "id": "e2005e86",
   "metadata": {},
   "outputs": [
    {
     "data": {
      "text/plain": [
       "array([1.5, 2.5, 3.5, 6.5])"
      ]
     },
     "execution_count": 72,
     "metadata": {},
     "output_type": "execute_result"
    }
   ],
   "source": [
    "r_middle.get_value()"
   ]
  },
  {
   "cell_type": "markdown",
   "id": "23815192",
   "metadata": {},
   "source": [
    "Note that `r_middle` is defined functionally; if its argument change it will get re-evaluated:"
   ]
  },
  {
   "cell_type": "code",
   "execution_count": 73,
   "id": "0941724c",
   "metadata": {},
   "outputs": [
    {
     "data": {
      "text/plain": [
       "array([1.5, 2.5, 3.5, 9. ])"
      ]
     },
     "execution_count": 73,
     "metadata": {},
     "output_type": "execute_result"
    }
   ],
   "source": [
    "r[-1] = 13.\n",
    "r_middle.get_value()"
   ]
  },
  {
   "cell_type": "markdown",
   "id": "39aedb51",
   "metadata": {},
   "source": [
    "### Even functions that are not \"_quiby_\" can be implemented as function-quibs\n",
    "\n",
    "While many *Python*, *NumPy* and *Matplotlib* functions are supported to work directly on quibs (see: [[List-of-quiby-functions]]), some functions are left naitive, not quiby. In addition, any typical user function is generally not quiby. Yet, _any_ function can be readily made quiby using the [[qb.quiby]] function."
   ]
  },
  {
   "cell_type": "markdown",
   "id": "b0cf7a13",
   "metadata": {},
   "source": [
    "For example, if we want to define a quib that implements a string-specific `format()` function (which is a native string method, not a quiby function), we can use:"
   ]
  },
  {
   "cell_type": "code",
   "execution_count": 74,
   "id": "9a75480f-3873-4b96-aabd-77e6d8523d6f",
   "metadata": {},
   "outputs": [
    {
     "data": {
      "text/plain": [
       "'X=2, Y=3'"
      ]
     },
     "execution_count": 74,
     "metadata": {},
     "output_type": "execute_result"
    }
   ],
   "source": [
    "xy = iquib([2, 3])\n",
    "xy_text = quiby('X={}, Y={}'.format)(xy[0], xy[1])\n",
    "xy_text.get_value()"
   ]
  },
  {
   "cell_type": "code",
   "execution_count": 75,
   "id": "534dd7c1",
   "metadata": {},
   "outputs": [
    {
     "data": {
      "text/plain": [
       "'X=2, Y=5'"
      ]
     },
     "execution_count": 75,
     "metadata": {},
     "output_type": "execute_result"
    }
   ],
   "source": [
    "xy[1] = 5\n",
    "xy_text.get_value()"
   ]
  },
  {
   "cell_type": "markdown",
   "id": "8fde0d17",
   "metadata": {},
   "source": [
    "As another example, consider `str`. When applied to quib, `str` returns the string representation of the quib, rather than a new quib that performs `str` on the value of the quib argument:"
   ]
  },
  {
   "cell_type": "code",
   "execution_count": 76,
   "id": "53ecd814",
   "metadata": {},
   "outputs": [
    {
     "data": {
      "text/plain": [
       "'w = iquib(7)'"
      ]
     },
     "execution_count": 76,
     "metadata": {},
     "output_type": "execute_result"
    }
   ],
   "source": [
    "w = iquib(7)\n",
    "str_native = str(w)\n",
    "str_native"
   ]
  },
  {
   "cell_type": "markdown",
   "id": "e0ad8510",
   "metadata": {},
   "source": [
    "If, instead, we want the quiby behavior of `str`, we can use the `quiby` syntax:"
   ]
  },
  {
   "cell_type": "code",
   "execution_count": 77,
   "id": "0001d92a",
   "metadata": {},
   "outputs": [
    {
     "data": {
      "text/plain": [
       "'7'"
      ]
     },
     "execution_count": 77,
     "metadata": {},
     "output_type": "execute_result"
    }
   ],
   "source": [
    "str_quiby = quiby(str)(w)\n",
    "str_quiby.get_value()"
   ]
  },
  {
   "cell_type": "markdown",
   "id": "221d0598",
   "metadata": {},
   "source": [
    "Other common *Python* functions that are not quiby, yet can be implemented using the `quiby`-syntax include: `len`, `int`, `str`. User functions too can be converted to a quiby functions using the `quiby` function (and see also the [[qb.quiby_function]] decorator and the [[qb.q]] syntax)."
   ]
  },
  {
   "cell_type": "markdown",
   "id": "a4f49ac0",
   "metadata": {},
   "source": [
    "### Calculation effeciency\n",
    "\n",
    "As noted above, calculations in *Quibbler* are cached and are only repeated following changes to upstream inputs. Notably though, when upstream changes occur, *Quibbler* does not blindly invalidates all downstream results. Instead, it follows and identifies the specific quibs, and even the specific slices or elements thereof, that must be recalculated, thereby efficiently reducing required calculations. "
   ]
  },
  {
   "cell_type": "markdown",
   "id": "61411821",
   "metadata": {},
   "source": [
    "Consider the following example:"
   ]
  },
  {
   "cell_type": "code",
   "execution_count": 78,
   "id": "214e0553",
   "metadata": {},
   "outputs": [],
   "source": [
    "@quiby\n",
    "def mean(x):\n",
    "    print('Calculating the mean of: ',x)\n",
    "    return np.average(x)"
   ]
  },
  {
   "cell_type": "code",
   "execution_count": 79,
   "id": "7298bb53-c53c-4d61-86e1-fc58c9970bd8",
   "metadata": {},
   "outputs": [],
   "source": [
    "v = iquib(np.array([3, 0, 3, 1, 4, 2]))\n",
    "v_sqr = v ** 2\n",
    "n = quiby(len)(v) // 2\n",
    "mean_v_sqr_left = mean(v_sqr[0:n]) # average of the first 3 elements of v_sqr\n",
    "mean_v_sqr_right = mean(v_sqr[n:]) # average of the last 3 elements of v_sqr"
   ]
  },
  {
   "cell_type": "markdown",
   "id": "bcd3bde0-3bb7-43cd-8848-fa31e323221d",
   "metadata": {},
   "source": [
    "Now that these quibs are declared, asking for their values will trigger a call to the 'mean' function applied to the 3 left and 3 right numbers of v:"
   ]
  },
  {
   "cell_type": "code",
   "execution_count": 80,
   "id": "073f3365-64aa-4738-927f-6e3c5a92bc90",
   "metadata": {},
   "outputs": [
    {
     "name": "stdout",
     "output_type": "stream",
     "text": [
      "Calculating the mean of:  [9 0 9]\n"
     ]
    },
    {
     "data": {
      "text/plain": [
       "6.0"
      ]
     },
     "execution_count": 80,
     "metadata": {},
     "output_type": "execute_result"
    }
   ],
   "source": [
    "mean_v_sqr_left.get_value()"
   ]
  },
  {
   "cell_type": "code",
   "execution_count": 81,
   "id": "cca6062c-d313-490b-9dfb-e1a0ad9d3790",
   "metadata": {},
   "outputs": [
    {
     "name": "stdout",
     "output_type": "stream",
     "text": [
      "Calculating the mean of:  [ 1 16  4]\n"
     ]
    },
    {
     "data": {
      "text/plain": [
       "7.0"
      ]
     },
     "execution_count": 81,
     "metadata": {},
     "output_type": "execute_result"
    }
   ],
   "source": [
    "mean_v_sqr_right.get_value()"
   ]
  },
  {
   "cell_type": "markdown",
   "id": "a90c6b03-3331-4147-8864-218823501908",
   "metadata": {},
   "source": [
    "Say, we now change a given element of the source data v:"
   ]
  },
  {
   "cell_type": "code",
   "execution_count": 82,
   "id": "2dee3e92-1e9c-40a8-a0a8-d51950c4d67c",
   "metadata": {},
   "outputs": [],
   "source": [
    "v[3] = 2"
   ]
  },
  {
   "cell_type": "markdown",
   "id": "640f8484-f794-414e-a52b-8cf9fc618c40",
   "metadata": {},
   "source": [
    "*Quibbler* knows to only invalidate the cache of the specifically affected downstream calculations. The change above affects the values used by `mean_v_sqr_right`, so requesting its value requires re-calculation:"
   ]
  },
  {
   "cell_type": "code",
   "execution_count": 83,
   "id": "1b408881-8688-47f8-bbf0-7ef5038a0d45",
   "metadata": {},
   "outputs": [
    {
     "name": "stdout",
     "output_type": "stream",
     "text": [
      "Calculating the mean of:  [ 4 16  4]\n"
     ]
    },
    {
     "data": {
      "text/plain": [
       "8.0"
      ]
     },
     "execution_count": 83,
     "metadata": {},
     "output_type": "execute_result"
    }
   ],
   "source": [
    "mean_v_sqr_right.get_value()"
   ]
  },
  {
   "cell_type": "markdown",
   "id": "69cf5ac7-aa63-49c9-b23f-2298d7c2dcad",
   "metadata": {},
   "source": [
    "However, this same change in `v[3]` does not affect the value of `mean_v_sqr_left`, and *Quibbler* knows there is no need to reclaculate it:"
   ]
  },
  {
   "cell_type": "code",
   "execution_count": 84,
   "id": "d05359dc-d0ee-48a3-b014-76a0b33341a2",
   "metadata": {},
   "outputs": [
    {
     "data": {
      "text/plain": [
       "6.0"
      ]
     },
     "execution_count": 84,
     "metadata": {},
     "output_type": "execute_result"
    }
   ],
   "source": [
    "mean_v_sqr_left.get_value()"
   ]
  },
  {
   "cell_type": "markdown",
   "id": "2b6f0999",
   "metadata": {},
   "source": [
    "### Matplotlib functions too can work directly on quibs, creating live graphics\n",
    "\n",
    "Graphics *Matplotlib* functions too can work directly with quib arguments, creating *graphics quibs*, which represent \"live\" graphics: graphics that automatically refreshes upon upstream changes. \n",
    "\n",
    "For example:"
   ]
  },
  {
   "cell_type": "code",
   "execution_count": 85,
   "id": "99cbc09f",
   "metadata": {},
   "outputs": [],
   "source": [
    "z = iquib(np.array([1., 2, 2, 3, 1, 4]))\n",
    "z_sqr = z ** 2\n",
    "mean_z_sqr = np.average(z_sqr)"
   ]
  },
  {
   "cell_type": "code",
   "execution_count": 86,
   "id": "a631438e",
   "metadata": {
    "scrolled": true
   },
   "outputs": [],
   "source": [
    "plt.plot(z_sqr, '-o')\n",
    "plt.plot([0, 5], mean_z_sqr + [0, 0], 'k--')\n",
    "plt.text(0, mean_z_sqr + 0.5, quiby('Average = {:.2f}'.format)(mean_z_sqr))\n",
    "plt.ylabel(str(z_sqr));\n",
    "plt.ylim([0, 17]);"
   ]
  },
  {
   "cell_type": "markdown",
   "id": "717c5fc4",
   "metadata": {},
   "source": [
    "[[/images/graphics_refresh.gif]]"
   ]
  },
  {
   "cell_type": "markdown",
   "id": "4a5df65e",
   "metadata": {},
   "source": [
    "Note that unlike regular quibs which evaluate *lazily*, graphics quibs are evaluated *eagerly*, immediately upon creation, and are also recalculated immediately upon upstream changes, thereby enabling the above behavior."
   ]
  },
  {
   "cell_type": "markdown",
   "id": "b983eec9",
   "metadata": {},
   "source": [
    "### Using quibs with graphics functions readily creates interactive GUIs.\n",
    "\n",
    "We have seen that graphics quibs automatically refresh when upstream changes occur. Importantly, and even more powerfully, this data-to-graphics linkage can also be used reversely: changes to the graphics can propagate backwards to affect quib data. Indicating `picker=True` for `plt.plot` allows the user to drag the graphics and such changes in the graphics are inverted to upstream changes in the data (see also separate chapters on [[graphics]] and [[Inverse assignments]])."
   ]
  },
  {
   "cell_type": "markdown",
   "id": "349531c0",
   "metadata": {},
   "source": [
    "For example, let's re-plot the data above, plotting both the input `z` and the function quibs `z_sqr` and `mean_z_sqr` and indicating `picker=True`. As can be seen, the points can now be interactively dragged. Dragging `z` affect downstream results. More so, even `z_sqr` can be dragged with these operations inverted to affect upstream `z` which in turn affects downstream `mean_z_sqr`. "
   ]
  },
  {
   "cell_type": "code",
   "execution_count": 87,
   "id": "548b60f4",
   "metadata": {},
   "outputs": [],
   "source": [
    "plt.figure()\n",
    "plt.subplot(2, 1, 1)\n",
    "plt.plot(z, '-o', picker=True)\n",
    "plt.ylabel('z');\n",
    "plt.ylim([0, 5]);"
   ]
  },
  {
   "cell_type": "code",
   "execution_count": 88,
   "id": "2b0fc832",
   "metadata": {},
   "outputs": [],
   "source": [
    "plt.subplot(2, 1, 2)\n",
    "plt.plot(z_sqr, '-o', picker=True)\n",
    "plt.plot([0, 5], mean_z_sqr + [0, 0],'k--')\n",
    "plt.text(0, mean_z_sqr + 0.5, quiby('Average = {:.2f}'.format)(mean_z_sqr))\n",
    "plt.ylabel(str(z_sqr));\n",
    "plt.ylim([0, 17]);"
   ]
  },
  {
   "cell_type": "markdown",
   "id": "b3c44365",
   "metadata": {},
   "source": [
    "[[/images/graphics_inverse.gif]]"
   ]
  }
 ],
 "metadata": {
  "kernelspec": {
   "display_name": "Python 3 (ipykernel)",
   "language": "python",
   "name": "python3"
  },
  "language_info": {
   "codemirror_mode": {
    "name": "ipython",
    "version": 3
   },
   "file_extension": ".py",
   "mimetype": "text/x-python",
   "name": "python",
   "nbconvert_exporter": "python",
   "pygments_lexer": "ipython3",
   "version": "3.10.4"
  }
 },
 "nbformat": 4,
 "nbformat_minor": 5
}