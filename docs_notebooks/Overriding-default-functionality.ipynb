{
 "cells": [
  {
   "cell_type": "markdown",
   "id": "2024a07d",
   "metadata": {},
   "source": [
    "## Overriding default functionality"
   ]
  },
  {
   "cell_type": "markdown",
   "id": "47a88274",
   "metadata": {
    "tags": []
   },
   "source": [
    "#### Rationale\n",
    "\n",
    "Overriding, or making exceptions, is an inherent inevitability in many data analysis applications. For example, when analyzing many similar data items, we can often devise a processing scheme that works well on most of the data items, yet requires some adjustments for outlier items (say, we may have many images that are each normalized according to some default normalization scheme, but we need to make an exception for few of these images that were taken in different lighting conditions). *Quibbler* allows overriding such default functional behavior in a simple, interactive, yet also transparent and well-documented fashion. Such exceptions are made by *overriding assignments*."
   ]
  },
  {
   "cell_type": "markdown",
   "id": "9d7b54f1",
   "metadata": {},
   "source": [
    "Consider the following simple, where we define a default value to be used for some presumed downstream processing of some *n* data items:"
   ]
  },
  {
   "cell_type": "code",
   "execution_count": 1,
   "id": "5f76265c",
   "metadata": {},
   "outputs": [],
   "source": [
    "# Imports\n",
    "import pyquibbler as qb\n",
    "from pyquibbler import iquib\n",
    "qb.override_all()\n",
    "import numpy as np\n",
    "import matplotlib.pyplot as plt\n",
    "%matplotlib tk"
   ]
  },
  {
   "cell_type": "code",
   "execution_count": 2,
   "id": "88012750",
   "metadata": {},
   "outputs": [],
   "source": [
    "# Number of data items:\n",
    "n = iquib(5)\n",
    "\n",
    "# Define default factor:\n",
    "default_factor = iquib(np.array([7.]))\n",
    "\n",
    "# Define a per-item factor by replicating the default factor:\n",
    "per_item_factor = np.tile(default_factor, n)"
   ]
  },
  {
   "cell_type": "code",
   "execution_count": 3,
   "id": "4269fc8e",
   "metadata": {},
   "outputs": [
    {
     "data": {
      "text/plain": [
       "array([7., 7., 7., 7., 7.])"
      ]
     },
     "execution_count": 3,
     "metadata": {},
     "output_type": "execute_result"
    }
   ],
   "source": [
    "per_item_factor.get_value()"
   ]
  },
  {
   "cell_type": "markdown",
   "id": "b1027bfc",
   "metadata": {},
   "source": [
    "The `per_item_factor` is a function quib, providing a \"default\" value to be used for `n` data items. In this simple example, this per-item default is simply a result of applying the `tile` function to the underlying i-quib `default_factor`. In general, though, such per-item decisions could be a result of other, more complex, functionalities. Yet, as sophisticated as our automatic choice could get, we may still sometime need to make exceptions, *overriding* the default functional behavior. To allow such overriding of the defualt funational values of a given quib, we first need to turn on its `allow_overriding` property:"
   ]
  },
  {
   "cell_type": "code",
   "execution_count": 4,
   "id": "0739f72d",
   "metadata": {},
   "outputs": [],
   "source": [
    "per_item_factor.allow_overriding = True"
   ]
  },
  {
   "cell_type": "markdown",
   "id": "2ab7c4f9",
   "metadata": {},
   "source": [
    "Now, say we want to override the `per_item_factor`, for instance substituting 9 in position 1, we can simply use standard assignment syntax:"
   ]
  },
  {
   "cell_type": "code",
   "execution_count": 5,
   "id": "37fed27e",
   "metadata": {},
   "outputs": [
    {
     "name": "stdout",
     "output_type": "stream",
     "text": [
      "Overriding choices:\n",
      "(1) per_item_factor\n",
      "(2) default_factor\n",
      "\n"
     ]
    },
    {
     "name": "stdin",
     "output_type": "stream",
     "text": [
      "Choose the number of the quib to override \n",
      "(press enter without a choice to cancel):  1\n"
     ]
    },
    {
     "name": "stdout",
     "output_type": "stream",
     "text": [
      "Overriding:  per_item_factor\n"
     ]
    }
   ],
   "source": [
    "per_item_factor[1] = 9"
   ]
  },
  {
   "cell_type": "markdown",
   "id": "0853f696",
   "metadata": {},
   "source": [
    "There are two options for *actualizing* this assignment. First, as we have seen in the chapter on [[Inverse-assignments]], the assignment can inverse-propagate to an upstream i-quib, in our case to be actualized as a chnage to the `default_factor`. Second, since we have now set `per_item_factor.allow_overriding = True` there is also an option to actualize the assignment as an override to the `per_item_factor`. We can programatically specifiy which of these two options to choose by setting the `assigned_quibs` property (expalined below). But, here, we did not specify a choice and *Quibbler* thereby prompt us, asking to choose at which of these two levels to actualize the assignment."
   ]
  },
  {
   "cell_type": "markdown",
   "id": "e59c05f3",
   "metadata": {},
   "source": [
    "Choosing to actualize at the `per_item_factor` (choosing \"1\" in the menu above) will cause an overriding assignment to this function quib:"
   ]
  },
  {
   "cell_type": "code",
   "execution_count": 6,
   "id": "02c0f9d5",
   "metadata": {},
   "outputs": [
    {
     "data": {
      "text/plain": [
       "array([7., 9., 7., 7., 7.])"
      ]
     },
     "execution_count": 6,
     "metadata": {},
     "output_type": "execute_result"
    }
   ],
   "source": [
    "per_item_factor.get_value()"
   ]
  },
  {
   "cell_type": "markdown",
   "id": "3c854cba",
   "metadata": {},
   "source": [
    "[[/images/tile_7_5_override.gif]]"
   ]
  },
  {
   "cell_type": "markdown",
   "id": "3c09a33c",
   "metadata": {},
   "source": [
    "As we see, the quib has been overridden to have a value of 9 at position 1. All other values remain functional: they are the result of the function `tile` applied to `default_factor`. Changing `default_factor` will change the downstream `per_item_factor` in all but the overridden positions:"
   ]
  },
  {
   "cell_type": "code",
   "execution_count": 7,
   "id": "073875bf",
   "metadata": {},
   "outputs": [
    {
     "data": {
      "text/plain": [
       "array([8., 9., 8., 8., 8.])"
      ]
     },
     "execution_count": 7,
     "metadata": {},
     "output_type": "execute_result"
    }
   ],
   "source": [
    "default_factor[0] = 8\n",
    "per_item_factor.get_value()"
   ]
  },
  {
   "cell_type": "markdown",
   "id": "e562838c",
   "metadata": {},
   "source": [
    "The choice we made in the dialog box is recorded in the quib. So further assignments do not require bringing up the dialog box again:"
   ]
  },
  {
   "cell_type": "code",
   "execution_count": 8,
   "id": "88b68575",
   "metadata": {},
   "outputs": [
    {
     "data": {
      "text/plain": [
       "array([8., 9., 8., 7., 8.])"
      ]
     },
     "execution_count": 8,
     "metadata": {},
     "output_type": "execute_result"
    }
   ],
   "source": [
    "per_item_factor[3] = 7\n",
    "per_item_factor.get_value()"
   ]
  },
  {
   "cell_type": "markdown",
   "id": "c48500b8",
   "metadata": {},
   "source": [
    "#### Assignments are actualized as a list of overrides to a quib's 'default' value\n",
    "\n",
    "When we make overriding assignments to a quib, these assignments are actualized as a list of overrides that apply to the quib's 'default' value (the functional value). "
   ]
  },
  {
   "cell_type": "markdown",
   "id": "01c69c17",
   "metadata": {},
   "source": [
    "This override list is accessible through the `get_override_list()` method:"
   ]
  },
  {
   "cell_type": "code",
   "execution_count": 9,
   "id": "c80b7463",
   "metadata": {},
   "outputs": [
    {
     "data": {
      "text/plain": [
       "quib[1] = 9\n",
       "quib[3] = 7"
      ]
     },
     "execution_count": 9,
     "metadata": {},
     "output_type": "execute_result"
    }
   ],
   "source": [
    "per_item_factor.get_override_list()"
   ]
  },
  {
   "cell_type": "markdown",
   "id": "4415c494",
   "metadata": {},
   "source": [
    "In addition, we can check which element positions are overridden, using the `get_override_mask()` method:"
   ]
  },
  {
   "cell_type": "code",
   "execution_count": 10,
   "id": "c95e8758",
   "metadata": {},
   "outputs": [
    {
     "data": {
      "text/plain": [
       "array([False,  True, False,  True, False])"
      ]
     },
     "execution_count": 10,
     "metadata": {},
     "output_type": "execute_result"
    }
   ],
   "source": [
    "per_item_factor.get_override_mask().get_value()"
   ]
  },
  {
   "cell_type": "markdown",
   "id": "7de910a7",
   "metadata": {},
   "source": [
    "#### Graphics-driven overriding assignments\n",
    "\n",
    "Overriding can also be used together with graphics-driven assignments, easily yielding interactive GUIs for default-overriding parameter specification. "
   ]
  },
  {
   "cell_type": "code",
   "execution_count": 11,
   "id": "8cd21473",
   "metadata": {},
   "outputs": [],
   "source": [
    "# Figure setup\n",
    "plt.axis([-0.5, n - 0.5, 0, 10])\n",
    "plt.xticks(np.arange(n))\n",
    "\n",
    "# Plot the default_factor as an horizontal dragganle line\n",
    "plt.plot([-0.5, n - 0.5], default_factor[[0, 0]], 'k', \n",
    "         linewidth=5, picker=True);\n",
    "\n",
    "# Plot the per_item_factor as an bars and as draggable markers\n",
    "x = np.arange(n)\n",
    "plt.bar(x, per_item_factor, color=(0.7, 0.7, 0.7))\n",
    "plt.plot(x, per_item_factor, 's', picker=True);"
   ]
  },
  {
   "cell_type": "markdown",
   "id": "8dd89266",
   "metadata": {},
   "source": [
    "[[/images/overriding_default_by_dragging.gif]]"
   ]
  },
  {
   "cell_type": "markdown",
   "id": "6d66f58e",
   "metadata": {},
   "source": [
    "For more complex, two-level overriding, see [[quibdemo_default_overriding_two_levels]]."
   ]
  },
  {
   "cell_type": "markdown",
   "id": "43dd2468",
   "metadata": {},
   "source": [
    "#### Clearing assignments by assigning the Default value\n",
    "Overriding assignments to a quib can be cleared, thereby restoring the default functionality. Clearing overriding assignments can be done graphically, simply by right-clicking a graphic quib (see in the video above). Alternatively, overriding can be removed programatically using an assigning syntax where the assigned value is the *Quibbler* `default` value:"
   ]
  },
  {
   "cell_type": "code",
   "execution_count": 12,
   "id": "9504cebe-856d-4a1f-8c48-828bc6e687f7",
   "metadata": {},
   "outputs": [
    {
     "data": {
      "text/plain": [
       "array([  8., 101., 102., 103.,   8.])"
      ]
     },
     "execution_count": 12,
     "metadata": {},
     "output_type": "execute_result"
    }
   ],
   "source": [
    "per_item_factor[1:4] = [101, 102, 103]\n",
    "per_item_factor.get_value()"
   ]
  },
  {
   "cell_type": "code",
   "execution_count": 13,
   "id": "fa7e9b41-0d1d-408d-828d-96edf448d182",
   "metadata": {},
   "outputs": [
    {
     "data": {
      "text/plain": [
       "array([  8.,   8.,   8., 103.,   8.])"
      ]
     },
     "execution_count": 13,
     "metadata": {},
     "output_type": "execute_result"
    }
   ],
   "source": [
    "per_item_factor[1:3] = qb.default\n",
    "per_item_factor.get_value()"
   ]
  },
  {
   "cell_type": "markdown",
   "id": "879a112c",
   "metadata": {},
   "source": [
    "All assignments to a quib can be cleared using:"
   ]
  },
  {
   "cell_type": "code",
   "execution_count": 14,
   "id": "b541ca87",
   "metadata": {},
   "outputs": [
    {
     "data": {
      "text/plain": [
       "array([8., 8., 8., 8., 8.])"
      ]
     },
     "execution_count": 14,
     "metadata": {},
     "output_type": "execute_result"
    }
   ],
   "source": [
    "per_item_factor.assign(qb.default)\n",
    "per_item_factor.get_value()"
   ]
  },
  {
   "cell_type": "markdown",
   "id": "d1f24038",
   "metadata": {},
   "source": [
    "#### Out-of-range overriding are ignored\n",
    "\n",
    "When we try to assign out of range, we get an exception. For example,"
   ]
  },
  {
   "cell_type": "code",
   "execution_count": null,
   "id": "2c66f076-334b-48fa-afc1-65ab34d850b6",
   "metadata": {},
   "outputs": [],
   "source": [
    "per_item_factor[10] = 3\n",
    "# yields: IndexError: index 10 is out of bounds for axis 0 with size 5"
   ]
  },
  {
   "cell_type": "markdown",
   "id": "27900571",
   "metadata": {},
   "source": [
    "However, it is also possible that an originally within-range assignment will become out-of-range. For example:"
   ]
  },
  {
   "cell_type": "code",
   "execution_count": 15,
   "id": "a9a0b160",
   "metadata": {},
   "outputs": [
    {
     "data": {
      "text/plain": [
       "array([8., 8., 8., 8., 3.])"
      ]
     },
     "execution_count": 15,
     "metadata": {},
     "output_type": "execute_result"
    }
   ],
   "source": [
    "per_item_factor[4] = 3\n",
    "per_item_factor.get_value()"
   ]
  },
  {
   "cell_type": "markdown",
   "id": "9b18b483",
   "metadata": {},
   "source": [
    "This assignment will become out-of-range if we now change `n`. In such a case, *Quibbler* gives a warning and otherwise ignores the out-of-range assignment:"
   ]
  },
  {
   "cell_type": "code",
   "execution_count": 16,
   "id": "6cf89e0a",
   "metadata": {},
   "outputs": [
    {
     "data": {
      "text/plain": [
       "array([8., 8., 8., 8.])"
      ]
     },
     "execution_count": 16,
     "metadata": {},
     "output_type": "execute_result"
    }
   ],
   "source": [
    "n.assign(4)\n",
    "per_item_factor.get_value()"
   ]
  },
  {
   "cell_type": "markdown",
   "id": "736bc838",
   "metadata": {},
   "source": [
    "#### Overriding is controlled by the 'allow_overriding' and 'assigned_quibs' properties\n",
    "\n",
    "When a _de novo_ assignment is being made to a specific quib (the \"assigned quib\") the assignment can be actualized as overriding of this focal quib, or can [[inverse-propagate|Inverse-assignments]] upstream and actualized as overrides of some higher up quibs (\"inverse-assigned quibs\"). The choice of which quibs should be chosen for actualizing the overriding assignment is controlled by the following two quib properties:"
   ]
  },
  {
   "cell_type": "markdown",
   "id": "35284801",
   "metadata": {},
   "source": [
    "* **allow_overriding.** A boolean property specifying for each quib whether it accepts overriding. By default, i-quibs accept overriding and f-quibs do not. In order to allow overriding of a specific f-quib, we need to explicitly set its `allow_overriding` to `True`.\n",
    "\n",
    "\n",
    "* **assigned_quibs.** Indicates a set of possible upstream quibs into which an assignment to the current quib should be inverse-propagated and actualized:\n",
    "\n",
    "    * `None` (default): If there is only one upstream quib with allow_overriding=True, inverse-assign to it. If multiple options exist, bring up a dialog box to ask the user which quib to inverse-assign to.\n",
    "\n",
    "    * `{}`: Do not allow _de novo_ assignments to this quib. \n",
    "\n",
    "    * `{quibs}`: Set of upstream quibs into which to actualize _de novo_ assignments made to the current quib. If multiple options exist, bring up a dialog box."
   ]
  },
  {
   "cell_type": "markdown",
   "id": "d9a8dfda",
   "metadata": {},
   "source": [
    "In the default settings, where `assigned_quibs=None` and `allow_overriding=True` only for i-quibs, any _de novo_ assignment to an f-quib is inverse-propagated all the way to the respective upstream i-quibs, where it is ultimately actualized. \n",
    "\n",
    "Though, when overriding of specific intermediate f-quibs is enabled (`allow_overriding=True`), multiple options for actualizing a _de novo_ assignment to a downstream quib may be available. The choice among these options is determined by the `assigned_quibs` property of the quib to which the _de novo_ assignment was made.\n",
    "\n",
    "The following diagram depicts such inverse assignment behaviors:\n",
    "[[/images/inverse_assignment_choice.png]]"
   ]
  }
 ],
 "metadata": {
  "kernelspec": {
   "display_name": "Python 3 (ipykernel)",
   "language": "python",
   "name": "python3"
  },
  "language_info": {
   "codemirror_mode": {
    "name": "ipython",
    "version": 3
   },
   "file_extension": ".py",
   "mimetype": "text/x-python",
   "name": "python",
   "nbconvert_exporter": "python",
   "pygments_lexer": "ipython3",
   "version": "3.8.12"
  }
 },
 "nbformat": 4,
 "nbformat_minor": 5
}