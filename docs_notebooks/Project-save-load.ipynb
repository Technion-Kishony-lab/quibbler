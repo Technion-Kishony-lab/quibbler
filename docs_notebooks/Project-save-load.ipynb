{
 "cells": [
  {
   "cell_type": "markdown",
   "id": "ac6ee2bc",
   "metadata": {},
   "source": [
    "## Project save/load"
   ]
  },
  {
   "cell_type": "markdown",
   "id": "89d992ca",
   "metadata": {},
   "source": [
    "## WIP"
   ]
  },
  {
   "cell_type": "markdown",
   "id": "9dbf20ed",
   "metadata": {},
   "source": [
    "*Quibbler* allows saving and loading the value of input quibs as well as overriding, if any, to function quibs.\n",
    "\n",
    "A quib can be bi-directionally connected with a linked input file (LIF), where inputs to the quib are saved. LIFs can be saved in simple text human readable/writable files, providing a transparent record of user defined parameters and changes. The linkage between a quib and its LIF is bidirectional - changes to the inputs of the quib can update the file, and changes to the file can update the quib. \n",
    "\n",
    "There are two types of LIFs:\n",
    "\n",
    "* Array linked input file (arr-LIF): For an i-quib, the linked input file saves the whole array represented by the i-quib.\n",
    "\n",
    "* Overriding linked input file (ovr-LIF): For a functional quib, the linked input file saves the list of any user overrides to the quib."
   ]
  },
  {
   "cell_type": "markdown",
   "id": "a625e5a9",
   "metadata": {},
   "source": [
    "### Import"
   ]
  },
  {
   "cell_type": "code",
   "execution_count": 1,
   "id": "5d7bb894",
   "metadata": {},
   "outputs": [],
   "source": [
    "# Quibbler import:\n",
    "import pyquibbler as qb\n",
    "from pyquibbler import iquib\n",
    "qb.override_all()\n",
    "\n",
    "# Other imports:\n",
    "import numpy as np\n",
    "import matplotlib.pyplot as plt\n",
    "%matplotlib tk"
   ]
  },
  {
   "cell_type": "code",
   "execution_count": 2,
   "id": "d80e6578",
   "metadata": {},
   "outputs": [],
   "source": [
    "xy = iquib(np.array([[250], [250]]))\n",
    "xy2 = xy + 1000"
   ]
  },
  {
   "cell_type": "code",
   "execution_count": 5,
   "id": "c8e0824e",
   "metadata": {},
   "outputs": [
    {
     "data": {
      "text/html": [
       "<a href=\"file:///Users/roykishony/pyquibbler/docs\">docs</a>"
      ],
      "text/plain": [
       "PathWithHyperLink('/Users/roykishony/pyquibbler/docs')"
      ]
     },
     "execution_count": 5,
     "metadata": {},
     "output_type": "execute_result"
    }
   ],
   "source": [
    "# set the project path to the current directory\n",
    "qb.set_project_directory('.')  \n",
    "qb.get_project_directory()"
   ]
  },
  {
   "cell_type": "code",
   "execution_count": 6,
   "id": "8a92d909",
   "metadata": {},
   "outputs": [
    {
     "data": {
      "text/plain": [
       "<SaveFormat.VALUE_TXT: 'value_txt'>"
      ]
     },
     "execution_count": 6,
     "metadata": {},
     "output_type": "execute_result"
    }
   ],
   "source": [
    "qb.get_project().save_format"
   ]
  },
  {
   "cell_type": "code",
   "execution_count": 7,
   "id": "61d6a525",
   "metadata": {},
   "outputs": [],
   "source": [
    "qb.save_quibs()"
   ]
  },
  {
   "cell_type": "code",
   "execution_count": 3,
   "id": "b3941bb3-f497-434e-a6bb-08db14b0bdc5",
   "metadata": {},
   "outputs": [],
   "source": [
    "xy[1,0] = 10"
   ]
  },
  {
   "cell_type": "code",
   "execution_count": 4,
   "id": "e733508b-dbc4-4823-9055-d635ffad7a53",
   "metadata": {},
   "outputs": [
    {
     "data": {
      "text/plain": [
       "array([[250],\n",
       "       [ 10]])"
      ]
     },
     "execution_count": 4,
     "metadata": {},
     "output_type": "execute_result"
    }
   ],
   "source": [
    "xy.get_value()"
   ]
  },
  {
   "cell_type": "code",
   "execution_count": null,
   "id": "b11db3e8-05a5-4980-8896-8457ca9e796c",
   "metadata": {},
   "outputs": [],
   "source": []
  }
 ],
 "metadata": {
  "kernelspec": {
   "display_name": "Python 3 (ipykernel)",
   "language": "python",
   "name": "python3"
  },
  "language_info": {
   "codemirror_mode": {
    "name": "ipython",
    "version": 3
   },
   "file_extension": ".py",
   "mimetype": "text/x-python",
   "name": "python",
   "nbconvert_exporter": "python",
   "pygments_lexer": "ipython3",
   "version": "3.8.8"
  }
 },
 "nbformat": 4,
 "nbformat_minor": 5
}
