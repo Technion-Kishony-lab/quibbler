{
 "cells": [
  {
   "cell_type": "markdown",
   "id": "ac6ee2bc",
   "metadata": {
    "tags": []
   },
   "source": [
    "## Random functions"
   ]
  },
  {
   "cell_type": "markdown",
   "id": "9dbf20ed",
   "metadata": {},
   "source": [
    "Random functions can be implemented in *Quibbler* using *random* quibs. Random quibs are function quibs that call random functions, specified with `is_random` property. Defining a quib running a random function automatically caches its output, so that multiple requests for its value give the same random realization (quenched randomness). Then, to refresh randomization, we invalidate the cached values of these random quibs. Such re-randomization can be done either centrally for all random quibs, or individually for each given random quib. Such invalidation of random quibs will then invalidate any downstream calculations that depend on these random values, causing re-evaluated of the random function upon downstream output request."
   ]
  },
  {
   "cell_type": "markdown",
   "id": "a625e5a9",
   "metadata": {},
   "source": [
    "### Import"
   ]
  },
  {
   "cell_type": "code",
   "execution_count": 1,
   "id": "b26840ea",
   "metadata": {},
   "outputs": [],
   "source": [
    "import pyquibbler as qb\n",
    "from pyquibbler import iquib\n",
    "qb.override_all()\n",
    "import numpy as np"
   ]
  },
  {
   "cell_type": "markdown",
   "id": "3283c9fd",
   "metadata": {},
   "source": [
    "### Quibs calling *NumPy* random functions are automatically defined as random quibs\n",
    "\n",
    "By default, all standard *NumPy* functions that generate random output are automatically implemented as random function quibs. We can therefore define random quibs simply by calling *NumPy* random functions with quib arguments.\n",
    "\n",
    "For example,"
   ]
  },
  {
   "cell_type": "code",
   "execution_count": 2,
   "id": "b8093e7d",
   "metadata": {},
   "outputs": [
    {
     "data": {
      "text/plain": [
       "array([0.24936599, 0.49959145, 0.70940961])"
      ]
     },
     "execution_count": 2,
     "metadata": {},
     "output_type": "execute_result"
    }
   ],
   "source": [
    "n = iquib(3)\n",
    "rand_numbers = np.random.rand(n)\n",
    "rand_numbers.get_value()"
   ]
  },
  {
   "cell_type": "code",
   "execution_count": 3,
   "id": "d530328b-fa8a-4d49-b960-76880c2e813d",
   "metadata": {},
   "outputs": [
    {
     "data": {
      "text/plain": [
       "True"
      ]
     },
     "execution_count": 3,
     "metadata": {},
     "output_type": "execute_result"
    }
   ],
   "source": [
    "rand_numbers.is_random"
   ]
  },
  {
   "cell_type": "markdown",
   "id": "d0bc4b1e",
   "metadata": {},
   "source": [
    "### Random quibs always cache their results\n",
    "\n",
    "Random quibs always cache their results, so repeated calls for their value yields the same randomization:"
   ]
  },
  {
   "cell_type": "code",
   "execution_count": 4,
   "id": "8716fa43",
   "metadata": {},
   "outputs": [
    {
     "data": {
      "text/plain": [
       "array([0.24936599, 0.49959145, 0.70940961])"
      ]
     },
     "execution_count": 4,
     "metadata": {},
     "output_type": "execute_result"
    }
   ],
   "source": [
    "rand_numbers.get_value()"
   ]
  },
  {
   "cell_type": "markdown",
   "id": "81eda6c6",
   "metadata": {},
   "source": [
    "Because the randomization is fixed, mathematical trivialities hold true:"
   ]
  },
  {
   "cell_type": "code",
   "execution_count": 5,
   "id": "c8e0824e",
   "metadata": {},
   "outputs": [
    {
     "data": {
      "text/plain": [
       "0.0"
      ]
     },
     "execution_count": 5,
     "metadata": {},
     "output_type": "execute_result"
    }
   ],
   "source": [
    "rand_numbers_plus_1 = rand_numbers + 1\n",
    "should_equal_zero = np.sum(rand_numbers_plus_1 - rand_numbers) - n\n",
    "should_equal_zero.get_value()"
   ]
  },
  {
   "cell_type": "markdown",
   "id": "84a40c6c",
   "metadata": {},
   "source": [
    "### Refreshing randomization"
   ]
  },
  {
   "cell_type": "markdown",
   "id": "6266fe0c",
   "metadata": {},
   "source": [
    "The cache of the random quibs can be invalidated either centrally for all random quibs, or individually for a given specific random quib. Upon invalidation, all downstream dependent quibs are also invalidated. Requesting the value of such downstream calculations will then lead to recalculation of the random function (re-randomization)."
   ]
  },
  {
   "cell_type": "markdown",
   "id": "dab14b33",
   "metadata": {},
   "source": [
    "**Central re-randomization of all random quibs.** To simply refresh randomization of all the random quibs in an entire analysis pipeline, we use the `reset_random_quibs` function. All downstream results are also invalidated and upon request for their value, new randomization will be calculated:"
   ]
  },
  {
   "cell_type": "code",
   "execution_count": 6,
   "id": "42564f22",
   "metadata": {},
   "outputs": [
    {
     "data": {
      "text/plain": [
       "array([1.24936599, 1.49959145, 1.70940961])"
      ]
     },
     "execution_count": 6,
     "metadata": {},
     "output_type": "execute_result"
    }
   ],
   "source": [
    "rand_numbers_plus_1.get_value()"
   ]
  },
  {
   "cell_type": "code",
   "execution_count": 7,
   "id": "853c24f6",
   "metadata": {},
   "outputs": [
    {
     "data": {
      "text/plain": [
       "array([1.76673854, 1.29385858, 1.72750647])"
      ]
     },
     "execution_count": 7,
     "metadata": {},
     "output_type": "execute_result"
    }
   ],
   "source": [
    "qb.reset_random_quibs()\n",
    "rand_numbers_plus_1.get_value()"
   ]
  },
  {
   "cell_type": "markdown",
   "id": "a9c3de97",
   "metadata": {},
   "source": [
    "**Quib-specific re-randomization.** To specifically refresh the randomization of a given chosen random quib, we can invalidate its cache using the `invalidate` method. Any function quibs downstream of this specific quib will thereby also invalidate. Request the value of such downstream results will lead to new randomization:"
   ]
  },
  {
   "cell_type": "code",
   "execution_count": 8,
   "id": "2ff8bd82",
   "metadata": {},
   "outputs": [
    {
     "data": {
      "text/plain": [
       "array([1.44229483, 1.94557109, 1.37758801])"
      ]
     },
     "execution_count": 8,
     "metadata": {},
     "output_type": "execute_result"
    }
   ],
   "source": [
    "rand_numbers.invalidate()\n",
    "rand_numbers_plus_1.get_value()"
   ]
  },
  {
   "cell_type": "markdown",
   "id": "fc4350db-608a-4d82-ae21-1a982ae9d936",
   "metadata": {},
   "source": [
    "### User-defined randmon functions\n",
    "\n",
    "To implement quibs that call user defined random functions, we can set the `is_random` property of the function to `True`, when converting it to a quiby function using the [[qb.quiby_function]] decorator:"
   ]
  },
  {
   "cell_type": "code",
   "execution_count": 9,
   "id": "f38767ab-5588-49ac-9128-a07591452261",
   "metadata": {},
   "outputs": [
    {
     "data": {
      "text/plain": [
       "13"
      ]
     },
     "execution_count": 9,
     "metadata": {},
     "output_type": "execute_result"
    }
   ],
   "source": [
    "@qb.quiby_function(is_random=True)\n",
    "def sum_of_dice(n: int):\n",
    "    return np.sum(np.random.randint(1, 7, n))\n",
    "\n",
    "num_dice = iquib(4)\n",
    "sum_dice = sum_of_dice(n)\n",
    "sum_dice.get_value()"
   ]
  },
  {
   "cell_type": "code",
   "execution_count": 10,
   "id": "d12dc65a-2d46-44bd-8b46-b9b89350d89b",
   "metadata": {},
   "outputs": [
    {
     "data": {
      "text/plain": [
       "13"
      ]
     },
     "execution_count": 10,
     "metadata": {},
     "output_type": "execute_result"
    }
   ],
   "source": [
    "sum_dice.get_value()"
   ]
  },
  {
   "cell_type": "code",
   "execution_count": 11,
   "id": "b1ac4021-5d38-4902-8f66-d6a18e1b4b61",
   "metadata": {},
   "outputs": [
    {
     "data": {
      "text/plain": [
       "11"
      ]
     },
     "execution_count": 11,
     "metadata": {},
     "output_type": "execute_result"
    }
   ],
   "source": [
    "qb.reset_random_quibs()\n",
    "sum_dice.get_value()"
   ]
  },
  {
   "cell_type": "markdown",
   "id": "17403636-5935-4f19-ba66-53ebb6fb0d23",
   "metadata": {},
   "source": [
    "### Examples\n",
    "\n",
    "For an example of an *Quibbler* app with random quibs, see:\n",
    "\n",
    "* [[quibdemo_fft]] \n",
    "* [[quibdemo_random_quibs_dice]]"
   ]
  }
 ],
 "metadata": {
  "kernelspec": {
   "display_name": "Python 3 (ipykernel)",
   "language": "python",
   "name": "python3"
  },
  "language_info": {
   "codemirror_mode": {
    "name": "ipython",
    "version": 3
   },
   "file_extension": ".py",
   "mimetype": "text/x-python",
   "name": "python",
   "nbconvert_exporter": "python",
   "pygments_lexer": "ipython3",
   "version": "3.10.4"
  }
 },
 "nbformat": 4,
 "nbformat_minor": 5
}