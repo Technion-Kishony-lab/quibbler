{
 "cells": [
  {
   "cell_type": "markdown",
   "id": "22be7228-6822-41c8-8f88-ee1a7d9e8852",
   "metadata": {},
   "source": [
    "## User-defined functions"
   ]
  },
  {
   "cell_type": "markdown",
   "id": "8042b888-5761-4099-b761-55d179bb16da",
   "metadata": {
    "pycharm": {
     "name": "#%% md\n"
    }
   },
   "source": [
    "While many *Python*, *NumPy* and *Matplotlib* functions are pre-programmed to work directly with quib arguments (see [[List-of-quiby-functions]]), occasionally we need to create quibs that implement other, currently non-quiby functions, either functions of external packages, or user-defined function.\n",
    "\n",
    "*Quibbler* allows several ways for creating quibs that represent any arbitrary function. Below we explain and demonstrate these different ways of implementating user-defined functions. "
   ]
  },
  {
   "cell_type": "markdown",
   "id": "915f4f16-662d-4882-b08e-31cbf261d5fb",
   "metadata": {},
   "source": [
    "#### Import"
   ]
  },
  {
   "cell_type": "code",
   "execution_count": 1,
   "id": "4ce00a52-99b3-4be8-bd6f-7aa88be26482",
   "metadata": {},
   "outputs": [],
   "source": [
    "import pyquibbler as qb\n",
    "from pyquibbler import q, quiby, quiby_function, iquib, Quib\n",
    "qb.override_all()\n",
    "import numpy as np\n",
    "import matplotlib.pyplot as plt\n",
    "import matplotlib.widgets as widgets\n",
    "%matplotlib tk"
   ]
  },
  {
   "cell_type": "markdown",
   "id": "558f7c41-319e-49a9-9887-dedea3e490c0",
   "metadata": {},
   "source": [
    "#### An example function \n",
    "\n",
    "We consider as an example the following user-defined function that\n",
    "we want to implement as a quib, with quib arguments:"
   ]
  },
  {
   "cell_type": "code",
   "execution_count": 2,
   "id": "c442b3a0-1e75-41e2-84c2-3dbbd3ab39f8",
   "metadata": {},
   "outputs": [],
   "source": [
    "def add(a, b):\n",
    "    print(f'function add called with {a}, {b}')\n",
    "    return a + b"
   ]
  },
  {
   "cell_type": "markdown",
   "id": "3f99af32-b534-4b89-b537-d5236b807bab",
   "metadata": {},
   "source": [
    "Our task is to implement this function on the value of two quibs:"
   ]
  },
  {
   "cell_type": "code",
   "execution_count": 3,
   "id": "aad7fbde-19a3-46a4-a7ba-28fe9a7b36f6",
   "metadata": {},
   "outputs": [],
   "source": [
    "x = iquib(np.array([1, 2, 3]))\n",
    "y = iquib(100)"
   ]
  },
  {
   "cell_type": "markdown",
   "id": "3f3269c7-d978-46fa-bd52-975474c9ae8b",
   "metadata": {
    "pycharm": {
     "name": "#%% md\n"
    }
   },
   "source": [
    "### The q-syntax\n",
    "\n",
    "The *Quibbler* function [[qb.q]] creates a function quib representing any given function call. The syntax `q(func, *args, **kwargs)` returns a quib that implement `func(*args, **kwargs)`.\n",
    "\n",
    "For the example function above, we will implement:"
   ]
  },
  {
   "cell_type": "code",
   "execution_count": 4,
   "id": "555c3d86-2bb7-4b21-82fe-41bcc503976e",
   "metadata": {
    "pycharm": {
     "name": "#%% md\n"
    }
   },
   "outputs": [],
   "source": [
    "w1 = q(add, x, y)"
   ]
  },
  {
   "cell_type": "code",
   "execution_count": 5,
   "id": "69539a8b-1185-4d0f-9ea8-912a3cf3f741",
   "metadata": {},
   "outputs": [
    {
     "name": "stdout",
     "output_type": "stream",
     "text": [
      "function add called with [1 2 3], 100\n"
     ]
    },
    {
     "data": {
      "text/plain": [
       "array([101, 102, 103])"
      ]
     },
     "execution_count": 5,
     "metadata": {},
     "output_type": "execute_result"
    }
   ],
   "source": [
    "w1.get_value()"
   ]
  },
  {
   "cell_type": "markdown",
   "id": "2feb3900-273b-44aa-8624-f9745f92af38",
   "metadata": {},
   "source": [
    "### The quiby syntax\n",
    "\n",
    "The *Quibbler* function [[qb.quiby]] converts any function to a quiby function - namely to a function that can work directly on quib arguments to create a quib.\n",
    "\n",
    "For the example function above, we will implement:"
   ]
  },
  {
   "cell_type": "code",
   "execution_count": 6,
   "id": "4021b43b-b2d7-456d-9ac0-b8d040724426",
   "metadata": {},
   "outputs": [],
   "source": [
    "w2 = quiby(add)(x, y)"
   ]
  },
  {
   "cell_type": "code",
   "execution_count": 7,
   "id": "be2863e8-30df-48cd-88d2-ca8589e62a86",
   "metadata": {},
   "outputs": [
    {
     "name": "stdout",
     "output_type": "stream",
     "text": [
      "function add called with [1 2 3], 100\n"
     ]
    },
    {
     "data": {
      "text/plain": [
       "array([101, 102, 103])"
      ]
     },
     "execution_count": 7,
     "metadata": {},
     "output_type": "execute_result"
    }
   ],
   "source": [
    "w2.get_value()"
   ]
  },
  {
   "cell_type": "markdown",
   "id": "7b10d4a0-5b76-4926-8808-a7b86345b544",
   "metadata": {},
   "source": [
    "The advatage of `quiby` is that it also allows specifying properties of the quiby function, including `lazy`, `pass_quibs`, `is_random`, `is_graphics`, `is_file_loading`. See documentation of [[qb.quiby]]).\n",
    "\n",
    "`quiby` can also be used as a decorator, or to more easily specify function properties with a decorator, use the [[qb.quiby_function]] decorator. "
   ]
  },
  {
   "cell_type": "markdown",
   "id": "03f5edcb-8e02-49d7-9c4a-27d06660f88e",
   "metadata": {},
   "source": [
    "### The quiby_function decorator\n",
    "\n",
    "The *Quibbler* decorator [[qb.quiby_function]] converts any function to a quiby function, while allowing easy way to specify function propeties.\n",
    "\n",
    "For the example function above, we will implement:"
   ]
  },
  {
   "cell_type": "code",
   "execution_count": 8,
   "id": "639e76a0-730b-410b-8488-9b82e079d1df",
   "metadata": {},
   "outputs": [],
   "source": [
    "@quiby_function(is_graphics=False)\n",
    "def add(a, b):\n",
    "    print(f'function add called with {a}, {b}')\n",
    "    return a + b"
   ]
  },
  {
   "cell_type": "code",
   "execution_count": 9,
   "id": "b7307d56-57b7-4d07-890b-ebc43ca6182a",
   "metadata": {},
   "outputs": [],
   "source": [
    "w3 = add(x, y)"
   ]
  },
  {
   "cell_type": "code",
   "execution_count": 10,
   "id": "84364ad9-f5eb-4f80-8e22-e5bf0d953cd2",
   "metadata": {},
   "outputs": [
    {
     "name": "stdout",
     "output_type": "stream",
     "text": [
      "function add called with [1 2 3], 100\n"
     ]
    },
    {
     "data": {
      "text/plain": [
       "array([101, 102, 103])"
      ]
     },
     "execution_count": 10,
     "metadata": {},
     "output_type": "execute_result"
    }
   ],
   "source": [
    "w3.get_value()"
   ]
  },
  {
   "cell_type": "markdown",
   "id": "2a6f9b98-7cf5-4247-bf9a-992921b19130",
   "metadata": {},
   "source": [
    "### The pass_quibs property\n",
    "\n",
    "Normally, as above, a quib calls its function with any quibs in its arguments replaced by their values. Sometimes, we may want to send the quib objects themselves to the implemented function. Transferring quibs to the function is controlled by the [[Quib.pass_quibs]] property. \n",
    "\n",
    "Passing quibs as arguments is particularly warranted if we wish to implement inverse assignments from graphics created within the function into upstream quibs outside the function."
   ]
  },
  {
   "cell_type": "markdown",
   "id": "4e9f9f24-7889-4720-83c9-478beef5b585",
   "metadata": {},
   "source": [
    "The following example demonstrates such use of `pass_quibs=True` functions. \n",
    "Setting `pass_quibs=True`, the user defined function will see actual quib arguments. Thereby, graphics built by the function can inverse assign to upstream quibs outside the function. Note that, as demonstrated, the function can also execute `get_value` on its quib arguments. "
   ]
  },
  {
   "cell_type": "code",
   "execution_count": 15,
   "id": "5a3e6d59-12cc-4041-b064-c50ff356a537",
   "metadata": {},
   "outputs": [],
   "source": [
    "# Define axes:\n",
    "fig = plt.figure(figsize=(4, 5))\n",
    "axs = fig.gca()\n",
    "axs.axis('equal')\n",
    "axs.axis('square')\n",
    "axs.axis([0.5, 5.5, 0.5, 5.5])\n",
    "\n",
    "# Define a function that can make two alternative plots of the data.\n",
    "@quiby_function(is_graphics=True, pass_quibs=True)\n",
    "def plot_draggable_points(y: Quib, transpose: Quib):\n",
    "    x = range(1, len(y.get_value()) + 1)\n",
    "    if transpose:\n",
    "        axs.plot(y, x, marker='o', picker=True)\n",
    "    else:\n",
    "        axs.plot(x, y, marker='o', picker=True)\n",
    "        \n",
    "y = iquib([1., 3., 4., 2., 1.])\n",
    "is_transpose = iquib(False)\n",
    "\n",
    "plot_draggable_points(y, is_transpose)\n",
    "\n",
    "axs_widget = fig.add_axes([0.2, 0.02, 0.4, 0.16])\n",
    "axs_widget.axis('off')\n",
    "widgets.CheckButtons(ax=axs_widget, labels=['Transpose'], actives=[is_transpose]);"
   ]
  },
  {
   "cell_type": "markdown",
   "id": "d21b6071-106e-41da-9c11-39e4a7e20970",
   "metadata": {},
   "source": [
    "[[images/User-defined-functions-pass-quibs.gif]]"
   ]
  }
 ],
 "metadata": {
  "kernelspec": {
   "display_name": "Python 3 (ipykernel)",
   "language": "python",
   "name": "python3"
  },
  "language_info": {
   "codemirror_mode": {
    "name": "ipython",
    "version": 3
   },
   "file_extension": ".py",
   "mimetype": "text/x-python",
   "name": "python",
   "nbconvert_exporter": "python",
   "pygments_lexer": "ipython3",
   "version": "3.10.4"
  }
 },
 "nbformat": 4,
 "nbformat_minor": 5
}
