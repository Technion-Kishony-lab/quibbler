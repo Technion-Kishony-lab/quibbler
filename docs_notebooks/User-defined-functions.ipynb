{
 "cells": [
  {
   "cell_type": "markdown",
   "id": "22be7228-6822-41c8-8f88-ee1a7d9e8852",
   "metadata": {},
   "source": [
    "## User-defined-functions\n",
    "\n"
   ]
  },
  {
   "cell_type": "markdown",
   "id": "50bc7b1c-5769-4180-8670-f9e569e649a6",
   "metadata": {
    "pycharm": {
     "name": "#%% md\n"
    }
   },
   "source": [
    "WIP"
   ]
  }
 ],
 "metadata": {
  "kernelspec": {
   "display_name": "Python 3 (ipykernel)",
   "language": "python",
   "name": "python3"
  },
  "language_info": {
   "codemirror_mode": {
    "name": "ipython",
    "version": 3
   },
   "file_extension": ".py",
   "mimetype": "text/x-python",
   "name": "python",
   "nbconvert_exporter": "python",
   "pygments_lexer": "ipython3",
   "version": "3.10.4"
  }
 },
 "nbformat": 4,
 "nbformat_minor": 5
}