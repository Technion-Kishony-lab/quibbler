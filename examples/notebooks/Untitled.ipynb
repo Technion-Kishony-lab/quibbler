{
 "cells": [
  {
   "cell_type": "code",
   "execution_count": 3,
   "id": "e150b56e-e5d9-4bfb-8c11-03e52a68af34",
   "metadata": {},
   "outputs": [],
   "source": [
    "import matplotlib.pyplot as plt\n",
    "\n",
    "from matplotlib.widgets import RadioButtons\n",
    "%matplotlib tk\n"
   ]
  },
  {
   "cell_type": "code",
   "execution_count": 61,
   "id": "2d811b0f-69e1-40d5-865b-fa02fb744eff",
   "metadata": {},
   "outputs": [],
   "source": [
    "plt.figure()\n",
    "def pretty_radio_buttons(box, labels):\n",
    "    n = len(labels)\n",
    "    d = 0.05\n",
    "    h = min(d * (n + 1), box[3])\n",
    "    ax = plt.axes([box[0], box[1] + box[3] - h, box[2], h], \n",
    "                   frameon=True ,aspect='equal')\n",
    "    ax.transAxes = ax.transData\n",
    "    #ax.axis('equal')\n",
    "    ax.set_xlim([0, box[2]/h])\n",
    "    ax.set_ylim([0, 1])\n",
    "    #plt.plot([0,10],[0,10])\n",
    "    radios = RadioButtons(ax, labels, activecolor='k')\n",
    "    \n",
    "    #dy = 1. / (len(labels) + 1)\n",
    "    #circle_radius = dy / 2 - 0.01\n",
    "    \n",
    "    for circle in radios.circles:\n",
    "        circle.set_radius(0.5 / (n + 1))\n",
    "    return radios\n",
    "\n",
    "    \n",
    "labels = [str(i) for i in range(10)]\n",
    "\n",
    "r = pretty_radio_buttons([0.1, 0.1, 0.7, 0.7], labels)\n",
    "\n",
    "plt.show()"
   ]
  },
  {
   "cell_type": "code",
   "execution_count": 65,
   "id": "83d23ada-a142-48db-b100-2b27317cfcb4",
   "metadata": {},
   "outputs": [],
   "source": [
    "from mpl_toolkits.axes_grid1 import Divider, Size\n",
    "fig = plt.figure(figsize=(6, 6))\n",
    "\n",
    "# The first items are for padding and the second items are for the axes.\n",
    "# sizes are in inch.\n",
    "h = [Size.Fixed(1.0), Size.Fixed(6.5)]\n",
    "v = [Size.Fixed(0.7), Size.Fixed(5.)]\n",
    "\n",
    "divider = Divider(fig, (0, 0, 1, 1), h, v, aspect=False)\n",
    "# The width and height of the rectangle are ignored.\n",
    "\n",
    "ax = fig.add_axes(divider.get_position(),\n",
    "                  axes_locator=divider.new_locator(nx=1, ny=1))"
   ]
  },
  {
   "cell_type": "code",
   "execution_count": null,
   "id": "70290ed1-7dd4-43bb-8e50-f710447e535a",
   "metadata": {},
   "outputs": [],
   "source": []
  }
 ],
 "metadata": {
  "kernelspec": {
   "display_name": "Python 3 (ipykernel)",
   "language": "python",
   "name": "python3"
  },
  "language_info": {
   "codemirror_mode": {
    "name": "ipython",
    "version": 3
   },
   "file_extension": ".py",
   "mimetype": "text/x-python",
   "name": "python",
   "nbconvert_exporter": "python",
   "pygments_lexer": "ipython3",
   "version": "3.9.7"
  }
 },
 "nbformat": 4,
 "nbformat_minor": 5
}
