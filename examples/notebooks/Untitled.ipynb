{
  "cells": [
    {
      "cell_type": "code",
      "execution_count": 1,
      "id": "ca423b55-5ccb-43a4-bd27-ca34f96c3ccf",
      "metadata": {},
      "outputs": [],
      "source": [
        "from pyquibbler import iquib, override_all, q, set_project_directory, load_quibs, get_project_directory, save_quibs\n",
        "override_all()"
      ]
    },
    {
      "cell_type": "code",
      "execution_count": 2,
      "id": "7ef7e9c0-78af-4589-98c1-685253748761",
      "metadata": {},
      "outputs": [],
      "source": [
        "import numpy as np\n",
        "\n",
        "a = iquib([1, 2, 3])\n",
        "c = iquib([1, 2, 3])"
      ]
    },
    {
      "cell_type": "code",
      "execution_count": null,
      "id": "fb28e4e9-5130-4520-b89c-247a3f4a0622",
      "metadata": {},
      "outputs": [],
      "source": [
        "a[2] = 31"
      ]
    },
    {
      "cell_type": "code",
      "execution_count": null,
      "id": "d625b139-ebf8-4492-8aab-53cc73bef051",
      "metadata": {},
      "outputs": [],
      "source": [
        "\n",
        "a.get_value()"
      ]
    },
    {
      "cell_type": "code",
      "execution_count": null,
      "id": "68070d09-49f2-475c-87e7-fc7282fed5ed",
      "metadata": {},
      "outputs": [],
      "source": [
        "d = iquib([1, 2, 3])"
      ]
    },
    {
      "cell_type": "code",
      "execution_count": null,
      "id": "21e97865-1e6c-49ee-8ca6-7b5b6e31d6ea",
      "metadata": {},
      "outputs": [],
      "source": [
        "a.get_value()"
      ]
    },
    {
      "cell_type": "code",
      "execution_count": null,
      "id": "246f7001-6889-42a3-b3b2-3fde39cf6d96",
      "metadata": {},
      "outputs": [],
      "source": [
        "e = iquib([2, 3, 4])"
      ]
    },
    {
      "cell_type": "code",
      "execution_count": null,
      "id": "25b48731-40d4-4614-8b76-aec8996e6964",
      "metadata": {},
      "outputs": [],
      "source": [
        "print(a.get_value())"
      ]
    },
    {
      "cell_type": "code",
      "execution_count": null,
      "id": "98aa87e2-9eb1-4809-b461-c63ed86b1548",
      "metadata": {},
      "outputs": [],
      "source": [
        "a.save_format = \"bin\"\n",
        "a[0] = object()"
      ]
    },
    {
      "cell_type": "code",
      "execution_count": null,
      "id": "7b4b2277-aaad-45e0-8864-3ae5cead52db",
      "metadata": {},
      "outputs": [],
      "source": [
        "print(2)"
      ]
    },
    {
      "cell_type": "code",
      "execution_count": null,
      "id": "ca92c040-dfae-4ffe-8535-39c6adc57cc0",
      "metadata": {},
      "outputs": [],
      "source": []
    }
  ],
  "metadata": {
    "kernelspec": {
      "display_name": "Python 3 (ipykernel)",
      "language": "python",
      "name": "python3"
    },
    "language_info": {
      "codemirror_mode": {
        "name": "ipython",
        "version": 3
      },
      "file_extension": ".py",
      "mimetype": "text/x-python",
      "name": "python",
      "nbconvert_exporter": "python",
      "pygments_lexer": "ipython3",
      "version": "3.8.11"
    },
    "quibs_archive": "UEsDBBQAAAAIAPNxqFQAAAAAAgAAAAAAAAAFAAAAYy50eHQDAFBLAQIUAxQAAAAIAPNxqFQAAAAAAgAAAAAAAAAFAAAAAAAAAAAAAACkgQAAAABjLnR4dFBLBQYAAAAAAQABADMAAAAlAAAAAAA="
  },
  "nbformat": 4,
  "nbformat_minor": 5
}