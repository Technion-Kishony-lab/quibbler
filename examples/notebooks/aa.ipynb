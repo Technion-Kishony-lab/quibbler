{
 "cells": [
  {
   "cell_type": "code",
   "execution_count": 1,
   "id": "bc75e2b4-432a-4bac-89e7-54defb8173db",
   "metadata": {
    "tags": []
   },
   "outputs": [
    {
     "name": "stdout",
     "output_type": "stream",
     "text": [
      "OK!\n"
     ]
    }
   ],
   "source": [
    "from pyquibbler import override_all\n",
    "override_all()"
   ]
  },
  {
   "cell_type": "code",
   "execution_count": 2,
   "id": "e9ab5fe4-4cfd-4b25-9827-535a97fbca10",
   "metadata": {},
   "outputs": [],
   "source": []
  },
  {
   "cell_type": "code",
   "execution_count": null,
   "id": "7b4015ac-1112-4bf3-8a66-0ee2f6a6d77d",
   "metadata": {},
   "outputs": [],
   "source": []
  }
 ],
 "metadata": {
  "kernelspec": {
   "display_name": "Python 3 (ipykernel)",
   "language": "python",
   "name": "python3"
  },
  "language_info": {
   "codemirror_mode": {
    "name": "ipython",
    "version": 3
   },
   "file_extension": ".py",
   "mimetype": "text/x-python",
   "name": "python",
   "nbconvert_exporter": "python",
   "pygments_lexer": "ipython3",
   "version": "3.8.11"
  }
 },
 "nbformat": 4,
 "nbformat_minor": 5
}
