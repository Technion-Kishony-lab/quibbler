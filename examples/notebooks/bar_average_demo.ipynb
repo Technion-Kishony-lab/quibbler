{
 "cells": [
  {
   "cell_type": "code",
   "execution_count": 1,
   "id": "a9042ad2-c3fb-4234-ab84-396cee1055de",
   "metadata": {},
   "outputs": [],
   "source": [
    "from pyquibbler import iquib, override_all, q\n",
    "import matplotlib.pyplot as plt\n",
    "import numpy as np"
   ]
  },
  {
   "cell_type": "code",
   "execution_count": 2,
   "id": "c5d8809d-6f8c-46c4-983f-1efd0d7c88b9",
   "metadata": {},
   "outputs": [],
   "source": [
    "override_all()"
   ]
  },
  {
   "cell_type": "code",
   "execution_count": 3,
   "id": "47432199-4fc6-48e4-8ba7-a09c6a411714",
   "metadata": {},
   "outputs": [],
   "source": [
    "v = iquib(np.array([5, 3, 1, 2, 4]))\n",
    "vsquared = np.square(v)\n",
    "vmean = np.average(vsquared)"
   ]
  },
  {
   "cell_type": "code",
   "execution_count": 4,
   "id": "8462a8f9-1007-4a11-acda-50dcd5aaa322",
   "metadata": {},
   "outputs": [
    {
     "data": {
      "application/vnd.jupyter.widget-view+json": {
       "model_id": "cc668060e51f4bc8b29a188146980e87",
       "version_major": 2,
       "version_minor": 0
      },
      "text/plain": [
       "Canvas(toolbar=Toolbar(toolitems=[('Home', 'Reset original view', 'home', 'home'), ('Back', 'Back to previous …"
      ]
     },
     "metadata": {},
     "output_type": "display_data"
    },
    {
     "data": {
      "text/plain": [
       "[Text(2.0, 11.0, 'Average is 11.0')]"
      ]
     },
     "execution_count": 4,
     "metadata": {},
     "output_type": "execute_result"
    }
   ],
   "source": [
    "%matplotlib widget\n",
    "\n",
    "x_range = [-0.5, len(vsquared) - 0.5]\n",
    "\n",
    "plt.ylabel(\"v2\")\n",
    "plt.xlim(x_range)\n",
    "\n",
    "plt.bar(range(len(vsquared)), vsquared)\n",
    "plt.plot(x_range, [vmean, vmean], \"k:\")\n",
    "plt.text(np.average(x_range), vmean, q(\"Average is {}\".format, vmean), horizontalalignment=\"center\",  verticalalignment=\"bottom\", fontsize=16)"
   ]
  },
  {
   "cell_type": "code",
   "execution_count": 5,
   "id": "a8c24407-0ed9-48dd-b5f7-ee477758d369",
   "metadata": {},
   "outputs": [],
   "source": [
    "for i in range(20):\n",
    "    v[0] = i"
   ]
  },
  {
   "cell_type": "code",
   "execution_count": null,
   "id": "b8905d2b-6f2b-4cde-ab77-a412da33035c",
   "metadata": {},
   "outputs": [],
   "source": []
  }
 ],
 "metadata": {
  "kernelspec": {
   "display_name": "Python 3 (ipykernel)",
   "language": "python",
   "name": "python3"
  },
  "language_info": {
   "codemirror_mode": {
    "name": "ipython",
    "version": 3
   },
   "file_extension": ".py",
   "mimetype": "text/x-python",
   "name": "python",
   "nbconvert_exporter": "python",
   "pygments_lexer": "ipython3",
   "version": "3.8.2"
  }
 },
 "nbformat": 4,
 "nbformat_minor": 5
}
