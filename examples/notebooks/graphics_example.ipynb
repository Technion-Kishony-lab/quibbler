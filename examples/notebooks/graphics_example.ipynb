{
 "cells": [
  {
   "cell_type": "code",
   "execution_count": 1,
   "id": "372e1e51-7942-4e20-aa32-65433426b854",
   "metadata": {},
   "outputs": [],
   "source": [
    "import contextlib\n",
    "import time\n",
    "\n",
    "from matplotlib.widgets import Button\n",
    "import matplotlib.pyplot as plt\n",
    "\n",
    "from pyquibbler import iquib, override_all"
   ]
  },
  {
   "cell_type": "code",
   "execution_count": 2,
   "id": "f9ba1e77-ec43-4288-ac09-03ebdc429726",
   "metadata": {},
   "outputs": [],
   "source": [
    "override_all()"
   ]
  },
  {
   "cell_type": "code",
   "execution_count": 3,
   "id": "a7591edf-329f-471c-a0b7-5f5ea6b9650e",
   "metadata": {},
   "outputs": [],
   "source": [
    "@contextlib.contextmanager\n",
    "def timer():\n",
    "    print(\"Starting...\")\n",
    "    start = time.time()\n",
    "    yield\n",
    "    print(f\"Took {time.time() - start} to run\")"
   ]
  },
  {
   "cell_type": "code",
   "execution_count": 4,
   "id": "042eb206-7c68-4c63-bd6e-557d37b889ff",
   "metadata": {},
   "outputs": [
    {
     "data": {
      "application/vnd.jupyter.widget-view+json": {
       "model_id": "682d3b6c3bd64aca81d12997aa74e30c",
       "version_major": 2,
       "version_minor": 0
      },
      "text/plain": [
       "Canvas(toolbar=Toolbar(toolitems=[('Home', 'Reset original view', 'home', 'home'), ('Back', 'Back to previous …"
      ]
     },
     "metadata": {},
     "output_type": "display_data"
    },
    {
     "name": "stdout",
     "output_type": "stream",
     "text": [
      "Starting...\n",
      "Took 0.1449742317199707 to run\n"
     ]
    }
   ],
   "source": [
    "%matplotlib widget\n",
    "my_quib = iquib(value=[30, 30, 30])\n",
    "\n",
    "quibbed_plot, = plt.plot(my_quib, linewidth=20)\n",
    "\n",
    "with timer():\n",
    "    plot_b, = plt.plot([30 for _ in range(1_000_000)], color=\"red\")\n"
   ]
  },
  {
   "cell_type": "code",
   "execution_count": 5,
   "id": "fe1987ed-fc89-4f3a-a8b6-492a94d90061",
   "metadata": {},
   "outputs": [
    {
     "data": {
      "text/plain": [
       "0"
      ]
     },
     "execution_count": 5,
     "metadata": {},
     "output_type": "execute_result"
    }
   ],
   "source": [
    "def change_quib(*_, **__):\n",
    "    global elapsed_seconds\n",
    "    start = time.time()\n",
    "    my_quib[2] = 50\n",
    "    elapsed_seconds = time.time() - start\n",
    "    \n",
    "elapsed_seconds = None\n",
    "\n",
    "button_axes = plt.axes([0.81, 0.05, 0.1, 0.075])\n",
    "btn = Button(ax=button_axes, label=\"Run\")\n",
    "btn.on_clicked(change_quib)\n"
   ]
  },
  {
   "cell_type": "code",
   "execution_count": 6,
   "id": "1a26bfec-ca6a-49cb-afbd-9eb148864871",
   "metadata": {},
   "outputs": [
    {
     "data": {
      "text/plain": [
       "0.16097307205200195"
      ]
     },
     "execution_count": 6,
     "metadata": {},
     "output_type": "execute_result"
    }
   ],
   "source": [
    "elapsed_seconds"
   ]
  },
  {
   "cell_type": "code",
   "execution_count": null,
   "id": "8cce39a4-8462-40ad-885d-dea03336118e",
   "metadata": {},
   "outputs": [],
   "source": []
  }
 ],
 "metadata": {
  "kernelspec": {
   "display_name": "Python 3 (ipykernel)",
   "language": "python",
   "name": "python3"
  },
  "language_info": {
   "codemirror_mode": {
    "name": "ipython",
    "version": 3
   },
   "file_extension": ".py",
   "mimetype": "text/x-python",
   "name": "python",
   "nbconvert_exporter": "python",
   "pygments_lexer": "ipython3",
   "version": "3.8.2"
  }
 },
 "nbformat": 4,
 "nbformat_minor": 5
}
