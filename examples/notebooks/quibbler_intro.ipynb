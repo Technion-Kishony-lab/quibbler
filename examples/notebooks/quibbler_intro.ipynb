{
 "cells": [
  {
   "cell_type": "code",
   "execution_count": 31,
   "id": "9ebe2339",
   "metadata": {},
   "outputs": [],
   "source": [
    "from pyquibbler import iquib, override_all, q, CacheBehavior\n",
    "override_all()\n",
    "import matplotlib.pyplot as plt\n",
    "from matplotlib import widgets\n",
    "import numpy as np\n",
    "%matplotlib tk"
   ]
  },
  {
   "cell_type": "code",
   "execution_count": 32,
   "id": "46b63be1",
   "metadata": {},
   "outputs": [],
   "source": [
    "file_name = iquib('covid_fatality.csv') # <-- input\n",
    "\n",
    "fatality_table = np.genfromtxt(file_name, dtype=[(\"Country\", str, 32), (\"ConfirmedCases\", int),\n",
    "                                                            (\"Deaths\", int),  (\"Population\", float)\n",
    "                                                            ], delimiter=',', names=True)"
   ]
  },
  {
   "cell_type": "code",
   "execution_count": 33,
   "id": "7f6a0767",
   "metadata": {},
   "outputs": [
    {
     "data": {
      "text/plain": [
       "<DefaultFunctionQuib - genfromtxt>"
      ]
     },
     "execution_count": 33,
     "metadata": {},
     "output_type": "execute_result"
    }
   ],
   "source": [
    "fatality_table"
   ]
  },
  {
   "cell_type": "code",
   "execution_count": 34,
   "id": "52a7cc02",
   "metadata": {},
   "outputs": [],
   "source": [
    "rate = fatality_table['ConfirmedCases'] / fatality_table['Population'] * 100"
   ]
  },
  {
   "cell_type": "code",
   "execution_count": 35,
   "id": "4791083a",
   "metadata": {},
   "outputs": [],
   "source": [
    "plt.xlabel(\"Confirmed Cases (%)\")\n",
    "plt.ylabel(\"Number of countries\")\n",
    "plt.xlim([0, 20])\n",
    "plt.hist(rate, np.arange(0, 20, 1), facecolor='g', edgecolor='black', linewidth=1.2);"
   ]
  },
  {
   "cell_type": "code",
   "execution_count": 36,
   "id": "49b51956",
   "metadata": {},
   "outputs": [
    {
     "data": {
      "text/plain": [
       "<PlotGraphicsFunctionQuib - plot>"
      ]
     },
     "execution_count": 36,
     "metadata": {},
     "output_type": "execute_result"
    }
   ],
   "source": [
    "threshold = iquib([10,15]) # <-- input\n",
    "thresoldH = thresholds[1]\n",
    "thresoldL = htresholds[0]\n",
    "\n",
    "plt.plot(threshold, 0, markerfacecolor='k', marker='^', markersize=30, picker=True, pickradius=30)"
   ]
  },
  {
   "cell_type": "code",
   "execution_count": 37,
   "id": "9fc7f555",
   "metadata": {},
   "outputs": [],
   "source": [
    "# identify countries above and below the threshold\n",
    "below_threshold = rate < threshold\n",
    "above_threshold = rate >= threshold\n",
    "plt.hist(rate[above_threshold], np.arange(0, 20, 1), facecolor='r', alpha=1, edgecolor='black', linewidth=1.2);"
   ]
  },
  {
   "cell_type": "code",
   "execution_count": 38,
   "id": "a27d8f44",
   "metadata": {},
   "outputs": [],
   "source": [
    "# list countries above threshold\n",
    "plt.text(18, 68, 'High-rate countries', fontsize=14, verticalalignment='top',\n",
    "         horizontalalignment='right', color='r')\n",
    "plt.text(18, 63, q(\"\\n\".join, fatality_table[above_threshold]['Country']), verticalalignment='top',\n",
    "         horizontalalignment='right', color='r');"
   ]
  },
  {
   "cell_type": "code",
   "execution_count": null,
   "id": "538324aa",
   "metadata": {},
   "outputs": [],
   "source": [
    "# plot pie chart\n",
    "below_threshold_sum = np.sum(below_threshold)\n",
    "above_threshold_sum = np.sum(above_threshold)\n",
    "ax = plt.axes([0.3, 0.4, 0.3, 0.3])\n",
    "plt.pie([below_threshold_sum, above_threshold_sum], colors=['g', 'r']);"
   ]
  },
  {
   "cell_type": "code",
   "execution_count": 41,
   "id": "4512d802",
   "metadata": {},
   "outputs": [],
   "source": [
    "a = iquib(np.array([1,2,3]))"
   ]
  },
  {
   "cell_type": "code",
   "execution_count": 43,
   "id": "f55d4dea",
   "metadata": {},
   "outputs": [],
   "source": [
    "b = a + 1"
   ]
  },
  {
   "cell_type": "code",
   "execution_count": 45,
   "id": "6b22cd0b",
   "metadata": {},
   "outputs": [],
   "source": [
    "b[2] = 300"
   ]
  },
  {
   "cell_type": "code",
   "execution_count": 48,
   "id": "9f94783c",
   "metadata": {},
   "outputs": [
    {
     "data": {
      "text/plain": [
       "array([  1,   2, 299])"
      ]
     },
     "execution_count": 48,
     "metadata": {},
     "output_type": "execute_result"
    }
   ],
   "source": [
    "a.get_value()"
   ]
  },
  {
   "cell_type": "markdown",
   "id": "d5b84d83",
   "metadata": {},
   "source": [
    "Three key principles:"
   ]
  },
  {
   "cell_type": "markdown",
   "id": "362b139f",
   "metadata": {},
   "source": [
    "1. **Tracebaility:** \n",
    "\n",
    "operation on quibs is evaluaed defines a new quib whos function is to perform the operation\n",
    "definign a net work"
   ]
  },
  {
   "cell_type": "code",
   "execution_count": 51,
   "id": "b52eb6e6",
   "metadata": {},
   "outputs": [],
   "source": [
    "a = iquib(np.array([1,2,3]))"
   ]
  },
  {
   "cell_type": "code",
   "execution_count": 52,
   "id": "64f4ca36",
   "metadata": {},
   "outputs": [],
   "source": [
    "b = a + 10 # no calculation happen here"
   ]
  },
  {
   "cell_type": "code",
   "execution_count": 56,
   "id": "f3ba9cd3",
   "metadata": {},
   "outputs": [
    {
     "data": {
      "text/plain": [
       "array([11, 12, 13])"
      ]
     },
     "execution_count": 56,
     "metadata": {},
     "output_type": "execute_result"
    }
   ],
   "source": [
    "b.get_value()"
   ]
  },
  {
   "cell_type": "code",
   "execution_count": 61,
   "id": "7bcd6234",
   "metadata": {},
   "outputs": [],
   "source": [
    "c = a * b"
   ]
  },
  {
   "cell_type": "code",
   "execution_count": 63,
   "id": "c2409d29",
   "metadata": {},
   "outputs": [
    {
     "data": {
      "text/plain": [
       "{<InputQuib ([1 2 3])>, <ElementWiseFunctionQuib - add>}"
      ]
     },
     "execution_count": 63,
     "metadata": {},
     "output_type": "execute_result"
    }
   ],
   "source": [
    "c.ancestors"
   ]
  },
  {
   "cell_type": "markdown",
   "id": "6fec08e6",
   "metadata": {},
   "source": [
    "2. Interactivity\n",
    "    * Changing upstream quib changes downstream result\n",
    "\n",
    "    * Changing downstream result perculates to affect upstream quibs\n",
    "\n"
   ]
  }
 ],
 "metadata": {
  "kernelspec": {
   "display_name": "Python 3 (ipykernel)",
   "language": "python",
   "name": "python3"
  },
  "language_info": {
   "codemirror_mode": {
    "name": "ipython",
    "version": 3
   },
   "file_extension": ".py",
   "mimetype": "text/x-python",
   "name": "python",
   "nbconvert_exporter": "python",
   "pygments_lexer": "ipython3",
   "version": "3.8.8"
  }
 },
 "nbformat": 4,
 "nbformat_minor": 5
}
