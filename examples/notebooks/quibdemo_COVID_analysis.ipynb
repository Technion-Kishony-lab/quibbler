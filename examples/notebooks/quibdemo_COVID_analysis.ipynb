{
 "cells": [
  {
   "cell_type": "markdown",
   "id": "491dbbee",
   "metadata": {},
   "source": [
    "## COVID-19 analysis\n",
    "\n",
    "**Analysis of COVID-19 infection rate by country.**\n",
    "\n",
    "* **Features**\n",
    "    * Reading data from external files\n",
    "    * Graphics-driven assignment\n",
    "\n",
    "* **Try me**\n",
    "    * Drag right or left the high-rate threshold (triangle marker)"
   ]
  },
  {
   "cell_type": "code",
   "execution_count": 1,
   "id": "5dc0e2e4",
   "metadata": {},
   "outputs": [],
   "source": [
    "from pyquibbler import iquib, q, override_all\n",
    "override_all()\n",
    "from matplotlib import pyplot as plt\n",
    "import numpy as np\n",
    "%matplotlib tk"
   ]
  },
  {
   "cell_type": "code",
   "execution_count": 2,
   "id": "3c3674c5",
   "metadata": {},
   "outputs": [],
   "source": [
    "# Load data file of COVID statistics per countries\n",
    "file_name = iquib('../data_files/COVID_Fatality.csv')\n",
    "\n",
    "dtype=[(\"Country\", str, 32), (\"ConfirmedCases\", int), (\"Deaths\", int),  (\"Population\", float)]\n",
    "fatality_table = np.genfromtxt(file_name, dtype=dtype, delimiter=',', names=True)"
   ]
  },
  {
   "cell_type": "code",
   "execution_count": 3,
   "id": "91f0fad0",
   "metadata": {},
   "outputs": [],
   "source": [
    "# Figure setup\n",
    "plt.xlabel(\"Confirmed Cases (%)\")\n",
    "plt.ylabel(\"Number of countries\")\n",
    "plt.xlim([0, 20]);"
   ]
  },
  {
   "cell_type": "code",
   "execution_count": 4,
   "id": "1778da2c",
   "metadata": {},
   "outputs": [],
   "source": [
    "# Calculate and plot histogram of infection rate\n",
    "rate = fatality_table['ConfirmedCases'] / fatality_table['Population'] * 100\n",
    "plt.hist(rate, np.arange(0, 20, 1), facecolor='g', edgecolor='black', linewidth=1.2);"
   ]
  },
  {
   "cell_type": "code",
   "execution_count": 5,
   "id": "1c030328",
   "metadata": {},
   "outputs": [],
   "source": [
    "# Define a threshold for high-rate countries\n",
    "threshold = iquib(15)\n",
    "\n",
    "# Identify countries above/below threshold\n",
    "below_threshold = rate < threshold\n",
    "above_threshold = rate >= threshold\n",
    "\n",
    "# Plot histogram of above-threshold countries\n",
    "plt.hist(rate[above_threshold], np.arange(0, 20, 1), facecolor='r', alpha=1, edgecolor='black', linewidth=1.2)\n",
    "\n",
    "# Plot the threshold (using picker=True indicates that it is draggable)\n",
    "plt.plot(threshold, 0, markerfacecolor='k', marker='^', markersize=30, \n",
    "         picker=True, pickradius=30);"
   ]
  },
  {
   "cell_type": "code",
   "execution_count": 6,
   "id": "0221a058",
   "metadata": {},
   "outputs": [],
   "source": [
    "# List countries above the threshold:\n",
    "plt.text(18, 68, 'High-rate countries', fontsize=14, verticalalignment='top',\n",
    "         horizontalalignment='right', color='r')\n",
    "plt.text(18, 63, q(\"\\n\".join, fatality_table[above_threshold]['Country']), verticalalignment='top',\n",
    "         horizontalalignment='right', color='r');"
   ]
  },
  {
   "cell_type": "code",
   "execution_count": null,
   "id": "c1a09447",
   "metadata": {},
   "outputs": [],
   "source": [
    "# Pie chart\n",
    "below_threshold_sum = q(sum, below_threshold)\n",
    "above_threshold_sum = q(sum, above_threshold)\n",
    "ax = plt.axes([0.3, 0.4, 0.3, 0.3])\n",
    "plt.pie([below_threshold_sum, above_threshold_sum], colors=['g', 'r'])\n",
    "\n",
    "plt.show()"
   ]
  },
  {
   "cell_type": "markdown",
   "id": "3422ae78",
   "metadata": {},
   "source": [
    "![example](../recorded_videos/quibdemo_COVID_analysis.gif)"
   ]
  }
 ],
 "metadata": {
  "kernelspec": {
   "display_name": "Python 3 (ipykernel)",
   "language": "python",
   "name": "python3"
  },
  "language_info": {
   "codemirror_mode": {
    "name": "ipython",
    "version": 3
   },
   "file_extension": ".py",
   "mimetype": "text/x-python",
   "name": "python",
   "nbconvert_exporter": "python",
   "pygments_lexer": "ipython3",
   "version": "3.9.7"
  }
 },
 "nbformat": 4,
 "nbformat_minor": 5
}
