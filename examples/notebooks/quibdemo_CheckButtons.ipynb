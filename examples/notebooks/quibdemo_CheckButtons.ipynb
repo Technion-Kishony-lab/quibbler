{
 "cells": [
  {
   "cell_type": "markdown",
   "id": "c4fa19ea",
   "metadata": {},
   "source": [
    "## Quib-linked CheckButtons widget\n",
    "**A demo of interactive quib-linked matplotlib CheckButtons widget.**\n",
    "\n",
    "* **Features:**\n",
    "    * Quib-linked widgets.\n",
    "    * Setting axis attributes to quib values.\n",
    "\n",
    "\n",
    "* **Try me:**\n",
    "    * Try playing with the check-buttons."
   ]
  },
  {
   "cell_type": "code",
   "execution_count": 11,
   "id": "4512d802",
   "metadata": {},
   "outputs": [],
   "source": [
    "from pyquibbler import iquib, override_all, q\n",
    "override_all()\n",
    "import matplotlib.pyplot as plt\n",
    "from matplotlib import widgets\n",
    "%matplotlib tk"
   ]
  },
  {
   "cell_type": "code",
   "execution_count": 12,
   "id": "421f1e72",
   "metadata": {},
   "outputs": [],
   "source": [
    "# Prepare figure, axes\n",
    "plt.figure(figsize=(3,3))\n",
    "axs = plt.gca()"
   ]
  },
  {
   "cell_type": "code",
   "execution_count": 13,
   "id": "04b88704",
   "metadata": {},
   "outputs": [],
   "source": [
    "# Define input quib for colors:\n",
    "colors = iquib([False, True, True])"
   ]
  },
  {
   "cell_type": "code",
   "execution_count": 14,
   "id": "d85e0bd9",
   "metadata": {},
   "outputs": [],
   "source": [
    "# Define a quib-widget\n",
    "# (Interaction with the widget changes the quib)\n",
    "widgets.CheckButtons(ax=axs, labels=['Red','Green','Blue'], actives=colors);"
   ]
  },
  {
   "cell_type": "code",
   "execution_count": 15,
   "id": "5136be8a",
   "metadata": {},
   "outputs": [],
   "source": [
    "# Set the color of the axis to the quib colors\n",
    "axs.set_facecolor(colors);"
   ]
  },
  {
   "cell_type": "markdown",
   "id": "c8702d47",
   "metadata": {},
   "source": [
    "![example](../recorded_videos/quibdemo_CheckButtons.gif)"
   ]
  }
 ],
 "metadata": {
  "kernelspec": {
   "display_name": "Python 3 (ipykernel)",
   "language": "python",
   "name": "python3"
  },
  "language_info": {
   "codemirror_mode": {
    "name": "ipython",
    "version": 3
   },
   "file_extension": ".py",
   "mimetype": "text/x-python",
   "name": "python",
   "nbconvert_exporter": "python",
   "pygments_lexer": "ipython3",
   "version": "3.9.7"
  }
 },
 "nbformat": 4,
 "nbformat_minor": 5
}
