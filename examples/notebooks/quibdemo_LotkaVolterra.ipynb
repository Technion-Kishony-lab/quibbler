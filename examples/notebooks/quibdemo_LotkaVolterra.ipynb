{
 "cells": [
  {
   "cell_type": "markdown",
   "id": "cf9f5f4f",
   "metadata": {},
   "source": [
    "## Build simple GUI for Lotka Volterra by equations\n",
    "\n",
    "**A demo of Lotka-Volterra equation solver. Initial conditions and parameters are set interactively.**\n",
    "\n",
    "* **Features**\n",
    "    * Quib-linked widgets\n",
    "    * Running user defined functions using _q_\n",
    "    * Graphics quibs\n",
    "    * Graphics-driven assignments\n",
    "    * Inverse assignments\n",
    "\n",
    "\n",
    "* **Try me**\n",
    "    * Try dragging up and down the triangle markers to set the initial conditions. \n",
    "    * Try adjusting the sliders to set equation parameters. "
   ]
  },
  {
   "cell_type": "code",
   "execution_count": 1,
   "id": "b0e48cd0",
   "metadata": {
    "scrolled": true
   },
   "outputs": [],
   "source": [
    "from pyquibbler import iquib, override_all, q\n",
    "override_all()\n",
    "import matplotlib.pyplot as plt\n",
    "from matplotlib.widgets import Slider\n",
    "import numpy as np\n",
    "from scipy.integrate import solve_ivp\n",
    "%matplotlib tk"
   ]
  },
  {
   "cell_type": "code",
   "execution_count": 2,
   "id": "f453e8de",
   "metadata": {},
   "outputs": [],
   "source": [
    "def solveLV(x0, pars, tfinal):\n",
    "    a, b, c, d = pars\n",
    "    \n",
    "    def LV(t,v):\n",
    "        # Lotka-Volterra equations:\n",
    "        dv = np.zeros(np.shape(v));\n",
    "        dv[0] =  a * v[0] - b * v[0] * v[1]\n",
    "        dv[1] = -c * v[1] + d * v[0] * v[1]\n",
    "        return dv\n",
    "    \n",
    "    return solve_ivp(LV, [0,tfinal], x0, rtol=1e-6)"
   ]
  },
  {
   "cell_type": "code",
   "execution_count": 3,
   "id": "1b898ded",
   "metadata": {},
   "outputs": [],
   "source": [
    "# Initial condition:\n",
    "X0 = iquib([2,0.5]);\n",
    "\n",
    "# Parameters:\n",
    "abcd = iquib([1., 1., 1., 1.]);\n",
    "\n",
    "# Final time:\n",
    "tf = iquib(40);\n",
    "\n",
    "# Define the ODE solver quib:\n",
    "sol = q(solveLV, X0, abcd, tf)\n",
    "\n",
    "y = sol['y']\n",
    "t = sol['t']\n",
    "\n",
    "# Prepare figure:\n",
    "fig = plt.figure()\n",
    "axs = fig.add_axes([0.15,0.4,0.8,0.5])\n",
    "axs.set_xlim([-2,tf])\n",
    "mx = np.max([4.,np.max(y)])\n",
    "axs.set_ylim([0,mx])\n",
    "axs.set_xlabel('time')\n",
    "axs.set_ylabel('abundance')\n",
    "axs.set_title('Lotka Volterra')\n",
    "\n",
    "# Plot results:\n",
    "h1 = axs.plot(t,y[0,:], 'r', linewidth=1)\n",
    "h2 = axs.plot(t,y[1,:], 'b', linewidth=1)\n",
    "\n",
    "# Plot initial conditions:\n",
    "axs.plot(-1, X0[0], marker='>', markerfacecolor='r', markersize=16, picker=True)\n",
    "axs.plot(-1, X0[1], marker='>', markerfacecolor='b', markersize=16, picker=True)\n",
    "axs.plot([0, 0], [0, mx], 'k-', linewidth=0.5)\n",
    "\n",
    "# Add legend:\n",
    "ttls = iquib(['Rabbits', 'Foxes']);\n",
    "axs.legend(ttls, fontsize=14, loc='upper right')\n",
    "\n",
    "# Set sliders for parameters:\n",
    "params_labels = iquib(['growth', 'killing', 'death', 'preying']);\n",
    "for i in range(4):\n",
    "    slider_axs = fig.add_axes([0.3,0.2-i*0.04,0.5,0.02])\n",
    "    Slider(ax=slider_axs, label=params_labels[i], \n",
    "           valmin=0, valmax=4, valstep=0.1, valinit=abcd[i])"
   ]
  }
 ],
 "metadata": {
  "kernelspec": {
   "display_name": "Python 3 (ipykernel)",
   "language": "python",
   "name": "python3"
  },
  "language_info": {
   "codemirror_mode": {
    "name": "ipython",
    "version": 3
   },
   "file_extension": ".py",
   "mimetype": "text/x-python",
   "name": "python",
   "nbconvert_exporter": "python",
   "pygments_lexer": "ipython3",
   "version": "3.10.4"
  }
 },
 "nbformat": 4,
 "nbformat_minor": 5
}
