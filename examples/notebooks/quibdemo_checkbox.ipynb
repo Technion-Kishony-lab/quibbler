{
 "cells": [
  {
   "cell_type": "markdown",
   "id": "491dbbee",
   "metadata": {},
   "source": [
    "# demo: quib-based checkbox widget\n",
    "**A demo of interactive quib-based matplotlib CheckBox widget.**\n",
    "\n",
    "* **Features**\n",
    "    * Quib-linked widgets\n",
    "    * Setting axis attributes to quibs\n",
    "\n",
    "* **Try me**\n",
    "    * Try playing with the checkboxes\n"
   ]
  },
  {
   "cell_type": "code",
   "execution_count": null,
   "id": "4512d802",
   "metadata": {},
   "outputs": [],
   "source": [
    "from pyquibbler import iquib, override_all, q\n",
    "import matplotlib.pyplot as plt\n",
    "from matplotlib import widgets\n",
    "override_all()\n",
    "%matplotlib tk"
   ]
  },
  {
   "cell_type": "code",
   "execution_count": null,
   "id": "c653907e",
   "metadata": {},
   "outputs": [],
   "source": [
    "plt.figure()\n",
    "axs = plt.gca()\n",
    "act = iquib([False,True,True])\n",
    "widgets.CheckButtons(ax=axs,labels=['Red','Green','Blue'],actives=act)\n",
    "axs.set_facecolor(act);"
   ]
  }
 ],
 "metadata": {
  "kernelspec": {
   "display_name": "Python 3 (ipykernel)",
   "language": "python",
   "name": "python3"
  },
  "language_info": {
   "codemirror_mode": {
    "name": "ipython",
    "version": 3
   },
   "file_extension": ".py",
   "mimetype": "text/x-python",
   "name": "python",
   "nbconvert_exporter": "python",
   "pygments_lexer": "ipython3",
   "version": "3.9.7"
  }
 },
 "nbformat": 4,
 "nbformat_minor": 5
}
