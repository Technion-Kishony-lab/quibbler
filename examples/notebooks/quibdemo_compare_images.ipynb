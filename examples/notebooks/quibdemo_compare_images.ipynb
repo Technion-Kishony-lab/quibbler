{
 "cells": [
  {
   "cell_type": "markdown",
   "id": "3fe5a497",
   "metadata": {},
   "source": [
    "## Compare images\n",
    "**Pairwise image comparison demosntrating diverged analysis.**\n",
    "\n",
    "This analysis cuts _n_ sub-images from a a source image based on user specified Region of Interests (ROIs). Performs all pair-wise comparisons and cluster images based on color similarity. When a single ROI changes (is being dragged), quibbler knows to only make the calculation needed to cut this specific image (see a single reporting of: \"Cutting image\") and re-performs the pairwise comparisons of this image with all others (2 _n_ - 1 recalculations. See reporting of\"Comparing images\"). \n",
    "\n",
    "* **Features**\n",
    "    * Diverged calculations of quib slices\n",
    "    * Calling user function with np.vectorize\n",
    "    * Graphics-driven assignments\n",
    "    * Inverse assignments\n",
    "    * Assignment template\n",
    "\n",
    "\n",
    "* **Try me**\n",
    "    * Drag the cyan diamond marker to choose a squared number.\n",
    "    * Drag the cyan square corner."
   ]
  },
  {
   "cell_type": "code",
   "execution_count": null,
   "id": "3d35ab5e",
   "metadata": {},
   "outputs": [],
   "source": [
    "import numpy as np\n",
    "from functools import partial\n",
    "from matplotlib import pyplot as plt, widgets\n",
    "from mpl_toolkits.axes_grid1 import ImageGrid\n",
    "\n",
    "from pyquibbler import iquib, override_all, q\n",
    "from scipy.sparse.csgraph import connected_components\n",
    "override_all()\n",
    "\n",
    "%matplotlib tk"
   ]
  },
  {
   "cell_type": "code",
   "execution_count": null,
   "id": "6665ec4a",
   "metadata": {},
   "outputs": [],
   "source": [
    "@partial(np.vectorize, signature='(4),()->()', pass_quibs=True, lazy=False)\n",
    "def create_roi(roi, axs):\n",
    "    rectprops = dict(facecolor='k', edgecolor='k', alpha=0.2, fill=True)\n",
    "    widgets.RectangleSelector(axs, extents=roi, rectprops=rectprops)\n",
    "\n",
    "\n",
    "@partial(np.vectorize, signature='(w,h,c),(4)->()',otypes=[object])\n",
    "def cut_image(image, roi):\n",
    "    print(\"Cutting image\")\n",
    "    return image[roi[2]:roi[3], roi[0]:roi[1]]\n",
    "\n",
    "\n",
    "@partial(np.vectorize, otypes=[float])\n",
    "def image_distance(img1, img2):\n",
    "    print(\"Comparing images\")\n",
    "    averages = np.average(img1, axis=(0, 1)) - np.average(img2, axis=(0, 1))\n",
    "    return np.linalg.norm(averages) / np.linalg.norm(np.full(averages.shape, 255))\n",
    "\n",
    "\n",
    "@partial(np.vectorize,  signature='(),(4),()->()', lazy=False, otypes=[type(None)])\n",
    "def plot_roi_label(axs, roi, index):\n",
    "    axs.text(roi[1], roi[2], chr(index+65), fontsize=20)"
   ]
  },
  {
   "cell_type": "code",
   "execution_count": null,
   "id": "05524bcc",
   "metadata": {},
   "outputs": [],
   "source": [
    "@partial(np.vectorize, lazy=False)\n",
    "def show_adjacency(axs, x, y, adjacent):\n",
    "    symbol = 'x' if adjacent else '.'\n",
    "    axs.plot(x, y, symbol, color='r')"
   ]
  },
  {
   "cell_type": "code",
   "execution_count": null,
   "id": "a827bd69",
   "metadata": {},
   "outputs": [],
   "source": [
    "# Read and draw source image\n",
    "file_name = iquib('../data_files/pipes.jpg')\n",
    "image = plt.imread(file_name)\n",
    "\n",
    "plt.figure(1, figsize=[10, 7])\n",
    "plt.imshow(image)\n",
    "ax1 = plt.gca()"
   ]
  },
  {
   "cell_type": "code",
   "execution_count": null,
   "id": "a7eb4a30",
   "metadata": {},
   "outputs": [],
   "source": [
    "images_count = iquib(6)\n",
    "images_count.set_assignment_template(0, 10, 1)\n",
    "\n",
    "roi_default = iquib([[20, 100, 20, 100]])\n",
    "roi_default.allow_overriding = False\n",
    "\n",
    "rois = np.repeat(roi_default, images_count, axis=0)\n",
    "rois.set_assignment_template(0, 1000, 1)\n",
    "rois.allow_overriding = True\n",
    "\n",
    "similiarity_threshold = iquib(np.array([.1]))"
   ]
  },
  {
   "cell_type": "code",
   "execution_count": null,
   "id": "2ee57972",
   "metadata": {},
   "outputs": [],
   "source": [
    "cut_images = cut_image(image, rois)"
   ]
  },
  {
   "cell_type": "code",
   "execution_count": null,
   "id": "951ed0ee",
   "metadata": {},
   "outputs": [],
   "source": []
  },
  {
   "cell_type": "code",
   "execution_count": null,
   "id": "804f77f8",
   "metadata": {},
   "outputs": [],
   "source": [
    "create_roi(rois, ax1)"
   ]
  },
  {
   "cell_type": "code",
   "execution_count": null,
   "id": "cbad8f33",
   "metadata": {},
   "outputs": [],
   "source": [
    "widgets.Slider(\n",
    "    ax=plt.axes([0.25, 0.1, 0.65, 0.03]),\n",
    "    label=q(\"Similiarity threshold {:.1f}\".format, similiarity_threshold[0]),\n",
    "    valmin=0, valmax=1, valstep=.05,\n",
    "    valinit=similiarity_threshold[0])\n",
    "\n",
    "widgets.Slider(\n",
    "    ax=plt.axes([0.25, 0.05, 0.65, 0.03]),\n",
    "    label=q(\"Image count \".format, images_count),\n",
    "    valmin=1, valmax=9, valstep=1,\n",
    "    valinit=images_count);"
   ]
  },
  {
   "cell_type": "code",
   "execution_count": null,
   "id": "7495e47f",
   "metadata": {},
   "outputs": [],
   "source": [
    "# Figure 2 - Plot images\n",
    "fig = plt.figure(2)\n",
    "grid_axes = iquib(ImageGrid(fig, 111, nrows_ncols=(3, 3), axes_pad=0.1))"
   ]
  },
  {
   "cell_type": "code",
   "execution_count": null,
   "id": "e6897452",
   "metadata": {},
   "outputs": [],
   "source": [
    "np.vectorize(lambda ax, im: ax.imshow(im), signature='(),()->()', lazy=False)(\n",
    "    grid_axes[:images_count], cut_images);"
   ]
  },
  {
   "cell_type": "code",
   "execution_count": null,
   "id": "7735e890",
   "metadata": {},
   "outputs": [],
   "source": [
    "# Figure 3 - Compare sub images\n",
    "image_distances = image_distance(np.expand_dims(cut_images, 1), cut_images)\n",
    "adjacents = image_distances < similiarity_threshold"
   ]
  },
  {
   "cell_type": "code",
   "execution_count": null,
   "id": "8ce6d47d",
   "metadata": {},
   "outputs": [],
   "source": [
    "# Plot distance matrix\n",
    "fig = plt.figure(3)\n",
    "fig.clf()\n",
    "axs = fig.add_axes([0.1, 0.15, 0.7, 0.7])\n",
    "axs.imshow(1 - image_distances, cmap='gray', vmin=0, vmax=1)\n",
    "axs.axis([-0.5, images_count - 0.5, -0.5, images_count - 0.5])\n",
    "axs.set_title('pairwise distance between images')\n",
    "axs.set_xlabel('Image number')\n",
    "axs.set_ylabel('Image number')\n",
    "show_adjacency(axs, np.expand_dims(np.arange(images_count), 1), np.arange(images_count), adjacents);\n",
    "\n",
    "# colormap\n",
    "axclr = fig.add_axes([0.85, 0.15, 0.06, 0.7])\n",
    "clrmap = np.linspace(1,0,10).reshape(10,1)\n",
    "axclr.imshow(clrmap, cmap='gray', vmin=0, vmax=1)\n",
    "axclr.plot([-0.5,0.5], similiarity_threshold*10-0.5+np.array([0,0]), '-r', linewidth=4, picker=True)\n",
    "axclr.set_xticks([])\n",
    "axclr.set_yticks([])\n",
    "axclr.set_ylabel('Similarity Threshold')"
   ]
  },
  {
   "cell_type": "code",
   "execution_count": null,
   "id": "2146fe99",
   "metadata": {},
   "outputs": [],
   "source": [
    "# add cluster label\n",
    "rois.get_value()"
   ]
  },
  {
   "cell_type": "code",
   "execution_count": null,
   "id": "2602c16d",
   "metadata": {},
   "outputs": [],
   "source": [
    "c = q(connected_components,adjacents)[1]\n",
    "plot_roi_label(ax1, rois, c)"
   ]
  }
 ],
 "metadata": {
  "kernelspec": {
   "display_name": "Python 3 (ipykernel)",
   "language": "python",
   "name": "python3"
  },
  "language_info": {
   "codemirror_mode": {
    "name": "ipython",
    "version": 3
   },
   "file_extension": ".py",
   "mimetype": "text/x-python",
   "name": "python",
   "nbconvert_exporter": "python",
   "pygments_lexer": "ipython3",
   "version": "3.9.7"
  }
 },
 "nbformat": 4,
 "nbformat_minor": 5
}