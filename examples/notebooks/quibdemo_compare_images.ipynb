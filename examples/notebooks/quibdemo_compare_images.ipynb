{
 "cells": [
  {
   "cell_type": "markdown",
   "id": "3fe5a497",
   "metadata": {},
   "source": [
    "## Compare images\n",
    "\n",
    "**Pairwise image comparison demonstrating diverged analysis.**\n",
    "\n",
    "This analysis cuts _n_ sub-images from a source image based on user specified Region of Interests (ROIs), then performs all pair-wise color-comparisons among these cut images and cluster the images based on color similarity. When a single ROI changes (is being dragged), *Quibbler* knows to only make the calculation needed: cutting this specific image (see a single reporting of: \"Cutting image\") and re-performing the pairwise comparisons of this image with all others (2 _n_ - 1 recalculations. See reporting of \"Comparing images\"). \n",
    "\n",
    "* **Features**\n",
    "    * Diverged calculations of quib slices\n",
    "    * Calling user function with np.vectorize\n",
    "    * Graphics-driven assignments\n",
    "    * Inverse assignments\n",
    "    * Assignment template\n",
    "\n",
    "\n",
    "* **Try me**\n",
    "    * Drag each region of interest to define the cut images. Watch the number of re-calculations being made.\n",
    "    * Change the similarity threshold either with the slider or on the color-scale. \n",
    "    * Add or remove images with the \"Image count\" slider.\n"
   ]
  },
  {
   "cell_type": "code",
   "execution_count": 1,
   "id": "3d35ab5e",
   "metadata": {},
   "outputs": [],
   "source": [
    "# Imports:\n",
    "\n",
    "import pyquibbler as qb\n",
    "from pyquibbler import iquib, q, quiby\n",
    "qb.override_all()\n",
    "\n",
    "import numpy as np\n",
    "from scipy.sparse.csgraph import connected_components\n",
    "from functools import partial\n",
    "from matplotlib import pyplot as plt, widgets\n",
    "from mpl_toolkits.axes_grid1 import ImageGrid\n",
    "\n",
    "%matplotlib tk"
   ]
  },
  {
   "cell_type": "code",
   "execution_count": 2,
   "id": "6665ec4a",
   "metadata": {},
   "outputs": [],
   "source": [
    "# Define vectorized analysis steps:\n",
    "\n",
    "@partial(np.vectorize, signature='(4),()->()', pass_quibs=True, is_graphics=True)\n",
    "def create_roi(roi, axs):\n",
    "    rectprops = dict(facecolor='k', edgecolor='k', alpha=0.2, fill=True)\n",
    "    widgets.RectangleSelector(axs, extents=roi, rectprops=rectprops)\n",
    "\n",
    "\n",
    "@partial(np.vectorize, signature='(w,h,c),(4)->()',otypes=[object])\n",
    "def cut_image(image, roi):\n",
    "    print(\"Cutting image\")\n",
    "    return image[roi[2]:roi[3], roi[0]:roi[1]]\n",
    "\n",
    "\n",
    "@partial(np.vectorize, otypes=[float])\n",
    "def image_distance(img1, img2):\n",
    "    print(\"Comparing images\")\n",
    "    rgd_distance = np.average(img1, axis=(0, 1)) - np.average(img2, axis=(0, 1))\n",
    "    return np.linalg.norm(rgd_distance / 255)\n",
    "\n",
    "\n",
    "@partial(np.vectorize, signature='(),()->()', is_graphics=True)\n",
    "def show_cut_images(ax, img):\n",
    "    ax.imshow(img)\n",
    "\n",
    "\n",
    "@partial(np.vectorize, signature='(),()->()', is_graphics=True)\n",
    "def plot_image_cluster_label(ax, index):\n",
    "    ax.text(0, 0, chr(index+65), fontsize=20, ha='left', va='top')\n"
   ]
  },
  {
   "cell_type": "code",
   "execution_count": 3,
   "id": "05524bcc",
   "metadata": {},
   "outputs": [],
   "source": [
    "@partial(np.vectorize, lazy=False)\n",
    "def show_adjacency(axs, x, y, adjacent):\n",
    "    symbol = 'x' if adjacent else '.'\n",
    "    axs.plot(x, y, symbol, color='r')"
   ]
  },
  {
   "cell_type": "code",
   "execution_count": 4,
   "id": "a827bd69",
   "metadata": {},
   "outputs": [],
   "source": [
    "# Read and draw source image\n",
    "file_name = iquib('../data_files/pipes.jpg')\n",
    "image = plt.imread(file_name)\n",
    "\n",
    "plt.figure(1, figsize=[6, 6])\n",
    "ax1 = plt.axes([0.15, 0.3, 0.7, 0.65])\n",
    "ax1.imshow(image);"
   ]
  },
  {
   "cell_type": "code",
   "execution_count": 5,
   "id": "a7eb4a30",
   "metadata": {},
   "outputs": [],
   "source": [
    "# Define ROIs:\n",
    "images_count = iquib(6, assignment_template=(0, 10, 1))\n",
    "\n",
    "roi_default = iquib([[20, 100, 20, 100]], allow_overriding=False)\n",
    "\n",
    "rois = np.repeat(roi_default, images_count, axis=0)\n",
    "rois.setp(assignment_template=(0, 1000, 1), allow_overriding=True)\n",
    "\n",
    "similiarity_threshold = iquib(.1)"
   ]
  },
  {
   "cell_type": "code",
   "execution_count": 6,
   "id": "2ee57972",
   "metadata": {},
   "outputs": [],
   "source": [
    "# Cut the images from image according to the rois\n",
    "cut_images = cut_image(image, rois)"
   ]
  },
  {
   "cell_type": "code",
   "execution_count": 7,
   "id": "804f77f8",
   "metadata": {},
   "outputs": [],
   "source": [
    "# Draw the rois\n",
    "create_roi(rois, ax1);"
   ]
  },
  {
   "cell_type": "code",
   "execution_count": 8,
   "id": "cbad8f33",
   "metadata": {},
   "outputs": [],
   "source": [
    "# Add slides for similarity threshold and image count:\n",
    "widgets.Slider(\n",
    "    ax=plt.axes([0.4, 0.2, 0.4, 0.03]),\n",
    "    label=\"Similiarity threshold\",\n",
    "    valmin=0, valmax=1, valstep=.05,\n",
    "    valinit=similiarity_threshold)\n",
    "\n",
    "widgets.Slider(\n",
    "    ax=plt.axes([0.4, 0.1, 0.4, 0.03]),\n",
    "    label=\"Image count\",\n",
    "    valmin=1, valmax=9, valstep=1,\n",
    "    valinit=images_count);"
   ]
  },
  {
   "cell_type": "code",
   "execution_count": 9,
   "id": "7495e47f",
   "metadata": {},
   "outputs": [
    {
     "name": "stdout",
     "output_type": "stream",
     "text": [
      "Cutting image\n",
      "Cutting image\n",
      "Cutting image\n",
      "Cutting image\n",
      "Cutting image\n",
      "Cutting image\n"
     ]
    }
   ],
   "source": [
    "# Figure 2 - Plot the cut images\n",
    "fig = plt.figure(2)\n",
    "grid_axes = iquib(ImageGrid(fig, 111, nrows_ncols=(3, 3), axes_pad=0.1))\n",
    "show_cut_images(grid_axes[:images_count], cut_images);"
   ]
  },
  {
   "cell_type": "code",
   "execution_count": 10,
   "id": "7735e890",
   "metadata": {},
   "outputs": [],
   "source": [
    "# Calculate all pairwise image comparisons \n",
    "image_distances = image_distance(np.expand_dims(cut_images, 1), cut_images)\n",
    "adjacents = image_distances < similiarity_threshold"
   ]
  },
  {
   "cell_type": "code",
   "execution_count": 11,
   "id": "8ce6d47d",
   "metadata": {},
   "outputs": [
    {
     "name": "stdout",
     "output_type": "stream",
     "text": [
      "Comparing images\n",
      "Comparing images\n",
      "Comparing images\n",
      "Comparing images\n",
      "Comparing images\n",
      "Comparing images\n",
      "Comparing images\n",
      "Comparing images\n",
      "Comparing images\n",
      "Comparing images\n",
      "Comparing images\n",
      "Comparing images\n",
      "Comparing images\n",
      "Comparing images\n",
      "Comparing images\n",
      "Comparing images\n",
      "Comparing images\n",
      "Comparing images\n",
      "Comparing images\n",
      "Comparing images\n",
      "Comparing images\n",
      "Comparing images\n",
      "Comparing images\n",
      "Comparing images\n",
      "Comparing images\n",
      "Comparing images\n",
      "Comparing images\n",
      "Comparing images\n",
      "Comparing images\n",
      "Comparing images\n",
      "Comparing images\n",
      "Comparing images\n",
      "Comparing images\n",
      "Comparing images\n",
      "Comparing images\n",
      "Comparing images\n"
     ]
    }
   ],
   "source": [
    "# Figure 3 - Plot distance matrix\n",
    "fig = plt.figure(3)\n",
    "fig.clf()\n",
    "axs = fig.add_axes([0.1, 0.15, 0.7, 0.7])\n",
    "axs.imshow(1 - image_distances, cmap='gray', vmin=0, vmax=1) \\\n",
    "    .setp(graphics_update='drop')\n",
    "axs.axis([-0.5, images_count-0.5, -0.5, images_count-0.5])\n",
    "axs.set_title('pairwise distance between images')\n",
    "axs.set_xlabel('Image number')\n",
    "axs.set_ylabel('Image number')\n",
    "\n",
    "image_nums = np.arange(images_count)\n",
    "show_adjacency(axs, np.expand_dims(image_nums, 1), image_nums, adjacents) \\\n",
    "    .setp(graphics_update='drop');\n",
    "\n",
    "# colormap\n",
    "axclr = fig.add_axes([0.85, 0.15, 0.06, 0.7])\n",
    "clrmap = np.linspace(1, 0, 10).reshape(10, 1)\n",
    "axclr.imshow(clrmap, cmap='gray', vmin=0, vmax=1)\n",
    "axclr.plot([-0.5, 0.5], similiarity_threshold * 10 - 0.5 + np.array([0, 0]), \n",
    "           '-r', linewidth=4, picker=True)\n",
    "axclr.set_xticks([])\n",
    "axclr.set_yticks([])\n",
    "axclr.set_ylabel('Similarity Threshold');"
   ]
  },
  {
   "cell_type": "code",
   "execution_count": 12,
   "id": "21573b1b-f79a-4329-936d-d20a1cedf7da",
   "metadata": {},
   "outputs": [
    {
     "data": {
      "text/plain": [
       "np.vectorize(plot_image_cluster_label, (),()->())(grid_axes[:images_count], cluster_indeces)"
      ]
     },
     "execution_count": 12,
     "metadata": {},
     "output_type": "execute_result"
    }
   ],
   "source": [
    "# add cluster label\n",
    "cluster_indeces = q(connected_components, adjacents)[1]\n",
    "plot_image_cluster_label(grid_axes[:images_count], cluster_indeces) \\\n",
    "    .setp(graphics_update='drop')"
   ]
  },
  {
   "cell_type": "code",
   "execution_count": 13,
   "id": "df77d6ce-2ecd-4915-bbf6-5a66580a7b9e",
   "metadata": {},
   "outputs": [],
   "source": [
    "pass"
   ]
  },
  {
   "cell_type": "code",
   "execution_count": null,
   "id": "1727aae0-89cc-496e-9ccc-5fafcc5fe2e5",
   "metadata": {},
   "outputs": [],
   "source": []
  }
 ],
 "metadata": {
  "kernelspec": {
   "display_name": "Python 3 (ipykernel)",
   "language": "python",
   "name": "python3"
  },
  "language_info": {
   "codemirror_mode": {
    "name": "ipython",
    "version": 3
   },
   "file_extension": ".py",
   "mimetype": "text/x-python",
   "name": "python",
   "nbconvert_exporter": "python",
   "pygments_lexer": "ipython3",
   "version": "3.10.4"
  }
 },
 "nbformat": 4,
 "nbformat_minor": 5
}
