{
 "cells": [
  {
   "cell_type": "markdown",
   "id": "491dbbee",
   "metadata": {},
   "source": [
    "## Overriding default values\n",
    "\n",
    "**A demo of specifying default values and overriding for specific exception cases.**\n",
    "\n",
    "Say we have several \"plates\" and we want to apply a function to each plate with some \"default factor\". We need a way to choose this factor globally, but we might sometimes need to make an exception and adjust it for specific plates. Essentially, we would like to copy the \"default factor\" for each plate while allowing \"overriding\" of these copies. In *Quibbler*, as shown here, such behavior is achieved quite seamlessly using overriding of function quibs. \n",
    "\n",
    "\n",
    "* **Features**\n",
    "    * Overriding default values\n",
    "    * Graphics-driven assignments\n",
    "    * Inverse assignments\n",
    "    * Assignment template\n",
    "\n",
    "\n",
    "* **Try me**\n",
    "    * Drag the horizontal line to change the overall \"default factor\"\n",
    "    * Drag the \"per-plate factor\" markers will make an excpetion, moving a specific point. To cancel the exception and return to the default value, right-click a point."
   ]
  },
  {
   "cell_type": "code",
   "execution_count": 1,
   "id": "5dc0e2e4",
   "metadata": {},
   "outputs": [],
   "source": [
    "from functools import partial\n",
    "from pyquibbler import iquib, override_all, q\n",
    "override_all()\n",
    "import matplotlib.pyplot as plt\n",
    "import numpy as np\n",
    "%matplotlib tk"
   ]
  },
  {
   "cell_type": "code",
   "execution_count": 2,
   "id": "f43f4446",
   "metadata": {},
   "outputs": [],
   "source": [
    "# Set number of plates\n",
    "n_plates = iquib(10)"
   ]
  },
  {
   "cell_type": "code",
   "execution_count": 3,
   "id": "958e93b3",
   "metadata": {},
   "outputs": [],
   "source": [
    "# Figure setup\n",
    "plt.figure()\n",
    "plt.axis([-0.5, n_plates - 0.5, 0, 100])\n",
    "plt.ylabel('Plate factor')\n",
    "plt.xticks(np.arange(n_plates));"
   ]
  },
  {
   "cell_type": "code",
   "execution_count": 4,
   "id": "5380bc4c",
   "metadata": {},
   "outputs": [],
   "source": [
    "# Common properties\n",
    "input_properties = {'assignment_template':(0, 100, 1), 'allow_overriding':True}"
   ]
  },
  {
   "cell_type": "code",
   "execution_count": 5,
   "id": "32800d23",
   "metadata": {},
   "outputs": [],
   "source": [
    "# Define and plot the default factor\n",
    "default_factor = iquib(np.array([70]))\n",
    "default_factor.setp(**input_properties)\n",
    "plt.plot([-0.5, n_plates - 0.5], default_factor[[0, 0]], 'k', linewidth=5, picker=True);"
   ]
  },
  {
   "cell_type": "code",
   "execution_count": 6,
   "id": "cdf3b2a3",
   "metadata": {},
   "outputs": [],
   "source": [
    "# Define and plot the per-plate factor\n",
    "plate_factor = np.repeat(default_factor, n_plates, 0)\n",
    "plate_factor.setp(**input_properties)\n",
    "plate_factor.set_assigned_quibs([plate_factor])\n",
    "x = np.arange(n_plates)\n",
    "plt.bar(x, plate_factor, color=(0.7, 0.7, 0.7))\n",
    "plt.plot(x, plate_factor, 'rs', picker=True);"
   ]
  }
 ],
 "metadata": {
  "kernelspec": {
   "display_name": "Python 3 (ipykernel)",
   "language": "python",
   "name": "python3"
  },
  "language_info": {
   "codemirror_mode": {
    "name": "ipython",
    "version": 3
   },
   "file_extension": ".py",
   "mimetype": "text/x-python",
   "name": "python",
   "nbconvert_exporter": "python",
   "pygments_lexer": "ipython3",
   "version": "3.9.7"
  }
 },
 "nbformat": 4,
 "nbformat_minor": 5
}
