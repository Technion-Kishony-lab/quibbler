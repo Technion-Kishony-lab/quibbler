{
 "cells": [
  {
   "cell_type": "markdown",
   "id": "491dbbee",
   "metadata": {},
   "source": [
    "## Overriding default values\n",
    "\n",
    "**A demo of two-level default and overriding.**\n",
    "\n",
    "Say we have several \"plates\" and each we have several \"wells\" and we want to apply a function to each well with some default \"factor\" argument. We need a way to choose this factor globally, but we might sometimes need to adjust it for specific plates and even for specific wells within the plates. Essentially, we would like to copy the default factor and allow \"overriding\" of these copies. In Quibbler this is done quite seamlessly. See the example here.\n",
    "\n",
    "\n",
    "* **Features**\n",
    "    * Overriding assignments\n",
    "    * Graphics-driven assignment\n",
    "    * Inverse assignment\n",
    "    * Assignment template\n",
    "\n",
    "\n",
    "* **Try me**\n",
    "    * Drag the horizontal line to the overall default \"factor\"\n",
    "    * Drag the \"per-plate factor\" markers will prompt asking if assignments should be interpreted as overrides to the \"plate-facor\", or propagate upstream to change the default.    \n",
    "    * Drag the \"per-well-per-plate factor\" markers will prompt asking if assignments should be interpreted as overrides a the wellplate level, or propagate one step up to the plate level or all the way up to the default level.    "
   ]
  },
  {
   "cell_type": "code",
   "execution_count": 1,
   "id": "5dc0e2e4",
   "metadata": {},
   "outputs": [],
   "source": [
    "from functools import partial\n",
    "from pyquibbler import iquib, override_all, q\n",
    "override_all()\n",
    "import matplotlib.pyplot as plt\n",
    "import numpy as np\n",
    "%matplotlib tk"
   ]
  },
  {
   "cell_type": "code",
   "execution_count": 2,
   "id": "2f6ec639",
   "metadata": {},
   "outputs": [],
   "source": [
    "# user function to plot markers at specified colors\n",
    "@partial(np.vectorize, excluded={0}, evaluate_now=True, pass_quibs=True)\n",
    "def plot_dragger(ax, x, y, overridden):\n",
    "    color = 'r' if overridden.get_value() else 'g'\n",
    "    ax.plot(x, y, marker='d', markerfacecolor=color, markeredgecolor='None',\n",
    "            markersize=12, linestyle='None', picker=True)"
   ]
  },
  {
   "cell_type": "code",
   "execution_count": 3,
   "id": "f43f4446",
   "metadata": {},
   "outputs": [],
   "source": [
    "# Set number of plate and number wells per plate\n",
    "n_plates = iquib(3)\n",
    "n_wells = iquib(6)"
   ]
  },
  {
   "cell_type": "code",
   "execution_count": 4,
   "id": "958e93b3",
   "metadata": {},
   "outputs": [],
   "source": [
    "# Figure setup\n",
    "plt.figure()\n",
    "\n",
    "ax1 = plt.subplot(2, 1, 1)\n",
    "ax1.axis([-0.5, n_plates - 0.5, 0, 100])\n",
    "ax1.set_ylabel('Plate factor')\n",
    "ax1.set_xticks(np.arange(n_plates))\n",
    "\n",
    "ax2 = plt.subplot(2, 1, 2)\n",
    "ax2.axis([-0.5, n_plates - 0.5, 0, 100])\n",
    "ax2.set_ylabel('Well factor');\n",
    "ax2.set_xticks(np.arange(n_plates));"
   ]
  },
  {
   "cell_type": "code",
   "execution_count": 5,
   "id": "5380bc4c",
   "metadata": {},
   "outputs": [],
   "source": [
    "# Common properties\n",
    "input_properties = {'assignment_template':(0, 100, 1), 'allow_overriding':True}"
   ]
  },
  {
   "cell_type": "code",
   "execution_count": 6,
   "id": "32800d23",
   "metadata": {},
   "outputs": [],
   "source": [
    "# Define and plot the default factor\n",
    "default_factor = iquib(np.array([70])).setp(**input_properties, name='Default')\n",
    "ax1.plot([-0.5, n_plates - 0.5], default_factor[[0, 0]], 'k', linewidth=5, picker=True);"
   ]
  },
  {
   "cell_type": "code",
   "execution_count": 7,
   "id": "cdf3b2a3",
   "metadata": {},
   "outputs": [],
   "source": [
    "# Define and plot the per-plate factor\n",
    "plate_factor = np.repeat(default_factor, n_plates, 0).setp(**input_properties, name='Plate_factor')\n",
    "x = np.arange(n_plates)\n",
    "ax1.bar(x, plate_factor, color=(0.7, 0.7, 0.7))\n",
    "plot_dragger(ax1, x, plate_factor, plate_factor.get_override_mask());"
   ]
  },
  {
   "cell_type": "code",
   "execution_count": 8,
   "id": "d97b439b",
   "metadata": {},
   "outputs": [],
   "source": [
    "# Define the per-plate-per-well factor\n",
    "well_factor = np.repeat(plate_factor, n_wells, 0).setp(**input_properties, name='Well_factor')\n",
    "dd = np.linspace(-0.4, 0.4, n_wells + 1)\n",
    "dd = (dd[0:-1] + dd[1:]) / 2.\n",
    "xx = np.ravel(x + np.reshape(dd, (n_wells, 1)), 'F')\n",
    "ax2.bar(xx, well_factor, color=(0.7, 0.7, 0.7), width=0.1)\n",
    "plot_dragger(ax2, xx, well_factor, well_factor.get_override_mask());"
   ]
  },
  {
   "cell_type": "code",
   "execution_count": 9,
   "id": "e213344e",
   "metadata": {},
   "outputs": [],
   "source": [
    "plt.show()"
   ]
  }
 ],
 "metadata": {
  "kernelspec": {
   "display_name": "Python 3 (ipykernel)",
   "language": "python",
   "name": "python3"
  },
  "language_info": {
   "codemirror_mode": {
    "name": "ipython",
    "version": 3
   },
   "file_extension": ".py",
   "mimetype": "text/x-python",
   "name": "python",
   "nbconvert_exporter": "python",
   "pygments_lexer": "ipython3",
   "version": "3.9.7"
  }
 },
 "nbformat": 4,
 "nbformat_minor": 5
}
