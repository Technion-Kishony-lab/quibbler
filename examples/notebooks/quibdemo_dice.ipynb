{
 "cells": [
  {
   "cell_type": "markdown",
   "id": "491dbbee",
   "metadata": {},
   "source": [
    "# demo: Implementing random functions - dice rolling\n",
    "\n",
    "**A demo of a quib-based analysis involving random numbers**\n",
    "\n",
    "* **Features**\n",
    "    * Random quibs\n",
    "    * Assignment template\n",
    "    * Graphic-based assignments\n",
    "    * widget quibs\n",
    "\n",
    "\n",
    "* **Try me**\n",
    "    * Try playing with the number of dice or the number of rolling.\n",
    "    * Try pressing 'Randomize' to re-randomize random-function quibs. "
   ]
  },
  {
   "cell_type": "code",
   "execution_count": 65,
   "id": "5d7bb894",
   "metadata": {},
   "outputs": [],
   "source": [
    "from pyquibbler import iquib, override_all, q, quibbler_user_function\n",
    "override_all()\n",
    "\n",
    "import matplotlib.pyplot as plt\n",
    "from matplotlib.widgets import Slider, Button\n",
    "import numpy as np\n",
    "%matplotlib tk"
   ]
  },
  {
   "cell_type": "code",
   "execution_count": 66,
   "id": "74c936eb",
   "metadata": {},
   "outputs": [],
   "source": [
    "# Prepare figure\n",
    "fg = plt.figure()\n",
    "ax = fg.add_axes([0.15, 0.3, 0.7, 0.65])\n",
    "ax.set_xlabel('Sum of dice')\n",
    "ax.set_ylabel('Number of rolls');"
   ]
  },
  {
   "cell_type": "code",
   "execution_count": 67,
   "id": "d6a296fc",
   "metadata": {},
   "outputs": [],
   "source": [
    "# Inputs\n",
    "num_dice = iquib(2)\n",
    "num_rolls = iquib(500)\n",
    "num_sides = iquib(6)\n",
    "results = np.random.randint(1,num_sides+1,(num_rolls,num_dice));"
   ]
  },
  {
   "cell_type": "code",
   "execution_count": 68,
   "id": "c9b1365e",
   "metadata": {},
   "outputs": [],
   "source": [
    "# Sum of the dice in each roll\n",
    "sum_dice = np.sum(results, axis=1)\n",
    "plt.hist(sum_dice, bins=np.arange(num_dice-0.5,num_dice*num_sides+1.5), ec='k', facecolor='c')\n",
    "ax.set_xlim([num_dice-0.7,num_dice*num_sides+0.7]);"
   ]
  },
  {
   "cell_type": "code",
   "execution_count": 69,
   "id": "ec4a18c1",
   "metadata": {},
   "outputs": [],
   "source": [
    "@quibbler_user_function(False)\n",
    "def gauss(m,s,x):\n",
    "    return 1/s/np.sqrt(2*np.pi)*np.exp(-0.5*((x-m)/s)**2)\n",
    "\n",
    "std = np.std(np.arange(1,num_sides+1))\n",
    "mean = np.average(np.arange(1,num_sides+1))\n",
    "se = std * np.sqrt(num_dice)\n",
    "mn = mean * num_dice\n",
    "xx = np.linspace(num_dice, num_dice*num_sides,100)\n",
    "p = gauss(mn,se,xx)\n",
    "ax.plot(xx,p*num_rolls,'r-');\n",
    "ax.set_ylim([0,gauss(mn,se,mn)*num_rolls*1.5]);"
   ]
  },
  {
   "cell_type": "code",
   "execution_count": 70,
   "id": "dfe1a692",
   "metadata": {
    "scrolled": true
   },
   "outputs": [],
   "source": [
    "# Add slider controls\n",
    "Slider(ax=fg.add_axes([0.23,0.15,0.4,0.03]), label='Number of dice', valmin=1, valmax=5, valinit=num_dice, valstep=1);\n",
    "Slider(ax=fg.add_axes([0.23,0.1,0.4,0.03]), label='Number of rolls', valmin=1, valmax=1000, valinit=num_rolls, valstep=1);"
   ]
  },
  {
   "cell_type": "code",
   "execution_count": 71,
   "id": "32ae1adb",
   "metadata": {},
   "outputs": [],
   "source": [
    "# Add randomize button\n",
    "randomize = Button(fg.add_axes([0.23,0.03,0.16,0.05]),'Randomize')\n",
    "#randomize.on_clicked()"
   ]
  }
 ],
 "metadata": {
  "kernelspec": {
   "display_name": "Python 3 (ipykernel)",
   "language": "python",
   "name": "python3"
  },
  "language_info": {
   "codemirror_mode": {
    "name": "ipython",
    "version": 3
   },
   "file_extension": ".py",
   "mimetype": "text/x-python",
   "name": "python",
   "nbconvert_exporter": "python",
   "pygments_lexer": "ipython3",
   "version": "3.9.7"
  }
 },
 "nbformat": 4,
 "nbformat_minor": 5
}
