{
 "cells": [
  {
   "cell_type": "markdown",
   "id": "491dbbee",
   "metadata": {},
   "source": [
    "# demo: Dragging graphics between fixed points\n",
    "**A demo of interactively choosing a point among a fixed set of values.**\n",
    "\n",
    "\n",
    "\n",
    "* **Features**\n",
    "    * Graphics-based assignment\n",
    "    * Assignment template\n",
    "\n",
    "\n",
    "* **Try me**\n",
    "    * Drag the cyan diamond marker to choose a squared number.\n",
    "    * Drag the cyan square corner."
   ]
  },
  {
   "cell_type": "code",
   "execution_count": 42,
   "id": "5dc0e2e4",
   "metadata": {},
   "outputs": [],
   "source": [
    "from pyquibbler import iquib, override_all, q\n",
    "override_all()\n",
    "import matplotlib.pyplot as plt\n",
    "import numpy as np\n",
    "from pyquibbler.quib.assignment import RangeAssignmentTemplate\n",
    "%matplotlib tk"
   ]
  },
  {
   "cell_type": "code",
   "execution_count": 43,
   "id": "e456814f",
   "metadata": {},
   "outputs": [
    {
     "data": {
      "text/plain": [
       "plot(Axes(0.1,0.1;0.8x0.06), 4.0, 0.5, dc, markersize=18, picker=True, pickradius=25)"
      ]
     },
     "execution_count": 43,
     "metadata": {},
     "output_type": "execute_result"
    }
   ],
   "source": [
    "fig = plt.figure(figsize=(8, 6))\n",
    "ax1 = fig.add_axes([0.1, 0.1, 0.8, 0.06])\n",
    "ax1.set_ylim([0, 1])\n",
    "ax1.set_xlim([0, 36.5])\n",
    "bottom_x_options = np.array(range(0, 7)) ** 2\n",
    "ax1.set_xticks(bottom_x_options)\n",
    "ax1.set_xticklabels(bottom_x_options, fontsize=18)\n",
    "ax1.set_yticks([])\n",
    "\n",
    "x = iquib(2., assignment_template=RangeAssignmentTemplate(start=0, stop=6, step=1))\n",
    "x_squared = x ** 2\n",
    "ax1.plot(x_squared, 0.5, 'dc', markersize=18, picker=True, pickradius=25)"
   ]
  },
  {
   "cell_type": "code",
   "execution_count": 44,
   "id": "4b7d063c",
   "metadata": {},
   "outputs": [
    {
     "data": {
      "text/plain": [
       "text(Axes(0.1,0.3;0.8x0.6), 1.0, 1.0, area: 4, horizontalalignment=center, verticalalignment=center)"
      ]
     },
     "execution_count": 44,
     "metadata": {},
     "output_type": "execute_result"
    }
   ],
   "source": [
    "ax2 = fig.add_axes([0.1, 0.3, 0.8, 0.6])\n",
    "ax2.axis('square')\n",
    "ax2.axis([-0.05, 6.15, -0.05, 6.15])\n",
    "ax2.plot([0,x,x,0,0],[0,0,x,x,0],'k-',linewidth=4)\n",
    "ax2.spines['top'].set_visible(False)\n",
    "ax2.spines['right'].set_visible(False)\n",
    "ax2.plot(x, x, 'sc', markersize=14, picker=True)\n",
    "ax2.text(x/2, x/2, q(\"area: {:.0f}\".format, x_squared), horizontalalignment='center',  verticalalignment='center')"
   ]
  }
 ],
 "metadata": {
  "kernelspec": {
   "display_name": "Python 3 (ipykernel)",
   "language": "python",
   "name": "python3"
  },
  "language_info": {
   "codemirror_mode": {
    "name": "ipython",
    "version": 3
   },
   "file_extension": ".py",
   "mimetype": "text/x-python",
   "name": "python",
   "nbconvert_exporter": "python",
   "pygments_lexer": "ipython3",
   "version": "3.9.7"
  }
 },
 "nbformat": 4,
 "nbformat_minor": 5
}
