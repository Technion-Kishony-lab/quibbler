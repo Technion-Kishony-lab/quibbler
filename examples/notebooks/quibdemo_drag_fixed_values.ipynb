{
 "cells": [
  {
   "cell_type": "markdown",
   "id": "491dbbee",
   "metadata": {},
   "source": [
    "# demo: Dragging graphics between fixed points\n",
    "**A demo of interactively choosing a point among a fixed set of values.**\n",
    "\n",
    "\n",
    "\n",
    "* **Features**\n",
    "    * Graphics-driven assignment\n",
    "    * Inverse assignment\n",
    "    * Assignment template\n",
    "\n",
    "\n",
    "* **Try me**\n",
    "    * Drag the cyan diamond marker to choose a squared number.\n",
    "    * Drag the cyan square corner."
   ]
  },
  {
   "cell_type": "code",
   "execution_count": 1,
   "id": "5dc0e2e4",
   "metadata": {},
   "outputs": [],
   "source": [
    "from pyquibbler import iquib, override_all, q\n",
    "override_all()\n",
    "import matplotlib.pyplot as plt\n",
    "import numpy as np\n",
    "from pyquibbler.quib.assignment import RangeAssignmentTemplate\n",
    "%matplotlib tk"
   ]
  },
  {
   "cell_type": "code",
   "execution_count": 2,
   "id": "1d3c4210",
   "metadata": {},
   "outputs": [],
   "source": [
    "# Prepare figure, axes\n",
    "fig = plt.figure(figsize=(5, 6))\n",
    "\n",
    "ax1 = fig.add_axes([0.1, 0.1, 0.8, 0.06])\n",
    "ax1.set_ylim([0, 1])\n",
    "ax1.set_xlim([0, 36.5])\n",
    "area_options = np.array(range(0, 7)) ** 2\n",
    "ax1.set_xticks(area_options)\n",
    "ax1.set_xticklabels(area_options, fontsize=12)\n",
    "ax1.set_yticks([])\n",
    "ax1.set_facecolor([0.9, 0.9, 0.9])\n",
    "\n",
    "ax2 = fig.add_axes([0.1, 0.3, 0.8, 0.6])\n",
    "ax2.axis('square')\n",
    "ax2.axis([-0.05, 6.15, -0.05, 6.15])\n",
    "ax2.spines['top'].set_visible(False)\n",
    "ax2.spines['right'].set_visible(False)"
   ]
  },
  {
   "cell_type": "code",
   "execution_count": 3,
   "id": "8bb76942",
   "metadata": {},
   "outputs": [],
   "source": [
    "# Define x, x_squared\n",
    "# (use assingment_template to limit values of x)\n",
    "x = iquib(2., assignment_template=RangeAssignmentTemplate(start=0, stop=6, step=1));\n",
    "x_squared = x ** 2"
   ]
  },
  {
   "cell_type": "code",
   "execution_count": 4,
   "id": "04660580",
   "metadata": {},
   "outputs": [],
   "source": [
    "# Plot draggable x_squared. \n",
    "# (the marker position will be limitted to square numbers)\n",
    "ax1.plot(x_squared, 0.5, 'dc', markersize=18, picker=True, pickradius=25);"
   ]
  },
  {
   "cell_type": "code",
   "execution_count": 5,
   "id": "0b1ad9b6",
   "metadata": {},
   "outputs": [],
   "source": [
    "# Plot the black sqaure, with text, and a draggable corner\n",
    "ax2.plot([0, x, x, 0, 0], [0, 0, x, x, 0], 'k-', linewidth=4);\n",
    "ax2.text(x/2, x/2, q(\"area: {:.0f}\".format, x_squared), horizontalalignment='center',  verticalalignment='center')\n",
    "ax2.plot(x, x, 'sc', markersize=14, picker=True);"
   ]
  },
  {
   "cell_type": "markdown",
   "id": "b6c24fd8",
   "metadata": {},
   "source": [
    "![example](../recorded_videos/quibdemo_drag_fixed_values.gif)"
   ]
  }
 ],
 "metadata": {
  "kernelspec": {
   "display_name": "Python 3 (ipykernel)",
   "language": "python",
   "name": "python3"
  },
  "language_info": {
   "codemirror_mode": {
    "name": "ipython",
    "version": 3
   },
   "file_extension": ".py",
   "mimetype": "text/x-python",
   "name": "python",
   "nbconvert_exporter": "python",
   "pygments_lexer": "ipython3",
   "version": "3.9.7"
  }
 },
 "nbformat": 4,
 "nbformat_minor": 5
}
