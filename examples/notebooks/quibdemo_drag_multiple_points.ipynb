{
 "cells": [
  {
   "cell_type": "markdown",
   "id": "491dbbee",
   "metadata": {},
   "source": [
    "## Multi-point dragging and widgets\n",
    "\n",
    "**Plot and fit multiple individually-draggable data points.**\n",
    "\n",
    "* **Features**\n",
    "    * Graphics-driven assignments of multiple points\n",
    "    * Inverse assignments\n",
    "    * Assignment template\n",
    "    \n",
    "    \n",
    "* **Try me:**\n",
    "    * Try dragging the data points.\n",
    "    * Try changing the degree of the polynomial fit with the slider."
   ]
  },
  {
   "cell_type": "code",
   "execution_count": 1,
   "id": "23e50e0d",
   "metadata": {},
   "outputs": [],
   "source": [
    "from pyquibbler import iquib, override_all, q, set_project_directory, load_quibs, get_project_directory, save_quibs\n",
    "override_all()\n",
    "import matplotlib.pyplot as plt\n",
    "from matplotlib import widgets\n",
    "import numpy as np\n",
    "%matplotlib tk"
   ]
  },
  {
   "cell_type": "code",
   "execution_count": 25,
   "id": "7531d777",
   "metadata": {},
   "outputs": [],
   "source": [
    "# Define x, y data points\n",
    "num_points = iquib(10)\n",
    "x = np.arange(0., num_points);\n",
    "z = 100. - np.arange(0., num_points)**2\n",
    "\n",
    "# Add random noise\n",
    "y = z + 5 * np.random.randn(num_points)\n",
    "\n",
    "# Allow overrding the default functional values of x,y:\n",
    "x.allow_overriding = True\n",
    "y.allow_overriding = True\n",
    "\n",
    "# Define figure, axes:\n",
    "plt.figure(figsize=[7, 5])\n",
    "ax = plt.axes([0.2, 0.2, 0.7, 0.6])\n",
    "\n",
    "# Plot the x-y points. use picker=True to allow dragging\n",
    "ax.plot(x, y, marker='o', markersize=12, markerfacecolor='y',\n",
    "        linestyle='None', picker=True, pickradius=15)\n",
    "\n",
    "\n",
    "# Define polynomial fit degree:\n",
    "n_poly = iquib(2)\n",
    "\n",
    "# Connect polynomial fit with slider:\n",
    "axSlider = plt.axes([0.25, 0.1, 0.65, 0.03])\n",
    "freq_slider = widgets.Slider(ax=axSlider, valmin=0, valmax=5, valstep=1,\n",
    "    label=q(\"poly deg {:.0f}\".format, n_poly),\n",
    "    valinit=n_poly)\n",
    "\n",
    "# Perform and plot the polynomial fit:\n",
    "pf = np.polyfit(x, y, n_poly)\n",
    "x0 = np.linspace(np.min(x), np.max(x), 30)\n",
    "y0 = np.polyval(pf, x0)\n",
    "ax.plot(x0, y0, 'k-');\n"
   ]
  },
  {
   "cell_type": "code",
   "execution_count": null,
   "id": "ba591fd1-d8e5-4bfe-8000-35bc7422ac3f",
   "metadata": {},
   "outputs": [],
   "source": [
    "x.save_format = \"bin\"\n",
    "z.save_format= \"bin\"\n",
    "y.save_format = \"bin\""
   ]
  },
  {
   "cell_type": "code",
   "execution_count": 10,
   "id": "16a37955-9dd6-4611-94cf-ac729de94783",
   "metadata": {},
   "outputs": [],
   "source": [
    "x = iquib(5)"
   ]
  },
  {
   "cell_type": "code",
   "execution_count": 11,
   "id": "18594bd1-cbf0-49d9-b9c8-007b642f046a",
   "metadata": {},
   "outputs": [],
   "source": []
  },
  {
   "cell_type": "code",
   "execution_count": 18,
   "id": "a17f27d7-f8eb-4785-9a08-6487d234241e",
   "metadata": {},
   "outputs": [],
   "source": [
    "from matplotlib import pyplot as plt\n",
    "\n",
    "plt.figure()\n",
    "\n",
    "axes = plt.gca()\n",
    "\n",
    "h = axes.plot([1, 2, 3])\n",
    "xx = weakref.ref(h[0])"
   ]
  },
  {
   "cell_type": "code",
   "execution_count": 19,
   "id": "d0263c3b-ff43-4fe8-abd4-bfb71f455ba3",
   "metadata": {},
   "outputs": [],
   "source": [
    "del h"
   ]
  },
  {
   "cell_type": "code",
   "execution_count": 22,
   "id": "e18aa8f1-6a56-4ce6-bb07-0ca9f9ad2abf",
   "metadata": {},
   "outputs": [],
   "source": [
    "axes.cla()"
   ]
  },
  {
   "cell_type": "code",
   "execution_count": 23,
   "id": "3e7a6581-51f2-47c8-9075-2c5aaf257f2a",
   "metadata": {},
   "outputs": [
    {
     "data": {
      "text/plain": [
       "<weakref at 0x176fa5130; to 'Line2D' at 0x176f99dc0>"
      ]
     },
     "execution_count": 23,
     "metadata": {},
     "output_type": "execute_result"
    }
   ],
   "source": [
    "xx"
   ]
  },
  {
   "cell_type": "code",
   "execution_count": 24,
   "id": "c2d61ea7-0b85-44fd-864c-7defd9a90162",
   "metadata": {},
   "outputs": [
    {
     "data": {
      "text/plain": [
       "<matplotlib.lines.Line2D at 0x176f99dc0>"
      ]
     },
     "execution_count": 24,
     "metadata": {},
     "output_type": "execute_result"
    }
   ],
   "source": [
    "xx()"
   ]
  },
  {
   "cell_type": "code",
   "execution_count": 3,
   "id": "23e50e0d",
   "metadata": {},
   "outputs": [],
   "source": [
    "from pyquibbler import iquib, override_all, q, set_project_directory, load_quibs, get_project_directory, save_quibs\n",
    "override_all()\n",
    "import matplotlib.pyplot as plt\n",
    "from matplotlib import widgets\n",
    "import numpy as np\n",
    "%matplotlib tk"
   ]
  },
  {
   "cell_type": "code",
   "execution_count": 4,
   "id": "7531d777",
   "metadata": {},
   "outputs": [],
   "source": [
    "# Define x, y data points\n",
    "num_points = iquib(10)\n",
    "x = np.arange(0., num_points);\n",
    "y = 100. - np.arange(0., num_points)**2\n",
    "\n",
    "# Add random noise\n",
    "y = y + 5 * np.random.randn(num_points)\n",
    "\n",
    "# Allow overrding the default functional values of x,y:\n",
    "x.allow_overriding = True\n",
    "y.allow_overriding = True\n",
    "\n",
    "# Define figure, axes:\n",
    "plt.figure(figsize=[7, 5])\n",
    "ax = plt.axes([0.2, 0.2, 0.7, 0.6])\n",
    "\n",
    "# Plot the x-y points. use picker=True to allow dragging\n",
    "ax.plot(x, y, marker='o', markersize=12, markerfacecolor='y',\n",
    "        linestyle='None', picker=True, pickradius=15)\n",
    "\n",
    "\n",
    "# Define polynomial fit degree:\n",
    "n_poly = iquib(2)\n",
    "\n",
    "# Connect polynomial fit with slider:\n",
    "axSlider = plt.axes([0.25, 0.1, 0.65, 0.03])\n",
    "freq_slider = widgets.Slider(ax=axSlider, valmin=0, valmax=5, valstep=1,\n",
    "    label=q(\"poly deg {:.0f}\".format, n_poly),\n",
    "    valinit=n_poly)\n",
    "\n",
    "# Perform and plot the polynomial fit:\n",
    "pf = np.polyfit(x, y, n_poly)\n",
    "x0 = np.linspace(np.min(x), np.max(x), 30)\n",
    "y0 = np.polyval(pf, x0)\n",
    "ax.plot(x0, y0, 'k-');\n"
   ]
  },
  {
   "cell_type": "code",
   "execution_count": null,
   "id": "ba591fd1-d8e5-4bfe-8000-35bc7422ac3f",
   "metadata": {},
   "outputs": [],
   "source": [
    "print(\"hi\", get_project_directory())"
   ]
  },
  {
   "cell_type": "code",
   "execution_count": null,
   "id": "16a37955-9dd6-4611-94cf-ac729de94783",
   "metadata": {},
   "outputs": [],
   "source": [
    "print(1)\n",
    "set_project_directory(\"/tmp/funtimes\")"
   ]
  },
  {
   "cell_type": "code",
   "execution_count": null,
   "id": "18594bd1-cbf0-49d9-b9c8-007b642f046a",
   "metadata": {},
   "outputs": [],
   "source": [
    "save_quibs()"
   ]
  },
  {
   "cell_type": "code",
   "execution_count": null,
   "id": "a17f27d7-f8eb-4785-9a08-6487d234241e",
   "metadata": {},
   "outputs": [],
   "source": [
    "x[2] = 38\n",
    "y[2] = 68"
   ]
  },
  {
   "cell_type": "code",
   "execution_count": null,
   "id": "d0263c3b-ff43-4fe8-abd4-bfb71f455ba3",
   "metadata": {},
   "outputs": [],
   "source": [
    "print(2)\n",
    "\n",
    "\n",
    "\n"
   ]
  },
  {
   "cell_type": "code",
   "execution_count": null,
   "id": "e18aa8f1-6a56-4ce6-bb07-0ca9f9ad2abf",
   "metadata": {},
   "outputs": [],
   "source": []
  }
 ],
 "metadata": {
  "kernelspec": {
   "display_name": "Python 3 (ipykernel)",
   "language": "python",
   "name": "python3"
  },
  "language_info": {
   "codemirror_mode": {
    "name": "ipython",
    "version": 3
   },
   "file_extension": ".py",
   "mimetype": "text/x-python",
   "name": "python",
   "nbconvert_exporter": "python",
   "pygments_lexer": "ipython3",
   "version": "3.8.8"
  }
 },
 "nbformat": 4,
 "nbformat_minor": 5
}
