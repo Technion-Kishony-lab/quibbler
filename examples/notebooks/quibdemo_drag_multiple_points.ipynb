{
 "cells": [
  {
   "cell_type": "markdown",
   "id": "491dbbee",
   "metadata": {},
   "source": [
    "## Multi-point dragging and widgets\n",
    "\n",
    "**Plot and fit multiple individually-draggable data points.**\n",
    "\n",
    "* **Features**\n",
    "    * Graphics-driven assignments of multiple points\n",
    "    * Inverse assignments\n",
    "    * Assignment template\n",
    "    \n",
    "    \n",
    "* **Try me:**\n",
    "    * Try dragging the data points.\n",
    "    * Try changing the degree of the polynomial fit with the slider."
   ]
  },
  {
   "cell_type": "code",
   "execution_count": 3,
   "id": "23e50e0d",
   "metadata": {},
   "outputs": [],
   "source": [
    "from pyquibbler import iquib, override_all, q\n",
    "override_all()\n",
    "import matplotlib.pyplot as plt\n",
    "from matplotlib import widgets\n",
    "import numpy as np\n",
    "%matplotlib tk"
   ]
  },
  {
   "cell_type": "code",
   "execution_count": 4,
   "id": "7531d777",
   "metadata": {},
   "outputs": [],
   "source": [
    "# Define x, y data points\n",
    "num_points = iquib(10)\n",
    "x = np.arange(0., num_points);\n",
    "y = 100. - np.arange(0., num_points)**2\n",
    "\n",
    "# Add random noise\n",
    "y = y + 5 * np.random.randn(num_points)\n",
    "\n",
    "# Allow overrding the default functional values of x, y:\n",
    "x.allow_overriding = True\n",
    "y.allow_overriding = True\n",
    "\n",
    "# Define figure, axes:\n",
    "plt.figure(figsize=[7, 5])\n",
    "ax = plt.axes([0.2, 0.2, 0.7, 0.6])\n",
    "\n",
    "# Plot the x-y points. Setting picker=True to allow dragging\n",
    "ax.plot(x, y, marker='o', markersize=12, markerfacecolor='y',\n",
    "        linestyle='None', picker=True, pickradius=15)\n",
    "\n",
    "# Define polynomial fit degree:\n",
    "n_poly = iquib(2)\n",
    "\n",
    "# Connect polynomial fit with slider:\n",
    "axSlider = plt.axes([0.25, 0.1, 0.65, 0.03])\n",
    "freq_slider = widgets.Slider(ax=axSlider, valmin=0, valmax=5, valstep=1,\n",
    "    label=q(\"poly deg {:.0f}\".format, n_poly), valinit=n_poly)\n",
    "\n",
    "# Perform and plot the polynomial fit:\n",
    "pf = np.polyfit(x, y, n_poly)\n",
    "x0 = np.linspace(np.min(x), np.max(x), 30)\n",
    "y0 = np.polyval(pf, x0)\n",
    "ax.plot(x0, y0, 'k-');"
   ]
  }
 ],
 "metadata": {
  "kernelspec": {
   "display_name": "Python 3 (ipykernel)",
   "language": "python",
   "name": "python3"
  },
  "language_info": {
   "codemirror_mode": {
    "name": "ipython",
    "version": 3
   },
   "file_extension": ".py",
   "mimetype": "text/x-python",
   "name": "python",
   "nbconvert_exporter": "python",
   "pygments_lexer": "ipython3",
   "version": "3.10.4"
  }
 },
 "nbformat": 4,
 "nbformat_minor": 5
}
