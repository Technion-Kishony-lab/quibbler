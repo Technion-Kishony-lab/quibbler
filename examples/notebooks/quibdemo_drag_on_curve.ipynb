{
 "cells": [
  {
   "cell_type": "markdown",
   "id": "491dbbee",
   "metadata": {},
   "source": [
    "## Dragging graphics along a curved line\n",
    "**A demo of interactively dragging a point along a curved line.**\n",
    "\n",
    "* **Features**\n",
    "    * Graphics quibs\n",
    "    * Graphics-driven assignments\n",
    "    * Dragging with functional constrain\n",
    "\n",
    "\n",
    "* **Try me**\n",
    "    * Try dragging the circle along the functional line.\n"
   ]
  },
  {
   "cell_type": "code",
   "execution_count": 1,
   "id": "4512d802",
   "metadata": {},
   "outputs": [],
   "source": [
    "from pyquibbler import iquib, override_all, q, quibbler_user_function\n",
    "override_all()\n",
    "from pyquibbler.quib.assignment import RangeAssignmentTemplate\n",
    "import matplotlib.pyplot as plt\n",
    "import matplotlib.patches as patches\n",
    "from matplotlib import widgets\n",
    "import numpy as np\n",
    "%matplotlib tk"
   ]
  },
  {
   "cell_type": "code",
   "execution_count": 2,
   "id": "567908e3",
   "metadata": {},
   "outputs": [],
   "source": [
    "X = iquib(3.)\n",
    "\n",
    "curve_function = lambda v: 4 * v ** 2 - v ** 3\n",
    "\n",
    "point_x = iquib(3)\n",
    "point_y = q(curve_function,point_x)\n",
    "\n",
    "graph_xs = np.arange(0, 4, .2)\n",
    "graph_ys = curve_function(graph_xs)\n",
    "\n",
    "# Create a line representing graph\n",
    "plt.figure(figsize=(4,3))\n",
    "plt.plot(graph_xs, graph_ys, 'k')\n",
    "plt.axis([0, np.max(graph_xs), 0, np.max(graph_ys) + 2])\n",
    "\n",
    "# Plot the point, use picker=True to allow dragging\n",
    "plt.plot(point_x, point_y, marker='o', markerfacecolor='c', markersize=18, picker=True, pickradius=20)\n",
    "\n",
    "# Plot text (this text will change when the marker is dragged):\n",
    "plt.text(point_x, point_y + .6, q(\"X={:.2f}, Y={:.2f}\".format, point_x, point_y), horizontalalignment=\"center\",\n",
    "         verticalalignment=\"bottom\", fontsize=13);"
   ]
  }
 ],
 "metadata": {
  "kernelspec": {
   "display_name": "Python 3 (ipykernel)",
   "language": "python",
   "name": "python3"
  },
  "language_info": {
   "codemirror_mode": {
    "name": "ipython",
    "version": 3
   },
   "file_extension": ".py",
   "mimetype": "text/x-python",
   "name": "python",
   "nbconvert_exporter": "python",
   "pygments_lexer": "ipython3",
   "version": "3.9.7"
  }
 },
 "nbformat": 4,
 "nbformat_minor": 5
}
