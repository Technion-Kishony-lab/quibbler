{
 "cells": [
  {
   "cell_type": "markdown",
   "id": "491dbbee",
   "metadata": {},
   "source": [
    "# demo: Dragging graphics vertically/horizontally\n",
    "**A demo of interactive graphics-driven assignments with vertical/horizontal dragging.**\n",
    "\n",
    "\n",
    "* **Features**\n",
    "    * Graphics-driven assignments\n",
    "    * Horizontal/vertical dragging\n",
    "    * Inverse assignments\n",
    "\n",
    "\n",
    "* **Try me**\n",
    "    * Try dragging the circle - note that it can move freely.\n",
    "    * Try dragging the axis-sliders - note that they are constraint horizontally and vertically. "
   ]
  },
  {
   "cell_type": "code",
   "execution_count": 1,
   "id": "5dc0e2e4",
   "metadata": {},
   "outputs": [],
   "source": [
    "from pyquibbler import iquib, override_all, q\n",
    "override_all()\n",
    "import matplotlib.pyplot as plt\n",
    "import numpy as np\n",
    "%matplotlib tk"
   ]
  },
  {
   "cell_type": "code",
   "execution_count": 2,
   "id": "9c92769b",
   "metadata": {},
   "outputs": [],
   "source": [
    "x = iquib(7.)\n",
    "y = iquib(4.)\n",
    "\n",
    "plt.figure(figsize=(4, 4))\n",
    "plt.xlim(0, 10)\n",
    "plt.ylim(0, 10)\n",
    "\n",
    "# Lines connecting dot to axeses\n",
    "plt.plot([x, x], [0, y], 'k:', linewidth=2)\n",
    "plt.plot([0, x], [y, y], 'k:', linewidth=2)\n",
    "\n",
    "# Text above dot\n",
    "plt.text(x, y + 0.6, \n",
    "         q(\"({}, {})\".format, np.around(x, decimals=1), np.around(y, decimals=1)),\n",
    "         horizontalalignment=\"center\",\n",
    "         verticalalignment=\"bottom\", fontsize=16)\n",
    "\n",
    "# Vertical and horizontal sliders\n",
    "plt.plot(x, 0.2, '^', markerfacecolor='r', markersize=22, picker=True)\n",
    "plt.plot(0.2, y, '>', markerfacecolor='r', markersize=22, picker=True)\n",
    "\n",
    "# Draggable dot\n",
    "plt.plot(x, y, markerfacecolor='red', marker='o', \n",
    "         markersize=20, picker=True, pickradius=25);"
   ]
  },
  {
   "cell_type": "code",
   "execution_count": null,
   "id": "9923c0ba-d94a-4942-af3e-9706fa238dd4",
   "metadata": {},
   "outputs": [],
   "source": []
  }
 ],
 "metadata": {
  "kernelspec": {
   "display_name": "Python 3 (ipykernel)",
   "language": "python",
   "name": "python3"
  },
  "language_info": {
   "codemirror_mode": {
    "name": "ipython",
    "version": 3
   },
   "file_extension": ".py",
   "mimetype": "text/x-python",
   "name": "python",
   "nbconvert_exporter": "python",
   "pygments_lexer": "ipython3",
   "version": "3.9.7"
  }
 },
 "nbformat": 4,
 "nbformat_minor": 5
}