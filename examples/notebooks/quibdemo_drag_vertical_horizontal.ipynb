{
 "cells": [
  {
   "cell_type": "markdown",
   "id": "491dbbee",
   "metadata": {},
   "source": [
    "# demo: Dragging graphics vertically/horizontally\n",
    "**A demo of interactive graphic assignments with vertical/horizontal dragging.**\n",
    "\n",
    "\n",
    "* **Features**\n",
    "    * Graphic quibs in continuous mode\n",
    "    * Horizontal/Vertical dragging\n",
    "    * Inverse assignments\n",
    "\n",
    "\n",
    "* **Try me**\n",
    "    * Try dragging the circle, or the axis-sliders."
   ]
  },
  {
   "cell_type": "code",
   "execution_count": 1,
   "id": "5dc0e2e4",
   "metadata": {},
   "outputs": [],
   "source": [
    "from pyquibbler import iquib, override_all, q\n",
    "override_all()\n",
    "import matplotlib.pyplot as plt\n",
    "import numpy as np\n",
    "from pyquibbler.quib.assignment import RangeAssignmentTemplate\n",
    "%matplotlib tk"
   ]
  },
  {
   "cell_type": "code",
   "execution_count": 3,
   "id": "e456814f",
   "metadata": {},
   "outputs": [],
   "source": [
    "x = iquib(7)\n",
    "y = iquib(4)\n",
    "\n",
    "plt.figure(figsize=(5,5))\n",
    "plt.xlim(0, 10)\n",
    "plt.ylim(0, 10)\n",
    "\n",
    "# Lines connecting dot to axeses\n",
    "plt.plot([x, x], [0, y], 'k:', linewidth=2)\n",
    "plt.plot([0, x], [y, y], 'k:', linewidth=2)\n",
    "\n",
    "# Text above dot\n",
    "plt.text(x, y + 0.6, q(\"({}, {})\".format, np.around(x, decimals=2), np.around(y, decimals=2)),\n",
    "         horizontalalignment=\"center\",\n",
    "         verticalalignment=\"bottom\", fontsize=16)\n",
    "\n",
    "# Vertical and horizontal sliders\n",
    "plt.plot(x, 0.2, '^', markerfacecolor='r', markersize=22, picker=True)\n",
    "plt.plot(0.2, y, '>', markerfacecolor='r', markersize=22, picker=True)\n",
    "\n",
    "# Draggable dot\n",
    "plt.plot(x, y, markerfacecolor='red', marker='o', markersize=25, picker=True, pickradius=25)\n",
    "plt.show()"
   ]
  }
 ],
 "metadata": {
  "kernelspec": {
   "display_name": "Python 3 (ipykernel)",
   "language": "python",
   "name": "python3"
  },
  "language_info": {
   "codemirror_mode": {
    "name": "ipython",
    "version": 3
   },
   "file_extension": ".py",
   "mimetype": "text/x-python",
   "name": "python",
   "nbconvert_exporter": "python",
   "pygments_lexer": "ipython3",
   "version": "3.9.7"
  }
 },
 "nbformat": 4,
 "nbformat_minor": 5
}
