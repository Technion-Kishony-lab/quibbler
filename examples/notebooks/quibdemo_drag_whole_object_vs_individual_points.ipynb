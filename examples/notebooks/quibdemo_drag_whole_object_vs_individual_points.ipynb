{
 "cells": [
  {
   "cell_type": "markdown",
   "id": "f7d3e4e4",
   "metadata": {},
   "source": [
    "## Dragging whole object versus individual points\n",
    "\n",
    "**Moving a line object as a whole, or refining individual data points.**\n",
    "\n",
    "* **Features:**\n",
    "    * Graphics-driven assignments\n",
    "    * Dragging invidual points versus whole object\n",
    "\n",
    "* **Try me:**\n",
    "    * Try dragging the 'Move me!' - it will move as a whole.\n",
    "    * Try dragging the 'Change me!' star - it will change individual points.\n"
   ]
  },
  {
   "cell_type": "code",
   "execution_count": null,
   "id": "4512d802",
   "metadata": {
    "scrolled": true
   },
   "outputs": [],
   "source": [
    "from pyquibbler import iquib, override_all, q\n",
    "override_all()\n",
    "import matplotlib.pyplot as plt\n",
    "import numpy as np\n",
    "%matplotlib tk"
   ]
  },
  {
   "cell_type": "code",
   "execution_count": null,
   "id": "95eb34af",
   "metadata": {},
   "outputs": [],
   "source": [
    "# Figure setup:\n",
    "fig1 = plt.figure(figsize=(4,4))\n",
    "ax = fig1.gca()\n",
    "ax.axis('square');\n",
    "ax.axis([0, 12, 0, 12]);"
   ]
  },
  {
   "cell_type": "code",
   "execution_count": null,
   "id": "f38e5409",
   "metadata": {},
   "outputs": [],
   "source": [
    "# Define star coordinates:\n",
    "nPoints = iquib(5);\n",
    "dtet = 2 * np.pi / (2*nPoints)\n",
    "tet = np.arange(np.pi/2, np.pi/2+2*np.pi, dtet);\n",
    "rR = np.array([1.5, 0.7])\n",
    "rs = np.tile(rR, (nPoints,));\n",
    "x_star = np.cos(tet) * rs;\n",
    "y_star = np.sin(tet) * rs;"
   ]
  },
  {
   "cell_type": "code",
   "execution_count": null,
   "id": "0ee4a2d8",
   "metadata": {},
   "outputs": [],
   "source": [
    "# Allow changing the coordinates:\n",
    "x_star.set_allow_overriding(True);\n",
    "y_star.set_allow_overriding(True);"
   ]
  },
  {
   "cell_type": "code",
   "execution_count": null,
   "id": "a6062ccb",
   "metadata": {},
   "outputs": [],
   "source": [
    "x_star_circ = np.concatenate([x_star, x_star[[0]]])\n",
    "y_star_circ = np.concatenate([y_star, y_star[[0]]])"
   ]
  },
  {
   "cell_type": "code",
   "execution_count": null,
   "id": "253702b1",
   "metadata": {},
   "outputs": [],
   "source": [
    "# Define and draw movable star:\n",
    "x_center_movable = iquib(np.array([7.]));\n",
    "y_center_movable = iquib(np.array([5.]));\n",
    "\n",
    "# using x_center_movable as the first argument \n",
    "# (to which the inverse-assignment is channeled):\n",
    "x_movable_star = x_center_movable + x_star_circ; \n",
    "y_movable_star = y_center_movable + y_star_circ;\n",
    "ax.text(x_center_movable, y_center_movable+np.min(y_star_circ)-0.2, 'Move me!',\n",
    "       horizontalalignment='center', verticalalignment='top')\n",
    "ax.plot(x_movable_star, y_movable_star, linewidth=2, color='m', picker=True);"
   ]
  },
  {
   "cell_type": "code",
   "execution_count": null,
   "id": "84f29f03",
   "metadata": {},
   "outputs": [],
   "source": [
    "# Define and draw changeable star:\n",
    "x_center_fixed = iquib(np.array([2.]));\n",
    "y_center_fixed = iquib(np.array([8.]));\n",
    "\n",
    "# using x_star as the first argument:\n",
    "x_changeable_star = x_star_circ + x_center_fixed;\n",
    "y_changeable_star = y_star_circ + y_center_fixed;\n",
    "ax.text(x_center_fixed, y_center_fixed+np.min(y_star_circ)-0.2,'Change me!',\n",
    "        horizontalalignment='center', verticalalignment='top')\n",
    "ax.plot(x_changeable_star, y_changeable_star, linewidth=2, color='c', picker=True);"
   ]
  },
  {
   "cell_type": "code",
   "execution_count": null,
   "id": "881bce17",
   "metadata": {},
   "outputs": [],
   "source": [
    "ax.set_title(q('{:.1f},{:.1f}'.format, x_center_movable[0], y_center_movable[0]));"
   ]
  }
 ],
 "metadata": {
  "kernelspec": {
   "display_name": "Python 3 (ipykernel)",
   "language": "python",
   "name": "python3"
  },
  "language_info": {
   "codemirror_mode": {
    "name": "ipython",
    "version": 3
   },
   "file_extension": ".py",
   "mimetype": "text/x-python",
   "name": "python",
   "nbconvert_exporter": "python",
   "pygments_lexer": "ipython3",
   "version": "3.9.7"
  }
 },
 "nbformat": 4,
 "nbformat_minor": 5
}
