{
 "cells": [
  {
   "cell_type": "markdown",
   "id": "f7d3e4e4",
   "metadata": {},
   "source": [
    "# demo: Dragging graphics affects upstream quibs\n",
    "\n",
    " **A simple demo of interactive graphic assignments.**\n",
    "\n",
    "* **Features:**\n",
    "    * Graphic quibs in continuous mode\n",
    "    * Inverse assignments\n",
    "\n",
    "* **Try me:**\n",
    "    * Try dragging the red marker. Note the change in X,Y text coordinate.\n"
   ]
  },
  {
   "cell_type": "code",
   "execution_count": 9,
   "id": "4512d802",
   "metadata": {},
   "outputs": [],
   "source": [
    "from pyquibbler import iquib, override_all, q\n",
    "import matplotlib.pyplot as plt\n",
    "import numpy as np\n",
    "override_all()\n",
    "%matplotlib tk"
   ]
  },
  {
   "cell_type": "code",
   "execution_count": 11,
   "id": "95eb34af",
   "metadata": {},
   "outputs": [],
   "source": [
    "# Figure setup:\n",
    "fig1 = plt.figure(1, figsize=(4,4))\n",
    "fig1.clf()\n",
    "plt.axis('square');\n",
    "plt.axis([-10, 10, -10, 10]);"
   ]
  },
  {
   "cell_type": "code",
   "execution_count": 12,
   "id": "28498845",
   "metadata": {},
   "outputs": [],
   "source": [
    "# Define input quibs for X,Y coordinates:\n",
    "X = iquib(3)\n",
    "Y = iquib(4)"
   ]
  },
  {
   "cell_type": "code",
   "execution_count": 13,
   "id": "b52e90df",
   "metadata": {},
   "outputs": [],
   "source": [
    "# Plot a draggable dot at X, Y. \n",
    "# setting picker-True indicates that the point is draggable and dragging it changes X and Y:\n",
    "plt.plot(X, Y, 'ro', markersize=20, picker=True);"
   ]
  },
  {
   "cell_type": "code",
   "execution_count": 16,
   "id": "a31dcc62",
   "metadata": {},
   "outputs": [],
   "source": [
    "# Plot additional graphics based on X and Y.\n",
    "# these downstream graphics will change when the marker is moved:\n",
    "\n",
    "# Text:\n",
    "plt.text(-9,9,q('X={:.2f}, Y={:.2f}'.format,X,Y),fontsize=16,verticalalignment='top');\n",
    "\n",
    "# Rectangle:\n",
    "plt.plot(X*np.array([-1,1,1,-1,-1]),Y*np.array([-1,-1,1,1,-1]),'k--',linewidth=1);\n",
    "\n",
    "# Ellipse:\n",
    "tt = np.linspace(0,2*np.pi,50);\n",
    "xx = X*np.cos(tt);\n",
    "yy = Y*np.sin(tt);\n",
    "plt.plot(xx,yy,'r-',linewidth=4);"
   ]
  }
 ],
 "metadata": {
  "kernelspec": {
   "display_name": "Python 3 (ipykernel)",
   "language": "python",
   "name": "python3"
  },
  "language_info": {
   "codemirror_mode": {
    "name": "ipython",
    "version": 3
   },
   "file_extension": ".py",
   "mimetype": "text/x-python",
   "name": "python",
   "nbconvert_exporter": "python",
   "pygments_lexer": "ipython3",
   "version": "3.9.7"
  }
 },
 "nbformat": 4,
 "nbformat_minor": 5
}
