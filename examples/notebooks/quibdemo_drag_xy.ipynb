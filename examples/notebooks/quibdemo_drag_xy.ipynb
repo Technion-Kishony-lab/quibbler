{
 "cells": [
  {
   "cell_type": "markdown",
   "id": "f7d3e4e4",
   "metadata": {},
   "source": [
    "## Dragging graphics affects upstream quibs\n",
    "\n",
    " **A simple demo of interactive graphics-driven assignments.**\n",
    "\n",
    "* **Features:**\n",
    "    * Graphics quibs\n",
    "    * Graphics-driven assignments\n",
    "    * Inverse assignments\n",
    "\n",
    "* **Try me:**\n",
    "    * Try dragging the red marker; note the change in X,Y text, square, ellipse.\n"
   ]
  },
  {
   "cell_type": "code",
   "execution_count": 1,
   "id": "4512d802",
   "metadata": {},
   "outputs": [],
   "source": [
    "from pyquibbler import iquib, override_all, q\n",
    "import matplotlib.pyplot as plt\n",
    "import numpy as np\n",
    "override_all()\n",
    "%matplotlib tk"
   ]
  },
  {
   "cell_type": "code",
   "execution_count": 2,
   "id": "95eb34af",
   "metadata": {},
   "outputs": [],
   "source": [
    "# Figure setup:\n",
    "fig1 = plt.figure(figsize=(4, 3))\n",
    "plt.axis('square')\n",
    "plt.axis([-10, 10, -10, 10]);"
   ]
  },
  {
   "cell_type": "code",
   "execution_count": 3,
   "id": "28498845",
   "metadata": {},
   "outputs": [],
   "source": [
    "# Define input quibs for x-y coordinates:\n",
    "xy = iquib(np.array([3., 4.]))\n",
    "x = xy[0]\n",
    "y = xy[1]"
   ]
  },
  {
   "cell_type": "code",
   "execution_count": 4,
   "id": "786b06e2",
   "metadata": {},
   "outputs": [],
   "source": [
    "# Plot additional graphics based on x and y.\n",
    "# these downstream graphics will change when the marker is moved:\n",
    "\n",
    "# Text:\n",
    "plt.text(-9, 9, q('X={:.2f}, Y={:.2f}'.format, x, y), fontsize=16, va='top')\n",
    "\n",
    "# Rectangle:\n",
    "plt.plot(x * np.array([-1, 1, 1, -1, -1]), y * np.array([-1, -1, 1, 1, -1]), \n",
    "         'k--o', linewidth=1, picker=True)\n",
    "\n",
    "# Ellipse:\n",
    "phi = np.linspace(0, 2 * np.pi, 50)\n",
    "plt.plot(x * np.cos(phi), y * np.sin(phi), 'r-', linewidth=4);"
   ]
  },
  {
   "cell_type": "code",
   "execution_count": null,
   "id": "0a17a080-5ee3-4808-bdeb-86e4b0c48d91",
   "metadata": {},
   "outputs": [],
   "source": []
  }
 ],
 "metadata": {
  "kernelspec": {
   "display_name": "Python 3 (ipykernel)",
   "language": "python",
   "name": "python3"
  },
  "language_info": {
   "codemirror_mode": {
    "name": "ipython",
    "version": 3
   },
   "file_extension": ".py",
   "mimetype": "text/x-python",
   "name": "python",
   "nbconvert_exporter": "python",
   "pygments_lexer": "ipython3",
   "version": "3.10.4"
  }
 },
 "nbformat": 4,
 "nbformat_minor": 5
}
