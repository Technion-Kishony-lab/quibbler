{
 "cells": [
  {
   "cell_type": "markdown",
   "id": "491dbbee",
   "metadata": {},
   "source": [
    "## Signal analysis with random noise\n",
    "\n",
    " **A demo of a quib-based GUI for signal analysis.**\n",
    "\n",
    "* **Features**\n",
    "    * Random quibs\n",
    "    * Graphics-driven assignments\n",
    "    * Inverse assignments\n",
    "    * Linking quibs with matplotlib.widgets: Slider, RadioButtons\n",
    "\n",
    "\n",
    "* **Try me**\n",
    "    * Try dragging the triangle markers to specify the band-width.\n",
    "    * Try playing with the sliders, or specifying a different function with the radio buttons."
   ]
  },
  {
   "cell_type": "code",
   "execution_count": 1,
   "id": "4512d802",
   "metadata": {},
   "outputs": [],
   "source": [
    "from pyquibbler import iquib, override_all, q, quibbler_user_function, reset_impure_function_quibs\n",
    "from pyquibbler.quib.assignment import RangeAssignmentTemplate\n",
    "import matplotlib.pyplot as plt\n",
    "import matplotlib.patches as patches\n",
    "from matplotlib import widgets\n",
    "import numpy as np\n",
    "override_all()\n",
    "%matplotlib tk"
   ]
  },
  {
   "cell_type": "code",
   "execution_count": 2,
   "id": "8e736763",
   "metadata": {},
   "outputs": [],
   "source": [
    "# Total time (sec):\n",
    "total_time = iquib(100);\n",
    "\n",
    "# Number of time points (limited to even numbers between 0 and 1000):\n",
    "num_time_points = iquib(300,assignment_template=RangeAssignmentTemplate(start=0,stop=1000,step=2));\n",
    "\n",
    "# Time vector:\n",
    "t = np.linspace(0,total_time,num_time_points);\n",
    "\n",
    "# Period (sec):\n",
    "period = iquib(10);\n",
    "w = 2*np.pi/period;\n",
    "\n",
    "# Type of functions:\n",
    "nSin = iquib(3, assignment_template=RangeAssignmentTemplate(start=1,stop=13,step=2));\n",
    "signal_fnc_list = ['sin','square','triangle','sin^n']\n",
    "signal_fnc_chosen = iquib(1); \n",
    "\n",
    "# Signal as a function of time:\n",
    "@quibbler_user_function(True)\n",
    "def get_signal(t,w,chosen,n):\n",
    "    signal_sin = np.sin(w*t);\n",
    "    if   chosen==0:\n",
    "        return signal_sin \n",
    "    elif chosen==1:\n",
    "        return (signal_sin>0)*2 - 1\n",
    "    elif chosen==2:\n",
    "        return np.arcsin(signal_sin)\n",
    "    elif chosen==3:\n",
    "        return signal_sin ** n;\n",
    "    else:\n",
    "        assert(False)\n",
    "    \n",
    "signal = get_signal(t,w,signal_fnc_chosen,nSin);\n",
    "    \n",
    "# Add Noise:\n",
    "noise_amp = iquib(0);\n",
    "noise = noise_amp * np.random.randn(num_time_points);\n",
    "\n",
    "measurement = signal + noise;\n",
    "\n",
    "# Bandwidth:\n",
    "min_freq = iquib(0);\n",
    "max_freq = iquib(0.6);\n",
    "\n",
    "# FFT:\n",
    "spectrum = q(np.fft.fft,measurement);\n",
    "dfreqs = 1/total_time; # Frequency resolution\n",
    "freqs = np.concatenate([np.arange(0,(num_time_points-1)/2), np.arange(num_time_points/2,0,-1)]) * dfreqs  # Frequency vector\n",
    "\n",
    "# Apply band filter\n",
    "spectrum_filtered = spectrum * ((freqs>=min_freq) & (freqs<=max_freq));\n",
    "\n",
    "# Inverse FFT:\n",
    "S0 = q(np.fft.ifft,spectrum_filtered);\n"
   ]
  },
  {
   "cell_type": "code",
   "execution_count": 3,
   "id": "5c581f1a",
   "metadata": {},
   "outputs": [],
   "source": [
    "# figure setup:\n",
    "fig = plt.figure(1,figsize=(6,8))"
   ]
  },
  {
   "cell_type": "code",
   "execution_count": 4,
   "id": "70563964",
   "metadata": {},
   "outputs": [],
   "source": [
    "# signal vs time \n",
    "fig.clf()\n",
    "axs1 = fig.add_axes((0.15,0.78,0.75,0.2))\n",
    "axs1.set_ylim([np.min(measurement)-0.5-noise_amp, np.max(measurement)+0.5+noise_amp])\n",
    "axs1.set_xlim([0,total_time])\n",
    "axs1.set_xlabel('Time (sec)')\n",
    "axs1.set_ylabel('Signal')\n",
    "axs1.plot(t,np.real(measurement), '.-', color=[0.8,0,0])\n",
    "axs1.plot(t,np.real(S0), '.-', color=[0,0.7,0]);"
   ]
  },
  {
   "cell_type": "code",
   "execution_count": 5,
   "id": "c15946f3",
   "metadata": {},
   "outputs": [],
   "source": [
    "# spectrum\n",
    "axs2 = fig.add_axes((0.15,0.5,0.75,0.2))\n",
    "yl = np.max(np.abs(spectrum))*1.1;\n",
    "axs2.axis([-dfreqs,np.max(freqs)+dfreqs,0,yl]);\n",
    "axs2.set_xlabel('Frequency (1/sec)')\n",
    "axs2.set_ylabel('Amplitude')\n",
    "axs2.plot(freqs,np.abs(spectrum),'r.-')\n",
    "axs2.plot(freqs,np.abs(spectrum_filtered),'g.-')\n",
    "axs2.plot(min_freq,0,'k^',markersize=18, picker=True)\n",
    "axs2.plot(max_freq,0,'k^',markersize=18, picker=True);"
   ]
  },
  {
   "cell_type": "code",
   "execution_count": 6,
   "id": "c7d3b2e0",
   "metadata": {},
   "outputs": [],
   "source": [
    "# sliders of quibs:\n",
    "slider_axs = [fig.add_axes([0.3,0.2-i*0.04,0.5,0.02]) for i in range(5)]\n",
    "widgets.Slider(ax=slider_axs[0], label='Number of points', valmin=1, valmax=1000, valstep=2,   valinit=num_time_points)\n",
    "widgets.Slider(ax=slider_axs[1], label='Period',           valmin=0, valmax=20,   valstep=1,   valinit=period)\n",
    "widgets.Slider(ax=slider_axs[2], label='Total time',       valmin=0, valmax=200,  valstep=5,   valinit=total_time)\n",
    "widgets.Slider(ax=slider_axs[3], label='Noise amplitude',  valmin=0, valmax=2,    valstep=0.1, valinit=noise_amp)\n",
    "widgets.Slider(ax=slider_axs[4], label='Power of sin',     valmin=1, valmax=13,   valstep=1,   valinit=nSin);\n",
    "\n",
    "# Make the 'Power of sin' slider visible only when signal_fnc_chosen==3:\n",
    "is_sinN = q(lambda x:x==3,signal_fnc_chosen)\n",
    "a = slider_axs[4].set_visible(is_sinN);"
   ]
  },
  {
   "cell_type": "code",
   "execution_count": 7,
   "id": "8c13b596",
   "metadata": {},
   "outputs": [],
   "source": [
    "# radio buttons to choose function:\n",
    "axs_radio = fig.add_axes([0.3,0.25,0.5,0.14])\n",
    "btns = widgets.RadioButtons(\n",
    "    ax=axs_radio, labels=signal_fnc_list, active=signal_fnc_chosen)"
   ]
  },
  {
   "cell_type": "code",
   "execution_count": null,
   "id": "c9ecaab5",
   "metadata": {},
   "outputs": [],
   "source": [
    "# Randomization button\n",
    "randomize_button = widgets.Button(\n",
    "    ax=fig.add_axes([0.05,0.26,0.2,0.03], xticks=[], yticks=[]), \n",
    "    label='Randomize')\n",
    "randomize_button.on_clicked(lambda x: reset_impure_function_quibs());"
   ]
  }
 ],
 "metadata": {
  "kernelspec": {
   "display_name": "Python 3 (ipykernel)",
   "language": "python",
   "name": "python3"
  },
  "language_info": {
   "codemirror_mode": {
    "name": "ipython",
    "version": 3
   },
   "file_extension": ".py",
   "mimetype": "text/x-python",
   "name": "python",
   "nbconvert_exporter": "python",
   "pygments_lexer": "ipython3",
   "version": "3.10.0"
  }
 },
 "nbformat": 4,
 "nbformat_minor": 5
}
