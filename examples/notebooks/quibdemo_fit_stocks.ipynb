{
 "cells": [
  {
   "cell_type": "markdown",
   "id": "491dbbee",
   "metadata": {},
   "source": [
    "## Simple quib-app for image analysis\n",
    "\n",
    "**A simple demo of a quib-based GUI with matplotlib.widgets.RectangleSelector.**\n",
    "\n",
    "* **Features**\n",
    "    * Graphics quibs\n",
    "    * Graphics-driven assignments\n",
    "    * Inverse assignments\n",
    "\n",
    "* **Try me**\n",
    "    * Try dragging the Region of Interest (ROI) in the main image or dragging/resizing the rectangle around the cut image in the second figure. \n",
    "    * The ROI and downstream analysis showing the RGB components of the ROI will update.\n",
    "\n"
   ]
  },
  {
   "cell_type": "code",
   "execution_count": 14,
   "id": "5d7bb894",
   "metadata": {},
   "outputs": [],
   "source": [
    "from pyquibbler import iquib, override_all, q\n",
    "override_all()\n",
    "\n",
    "import matplotlib.pyplot as plt\n",
    "import numpy as np\n",
    "import os\n",
    "from matplotlib.widgets import Slider\n",
    "%matplotlib tk"
   ]
  },
  {
   "cell_type": "code",
   "execution_count": 15,
   "id": "700ee193",
   "metadata": {},
   "outputs": [
    {
     "data": {
      "text/plain": [
       "QSlider(ax=<Axes:>, valmin=0, valmax=5, valinit=n, valstep=1, label='degree')"
      ]
     },
     "execution_count": 15,
     "metadata": {},
     "output_type": "execute_result"
    }
   ],
   "source": [
    "from datetime import datetime\n",
    "\n",
    "t_init = datetime.strptime('2000-01-01','%Y-%m-%d').timestamp()\n",
    "str2date = lambda x: (datetime.strptime(x.decode(\"utf-8\"), '%Y-%m-%d').timestamp() - t_init)/(365*24*60*60) + 2000\n",
    "filename = iquib('../data_files/AAPL.csv')\n",
    "d = np.genfromtxt(filename,delimiter=',', names=True, converters = {0: str2date})\n",
    "\n",
    "plt.figure()\n",
    "plt.axis([2017, 2022, 0, 200])\n",
    "\n",
    "t = d['Date']\n",
    "y = d['Open']\n",
    "plt.plot(t, y, 'g', lw=1)\n",
    "\n",
    "t0 = iquib(np.array([2018., 2020.]))\n",
    "n = iquib(2)\n",
    "fit_range = (t >= t0[0]) & (t <= t0[1])\n",
    "p = np.polyfit(t[fit_range], y[fit_range], n)\n",
    "plt.plot(t[fit_range], np.polyval(p, t[fit_range]), 'r-')\n",
    "\n",
    "extrapulate_range = t > t0[1]\n",
    "plt.plot(t[extrapulate_range], np.polyval(p, t[extrapulate_range]), 'r:')\n",
    "plt.plot(t0, [0, 0], 'k^', ms=16, picker=True)\n",
    "plt.plot(t0[[0, 0]], [0, np.polyval(p, t0[0])], 'k--', lw=1)\n",
    "plt.plot(t0[[1, 1]], [0, np.polyval(p, t0[1])], 'k--', lw=1)\n",
    "\n",
    "ax = plt.axes([0.3, 0.8, 0.3, 0.03])\n",
    "Slider(ax=ax, valmin=0, valmax=5, valinit=n, valstep=1, label='degree')"
   ]
  },
  {
   "cell_type": "code",
   "execution_count": null,
   "id": "c2437bfc",
   "metadata": {},
   "outputs": [],
   "source": [
    "from datetime import datetime\n",
    "\n",
    "t_init = datetime.strptime('2000-01-01','%Y-%m-%d').timestamp()\n",
    "str2date = lambda x: (datetime.strptime(x.decode(\"utf-8\"), '%Y-%m-%d').timestamp() - t_init)/(365*24*60*60) + 2000\n",
    "filename = iquib('../data_files/AAPL.csv')\n",
    "d = np.genfromtxt(filename,delimiter=',', names=True, converters = {0: str2date})\n",
    "\n",
    "plt.figure()\n",
    "plt.axis([2017, 2022, 0, 200])\n",
    "\n",
    "t = d['Date']\n",
    "y = d['Open']\n",
    "plt.plot(t, y, 'g', lw=1)\n",
    "\n",
    "t0 = iquib(2019.)\n",
    "dt = iquib(1.)\n",
    "t_boundaries = dt * np.array([-1, 1]) + t0\n",
    "n = iquib(2)\n",
    "fit_range = (t >= t_boundaries[0]) & (t <= t_boundaries[1])\n",
    "p = np.polyfit(t[fit_range], y[fit_range], n)\n",
    "plt.plot(t[fit_range], np.polyval(p, t[fit_range]), 'r-')\n",
    "\n",
    "extrapulate_range = t > t_boundaries[1]\n",
    "plt.plot(t[extrapulate_range], np.polyval(p, t[extrapulate_range]), 'r:')\n",
    "plt.text(t0, 16, q(lambda t: datetime.fromtimestamp(t).strftime(\"%Y-%m-%d\") ,(t0-2000)*(365*24*60*60)+t_init ), ha='center')\n",
    "plt.plot(t_boundaries[[0,0]], [0, np.polyval(p, t_boundaries[0])], 'k--', lw=1, picker=True)\n",
    "plt.plot(t_boundaries[[1,1]], [0, np.polyval(p, t_boundaries[1])], 'k--', lw=1, picker=True)\n",
    "plt.plot(t_boundaries, [6, 6], 'c-', lw=0.5)\n",
    "plt.plot(t0, 6, 'cd', ms=10, picker=True)\n",
    "\n",
    "ax = plt.axes([0.3, 0.8, 0.3, 0.03])\n",
    "Slider(ax=ax, valmin=0, valmax=5, valinit=n, valstep=1, label='degree')"
   ]
  },
  {
   "cell_type": "code",
   "execution_count": 13,
   "id": "540f26dd",
   "metadata": {},
   "outputs": [],
   "source": [
    "plt.axis([0, 2, 0, 2])\n",
    "xy = iquib(np.array([1., 1.]))\n",
    "x = xy[0]\n",
    "y = xy[1]\n",
    "plt.plot(x, y, marker='o', picker=True)\n",
    "plt.text(x, y + 0.05, np.array2string(xy, precision=2));"
   ]
  }
 ],
 "metadata": {
  "kernelspec": {
   "display_name": "Python 3 (ipykernel)",
   "language": "python",
   "name": "python3"
  },
  "language_info": {
   "codemirror_mode": {
    "name": "ipython",
    "version": 3
   },
   "file_extension": ".py",
   "mimetype": "text/x-python",
   "name": "python",
   "nbconvert_exporter": "python",
   "pygments_lexer": "ipython3",
   "version": "3.9.7"
  }
 },
 "nbformat": 4,
 "nbformat_minor": 5
}
