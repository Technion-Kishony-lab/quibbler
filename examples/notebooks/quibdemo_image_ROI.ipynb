{
 "cells": [
  {
   "cell_type": "markdown",
   "id": "491dbbee",
   "metadata": {},
   "source": [
    "# demo: Simple quib-app for image ROI\n",
    "\n",
    "**A simple demo of a quib-based GUI with matplotlib.widgets.RectangleSelector.**\n",
    "\n",
    "* **Features**\n",
    "    * Graphic quibs\n",
    "    * Graphic-driven assignments\n",
    "    * Inverse assignments\n",
    "\n",
    "* **Try me**\n",
    "    * Try dragging the Region of Interest (ROI) in the main image or dragging/resizing the rectangle around the cut image in the second figure. \n",
    "    * The ROI and downstream analysis showing the RGB components of the ROI will update.\n",
    "\n"
   ]
  },
  {
   "cell_type": "code",
   "execution_count": 1,
   "id": "5d7bb894",
   "metadata": {},
   "outputs": [],
   "source": [
    "from pyquibbler import iquib, override_all, q\n",
    "override_all() # override numpy to work with quibs\n",
    "import matplotlib.pyplot as plt\n",
    "from matplotlib.widgets import RectangleSelector\n",
    "import numpy as np\n",
    "import os\n",
    "%matplotlib tk"
   ]
  },
  {
   "cell_type": "code",
   "execution_count": 2,
   "id": "ed87db7e",
   "metadata": {},
   "outputs": [],
   "source": [
    "# Load an image:\n",
    "filename = iquib(os.path.join('..','data_files','bacteria_in_droplets.tif')) # <-- input\n",
    "img = plt.imread(filename);"
   ]
  },
  {
   "cell_type": "code",
   "execution_count": 3,
   "id": "f140208b",
   "metadata": {},
   "outputs": [],
   "source": [
    "# Show image:\n",
    "plt.figure()\n",
    "axs1 = plt.gca()\n",
    "axs1.imshow(img);"
   ]
  },
  {
   "cell_type": "code",
   "execution_count": 4,
   "id": "563477de",
   "metadata": {},
   "outputs": [],
   "source": [
    "# Define and plot a rectangle Region of Interest (ROI)\n",
    "ROI = iquib(np.array([236, 436, 362, 462])); # <-- input: xmin, xmax, ymin, ymax\n",
    "RectangleSelector(axs1, extents=ROI, rectprops=dict(edgecolor='w', alpha=0.7, fill=False, linewidth=3));"
   ]
  },
  {
   "cell_type": "code",
   "execution_count": 5,
   "id": "9da0f98b",
   "metadata": {},
   "outputs": [],
   "source": [
    "# Extract and plot the ROI from the main image:\n",
    "#img_cut = q(lambda im,r:im[r[2]:r[3],r[0]:r[1],:],img,ROI)\n",
    "img_cut = img[ROI[2]:ROI[3],ROI[0]:ROI[1],:]\n",
    "fig = plt.figure()\n",
    "axs2 = fig.add_axes([0.05,0.55,0.35,0.4])\n",
    "axs2.imshow(img_cut)\n",
    "\n",
    "# Add a rectangle ROI around the extracted image:\n",
    "RectangleSelector(axs2, extents=ROI-ROI[[0,0,2,2]], rectprops=dict(edgecolor='black', alpha=0.7, fill=False, linewidth=3));"
   ]
  },
  {
   "cell_type": "code",
   "execution_count": 6,
   "id": "2da03fc3",
   "metadata": {},
   "outputs": [],
   "source": [
    "# Threshold each of the RGB channels:\n",
    "thresholds_rgb = iquib(np.array([160,170,150])) # <-- input: RGB thresholds\n",
    "thresholded_image = img_cut > np.reshape(thresholds_rgb,(1,1,3))\n",
    "axs3 = fig.add_axes([0.05,0.05,0.35,0.4])\n",
    "axs3.imshow(thresholded_image*1.);"
   ]
  },
  {
   "cell_type": "code",
   "execution_count": 7,
   "id": "020877ff",
   "metadata": {},
   "outputs": [],
   "source": [
    "# Calculate area above threshold\n",
    "fraction_above_threshold = np.average(thresholded_image, (0,1)); \n",
    "axs4 = fig.add_axes([0.6,0.4,0.3,0.55])\n",
    "axs4.bar([1,2,3], fraction_above_threshold*100, color=['r','g','b'])\n",
    "axs4.set_xlim([0.5,3.5])\n",
    "axs4.set_ylim([0,1.5])\n",
    "axs4.set_ylabel('Total detected area, %');\n",
    "axs4.set_xticks([1,2,3])\n",
    "axs4.set_xticklabels(['Red','Green','Blue']);"
   ]
  },
  {
   "cell_type": "code",
   "execution_count": 8,
   "id": "e4c50632",
   "metadata": {},
   "outputs": [],
   "source": [
    "thresholds_rgb[1] = 80"
   ]
  },
  {
   "cell_type": "code",
   "execution_count": 9,
   "id": "d92451da",
   "metadata": {},
   "outputs": [
    {
     "data": {
      "text/plain": [
       "<PlotGraphicsFunctionQuib - plot>"
      ]
     },
     "execution_count": 9,
     "metadata": {},
     "output_type": "execute_result"
    }
   ],
   "source": [
    "axs5 = fig.add_axes([0.6,0.05,0.3,0.2])\n",
    "axs5.axis([0.5,3.5,0,255])\n",
    "axs5.plot([1,2,3],thresholds_rgb,'sk',markersize=16, markerfacecolor='k',picker=True)"
   ]
  },
  {
   "cell_type": "code",
   "execution_count": 10,
   "id": "670c0a75",
   "metadata": {},
   "outputs": [
    {
     "data": {
      "text/plain": [
       "<ReplacingGraphicsFunctionQuib - set_ylim>"
      ]
     },
     "execution_count": 10,
     "metadata": {},
     "output_type": "execute_result"
    }
   ],
   "source": [
    "axs4.set_ylim([0,np.max(fraction_above_threshold*100)*1.1])"
   ]
  },
  {
   "cell_type": "code",
   "execution_count": 11,
   "id": "5f076f36",
   "metadata": {},
   "outputs": [],
   "source": [
    "log_thresholds_rgb = np.log2(thresholds_rgb)"
   ]
  },
  {
   "cell_type": "code",
   "execution_count": 12,
   "id": "e510c6d8",
   "metadata": {},
   "outputs": [
    {
     "data": {
      "text/plain": [
       "<Figure size 640x480 with 0 Axes>"
      ]
     },
     "execution_count": 12,
     "metadata": {},
     "output_type": "execute_result"
    }
   ],
   "source": [
    "plt.figure()"
   ]
  },
  {
   "cell_type": "code",
   "execution_count": 13,
   "id": "f44c24f4",
   "metadata": {},
   "outputs": [
    {
     "data": {
      "text/plain": [
       "<PlotGraphicsFunctionQuib - plot>"
      ]
     },
     "execution_count": 13,
     "metadata": {},
     "output_type": "execute_result"
    }
   ],
   "source": [
    "plt.axis([0.5,3.5,0,8])\n",
    "plt.plot([1,2,3],log_thresholds_rgb,'sk',markersize=16, markerfacecolor='k',picker=True)"
   ]
  },
  {
   "cell_type": "code",
   "execution_count": 14,
   "id": "e2e3c480",
   "metadata": {},
   "outputs": [
    {
     "data": {
      "text/plain": [
       "array([1])"
      ]
     },
     "execution_count": 14,
     "metadata": {},
     "output_type": "execute_result"
    }
   ],
   "source": [
    "a = iquib(1)\n",
    "b = iquib(np.array([[1,2,3]]))\n",
    "b[0,0:a].get_value()"
   ]
  },
  {
   "cell_type": "code",
   "execution_count": 15,
   "id": "3f387019",
   "metadata": {},
   "outputs": [
    {
     "name": "stderr",
     "output_type": "stream",
     "text": [
      "Traceback (most recent call last):\n",
      "  File \"/Users/roykishony/opt/anaconda3/lib/python3.8/site-packages/matplotlib/backends/_backend_tk.py\", line 113, in blit\n",
      "    photoimage.tk.call(_blit_tcl_name, argsid)\n",
      "_tkinter.TclError: invalid command name \"pyimage10\"\n",
      "\n",
      "During handling of the above exception, another exception occurred:\n",
      "\n",
      "Traceback (most recent call last):\n",
      "  File \"/Users/roykishony/opt/anaconda3/lib/python3.8/site-packages/matplotlib/cbook/__init__.py\", line 270, in process\n",
      "    func(*args, **kwargs)\n",
      "  File \"/Users/roykishony/opt/anaconda3/lib/python3.8/site-packages/matplotlib/widgets.py\", line 1855, in onmove\n",
      "    self._onmove(event)\n",
      "  File \"/Users/roykishony/pyquibbler/pyquibbler/quib/graphics/widgets/rectangle_selector.py\", line 48, in _onmove\n",
      "    return super()._onmove(event)\n",
      "  File \"/Users/roykishony/opt/anaconda3/lib/python3.8/site-packages/matplotlib/widgets.py\", line 2454, in _onmove\n",
      "    self.extents = x1, x2, y1, y2\n",
      "  File \"/Users/roykishony/pyquibbler/pyquibbler/quib/graphics/widgets/rectangle_selector.py\", line 66, in extents\n",
      "    self.changed_callback(self.extents)\n",
      "  File \"/Users/roykishony/pyquibbler/pyquibbler/quib/graphics/widgets/rectangle_selector.py\", line 79, in _on_changed\n",
      "    init_val[:] = extents\n",
      "  File \"/Users/roykishony/pyquibbler/pyquibbler/quib/quib.py\", line 214, in __setitem__\n",
      "    self.assign(Assignment(value=value, path=[PathComponent(component=key, indexed_cls=self.get_type())]))\n",
      "  File \"/Users/roykishony/pyquibbler/pyquibbler/quib/function_quibs/function_quib.py\", line 146, in assign\n",
      "    get_overrides_for_assignment(self, assignment).apply()\n",
      "  File \"/Users/roykishony/pyquibbler/pyquibbler/quib/override_choice/types.py\", line 47, in apply\n",
      "    override.override()\n",
      "  File \"/Users/roykishony/pyquibbler/pyquibbler/quib/assignment/assignment.py\", line 58, in override\n",
      "    self.quib.override(self.assignment, allow_overriding_from_now_on=False)\n",
      "  File \"/Users/roykishony/pyquibbler/pyquibbler/quib/quib.py\", line 172, in override\n",
      "    self.invalidate_and_redraw_at_path(assignment.path)\n",
      "  File \"/Users/roykishony/pyquibbler/pyquibbler/quib/quib.py\", line 108, in invalidate_and_redraw_at_path\n",
      "    self.__redraw()\n",
      "  File \"/Users/roykishony/pyquibbler/pyquibbler/quib/quib.py\", line 98, in __redraw\n",
      "    redraw_axes(axes)\n",
      "  File \"/Users/roykishony/pyquibbler/pyquibbler/quib/graphics/redraw.py\", line 33, in redraw_axes\n",
      "    axes.figure.canvas.draw()\n",
      "  File \"/Users/roykishony/opt/anaconda3/lib/python3.8/site-packages/matplotlib/backends/backend_tkagg.py\", line 10, in draw\n",
      "    self.blit()\n",
      "  File \"/Users/roykishony/opt/anaconda3/lib/python3.8/site-packages/matplotlib/backends/backend_tkagg.py\", line 13, in blit\n",
      "    _backend_tk.blit(self._tkphoto, self.renderer.buffer_rgba(),\n",
      "  File \"/Users/roykishony/opt/anaconda3/lib/python3.8/site-packages/matplotlib/backends/_backend_tk.py\", line 118, in blit\n",
      "    photoimage.tk.call(_blit_tcl_name, argsid)\n",
      "_tkinter.TclError\n",
      "ERROR:tornado.application:Exception in callback functools.partial(<function Kernel.enter_eventloop.<locals>.advance_eventloop at 0x7fa420541f70>)\n",
      "Traceback (most recent call last):\n",
      "  File \"/Users/roykishony/opt/anaconda3/lib/python3.8/site-packages/matplotlib/backends/_backend_tk.py\", line 113, in blit\n",
      "    photoimage.tk.call(_blit_tcl_name, argsid)\n",
      "_tkinter.TclError: invalid command name \"pyimage10\"\n",
      "\n",
      "During handling of the above exception, another exception occurred:\n",
      "\n",
      "Traceback (most recent call last):\n",
      "  File \"/Users/roykishony/opt/anaconda3/lib/python3.8/site-packages/tornado/ioloop.py\", line 741, in _run_callback\n",
      "    ret = callback()\n",
      "  File \"/Users/roykishony/opt/anaconda3/lib/python3.8/site-packages/ipykernel/kernelbase.py\", line 402, in advance_eventloop\n",
      "    eventloop(self)\n",
      "  File \"/Users/roykishony/opt/anaconda3/lib/python3.8/site-packages/ipykernel/eventloops.py\", line 242, in loop_tk\n",
      "    app.mainloop()\n",
      "  File \"/Users/roykishony/opt/anaconda3/lib/python3.8/tkinter/__init__.py\", line 1429, in mainloop\n",
      "    self.tk.mainloop(n)\n",
      "  File \"/Users/roykishony/opt/anaconda3/lib/python3.8/site-packages/matplotlib/backends/_backend_tk.py\", line 63, in _blit\n",
      "    photoimage, dataptr, offsets, bboxptr, blank = _blit_args.pop(argsid)\n",
      "KeyError: '140342544315952'\n"
     ]
    }
   ],
   "source": [
    "i0 = iquib(3)\n",
    "i1 = iquib(2)\n",
    "m = q(np.ones,(i0,i1))"
   ]
  }
 ],
 "metadata": {
  "kernelspec": {
   "display_name": "Python 3 (ipykernel)",
   "language": "python",
   "name": "python3"
  },
  "language_info": {
   "codemirror_mode": {
    "name": "ipython",
    "version": 3
   },
   "file_extension": ".py",
   "mimetype": "text/x-python",
   "name": "python",
   "nbconvert_exporter": "python",
   "pygments_lexer": "ipython3",
   "version": "3.8.8"
  }
 },
 "nbformat": 4,
 "nbformat_minor": 5
}
