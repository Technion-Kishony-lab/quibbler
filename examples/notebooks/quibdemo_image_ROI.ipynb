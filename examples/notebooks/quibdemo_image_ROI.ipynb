{
 "cells": [
  {
   "cell_type": "markdown",
   "id": "491dbbee",
   "metadata": {},
   "source": [
    "# demo: Simple quib-app for image ROI\n",
    "\n",
    "**A simple demo of a quib-based GUI with matplotlib.widgets.RectangleSelector.**\n",
    "\n",
    "* **Features**\n",
    "    * Graphic quibs\n",
    "    * Graphic-driven assignments\n",
    "    * Inverse assignments\n",
    "\n",
    "* **Try me**\n",
    "    * Try dragging the Region of Interest (ROI) in the main image or dragging/resizing the rectangle around the cut image in the second figure. \n",
    "    * The ROI and downstream analysis showing the RGB components of the ROI will update.\n",
    "\n"
   ]
  },
  {
   "cell_type": "code",
   "execution_count": 1,
   "id": "5d7bb894",
   "metadata": {},
   "outputs": [],
   "source": [
    "from pyquibbler import iquib, override_all, q\n",
    "override_all()\n",
    "import matplotlib.pyplot as plt\n",
    "from matplotlib.widgets import RectangleSelector\n",
    "import numpy as np\n",
    "import os\n",
    "%matplotlib tk"
   ]
  },
  {
   "cell_type": "code",
   "execution_count": 2,
   "id": "f140208b",
   "metadata": {},
   "outputs": [],
   "source": [
    "plt.figure()\n",
    "\n",
    "# Load and plot an image:\n",
    "axs1 = plt.gca()\n",
    "filename = iquib(os.path.join('..','data_files','bacteria_in_droplets.tif'));\n",
    "img = plt.imread(filename);\n",
    "axs1.imshow(img);"
   ]
  },
  {
   "cell_type": "code",
   "execution_count": 3,
   "id": "563477de",
   "metadata": {},
   "outputs": [],
   "source": [
    "# Define and plot rectangle ROI\n",
    "ROI = iquib(np.array([236, 336, 362, 462]));\n",
    "\n",
    "RectangleSelector(axs1, extents=ROI, rectprops=dict(edgecolor='w', alpha=0.7, fill=False, linewidth=3));"
   ]
  },
  {
   "cell_type": "code",
   "execution_count": null,
   "id": "020877ff",
   "metadata": {},
   "outputs": [],
   "source": [
    "# Extract and plot the ROI from the main image:\n",
    "img_cut = q(lambda im,roi: im[roi[2]:roi[3],roi[0]:roi[1],:],img,ROI)\n",
    "\n",
    "fig = plt.figure()\n",
    "axs2 = fig.add_axes([0.1,0.1,0.3,0.8])\n",
    "axs2.imshow(img_cut)\n",
    "axs2.set_xticks([])\n",
    "axs2.set_yticks([])\n",
    "\n",
    "# Add a rectangle ROI around the extracted image:\n",
    "RectangleSelector(axs2, extents=ROI-ROI[[0,0,2,2]], rectprops=dict(edgecolor='black', alpha=0.7, fill=False, linewidth=3));\n",
    "\n",
    "# Do some downstream analysis on the ROI:\n",
    "thresholds = iquib(np.array([160,170,150]).reshape(1,1,3))\n",
    "avgRGB = np.average(img_cut>thresholds, (0,1));\n",
    "axs3 = fig.add_axes([0.6,0.1,0.3,0.8])\n",
    "plt.bar([1,2,3],avgRGB*100,color=['r','g','b'])\n",
    "axs3.set_ylim([0,1.5])\n",
    "axs3.set_ylabel('Total detected area, %');\n",
    "axs3.set_xticks([1,2,3])\n",
    "axs3.set_xticklabels(['Red','Green','Blue']);"
   ]
  },
  {
   "cell_type": "code",
   "execution_count": 5,
   "id": "dd732b04",
   "metadata": {},
   "outputs": [],
   "source": [
    "plt.show()"
   ]
  },
  {
   "cell_type": "code",
   "execution_count": null,
   "id": "bce78029",
   "metadata": {},
   "outputs": [],
   "source": []
  }
 ],
 "metadata": {
  "kernelspec": {
   "display_name": "Python 3 (ipykernel)",
   "language": "python",
   "name": "python3"
  },
  "language_info": {
   "codemirror_mode": {
    "name": "ipython",
    "version": 3
   },
   "file_extension": ".py",
   "mimetype": "text/x-python",
   "name": "python",
   "nbconvert_exporter": "python",
   "pygments_lexer": "ipython3",
   "version": "3.9.7"
  }
 },
 "nbformat": 4,
 "nbformat_minor": 5
}
