{
 "cells": [
  {
   "cell_type": "markdown",
   "id": "491dbbee",
   "metadata": {},
   "source": [
    "## Simple quib-app for image analysis\n",
    "\n",
    "**A simple demo of a quib-based GUI.**\n",
    "\n",
    "* **Features**\n",
    "    * Graphics quibs\n",
    "    * Graphics-driven assignments\n",
    "    * Inverse assignments\n",
    "\n",
    "* **Try me**\n",
    "    * Try dragging the RGB threshold values.\n",
    "\n"
   ]
  },
  {
   "cell_type": "code",
   "execution_count": 1,
   "id": "66451ae0",
   "metadata": {},
   "outputs": [],
   "source": [
    "from pyquibbler import iquib, override_all, q\n",
    "override_all()"
   ]
  },
  {
   "cell_type": "code",
   "execution_count": 2,
   "id": "5d7bb894",
   "metadata": {},
   "outputs": [],
   "source": [
    "import matplotlib.pyplot as plt\n",
    "import numpy as np\n",
    "import os\n",
    "%matplotlib tk"
   ]
  },
  {
   "cell_type": "code",
   "execution_count": 3,
   "id": "ed87db7e",
   "metadata": {},
   "outputs": [],
   "source": [
    "# Load an image:\n",
    "filename = iquib(os.path.join('..','data_files','bacteria_in_a_droplet.tif')) # <-- input\n",
    "img = plt.imread(filename);\n",
    "\n",
    "# Show the image:\n",
    "plt.figure()\n",
    "ax = plt.subplot(2, 2, 1)\n",
    "ax.imshow(img);\n",
    "\n",
    "# Threshold each of the RGB channels:\n",
    "thresholds_rgb = iquib(np.array([160,170,150])) # <-- input: RGB thresholds\n",
    "img01 = img > np.reshape(thresholds_rgb,(1,1,3))\n",
    "\n",
    "# Plot the thresholded image:\n",
    "plt.subplot(2, 2, 3)\n",
    "plt.imshow(img01 * 1.);\n",
    "\n",
    "# Calculate fraction of area above threshold for each color:\n",
    "fraction_above_threshold = np.average(img01, (0,1)); \n",
    "\n",
    "# Plot detected areas:\n",
    "ax = plt.subplot(2, 2, 2)\n",
    "ax.bar([1, 2, 3], fraction_above_threshold*100, color=list('rgb'))\n",
    "ax.axis([0.5, 3.5, 0, 1.5])\n",
    "\n",
    "# Plot the thresholds\n",
    "ax = plt.subplot(2, 2, 4)\n",
    "ax.axis([0.5, 3.5, 0, 8])\n",
    "ax.xaxis.grid(True)\n",
    "ax.plot([1, 2, 3], thresholds_rgb, 'sk', markersize=16, \n",
    "        markerfacecolor='k', picker=True);"
   ]
  },
  {
   "cell_type": "code",
   "execution_count": 5,
   "id": "5364c885",
   "metadata": {},
   "outputs": [],
   "source": [
    "# Show thresholds on log scale:\n",
    "log_thresholds_rgb = np.log2(thresholds_rgb)\n",
    "\n",
    "fg = plt.figure(figsize=(4,3))\n",
    "ax = fg.gca()\n",
    "ax.plot([1,2,3], log_thresholds_rgb, 'sk', markersize=16, markerfacecolor='k', picker=True);ax = plt.gca()\n",
    "ax.axis([0.5,3.5,0,8])\n",
    "ax.xaxis.grid(True)\n",
    "ax.set_xticks([1,2,3]);"
   ]
  }
 ],
 "metadata": {
  "kernelspec": {
   "display_name": "Python 3 (ipykernel)",
   "language": "python",
   "name": "python3"
  },
  "language_info": {
   "codemirror_mode": {
    "name": "ipython",
    "version": 3
   },
   "file_extension": ".py",
   "mimetype": "text/x-python",
   "name": "python",
   "nbconvert_exporter": "python",
   "pygments_lexer": "ipython3",
   "version": "3.9.7"
  }
 },
 "nbformat": 4,
 "nbformat_minor": 5
}
