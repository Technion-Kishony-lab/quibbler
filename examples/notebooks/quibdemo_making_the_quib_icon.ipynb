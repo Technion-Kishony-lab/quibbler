{
 "cells": [
  {
   "cell_type": "code",
   "execution_count": 55,
   "id": "94ec065b",
   "metadata": {},
   "outputs": [],
   "source": [
    "from pyquibbler import iquib, override_all, quibbler_user_function, q, q_graphics, CacheBehavior\n",
    "from pyquibbler.quib.assignment import RangeAssignmentTemplate\n",
    "override_all()\n",
    "import numpy as np\n",
    "import matplotlib.pyplot as plt\n",
    "import matplotlib.widgets as widgets\n",
    "%matplotlib tk"
   ]
  },
  {
   "cell_type": "code",
   "execution_count": 47,
   "id": "1d3c32c3",
   "metadata": {},
   "outputs": [],
   "source": [
    "def getIcon0(par):\n",
    "    def tet2xy(tet1,tet2,x0,y0,dx,dy):\n",
    "        tet = np.linspace(tet1,tet2,50)*2*np.pi/360;\n",
    "        return np.vstack([\n",
    "            x0 + np.cos(tet)*dx,\n",
    "            y0 + np.sin(tet)*dy\n",
    "            ])\n",
    "    \n",
    "    def add2pth(xy):\n",
    "        nonlocal XY\n",
    "        XY = np.hstack([XY, [[np.NaN],[np.NaN]], xy]);\n",
    "\n",
    "    XY = np.zeros((2,1))\n",
    "    # (\n",
    "    add2pth(tet2xy(90-par['qbExtend'], 270-par['qbExtend'], -par['Width'], 0, par['qbCurve'], 1));\n",
    "\n",
    "    # |\n",
    "    add2pth(np.vstack([-np.array([[1,1]])*par['Width'], np.array([par['qbLineDown'],par['qbLineUp']])]));\n",
    "\n",
    "    # U\n",
    "    add2pth(tet2xy(par['uiAngle1'],360+par['uiAngle2'],-np.sqrt(3./4.)*par['uiWidth'],1,par['uiWidth'],2));\n",
    "\n",
    "    # reflect\n",
    "    add2pth(-XY)\n",
    "    \n",
    "    return XY"
   ]
  },
  {
   "cell_type": "code",
   "execution_count": 61,
   "id": "ef19bf7e",
   "metadata": {},
   "outputs": [
    {
     "data": {
      "text/plain": [
       "<SliderGraphicsFunctionQuib - Slider>"
      ]
     },
     "execution_count": 61,
     "metadata": {},
     "output_type": "execute_result"
    },
    {
     "name": "stderr",
     "output_type": "stream",
     "text": [
      "Traceback (most recent call last):\n",
      "  File \"/Users/roeekishony/.conda/envs/pyquibbler/lib/python3.9/site-packages/matplotlib/backends/_backend_tk.py\", line 113, in blit\n",
      "    photoimage.tk.call(_blit_tcl_name, argsid)\n",
      "_tkinter.TclError: invalid command name \"pyimage50\"\n",
      "\n",
      "During handling of the above exception, another exception occurred:\n",
      "\n",
      "Traceback (most recent call last):\n",
      "  File \"/Users/roeekishony/.conda/envs/pyquibbler/lib/python3.9/site-packages/matplotlib/cbook/__init__.py\", line 270, in process\n",
      "    func(*args, **kwargs)\n",
      "  File \"/Users/roeekishony/Git/pyquibbler/pyquibbler/quib/graphics/event_handling/canvas_event_handler.py\", line 81, in _handle_motion_notify\n",
      "    self._inverse_assign_graphics(self.current_pick_event.artist, mouse_event)\n",
      "  File \"/Users/roeekishony/Git/pyquibbler/pyquibbler/quib/graphics/event_handling/canvas_event_handler.py\", line 55, in _inverse_assign_graphics\n",
      "    graphics_inverse_assigner.inverse_assign_drawing_func(drawing_func=drawing_func,\n",
      "  File \"/Users/roeekishony/.conda/envs/pyquibbler/lib/python3.9/contextlib.py\", line 126, in __exit__\n",
      "    next(self.gen)\n",
      "  File \"/Users/roeekishony/Git/pyquibbler/pyquibbler/quib/graphics/redraw.py\", line 21, in aggregate_redraw_mode\n",
      "    redraw_axes(axes)\n",
      "  File \"/Users/roeekishony/Git/pyquibbler/pyquibbler/quib/graphics/redraw.py\", line 33, in redraw_axes\n",
      "    axes.figure.canvas.draw()\n",
      "  File \"/Users/roeekishony/.conda/envs/pyquibbler/lib/python3.9/site-packages/matplotlib/backends/backend_tkagg.py\", line 10, in draw\n",
      "    self.blit()\n",
      "  File \"/Users/roeekishony/.conda/envs/pyquibbler/lib/python3.9/site-packages/matplotlib/backends/backend_tkagg.py\", line 13, in blit\n",
      "    _backend_tk.blit(self._tkphoto, self.renderer.buffer_rgba(),\n",
      "  File \"/Users/roeekishony/.conda/envs/pyquibbler/lib/python3.9/site-packages/matplotlib/backends/_backend_tk.py\", line 118, in blit\n",
      "    photoimage.tk.call(_blit_tcl_name, argsid)\n",
      "_tkinter.TclError\n",
      "ERROR:tornado.application:Exception in callback functools.partial(<function Kernel.enter_eventloop.<locals>.advance_eventloop at 0x7fea1002ee50>)\n",
      "Traceback (most recent call last):\n",
      "  File \"/Users/roeekishony/.conda/envs/pyquibbler/lib/python3.9/site-packages/matplotlib/backends/_backend_tk.py\", line 113, in blit\n",
      "    photoimage.tk.call(_blit_tcl_name, argsid)\n",
      "_tkinter.TclError: invalid command name \"pyimage50\"\n",
      "\n",
      "During handling of the above exception, another exception occurred:\n",
      "\n",
      "Traceback (most recent call last):\n",
      "  File \"/Users/roeekishony/.conda/envs/pyquibbler/lib/python3.9/site-packages/tornado/ioloop.py\", line 741, in _run_callback\n",
      "    ret = callback()\n",
      "  File \"/Users/roeekishony/.conda/envs/pyquibbler/lib/python3.9/site-packages/ipykernel/kernelbase.py\", line 402, in advance_eventloop\n",
      "    eventloop(self)\n",
      "  File \"/Users/roeekishony/.conda/envs/pyquibbler/lib/python3.9/site-packages/ipykernel/eventloops.py\", line 242, in loop_tk\n",
      "    app.mainloop()\n",
      "  File \"/Users/roeekishony/.conda/envs/pyquibbler/lib/python3.9/tkinter/__init__.py\", line 1429, in mainloop\n",
      "    self.tk.mainloop(n)\n",
      "  File \"/Users/roeekishony/.conda/envs/pyquibbler/lib/python3.9/site-packages/matplotlib/backends/_backend_tk.py\", line 63, in _blit\n",
      "    photoimage, dataptr, offsets, bboxptr, blank = _blit_args.pop(argsid)\n",
      "KeyError: '140643035831408'\n"
     ]
    }
   ],
   "source": [
    "icon_props = iquib({\n",
    "    'LineWidth':   20,\n",
    "    'Width':       2.9,\n",
    "    'qbCurve':     1.5,\n",
    "    'qbLineDown': -3.3,\n",
    "    'qbLineUp':    0.9,\n",
    "    'qbExtend':    0,\n",
    "    'uiAngle1':    177,\n",
    "    'uiAngle2':    -49,\n",
    "    'uiWidth':     1,\n",
    "})\n",
    "\n",
    "color = iquib(np.array([ 79,113,191])/255);\n",
    "fig = plt.figure(figsize=(5,7))\n",
    "axs = fig.add_axes([0.1,0.4,0.8,0.55])\n",
    "xy = q(getIcon0, icon_props)\n",
    "axs.plot(xy[0],xy[1],linewidth=icon_props['LineWidth'], color=color);\n",
    "axs.axis('equal')\n",
    "\n",
    "axs.plot(icon_props['Width'], 0, 'dk', markersize=20, picker=True)\n",
    "axs.plot(icon_props['Width'], -icon_props['qbLineDown'], '^k', markersize=20, picker=True)\n",
    "axs.plot(icon_props['uiWidth'], 1, 'dk', markersize=20, picker=True)\n",
    "tet1 = icon_props['uiAngle1'] * (2*np.pi/360)\n",
    "tet2 = icon_props['uiAngle2'] * (2*np.pi/360)\n",
    "#axs.plot(-np.cos(tet1)*icon_props['uiWidth']+np.sqrt(3./4.)*icon_props['uiWidth'],-np.sin(tet1)*2-1, 'ok', markersize=10, picker=True)\n",
    "axs.plot(-np.cos(tet2)*icon_props['uiWidth']+np.sqrt(3./4.)*icon_props['uiWidth'],-np.sin(tet2)*2-1, 'ok', markersize=10, picker=True)\n",
    "\n",
    "axs = fig.add_axes([0.1,0.3,0.8,0.02])\n",
    "widgets.Slider(ax=axs, valmin=1, valmax=40, label='line width', valinit=icon_props['LineWidth'])\n"
   ]
  }
 ],
 "metadata": {
  "kernelspec": {
   "display_name": "Python 3 (ipykernel)",
   "language": "python",
   "name": "python3"
  },
  "language_info": {
   "codemirror_mode": {
    "name": "ipython",
    "version": 3
   },
   "file_extension": ".py",
   "mimetype": "text/x-python",
   "name": "python",
   "nbconvert_exporter": "python",
   "pygments_lexer": "ipython3",
   "version": "3.9.7"
  }
 },
 "nbformat": 4,
 "nbformat_minor": 5
}
