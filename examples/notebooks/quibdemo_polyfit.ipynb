{
 "cells": [
  {
   "cell_type": "markdown",
   "id": "491dbbee",
   "metadata": {},
   "source": [
    "# demo: Multi-point dragging and widgets.\n",
    "\n",
    "Plot and fit multiple individually-draggable data points.\n",
    "\n",
    "* **Features**\n",
    "    * Graphic-based assignments of multiple points independently\n",
    "    * Inverse assignments\n",
    "    * Assignment template\n",
    "    \n",
    "    \n",
    "* **Try me:**\n",
    "    Try dragging the data points, or changing the degree of the fit with the slider."
   ]
  },
  {
   "cell_type": "code",
   "execution_count": 1,
   "id": "23e50e0d",
   "metadata": {},
   "outputs": [],
   "source": [
    "from pyquibbler import iquib, override_all, q\n",
    "import matplotlib.pyplot as plt\n",
    "from matplotlib import widgets\n",
    "import numpy as np\n",
    "override_all()\n",
    "%matplotlib tk"
   ]
  },
  {
   "cell_type": "code",
   "execution_count": 2,
   "id": "f63db4d9",
   "metadata": {},
   "outputs": [],
   "source": [
    "plt.figure(figsize=[10, 7])\n",
    "\n",
    "num_points = iquib(10)\n",
    "\n",
    "x = np.arange(0., num_points)\n",
    "y = 100. - x**2 + 5 * np.random.randn(num_points)\n",
    "x.allow_overriding = True\n",
    "y.allow_overriding = True # BUG: doesn't override y\n",
    "\n",
    "n = iquib(2)\n",
    "\n",
    "axfreq = plt.axes([0.25, 0.1, 0.65, 0.03])\n",
    "freq_slider = widgets.Slider(\n",
    "    ax=axfreq,\n",
    "    label='Freq',\n",
    "    valmin=0,\n",
    "    valmax=5,\n",
    "    valstep=1,\n",
    "    valinit=n\n",
    ")\n",
    "axfreq.text(0, -1, q(\"poly deg {:.0f}\".format, n))\n",
    "\n",
    "ax = plt.axes([0.2, 0.2, 0.7, .6])\n",
    "\n",
    "\n",
    "ax.plot(x, y, marker='o', markersize=12, markerfacecolor='y',\n",
    "        linestyle='None', picker=True, pickradius=15)\n",
    "\n",
    "\n",
    "pf = np.polyfit(x, y, n)\n",
    "x0 = np.linspace(q(min, x), q(max, x), 30)\n",
    "y0 = np.polyval(pf, x0)\n",
    "plt.plot(x0, y0, 'k-');"
   ]
  }
 ],
 "metadata": {
  "kernelspec": {
   "display_name": "Python 3 (ipykernel)",
   "language": "python",
   "name": "python3"
  },
  "language_info": {
   "codemirror_mode": {
    "name": "ipython",
    "version": 3
   },
   "file_extension": ".py",
   "mimetype": "text/x-python",
   "name": "python",
   "nbconvert_exporter": "python",
   "pygments_lexer": "ipython3",
   "version": "3.9.7"
  }
 },
 "nbformat": 4,
 "nbformat_minor": 5
}
