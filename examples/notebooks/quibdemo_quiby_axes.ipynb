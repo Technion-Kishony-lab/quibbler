{
 "cells": [
  {
   "cell_type": "markdown",
   "id": "491dbbee",
   "metadata": {
    "tags": []
   },
   "source": [
    "## Quiby setting of axes limits\n",
    "\n",
    "**Implement inverse assignment from axis limits.**\n",
    "\n",
    "* **Features**\n",
    "    * Quib setting of axes limits\n",
    "    * Graphics-driven inverse assignment from axis limit changes.\n",
    "\n",
    "* **Try me**\n",
    "    * Try panning or zooming into the axes.\n",
    "    * Try dragging the vertical line seperator."
   ]
  },
  {
   "cell_type": "code",
   "execution_count": null,
   "id": "5dc0e2e4",
   "metadata": {
    "tags": []
   },
   "outputs": [],
   "source": [
    "from pyquibbler import iquib, q, override_all, undo, redo\n",
    "override_all()\n",
    "from matplotlib import pyplot as plt\n",
    "import numpy as np\n",
    "%matplotlib tk"
   ]
  },
  {
   "cell_type": "code",
   "execution_count": null,
   "id": "9480f6a3-047f-461b-a107-349936f99722",
   "metadata": {},
   "outputs": [],
   "source": [
    "fig = plt.figure()\n",
    "\n",
    "x_limits_fixed = np.array([0., 10.])\n",
    "y_limits_fixed = np.array([-5., 5.])\n",
    "x_seperator = iquib(3.)\n",
    "\n",
    "y_limits = iquib(y_limits_fixed)\n",
    "\n",
    "func = lambda x: np.sqrt(x) * np.sin(np.sqrt(x) / 0.02)\n",
    "\n",
    "xx = np.linspace(x_limits_fixed[0], x_limits_fixed[1], 800)\n",
    "yy = func(xx)\n",
    "\n",
    "# top panel:\n",
    "ax0 = fig.add_subplot(2, 1, 1)\n",
    "ax0.plot(xx, yy, 'r-')\n",
    "ax0.set_xlim(x_limits_fixed)\n",
    "ax0.set_ylim(y_limits_fixed)\n",
    "ax0.plot(x_seperator + np.array([0, 0]), y_limits_fixed, '--k', picker=True)\n",
    "\n",
    "# left panel:\n",
    "ax1 = fig.add_subplot(2, 2, 3)\n",
    "ax1.plot(xx, yy, 'r-')\n",
    "ax1.set_xlim(x_limits_fixed[0], x_seperator)\n",
    "ax1.set_ylim(y_limits)\n",
    "\n",
    "# right panel:\n",
    "ax2 = fig.add_subplot(2, 2, 4)\n",
    "ax2.plot(xx, yy, 'r-')\n",
    "ax2.set_xlim(x_seperator, x_limits_fixed[1])\n",
    "ax2.set_ylim(y_limits);"
   ]
  }
 ],
 "metadata": {
  "kernelspec": {
   "display_name": "Python 3 (ipykernel)",
   "language": "python",
   "name": "python3"
  },
  "language_info": {
   "codemirror_mode": {
    "name": "ipython",
    "version": 3
   },
   "file_extension": ".py",
   "mimetype": "text/x-python",
   "name": "python",
   "nbconvert_exporter": "python",
   "pygments_lexer": "ipython3",
   "version": "3.9.7"
  }
 },
 "nbformat": 4,
 "nbformat_minor": 5
}
