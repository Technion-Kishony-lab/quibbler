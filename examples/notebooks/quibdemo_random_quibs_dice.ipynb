{
 "cells": [
  {
   "cell_type": "markdown",
   "id": "491dbbee",
   "metadata": {},
   "source": [
    "## Quibs of random functions - dice rolling\n",
    "\n",
    "**A demo of a quib-based analysis involving random numbers**\n",
    "\n",
    "* **Features**\n",
    "    * Random quibs\n",
    "    * Assignment template\n",
    "    * Graphics-driven assignments\n",
    "    * Quib-linked widgets\n",
    "\n",
    "\n",
    "* **Try me**\n",
    "    * Try playing with the number of dice or the number of rolling.\n",
    "    * Try pressing 'Randomize' to re-randomize random-function quibs. "
   ]
  },
  {
   "cell_type": "code",
   "execution_count": 1,
   "id": "5d7bb894",
   "metadata": {},
   "outputs": [],
   "source": [
    "from pyquibbler import iquib, override_all, q, quiby_function, reset_random_quibs\n",
    "override_all()\n",
    "\n",
    "import matplotlib.pyplot as plt\n",
    "from matplotlib.widgets import Slider, Button\n",
    "import numpy as np\n",
    "\n",
    "%matplotlib tk"
   ]
  },
  {
   "cell_type": "code",
   "execution_count": 2,
   "id": "36ae5429",
   "metadata": {},
   "outputs": [],
   "source": [
    "# Inputs\n",
    "num_dice = iquib(2)\n",
    "num_rolls = iquib(500)\n",
    "num_sides = iquib(6)\n",
    "results = np.random.randint(1, num_sides + 1, (num_rolls, num_dice));"
   ]
  },
  {
   "cell_type": "code",
   "execution_count": 3,
   "id": "74c936eb",
   "metadata": {},
   "outputs": [],
   "source": [
    "# Prepare figure\n",
    "fg = plt.figure()\n",
    "ax = fg.add_axes([0.15, 0.3, 0.7, 0.65])\n",
    "ax.set_xlabel('Sum of ' + q(str, num_dice) + ' dice' )\n",
    "ax.set_ylabel('Number of rolls');"
   ]
  },
  {
   "cell_type": "code",
   "execution_count": 4,
   "id": "c9b1365e",
   "metadata": {},
   "outputs": [],
   "source": [
    "# Histogram of sum of the dice in each roll\n",
    "sum_dice = np.sum(results, axis=1)\n",
    "plt.hist(sum_dice, bins=np.arange(num_dice - 0.5, num_dice * num_sides + 1.5), \n",
    "         ec='k', facecolor=[0.7, 0.7, 0.7])\n",
    "ax.set_xlim([num_dice - 0.7, num_dice*num_sides + 0.7]);"
   ]
  },
  {
   "cell_type": "code",
   "execution_count": 5,
   "id": "7ba32a1e",
   "metadata": {},
   "outputs": [],
   "source": [
    "# Plot exact distribution\n",
    "def p_sum_dice(n_dice, n_sides, total):\n",
    "    # Returns the probability of getting a sum n when rolling num_dice dice with num_sides sides\n",
    "    if n_dice == 1:\n",
    "        # equal probability for each outcome \n",
    "        ps = np.zeros(total.shape)\n",
    "        ps[(1 <= total) & (total <= n_sides)] = 1 / n_sides \n",
    "        return ps\n",
    "    return sum(1/n_sides * p_sum_dice(n_dice - 1, n_sides, total-outcome) \n",
    "               for outcome in range(1, n_sides+1)) \n",
    "\n",
    "xx = np.arange(num_dice,num_dice*num_sides+1)\n",
    "p = q(p_sum_dice,num_dice,num_sides,xx)\n",
    "ax.plot(xx,p*num_rolls,'mo-');"
   ]
  },
  {
   "cell_type": "code",
   "execution_count": 6,
   "id": "93611c62",
   "metadata": {},
   "outputs": [],
   "source": [
    "# Plot normal approximation\n",
    "@quiby_function()\n",
    "def p_normal(m,s,x):\n",
    "    return 1 / s / np.sqrt(2 * np.pi) * np.exp(-0.5 * ((x - m) / s)**2)\n",
    "\n",
    "std = np.std(np.arange(1, num_sides + 1))\n",
    "mean = np.average(np.arange(1, num_sides + 1))\n",
    "se = std * np.sqrt(num_dice)\n",
    "mn = mean * num_dice\n",
    "xx = np.linspace(num_dice, num_dice*num_sides, 100)\n",
    "p = p_normal(mn, se, xx)\n",
    "ax.plot(xx, p*num_rolls, 'r-');"
   ]
  },
  {
   "cell_type": "code",
   "execution_count": 7,
   "id": "2c3d45b7",
   "metadata": {},
   "outputs": [],
   "source": [
    "# set ylim to max expected + 2 std\n",
    "mx_count_expected = p_normal(mn,se,mn) * num_rolls\n",
    "ax.set_ylim([0, mx_count_expected + 2 * np.sqrt(mx_count_expected)]);"
   ]
  },
  {
   "cell_type": "code",
   "execution_count": 8,
   "id": "ec4a18c1",
   "metadata": {},
   "outputs": [],
   "source": [
    "# legend\n",
    "plt.legend(['theoretical','normal','observed']);"
   ]
  },
  {
   "cell_type": "code",
   "execution_count": 9,
   "id": "dfe1a692",
   "metadata": {
    "scrolled": true
   },
   "outputs": [],
   "source": [
    "# Add slider controls\n",
    "Slider(ax=fg.add_axes([0.23, 0.15, 0.4, 0.03]), label='Number of dice', \n",
    "       valmin=1, valmax=5, valinit=num_dice, valstep=1)\n",
    "Slider(ax=fg.add_axes([0.23, 0.10, 0.4, 0.03]), label='Number of rolls', \n",
    "       valmin=10, valmax=1000, valinit=num_rolls, valstep=10);"
   ]
  },
  {
   "cell_type": "code",
   "execution_count": null,
   "id": "473390b3",
   "metadata": {
    "pycharm": {
     "is_executing": true
    }
   },
   "outputs": [],
   "source": [
    "# Add randomize button\n",
    "randomize = Button(fg.add_axes([0.23, 0.03, 0.16, 0.05]),'Randomize')\n",
    "randomize.on_clicked(lambda x: reset_random_quibs());"
   ]
  }
 ],
 "metadata": {
  "kernelspec": {
   "display_name": "Python 3 (ipykernel)",
   "language": "python",
   "name": "python3"
  },
  "language_info": {
   "codemirror_mode": {
    "name": "ipython",
    "version": 3
   },
   "file_extension": ".py",
   "mimetype": "text/x-python",
   "name": "python",
   "nbconvert_exporter": "python",
   "pygments_lexer": "ipython3",
   "version": "3.10.4"
  }
 },
 "nbformat": 4,
 "nbformat_minor": 5
}