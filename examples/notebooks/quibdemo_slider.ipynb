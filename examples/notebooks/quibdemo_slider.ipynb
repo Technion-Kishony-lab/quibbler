{
  "cells": [
    {
      "cell_type": "markdown",
      "id": "a168add2",
      "metadata": {},
      "source": [
        "## Create a GUI by connecting quibs with widgets\n",
        "\n",
        "**A simple demo of a quib-linked GUI with matplotlib.widgets.slider.**\n",
        "\n",
        "* **Features:**\n",
        "    * Quib-linked widgets\n",
        "    * Inverse assignments"
      ]
    },
    {
      "cell_type": "code",
      "execution_count": 1,
      "id": "4512d802",
      "metadata": {},
      "outputs": [],
      "source": [
        "from pyquibbler import iquib, override_all, q\n",
        "import matplotlib.pyplot as plt\n",
        "from matplotlib import widgets\n",
        "import numpy as np\n",
        "override_all()\n",
        "%matplotlib tk"
      ]
    },
    {
      "cell_type": "code",
      "execution_count": 2,
      "id": "95eb34af",
      "metadata": {},
      "outputs": [],
      "source": [
        "# Figure setup:\n",
        "fig = plt.figure(figsize=(4,6))\n",
        "\n",
        "axs = fig.add_axes([0,0.36,1,0.64])\n",
        "axs.axis('square');\n",
        "axs.axis((-10,10,-10,10));\n",
        "axs.axis('off')\n",
        "\n",
        "axs_slider1 = fig.add_axes([0.3,0.16,0.55,0.03])\n",
        "axs_slider2 = fig.add_axes([0.3,0.06,0.55,0.03])"
      ]
    },
    {
      "cell_type": "code",
      "execution_count": 3,
      "id": "5fc7bbd6",
      "metadata": {},
      "outputs": [],
      "source": [
        "# Defining quib input variables:\n",
        "nPoints = iquib(120);\n",
        "nCycles = iquib(30);\n",
        "\n",
        "# Define downstream function quib calculations based on the quib inputs:\n",
        "phi = np.linspace(0,2*np.pi*nCycles,nPoints);\n",
        "r = np.linspace(0,10,nPoints);\n",
        "\n",
        "# Plot the data:\n",
        "axs.plot(r*np.cos(phi),r*np.sin(phi),'r-');"
      ]
    },
    {
      "cell_type": "code",
      "execution_count": 4,
      "id": "7b597301",
      "metadata": {},
      "outputs": [],
      "source": [
        "# Create quib-linked slider widgets:\n",
        "widgets.Slider(\n",
        "    ax=axs_slider1, label='nCycles', valmin=0, valmax=200, valstep=1, valinit=nCycles);\n",
        "widgets.Slider(\n",
        "    ax=axs_slider2, label='nPoints', valmin=0, valmax=200, valstep=1, valinit=nPoints);"
      ]
    },
    {
      "cell_type": "code",
      "execution_count": 5,
      "id": "cdf76066-a555-4a2b-8ee0-7bf42fcd2f83",
      "metadata": {},
      "outputs": [],
      "source": [
        "nCycles.assign(40)"
      ]
    },
    {
      "cell_type": "code",
      "execution_count": null,
      "id": "1a2e962c-910b-4653-b622-09bee9565c47",
      "metadata": {},
      "outputs": [],
      "source": []
    }
  ],
  "metadata": {
    "kernelspec": {
      "display_name": "Python 3 (ipykernel)",
      "language": "python",
      "name": "python3"
    },
    "language_info": {
      "codemirror_mode": {
        "name": "ipython",
        "version": 3
      },
      "file_extension": ".py",
      "mimetype": "text/x-python",
      "name": "python",
      "nbconvert_exporter": "python",
      "pygments_lexer": "ipython3",
      "version": "3.8.11"
    },
    "quibs_archive": "UEsDBBQAAAAIAAptqFRHBo+6EQAAAA8AAAALAAAAblBvaW50cy50eHQrLM1M0kssLs5Mz9MwNNAEAFBLAQIUAxQAAAAIAAptqFRHBo+6EQAAAA8AAAALAAAAAAAAAAAAAACkgQAAAABuUG9pbnRzLnR4dFBLBQYAAAAAAQABADkAAAA6AAAAAAA="
  },
  "nbformat": 4,
  "nbformat_minor": 5
}