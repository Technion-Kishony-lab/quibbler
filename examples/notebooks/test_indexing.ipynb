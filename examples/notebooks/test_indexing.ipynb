{
 "cells": [
  {
   "cell_type": "markdown",
   "id": "491dbbee",
   "metadata": {},
   "source": [
    "# demo: Simple quib-app for image ROI\n",
    "\n",
    "**A simple demo of a quib-based GUI with matplotlib.widgets.RectangleSelector.**\n",
    "\n",
    "* **Features**\n",
    "    * Graphic quibs\n",
    "    * Graphic-driven assignments\n",
    "    * Inverse assignments\n",
    "\n",
    "* **Try me**\n",
    "    * Try dragging the Region of Interest (ROI) in the main image or dragging/resizing the rectangle around the cut image in the second figure. \n",
    "    * The ROI and downstream analysis showing the RGB components of the ROI will update.\n",
    "\n"
   ]
  },
  {
   "cell_type": "code",
   "execution_count": 2,
   "id": "5d7bb894",
   "metadata": {},
   "outputs": [],
   "source": [
    "from pyquibbler import iquib, override_all, q\n",
    "override_all() # override numpy to work with quibs\n",
    "import matplotlib.pyplot as plt\n",
    "from matplotlib.widgets import RectangleSelector\n",
    "import numpy as np\n",
    "import os\n",
    "%matplotlib tk"
   ]
  },
  {
   "cell_type": "code",
   "execution_count": 14,
   "id": "c86974c6",
   "metadata": {},
   "outputs": [],
   "source": [
    "img = iquib(np.zeros((8,8)));"
   ]
  },
  {
   "cell_type": "code",
   "execution_count": 15,
   "id": "563477de",
   "metadata": {},
   "outputs": [],
   "source": [
    "ROI = iquib(np.array([4]));"
   ]
  },
  {
   "cell_type": "code",
   "execution_count": 16,
   "id": "54bdcbf3",
   "metadata": {},
   "outputs": [],
   "source": [
    "img_cut = img[0:ROI[0],:]"
   ]
  },
  {
   "cell_type": "code",
   "execution_count": 17,
   "id": "de599e3e",
   "metadata": {},
   "outputs": [
    {
     "data": {
      "text/plain": [
       "(4, 8)"
      ]
     },
     "execution_count": 17,
     "metadata": {},
     "output_type": "execute_result"
    }
   ],
   "source": [
    "np.shape(img_cut.get_value())"
   ]
  },
  {
   "cell_type": "code",
   "execution_count": 19,
   "id": "f98fa870",
   "metadata": {},
   "outputs": [
    {
     "data": {
      "text/plain": [
       "(3, 8)"
      ]
     },
     "execution_count": 19,
     "metadata": {},
     "output_type": "execute_result"
    }
   ],
   "source": [
    "ROI[0] = 3\n",
    "np.shape(img_cut.get_value())"
   ]
  }
 ],
 "metadata": {
  "kernelspec": {
   "display_name": "Python 3 (ipykernel)",
   "language": "python",
   "name": "python3"
  },
  "language_info": {
   "codemirror_mode": {
    "name": "ipython",
    "version": 3
   },
   "file_extension": ".py",
   "mimetype": "text/x-python",
   "name": "python",
   "nbconvert_exporter": "python",
   "pygments_lexer": "ipython3",
   "version": "3.8.8"
  }
 },
 "nbformat": 4,
 "nbformat_minor": 5
}
