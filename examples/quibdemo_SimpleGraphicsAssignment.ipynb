{
 "cells": [
  {
   "cell_type": "markdown",
   "id": "f7d3e4e4",
   "metadata": {},
   "source": [
    "# demo: Dragging graphics to affect upstream quibs\n",
    "\n",
    " **A simple demo of interactive graphic assignments.**\n",
    "\n",
    "Features:\n",
    "* Graphic quibs in continuous mode\n",
    "* Inverse assignments\n"
   ]
  },
  {
   "cell_type": "code",
   "execution_count": 1,
   "id": "4512d802",
   "metadata": {},
   "outputs": [],
   "source": [
    "from pyquibbler import iquib, override_all, q\n",
    "import matplotlib.pyplot as plt\n",
    "import numpy as np\n",
    "override_all()\n",
    "%matplotlib tk"
   ]
  },
  {
   "cell_type": "code",
   "execution_count": 2,
   "id": "5c581f1a",
   "metadata": {},
   "outputs": [],
   "source": [
    "# Figure setup:\n",
    "fig1 = plt.figure(1,figsize=(4,4))"
   ]
  },
  {
   "cell_type": "code",
   "execution_count": 3,
   "id": "95eb34af",
   "metadata": {},
   "outputs": [],
   "source": [
    "fig1.clf()\n",
    "plt.axis('square');\n",
    "plt.axis([-10,10,-10,10]);"
   ]
  },
  {
   "cell_type": "code",
   "execution_count": 4,
   "id": "28498845",
   "metadata": {},
   "outputs": [],
   "source": [
    "# Define quib coordinates:\n",
    "X = iquib(3)\n",
    "Y = iquib(4)"
   ]
  },
  {
   "cell_type": "code",
   "execution_count": 5,
   "id": "b52e90df",
   "metadata": {},
   "outputs": [],
   "source": [
    "# Plot a dot at X, Y (moving the dot will change X and Y):\n",
    "plt.plot(X,Y,'ro',markersize=20,picker=True);"
   ]
  },
  {
   "cell_type": "code",
   "execution_count": 6,
   "id": "a9f2c28a",
   "metadata": {},
   "outputs": [],
   "source": [
    "# plot additional graphics based on X and Y\n",
    "# (these downstream graphics will change when the marker is moved):\n",
    "\n",
    "# Text:\n",
    "plt.text(-9,9,q('X={:.2f}, Y={:.2f}'.format,X,Y),fontsize=16,verticalalignment='top');"
   ]
  },
  {
   "cell_type": "code",
   "execution_count": 7,
   "id": "8e69d850",
   "metadata": {},
   "outputs": [],
   "source": [
    "# Rectangle:\n",
    "plt.plot(X*np.array([-1,1,1,-1,-1]),Y*np.array([-1,-1,1,1,-1]),'k--',linewidth=1);"
   ]
  },
  {
   "cell_type": "code",
   "execution_count": 8,
   "id": "a31dcc62",
   "metadata": {},
   "outputs": [],
   "source": [
    "# Ellipse:\n",
    "tt = np.linspace(0,2*np.pi,50);\n",
    "xx = X*np.cos(tt);\n",
    "yy = Y*np.sin(tt);\n",
    "plt.plot(xx,yy,'r-',linewidth=4);"
   ]
  }
 ],
 "metadata": {
  "kernelspec": {
   "display_name": "Python 3 (ipykernel)",
   "language": "python",
   "name": "python3"
  },
  "language_info": {
   "codemirror_mode": {
    "name": "ipython",
    "version": 3
   },
   "file_extension": ".py",
   "mimetype": "text/x-python",
   "name": "python",
   "nbconvert_exporter": "python",
   "pygments_lexer": "ipython3",
   "version": "3.9.7"
  }
 },
 "nbformat": 4,
 "nbformat_minor": 5
}
