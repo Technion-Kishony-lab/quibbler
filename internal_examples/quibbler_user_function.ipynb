{
 "cells": [
  {
   "cell_type": "code",
   "execution_count": 1,
   "id": "4377f396-d757-444d-9d69-6eed83960ef7",
   "metadata": {},
   "outputs": [],
   "source": [
    "from pyquibbler import iquib, quibbler_user_function, override_all\n",
    "import matplotlib.pyplot as plt"
   ]
  },
  {
   "cell_type": "code",
   "execution_count": 2,
   "id": "ff678f42-d546-43ab-b537-22f29320fc46",
   "metadata": {},
   "outputs": [],
   "source": [
    "override_all()"
   ]
  },
  {
   "cell_type": "code",
   "execution_count": 3,
   "id": "8cb3c23c-ea7d-456f-abd6-19190b39f875",
   "metadata": {},
   "outputs": [],
   "source": [
    "my_quib = iquib([1, 2, 3, 4])"
   ]
  },
  {
   "cell_type": "code",
   "execution_count": 4,
   "id": "1b19ef81-d900-4c5d-b51c-9cf0d1db55c2",
   "metadata": {},
   "outputs": [],
   "source": [
    "@quibbler_user_function(evaluate_now=False)\n",
    "def plot_a_few_stuff(q):\n",
    "    plt.plot(q)"
   ]
  },
  {
   "cell_type": "code",
   "execution_count": 5,
   "id": "4c411530-9c25-49ff-80aa-afe9503403c0",
   "metadata": {},
   "outputs": [],
   "source": [
    "plot_quib = plot_a_few_stuff(my_quib)"
   ]
  },
  {
   "cell_type": "code",
   "execution_count": 6,
   "id": "841d3ca9-2710-4a9b-8a8a-dcb3ab27873d",
   "metadata": {},
   "outputs": [
    {
     "data": {
      "image/png": "[encoded data removed]",
      "text/plain": [
       "<Figure size 432x288 with 1 Axes>"
      ]
     },
     "metadata": {
      "needs_background": "light"
     },
     "output_type": "display_data"
    },
    {
     "name": "stdout",
     "output_type": "stream",
     "text": [
      "Line2D() None\n",
      "Line2D() None\n",
      "Text(0, 0, '') None\n",
      "Line2D() None\n",
      "Text(0, 0, '') None\n",
      "<matplotlib.axis.XTick object at 0x10f9528b0> AxesSubplot(0.125,0.125;0.775x0.755)\n",
      "Text(1, 0, '') None\n",
      "Text(0, 0, '') None\n",
      "Text(1, 0, '') None\n",
      "Line2D() None\n",
      "Line2D() None\n",
      "XAxis(54.0,36.0) AxesSubplot(0.125,0.125;0.775x0.755)\n",
      "Text(0, 1, '') None\n",
      "Text(0.5, 0, '') None\n",
      "Line2D() None\n",
      "Spine AxesSubplot(0.125,0.125;0.775x0.755)\n",
      "Text(1, 0, '') None\n",
      "Line2D(_line0) AxesSubplot(0.125,0.125;0.775x0.755)\n",
      "Text(0, 0, '') None\n",
      "Line2D() None\n",
      "Spine AxesSubplot(0.125,0.125;0.775x0.755)\n",
      "Line2D() None\n",
      "Text(0, 1, '') None\n",
      "Text(0, 0, '') None\n",
      "Line2D() None\n",
      "Text(0.5, 1.0, '') AxesSubplot(0.125,0.125;0.775x0.755)\n",
      "YAxis(54.0,36.0) AxesSubplot(0.125,0.125;0.775x0.755)\n",
      "Text(1, 0, '') None\n",
      "Text(0.0, 1.0, '') AxesSubplot(0.125,0.125;0.775x0.755)\n",
      "AxesSubplot(0.125,0.125;0.775x0.755) AxesSubplot(0.125,0.125;0.775x0.755)\n",
      "<matplotlib.axis.YTick object at 0x10f94c4c0> AxesSubplot(0.125,0.125;0.775x0.755)\n",
      "Line2D() None\n",
      "Text(0, 0, '') None\n",
      "Line2D() None\n",
      "Figure(432x288) [<AxesSubplot:>]\n"
     ]
    },
    {
     "ename": "TypeError",
     "evalue": "unhashable type: 'list'",
     "output_type": "error",
     "traceback": [
      "\u001b[0;31m---------------------------------------------------------------------------\u001b[0m",
      "\u001b[0;31mTypeError\u001b[0m                                 Traceback (most recent call last)",
      "\u001b[0;32m/var/folders/sm/4x6mtw190k74v0k02tnr6xj80000gn/T/ipykernel_67790/146720200.py\u001b[0m in \u001b[0;36m<module>\u001b[0;34m\u001b[0m\n\u001b[1;32m      1\u001b[0m \u001b[0mplt\u001b[0m\u001b[0;34m.\u001b[0m\u001b[0mgca\u001b[0m\u001b[0;34m(\u001b[0m\u001b[0;34m)\u001b[0m\u001b[0;34m\u001b[0m\u001b[0;34m\u001b[0m\u001b[0m\n\u001b[1;32m      2\u001b[0m \u001b[0mplt\u001b[0m\u001b[0;34m.\u001b[0m\u001b[0mpause\u001b[0m\u001b[0;34m(\u001b[0m\u001b[0;36m0.1\u001b[0m\u001b[0;34m)\u001b[0m\u001b[0;34m\u001b[0m\u001b[0;34m\u001b[0m\u001b[0m\n\u001b[0;32m----> 3\u001b[0;31m \u001b[0mplot_quib\u001b[0m\u001b[0;34m.\u001b[0m\u001b[0mget_value\u001b[0m\u001b[0;34m(\u001b[0m\u001b[0;34m)\u001b[0m\u001b[0;34m\u001b[0m\u001b[0;34m\u001b[0m\u001b[0m\n\u001b[0m",
      "\u001b[0;32m~/Documents/pyquibbler/pyquibbler/quib/default_function_quib.py\u001b[0m in \u001b[0;36mget_value\u001b[0;34m(self)\u001b[0m\n\u001b[1;32m     58\u001b[0m \u001b[0;34m\u001b[0m\u001b[0m\n\u001b[1;32m     59\u001b[0m         \u001b[0mstart_time\u001b[0m \u001b[0;34m=\u001b[0m \u001b[0mperf_counter\u001b[0m\u001b[0;34m(\u001b[0m\u001b[0;34m)\u001b[0m\u001b[0;34m\u001b[0m\u001b[0;34m\u001b[0m\u001b[0m\n\u001b[0;32m---> 60\u001b[0;31m         \u001b[0mresult\u001b[0m \u001b[0;34m=\u001b[0m \u001b[0mself\u001b[0m\u001b[0;34m.\u001b[0m\u001b[0m_call_func\u001b[0m\u001b[0;34m(\u001b[0m\u001b[0;34m)\u001b[0m\u001b[0;34m\u001b[0m\u001b[0;34m\u001b[0m\u001b[0m\n\u001b[0m\u001b[1;32m     61\u001b[0m         \u001b[0melapsed_seconds\u001b[0m \u001b[0;34m=\u001b[0m \u001b[0mperf_counter\u001b[0m\u001b[0;34m(\u001b[0m\u001b[0;34m)\u001b[0m \u001b[0;34m-\u001b[0m \u001b[0mstart_time\u001b[0m\u001b[0;34m\u001b[0m\u001b[0;34m\u001b[0m\u001b[0m\n\u001b[1;32m     62\u001b[0m         \u001b[0;32mif\u001b[0m \u001b[0mself\u001b[0m\u001b[0;34m.\u001b[0m\u001b[0m_should_cache\u001b[0m\u001b[0;34m(\u001b[0m\u001b[0mresult\u001b[0m\u001b[0;34m,\u001b[0m \u001b[0melapsed_seconds\u001b[0m\u001b[0;34m)\u001b[0m\u001b[0;34m:\u001b[0m\u001b[0;34m\u001b[0m\u001b[0;34m\u001b[0m\u001b[0m\n",
      "\u001b[0;32m~/Documents/pyquibbler/pyquibbler/quib/graphics/graphics_function_quib.py\u001b[0m in \u001b[0;36m_call_func\u001b[0;34m(self)\u001b[0m\n\u001b[1;32m    176\u001b[0m \u001b[0;34m\u001b[0m\u001b[0m\n\u001b[1;32m    177\u001b[0m         \u001b[0mself\u001b[0m\u001b[0;34m.\u001b[0m\u001b[0m_remove_current_artists\u001b[0m\u001b[0;34m(\u001b[0m\u001b[0;34m)\u001b[0m\u001b[0;34m\u001b[0m\u001b[0;34m\u001b[0m\u001b[0m\n\u001b[0;32m--> 178\u001b[0;31m         \u001b[0;32mreturn\u001b[0m \u001b[0mself\u001b[0m\u001b[0;34m.\u001b[0m\u001b[0m_create_new_artists\u001b[0m\u001b[0;34m(\u001b[0m\u001b[0maxeses_to_array_names_to_indices_and_artists\u001b[0m\u001b[0;34m)\u001b[0m\u001b[0;34m\u001b[0m\u001b[0;34m\u001b[0m\u001b[0m\n\u001b[0m",
      "\u001b[0;32m~/Documents/pyquibbler/pyquibbler/quib/graphics/graphics_function_quib.py\u001b[0m in \u001b[0;36m_create_new_artists\u001b[0;34m(self, previous_axeses_to_array_names_to_indices_and_artists)\u001b[0m\n\u001b[1;32m    133\u001b[0m         \u001b[0mself\u001b[0m\u001b[0;34m.\u001b[0m\u001b[0mpersist_self_on_artists\u001b[0m\u001b[0;34m(\u001b[0m\u001b[0;34m)\u001b[0m\u001b[0;34m\u001b[0m\u001b[0;34m\u001b[0m\u001b[0m\n\u001b[1;32m    134\u001b[0m \u001b[0;34m\u001b[0m\u001b[0m\n\u001b[0;32m--> 135\u001b[0;31m         \u001b[0mcurrent_axeses_to_array_names_to_artists\u001b[0m \u001b[0;34m=\u001b[0m \u001b[0mself\u001b[0m\u001b[0;34m.\u001b[0m\u001b[0m_get_axeses_to_array_names_to_artists\u001b[0m\u001b[0;34m(\u001b[0m\u001b[0;34m)\u001b[0m\u001b[0;34m\u001b[0m\u001b[0;34m\u001b[0m\u001b[0m\n\u001b[0m\u001b[1;32m    136\u001b[0m         self._update_new_artists_from_previous_artists(previous_axeses_to_array_names_to_indices_and_artists,\n\u001b[1;32m    137\u001b[0m                                                        current_axeses_to_array_names_to_artists)\n",
      "\u001b[0;32m~/Documents/pyquibbler/pyquibbler/quib/graphics/graphics_function_quib.py\u001b[0m in \u001b[0;36m_get_axeses_to_array_names_to_artists\u001b[0;34m(self)\u001b[0m\n\u001b[1;32m     67\u001b[0m         \u001b[0;32mfor\u001b[0m \u001b[0martist\u001b[0m \u001b[0;32min\u001b[0m \u001b[0mself\u001b[0m\u001b[0;34m.\u001b[0m\u001b[0m_artists\u001b[0m\u001b[0;34m:\u001b[0m\u001b[0;34m\u001b[0m\u001b[0;34m\u001b[0m\u001b[0m\n\u001b[1;32m     68\u001b[0m             \u001b[0mprint\u001b[0m\u001b[0;34m(\u001b[0m\u001b[0martist\u001b[0m\u001b[0;34m,\u001b[0m \u001b[0martist\u001b[0m\u001b[0;34m.\u001b[0m\u001b[0maxes\u001b[0m\u001b[0;34m)\u001b[0m\u001b[0;34m\u001b[0m\u001b[0;34m\u001b[0m\u001b[0m\n\u001b[0;32m---> 69\u001b[0;31m             \u001b[0marray_names_to_artists\u001b[0m \u001b[0;34m=\u001b[0m \u001b[0maxeses_to_array_names_to_artists\u001b[0m\u001b[0;34m.\u001b[0m\u001b[0msetdefault\u001b[0m\u001b[0;34m(\u001b[0m\u001b[0martist\u001b[0m\u001b[0;34m.\u001b[0m\u001b[0maxes\u001b[0m\u001b[0;34m,\u001b[0m \u001b[0;34m{\u001b[0m\u001b[0;34m}\u001b[0m\u001b[0;34m)\u001b[0m\u001b[0;34m\u001b[0m\u001b[0;34m\u001b[0m\u001b[0m\n\u001b[0m\u001b[1;32m     70\u001b[0m             \u001b[0marray_names_to_artists\u001b[0m\u001b[0;34m.\u001b[0m\u001b[0msetdefault\u001b[0m\u001b[0;34m(\u001b[0m\u001b[0mself\u001b[0m\u001b[0;34m.\u001b[0m\u001b[0m_get_artist_array_name\u001b[0m\u001b[0;34m(\u001b[0m\u001b[0martist\u001b[0m\u001b[0;34m)\u001b[0m\u001b[0;34m,\u001b[0m \u001b[0;34m[\u001b[0m\u001b[0;34m]\u001b[0m\u001b[0;34m)\u001b[0m\u001b[0;34m.\u001b[0m\u001b[0mappend\u001b[0m\u001b[0;34m(\u001b[0m\u001b[0martist\u001b[0m\u001b[0;34m)\u001b[0m\u001b[0;34m\u001b[0m\u001b[0;34m\u001b[0m\u001b[0m\n\u001b[1;32m     71\u001b[0m         \u001b[0;32mreturn\u001b[0m \u001b[0maxeses_to_array_names_to_artists\u001b[0m\u001b[0;34m\u001b[0m\u001b[0;34m\u001b[0m\u001b[0m\n",
      "\u001b[0;31mTypeError\u001b[0m: unhashable type: 'list'"
     ]
    },
    {
     "data": {
      "image/png": "[encoded data removed]",
      "text/plain": [
       "<Figure size 432x288 with 1 Axes>"
      ]
     },
     "metadata": {
      "needs_background": "light"
     },
     "output_type": "display_data"
    }
   ],
   "source": [
    "plt.gca()\n",
    "plt.pause(0.1)\n",
    "plot_quib.get_value()"
   ]
  },
  {
   "cell_type": "code",
   "execution_count": null,
   "id": "b0d55c2b-3ab4-4868-9321-171bfd745ec5",
   "metadata": {},
   "outputs": [],
   "source": [
    "for i in range(100):\n",
    "    my_quib[0] = i"
   ]
  },
  {
   "cell_type": "code",
   "execution_count": null,
   "id": "33f7ab41-9cae-4946-b384-08adaa47f358",
   "metadata": {},
   "outputs": [],
   "source": [
    "@quibbler_user_function(evaluate_now=True)\n",
    "def plot_a_few_stuff_eagerly(q):\n",
    "    plt.plot(q)"
   ]
  },
  {
   "cell_type": "code",
   "execution_count": null,
   "id": "62721251-961b-4871-bd3b-9e83e438ac85",
   "metadata": {},
   "outputs": [],
   "source": [
    "plot_a_few_stuff_eagerly(my_quib)"
   ]
  },
  {
   "cell_type": "code",
   "execution_count": null,
   "id": "5be35c96-944d-4d3f-868f-7bdee7864a03",
   "metadata": {},
   "outputs": [],
   "source": []
  }
 ],
 "metadata": {
  "kernelspec": {
   "display_name": "Python 3 (ipykernel)",
   "language": "python",
   "name": "python3"
  },
  "language_info": {
   "codemirror_mode": {
    "name": "ipython",
    "version": 3
   },
   "file_extension": ".py",
   "mimetype": "text/x-python",
   "name": "python",
   "nbconvert_exporter": "python",
   "pygments_lexer": "ipython3",
   "version": "3.8.2"
  }
 },
 "nbformat": 4,
 "nbformat_minor": 5
}
