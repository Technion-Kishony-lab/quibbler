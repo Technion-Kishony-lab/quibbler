{
 "cells": [
  {
   "cell_type": "markdown",
   "id": "491dbbee",
   "metadata": {},
   "source": [
    "## Simple quib-app for probing image RGB\n",
    "\n",
    "**A simple demo of a quib-based GUI.**\n",
    "\n",
    "* **Features**\n",
    "    * Graphics quibs\n",
    "    * Graphics-driven assignments\n",
    "    * Inverse assignments\n",
    "\n",
    "* **Try me**\n",
    "    * Try dragging the marker and see the RGB values of the image.\n",
    "\n"
   ]
  },
  {
   "cell_type": "code",
   "execution_count": 7,
   "id": "2b71eba5-df27-4253-b9fc-bda69334d725",
   "metadata": {},
   "outputs": [],
   "source": [
    "from pyquibbler import iquib, override_all, q\n",
    "override_all()\n",
    "import matplotlib.pyplot as plt\n",
    "import numpy as np\n",
    "%matplotlib tk"
   ]
  },
  {
   "cell_type": "code",
   "execution_count": 15,
   "id": "d6148074-0793-4bef-899c-a6dfa205b32c",
   "metadata": {},
   "outputs": [],
   "source": [
    "import matplotlib as mpl\n",
    "plt.figure(1, figsize=(8, 3));\n",
    "plt.clf()\n",
    "mpl.rcParams['lines.markersize'] = 20\n",
    "mpl.rcParams['lines.linewidth'] = 2\n",
    "mpl.rcParams['lines.markeredgewidth'] = 2\n",
    "mpl.rcParams['axes.titlesize'] = 16"
   ]
  },
  {
   "cell_type": "code",
   "execution_count": 16,
   "id": "ed87db7e",
   "metadata": {
    "tags": []
   },
   "outputs": [
    {
     "data": {
      "text/plain": [
       "bar(<AxesSubplot:>, ['R', 'G', 'B'], rgb, width=0.8, bottom=None, align='center', color=['r', 'g', 'b'])"
      ]
     },
     "execution_count": 16,
     "metadata": {},
     "output_type": "execute_result"
    }
   ],
   "source": [
    "# Load and plot an image:\n",
    "file = iquib('bacteria_drop.tif')\n",
    "img = plt.imread(file)\n",
    "plt.subplot(1, 2, 1)\n",
    "plt.imshow(img)\n",
    "\n",
    "# Choose and plot an x-y point:\n",
    "xy = iquib([50, 45])\n",
    "plt.plot(xy[0], xy[1], 'w+')\n",
    "plt.title(xy)\n",
    "\n",
    "# Plot the RGB at the chosen point:\n",
    "ax = plt.subplot(1, 2, 2)\n",
    "rgb = img[xy[1], xy[0], :]\n",
    "plt.bar(['R', 'G', 'B'], rgb, color=list('rgb'))"
   ]
  },
  {
   "cell_type": "code",
   "execution_count": null,
   "id": "0ca912d4-a49f-4bb3-ae87-45f338870172",
   "metadata": {},
   "outputs": [],
   "source": []
  }
 ],
 "metadata": {
  "kernelspec": {
   "display_name": "Python 3 (ipykernel)",
   "language": "python",
   "name": "python3"
  },
  "language_info": {
   "codemirror_mode": {
    "name": "ipython",
    "version": 3
   },
   "file_extension": ".py",
   "mimetype": "text/x-python",
   "name": "python",
   "nbconvert_exporter": "python",
   "pygments_lexer": "ipython3",
   "version": "3.10.4"
  }
 },
 "nbformat": 4,
 "nbformat_minor": 5
}
