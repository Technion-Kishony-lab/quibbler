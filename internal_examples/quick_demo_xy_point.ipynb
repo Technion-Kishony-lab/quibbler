{
 "cells": [
  {
   "cell_type": "code",
   "execution_count": 3,
   "id": "41d0b4c5-19f7-4fcd-aeea-3dffe9120c25",
   "metadata": {},
   "outputs": [],
   "source": [
    "from pyquibbler import iquib, override_all, q\n",
    "override_all()\n",
    "import matplotlib.pyplot as plt\n",
    "import numpy as np\n",
    "%matplotlib tk"
   ]
  },
  {
   "cell_type": "code",
   "execution_count": 4,
   "id": "11171734-4f63-49fd-a3fb-28787db20a12",
   "metadata": {},
   "outputs": [],
   "source": [
    "import matplotlib as mpl    \n",
    "mpl.rcParams['lines.markersize'] = 20\n",
    "mpl.rcParams['lines.linewidth'] = 2\n",
    "mpl.rcParams['lines.markeredgewidth'] = 3\n",
    "mpl.rcParams['axes.titlesize'] = 20"
   ]
  },
  {
   "cell_type": "code",
   "execution_count": 13,
   "id": "a2cd3358-7af7-4f6a-a376-d27a7b010cb3",
   "metadata": {},
   "outputs": [],
   "source": [
    "plt.figure(1, figsize=(5, 3))\n",
    "plt.clf()\n",
    "plt.axis('square')\n",
    "plt.axis([0, 100, 0, 100]);"
   ]
  },
  {
   "cell_type": "code",
   "execution_count": 14,
   "id": "c8b7540c-2681-4034-ae5f-9f186bc2c9e3",
   "metadata": {},
   "outputs": [
    {
     "data": {
      "text/plain": [
       "set_title(<AxesSubplot:title={'center':'[50, 50]'}>, xy, fontdict=None, loc=None, pad=None, y=None)"
      ]
     },
     "execution_count": 14,
     "metadata": {},
     "output_type": "execute_result"
    }
   ],
   "source": [
    "\n",
    "xy = iquib([50, 50])\n",
    "plt.plot(xy[0], xy[1], 'x')\n",
    "plt.title(xy)\n",
    "\n",
    "\n",
    "\n"
   ]
  },
  {
   "cell_type": "code",
   "execution_count": null,
   "id": "4e7dd443-11fb-4aa0-9e79-eebb197e9cec",
   "metadata": {},
   "outputs": [],
   "source": []
  }
 ],
 "metadata": {
  "kernelspec": {
   "display_name": "Python 3 (ipykernel)",
   "language": "python",
   "name": "python3"
  },
  "language_info": {
   "codemirror_mode": {
    "name": "ipython",
    "version": 3
   },
   "file_extension": ".py",
   "mimetype": "text/x-python",
   "name": "python",
   "nbconvert_exporter": "python",
   "pygments_lexer": "ipython3",
   "version": "3.10.4"
  }
 },
 "nbformat": 4,
 "nbformat_minor": 5
}
