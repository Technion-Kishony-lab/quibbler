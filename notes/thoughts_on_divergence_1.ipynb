{
 "cells": [
  {
   "cell_type": "code",
   "execution_count": null,
   "id": "e6a88c90",
   "metadata": {},
   "outputs": [],
   "source": [
    "import numpy as np\n",
    "from pyquibbler import iquib, override_all, q\n",
    "override_all()"
   ]
  },
  {
   "cell_type": "code",
   "execution_count": null,
   "id": "e503e738",
   "metadata": {},
   "outputs": [],
   "source": [
    "# list of files on whicn to run a heavy slow function\n",
    "filenames = iquib(np.array([['kuk0.txt'],['kuk1.txt'],['kuk2.txt'],['kuk3.txt'],['kuk4.txt']]))"
   ]
  },
  {
   "cell_type": "code",
   "execution_count": null,
   "id": "d8bc60c8",
   "metadata": {},
   "outputs": [],
   "source": [
    "# heavy-to-run user function (mock)\n",
    "def my_heavy_fcn(file):\n",
    "    file = file[0]\n",
    "    print('reading file: ' + file)\n",
    "    i = int(file[3])\n",
    "    # fake reading image from file (for demo):\n",
    "    img = np.arange(12).reshape(4,3) + i*100 \n",
    "    return img"
   ]
  },
  {
   "cell_type": "code",
   "execution_count": null,
   "id": "6c17f75d",
   "metadata": {},
   "outputs": [],
   "source": [
    "# Define a functional quib that run the user function on each file\n",
    "# In principle, this evaluation should be silent (declarative).\n",
    "# currently apply_along_axis is implemented with immediate evaluation\n",
    "all_images = np.apply_along_axis(my_heavy_fcn, 1, filenames)\n",
    "\n",
    "# all_images has a shape of (5,4,3), but we do not know the shape \n",
    "# before we call my_heavy_fcn"
   ]
  },
  {
   "cell_type": "markdown",
   "id": "b355d395",
   "metadata": {},
   "source": [
    "### Consider two options for accessing a single pixel in all_images\n",
    "The following two indexing options access the same single pixel in all_images, but while the first option requires reading only a single file, the second option requires reading two files. "
   ]
  },
  {
   "cell_type": "markdown",
   "id": "5fc70550",
   "metadata": {},
   "source": [
    "#### Option 1: accessing a single pixel requires reading ONE image\n",
    "Accessing all_images in a way that allows knowing which call index to use when calling my_heavy_fcn WITHOUT knowing the shape of all_images.\n",
    "\n",
    "For example, the following command should lead to reading of kuk2.txt only \n",
    "(it will require a single call to my_heavy_fcn):"
   ]
  },
  {
   "cell_type": "code",
   "execution_count": null,
   "id": "2ad20268",
   "metadata": {},
   "outputs": [],
   "source": [
    "all_images[2,1,1].get_value()"
   ]
  },
  {
   "cell_type": "markdown",
   "id": "a095a150",
   "metadata": {},
   "source": [
    "#### Option 2: accessing a single pixel requires reading TWO images\n",
    "Accessing all images in a way that requires knowing the size of all_images in order to know which index to use in the call to my_heavy_fcn. Namely, the all_images will need to first return its shape and for this it will evaluate my_heavy_fcn at some arbitrary index (say at 0), and only then will be able to know which index is refered to and call my_heavy_fcn again with the correct index. "
   ]
  },
  {
   "cell_type": "code",
   "execution_count": null,
   "id": "e5790a17",
   "metadata": {},
   "outputs": [],
   "source": [
    "np.ravel(all_images)[28].get_value()"
   ]
  }
 ],
 "metadata": {
  "kernelspec": {
   "display_name": "Python 3 (ipykernel)",
   "language": "python",
   "name": "python3"
  },
  "language_info": {
   "codemirror_mode": {
    "name": "ipython",
    "version": 3
   },
   "file_extension": ".py",
   "mimetype": "text/x-python",
   "name": "python",
   "nbconvert_exporter": "python",
   "pygments_lexer": "ipython3",
   "version": "3.9.7"
  }
 },
 "nbformat": 4,
 "nbformat_minor": 5
}
