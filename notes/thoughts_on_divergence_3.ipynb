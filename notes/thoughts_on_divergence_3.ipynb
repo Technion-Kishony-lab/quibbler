{
 "cells": [
  {
   "cell_type": "code",
   "execution_count": 1,
   "id": "e6a88c90",
   "metadata": {},
   "outputs": [],
   "source": [
    "import numpy as np\n",
    "from pyquibbler import iquib, override_all, q\n",
    "override_all()"
   ]
  },
  {
   "cell_type": "markdown",
   "id": "e1c2f5d0",
   "metadata": {},
   "source": [
    "## Source types\n",
    "As discussed yesterdat, we can imagine three type of quib sources to a functional quib\n",
    "\n",
    "* Major data sources\n",
    "    * this is the main array(s) on which the function operates\n",
    "    * changes in the shape of these arrays invalidates the entire cache\n",
    "    * changes in specific elements of these data arrays only invalidates specifically-mapped elements of the cache\n",
    "    \n",
    "* Parameter sources\n",
    "    * changes in either shape or specific elements invalidates the entire cache\n",
    "    \n",
    "* Minor data sources\n",
    "    * these are deep quibs within data arrays\n",
    "    * changes in either the shape or specific elements of these minor sources invalidates only the one specific cache element\n",
    "\n"
   ]
  },
  {
   "cell_type": "code",
   "execution_count": 2,
   "id": "e503e738",
   "metadata": {},
   "outputs": [],
   "source": [
    "minor = iquib(np.array([1]))\n",
    "major = \n",
    "output = major + np.array([1,minor,3])\n",
    "filenames = np.array(['kuk0.txt','kuk1.txt','kuk2.txt','kuk3.txt','kuk4.txt'])"
   ]
  },
  {
   "cell_type": "code",
   "execution_count": 3,
   "id": "6c17f75d",
   "metadata": {},
   "outputs": [
    {
     "name": "stdout",
     "output_type": "stream",
     "text": [
      "reading file: kuk0.txt\n",
      "reading file: kuk1.txt\n",
      "reading file: kuk2.txt\n",
      "reading file: kuk3.txt\n",
      "reading file: kuk4.txt\n"
     ]
    },
    {
     "data": {
      "text/plain": [
       "(5, 4, 3)"
      ]
     },
     "execution_count": 3,
     "metadata": {},
     "output_type": "execute_result"
    }
   ],
   "source": [
    "# heavy-to-run user function that reads the images (mock)\n",
    "def read_file(file):\n",
    "    print('reading file: ' + file)\n",
    "    i = int(file[3])\n",
    "    # fake reading image from file (for demo):\n",
    "    img = np.arange(12).reshape(4,3) + i*100 \n",
    "    return img\n",
    "\n",
    "read_file_vec = np.vectorize(read_file, signature='()->(n,m)')\n",
    "\n",
    "all_images = read_file_vec(filenames)\n",
    "all_images.shape # 5 images each of size 4x3 pixels"
   ]
  },
  {
   "cell_type": "code",
   "execution_count": 4,
   "id": "801376f3",
   "metadata": {},
   "outputs": [
    {
     "name": "stdout",
     "output_type": "stream",
     "text": [
      "removing background form an image...\n",
      "removing background form an image...\n",
      "removing background form an image...\n",
      "removing background form an image...\n",
      "removing background form an image...\n"
     ]
    }
   ],
   "source": [
    "# we now can do series of single-image processing. for example:\n",
    "def heavy_fcn_on_single_image(img):\n",
    "    print('removing background form an image...')\n",
    "    return img - np.average(img)\n",
    "\n",
    "my_heavy_fcn_vec = np.vectorize(heavy_fcn_on_single_image, signature='(n,m)->(n,m)')\n",
    "my_heavy_fcn_vec(all_images);"
   ]
  },
  {
   "cell_type": "code",
   "execution_count": 5,
   "id": "f188de47",
   "metadata": {},
   "outputs": [
    {
     "name": "stdout",
     "output_type": "stream",
     "text": [
      "comparing two images...\n",
      "comparing two images...\n",
      "comparing two images...\n",
      "comparing two images...\n",
      "comparing two images...\n",
      "comparing two images...\n",
      "comparing two images...\n",
      "comparing two images...\n",
      "comparing two images...\n",
      "comparing two images...\n",
      "comparing two images...\n",
      "comparing two images...\n",
      "comparing two images...\n",
      "comparing two images...\n",
      "comparing two images...\n",
      "comparing two images...\n",
      "comparing two images...\n",
      "comparing two images...\n",
      "comparing two images...\n",
      "comparing two images...\n",
      "comparing two images...\n",
      "comparing two images...\n",
      "comparing two images...\n",
      "comparing two images...\n",
      "comparing two images...\n"
     ]
    },
    {
     "data": {
      "text/plain": [
       "array([[  0., 100., 200., 300., 400.],\n",
       "       [100.,   0., 100., 200., 300.],\n",
       "       [200., 100.,   0., 100., 200.],\n",
       "       [300., 200., 100.,   0., 100.],\n",
       "       [400., 300., 200., 100.,   0.]])"
      ]
     },
     "execution_count": 5,
     "metadata": {},
     "output_type": "execute_result"
    }
   ],
   "source": [
    "# we might also compare pairs of images:\n",
    "def heavy_fcn_on_image_pair(img1,img2):\n",
    "    print('comparing two images...')\n",
    "    return np.sqrt(np.average((img1-img2)**2))\n",
    "\n",
    "all_images_e = np.expand_dims(all_images,1) # shape=(5,1,4,3)\n",
    "all_images_eT = all_images_e.transpose([1,0,2,3]) # shape=(1,5,4,3)\n",
    "heavy_fcn_on_image_pair_vec = np.vectorize(heavy_fcn_on_image_pair, signature='(n,m),(n,m)->()')\n",
    "image_diff_matrix = heavy_fcn_on_image_pair_vec(all_images_e,all_images_eT)\n",
    "image_diff_matrix"
   ]
  }
 ],
 "metadata": {
  "kernelspec": {
   "display_name": "Python 3 (ipykernel)",
   "language": "python",
   "name": "python3"
  },
  "language_info": {
   "codemirror_mode": {
    "name": "ipython",
    "version": 3
   },
   "file_extension": ".py",
   "mimetype": "text/x-python",
   "name": "python",
   "nbconvert_exporter": "python",
   "pygments_lexer": "ipython3",
   "version": "3.9.7"
  }
 },
 "nbformat": 4,
 "nbformat_minor": 5
}
