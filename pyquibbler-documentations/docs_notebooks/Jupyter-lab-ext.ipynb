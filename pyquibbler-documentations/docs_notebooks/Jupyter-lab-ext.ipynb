{
 "cells": [
  {
   "cell_type": "markdown",
   "id": "80f46938-832c-465b-90b1-a305faa8ac8e",
   "metadata": {},
   "source": [
    "## Quibbler integration with Jupyter lab\n",
    "\n",
    "The *pyquibbler-labextension* is a *Jupyter lab* extension that provides added *Quibbler* functionality within Jupyter notebooks. In particular, the Jupyter lab extensions allows:\n",
    "\n",
    "* Integrated Undo/Redo functionality.\n",
    "\n",
    "* View and edit quib assignments. \n",
    "\n",
    "* Save/Load quib assignments within the notebook.\n",
    "\n",
    "\n",
    "**Note.** Running *Quibbler* in Jupyter lab does _not_ require the Jupyter lab extension. All the power of *Quibbler* including interactive graphics etc works independent of the *Jupyter lab* extension. The extension only provides the additional integrated functionality as listed above and described below."
   ]
  },
  {
   "cell_type": "markdown",
   "id": "cadfafd7-dc8c-4b1a-937d-618ff26e0163",
   "metadata": {},
   "source": [
    "### Installation \n",
    "\n",
    "To install the *pyquibbler-labextension*, first make sure you have installed *Jupyter lab* (`pip install jupyterlab`). Then simply install the extension with:\n",
    "\n",
    "\n",
    "`pip install pyquibbler-labextension`\n"
   ]
  },
  {
   "cell_type": "markdown",
   "id": "2e7883e6-3c18-4a4b-b022-33554191070d",
   "metadata": {},
   "source": [
    "### Fire it up\n",
    "\n",
    "Now you can start your *Jupyter lab* (`jupyter lab` at the terminal). In the *Jupyter lab* window, you will see the *pyquibbler-labextension* listed in the Extension Manager (on the left). You will also see two new buttons for `Undo` and `Redo`, as well as a `Quibbler` menu above.\n",
    "\n",
    "[[/images/labext_open.png]]"
   ]
  },
  {
   "cell_type": "markdown",
   "id": "cd6109f7-9ac1-44f3-8177-9ed2753928d8",
   "metadata": {},
   "source": [
    "### Undo / Redo\n",
    "\n",
    "The `Undo` and `Redo` buttons at the top of the notebook function to undo and redo  quib assignments. Hitting these buttons is the same as executing the [[qb.undo]] and [[qb.redo]] *Quibbler* functions. \n",
    "\n",
    "Here, for example, is how these functionalities behave when running the demo [[quibdemo_image_thresholding]]:\n",
    "\n",
    "[[/images/labext_undo_redo.gif]]"
   ]
  },
  {
   "cell_type": "markdown",
   "id": "79ff2de7-3227-4d7b-8d50-b027daf800ab",
   "metadata": {},
   "source": [
    "### Viewing and editing quib assignments\n",
    "\n",
    "The *Quibbler* lab extension provides an \"Override Editor\", allowing easily viewing and editing the list of overriding assignments made to each quib. This functionality is enabled by checking the \"Show Quibs under Notebook cells\" option in the *Quibbler* menu. Then, when we execute a given notebook cell, any newly created overriding-accepting quibs will automatically appear as push buttons below the notebook cell (overriding-accepting quibs include input quibs, or function quibs whose [[Quib.allow_overriding]] is set to `True`; see [[Overriding-default-functionality]]). \n",
    "\n",
    "For example, here is how this looks in our  \n",
    "[[quibdemo_image_thresholding]]:\n",
    "\n",
    "[[/images/labext_quib_editor.gif]]\n",
    "\n",
    "Pressing the quib's push button opens its Overriding Editor. In the Editor, override assignments are listed as lines, with assignment path shown on the left and the assigned value on the right. \n",
    "\n",
    "#### Graphics-driven assignments\n",
    "Interaction with graphics is [[inverse propagated|Inverse-assignments]] to override upstream quibs. Such graphics-driven assignments can be viewed, in real time, in the Overriding Editor.\n",
    "\n",
    "#### Manual assignments\n",
    "Overriding assignments can be made manually by entering the path and value. The assignment path can be any Python acceptable syntax, like `[1]` for list or arrays, `[3,:]` for arrays, or `['year']` for dicts. Deep assignment paths are also allowed, like `[0][2]`. \n",
    "\n",
    "To make an assignment that replaces the whole quib value (equivalent to [[Quib.assign()]]), leave the assignment path empty (see example in [[quibdemo_COVID_analysis]]).\n",
    "\n",
    "New overriding assignments can be added by pressing the `Add Override` button. \n",
    "\n",
    "Assignments can be removed by pressing the circular 'x' button on the right, leading to the quib resuming its default value. "
   ]
  },
  {
   "cell_type": "markdown",
   "id": "694ce917-6114-4202-93e3-5a338f135cb2",
   "metadata": {},
   "source": [
    "### Saving quib overriding assignments into Jupyter notebook\n",
    "\n",
    "Overriding assignments to quibs can be saved as part of the notebook, allowing restoring prior values both within the session and when restarting the notebook as a new session. In chapter [[Project-save-load]], we reviewed how quib assignments can be saved into external files. The *Jupyter lab* extension allows us instead to save quib assignments into the notebook, which is typically much simpler and convenient. To enable saving quib assignments into the notebook check the \"Save/Load inside Notebook\" option in the Jupyter lab *Quibbler* menu. \n",
    "\n",
    "Once enabled, quib assignments can easily be saved/loaded, either globally for the entire notebook by choosing Save/Load from the *Quibbler* menu (equivalent to [[qb.save_quibs]], [[qb.load_quibs]]), or individually by clicking the Save/Load buttons at the bottom of the Overriding Editor of the relevant quib (equivalent to the quibs' methods [[Quib.save()]], [[Quib.load()]]). \n",
    "\n",
    "**Note.** Hitting Save will both save the quib assignments into the notebook and save the notebook to file."
   ]
  },
  {
   "cell_type": "markdown",
   "id": "750cf8a1-3535-4f3e-95e7-4f4cfb2069e1",
   "metadata": {},
   "source": [
    "[[/images/labext_quib_save.gif]]"
   ]
  },
  {
   "cell_type": "markdown",
   "id": "f33cbad6-d96a-4b29-9e5f-58c90189a0b0",
   "metadata": {},
   "source": [
    "### See also\n",
    "\n",
    "* [[Project-save-load]]\n",
    "\n",
    "* [[Inverse-assignments]]\n",
    "\n",
    "* [[Overriding-default-functionality]]\n"
   ]
  }
 ],
 "metadata": {
  "kernelspec": {
   "display_name": "Python 3 (ipykernel)",
   "language": "python",
   "name": "python3"
  },
  "language_info": {
   "codemirror_mode": {
    "name": "ipython",
    "version": 3
   },
   "file_extension": ".py",
   "mimetype": "text/x-python",
   "name": "python",
   "nbconvert_exporter": "python",
   "pygments_lexer": "ipython3",
   "version": "3.10.5"
  }
 },
 "nbformat": 4,
 "nbformat_minor": 5
}
