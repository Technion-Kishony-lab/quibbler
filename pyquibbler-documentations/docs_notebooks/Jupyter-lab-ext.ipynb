{
 "cells": [
  {
   "cell_type": "markdown",
   "id": "80f46938-832c-465b-90b1-a305faa8ac8e",
   "metadata": {},
   "source": [
    "## Using Quibbler with Jupyter lab\n",
    "\n",
    "*Quibbler* provides several user-interface functionalities available when working within within the *Jupyer lab* environment:\n",
    "\n",
    "* Save/Load quib assignments within the notebook*.\n",
    "\n",
    "* Integrated Undo/Redo buttons*.\n",
    "\n",
    "* View and edit quib properties, assignments and value. \n",
    "\n",
    "* Display a quib-dependency graph.\n",
    "\n",
    "\n",
    "\\* The two first features require the `pyquibbler-labextension` (see installation below). \n"
   ]
  },
  {
   "cell_type": "markdown",
   "id": "cadfafd7-dc8c-4b1a-937d-618ff26e0163",
   "metadata": {},
   "source": [
    "### Installing the Jupyter lab Quibbler extension\n",
    "\n",
    "To install the *pyquibbler-labextension*, first make sure you have installed *Jupyter lab* (`pip install jupyterlab`). Then simply install the extension with:\n",
    "\n",
    "\n",
    "`pip install pyquibbler-labextension`\n",
    "\n",
    "**Note.** Using *Quibbler* in Jupyter lab _does not_ require the *Jupyter lab* extension. All the power of *Quibbler* including interactive graphics etc works independently of the *Jupyter lab* extension. The extension only provides the additional functionalities of save/load into the notebook and the integrated undo/redo buttons."
   ]
  },
  {
   "cell_type": "markdown",
   "id": "2e7883e6-3c18-4a4b-b022-33554191070d",
   "metadata": {},
   "source": [
    "### Fire it up\n",
    "\n",
    "Now you can start your *Jupyter lab* (`jupyter lab` at the terminal). In the *Jupyter lab* window, you will see the *pyquibbler-labextension* listed in the Extension Manager (on the left). You will also see two new buttons for `Undo` and `Redo`, as well as a `Quibbler` menu above.\n",
    "\n",
    "[[/images/labext_open.png]]"
   ]
  },
  {
   "cell_type": "markdown",
   "id": "cd6109f7-9ac1-44f3-8177-9ed2753928d8",
   "metadata": {},
   "source": [
    "### Undo / Redo\n",
    "\n",
    "The `Undo` and `Redo` buttons at the top of the notebook function to undo and redo  quib assignments. Hitting these buttons is the same as executing the [[qb.undo]] and [[qb.redo]] *Quibbler* functions. \n",
    "\n",
    "Here, for example, is how these functionalities behave when running the demo [[quibdemo_image_thresholding]]:\n",
    "\n",
    "[[/images/labext_undo_redo.gif]]"
   ]
  },
  {
   "cell_type": "markdown",
   "id": "79ff2de7-3227-4d7b-8d50-b027daf800ab",
   "metadata": {
    "jp-MarkdownHeadingCollapsed": true,
    "tags": []
   },
   "source": [
    "### Viewing and editing quib assignments\n",
    "\n",
    "Quibs are displayed in Jupyter lab as interactive \"Quib Editors\". To display a given quib,  simply execute its variable at the end of a Jupyter lab cell:\n",
    "\n",
    "\n",
    "In the Quib Editor, override assignments are listed as lines of assignment text. \n",
    "\n",
    "#### Graphics-driven assignments\n",
    "Interaction with graphics is [[inverse propagated|Inverse-assignments]] to override upstream quibs. Such graphics-driven assignments can be viewed, in real time, in the Quib Editor.\n",
    "\n",
    "#### Manual assignments\n",
    "Overriding assignments can be made manually by entering the path and value of the assignment. The assignment path can be any Python acceptable syntax, like `[1]` for list or arrays, `[3,:]` for arrays, or `['year']` for dicts. Deep assignment paths are also allowed, like `[0][2]`. For example, to override the value of a list quib at element 2 with a new value 97, add an assignment text: \"[2] = 97\".\n",
    "\n",
    "To make an assignment that replaces the whole quib value (equivalent to [[Quib.assign()]]), do not specify a path, just type in the new value for the quib directly (e.g., \"[2, 3]\"), or append it with an equal sign (e.g., \"= [2, 3]\"). \n",
    "\n",
    "New overriding assignments can be added by pressing the `+` button. \n",
    "\n",
    "Assignments can be removed by pressing the circular `-` button on the right of each assignment. Removing an assignment leads to the quib resuming its default value. "
   ]
  },
  {
   "cell_type": "markdown",
   "id": "e31f8353-c58e-4398-bef9-900c8d45098c",
   "metadata": {},
   "source": [
    "### Saving quib overriding assignments into Jupyter notebook\n",
    "\n",
    "Overriding assignments to quibs can be saved as part of the notebook, allowing restoring prior values both within the session and when restarting the notebook as a new session. In chapter [[Project-save-load]], we reviewed how quib assignments can be saved into external files. The *Jupyter lab* extension allows us instead to save quib assignments into the notebook, which is typically much simpler and convenient. To enable saving quib assignments into the notebook check the \"Save/Load inside Notebook\" option in the Jupyter lab *Quibbler* menu. "
   ]
  },
  {
   "cell_type": "raw",
   "id": "0d5809f3-8ec3-4bf3-afcd-67984fecf59a",
   "metadata": {},
   "source": [
    ".. image:: images/labext_quibbler_menu.png\n",
    "  :width: 200"
   ]
  },
  {
   "cell_type": "markdown",
   "id": "f1c07b61-27f5-486b-8607-8c610d7b3868",
   "metadata": {},
   "source": [
    "Once enabled, quib assignments can easily be saved/loaded, either globally for the entire notebook by choosing Save/Load from the *Quibbler* menu (equivalent to [[qb.save_quibs]], [[qb.load_quibs]]), or individually by clicking the Save/Load buttons at the bottom of the Quib Editor of the relevant quib (equivalent to the quibs' methods [[Quib.save()]], [[Quib.load()]]). \n",
    "\n",
    "**Note.** Hitting the Save button will both save the quib assignments into the notebook and save the notebook to file."
   ]
  },
  {
   "cell_type": "markdown",
   "id": "750cf8a1-3535-4f3e-95e7-4f4cfb2069e1",
   "metadata": {},
   "source": [
    "[[/images/quib_editor_save_load.gif]]"
   ]
  },
  {
   "cell_type": "markdown",
   "id": "247fc3d2-7117-4af4-9181-06c8c0ed3a5c",
   "metadata": {},
   "source": [
    "### Display a quib dependency graph\n",
    "\n",
    "Within Jupyter lab, we can use the [[qb.quib_network.dependency_graph]] function to display the network of quibs upstream/downstream of a given focal quib. \n",
    "\n",
    "See [[Quib-relationships]] for more detail and an example graph."
   ]
  },
  {
   "cell_type": "markdown",
   "id": "f33cbad6-d96a-4b29-9e5f-58c90189a0b0",
   "metadata": {},
   "source": [
    "### See also\n",
    "\n",
    "* [[Project-save-load]]\n",
    "\n",
    "* [[Inverse-assignments]]\n",
    "\n",
    "* [[Overriding-default-functionality]]\n",
    "\n",
    "* [[Quib-relationships]]\n"
   ]
  },
  {
   "cell_type": "code",
   "execution_count": null,
   "id": "50e5952d-3828-4b63-b10b-abb7403fa968",
   "metadata": {},
   "outputs": [],
   "source": []
  }
 ],
 "metadata": {
  "kernelspec": {
   "display_name": "Python 3 (ipykernel)",
   "language": "python",
   "name": "python3"
  },
  "language_info": {
   "codemirror_mode": {
    "name": "ipython",
    "version": 3
   },
   "file_extension": ".py",
   "mimetype": "text/x-python",
   "name": "python",
   "nbconvert_exporter": "python",
   "pygments_lexer": "ipython3",
   "version": "3.10.5"
  },
  "widgets": {
   "application/vnd.jupyter.widget-state+json": {
    "state": {},
    "version_major": 2,
    "version_minor": 0
   }
  }
 },
 "nbformat": 4,
 "nbformat_minor": 5
}
