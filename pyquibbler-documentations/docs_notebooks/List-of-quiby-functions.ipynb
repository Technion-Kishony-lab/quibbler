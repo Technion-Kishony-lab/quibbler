{
 "cells": [
  {
   "cell_type": "markdown",
   "id": "ac6ee2bc",
   "metadata": {},
   "source": [
    "## List of quiby functions"
   ]
  },
  {
   "cell_type": "markdown",
   "id": "9dbf20ed",
   "metadata": {},
   "source": [
    "Quiby functions are functions modified to work directly on quib arguments. When a quiby function is applied on quiby arguments, it creates a new quib whose function is to perform the original function on the value of its quib arguments."
   ]
  },
  {
   "cell_type": "markdown",
   "id": "56abef4b-fba4-4973-9eb2-8b2d89a0495f",
   "metadata": {},
   "source": [
    "To test if a given function is quiby, use `is_quiby`:"
   ]
  },
  {
   "cell_type": "markdown",
   "id": "a625e5a9",
   "metadata": {},
   "source": [
    "#### Import"
   ]
  },
  {
   "cell_type": "code",
   "execution_count": 1,
   "id": "b26840ea",
   "metadata": {},
   "outputs": [],
   "source": [
    "import pyquibbler as qb\n",
    "from pyquibbler import iquib\n",
    "qb.initialize_quibbler()\n",
    "import numpy as np"
   ]
  },
  {
   "cell_type": "code",
   "execution_count": 2,
   "id": "efc038fd-bfa0-417a-9e90-645c0887f996",
   "metadata": {},
   "outputs": [
    {
     "data": {
      "text/plain": [
       "True"
      ]
     },
     "execution_count": 2,
     "metadata": {},
     "output_type": "execute_result"
    }
   ],
   "source": [
    "qb.is_quiby(np.sin)"
   ]
  },
  {
   "cell_type": "code",
   "execution_count": 3,
   "id": "0c4fa553-7545-4d14-a09c-2473b8896dd0",
   "metadata": {},
   "outputs": [
    {
     "data": {
      "text/plain": [
       "False"
      ]
     },
     "execution_count": 3,
     "metadata": {},
     "output_type": "execute_result"
    }
   ],
   "source": [
    "qb.is_quiby(int)"
   ]
  },
  {
   "cell_type": "markdown",
   "id": "4ff45860-bbc9-433d-af2e-d8ffc3a9a535",
   "metadata": {},
   "source": [
    "Note though that any non-quiby functions, like `int`, or any user function can be converted be a quiby function using the `quiby` method. See [[User-defined-functions]]."
   ]
  },
  {
   "cell_type": "markdown",
   "id": "d0bc4b1e",
   "metadata": {},
   "source": [
    "### List of all built-in quiby functions\n",
    "\n",
    "To see all available quiby functiuons, use `list_quiby_funcs()`:"
   ]
  },
  {
   "cell_type": "code",
   "execution_count": 4,
   "id": "8716fa43",
   "metadata": {},
   "outputs": [
    {
     "data": {
      "text/plain": [
       "['None: <function identity_function at 0x7f8ae1178670>',\n",
       " 'None: <function proxy at 0x7f8ae1178ee0>',\n",
       " 'Quib: __add__',\n",
       " 'Quib: __sub__',\n",
       " 'Quib: __mul__',\n",
       " 'Quib: __truediv__',\n",
       " 'Quib: __floordiv__',\n",
       " 'Quib: __mod__',\n",
       " 'Quib: __pow__',\n",
       " 'Quib: __lshift__',\n",
       " 'Quib: __rshift__',\n",
       " 'Quib: __and__',\n",
       " 'Quib: __xor__',\n",
       " 'Quib: __or__',\n",
       " 'Quib: __radd__',\n",
       " 'Quib: __rsub__',\n",
       " 'Quib: __rmul__',\n",
       " 'Quib: __rtruediv__',\n",
       " 'Quib: __rfloordiv__',\n",
       " 'Quib: __rmod__',\n",
       " 'Quib: __rpow__',\n",
       " 'Quib: __rlshift__',\n",
       " 'Quib: __rrshift__',\n",
       " 'Quib: __rand__',\n",
       " 'Quib: __rxor__',\n",
       " 'Quib: __ror__',\n",
       " 'Quib: __ne__',\n",
       " 'Quib: __lt__',\n",
       " 'Quib: __gt__',\n",
       " 'Quib: __ge__',\n",
       " 'Quib: __le__',\n",
       " 'Quib: __matmul__',\n",
       " 'Quib: __neg__',\n",
       " 'Quib: __pos__',\n",
       " 'Quib: __abs__',\n",
       " 'Quib: __invert__',\n",
       " 'Quib: __round__',\n",
       " 'Quib: __trunc__',\n",
       " 'Quib: __floor__',\n",
       " 'Quib: __ceil__',\n",
       " 'Quib: __getitem__',\n",
       " 'Axes: plot',\n",
       " 'Axes: imshow',\n",
       " 'Axes: text',\n",
       " 'Axes: bar',\n",
       " 'Axes: hist',\n",
       " 'Axes: pie',\n",
       " 'Axes: legend',\n",
       " 'Axes: _sci',\n",
       " 'Axes: matshow',\n",
       " 'Axes: scatter',\n",
       " 'Axes: set_xticks',\n",
       " 'Axes: set_yticks',\n",
       " 'Axes: set_xticklabels',\n",
       " 'Axes: set_yticklabels',\n",
       " 'Axes: set_xlabel',\n",
       " 'Axes: set_ylabel',\n",
       " 'Axes: set_title',\n",
       " 'Axes: set_visible',\n",
       " 'Axes: set_facecolor',\n",
       " 'Axes: set_xlim',\n",
       " 'Axes: set_ylim',\n",
       " 'matplotlib.widgets: RadioButtons',\n",
       " 'matplotlib.widgets: Slider',\n",
       " 'matplotlib.widgets: CheckButtons',\n",
       " 'matplotlib.widgets: RectangleSelector',\n",
       " 'matplotlib.widgets: TextBox',\n",
       " 'matplotlib.image: imread',\n",
       " 'numpy: amin',\n",
       " 'numpy: amax',\n",
       " 'numpy: argmin',\n",
       " 'numpy: argmax',\n",
       " 'numpy: nanargmin',\n",
       " 'numpy: nanargmax',\n",
       " 'numpy: sum',\n",
       " 'numpy: prod',\n",
       " 'numpy: nanprod',\n",
       " 'numpy: nansum',\n",
       " 'numpy: any',\n",
       " 'numpy: all',\n",
       " 'numpy: average',\n",
       " 'numpy: mean',\n",
       " 'numpy: var',\n",
       " 'numpy: std',\n",
       " 'numpy: median',\n",
       " 'numpy: diff',\n",
       " 'numpy: sort',\n",
       " 'numpy: cumsum',\n",
       " 'numpy: cumprod',\n",
       " 'numpy: cumproduct',\n",
       " 'numpy: nancumsum',\n",
       " 'numpy: nancumprod',\n",
       " 'numpy: add',\n",
       " 'numpy: subtract',\n",
       " 'numpy: true_divide',\n",
       " 'numpy: multiply',\n",
       " 'numpy: power',\n",
       " 'numpy: left_shift',\n",
       " 'numpy: right_shift',\n",
       " 'numpy: floor_divide',\n",
       " 'numpy: remainder',\n",
       " 'numpy: hypot',\n",
       " 'numpy: float_power',\n",
       " 'numpy: fmod',\n",
       " 'numpy: lcm',\n",
       " 'numpy: gcd',\n",
       " 'numpy: fmin',\n",
       " 'numpy: fmax',\n",
       " 'numpy: logical_and',\n",
       " 'numpy: logical_or',\n",
       " 'numpy: logical_xor',\n",
       " 'numpy: equal',\n",
       " 'numpy: not_equal',\n",
       " 'numpy: greater',\n",
       " 'numpy: greater_equal',\n",
       " 'numpy: less',\n",
       " 'numpy: less_equal',\n",
       " 'numpy: sqrt',\n",
       " 'numpy: square',\n",
       " 'numpy: sin',\n",
       " 'numpy: cos',\n",
       " 'numpy: tan',\n",
       " 'numpy: arcsin',\n",
       " 'numpy: arccos',\n",
       " 'numpy: arctan',\n",
       " 'numpy: degrees',\n",
       " 'numpy: radians',\n",
       " 'numpy: deg2rad',\n",
       " 'numpy: rad2deg',\n",
       " 'numpy: absolute',\n",
       " 'numpy: real',\n",
       " 'numpy: imag',\n",
       " 'numpy: angle',\n",
       " 'numpy: conjugate',\n",
       " 'numpy: sign',\n",
       " 'numpy: arcsinh',\n",
       " 'numpy: arccosh',\n",
       " 'numpy: arctanh',\n",
       " 'numpy: sinh',\n",
       " 'numpy: cosh',\n",
       " 'numpy: tanh',\n",
       " 'numpy: reciprocal',\n",
       " 'numpy: positive',\n",
       " 'numpy: negative',\n",
       " 'numpy: invert',\n",
       " 'numpy: modf',\n",
       " 'numpy: exp',\n",
       " 'numpy: exp2',\n",
       " 'numpy: expm1',\n",
       " 'numpy: log',\n",
       " 'numpy: log2',\n",
       " 'numpy: log1p',\n",
       " 'numpy: log10',\n",
       " 'numpy: ceil',\n",
       " 'numpy: floor',\n",
       " 'numpy: round',\n",
       " 'numpy: around',\n",
       " 'numpy: rint',\n",
       " 'numpy: fix',\n",
       " 'numpy: trunc',\n",
       " 'numpy: i0',\n",
       " 'numpy: sinc',\n",
       " 'numpy: rot90',\n",
       " 'numpy: concatenate',\n",
       " 'numpy: repeat',\n",
       " 'numpy: full',\n",
       " 'numpy: reshape',\n",
       " 'numpy: transpose',\n",
       " 'numpy: array',\n",
       " 'numpy: swapaxes',\n",
       " 'numpy: tile',\n",
       " 'numpy: asarray',\n",
       " 'numpy: squeeze',\n",
       " 'numpy: expand_dims',\n",
       " 'numpy: ravel',\n",
       " 'numpy: squeeze',\n",
       " 'numpy: ones_like',\n",
       " 'numpy: zeros_like',\n",
       " 'numpy: shape',\n",
       " 'numpy: arange',\n",
       " 'numpy: polyfit',\n",
       " 'numpy: interp',\n",
       " 'numpy: linspace',\n",
       " 'numpy: polyval',\n",
       " 'numpy: corrcoef',\n",
       " 'numpy: array2string',\n",
       " 'numpy: zeros',\n",
       " 'numpy: ones',\n",
       " 'numpy: eye',\n",
       " 'numpy: identity',\n",
       " 'numpy: genfromtxt',\n",
       " 'numpy: load',\n",
       " 'numpy: loadtxt',\n",
       " 'numpy.random: rand',\n",
       " 'numpy.random: randn',\n",
       " 'numpy.random: randint',\n",
       " 'numpy: apply_along_axis',\n",
       " 'numpy: vectorize',\n",
       " 'Quib: get_override_mask']"
      ]
     },
     "execution_count": 4,
     "metadata": {},
     "output_type": "execute_result"
    }
   ],
   "source": [
    "qb.list_quiby_funcs()"
   ]
  },
  {
   "cell_type": "code",
   "execution_count": null,
   "id": "9bd2547e-e1e6-44db-addc-5881acefec13",
   "metadata": {},
   "outputs": [],
   "source": []
  }
 ],
 "metadata": {
  "kernelspec": {
   "display_name": "Python 3 (ipykernel)",
   "language": "python",
   "name": "python3"
  },
  "language_info": {
   "codemirror_mode": {
    "name": "ipython",
    "version": 3
   },
   "file_extension": ".py",
   "mimetype": "text/x-python",
   "name": "python",
   "nbconvert_exporter": "python",
   "pygments_lexer": "ipython3",
   "version": "3.8.8"
  }
 },
 "nbformat": 4,
 "nbformat_minor": 5
}
