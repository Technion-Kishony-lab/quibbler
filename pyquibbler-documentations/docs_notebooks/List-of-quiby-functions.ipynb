{
 "cells": [
  {
   "cell_type": "markdown",
   "id": "ac6ee2bc",
   "metadata": {},
   "source": [
    "## List of quiby functions"
   ]
  },
  {
   "cell_type": "markdown",
   "id": "9dbf20ed",
   "metadata": {},
   "source": [
    "Quiby functions are functions that have been modified to work directly on quib arguments. When a quiby function is applied on quib arguments, it creates a new quib, whose function is to perform the original function on the *value* of its quib arguments."
   ]
  },
  {
   "cell_type": "code",
   "execution_count": 1,
   "id": "b26840ea",
   "metadata": {},
   "outputs": [],
   "source": [
    "# Imports\n",
    "import pyquibbler as qb\n",
    "from pyquibbler import iquib\n",
    "qb.initialize_quibbler()\n",
    "import numpy as np"
   ]
  },
  {
   "cell_type": "markdown",
   "id": "56abef4b-fba4-4973-9eb2-8b2d89a0495f",
   "metadata": {},
   "source": [
    "### Checking if a function is 'quiby':\n",
    "\n",
    "To check whether a given function is quiby, use `is_quiby`. \n",
    "\n",
    "For example, `np.sin` is a quiby function:"
   ]
  },
  {
   "cell_type": "code",
   "execution_count": 2,
   "id": "efc038fd-bfa0-417a-9e90-645c0887f996",
   "metadata": {},
   "outputs": [
    {
     "data": {
      "text/plain": [
       "True"
      ]
     },
     "execution_count": 2,
     "metadata": {},
     "output_type": "execute_result"
    }
   ],
   "source": [
    "qb.is_quiby(np.sin)"
   ]
  },
  {
   "cell_type": "markdown",
   "id": "55650055-bc9f-4d03-9892-db9486aefc9b",
   "metadata": {},
   "source": [
    "We can therefore use it directly on quib arguments:"
   ]
  },
  {
   "cell_type": "code",
   "execution_count": 3,
   "id": "80cf3d1f-f4ef-48f4-a0d7-d65cde598649",
   "metadata": {},
   "outputs": [
    {
     "data": {
      "application/vnd.jupyter.widget-view+json": {
       "model_id": "2b58a32835974cfeac4490ea8b685b4d",
       "version_major": 2,
       "version_minor": 0
      },
      "text/plain": [
       "VBox(children=(Label(value='sin(x)'), HBox(children=(HBox(children=(ToggleButton(value=False, description='Val…"
      ]
     },
     "metadata": {},
     "output_type": "display_data"
    },
    {
     "data": {
      "text/html": [],
      "text/plain": [
       "sin(x)"
      ]
     },
     "execution_count": 3,
     "metadata": {},
     "output_type": "execute_result"
    }
   ],
   "source": [
    "x = iquib(1.5)\n",
    "np.sin(x)"
   ]
  },
  {
   "cell_type": "markdown",
   "id": "13592451-d92c-413f-b551-a35d797d5ca7",
   "metadata": {},
   "source": [
    "On the other hand, `int` is not a quiby function:"
   ]
  },
  {
   "cell_type": "code",
   "execution_count": 4,
   "id": "4ffd73d6-0005-4bd4-9c09-cdf0b1868e51",
   "metadata": {},
   "outputs": [
    {
     "data": {
      "text/plain": [
       "False"
      ]
     },
     "execution_count": 4,
     "metadata": {},
     "output_type": "execute_result"
    }
   ],
   "source": [
    "qb.is_quiby(int)"
   ]
  },
  {
   "cell_type": "markdown",
   "id": "4ff45860-bbc9-433d-af2e-d8ffc3a9a535",
   "metadata": {},
   "source": [
    "Applying `int` directly on a quib argument will raise an exception. \n",
    "\n",
    "Note though that any non-quiby functions, like `int`, or any user function can be converted be a quiby function using the function `quiby`. \n",
    "See [[User-defined-functions]]."
   ]
  },
  {
   "cell_type": "markdown",
   "id": "d0bc4b1e",
   "metadata": {},
   "source": [
    "### List of all built-in quiby functions\n",
    "\n",
    "To see all available quiby functiuons, use `list_quiby_funcs()`:"
   ]
  },
  {
   "cell_type": "code",
   "execution_count": 5,
   "id": "8716fa43",
   "metadata": {},
   "outputs": [
    {
     "data": {
      "text/plain": [
       "['None: <function identity_function at 0x159afd3f0>',\n",
       " 'None: <function proxy at 0x159afd750>',\n",
       " 'None: <function identity_function_obj2quib at 0x159f7af80>',\n",
       " 'Quib: __add__',\n",
       " 'Quib: __sub__',\n",
       " 'Quib: __mul__',\n",
       " 'Quib: __truediv__',\n",
       " 'Quib: __floordiv__',\n",
       " 'Quib: __mod__',\n",
       " 'Quib: __pow__',\n",
       " 'Quib: __lshift__',\n",
       " 'Quib: __rshift__',\n",
       " 'Quib: __and__',\n",
       " 'Quib: __xor__',\n",
       " 'Quib: __or__',\n",
       " 'Quib: __radd__',\n",
       " 'Quib: __rsub__',\n",
       " 'Quib: __rmul__',\n",
       " 'Quib: __rtruediv__',\n",
       " 'Quib: __rfloordiv__',\n",
       " 'Quib: __rmod__',\n",
       " 'Quib: __rpow__',\n",
       " 'Quib: __rlshift__',\n",
       " 'Quib: __rrshift__',\n",
       " 'Quib: __rand__',\n",
       " 'Quib: __rxor__',\n",
       " 'Quib: __ror__',\n",
       " 'Quib: __ne__',\n",
       " 'Quib: __lt__',\n",
       " 'Quib: __gt__',\n",
       " 'Quib: __ge__',\n",
       " 'Quib: __le__',\n",
       " 'Quib: __matmul__',\n",
       " 'Quib: __neg__',\n",
       " 'Quib: __pos__',\n",
       " 'Quib: __abs__',\n",
       " 'Quib: __invert__',\n",
       " 'Quib: __round__',\n",
       " 'Quib: __trunc__',\n",
       " 'Quib: __floor__',\n",
       " 'Quib: __ceil__',\n",
       " 'Quib: __getitem__',\n",
       " 'Axes: plot',\n",
       " 'Axes: scatter',\n",
       " 'Arc: __new__',\n",
       " 'Arrow: __new__',\n",
       " 'ArrowStyle: __new__',\n",
       " 'BoxStyle: __new__',\n",
       " 'Circle: __new__',\n",
       " 'CirclePolygon: __new__',\n",
       " 'ConnectionPatch: __new__',\n",
       " 'ConnectionStyle: __new__',\n",
       " 'Ellipse: __new__',\n",
       " 'FancyArrow: __new__',\n",
       " 'FancyArrowPatch: __new__',\n",
       " 'FancyBboxPatch: __new__',\n",
       " 'Patch: __new__',\n",
       " 'RegularPolygon: __new__',\n",
       " 'Axes: acorr',\n",
       " 'Axes: angle_spectrum',\n",
       " 'Axes: annotate',\n",
       " 'Axes: arrow',\n",
       " 'Axes: axhline',\n",
       " 'Axes: axhspan',\n",
       " 'Axes: axline',\n",
       " 'Axes: axvline',\n",
       " 'Axes: axvspan',\n",
       " 'Axes: bar',\n",
       " 'Axes: barbs',\n",
       " 'Axes: barh',\n",
       " 'Axes: boxplot',\n",
       " 'Axes: broken_barh',\n",
       " 'Axes: cohere',\n",
       " 'Axes: contour',\n",
       " 'Axes: contourf',\n",
       " 'Axes: csd',\n",
       " 'Axes: errorbar',\n",
       " 'Axes: eventplot',\n",
       " 'Axes: fill',\n",
       " 'Axes: fill_between',\n",
       " 'Axes: fill_betweenx',\n",
       " 'Axes: hexbin',\n",
       " 'Axes: hist',\n",
       " 'Axes: hist2d',\n",
       " 'Axes: hlines',\n",
       " 'Axes: imshow',\n",
       " 'Axes: legend',\n",
       " 'Axes: loglog',\n",
       " 'Axes: magnitude_spectrum',\n",
       " 'Axes: matshow',\n",
       " 'Axes: pcolor',\n",
       " 'Axes: pcolormesh',\n",
       " 'Axes: phase_spectrum',\n",
       " 'Axes: pie',\n",
       " 'Axes: plot_date',\n",
       " 'Axes: psd',\n",
       " 'Axes: quiver',\n",
       " 'Axes: semilogx',\n",
       " 'Axes: semilogy',\n",
       " 'Axes: specgram',\n",
       " 'Axes: spy',\n",
       " 'Axes: stackplot',\n",
       " 'Axes: stairs',\n",
       " 'Axes: stem',\n",
       " 'Axes: step',\n",
       " 'Axes: streamplot',\n",
       " 'Axes: table',\n",
       " 'Axes3D: text2D',\n",
       " 'Axes: tricontour',\n",
       " 'Axes: tricontourf',\n",
       " 'Axes: tripcolor',\n",
       " 'Axes: triplot',\n",
       " 'Axes: violinplot',\n",
       " 'Axes: vlines',\n",
       " 'Axes: xcorr',\n",
       " 'Axes: set_alpha',\n",
       " 'Axes: set_aspect',\n",
       " 'Axes: set_facecolor',\n",
       " 'Axes: set_fc',\n",
       " 'Axes: set_position',\n",
       " 'Axes: set_title',\n",
       " 'Axes: set_visible',\n",
       " 'Axes: set_xlabel',\n",
       " 'Axes: set_xscale',\n",
       " 'Axes: set_xticklabels',\n",
       " 'Axes: set_xticks',\n",
       " 'Axes: set_ylabel',\n",
       " 'Axes: set_yscale',\n",
       " 'Axes: set_yticklabels',\n",
       " 'Axes: set_yticks',\n",
       " 'Axes: grid',\n",
       " 'Axes: bar_label',\n",
       " 'Axes: set_xlim',\n",
       " 'Axes: set_ylim',\n",
       " 'Axes3D: acorr',\n",
       " 'Axes3D: arrow',\n",
       " 'Axes3D: axhline',\n",
       " 'Axes3D: axhspan',\n",
       " 'Axes3D: axis',\n",
       " 'Axes3D: axline',\n",
       " 'Axes3D: axvline',\n",
       " 'Axes3D: axvspan',\n",
       " 'Axes3D: bar',\n",
       " 'Axes3D: bar3d',\n",
       " 'Axes3D: barbs',\n",
       " 'Axes3D: barh',\n",
       " 'Axes3D: boxplot',\n",
       " 'Axes3D: broken_barh',\n",
       " 'Axes3D: bxp',\n",
       " 'Axes3D: contour3D',\n",
       " 'Axes3D: contourf3D',\n",
       " 'Axes3D: csd',\n",
       " 'Axes3D: errorbar',\n",
       " 'Axes3D: eventplot',\n",
       " 'Axes3D: fill',\n",
       " 'Axes3D: fill_between',\n",
       " 'Axes3D: fill_betweenx',\n",
       " 'Axes3D: hist',\n",
       " 'Axes3D: hist2d',\n",
       " 'Axes3D: hlines',\n",
       " 'Axes3D: imshow',\n",
       " 'Axes3D: legend',\n",
       " 'Axes3D: loglog',\n",
       " 'Axes3D: matshow',\n",
       " 'Axes3D: pie',\n",
       " 'Axes3D: plot3D',\n",
       " 'Axes3D: plot_date',\n",
       " 'Axes3D: plot_surface',\n",
       " 'Axes3D: plot_trisurf',\n",
       " 'Axes3D: plot_wireframe',\n",
       " 'Axes3D: quiver3D',\n",
       " 'Axes3D: scatter3D',\n",
       " 'Axes3D: secondary_xaxis',\n",
       " 'Axes3D: secondary_yaxis',\n",
       " 'Axes3D: semilogx',\n",
       " 'Axes3D: semilogy',\n",
       " 'Axes3D: stackplot',\n",
       " 'Axes3D: stairs',\n",
       " 'Axes3D: stem3D',\n",
       " 'Axes3D: text3D',\n",
       " 'Axes3D: tricontour',\n",
       " 'Axes3D: tricontourf',\n",
       " 'Axes3D: tripcolor',\n",
       " 'Axes3D: triplot',\n",
       " 'Axes3D: tunit_cube',\n",
       " 'Axes3D: tunit_edges',\n",
       " 'Axes3D: violin',\n",
       " 'Axes3D: violinplot',\n",
       " 'Axes3D: vlines',\n",
       " 'Axes3D: voxels',\n",
       " 'matplotlib.widgets: RadioButtons',\n",
       " 'matplotlib.widgets: Slider',\n",
       " 'matplotlib.widgets: CheckButtons',\n",
       " 'matplotlib.widgets: RectangleSelector',\n",
       " 'matplotlib.widgets: TextBox',\n",
       " 'matplotlib.image: imread',\n",
       " 'numpy: amin',\n",
       " 'numpy: amax',\n",
       " 'numpy: argmin',\n",
       " 'numpy: argmax',\n",
       " 'numpy: nanargmin',\n",
       " 'numpy: nanargmax',\n",
       " 'numpy: sum',\n",
       " 'numpy: prod',\n",
       " 'numpy: nanprod',\n",
       " 'numpy: nansum',\n",
       " 'numpy: any',\n",
       " 'numpy: all',\n",
       " 'numpy: average',\n",
       " 'numpy: mean',\n",
       " 'numpy: var',\n",
       " 'numpy: std',\n",
       " 'numpy: median',\n",
       " 'numpy: cumsum',\n",
       " 'numpy: cumprod',\n",
       " 'numpy: cumproduct',\n",
       " 'numpy: nancumsum',\n",
       " 'numpy: nancumprod',\n",
       " 'numpy: diff',\n",
       " 'numpy: sort',\n",
       " 'numpy: add',\n",
       " 'numpy: subtract',\n",
       " 'numpy: true_divide',\n",
       " 'numpy: multiply',\n",
       " 'numpy: power',\n",
       " 'numpy: left_shift',\n",
       " 'numpy: right_shift',\n",
       " 'numpy: floor_divide',\n",
       " 'numpy: remainder',\n",
       " 'numpy: hypot',\n",
       " 'numpy: float_power',\n",
       " 'numpy: fmod',\n",
       " 'numpy: lcm',\n",
       " 'numpy: gcd',\n",
       " 'numpy: fmin',\n",
       " 'numpy: fmax',\n",
       " 'numpy: logical_and',\n",
       " 'numpy: logical_or',\n",
       " 'numpy: logical_xor',\n",
       " 'numpy: equal',\n",
       " 'numpy: not_equal',\n",
       " 'numpy: greater',\n",
       " 'numpy: greater_equal',\n",
       " 'numpy: less',\n",
       " 'numpy: less_equal',\n",
       " 'numpy: sqrt',\n",
       " 'numpy: square',\n",
       " 'numpy: sin',\n",
       " 'numpy: cos',\n",
       " 'numpy: tan',\n",
       " 'numpy: arcsin',\n",
       " 'numpy: arccos',\n",
       " 'numpy: arctan',\n",
       " 'numpy: degrees',\n",
       " 'numpy: radians',\n",
       " 'numpy: deg2rad',\n",
       " 'numpy: rad2deg',\n",
       " 'numpy: absolute',\n",
       " 'numpy: real',\n",
       " 'numpy: imag',\n",
       " 'numpy: angle',\n",
       " 'numpy: conjugate',\n",
       " 'numpy: sign',\n",
       " 'numpy: arcsinh',\n",
       " 'numpy: arccosh',\n",
       " 'numpy: arctanh',\n",
       " 'numpy: sinh',\n",
       " 'numpy: cosh',\n",
       " 'numpy: tanh',\n",
       " 'numpy: reciprocal',\n",
       " 'numpy: positive',\n",
       " 'numpy: negative',\n",
       " 'numpy: invert',\n",
       " 'numpy: modf',\n",
       " 'numpy: exp',\n",
       " 'numpy: exp2',\n",
       " 'numpy: expm1',\n",
       " 'numpy: log',\n",
       " 'numpy: log2',\n",
       " 'numpy: log1p',\n",
       " 'numpy: log10',\n",
       " 'numpy: ceil',\n",
       " 'numpy: floor',\n",
       " 'numpy: round',\n",
       " 'numpy: around',\n",
       " 'numpy: rint',\n",
       " 'numpy: fix',\n",
       " 'numpy: trunc',\n",
       " 'numpy: i0',\n",
       " 'numpy: sinc',\n",
       " 'numpy: array',\n",
       " 'numpy: rot90',\n",
       " 'numpy: reshape',\n",
       " 'numpy: transpose',\n",
       " 'numpy: swapaxes',\n",
       " 'numpy: asarray',\n",
       " 'numpy: squeeze',\n",
       " 'numpy: expand_dims',\n",
       " 'numpy: ravel',\n",
       " 'numpy: flip',\n",
       " 'numpy: concatenate',\n",
       " 'numpy: repeat',\n",
       " 'numpy: full',\n",
       " 'numpy: tile',\n",
       " 'numpy: broadcast_to',\n",
       " 'numpy: ones_like',\n",
       " 'numpy: zeros_like',\n",
       " 'numpy: shape',\n",
       " 'numpy: arange',\n",
       " 'numpy: polyfit',\n",
       " 'numpy: interp',\n",
       " 'numpy: linspace',\n",
       " 'numpy: polyval',\n",
       " 'numpy: corrcoef',\n",
       " 'numpy: array2string',\n",
       " 'numpy: zeros',\n",
       " 'numpy: ones',\n",
       " 'numpy: eye',\n",
       " 'numpy: identity',\n",
       " 'numpy: genfromtxt',\n",
       " 'numpy: load',\n",
       " 'numpy: loadtxt',\n",
       " 'numpy.random: rand',\n",
       " 'numpy.random: randn',\n",
       " 'numpy.random: randint',\n",
       " 'numpy: apply_along_axis',\n",
       " 'numpy: vectorize',\n",
       " 'Quib: get_override_mask',\n",
       " 'Quib: get_quiby_name']"
      ]
     },
     "execution_count": 5,
     "metadata": {},
     "output_type": "execute_result"
    }
   ],
   "source": [
    "qb.list_quiby_funcs()"
   ]
  },
  {
   "cell_type": "code",
   "execution_count": null,
   "id": "9bd2547e-e1e6-44db-addc-5881acefec13",
   "metadata": {},
   "outputs": [],
   "source": []
  }
 ],
 "metadata": {
  "kernelspec": {
   "display_name": "Python 3 (ipykernel)",
   "language": "python",
   "name": "python3"
  },
  "language_info": {
   "codemirror_mode": {
    "name": "ipython",
    "version": 3
   },
   "file_extension": ".py",
   "mimetype": "text/x-python",
   "name": "python",
   "nbconvert_exporter": "python",
   "pygments_lexer": "ipython3",
   "version": "3.10.5"
  },
  "widgets": {
   "application/vnd.jupyter.widget-state+json": {
    "state": {
     "00906235da224b9f8ed414ee291548da": {
      "model_module": "@jupyter-widgets/controls",
      "model_module_version": "2.0.0",
      "model_name": "ButtonModel",
      "state": {
       "description": "Props",
       "layout": "IPY_MODEL_955f2620394d4ea58d48be221ea12e43",
       "style": "IPY_MODEL_0419196054f04ac28702de4ac6fc2584",
       "tooltip": "Show quib's properties"
      }
     },
     "0419196054f04ac28702de4ac6fc2584": {
      "model_module": "@jupyter-widgets/controls",
      "model_module_version": "2.0.0",
      "model_name": "ButtonStyleModel",
      "state": {
       "font_family": null,
       "font_size": null,
       "font_style": null,
       "font_variant": null,
       "font_weight": null,
       "text_color": null,
       "text_decoration": null
      }
     },
     "19809b2ee365427b80dd971d7b5ef511": {
      "model_module": "@jupyter-widgets/base",
      "model_module_version": "2.0.0",
      "model_name": "LayoutModel",
      "state": {}
     },
     "2777acde9c0e44bc87e24934dd6d13d5": {
      "model_module": "@jupyter-widgets/controls",
      "model_module_version": "2.0.0",
      "model_name": "HBoxModel",
      "state": {
       "children": [
        "IPY_MODEL_6eba83ec061d4457ad489ce451335f9c"
       ],
       "layout": "IPY_MODEL_670b7daa479d4bed9085469c10db38b3"
      }
     },
     "2b58a32835974cfeac4490ea8b685b4d": {
      "model_module": "@jupyter-widgets/controls",
      "model_module_version": "2.0.0",
      "model_name": "VBoxModel",
      "state": {
       "children": [
        "IPY_MODEL_8d14189b96b64842891a0665582d9a5f",
        "IPY_MODEL_2777acde9c0e44bc87e24934dd6d13d5"
       ],
       "layout": "IPY_MODEL_79e6f9f9d58248aa9b48a0ef07e557c3"
      }
     },
     "5635817498804792a906dfd37bae8d6d": {
      "model_module": "@jupyter-widgets/controls",
      "model_module_version": "2.0.0",
      "model_name": "ToggleButtonModel",
      "state": {
       "description": "Value",
       "layout": "IPY_MODEL_bbdc9e2c37424b5fb3cb44af4d8fef69",
       "style": "IPY_MODEL_a7cc7af53fba4963b439b931563b3732",
       "tooltip": "Show quib's value"
      }
     },
     "670b7daa479d4bed9085469c10db38b3": {
      "model_module": "@jupyter-widgets/base",
      "model_module_version": "2.0.0",
      "model_name": "LayoutModel",
      "state": {}
     },
     "6eba83ec061d4457ad489ce451335f9c": {
      "model_module": "@jupyter-widgets/controls",
      "model_module_version": "2.0.0",
      "model_name": "HBoxModel",
      "state": {
       "children": [
        "IPY_MODEL_5635817498804792a906dfd37bae8d6d",
        "IPY_MODEL_00906235da224b9f8ed414ee291548da"
       ],
       "layout": "IPY_MODEL_a2c913e1d0ee4685ab39ac8c3a0039e7"
      }
     },
     "79e6f9f9d58248aa9b48a0ef07e557c3": {
      "model_module": "@jupyter-widgets/base",
      "model_module_version": "2.0.0",
      "model_name": "LayoutModel",
      "state": {}
     },
     "8d14189b96b64842891a0665582d9a5f": {
      "model_module": "@jupyter-widgets/controls",
      "model_module_version": "2.0.0",
      "model_name": "LabelModel",
      "state": {
       "layout": "IPY_MODEL_19809b2ee365427b80dd971d7b5ef511",
       "style": "IPY_MODEL_a6be05a57e3641a1962543463dbafeae",
       "value": "sin(x)"
      }
     },
     "955f2620394d4ea58d48be221ea12e43": {
      "model_module": "@jupyter-widgets/base",
      "model_module_version": "2.0.0",
      "model_name": "LayoutModel",
      "state": {
       "align_items": "center",
       "display": "flex",
       "height": "20px",
       "width": "auto"
      }
     },
     "a2c913e1d0ee4685ab39ac8c3a0039e7": {
      "model_module": "@jupyter-widgets/base",
      "model_module_version": "2.0.0",
      "model_name": "LayoutModel",
      "state": {
       "width": "284px"
      }
     },
     "a6be05a57e3641a1962543463dbafeae": {
      "model_module": "@jupyter-widgets/controls",
      "model_module_version": "2.0.0",
      "model_name": "LabelStyleModel",
      "state": {
       "description_width": "",
       "font_family": null,
       "font_size": null,
       "font_style": null,
       "font_variant": null,
       "font_weight": null,
       "text_color": null,
       "text_decoration": null
      }
     },
     "a7cc7af53fba4963b439b931563b3732": {
      "model_module": "@jupyter-widgets/controls",
      "model_module_version": "2.0.0",
      "model_name": "ToggleButtonStyleModel",
      "state": {
       "description_width": "",
       "font_family": null,
       "font_size": null,
       "font_style": null,
       "font_variant": null,
       "font_weight": null,
       "text_color": null,
       "text_decoration": null
      }
     },
     "bbdc9e2c37424b5fb3cb44af4d8fef69": {
      "model_module": "@jupyter-widgets/base",
      "model_module_version": "2.0.0",
      "model_name": "LayoutModel",
      "state": {
       "align_items": "center",
       "display": "flex",
       "height": "20px",
       "width": "auto"
      }
     }
    },
    "version_major": 2,
    "version_minor": 0
   }
  }
 },
 "nbformat": 4,
 "nbformat_minor": 5
}
