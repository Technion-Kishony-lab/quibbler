{
 "cells": [
  {
   "cell_type": "markdown",
   "id": "ac6ee2bc",
   "metadata": {},
   "source": [
    "## List of quiby functions"
   ]
  },
  {
   "cell_type": "markdown",
   "id": "9dbf20ed",
   "metadata": {},
   "source": [
    "Quiby functions are functions that have been modified to work directly on quib arguments. When a quiby function is applied on quib arguments, it creates a new quib, whose function is to perform the original function on the *value* of its quib arguments."
   ]
  },
  {
   "cell_type": "code",
   "id": "b26840ea",
   "metadata": {
    "ExecuteTime": {
     "end_time": "2025-08-28T00:17:21.706436Z",
     "start_time": "2025-08-28T00:17:21.317289Z"
    }
   },
   "source": [
    "# Imports\n",
    "import pyquibbler as qb\n",
    "from pyquibbler import iquib\n",
    "qb.initialize_quibbler(show_quibs_as_widgets=False)\n",
    "import numpy as np"
   ],
   "outputs": [],
   "execution_count": 1
  },
  {
   "cell_type": "markdown",
   "id": "56abef4b-fba4-4973-9eb2-8b2d89a0495f",
   "metadata": {},
   "source": [
    "### Checking if a function is 'quiby':\n",
    "\n",
    "To check whether a given function is quiby, use `is_quiby`. \n",
    "\n",
    "For example, `np.sin` is a quiby function:"
   ]
  },
  {
   "cell_type": "code",
   "id": "efc038fd-bfa0-417a-9e90-645c0887f996",
   "metadata": {
    "ExecuteTime": {
     "end_time": "2025-08-28T00:17:24.078531Z",
     "start_time": "2025-08-28T00:17:24.073401Z"
    }
   },
   "source": "qb.is_quiby(np.sin)",
   "outputs": [
    {
     "data": {
      "text/plain": [
       "True"
      ]
     },
     "execution_count": 2,
     "metadata": {},
     "output_type": "execute_result"
    }
   ],
   "execution_count": 2
  },
  {
   "cell_type": "markdown",
   "id": "55650055-bc9f-4d03-9892-db9486aefc9b",
   "metadata": {},
   "source": [
    "We can therefore use it directly on quib arguments:"
   ]
  },
  {
   "cell_type": "code",
   "id": "80cf3d1f-f4ef-48f4-a0d7-d65cde598649",
   "metadata": {
    "ExecuteTime": {
     "end_time": "2025-08-28T00:12:12.518269Z",
     "start_time": "2025-08-28T00:12:12.461130Z"
    }
   },
   "source": [
    "x = iquib(1.5)\n",
    "np.sin(x)"
   ],
   "outputs": [
    {
     "data": {
      "text/plain": [
       "sin(x)"
      ]
     },
     "execution_count": 3,
     "metadata": {},
     "output_type": "execute_result"
    }
   ],
   "execution_count": 3
  },
  {
   "cell_type": "markdown",
   "id": "13592451-d92c-413f-b551-a35d797d5ca7",
   "metadata": {},
   "source": [
    "On the other hand, `int` is not a quiby function:"
   ]
  },
  {
   "cell_type": "code",
   "id": "4ffd73d6-0005-4bd4-9c09-cdf0b1868e51",
   "metadata": {
    "ExecuteTime": {
     "end_time": "2025-08-28T00:12:14.903663Z",
     "start_time": "2025-08-28T00:12:14.900678Z"
    }
   },
   "source": "qb.is_quiby(int)",
   "outputs": [
    {
     "data": {
      "text/plain": [
       "False"
      ]
     },
     "execution_count": 4,
     "metadata": {},
     "output_type": "execute_result"
    }
   ],
   "execution_count": 4
  },
  {
   "cell_type": "markdown",
   "id": "4ff45860-bbc9-433d-af2e-d8ffc3a9a535",
   "metadata": {},
   "source": [
    "Applying `int` directly on a quib argument will raise an exception. \n",
    "\n",
    "Note though that any non-quiby functions, like `int`, or any user function can be converted be a quiby function using the function `quiby`. \n",
    "See [[User-defined-functions]]."
   ]
  },
  {
   "cell_type": "markdown",
   "id": "d0bc4b1e",
   "metadata": {},
   "source": [
    "### List of all built-in quiby functions\n",
    "\n",
    "To see all available quiby functiuons, use `list_quiby_funcs()`:"
   ]
  },
  {
   "cell_type": "code",
   "id": "8716fa43",
   "metadata": {
    "ExecuteTime": {
     "end_time": "2025-08-28T00:17:28.766776Z",
     "start_time": "2025-08-28T00:17:28.761486Z"
    }
   },
   "source": "qb.list_quiby_funcs()",
   "outputs": [
    {
     "data": {
      "text/plain": [
       "['None: <function identity_function at 0x107cd6340>',\n",
       " 'None: <function proxy at 0x107cd6840>',\n",
       " 'None: <function identity_function_obj2quib at 0x107cd6d40>',\n",
       " 'Quib: __add__',\n",
       " 'Quib: __sub__',\n",
       " 'Quib: __mul__',\n",
       " 'Quib: __truediv__',\n",
       " 'Quib: __floordiv__',\n",
       " 'Quib: __mod__',\n",
       " 'Quib: __pow__',\n",
       " 'Quib: __lshift__',\n",
       " 'Quib: __rshift__',\n",
       " 'Quib: __and__',\n",
       " 'Quib: __xor__',\n",
       " 'Quib: __or__',\n",
       " 'Quib: __radd__',\n",
       " 'Quib: __rsub__',\n",
       " 'Quib: __rmul__',\n",
       " 'Quib: __rtruediv__',\n",
       " 'Quib: __rfloordiv__',\n",
       " 'Quib: __rmod__',\n",
       " 'Quib: __rpow__',\n",
       " 'Quib: __rlshift__',\n",
       " 'Quib: __rrshift__',\n",
       " 'Quib: __rand__',\n",
       " 'Quib: __rxor__',\n",
       " 'Quib: __ror__',\n",
       " 'Quib: __ne__',\n",
       " 'Quib: __lt__',\n",
       " 'Quib: __gt__',\n",
       " 'Quib: __ge__',\n",
       " 'Quib: __le__',\n",
       " 'Quib: __matmul__',\n",
       " 'Quib: __neg__',\n",
       " 'Quib: __pos__',\n",
       " 'Quib: __abs__',\n",
       " 'Quib: __invert__',\n",
       " 'Quib: __round__',\n",
       " 'Quib: __trunc__',\n",
       " 'Quib: __floor__',\n",
       " 'Quib: __ceil__',\n",
       " 'Quib: __getitem__',\n",
       " 'Axes: plot',\n",
       " 'Axes: scatter',\n",
       " 'Axes: axvline',\n",
       " 'Axes: axhline',\n",
       " 'Arc: __new__',\n",
       " 'Arrow: __new__',\n",
       " 'ArrowStyle: __new__',\n",
       " 'BoxStyle: __new__',\n",
       " 'Circle: __new__',\n",
       " 'CirclePolygon: __new__',\n",
       " 'ConnectionPatch: __new__',\n",
       " 'ConnectionStyle: __new__',\n",
       " 'Ellipse: __new__',\n",
       " 'FancyArrow: __new__',\n",
       " 'FancyArrowPatch: __new__',\n",
       " 'FancyBboxPatch: __new__',\n",
       " 'Patch: __new__',\n",
       " 'RegularPolygon: __new__',\n",
       " 'Axes: acorr',\n",
       " 'Axes: angle_spectrum',\n",
       " 'Axes: annotate',\n",
       " 'Axes: arrow',\n",
       " 'Axes: axhspan',\n",
       " 'Axes: axline',\n",
       " 'Axes: axvspan',\n",
       " 'Axes: bar',\n",
       " 'Axes: barbs',\n",
       " 'Axes: barh',\n",
       " 'Axes: boxplot',\n",
       " 'Axes: broken_barh',\n",
       " 'Axes: cohere',\n",
       " 'Axes: contour',\n",
       " 'Axes: contourf',\n",
       " 'Axes: csd',\n",
       " 'Axes: errorbar',\n",
       " 'Axes: eventplot',\n",
       " 'Axes: fill',\n",
       " 'Axes: fill_between',\n",
       " 'Axes: fill_betweenx',\n",
       " 'Axes: hexbin',\n",
       " 'Axes: hist',\n",
       " 'Axes: hist2d',\n",
       " 'Axes: hlines',\n",
       " 'Axes: imshow',\n",
       " 'Axes: legend',\n",
       " 'Axes: loglog',\n",
       " 'Axes: magnitude_spectrum',\n",
       " 'Axes: matshow',\n",
       " 'Axes: pcolor',\n",
       " 'Axes: pcolormesh',\n",
       " 'Axes: phase_spectrum',\n",
       " 'Axes: pie',\n",
       " 'Axes: plot_date',\n",
       " 'Axes: psd',\n",
       " 'Axes: quiver',\n",
       " 'Axes: semilogx',\n",
       " 'Axes: semilogy',\n",
       " 'Axes: specgram',\n",
       " 'Axes: spy',\n",
       " 'Axes: stackplot',\n",
       " 'Axes: stairs',\n",
       " 'Axes: stem',\n",
       " 'Axes: step',\n",
       " 'Axes: streamplot',\n",
       " 'Axes: table',\n",
       " 'Axes3D: text2D',\n",
       " 'Axes: tricontour',\n",
       " 'Axes: tricontourf',\n",
       " 'Axes: tripcolor',\n",
       " 'Axes: triplot',\n",
       " 'Axes: violinplot',\n",
       " 'Axes: vlines',\n",
       " 'Axes: xcorr',\n",
       " 'Axes: set_alpha',\n",
       " 'Axes: set_aspect',\n",
       " 'Axes: set_facecolor',\n",
       " 'Axes: set_fc',\n",
       " 'Axes: set_position',\n",
       " 'Axes: set_title',\n",
       " 'Axes: set_visible',\n",
       " 'Axes: set_xlabel',\n",
       " 'Axes: set_xscale',\n",
       " 'Axes: set_xticklabels',\n",
       " 'Axes: set_xticks',\n",
       " 'Axes: set_ylabel',\n",
       " 'Axes: set_yscale',\n",
       " 'Axes: set_yticklabels',\n",
       " 'Axes: set_yticks',\n",
       " 'Axes: grid',\n",
       " 'Axes: bar_label',\n",
       " 'Axes: set_xlim',\n",
       " 'Axes: set_ylim',\n",
       " 'Axes3D: acorr',\n",
       " 'Axes3D: arrow',\n",
       " 'Axes3D: axhline',\n",
       " 'Axes3D: axhspan',\n",
       " 'Axes3D: axis',\n",
       " 'Axes3D: axline',\n",
       " 'Axes3D: axvline',\n",
       " 'Axes3D: axvspan',\n",
       " 'Axes3D: bar',\n",
       " 'Axes3D: bar3d',\n",
       " 'Axes3D: barbs',\n",
       " 'Axes3D: barh',\n",
       " 'Axes3D: boxplot',\n",
       " 'Axes3D: broken_barh',\n",
       " 'Axes3D: bxp',\n",
       " 'Axes3D: contour3D',\n",
       " 'Axes3D: contourf3D',\n",
       " 'Axes3D: csd',\n",
       " 'Axes3D: errorbar',\n",
       " 'Axes3D: eventplot',\n",
       " 'Axes3D: fill',\n",
       " 'Axes3D: fill_between',\n",
       " 'Axes3D: fill_betweenx',\n",
       " 'Axes3D: hist',\n",
       " 'Axes3D: hist2d',\n",
       " 'Axes3D: hlines',\n",
       " 'Axes3D: imshow',\n",
       " 'Axes3D: legend',\n",
       " 'Axes3D: loglog',\n",
       " 'Axes3D: matshow',\n",
       " 'Axes3D: pie',\n",
       " 'Axes3D: plot3D',\n",
       " 'Axes3D: plot_date',\n",
       " 'Axes3D: plot_surface',\n",
       " 'Axes3D: plot_trisurf',\n",
       " 'Axes3D: plot_wireframe',\n",
       " 'Axes3D: quiver3D',\n",
       " 'Axes3D: scatter3D',\n",
       " 'Axes3D: secondary_xaxis',\n",
       " 'Axes3D: secondary_yaxis',\n",
       " 'Axes3D: semilogx',\n",
       " 'Axes3D: semilogy',\n",
       " 'Axes3D: stackplot',\n",
       " 'Axes3D: stairs',\n",
       " 'Axes3D: stem3D',\n",
       " 'Axes3D: text3D',\n",
       " 'Axes3D: tricontour',\n",
       " 'Axes3D: tricontourf',\n",
       " 'Axes3D: tripcolor',\n",
       " 'Axes3D: triplot',\n",
       " 'Axes3D: violin',\n",
       " 'Axes3D: violinplot',\n",
       " 'Axes3D: vlines',\n",
       " 'Axes3D: voxels',\n",
       " 'matplotlib.widgets: RadioButtons',\n",
       " 'matplotlib.widgets: Slider',\n",
       " 'matplotlib.widgets: RangeSlider',\n",
       " 'matplotlib.widgets: CheckButtons',\n",
       " 'matplotlib.widgets: RectangleSelector',\n",
       " 'matplotlib.widgets: TextBox',\n",
       " 'matplotlib.image: imread',\n",
       " 'numpy: empty',\n",
       " 'numpy: empty_like',\n",
       " 'numpy: eye',\n",
       " 'numpy: identity',\n",
       " 'numpy: ones',\n",
       " 'numpy: ones_like',\n",
       " 'numpy: zeros',\n",
       " 'numpy: zeros_like',\n",
       " 'numpy: full',\n",
       " 'numpy: full_like',\n",
       " 'numpy: array',\n",
       " 'numpy: fromfile',\n",
       " 'numpy: arange',\n",
       " 'numpy: linspace',\n",
       " 'numpy: logspace',\n",
       " 'numpy: geomspace',\n",
       " 'numpy: meshgrid',\n",
       " 'numpy: diag',\n",
       " 'numpy: diagflat',\n",
       " 'numpy: tri',\n",
       " 'numpy: tril',\n",
       " 'numpy: triu',\n",
       " 'numpy: vander',\n",
       " 'numpy: shape',\n",
       " 'numpy: reshape',\n",
       " 'numpy: ravel',\n",
       " 'numpy: moveaxis',\n",
       " 'numpy: rollaxis',\n",
       " 'numpy: swapaxes',\n",
       " 'numpy: transpose',\n",
       " 'numpy: atleast_1d',\n",
       " 'numpy: atleast_2d',\n",
       " 'numpy: atleast_3d',\n",
       " 'numpy: broadcast_to',\n",
       " 'numpy: expand_dims',\n",
       " 'numpy: squeeze',\n",
       " 'numpy: asarray',\n",
       " 'numpy: concatenate',\n",
       " 'numpy: stack',\n",
       " 'numpy: vstack',\n",
       " 'numpy: hstack',\n",
       " 'numpy: dstack',\n",
       " 'numpy: column_stack',\n",
       " 'numpy: row_stack',\n",
       " 'numpy: tile',\n",
       " 'numpy: repeat',\n",
       " 'numpy: trim_zeros',\n",
       " 'numpy: unique',\n",
       " 'numpy: flip',\n",
       " 'numpy: fliplr',\n",
       " 'numpy: flipud',\n",
       " 'numpy: roll',\n",
       " 'numpy: rot90',\n",
       " 'numpy: invert',\n",
       " 'numpy: left_shift',\n",
       " 'numpy: right_shift',\n",
       " 'numpy: load',\n",
       " 'numpy: loadtxt',\n",
       " 'numpy: genfromtxt',\n",
       " 'numpy: array2string',\n",
       " 'numpy: dot',\n",
       " 'numpy: vdot',\n",
       " 'numpy: inner',\n",
       " 'numpy: outer',\n",
       " 'numpy: matmul',\n",
       " 'numpy: tensordot',\n",
       " 'numpy: einsum',\n",
       " 'numpy: kron',\n",
       " 'numpy: trace',\n",
       " 'numpy: all',\n",
       " 'numpy: any',\n",
       " 'numpy: isfinite',\n",
       " 'numpy: isinf',\n",
       " 'numpy: isnan',\n",
       " 'numpy: isnat',\n",
       " 'numpy: isneginf',\n",
       " 'numpy: isposinf',\n",
       " 'numpy: iscomplex',\n",
       " 'numpy: iscomplexobj',\n",
       " 'numpy: isreal',\n",
       " 'numpy: isrealobj',\n",
       " 'numpy: isscalar',\n",
       " 'numpy: logical_and',\n",
       " 'numpy: logical_or',\n",
       " 'numpy: logical_not',\n",
       " 'numpy: logical_xor',\n",
       " 'numpy: allclose',\n",
       " 'numpy: isclose',\n",
       " 'numpy: array_equal',\n",
       " 'numpy: array_equiv',\n",
       " 'numpy: greater',\n",
       " 'numpy: greater_equal',\n",
       " 'numpy: less',\n",
       " 'numpy: less_equal',\n",
       " 'numpy: equal',\n",
       " 'numpy: not_equal',\n",
       " 'numpy: sin',\n",
       " 'numpy: cos',\n",
       " 'numpy: tan',\n",
       " 'numpy: arcsin',\n",
       " 'numpy: arccos',\n",
       " 'numpy: arctan',\n",
       " 'numpy: hypot',\n",
       " 'numpy: arctan2',\n",
       " 'numpy: degrees',\n",
       " 'numpy: radians',\n",
       " 'numpy: unwrap',\n",
       " 'numpy: deg2rad',\n",
       " 'numpy: rad2deg',\n",
       " 'numpy: sinh',\n",
       " 'numpy: cosh',\n",
       " 'numpy: tanh',\n",
       " 'numpy: arcsinh',\n",
       " 'numpy: arccosh',\n",
       " 'numpy: arctanh',\n",
       " 'numpy: around',\n",
       " 'numpy: round',\n",
       " 'numpy: rint',\n",
       " 'numpy: fix',\n",
       " 'numpy: floor',\n",
       " 'numpy: ceil',\n",
       " 'numpy: trunc',\n",
       " 'numpy: prod',\n",
       " 'numpy: sum',\n",
       " 'numpy: nanprod',\n",
       " 'numpy: nansum',\n",
       " 'numpy: cumprod',\n",
       " 'numpy: cumsum',\n",
       " 'numpy: nancumprod',\n",
       " 'numpy: nancumsum',\n",
       " 'numpy: diff',\n",
       " 'numpy: ediff1d',\n",
       " 'numpy: exp',\n",
       " 'numpy: expm1',\n",
       " 'numpy: exp2',\n",
       " 'numpy: log',\n",
       " 'numpy: log10',\n",
       " 'numpy: log2',\n",
       " 'numpy: log1p',\n",
       " 'numpy: logaddexp',\n",
       " 'numpy: logaddexp2',\n",
       " 'numpy: i0',\n",
       " 'numpy: sinc',\n",
       " 'numpy: lcm',\n",
       " 'numpy: gcd',\n",
       " 'numpy: add',\n",
       " 'numpy: reciprocal',\n",
       " 'numpy: positive',\n",
       " 'numpy: negative',\n",
       " 'numpy: multiply',\n",
       " 'numpy: true_divide',\n",
       " 'numpy: power',\n",
       " 'numpy: subtract',\n",
       " 'numpy: floor_divide',\n",
       " 'numpy: float_power',\n",
       " 'numpy: fmod',\n",
       " 'numpy: remainder',\n",
       " 'numpy: modf',\n",
       " 'numpy: divmod',\n",
       " 'numpy: angle',\n",
       " 'numpy: real',\n",
       " 'numpy: imag',\n",
       " 'numpy: conjugate',\n",
       " 'numpy: maximum',\n",
       " 'numpy: fmax',\n",
       " 'numpy: amax',\n",
       " 'numpy: max',\n",
       " 'numpy: nanmax',\n",
       " 'numpy: minimum',\n",
       " 'numpy: fmin',\n",
       " 'numpy: amin',\n",
       " 'numpy: min',\n",
       " 'numpy: nanmin',\n",
       " 'numpy: sqrt',\n",
       " 'numpy: square',\n",
       " 'numpy: abs',\n",
       " 'numpy: sign',\n",
       " 'numpy: interp',\n",
       " 'numpy: polyval',\n",
       " 'numpy: polyfit',\n",
       " 'numpy.random: rand',\n",
       " 'numpy.random: randint',\n",
       " 'numpy.random: randn',\n",
       " 'numpy: in1d',\n",
       " 'numpy: intersect1d',\n",
       " 'numpy: isin',\n",
       " 'numpy: setdiff1d',\n",
       " 'numpy: setxor1d',\n",
       " 'numpy: union1d',\n",
       " 'numpy: sort',\n",
       " 'numpy: argsort',\n",
       " 'numpy: argmax',\n",
       " 'numpy: nanargmax',\n",
       " 'numpy: argmin',\n",
       " 'numpy: nanargmin',\n",
       " 'numpy: argwhere',\n",
       " 'numpy: nonzero',\n",
       " 'numpy: flatnonzero',\n",
       " 'numpy: where',\n",
       " 'numpy: searchsorted',\n",
       " 'numpy: extract',\n",
       " 'numpy: count_nonzero',\n",
       " 'numpy: ptp',\n",
       " 'numpy: percentile',\n",
       " 'numpy: nanpercentile',\n",
       " 'numpy: quantile',\n",
       " 'numpy: nanquantile',\n",
       " 'numpy: median',\n",
       " 'numpy: average',\n",
       " 'numpy: mean',\n",
       " 'numpy: std',\n",
       " 'numpy: var',\n",
       " 'numpy: nanmedian',\n",
       " 'numpy: nanmean',\n",
       " 'numpy: nanstd',\n",
       " 'numpy: nanvar',\n",
       " 'numpy: corrcoef',\n",
       " 'numpy: correlate',\n",
       " 'numpy: cov',\n",
       " 'numpy: histogram',\n",
       " 'numpy: histogram2d',\n",
       " 'numpy: histogramdd',\n",
       " 'numpy: bincount',\n",
       " 'numpy: histogram_bin_edges',\n",
       " 'numpy: digitize',\n",
       " 'numpy: bartlett',\n",
       " 'numpy: blackman',\n",
       " 'numpy: hamming',\n",
       " 'numpy: hanning',\n",
       " 'numpy: kaiser',\n",
       " 'numpy: diagonal',\n",
       " 'numpy: size',\n",
       " 'numpy: ndim',\n",
       " 'numpy: apply_along_axis',\n",
       " 'nd_grid: __getitem__',\n",
       " 'numpy: vectorize',\n",
       " 'Quib: get_override_mask',\n",
       " 'Quib: get_quiby_name',\n",
       " 'np.ndarray.T',\n",
       " 'np.ndarray.imag',\n",
       " 'np.ndarray.real',\n",
       " 'np.ndarray.ndim',\n",
       " 'np.ndarray.shape',\n",
       " 'np.ndarray.size',\n",
       " 'np.ndarray.all',\n",
       " 'np.ndarray.any',\n",
       " 'np.ndarray.argmax',\n",
       " 'np.ndarray.argmin',\n",
       " 'np.ndarray.conj',\n",
       " 'np.ndarray.conjugate',\n",
       " 'np.ndarray.cumprod',\n",
       " 'np.ndarray.cumsum',\n",
       " 'np.ndarray.diagonal',\n",
       " 'np.ndarray.flatten',\n",
       " 'np.ndarray.max',\n",
       " 'np.ndarray.mean',\n",
       " 'np.ndarray.min',\n",
       " 'np.ndarray.nonzero',\n",
       " 'np.ndarray.prod',\n",
       " 'np.ndarray.ptp',\n",
       " 'np.ndarray.ravel',\n",
       " 'np.ndarray.repeat',\n",
       " 'np.ndarray.reshape',\n",
       " 'np.ndarray.round',\n",
       " 'np.ndarray.squeeze',\n",
       " 'np.ndarray.std',\n",
       " 'np.ndarray.sum',\n",
       " 'np.ndarray.swapaxes',\n",
       " 'np.ndarray.tolist',\n",
       " 'np.ndarray.trace',\n",
       " 'np.ndarray.transpose',\n",
       " 'np.ndarray.var']"
      ]
     },
     "execution_count": 3,
     "metadata": {},
     "output_type": "execute_result"
    }
   ],
   "execution_count": 3
  },
  {
   "cell_type": "code",
   "execution_count": null,
   "id": "9bd2547e-e1e6-44db-addc-5881acefec13",
   "metadata": {},
   "outputs": [],
   "source": []
  }
 ],
 "metadata": {
  "kernelspec": {
   "display_name": "Python 3 (ipykernel)",
   "language": "python",
   "name": "python3"
  },
  "language_info": {
   "codemirror_mode": {
    "name": "ipython",
    "version": 3
   },
   "file_extension": ".py",
   "mimetype": "text/x-python",
   "name": "python",
   "nbconvert_exporter": "python",
   "pygments_lexer": "ipython3",
   "version": "3.10.8"
  },
  "widgets": {
   "application/vnd.jupyter.widget-state+json": {
    "state": {
     "0e817b9f2db04fe6a667d601801a3a20": {
      "model_module": "@jupyter-widgets/controls",
      "model_module_version": "2.0.0",
      "model_name": "HBoxModel",
      "state": {
       "children": [
        "IPY_MODEL_b1bc0dc8ea3a47f0b57836453fca5533"
       ],
       "layout": "IPY_MODEL_3a13c6c8ee89426f8b88572526f312b3"
      }
     },
     "37d3f467ce5b4ba4aa91e59fa73aea77": {
      "model_module": "@jupyter-widgets/controls",
      "model_module_version": "2.0.0",
      "model_name": "LabelStyleModel",
      "state": {
       "description_width": "",
       "font_family": null,
       "font_size": null,
       "font_style": null,
       "font_variant": null,
       "font_weight": null,
       "text_color": null,
       "text_decoration": null
      }
     },
     "38440884f52d4d5b931b2fb963889cfc": {
      "model_module": "@jupyter-widgets/controls",
      "model_module_version": "2.0.0",
      "model_name": "ButtonModel",
      "state": {
       "description": "Props",
       "layout": "IPY_MODEL_e274c3f5993046fc84423c52fe3017f1",
       "style": "IPY_MODEL_4a0d20b0efdb41b2befca809b269e55e",
       "tooltip": "Show quib's properties"
      }
     },
     "3a13c6c8ee89426f8b88572526f312b3": {
      "model_module": "@jupyter-widgets/base",
      "model_module_version": "2.0.0",
      "model_name": "LayoutModel",
      "state": {}
     },
     "4a0d20b0efdb41b2befca809b269e55e": {
      "model_module": "@jupyter-widgets/controls",
      "model_module_version": "2.0.0",
      "model_name": "ButtonStyleModel",
      "state": {
       "font_family": null,
       "font_size": null,
       "font_style": null,
       "font_variant": null,
       "font_weight": null,
       "text_color": null,
       "text_decoration": null
      }
     },
     "6a1d6cfb6e4a4ca394bf97310f271e63": {
      "model_module": "@jupyter-widgets/controls",
      "model_module_version": "2.0.0",
      "model_name": "ToggleButtonModel",
      "state": {
       "description": "Value",
       "layout": "IPY_MODEL_f2a91369ab61413ca43bc20171d04199",
       "style": "IPY_MODEL_9e4e44f5bc774c19af20717a0d8006b8",
       "tooltip": "Show quib's value"
      }
     },
     "99a66006105048e88bb9d128229e5bdc": {
      "model_module": "@jupyter-widgets/controls",
      "model_module_version": "2.0.0",
      "model_name": "VBoxModel",
      "state": {
       "children": [
        "IPY_MODEL_ff84809608de4137973b1d6138feb5d9",
        "IPY_MODEL_0e817b9f2db04fe6a667d601801a3a20"
       ],
       "layout": "IPY_MODEL_db76766679134b3b80e58f19f5718502"
      }
     },
     "9e4e44f5bc774c19af20717a0d8006b8": {
      "model_module": "@jupyter-widgets/controls",
      "model_module_version": "2.0.0",
      "model_name": "ToggleButtonStyleModel",
      "state": {
       "description_width": "",
       "font_family": null,
       "font_size": null,
       "font_style": null,
       "font_variant": null,
       "font_weight": null,
       "text_color": null,
       "text_decoration": null
      }
     },
     "b1bc0dc8ea3a47f0b57836453fca5533": {
      "model_module": "@jupyter-widgets/controls",
      "model_module_version": "2.0.0",
      "model_name": "HBoxModel",
      "state": {
       "children": [
        "IPY_MODEL_6a1d6cfb6e4a4ca394bf97310f271e63",
        "IPY_MODEL_38440884f52d4d5b931b2fb963889cfc"
       ],
       "layout": "IPY_MODEL_b984cdb1dc224353b578e890e9a29f7e"
      }
     },
     "b984cdb1dc224353b578e890e9a29f7e": {
      "model_module": "@jupyter-widgets/base",
      "model_module_version": "2.0.0",
      "model_name": "LayoutModel",
      "state": {
       "width": "284px"
      }
     },
     "db76766679134b3b80e58f19f5718502": {
      "model_module": "@jupyter-widgets/base",
      "model_module_version": "2.0.0",
      "model_name": "LayoutModel",
      "state": {}
     },
     "e274c3f5993046fc84423c52fe3017f1": {
      "model_module": "@jupyter-widgets/base",
      "model_module_version": "2.0.0",
      "model_name": "LayoutModel",
      "state": {
       "align_items": "center",
       "display": "flex",
       "height": "20px",
       "width": "auto"
      }
     },
     "e552b68fa83e415fadfb384ac990485d": {
      "model_module": "@jupyter-widgets/base",
      "model_module_version": "2.0.0",
      "model_name": "LayoutModel",
      "state": {}
     },
     "f2a91369ab61413ca43bc20171d04199": {
      "model_module": "@jupyter-widgets/base",
      "model_module_version": "2.0.0",
      "model_name": "LayoutModel",
      "state": {
       "align_items": "center",
       "display": "flex",
       "height": "20px",
       "width": "auto"
      }
     },
     "ff84809608de4137973b1d6138feb5d9": {
      "model_module": "@jupyter-widgets/controls",
      "model_module_version": "2.0.0",
      "model_name": "LabelModel",
      "state": {
       "layout": "IPY_MODEL_e552b68fa83e415fadfb384ac990485d",
       "style": "IPY_MODEL_37d3f467ce5b4ba4aa91e59fa73aea77",
       "value": "sin(x)"
      }
     }
    },
    "version_major": 2,
    "version_minor": 0
   }
  }
 },
 "nbformat": 4,
 "nbformat_minor": 5
}
