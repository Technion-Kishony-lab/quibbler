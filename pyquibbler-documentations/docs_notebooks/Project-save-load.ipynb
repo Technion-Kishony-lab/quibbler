{
 "cells": [
  {
   "cell_type": "markdown",
   "id": "ac6ee2bc",
   "metadata": {},
   "source": [
    "## Project save/load"
   ]
  },
  {
   "cell_type": "markdown",
   "id": "18d49e69-9f3b-4ace-8ce5-d200af2e532a",
   "metadata": {},
   "source": [
    "As we explore data, we often make rational changes to parameters by overriding the initial values of either input or function quibs. These overriding assignments can be saved to external files and re-loaded when the session is initiated. Importantly, overriding assignments can be saved in simple text human readable/writable files, providing a transparent record of user defined parameters and changes. The linkage between a quib and its overriding file is bidirectional - changes to the quib overriding assignments can be saved to the file, and changes to the file can be loaded to update the quib."
   ]
  },
  {
   "cell_type": "markdown",
   "id": "7a4b85e0-e01a-4b03-bdab-54e99930d503",
   "metadata": {
    "tags": []
   },
   "source": [
    "### File names and locations\n",
    "\n",
    "By default, quibs save their assignment file to the [[Project]]'s [[Project.directory]], which can be get/set using the functions [[qb.get_project_directory]] and [[qb.set_project_directory]]. \n",
    "\n",
    "Alternatively, each quib can set its own path, either relative to the Project directory, or as an absolute path (see [[Quib.save_directory]]). \n",
    "\n",
    "The name of the file of each quib is defined by its [[Quib.assigned_name]] (only quibs with defined `assigned_name` can save to a file). \n",
    "\n",
    "The ultimate file path for each quib is given by the [[Quib.file_path]] property."
   ]
  },
  {
   "cell_type": "markdown",
   "id": "032c0546-54e7-4c37-ba4a-c7b3fe01a861",
   "metadata": {
    "tags": []
   },
   "source": [
    "### Assignment file format \n",
    "\n",
    "Assignments can be saved as a text file or binary file (`'txt'`, or `'bin'`). The file format can be set globally for all quibs using the Project's [[Project.save_format]], or individually for each quib using the Quib's [[Quib.save_format]]. "
   ]
  },
  {
   "cell_type": "markdown",
   "id": "43a4da4e-cf77-45e3-8d44-07ca6198e94d",
   "metadata": {},
   "source": [
    "### Simple example of assignment saving to file\n",
    "\n",
    "As a simple example for saving quib assignment to file, conider the following code:"
   ]
  },
  {
   "cell_type": "code",
   "execution_count": 1,
   "id": "5d7bb894",
   "metadata": {},
   "outputs": [],
   "source": [
    "# Quibbler import:\n",
    "import pyquibbler as qb\n",
    "from pyquibbler import iquib\n",
    "qb.initialize_quibbler()\n",
    "\n",
    "# Other imports:\n",
    "import numpy as np\n",
    "import matplotlib.pyplot as plt\n",
    "%matplotlib tk"
   ]
  },
  {
   "cell_type": "code",
   "execution_count": 13,
   "id": "770b79ed-27bd-4e01-b5ad-25af473d424e",
   "metadata": {},
   "outputs": [],
   "source": [
    "# set the project path to the current directory\n",
    "import os\n",
    "os.system('mkdir my_data')\n",
    "qb.set_project_directory('my_data')"
   ]
  },
  {
   "cell_type": "code",
   "execution_count": 3,
   "id": "04cae071-8f3c-4e8a-93f3-a4f0ebdf9194",
   "metadata": {},
   "outputs": [
    {
     "data": {
      "text/plain": [
       "<SaveFormat.TXT: 'txt'>"
      ]
     },
     "execution_count": 3,
     "metadata": {},
     "output_type": "execute_result"
    }
   ],
   "source": [
    "# By default, quibs are saved to text file:\n",
    "qb.get_project().save_format"
   ]
  },
  {
   "cell_type": "code",
   "execution_count": 4,
   "id": "7c56b86a-1990-4872-b4b8-1e3dc1ea059c",
   "metadata": {},
   "outputs": [],
   "source": [
    "# Define an iquib and an fquib:\n",
    "xy = iquib([10.5, 17.0])"
   ]
  },
  {
   "cell_type": "code",
   "execution_count": 5,
   "id": "b3941bb3-f497-434e-a6bb-08db14b0bdc5",
   "metadata": {},
   "outputs": [],
   "source": [
    "# Make an assignment\n",
    "xy[1] = 18."
   ]
  },
  {
   "cell_type": "code",
   "execution_count": 6,
   "id": "e733508b-dbc4-4823-9055-d635ffad7a53",
   "metadata": {},
   "outputs": [
    {
     "data": {
      "text/plain": [
       "[10.5, 18.0]"
      ]
     },
     "execution_count": 6,
     "metadata": {},
     "output_type": "execute_result"
    }
   ],
   "source": [
    "xy.get_value()"
   ]
  },
  {
   "cell_type": "code",
   "execution_count": 7,
   "id": "b11db3e8-05a5-4980-8896-8457ca9e796c",
   "metadata": {},
   "outputs": [],
   "source": [
    "# Save all assignments:\n",
    "qb.save_quibs()"
   ]
  },
  {
   "cell_type": "code",
   "execution_count": 8,
   "id": "d0a41bd6-8e57-46e1-b1a5-0568fff6bc9d",
   "metadata": {},
   "outputs": [
    {
     "name": "stdout",
     "output_type": "stream",
     "text": [
      "xy.txt\n"
     ]
    }
   ],
   "source": [
    "os.system('ls my_data');"
   ]
  },
  {
   "cell_type": "code",
   "execution_count": 9,
   "id": "514d9f0a-70ff-452e-bdf4-a19144957250",
   "metadata": {},
   "outputs": [
    {
     "name": "stdout",
     "output_type": "stream",
     "text": [
      "quib[1] = 18.0"
     ]
    }
   ],
   "source": [
    "os.system('cat my_data/xy.txt');"
   ]
  },
  {
   "cell_type": "code",
   "execution_count": 10,
   "id": "6189892d-49e2-4150-abd4-fc212773a936",
   "metadata": {},
   "outputs": [
    {
     "data": {
      "text/plain": [
       "[10.5, 20.0]"
      ]
     },
     "execution_count": 10,
     "metadata": {},
     "output_type": "execute_result"
    }
   ],
   "source": [
    "xy[1] = 20.\n",
    "xy.get_value()"
   ]
  },
  {
   "cell_type": "code",
   "execution_count": 11,
   "id": "92bb0128-4de5-4e98-92b3-d5e632cfb6f7",
   "metadata": {},
   "outputs": [
    {
     "name": "stdout",
     "output_type": "stream",
     "text": [
      "xy\n",
      "Data has changed.\n",
      "Overwrite assignment?\n",
      "1 :  Overwrite\n",
      "2 :  Skip\n"
     ]
    },
    {
     "name": "stdin",
     "output_type": "stream",
     "text": [
      " 1\n"
     ]
    }
   ],
   "source": [
    "qb.load_quibs()"
   ]
  },
  {
   "cell_type": "code",
   "execution_count": 12,
   "id": "5c9ade5b-9d09-43b9-ae3c-e08777899d5f",
   "metadata": {},
   "outputs": [
    {
     "data": {
      "text/plain": [
       "[10.5, 18.0]"
      ]
     },
     "execution_count": 12,
     "metadata": {},
     "output_type": "execute_result"
    }
   ],
   "source": [
    "xy.get_value()"
   ]
  },
  {
   "cell_type": "code",
   "execution_count": null,
   "id": "27f9a6df-e552-4e65-a3a8-7576171e8e31",
   "metadata": {},
   "outputs": [],
   "source": []
  }
 ],
 "metadata": {
  "kernelspec": {
   "display_name": "Python 3 (ipykernel)",
   "language": "python",
   "name": "python3"
  },
  "language_info": {
   "codemirror_mode": {
    "name": "ipython",
    "version": 3
   },
   "file_extension": ".py",
   "mimetype": "text/x-python",
   "name": "python",
   "nbconvert_exporter": "python",
   "pygments_lexer": "ipython3",
   "version": "3.10.4"
  }
 },
 "nbformat": 4,
 "nbformat_minor": 5
}
