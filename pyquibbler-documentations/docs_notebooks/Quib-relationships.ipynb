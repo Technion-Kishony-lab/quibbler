{
 "cells": [
  {
   "cell_type": "markdown",
   "id": "ac6ee2bc",
   "metadata": {},
   "source": [
    "## Quib dependency network"
   ]
  },
  {
   "cell_type": "markdown",
   "id": "0ce205a0-0478-417f-9b4e-5f6b53ba69d6",
   "metadata": {},
   "source": [
    "In *Quibbler*, each quib is connected to quibs that it depends on (upstream quibs) and quibs that depend on it (downstream). *Quibbler* provides simple tools to transverse this relationship network, revealing the parameters affecting for a focal downstream result, or understanding what downstream results are affected by a given parameter or source data. "
   ]
  },
  {
   "cell_type": "code",
   "execution_count": 1,
   "id": "90868099-6406-421e-a634-9ae086377f70",
   "metadata": {},
   "outputs": [],
   "source": [
    "# Quibbler import:\n",
    "import pyquibbler as qb\n",
    "from pyquibbler import iquib\n",
    "qb.initialize_quibbler()"
   ]
  },
  {
   "cell_type": "markdown",
   "id": "7a4b85e0-e01a-4b03-bdab-54e99930d503",
   "metadata": {
    "tags": []
   },
   "source": [
    "### Parents and children\n",
    "\n",
    "For each quib, we can get the quibs immediately upstream to it (parents) or immediately downstream to it (children) using the [[Quib.get_parents]], [[Quib.get_children]] methods. "
   ]
  },
  {
   "cell_type": "code",
   "execution_count": 2,
   "id": "48333315-6fd3-4553-9687-ea1ede053a26",
   "metadata": {},
   "outputs": [],
   "source": [
    "a = iquib(1)\n",
    "b = iquib(2)\n",
    "c = a + b"
   ]
  },
  {
   "cell_type": "code",
   "execution_count": 3,
   "id": "935cbfc9-fbc3-4e3d-92bc-ec867a7ce9d8",
   "metadata": {},
   "outputs": [
    {
     "data": {
      "text/plain": [
       "{a = iquib(1), b = iquib(2)}"
      ]
     },
     "execution_count": 3,
     "metadata": {},
     "output_type": "execute_result"
    }
   ],
   "source": [
    "c.get_parents()"
   ]
  },
  {
   "cell_type": "code",
   "execution_count": 4,
   "id": "3b0c7d1f-1dc8-41fe-9271-2d2c4e6c8832",
   "metadata": {},
   "outputs": [
    {
     "data": {
      "text/plain": [
       "{b < a, c = a + b}"
      ]
     },
     "execution_count": 4,
     "metadata": {},
     "output_type": "execute_result"
    }
   ],
   "source": [
    "a.get_children()"
   ]
  },
  {
   "cell_type": "markdown",
   "id": "02c0b5ae-fbb2-42d0-beb1-56770625a328",
   "metadata": {},
   "source": [
    "When we consider the children or parents of a quib, we might get unnamed quibs, typically representing intermediate results. For example:"
   ]
  },
  {
   "cell_type": "code",
   "execution_count": 5,
   "id": "c53f63c6-b0af-457c-b8b5-61626f834d82",
   "metadata": {},
   "outputs": [
    {
     "data": {
      "text/plain": [
       "{a + 10}"
      ]
     },
     "execution_count": 5,
     "metadata": {},
     "output_type": "execute_result"
    }
   ],
   "source": [
    "a = iquib(1)\n",
    "c = (a + 10) * 2\n",
    "c.get_parents()"
   ]
  },
  {
   "cell_type": "markdown",
   "id": "4e417713-24e8-449b-a12c-36483bef48ec",
   "metadata": {},
   "source": [
    "To byass these intermediate quibs and get the more relevant, named quibs, we can use the `bypass_intermediate_quibs` option:"
   ]
  },
  {
   "cell_type": "code",
   "execution_count": 6,
   "id": "ec7de78b-8197-4237-be53-8b37aad60ef9",
   "metadata": {},
   "outputs": [
    {
     "data": {
      "text/plain": [
       "{a = iquib(1)}"
      ]
     },
     "execution_count": 6,
     "metadata": {},
     "output_type": "execute_result"
    }
   ],
   "source": [
    "c.get_parents(bypass_intermediate_quibs=True)"
   ]
  },
  {
   "cell_type": "markdown",
   "id": "032c0546-54e7-4c37-ba4a-c7b3fe01a861",
   "metadata": {
    "tags": []
   },
   "source": [
    "### Ancestors and descendants \n",
    "\n",
    "To recursively find all the quibs that affect a focal quib (ancestors) or all the quibs that are affected by a focal quib, we use the [[Quib.get_ancestors]], [[Quib.get_descendants]]:"
   ]
  },
  {
   "cell_type": "code",
   "execution_count": 7,
   "id": "b9195d48-b708-41df-a89c-08857f13ea7b",
   "metadata": {},
   "outputs": [],
   "source": [
    "import numpy as np\n",
    "\n",
    "a = iquib(1)\n",
    "b = a + 10\n",
    "c = (b * 2) + a\n",
    "d = np.log(c)"
   ]
  },
  {
   "cell_type": "code",
   "execution_count": 8,
   "id": "c3f31b6e-909a-4ce1-a0e5-7e0e188c589d",
   "metadata": {},
   "outputs": [
    {
     "data": {
      "text/plain": [
       "{a = iquib(1), b = a + 10, b * 2, c = b * 2 + a}"
      ]
     },
     "execution_count": 8,
     "metadata": {},
     "output_type": "execute_result"
    }
   ],
   "source": [
    "d.get_ancestors()"
   ]
  },
  {
   "cell_type": "markdown",
   "id": "24a399e6-16c3-40dd-981f-f4441d4f40ec",
   "metadata": {},
   "source": [
    "Again, we can limit to named quibs:"
   ]
  },
  {
   "cell_type": "code",
   "execution_count": 9,
   "id": "f0aac306-8aa2-494f-b91c-9df22bdd5a24",
   "metadata": {},
   "outputs": [
    {
     "data": {
      "text/plain": [
       "{a = iquib(1), b = a + 10, c = b * 2 + a}"
      ]
     },
     "execution_count": 9,
     "metadata": {},
     "output_type": "execute_result"
    }
   ],
   "source": [
    "d.get_ancestors(bypass_intermediate_quibs=True)"
   ]
  },
  {
   "cell_type": "markdown",
   "id": "77d5f28a-ebb7-40a0-8d89-ab653a33e18f",
   "metadata": {},
   "source": [
    "For example, to find all the inputs affecting a focal quib, we can use:"
   ]
  },
  {
   "cell_type": "code",
   "execution_count": 10,
   "id": "ead9561b-84a9-4cbc-927b-aad25bafcf51",
   "metadata": {},
   "outputs": [
    {
     "data": {
      "text/plain": [
       "{a = iquib(1)}"
      ]
     },
     "execution_count": 10,
     "metadata": {},
     "output_type": "execute_result"
    }
   ],
   "source": [
    "{ancestor for ancestor in d.get_ancestors() if ancestor.is_iquib}"
   ]
  },
  {
   "cell_type": "markdown",
   "id": "43a4da4e-cf77-45e3-8d44-07ca6198e94d",
   "metadata": {},
   "source": [
    "### Displaying the dependency graph\n",
    "\n",
    "When working within *Jupyter lab* (either with or without the *pyquibbler-labextension*), we can graphically display the relationship graph of connected quibs, using the [[qb.dependency_graph]] function. "
   ]
  },
  {
   "cell_type": "code",
   "execution_count": 11,
   "id": "ebe3045e-9396-42c3-b574-99f3b7a355ba",
   "metadata": {},
   "outputs": [],
   "source": [
    "from pyquibbler import dependency_graph"
   ]
  },
  {
   "cell_type": "code",
   "execution_count": 12,
   "id": "e8f0a659-5cc4-48db-9d2d-8074266028a8",
   "metadata": {},
   "outputs": [],
   "source": [
    "dependency_graph(c)"
   ]
  },
  {
   "cell_type": "markdown",
   "id": "f6d0d809-6e64-4310-a087-e6657b9baacf",
   "metadata": {},
   "source": [
    "[[/images/dependency_graph_1.png]]"
   ]
  },
  {
   "cell_type": "markdown",
   "id": "8d795cb7-b0da-4688-9eac-e7c1a5f7b56e",
   "metadata": {},
   "source": [
    "The dependency graph allows multiple options for restricting the network to quibs affecting or affected by a focal quib. See the function documentation for more detail ([[qb.dependency_graph]])"
   ]
  }
 ],
 "metadata": {
  "kernelspec": {
   "display_name": "Python 3 (ipykernel)",
   "language": "python",
   "name": "python3"
  },
  "language_info": {
   "codemirror_mode": {
    "name": "ipython",
    "version": 3
   },
   "file_extension": ".py",
   "mimetype": "text/x-python",
   "name": "python",
   "nbconvert_exporter": "python",
   "pygments_lexer": "ipython3",
   "version": "3.10.5"
  },
  "widgets": {
   "application/vnd.jupyter.widget-state+json": {
    "state": {},
    "version_major": 2,
    "version_minor": 0
   }
  }
 },
 "nbformat": 4,
 "nbformat_minor": 5
}
