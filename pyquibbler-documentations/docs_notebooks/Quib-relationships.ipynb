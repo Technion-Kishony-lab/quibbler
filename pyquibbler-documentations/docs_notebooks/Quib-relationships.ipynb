{
 "cells": [
  {
   "cell_type": "markdown",
   "id": "ac6ee2bc",
   "metadata": {},
   "source": [
    "## Quib dependency network"
   ]
  },
  {
   "cell_type": "markdown",
   "id": "0ce205a0-0478-417f-9b4e-5f6b53ba69d6",
   "metadata": {},
   "source": [
    "In *Quibbler*, each quib is connected to quibs that it depends on (upstream quibs) and quibs that depend on it (downstream). *Quibbler* provides simple tools to transverse this relationship network, revealing the parameters affecting for a focal downstream result, or understanding what downstream results are affected by a given parameter or source data. "
   ]
  },
  {
   "cell_type": "code",
   "execution_count": 1,
   "id": "90868099-6406-421e-a634-9ae086377f70",
   "metadata": {},
   "outputs": [],
   "source": [
    "# Quibbler import:\n",
    "import pyquibbler as qb\n",
    "from pyquibbler import iquib\n",
    "qb.initialize_quibbler()"
   ]
  },
  {
   "cell_type": "markdown",
   "id": "7a4b85e0-e01a-4b03-bdab-54e99930d503",
   "metadata": {
    "tags": []
   },
   "source": [
    "### Parents and children\n",
    "\n",
    "For each quib, we can get the quibs immediately upstream to it (parents) or immediately downstream to it (children) using the [[Quib.get_parents]], [[Quib.get_children]] methods. "
   ]
  },
  {
   "cell_type": "code",
   "execution_count": 2,
   "id": "48333315-6fd3-4553-9687-ea1ede053a26",
   "metadata": {},
   "outputs": [],
   "source": [
    "a = iquib(1)\n",
    "b = iquib(2)\n",
    "c = a + b"
   ]
  },
  {
   "cell_type": "code",
   "execution_count": 3,
   "id": "935cbfc9-fbc3-4e3d-92bc-ec867a7ce9d8",
   "metadata": {},
   "outputs": [
    {
     "data": {
      "text/plain": [
       "{a = iquib(1), b = iquib(2)}"
      ]
     },
     "execution_count": 3,
     "metadata": {},
     "output_type": "execute_result"
    }
   ],
   "source": [
    "c.get_parents()"
   ]
  },
  {
   "cell_type": "code",
   "execution_count": 4,
   "id": "3b0c7d1f-1dc8-41fe-9271-2d2c4e6c8832",
   "metadata": {},
   "outputs": [
    {
     "data": {
      "text/plain": [
       "{c = a + b}"
      ]
     },
     "execution_count": 4,
     "metadata": {},
     "output_type": "execute_result"
    }
   ],
   "source": [
    "a.get_children()"
   ]
  },
  {
   "cell_type": "markdown",
   "id": "02c0b5ae-fbb2-42d0-beb1-56770625a328",
   "metadata": {},
   "source": [
    "When we consider the children or parents of a quib, we might get unnamed quibs, typically representing intermediate results. For example:"
   ]
  },
  {
   "cell_type": "code",
   "execution_count": 5,
   "id": "c53f63c6-b0af-457c-b8b5-61626f834d82",
   "metadata": {},
   "outputs": [
    {
     "data": {
      "text/plain": [
       "{a + 10}"
      ]
     },
     "execution_count": 5,
     "metadata": {},
     "output_type": "execute_result"
    }
   ],
   "source": [
    "a = iquib(1)\n",
    "c = (a + 10) * 2\n",
    "c.get_parents()"
   ]
  },
  {
   "cell_type": "markdown",
   "id": "4e417713-24e8-449b-a12c-36483bef48ec",
   "metadata": {},
   "source": [
    "To byass these intermediate quibs and get the more relevant, named quibs, we can use the `bypass_intermediate_quibs` option:"
   ]
  },
  {
   "cell_type": "code",
   "execution_count": 6,
   "id": "ec7de78b-8197-4237-be53-8b37aad60ef9",
   "metadata": {},
   "outputs": [
    {
     "data": {
      "text/plain": [
       "{a = iquib(1)}"
      ]
     },
     "execution_count": 6,
     "metadata": {},
     "output_type": "execute_result"
    }
   ],
   "source": [
    "c.get_parents(bypass_intermediate_quibs=True)"
   ]
  },
  {
   "cell_type": "markdown",
   "id": "032c0546-54e7-4c37-ba4a-c7b3fe01a861",
   "metadata": {
    "tags": []
   },
   "source": [
    "### Ancestors and descendants \n",
    "\n",
    "To recursively find all the quibs that affect a focal quib (ancestors) or all the quibs that are affected by a focal quib, we use the [[Quib.get_ancestors]], [[Quib.get_descendants]]:"
   ]
  },
  {
   "cell_type": "code",
   "execution_count": 7,
   "id": "b9195d48-b708-41df-a89c-08857f13ea7b",
   "metadata": {},
   "outputs": [],
   "source": [
    "import numpy as np\n",
    "\n",
    "a = iquib(1)\n",
    "b = a + 10\n",
    "c = (b * 2) + a\n",
    "d = np.log(c)"
   ]
  },
  {
   "cell_type": "code",
   "execution_count": 8,
   "id": "c3f31b6e-909a-4ce1-a0e5-7e0e188c589d",
   "metadata": {},
   "outputs": [
    {
     "data": {
      "text/plain": [
       "{a = iquib(1), b = a + 10, b * 2, c = b*2 + a}"
      ]
     },
     "execution_count": 8,
     "metadata": {},
     "output_type": "execute_result"
    }
   ],
   "source": [
    "d.get_ancestors()"
   ]
  },
  {
   "cell_type": "markdown",
   "id": "24a399e6-16c3-40dd-981f-f4441d4f40ec",
   "metadata": {},
   "source": [
    "Again, we can limit to named quibs:"
   ]
  },
  {
   "cell_type": "code",
   "execution_count": 9,
   "id": "f0aac306-8aa2-494f-b91c-9df22bdd5a24",
   "metadata": {},
   "outputs": [
    {
     "data": {
      "text/plain": [
       "{a = iquib(1), b = a + 10, c = b*2 + a}"
      ]
     },
     "execution_count": 9,
     "metadata": {},
     "output_type": "execute_result"
    }
   ],
   "source": [
    "d.get_ancestors(bypass_intermediate_quibs=True)"
   ]
  },
  {
   "cell_type": "markdown",
   "id": "77d5f28a-ebb7-40a0-8d89-ab653a33e18f",
   "metadata": {},
   "source": [
    "For example, to find all the inputs affecting a focal quib, we can use:"
   ]
  },
  {
   "cell_type": "code",
   "execution_count": 10,
   "id": "ead9561b-84a9-4cbc-927b-aad25bafcf51",
   "metadata": {},
   "outputs": [
    {
     "data": {
      "text/plain": [
       "{a = iquib(1)}"
      ]
     },
     "execution_count": 10,
     "metadata": {},
     "output_type": "execute_result"
    }
   ],
   "source": [
    "{ancestor for ancestor in d.get_ancestors() if ancestor.is_iquib}"
   ]
  },
  {
   "cell_type": "markdown",
   "id": "43a4da4e-cf77-45e3-8d44-07ca6198e94d",
   "metadata": {},
   "source": [
    "### Displaying the dependency graph\n",
    "\n",
    "When working within *Jupyter lab* (either with or without the *pyquibbler-labextension*), we can graphically display the relationship graph of connected quibs, using the [[qb.quib_network.dependency_graph]] function. "
   ]
  },
  {
   "cell_type": "code",
   "execution_count": 12,
   "id": "ebe3045e-9396-42c3-b574-99f3b7a355ba",
   "metadata": {},
   "outputs": [],
   "source": [
    "from pyquibbler.quib_network import dependency_graph"
   ]
  },
  {
   "cell_type": "code",
   "execution_count": 13,
   "id": "5e96010e-6e5c-447e-a4a8-8c5d6e74d76f",
   "metadata": {},
   "outputs": [],
   "source": [
    "dependency_graph(c)"
   ]
  },
  {
   "cell_type": "markdown",
   "id": "f6d0d809-6e64-4310-a087-e6657b9baacf",
   "metadata": {},
   "source": [
    "[[/images/dependency_graph_1.png]]"
   ]
  },
  {
   "cell_type": "markdown",
   "id": "8d795cb7-b0da-4688-9eac-e7c1a5f7b56e",
   "metadata": {},
   "source": [
    "The dependency graph allows multiple options for restricting the network to quibs affecting or affected by a focal quib. See the function documentation for more detail ([[qb.quib_network.dependency_graph]])"
   ]
  }
 ],
 "metadata": {
  "kernelspec": {
   "display_name": "Python 3 (ipykernel)",
   "language": "python",
   "name": "python3"
  },
  "language_info": {
   "codemirror_mode": {
    "name": "ipython",
    "version": 3
   },
   "file_extension": ".py",
   "mimetype": "text/x-python",
   "name": "python",
   "nbconvert_exporter": "python",
   "pygments_lexer": "ipython3",
   "version": "3.10.5"
  },
  "widgets": {
   "application/vnd.jupyter.widget-state+json": {
    "state": {
     "013f66998715493ead9a7e868671c236": {
      "model_module": "jupyter-cytoscape",
      "model_module_version": "^1.3.3",
      "model_name": "NodeModel",
      "state": {
       "_model_module_version": "^1.3.3",
       "_view_module_version": "^1.3.3",
       "data": {
        "id": "5873889776",
        "name": "b = a + 10",
        "tooltip": "<!DOCTYPE html><html><div style=\"background-color:white\"><h3 style=\"font-size:14px\">b = a + 10</h3><h4 style=\"font-size:12px; margin-bottom: 0px; margin-top: 6px\">Function</h4><table style = \"width:400px\"><tr height:70%><td style=\"width:30%\"><div style=\"float:right; font-weight:bold; font-size:10px\">func:</div></td><td ><div style=\"float:left; font-size:10px\">&lt;built-in function add&gt;</div></td></tr><tr height:70%><td style=\"width:30%\"><div style=\"float:right; font-weight:bold; font-size:10px\">is_iquib:</div></td><td ><div style=\"float:left; font-size:10px\">False</div></td></tr><tr height:70%><td style=\"width:30%\"><div style=\"float:right; font-weight:bold; font-size:10px\">is_random:</div></td><td ><div style=\"float:left; font-size:10px\">False</div></td></tr><tr height:70%><td style=\"width:30%\"><div style=\"float:right; font-weight:bold; font-size:10px\">is_file_loading:</div></td><td ><div style=\"float:left; font-size:10px\">False</div></td></tr><tr height:70%><td style=\"width:30%\"><div style=\"float:right; font-weight:bold; font-size:10px\">is_graphics:</div></td><td ><div style=\"float:left; font-size:10px\">False</div></td></tr><tr height:70%><td style=\"width:30%\"><div style=\"float:right; font-weight:bold; font-size:10px\">pass_quibs:</div></td><td ><div style=\"float:left; font-size:10px\">False</div></td></tr></table><h4 style=\"font-size:12px; margin-bottom: 0px; margin-top: 6px\">Arguments</h4><table style = \"width:400px\"><tr height:70%><td style=\"width:30%\"><div style=\"float:right; font-weight:bold; font-size:10px\">args:</div></td><td ><div style=\"float:left; font-size:10px\">(a = iquib(1), 10)</div></td></tr><tr height:70%><td style=\"width:30%\"><div style=\"float:right; font-weight:bold; font-size:10px\">kwargs:</div></td><td ><div style=\"float:left; font-size:10px\">{}</div></td></tr></table><h4 style=\"font-size:12px; margin-bottom: 0px; margin-top: 6px\">File saving</h4><table style = \"width:400px\"><tr height:70%><td style=\"width:30%\"><div style=\"float:right; font-weight:bold; font-size:10px\">save_format:</div></td><td ><div style=\"float:left; font-size:10px\">None &rarr; TXT</div></td></tr><tr height:70%><td style=\"width:30%\"><div style=\"float:right; font-weight:bold; font-size:10px\">file_path:</div></td><td ><div style=\"float:left; font-size:10px\">[Save in notebook]</div></td></tr></table><h4 style=\"font-size:12px; margin-bottom: 0px; margin-top: 6px\">Assignments</h4><table style = \"width:400px\"><tr height:70%><td style=\"width:30%\"><div style=\"float:right; font-weight:bold; font-size:10px\">assignment_template:</div></td><td ><div style=\"float:left; font-size:10px\">None</div></td></tr><tr height:70%><td style=\"width:30%\"><div style=\"float:right; font-weight:bold; font-size:10px\">allow_overriding:</div></td><td ><div style=\"float:left; font-size:10px\">False</div></td></tr><tr height:70%><td style=\"width:30%\"><div style=\"float:right; font-weight:bold; font-size:10px\">assigned_quibs:</div></td><td ><div style=\"float:left; font-size:10px\">None</div></td></tr></table><h4 style=\"font-size:12px; margin-bottom: 0px; margin-top: 6px\">Caching</h4><table style = \"width:400px\"><tr height:70%><td style=\"width:30%\"><div style=\"float:right; font-weight:bold; font-size:10px\">cache_mode:</div></td><td ><div style=\"float:left; font-size:10px\">AUTO</div></td></tr><tr height:70%><td style=\"width:30%\"><div style=\"float:right; font-weight:bold; font-size:10px\">cache_status:</div></td><td ><div style=\"float:left; font-size:10px\">ALL_INVALID</div></td></tr></table><h4 style=\"font-size:12px; margin-bottom: 0px; margin-top: 6px\">Graphics</h4><table style = \"width:400px\"><tr height:70%><td style=\"width:30%\"><div style=\"float:right; font-weight:bold; font-size:10px\">graphics_update:</div></td><td ><div style=\"float:left; font-size:10px\">None &rarr; DRAG</div></td></tr><tr height:70%><td style=\"width:30%\"><div style=\"float:right; font-weight:bold; font-size:10px\">is_graphics_quib:</div></td><td ><div style=\"float:left; font-size:10px\">False</div></td></tr></table></div></html>"
       },
       "grabbable": true,
       "grabbed": false,
       "position": {
        "x": 42.8875,
        "y": 87.7
       },
       "selectable": false
      }
     },
     "05252030c0b749c6b07092d3fe8b5be0": {
      "model_module": "@jupyter-widgets/base",
      "model_module_version": "2.0.0",
      "model_name": "LayoutModel",
      "state": {}
     },
     "14a83289bfd94ec9a1e9e3a50e646a52": {
      "model_module": "jupyter-cytoscape",
      "model_module_version": "^1.3.3",
      "model_name": "EdgeModel",
      "state": {
       "_model_module_version": "^1.3.3",
       "_view_module_version": "^1.3.3",
       "classes": " directed  data_source ",
       "data": {
        "id": "5d52a839-ff59-4adc-95e4-b098e86a2730",
        "source": "5875028544",
        "target": "5875025712"
       },
       "selectable": false
      }
     },
     "14daa09e8f464473bd3173126f68aac4": {
      "model_module": "jupyter-cytoscape",
      "model_module_version": "^1.3.3",
      "model_name": "NodeModel",
      "state": {
       "_model_module_version": "^1.3.3",
       "_view_module_version": "^1.3.3",
       "classes": "hidden",
       "data": {
        "id": "10",
        "name": "Parameter",
        "tooltip": ""
       },
       "grabbable": true,
       "grabbed": false,
       "position": {
        "x": 35,
        "y": 300
       },
       "selectable": false
      }
     },
     "24303237b78f4d6d93bfea4f86915379": {
      "model_module": "jupyter-cytoscape",
      "model_module_version": "^1.3.3",
      "model_name": "GraphModel",
      "state": {
       "_adj": {
        "0": {},
        "1": {},
        "10": {
         "12": 1
        },
        "11": {},
        "12": {},
        "13": {},
        "2": {},
        "3": {},
        "4": {}
       },
       "_model_module_version": "^1.3.3",
       "_view_module": "jupyter-cytoscape",
       "_view_module_version": "^1.3.3",
       "edges": [
        "IPY_MODEL_b434d5d687134e0fae8df3cc7f664369",
        "IPY_MODEL_b3f55b4b6867466f92c67facd1c11cdd"
       ],
       "nodes": [
        "IPY_MODEL_f520c5b68edd4645aa96e9307e04d978",
        "IPY_MODEL_a8afb7543ef948659a9ab964b0ce17e2",
        "IPY_MODEL_b4a8bdcf6580407d91897ad70d8b9303",
        "IPY_MODEL_91e27b3b21c4427fadde426b6b896ba4",
        "IPY_MODEL_5c3a513ba6dc42a49aa87e18830d6aba",
        "IPY_MODEL_14daa09e8f464473bd3173126f68aac4",
        "IPY_MODEL_5c168d8e6efa4ff0bd2cfbd5cf1d2698",
        "IPY_MODEL_c727e8f78fe343c49bf2ba871b31c856",
        "IPY_MODEL_c65ba81b5d7e44a79c50321e0017118f"
       ]
      }
     },
     "401cff77cb0b4ffd8ab49462382937e2": {
      "model_module": "jupyter-cytoscape",
      "model_module_version": "^1.3.3",
      "model_name": "EdgeModel",
      "state": {
       "_model_module_version": "^1.3.3",
       "_view_module_version": "^1.3.3",
       "classes": " directed  data_source ",
       "data": {
        "id": "0d01fc54-f5f1-40fb-a809-cc3eae74480f",
        "source": "5874663728",
        "target": "5875028544"
       },
       "selectable": false
      }
     },
     "58e0694bf46a4920af914251232ea704": {
      "model_module": "jupyter-cytoscape",
      "model_module_version": "^1.3.3",
      "model_name": "GraphModel",
      "state": {
       "_adj": {},
       "_model_module_version": "^1.3.3",
       "_view_module": "jupyter-cytoscape",
       "_view_module_version": "^1.3.3"
      }
     },
     "5c168d8e6efa4ff0bd2cfbd5cf1d2698": {
      "model_module": "jupyter-cytoscape",
      "model_module_version": "^1.3.3",
      "model_name": "NodeModel",
      "state": {
       "_model_module_version": "^1.3.3",
       "_view_module_version": "^1.3.3",
       "classes": "hidden",
       "data": {
        "id": "12",
        "name": "",
        "tooltip": ""
       },
       "grabbable": true,
       "grabbed": false,
       "position": {
        "x": 100,
        "y": 300
       },
       "selectable": false
      }
     },
     "5c3a513ba6dc42a49aa87e18830d6aba": {
      "model_module": "jupyter-cytoscape",
      "model_module_version": "^1.3.3",
      "model_name": "NodeModel",
      "state": {
       "_model_module_version": "^1.3.3",
       "_view_module_version": "^1.3.3",
       "classes": "graphics",
       "data": {
        "id": "4",
        "name": "graphics",
        "tooltip": ""
       },
       "grabbable": true,
       "grabbed": false,
       "position": {
        "x": 35,
        "y": 250
       },
       "selectable": false
      }
     },
     "67872b80d8504adeadb1572655c61e6e": {
      "model_module": "jupyter-cytoscape",
      "model_module_version": "^1.3.3",
      "model_name": "EdgeModel",
      "state": {
       "_model_module_version": "^1.3.3",
       "_view_module_version": "^1.3.3",
       "classes": " directed  data_source ",
       "data": {
        "id": "6695d844-aa50-42ad-b0b7-81dcbf2ec82b",
        "source": "5874663728",
        "target": "5873889776"
       },
       "selectable": false
      }
     },
     "67e002927c78432da8d28445438fe0f7": {
      "model_module": "@jupyter-widgets/base",
      "model_module_version": "2.0.0",
      "model_name": "LayoutModel",
      "state": {}
     },
     "6e4fc84167074f839ede117485d80f72": {
      "model_module": "jupyter-cytoscape",
      "model_module_version": "^1.3.3",
      "model_name": "GraphModel",
      "state": {
       "_adj": {},
       "_model_module_version": "^1.3.3",
       "_view_module": "jupyter-cytoscape",
       "_view_module_version": "^1.3.3"
      }
     },
     "91e27b3b21c4427fadde426b6b896ba4": {
      "model_module": "jupyter-cytoscape",
      "model_module_version": "^1.3.3",
      "model_name": "NodeModel",
      "state": {
       "_model_module_version": "^1.3.3",
       "_view_module_version": "^1.3.3",
       "classes": "overridden null",
       "data": {
        "id": "3",
        "name": "overridden",
        "tooltip": ""
       },
       "grabbable": true,
       "grabbed": false,
       "position": {
        "x": 35,
        "y": 200
       },
       "selectable": false
      }
     },
     "a8afb7543ef948659a9ab964b0ce17e2": {
      "model_module": "jupyter-cytoscape",
      "model_module_version": "^1.3.3",
      "model_name": "NodeModel",
      "state": {
       "_model_module_version": "^1.3.3",
       "_view_module_version": "^1.3.3",
       "data": {
        "id": "1",
        "name": "function",
        "tooltip": ""
       },
       "grabbable": true,
       "grabbed": false,
       "position": {
        "x": 35,
        "y": 100
       },
       "selectable": false
      }
     },
     "b046bd70289b4c9d88a581444ea7ff42": {
      "model_module": "jupyter-cytoscape",
      "model_module_version": "^1.3.3",
      "model_name": "CytoscapeModel",
      "state": {
       "_interaction_handlers": {},
       "_model_module_version": "^1.3.3",
       "_view_module_version": "^1.3.3",
       "auto_ungrabify": false,
       "autolock": false,
       "cytoscape_layout": {
        "edgeLengthVal": 0,
        "name": "dagre",
        "nodeSpacing": 2,
        "spacingFactor": 1.2
       },
       "cytoscape_style": [
        {
         "selector": "edge",
         "style": {
          "line-color": "#909090",
          "width": 3
         }
        },
        {
         "selector": "edge.directed",
         "style": {
          "curve-style": "bezier",
          "target-arrow-color": "#909090",
          "target-arrow-shape": "triangle"
         }
        },
        {
         "selector": "edge.data_source",
         "style": {
          "line-color": "#00D7FF",
          "target-arrow-color": "#00D7FF"
         }
        },
        {
         "css": {
          "background-color": "#00D7FF",
          "border-color": "black",
          "border-width": 0.5,
          "content": "data(name)",
          "font-size": 12,
          "text-halign": "right",
          "text-valign": "center"
         },
         "selector": "node"
        },
        {
         "css": {
          "shape": "diamond",
          "text-halign": "center",
          "text-valign": "top"
         },
         "selector": "node.iquib"
        },
        {
         "css": {
          "background-color": "#D61C4E"
         },
         "selector": "node.focal"
        },
        {
         "css": {
          "background-color": "#C0C0C0"
         },
         "selector": "node.null"
        },
        {
         "css": {
          "shape": "hexagon"
         },
         "selector": "node.graphics"
        },
        {
         "css": {
          "border-color": "#5800FF",
          "border-style": "dashed",
          "border-width": 6
         },
         "selector": "node.overridden"
        },
        {
         "css": {
          "background-color": "#A0A0A0",
          "height": 10,
          "text-halign": "center",
          "text-valign": "top",
          "width": 10
         },
         "selector": "node.hidden"
        }
       ],
       "desktop_tap_threshold": 4,
       "graph": "IPY_MODEL_e5e483b7942b418eb4a90e6a987aa76c",
       "headless": false,
       "hide_edges_on_viewport": false,
       "layout": "IPY_MODEL_05252030c0b749c6b07092d3fe8b5be0",
       "max_zoom": 1e+50,
       "min_zoom": 1e-50,
       "motion_blur": false,
       "motion_blur_opacity": 0.2,
       "panning_enabled": true,
       "pixel_ratio": "auto",
       "rendered_position": {
        "renderedPosition": {
         "x": 100,
         "y": 100
        }
       },
       "selection_type": "single",
       "style_enabled": true,
       "texture_on_viewport": false,
       "tooltip_source": "tooltip",
       "touch_tap_threshold": 8,
       "user_panning_enabled": true,
       "user_zooming_enabled": true,
       "wheel_sensitivity": 1,
       "zoom": 2,
       "zooming_enabled": true
      }
     },
     "b1061c507e1d4b2ea814e125d0eb59da": {
      "model_module": "jupyter-cytoscape",
      "model_module_version": "^1.3.3",
      "model_name": "EdgeModel",
      "state": {
       "_model_module_version": "^1.3.3",
       "_view_module_version": "^1.3.3",
       "classes": " directed  data_source ",
       "data": {
        "id": "c63ebfb2-1cfd-4e6a-90e1-f806e47f1c3e",
        "source": "5873889776",
        "target": "5875028544"
       },
       "selectable": false
      }
     },
     "b3f55b4b6867466f92c67facd1c11cdd": {
      "model_module": "jupyter-cytoscape",
      "model_module_version": "^1.3.3",
      "model_name": "EdgeModel",
      "state": {
       "_model_module_version": "^1.3.3",
       "_view_module_version": "^1.3.3",
       "classes": " directed  data_source ",
       "data": {
        "id": "44f1966e-3bbb-45f4-af12-c3205cc2f831",
        "source": "11",
        "target": "13"
       },
       "selectable": false
      }
     },
     "b434d5d687134e0fae8df3cc7f664369": {
      "model_module": "jupyter-cytoscape",
      "model_module_version": "^1.3.3",
      "model_name": "EdgeModel",
      "state": {
       "_model_module_version": "^1.3.3",
       "_view_module_version": "^1.3.3",
       "classes": " directed ",
       "data": {
        "id": "73010127-e153-4d24-986f-4add60217206",
        "source": "10",
        "target": "12"
       },
       "selectable": false
      }
     },
     "b4a8bdcf6580407d91897ad70d8b9303": {
      "model_module": "jupyter-cytoscape",
      "model_module_version": "^1.3.3",
      "model_name": "NodeModel",
      "state": {
       "_model_module_version": "^1.3.3",
       "_view_module_version": "^1.3.3",
       "classes": "focal",
       "data": {
        "id": "2",
        "name": "focal",
        "tooltip": ""
       },
       "grabbable": true,
       "grabbed": false,
       "position": {
        "x": 35,
        "y": 150
       },
       "selectable": false
      }
     },
     "c09d4d4d810e4102b6e79ca793d50ca7": {
      "model_module": "jupyter-cytoscape",
      "model_module_version": "^1.3.3",
      "model_name": "NodeModel",
      "state": {
       "_model_module_version": "^1.3.3",
       "_view_module_version": "^1.3.3",
       "data": {
        "id": "5875025712",
        "name": "d = log(c)",
        "tooltip": "<!DOCTYPE html><html><div style=\"background-color:white\"><h3 style=\"font-size:14px\">d = log(c)</h3><h4 style=\"font-size:12px; margin-bottom: 0px; margin-top: 6px\">Function</h4><table style = \"width:400px\"><tr height:70%><td style=\"width:30%\"><div style=\"float:right; font-weight:bold; font-size:10px\">func:</div></td><td ><div style=\"float:left; font-size:10px\">&lt;ufunc 'log'&gt;</div></td></tr><tr height:70%><td style=\"width:30%\"><div style=\"float:right; font-weight:bold; font-size:10px\">is_iquib:</div></td><td ><div style=\"float:left; font-size:10px\">False</div></td></tr><tr height:70%><td style=\"width:30%\"><div style=\"float:right; font-weight:bold; font-size:10px\">is_random:</div></td><td ><div style=\"float:left; font-size:10px\">False</div></td></tr><tr height:70%><td style=\"width:30%\"><div style=\"float:right; font-weight:bold; font-size:10px\">is_file_loading:</div></td><td ><div style=\"float:left; font-size:10px\">False</div></td></tr><tr height:70%><td style=\"width:30%\"><div style=\"float:right; font-weight:bold; font-size:10px\">is_graphics:</div></td><td ><div style=\"float:left; font-size:10px\">False</div></td></tr><tr height:70%><td style=\"width:30%\"><div style=\"float:right; font-weight:bold; font-size:10px\">pass_quibs:</div></td><td ><div style=\"float:left; font-size:10px\">False</div></td></tr></table><h4 style=\"font-size:12px; margin-bottom: 0px; margin-top: 6px\">Arguments</h4><table style = \"width:400px\"><tr height:70%><td style=\"width:30%\"><div style=\"float:right; font-weight:bold; font-size:10px\">args:</div></td><td ><div style=\"float:left; font-size:10px\">(c = b*2 + a,)</div></td></tr><tr height:70%><td style=\"width:30%\"><div style=\"float:right; font-weight:bold; font-size:10px\">kwargs:</div></td><td ><div style=\"float:left; font-size:10px\">{}</div></td></tr></table><h4 style=\"font-size:12px; margin-bottom: 0px; margin-top: 6px\">File saving</h4><table style = \"width:400px\"><tr height:70%><td style=\"width:30%\"><div style=\"float:right; font-weight:bold; font-size:10px\">save_format:</div></td><td ><div style=\"float:left; font-size:10px\">None &rarr; TXT</div></td></tr><tr height:70%><td style=\"width:30%\"><div style=\"float:right; font-weight:bold; font-size:10px\">file_path:</div></td><td ><div style=\"float:left; font-size:10px\">[Save in notebook]</div></td></tr></table><h4 style=\"font-size:12px; margin-bottom: 0px; margin-top: 6px\">Assignments</h4><table style = \"width:400px\"><tr height:70%><td style=\"width:30%\"><div style=\"float:right; font-weight:bold; font-size:10px\">assignment_template:</div></td><td ><div style=\"float:left; font-size:10px\">None</div></td></tr><tr height:70%><td style=\"width:30%\"><div style=\"float:right; font-weight:bold; font-size:10px\">allow_overriding:</div></td><td ><div style=\"float:left; font-size:10px\">False</div></td></tr><tr height:70%><td style=\"width:30%\"><div style=\"float:right; font-weight:bold; font-size:10px\">assigned_quibs:</div></td><td ><div style=\"float:left; font-size:10px\">None</div></td></tr></table><h4 style=\"font-size:12px; margin-bottom: 0px; margin-top: 6px\">Caching</h4><table style = \"width:400px\"><tr height:70%><td style=\"width:30%\"><div style=\"float:right; font-weight:bold; font-size:10px\">cache_mode:</div></td><td ><div style=\"float:left; font-size:10px\">AUTO</div></td></tr><tr height:70%><td style=\"width:30%\"><div style=\"float:right; font-weight:bold; font-size:10px\">cache_status:</div></td><td ><div style=\"float:left; font-size:10px\">ALL_INVALID</div></td></tr></table><h4 style=\"font-size:12px; margin-bottom: 0px; margin-top: 6px\">Graphics</h4><table style = \"width:400px\"><tr height:70%><td style=\"width:30%\"><div style=\"float:right; font-weight:bold; font-size:10px\">graphics_update:</div></td><td ><div style=\"float:left; font-size:10px\">None &rarr; DRAG</div></td></tr><tr height:70%><td style=\"width:30%\"><div style=\"float:right; font-weight:bold; font-size:10px\">is_graphics_quib:</div></td><td ><div style=\"float:left; font-size:10px\">False</div></td></tr></table></div></html>"
       },
       "grabbable": true,
       "grabbed": false,
       "position": {
        "x": 12.7375,
        "y": 280.9
       },
       "selectable": false
      }
     },
     "c65ba81b5d7e44a79c50321e0017118f": {
      "model_module": "jupyter-cytoscape",
      "model_module_version": "^1.3.3",
      "model_name": "NodeModel",
      "state": {
       "_model_module_version": "^1.3.3",
       "_view_module_version": "^1.3.3",
       "classes": "hidden",
       "data": {
        "id": "13",
        "name": "",
        "tooltip": ""
       },
       "grabbable": true,
       "grabbed": false,
       "position": {
        "x": 100,
        "y": 350
       },
       "selectable": false
      }
     },
     "c727e8f78fe343c49bf2ba871b31c856": {
      "model_module": "jupyter-cytoscape",
      "model_module_version": "^1.3.3",
      "model_name": "NodeModel",
      "state": {
       "_model_module_version": "^1.3.3",
       "_view_module_version": "^1.3.3",
       "classes": "hidden",
       "data": {
        "id": "11",
        "name": "Data",
        "tooltip": ""
       },
       "grabbable": true,
       "grabbed": false,
       "position": {
        "x": 35,
        "y": 350
       },
       "selectable": false
      }
     },
     "d0f8c6d923f347a6843e06f00a7f53d0": {
      "model_module": "@jupyter-widgets/base",
      "model_module_version": "2.0.0",
      "model_name": "LayoutModel",
      "state": {
       "width": "25%"
      }
     },
     "e5e483b7942b418eb4a90e6a987aa76c": {
      "model_module": "jupyter-cytoscape",
      "model_module_version": "^1.3.3",
      "model_name": "GraphModel",
      "state": {
       "_adj": {
        "5873889776": {},
        "5874663728": {},
        "5875025712": {},
        "5875028544": {}
       },
       "_model_module_version": "^1.3.3",
       "_view_module": "jupyter-cytoscape",
       "_view_module_version": "^1.3.3",
       "edges": [
        "IPY_MODEL_401cff77cb0b4ffd8ab49462382937e2",
        "IPY_MODEL_b1061c507e1d4b2ea814e125d0eb59da",
        "IPY_MODEL_67872b80d8504adeadb1572655c61e6e",
        "IPY_MODEL_14a83289bfd94ec9a1e9e3a50e646a52"
       ],
       "nodes": [
        "IPY_MODEL_f5c38c09d3974376b1e22bd897c73bff",
        "IPY_MODEL_e8ab966cc8bf4d328ec5708ad50315bb",
        "IPY_MODEL_c09d4d4d810e4102b6e79ca793d50ca7",
        "IPY_MODEL_013f66998715493ead9a7e868671c236"
       ]
      }
     },
     "e8ab966cc8bf4d328ec5708ad50315bb": {
      "model_module": "jupyter-cytoscape",
      "model_module_version": "^1.3.3",
      "model_name": "NodeModel",
      "state": {
       "_model_module_version": "^1.3.3",
       "_view_module_version": "^1.3.3",
       "classes": " focal",
       "data": {
        "id": "5875028544",
        "name": "c = b*2 + a",
        "tooltip": "<!DOCTYPE html><html><div style=\"background-color:white\"><h3 style=\"font-size:14px\">c = b*2 + a</h3><h4 style=\"font-size:12px; margin-bottom: 0px; margin-top: 6px\">Function</h4><table style = \"width:400px\"><tr height:70%><td style=\"width:30%\"><div style=\"float:right; font-weight:bold; font-size:10px\">func:</div></td><td ><div style=\"float:left; font-size:10px\">&lt;built-in function add&gt;</div></td></tr><tr height:70%><td style=\"width:30%\"><div style=\"float:right; font-weight:bold; font-size:10px\">is_iquib:</div></td><td ><div style=\"float:left; font-size:10px\">False</div></td></tr><tr height:70%><td style=\"width:30%\"><div style=\"float:right; font-weight:bold; font-size:10px\">is_random:</div></td><td ><div style=\"float:left; font-size:10px\">False</div></td></tr><tr height:70%><td style=\"width:30%\"><div style=\"float:right; font-weight:bold; font-size:10px\">is_file_loading:</div></td><td ><div style=\"float:left; font-size:10px\">False</div></td></tr><tr height:70%><td style=\"width:30%\"><div style=\"float:right; font-weight:bold; font-size:10px\">is_graphics:</div></td><td ><div style=\"float:left; font-size:10px\">False</div></td></tr><tr height:70%><td style=\"width:30%\"><div style=\"float:right; font-weight:bold; font-size:10px\">pass_quibs:</div></td><td ><div style=\"float:left; font-size:10px\">False</div></td></tr></table><h4 style=\"font-size:12px; margin-bottom: 0px; margin-top: 6px\">Arguments</h4><table style = \"width:400px\"><tr height:70%><td style=\"width:30%\"><div style=\"float:right; font-weight:bold; font-size:10px\">args:</div></td><td ><div style=\"float:left; font-size:10px\">(b * 2, a = iquib(1))</div></td></tr><tr height:70%><td style=\"width:30%\"><div style=\"float:right; font-weight:bold; font-size:10px\">kwargs:</div></td><td ><div style=\"float:left; font-size:10px\">{}</div></td></tr></table><h4 style=\"font-size:12px; margin-bottom: 0px; margin-top: 6px\">File saving</h4><table style = \"width:400px\"><tr height:70%><td style=\"width:30%\"><div style=\"float:right; font-weight:bold; font-size:10px\">save_format:</div></td><td ><div style=\"float:left; font-size:10px\">None &rarr; TXT</div></td></tr><tr height:70%><td style=\"width:30%\"><div style=\"float:right; font-weight:bold; font-size:10px\">file_path:</div></td><td ><div style=\"float:left; font-size:10px\">[Save in notebook]</div></td></tr></table><h4 style=\"font-size:12px; margin-bottom: 0px; margin-top: 6px\">Assignments</h4><table style = \"width:400px\"><tr height:70%><td style=\"width:30%\"><div style=\"float:right; font-weight:bold; font-size:10px\">assignment_template:</div></td><td ><div style=\"float:left; font-size:10px\">None</div></td></tr><tr height:70%><td style=\"width:30%\"><div style=\"float:right; font-weight:bold; font-size:10px\">allow_overriding:</div></td><td ><div style=\"float:left; font-size:10px\">False</div></td></tr><tr height:70%><td style=\"width:30%\"><div style=\"float:right; font-weight:bold; font-size:10px\">assigned_quibs:</div></td><td ><div style=\"float:left; font-size:10px\">None</div></td></tr></table><h4 style=\"font-size:12px; margin-bottom: 0px; margin-top: 6px\">Caching</h4><table style = \"width:400px\"><tr height:70%><td style=\"width:30%\"><div style=\"float:right; font-weight:bold; font-size:10px\">cache_mode:</div></td><td ><div style=\"float:left; font-size:10px\">AUTO</div></td></tr><tr height:70%><td style=\"width:30%\"><div style=\"float:right; font-weight:bold; font-size:10px\">cache_status:</div></td><td ><div style=\"float:left; font-size:10px\">ALL_VALID</div></td></tr></table><h4 style=\"font-size:12px; margin-bottom: 0px; margin-top: 6px\">Graphics</h4><table style = \"width:400px\"><tr height:70%><td style=\"width:30%\"><div style=\"float:right; font-weight:bold; font-size:10px\">graphics_update:</div></td><td ><div style=\"float:left; font-size:10px\">None &rarr; DRAG</div></td></tr><tr height:70%><td style=\"width:30%\"><div style=\"float:right; font-weight:bold; font-size:10px\">is_graphics_quib:</div></td><td ><div style=\"float:left; font-size:10px\">False</div></td></tr></table></div></html>"
       },
       "grabbable": true,
       "grabbed": false,
       "position": {
        "x": 12.7375,
        "y": 184.3
       },
       "selectable": false
      }
     },
     "ea271d577e4d42b6ad78394034651370": {
      "model_module": "jupyter-cytoscape",
      "model_module_version": "^1.3.3",
      "model_name": "CytoscapeModel",
      "state": {
       "_interaction_handlers": {},
       "_model_module_version": "^1.3.3",
       "_view_module_version": "^1.3.3",
       "auto_ungrabify": false,
       "autolock": false,
       "cytoscape_layout": {
        "name": "preset"
       },
       "cytoscape_style": [
        {
         "selector": "edge",
         "style": {
          "line-color": "#909090",
          "width": 3
         }
        },
        {
         "selector": "edge.directed",
         "style": {
          "curve-style": "bezier",
          "target-arrow-color": "#909090",
          "target-arrow-shape": "triangle"
         }
        },
        {
         "selector": "edge.data_source",
         "style": {
          "line-color": "#00D7FF",
          "target-arrow-color": "#00D7FF"
         }
        },
        {
         "css": {
          "background-color": "#00D7FF",
          "border-color": "black",
          "border-width": 0.5,
          "content": "data(name)",
          "font-size": 12,
          "text-halign": "right",
          "text-valign": "center"
         },
         "selector": "node"
        },
        {
         "css": {
          "shape": "diamond",
          "text-halign": "center",
          "text-valign": "top"
         },
         "selector": "node.iquib"
        },
        {
         "css": {
          "background-color": "#D61C4E"
         },
         "selector": "node.focal"
        },
        {
         "css": {
          "background-color": "#C0C0C0"
         },
         "selector": "node.null"
        },
        {
         "css": {
          "shape": "hexagon"
         },
         "selector": "node.graphics"
        },
        {
         "css": {
          "border-color": "#5800FF",
          "border-style": "dashed",
          "border-width": 6
         },
         "selector": "node.overridden"
        },
        {
         "css": {
          "background-color": "#A0A0A0",
          "height": 10,
          "text-halign": "center",
          "text-valign": "top",
          "width": 10
         },
         "selector": "node.hidden"
        }
       ],
       "desktop_tap_threshold": 4,
       "graph": "IPY_MODEL_24303237b78f4d6d93bfea4f86915379",
       "headless": false,
       "hide_edges_on_viewport": false,
       "layout": "IPY_MODEL_d0f8c6d923f347a6843e06f00a7f53d0",
       "max_zoom": 1e+50,
       "min_zoom": 1e-50,
       "motion_blur": false,
       "motion_blur_opacity": 0.2,
       "panning_enabled": false,
       "pixel_ratio": "auto",
       "rendered_position": {
        "renderedPosition": {
         "x": 100,
         "y": 100
        }
       },
       "selection_type": "single",
       "style_enabled": true,
       "texture_on_viewport": false,
       "tooltip_source": "tooltip",
       "touch_tap_threshold": 8,
       "user_panning_enabled": false,
       "user_zooming_enabled": false,
       "wheel_sensitivity": 1,
       "zoom": 2,
       "zooming_enabled": false
      }
     },
     "f34f7b6c57ce4f68a4e0f61dbc6a843f": {
      "model_module": "@jupyter-widgets/controls",
      "model_module_version": "2.0.0",
      "model_name": "BoxModel",
      "state": {
       "children": [
        "IPY_MODEL_ea271d577e4d42b6ad78394034651370",
        "IPY_MODEL_b046bd70289b4c9d88a581444ea7ff42"
       ],
       "layout": "IPY_MODEL_67e002927c78432da8d28445438fe0f7"
      }
     },
     "f520c5b68edd4645aa96e9307e04d978": {
      "model_module": "jupyter-cytoscape",
      "model_module_version": "^1.3.3",
      "model_name": "NodeModel",
      "state": {
       "_model_module_version": "^1.3.3",
       "_view_module_version": "^1.3.3",
       "classes": "iquib",
       "data": {
        "id": "0",
        "name": "input",
        "tooltip": ""
       },
       "grabbable": true,
       "grabbed": false,
       "position": {
        "x": 35,
        "y": 50
       },
       "selectable": false
      }
     },
     "f5c38c09d3974376b1e22bd897c73bff": {
      "model_module": "jupyter-cytoscape",
      "model_module_version": "^1.3.3",
      "model_name": "NodeModel",
      "state": {
       "_model_module_version": "^1.3.3",
       "_view_module_version": "^1.3.3",
       "classes": " iquib",
       "data": {
        "id": "5874663728",
        "name": "a = iquib(1)",
        "tooltip": "<!DOCTYPE html><html><div style=\"background-color:white\"><h3 style=\"font-size:14px\">a = iquib(1)</h3><h4 style=\"font-size:12px; margin-bottom: 0px; margin-top: 6px\">Function</h4><table style = \"width:400px\"><tr height:70%><td style=\"width:30%\"><div style=\"float:right; font-weight:bold; font-size:10px\">func:</div></td><td ><div style=\"float:left; font-size:10px\">&lt;function identity_function&gt;</div></td></tr><tr height:70%><td style=\"width:30%\"><div style=\"float:right; font-weight:bold; font-size:10px\">is_iquib:</div></td><td ><div style=\"float:left; font-size:10px\">True</div></td></tr><tr height:70%><td style=\"width:30%\"><div style=\"float:right; font-weight:bold; font-size:10px\">is_random:</div></td><td ><div style=\"float:left; font-size:10px\">False</div></td></tr><tr height:70%><td style=\"width:30%\"><div style=\"float:right; font-weight:bold; font-size:10px\">is_file_loading:</div></td><td ><div style=\"float:left; font-size:10px\">False</div></td></tr><tr height:70%><td style=\"width:30%\"><div style=\"float:right; font-weight:bold; font-size:10px\">is_graphics:</div></td><td ><div style=\"float:left; font-size:10px\">False</div></td></tr><tr height:70%><td style=\"width:30%\"><div style=\"float:right; font-weight:bold; font-size:10px\">pass_quibs:</div></td><td ><div style=\"float:left; font-size:10px\">False</div></td></tr></table><h4 style=\"font-size:12px; margin-bottom: 0px; margin-top: 6px\">Arguments</h4><table style = \"width:400px\"><tr height:70%><td style=\"width:30%\"><div style=\"float:right; font-weight:bold; font-size:10px\">args:</div></td><td ><div style=\"float:left; font-size:10px\">(1,)</div></td></tr><tr height:70%><td style=\"width:30%\"><div style=\"float:right; font-weight:bold; font-size:10px\">kwargs:</div></td><td ><div style=\"float:left; font-size:10px\">{}</div></td></tr></table><h4 style=\"font-size:12px; margin-bottom: 0px; margin-top: 6px\">File saving</h4><table style = \"width:400px\"><tr height:70%><td style=\"width:30%\"><div style=\"float:right; font-weight:bold; font-size:10px\">save_format:</div></td><td ><div style=\"float:left; font-size:10px\">None &rarr; TXT</div></td></tr><tr height:70%><td style=\"width:30%\"><div style=\"float:right; font-weight:bold; font-size:10px\">file_path:</div></td><td ><div style=\"float:left; font-size:10px\">[Save in notebook]</div></td></tr></table><h4 style=\"font-size:12px; margin-bottom: 0px; margin-top: 6px\">Assignments</h4><table style = \"width:400px\"><tr height:70%><td style=\"width:30%\"><div style=\"float:right; font-weight:bold; font-size:10px\">assignment_template:</div></td><td ><div style=\"float:left; font-size:10px\">None</div></td></tr><tr height:70%><td style=\"width:30%\"><div style=\"float:right; font-weight:bold; font-size:10px\">allow_overriding:</div></td><td ><div style=\"float:left; font-size:10px\">True</div></td></tr><tr height:70%><td style=\"width:30%\"><div style=\"float:right; font-weight:bold; font-size:10px\">assigned_quibs:</div></td><td ><div style=\"float:left; font-size:10px\">None</div></td></tr></table><h4 style=\"font-size:12px; margin-bottom: 0px; margin-top: 6px\">Caching</h4><table style = \"width:400px\"><tr height:70%><td style=\"width:30%\"><div style=\"float:right; font-weight:bold; font-size:10px\">cache_mode:</div></td><td ><div style=\"float:left; font-size:10px\">AUTO</div></td></tr><tr height:70%><td style=\"width:30%\"><div style=\"float:right; font-weight:bold; font-size:10px\">cache_status:</div></td><td ><div style=\"float:left; font-size:10px\">ALL_INVALID</div></td></tr></table><h4 style=\"font-size:12px; margin-bottom: 0px; margin-top: 6px\">Graphics</h4><table style = \"width:400px\"><tr height:70%><td style=\"width:30%\"><div style=\"float:right; font-weight:bold; font-size:10px\">graphics_update:</div></td><td ><div style=\"float:left; font-size:10px\">None &rarr; DRAG</div></td></tr><tr height:70%><td style=\"width:30%\"><div style=\"float:right; font-weight:bold; font-size:10px\">is_graphics_quib:</div></td><td ><div style=\"float:left; font-size:10px\">False</div></td></tr></table></div></html>"
       },
       "grabbable": true,
       "grabbed": false,
       "position": {
        "x": 12.7375,
        "y": -8.900000000000006
       },
       "selectable": false
      }
     }
    },
    "version_major": 2,
    "version_minor": 0
   }
  }
 },
 "nbformat": 4,
 "nbformat_minor": 5
}
