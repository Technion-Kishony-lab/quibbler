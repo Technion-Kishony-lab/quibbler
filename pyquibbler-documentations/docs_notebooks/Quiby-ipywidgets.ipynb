{
 "cells": [
  {
   "cell_type": "markdown",
   "id": "a16052db",
   "metadata": {},
   "source": [
    "## Quiby ipywidgets"
   ]
  },
  {
   "cell_type": "markdown",
   "id": "4d5ab951-8dfa-4eb0-b898-0d0fbcbf2740",
   "metadata": {},
   "source": [
    "### Quibs can easily connect with *ipywidgets*\n",
    "\n",
    "Quibs can be used as arguments in *ipywidgets*, creating \"quiby widgets\" that are bi-directionally to their quib arguments. Any change to upstream quibs is propagated downstream to affect the widgets; and, conversely, user interactions with the widgets is inverse propagated backwards to affect the values of upstream quibs. Combining quibs with ipywidgets and graphics, we can thereby readily and easily create interactive app-like analysis of our data."
   ]
  },
  {
   "cell_type": "markdown",
   "id": "548a826f-a95d-4ff8-870a-be3f10b138bf",
   "metadata": {},
   "source": [
    "#### Imports"
   ]
  },
  {
   "cell_type": "code",
   "execution_count": 6,
   "id": "974a303d-bb74-4658-85da-c9340d219ba4",
   "metadata": {},
   "outputs": [],
   "source": [
    "from pyquibbler import iquib, initialize_quibbler\n",
    "initialize_quibbler()\n",
    "\n",
    "import ipywidgets as ipyw"
   ]
  },
  {
   "cell_type": "markdown",
   "id": "8c9d6b56",
   "metadata": {},
   "source": [
    "### Using quibs as arguments in ipywidgets creates quiby widgets\n",
    "\n",
    "When we execute an *ipywidget* function with quib arguments, we get a quiby widget - a widget that is bi-directionally linked to the value of the quib. Setting the widget affect the value of the quib and changing the quib value affects the widget.\n",
    "\n",
    "For example:"
   ]
  },
  {
   "cell_type": "markdown",
   "id": "9cc16475-b8b7-4010-b0b0-3e6d27293f62",
   "metadata": {},
   "source": [
    "[[/images/quiby_ipywidgets_gif/quiby-ipywidgets-bidirectional.gif]]"
   ]
  },
  {
   "cell_type": "markdown",
   "id": "387d615d-b7a5-46ae-bfad-864643ea2935",
   "metadata": {},
   "source": [
    "As the quib changes, any downstream quibs, graphics and widgets will also be affected.\n",
    "\n",
    "For example:"
   ]
  },
  {
   "cell_type": "markdown",
   "id": "c804a9f1-ae77-48d2-9231-4d61ef99e976",
   "metadata": {},
   "source": [
    "[[/images/quiby_ipywidgets_gif/quiby-ipywidgets-bob-alice.gif]]"
   ]
  },
  {
   "cell_type": "markdown",
   "id": "078a5e63-5e25-4614-b5b0-d1411dd2cd86",
   "metadata": {},
   "source": [
    "### Quibs allows functional link between widget \n",
    "\n",
    "We often want to link the trait values of different quibs (for example, representing a value as a fraction in one widget or as percent in another widget). While in *ipywidgets*, widget traits can be linked using `ipywidgets.jslink`, creating functional relationships between traits requires implementing \"observe\" callback functions which are called when a trait value changes and which implement functional conversions from a given widget trait to another. Using *Quibbler*, in contrast, widgets that use dependent quibs become inherently linked; we do not need to worry about linking or about specify any what-to-do-if callback functions. \n",
    "\n",
    "As a simple example, compare the \"standard\" and \"quiby\" implementations of a code which creates three connected widgets representing a given value as a 'fraction', as a complement of that fraction (complement = 1 - fraction) and as a percent (percent = fraction * 100):"
   ]
  },
  {
   "cell_type": "markdown",
   "id": "85d2ae24-a50f-4e52-9f25-94fb55ae65eb",
   "metadata": {},
   "source": [
    "**Linking widgets: the \"standard\" way**\n",
    "\n",
    "Normally, without using quibs, to link our 'fraction', 'complement' and 'percent', we need to implement callback functions that transform new values of each of these traits to their corresponding values in the other traits. Our code will look something like that:"
   ]
  },
  {
   "cell_type": "code",
   "execution_count": 3,
   "id": "fa460a06-7bd0-4e0e-b521-09f93313dfa7",
   "metadata": {},
   "outputs": [],
   "source": [
    "fraction_widget = ipyw.FloatSlider(0.2, min=0, max=1, step=0.05, description='fraction')\n",
    "complement_widget = ipyw.FloatSlider(0.8, min=0, max=1, step=0.05, description='complement')\n",
    "percent_widget = ipyw.FloatSlider(20, min=0, max=100, step=5, description='percent')\n",
    "\n",
    "def on_fraction_change(changes):\n",
    "    percent_widget.value = changes['new'] * 100\n",
    "    complement_widget.value = 1 - changes['new']\n",
    "    \n",
    "def on_complement_change(changes):\n",
    "    fraction_widget.value = 1 - changes['new']\n",
    "    \n",
    "def on_percent_change(changes):\n",
    "    fraction_widget.value = changes['new'] / 100\n",
    "    \n",
    "fraction_widget.observe(on_fraction_change, 'value')\n",
    "complement_widget.observe(on_complement_change, 'value')\n",
    "percent_widget.observe(on_percent_change, 'value')\n",
    "\n",
    "ipyw.VBox([fraction_widget, complement_widget, percent_widget])"
   ]
  },
  {
   "cell_type": "markdown",
   "id": "2f13a048-c353-437b-b862-d514f22ff6c8",
   "metadata": {},
   "source": [
    "[[/images/quiby_ipywidgets_gif/quiby-ipywidgets-linked-widgets.gif]]"
   ]
  },
  {
   "cell_type": "markdown",
   "id": "859b0f21-b618-4be3-b00f-e8e9170ab529",
   "metadata": {},
   "source": [
    "**Linking widgets: the \"quiby\" way**\n",
    "\n",
    "In contrast with the cumbersome code above, implementing these same widgets with quibs, we do not need to worry about callback functions; multiple widgets that depend on the same quib are all inherently linked. We can therefore get the same functionality as above with a much simpler code:"
   ]
  },
  {
   "cell_type": "code",
   "execution_count": 4,
   "id": "5a39b0c3-90fe-4abd-85f3-b065648345d5",
   "metadata": {},
   "outputs": [],
   "source": [
    "fraction = iquib(0.2)\n",
    "ipyw.VBox([ipyw.FloatSlider(fraction, min=0, max=1, step=0.05, description='fraction'),\n",
    "           ipyw.FloatSlider(1 - fraction, min=0, max=1, step=0.05, description='complement'),\n",
    "           ipyw.FloatSlider(fraction * 100, min=0, max=100, step=5, description='percent')])"
   ]
  },
  {
   "cell_type": "markdown",
   "id": "ab0a2fe1-a701-4167-9011-31d653e465a1",
   "metadata": {},
   "source": [
    "[[/images/quiby_ipywidgets_gif/quiby-ipywidgets-linked-widgets-quiby.gif]]"
   ]
  },
  {
   "cell_type": "markdown",
   "id": "d769ea34",
   "metadata": {},
   "source": [
    "### Any widget trait can be a quib"
   ]
  },
  {
   "cell_type": "markdown",
   "id": "8cfdbf81",
   "metadata": {},
   "source": [
    "Quibs can be used as arguments not only for the 'value' of an ipywidget, but also for any other traits, making these traits dynamically dependent on the quib's value. \n",
    "\n",
    "For example, we can set the min and the max of a Slider according to the values of a quib that are set in another slider:"
   ]
  },
  {
   "cell_type": "markdown",
   "id": "a59c29c2-d867-48d1-b72f-8a0dd2fe7784",
   "metadata": {},
   "source": [
    "Quibs can be used as arguments not only for the 'value' of an ipywidget, but also for other traits, making these traits dependent on the quib's value. \n",
    "\n",
    "For example, we can set the min and max of a Slider according to the values of a quib that are set in another slider:"
   ]
  },
  {
   "cell_type": "code",
   "execution_count": 5,
   "id": "c81033d2-ca91-4210-b5b4-b6ac8188426b",
   "metadata": {},
   "outputs": [],
   "source": [
    "min_max = iquib([0, 100])\n",
    "value = iquib(20)\n",
    "ipyw.VBox([\n",
    "    ipyw.IntRangeSlider(value=min_max),\n",
    "    ipyw.IntSlider(value=value, min=min_max[0], max=min_max[1]),\n",
    "])"
   ]
  },
  {
   "cell_type": "markdown",
   "id": "de191d12-b514-4d91-a372-d7d1a9ac45f9",
   "metadata": {},
   "source": [
    "[[/images/quiby_ipywidgets_gif/quiby-ipywidgets-min-max.gif]]"
   ]
  },
  {
   "cell_type": "markdown",
   "id": "9a990ce3",
   "metadata": {},
   "source": [
    "### Quibbler-based GUI applications\n",
    "\n",
    "Combining *ipywidgets* and graphics with quibs allows us to quickly build interactive applications. \n",
    "\n",
    "As an example, consider an app to allow playing with the parameters of an ODE solver. In particular, we implement here an app for solving the Lorenz equations: "
   ]
  },
  {
   "cell_type": "code",
   "execution_count": 28,
   "id": "1b695521-7620-4423-8b71-b6872f6df7fa",
   "metadata": {},
   "outputs": [],
   "source": [
    "%matplotlib widget\n",
    "\n",
    "import pyquibbler as qb\n",
    "from pyquibbler import iquib, quiby\n",
    "qb.initialize_quibbler()\n",
    "\n",
    "import ipywidgets as ipyw\n",
    "import numpy as np\n",
    "from scipy.integrate import solve_ivp\n",
    "import matplotlib.pyplot as plt\n",
    "\n",
    "\n",
    "@quiby\n",
    "def solve_lorenz(y0, t_final, s, r, b):\n",
    "\n",
    "    def lorenz_dydt(t, y):\n",
    "\n",
    "        xp = s*(y[1] - y[0])\n",
    "        yp = y[0] * (r - y[2]) - y[1]\n",
    "        zp = y[0]*y[1] - b*y[2]\n",
    "\n",
    "        return np.asarray([xp, yp, zp])\n",
    "\n",
    "    return solve_ivp(lorenz_dydt, [0, t_final], y0, method='RK45', rtol=1e-6)\n",
    "\n",
    "# Define parameters\n",
    "sigma = iquib(10.)\n",
    "rho = iquib(28.)\n",
    "beta = iquib(2.667)\n",
    "\n",
    "t_final = iquib(40)\n",
    "y0 = iquib([.2, .3, .4])\n",
    "\n",
    "# solve the ODEs\n",
    "sol = solve_lorenz(y0, t_final, sigma, rho, beta)\n",
    "y = sol['y']\n",
    "\n",
    "# plot solution\n",
    "output = ipyw.Output()\n",
    "with output:\n",
    "    fig = plt.figure(figsize=(4, 3))\n",
    "    fig.canvas.toolbar_visible = False\n",
    "    fig.canvas.header_visible = False\n",
    "    fig.canvas.footer_visible = False\n",
    "    fig.canvas.toolbar_visible = False\n",
    "    fig.canvas.header_visible = False\n",
    "    fig.canvas.resizable = False\n",
    "    ax = plt.axes([0, 0, 1, 1], projection='3d')\n",
    "    ax.plot3D(y[0], y[1], y[2], 'blue', linewidth=0.5);\n",
    "    plt.show()"
   ]
  },
  {
   "cell_type": "code",
   "execution_count": 29,
   "id": "afb741b5-3d7e-4f18-b02c-894cd32fb9db",
   "metadata": {},
   "outputs": [],
   "source": [
    "widgets = ipyw.VBox([\n",
    "    ipyw.FloatSlider(sigma, description='sigma'),\n",
    "    ipyw.FloatSlider(rho, description='rho'),\n",
    "    ipyw.FloatSlider(beta, description='beta'),\n",
    "    ipyw.FloatSlider(t_final, description='total time'),\n",
    "])\n",
    "ipyw.HBox([widgets, output])"
   ]
  },
  {
   "cell_type": "markdown",
   "id": "8a865c65-2722-4040-afb5-923b14f511cf",
   "metadata": {},
   "source": [
    "[[/images/quiby_ipywidgets_gif/quiby-ipywidgets-lorenz.gif]]"
   ]
  },
  {
   "cell_type": "markdown",
   "id": "9d51a77a-b6be-4303-a208-7979f7d751eb",
   "metadata": {},
   "source": [
    "### See also\n",
    "\n",
    "* [[Graphics]]\n",
    "\n",
    "* [[Inverse-assignments]]"
   ]
  }
 ],
 "metadata": {
  "kernelspec": {
   "display_name": "Python 3 (ipykernel)",
   "language": "python",
   "name": "python3"
  },
  "language_info": {
   "codemirror_mode": {
    "name": "ipython",
    "version": 3
   },
   "file_extension": ".py",
   "mimetype": "text/x-python",
   "name": "python",
   "nbconvert_exporter": "python",
   "pygments_lexer": "ipython3",
   "version": "3.10.5"
  }
 },
 "nbformat": 4,
 "nbformat_minor": 5
}
