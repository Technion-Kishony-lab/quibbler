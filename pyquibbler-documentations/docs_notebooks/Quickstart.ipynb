{
 "cells": [
  {
   "cell_type": "markdown",
   "id": "e6d46050-89a7-436a-b504-9c954e2e6af2",
   "metadata": {},
   "source": [
    "## Quickstart"
   ]
  },
  {
   "cell_type": "markdown",
   "id": "9dbf20ed",
   "metadata": {},
   "source": [
    "*Quibbler* allows easily creating highly interactive and efficient data analysis applications. Importantly, in *Quibbler*, efficiency and interactivity are enabled naturally, using completely standard *Python*, *NumPy* and *Matplotlib* programming syntax. There is therefore very little to learn to get started.\n",
    "\n",
    "This page provides a minimal-demo quickstart to quickly get you up and running. \n",
    "\n",
    "For additional demos, consider also the [[Examples]].\n",
    "\n",
    "For a more methodological tour, see the [[Introduction]] and the complete [[User Guide|index]]."
   ]
  },
  {
   "cell_type": "markdown",
   "id": "b15c2fe4",
   "metadata": {},
   "source": [
    "Before starting, please first [[install Quibbler|Installation]]."
   ]
  },
  {
   "cell_type": "markdown",
   "id": "a625e5a9",
   "metadata": {},
   "source": [
    "### Import\n",
    "\n",
    "*Quibbler* for *python*, `pyquibbler`, is conventionally imported as `qb`. In addition, it is convenient to specifically import some often-used functions such as `iquib` (which will be explained below). Following import, we execute `qb.initialize_quibbler()`, which initializes *Quibbler* and configures *NumPy* and *Matplotlib* functions to work with *Quibbler*. A typical import therefore looks as follows:"
   ]
  },
  {
   "cell_type": "code",
   "execution_count": 1,
   "id": "5d7bb894",
   "metadata": {},
   "outputs": [],
   "source": [
    "# Quibbler import:\n",
    "import pyquibbler as qb\n",
    "from pyquibbler import iquib\n",
    "qb.initialize_quibbler()\n",
    "\n",
    "# Other imports:\n",
    "import numpy as np\n",
    "import matplotlib.pyplot as plt\n",
    "%matplotlib tk"
   ]
  },
  {
   "cell_type": "markdown",
   "id": "75050c1d",
   "metadata": {},
   "source": [
    "### Example of a minimal app\n",
    "\n",
    "As a simple example, we will build towards a simple data analysis app for cutting a square image from a source image with a specified width around a chosen x-y point.\n",
    "\n",
    "Writing such a code classically will require the use of callback functions to implement user interactions. In *Quibbler*, in contrast, we just need to define our parameters and plot them; the resulting graphics is automatically interactive. \n",
    "\n",
    "Let's start with a code for interactively choosing our x-y point:"
   ]
  },
  {
   "cell_type": "code",
   "execution_count": 8,
   "id": "3f0d3ada-b250-4c9b-a398-24f5cc8e250f",
   "metadata": {},
   "outputs": [],
   "source": [
    "# Prepare figure\n",
    "plt.figure(figsize=(4, 5))\n",
    "plt.axis('square')\n",
    "plt.axis([0, 500, 0, 500]);"
   ]
  },
  {
   "cell_type": "code",
   "execution_count": 9,
   "id": "d028cdfd-e6e2-452b-9b4c-120fb4b0e928",
   "metadata": {},
   "outputs": [],
   "source": [
    "# Plot a \"live\" marker and text at defined xy-coordinates:\n",
    "xy = iquib([250, 250])\n",
    "x, y = xy\n",
    "plt.plot(x, y, 'o', color='Orange', markersize=16)\n",
    "plt.text(x, y + 30, xy, color='Orange', fontsize=16, ha='center');"
   ]
  },
  {
   "cell_type": "markdown",
   "id": "4ab00dae",
   "metadata": {},
   "source": [
    "![](images/Quickstart_assign_xy_and_drag.gif)"
   ]
  },
  {
   "cell_type": "markdown",
   "id": "b39101da",
   "metadata": {},
   "source": [
    "As we can see, except for the use of the function [[qb.iquib]] (explained below), the rest is a completely standard *Python* code for plotting a marker at position x=250, y=250 and adding next to it a text label specifying the these coordinates. Indeed, running this code plots the marker and the text as classically expected. Yet, unlike in classical programming, in *Quibbler* the data items and graphics are all bi-directionally linked. First, assigning new values to an upstream variable, say assigning `xy[0] = 100`, immediately refreshes all downstream graphics. Second, the plotted marker is in fact draggable and, as we drag it, we see that it leads to changes in the upstream variable `xy` and in any dependent graphics, such as the text label and location."
   ]
  },
  {
   "cell_type": "markdown",
   "id": "e73b0da7",
   "metadata": {},
   "source": [
    "In *Quibbler*, thereby, we can easily get interactive functionality while using completely standard programming syntax and without the need for the tedious programming of event-specific callback functions for implementing each interactive behavior."
   ]
  },
  {
   "cell_type": "markdown",
   "id": "3a56b342",
   "metadata": {},
   "source": [
    "### How does it work?\n",
    "Below, we briefly explain the above example, while providing a more general view of *Quibbler* functionality. You can also skip this section and continue with building our image-cutting example app below.\n",
    "\n",
    "#### The quib object\n",
    "*Quibbler* functionality is based on the [[Quib]] object. The quib is an object that represents an output *value* as well as the *function* and *arguments* used to calculate this value. There are two major types of quibs: input-quibs (i-quibs) which take a regular *Python* object as their argument and present it as their value, and function-quibs (f-quibs) that calculate their output value by applying a given function to a given list of arguments, which could include other quibs and any other *Python* objects.\n",
    "\n",
    "#### Input-quibs\n",
    "Input-quibs are created using the function [[qb.iquib]], which transforms any regular *Python* object into a quib. In our case `xy = iquib([250, 250])` creates an i-quib `xy` whose value is the list `[250, 250]`.\n",
    "\n",
    "#### Function-quibs\n",
    "Function-quibs are created naturally whenever we use quibs as part of standard expressions or functions. Indeed, *Quibbler* modifies standard functions and operators such that they can work directly with quibs. Such *Quibbler*-supported functions, also called _quiby_ functions, include not only many standard *Python*, *NumPy* and *Matplotlib* functions (see [[List-of-quiby-functions]]), but also operators (such as `+`, `-`, `<`, `>`, `**`, `@`, etc.), and any indexing syntax (e.g., if `xy` is a quib, `x = xy[0]` is a function quib). We can therefore easily define a chained network of function quibs using standard programming syntax.\n",
    "\n",
    "In our case, `x, y = xy` creates the f-quibs `x = xy[0]` and `y = xy[1]` whose function is to reference `xy` at positions 0 and 1, respectively. Next, the command `plt.plot(x, y, ...)` defines an f-quib whose function is to perform `plt.plot` on the *values* of `x` and `y`. Similarly, `y + 30` is a function quib that adds 30 to the value of `y`, and then `plt.text(...)` is a function quib that calls the *Matplotlib* function `plt.text` with the values of its quib arguments.\n",
    "\n",
    "#### Upstream changes automatically propagate to affect the value of downstream quibs\n",
    "All of these quibs are created *declaratively*: they are functional objects whose value changes upon upstream changes. As seen in the video above, we can probe the value of any quib using the `get_value` method. When we make an assignment to the upstream i-quib `xy`, say assigning `xy[0] = 100`, we change the value of `xy`, which in turn changes the value of `x`, which in turn changes the plot and the text.\n",
    "\n",
    "#### Interaction with the graphics is inverse-propagated, leading to changes in upstream quibs\n",
    "The relation above can also go backward. *Quibbler* allows dragging the plotted graphics while translating such user interactions with the graphics into assignments to the corresponding quib arguments of the plt.plot function. Such assignments into the arguments of the plot function are then *inverse-propagated* further upstream, ultimately actualized as changes to upstream quibs (typically reaching upstream i-quibs; see [[Inverse-assignments]]). In our case dragging the marker is initially translated into assignments to the `x` and `y` quibs. Since `x` and `y` are function quibs, these assignments are further inverse-propagated upstream to the i-quib `xy` where they are actualized. The resulting change in `xy` then percolates downstream to affect the plotted marker as well as text position and the text label."
   ]
  },
  {
   "cell_type": "markdown",
   "id": "658ecf5c",
   "metadata": {},
   "source": [
    "### Building interactive data analysis apps\n",
    "\n",
    "The above principles can be used to easily build powerful bi-directional relationships between data, parameters and graphics. \n",
    "\n",
    "Continuing towards building our image-extracting app, let us extend the coordinate-choosing code above, allowing the interactive specification of a square area around this chosen point. We will define and plot our square area as a box extending length `d` from our defined x-y coordinates:"
   ]
  },
  {
   "cell_type": "code",
   "execution_count": 16,
   "id": "eb74c6e3-d19d-4e5a-95bc-76431a9cda17",
   "metadata": {},
   "outputs": [],
   "source": [
    "# Define and plot a square around the xy-point\n",
    "d = iquib(120)\n",
    "plt.plot(d * np.array([ -1,  1,  1, -1, -1]) + x, \n",
    "         d * np.array([ -1, -1,  1,  1, -1]) + y, \n",
    "         color='Orange');"
   ]
  },
  {
   "cell_type": "markdown",
   "id": "788f60ca",
   "metadata": {},
   "source": [
    "![](images/Quickstart_assign_d_and_drag.gif)"
   ]
  },
  {
   "cell_type": "markdown",
   "id": "6bb91dd3",
   "metadata": {},
   "source": [
    "As we can see, this plot too is automatically interactive. Dragging any of the corners of the square is inverted into an assignment to the iquib `d` which then refreshes all other corners of the plotted square (to further understand how *Quibbler* chooses to invert these dragging actions into changes in `d` rather than in `x` or `y`, see [[Inverse-assignments]], or the [[quibdemo_drag_whole_object_vs_individual_points]] example)."
   ]
  },
  {
   "cell_type": "markdown",
   "id": "0122ef3b",
   "metadata": {
    "tags": []
   },
   "source": [
    "### Connecting quibs with widgets\n",
    "\n",
    "Quibs can also readily connect with standard *Matplotlib* widgets, easily enabling interactive data exploration. Here again, unlike in standard programming, using quibs in widgets automatically creates an interactive behavior without requiring us to specifically implement a callback function for each widget."
   ]
  },
  {
   "cell_type": "markdown",
   "id": "b3e1b093",
   "metadata": {},
   "source": [
    "As an example, let's add a slider controlling the size of our square box. \n",
    "\n",
    "As the box is extending from `-d` to `d`, we will define its size by: "
   ]
  },
  {
   "cell_type": "code",
   "execution_count": 17,
   "id": "935c303a",
   "metadata": {},
   "outputs": [],
   "source": [
    "box_size = 2 * d + 1"
   ]
  },
  {
   "cell_type": "markdown",
   "id": "7b81f0d3",
   "metadata": {},
   "source": [
    "To connect widgets with quibs, we simply use standard *Matplotlib* widgets, while specifying a quib as the value of the widget. In our case, we will create a slider with its value set to the function quib `box_size`:"
   ]
  },
  {
   "cell_type": "code",
   "execution_count": 18,
   "id": "7071ce10-0d66-4e82-b413-1cdfca9890df",
   "metadata": {},
   "outputs": [],
   "source": [
    "from matplotlib.widgets import Slider\n",
    "main_ax = plt.gca()\n",
    "slider_ax = plt.axes([0.3, 0.05, 0.5, 0.04])\n",
    "Slider(ax=slider_ax, label='box_size', valmin=1, valmax=500, \n",
    "       valinit=box_size);"
   ]
  },
  {
   "cell_type": "markdown",
   "id": "17c98585",
   "metadata": {},
   "source": [
    "![](images/Quickstart_widget_box_size.gif)"
   ]
  },
  {
   "cell_type": "markdown",
   "id": "602434bf",
   "metadata": {},
   "source": [
    "As we can see, the created widget is bi-directionally linked with the data. First, when we drag the square corners, `d` changes and the slider automatically moves. Conversely, when we drag the slider, these interactions are inverted into assignments to `box_size` and, since `box_size` is a function quib, the change further propagates to affect `d`, thereby refreshing the plotted square. Note that as `d` is defined as an integer, `box_size`, which is defined as `2 * d + 1` is, by definition, an odd number. Indeed, as we drag the slider, *Quibbler* restricts the dragging to odd numbers (to understand more on dragging between restricted values, see [[examples/quibdemo_drag_fixed_values]])."
   ]
  },
  {
   "cell_type": "markdown",
   "id": "79afdf08",
   "metadata": {},
   "source": [
    "### Loading data from files\n",
    "\n",
    "Function quibs can also implement functions that read data from files. Simply setting the file name as a quib, a standard file-accessing function will create a function quib that loads the file."
   ]
  },
  {
   "cell_type": "markdown",
   "id": "8e27e735",
   "metadata": {},
   "source": [
    "In our example, we will load and plot the source image that we want to cut based on our defined square. Let's look at an example of a microscopy image of fluorescently-labeled bacteria growing inside small micro-droplets (credit: Einat Tamar, Kishony lab, Technion):"
   ]
  },
  {
   "cell_type": "code",
   "execution_count": 19,
   "id": "4fb79d70",
   "metadata": {},
   "outputs": [],
   "source": [
    "# Load and plot source image\n",
    "filename = iquib('bacteria_in_droplets.tif')\n",
    "img = plt.imread(filename)\n",
    "main_ax.imshow(img);"
   ]
  },
  {
   "cell_type": "markdown",
   "id": "0cec485f",
   "metadata": {},
   "source": [
    "![](images/Quickstart_load_image.gif)"
   ]
  },
  {
   "cell_type": "markdown",
   "id": "dd89e4d3",
   "metadata": {},
   "source": [
    "### Concluding our image cutting app\n",
    "\n",
    "We are now ready to conclude our app. We will use the quibs `x`, `y` and `d`, defined above, to extract a square region from our source image. To do this, we will simply define `img_cut = img[y-d:y+d, x-d:x+d, :]`, which creates a function quib that performs the slicing operation. A plot of this sub-image will thereby automatically update when we move our center x-y point, or change the width of our defined square.\n",
    "\n",
    "Here thereby is our entire code:"
   ]
  },
  {
   "cell_type": "code",
   "execution_count": 30,
   "id": "39d1192d",
   "metadata": {},
   "outputs": [],
   "source": [
    "# Prepare figure\n",
    "plt.figure(figsize=(8, 5))\n",
    "plt.subplot(1, 2, 1)\n",
    "plt.axis('square')\n",
    "plt.axis([0, 500, 0, 500]);\n",
    "\n",
    "# Plot a \"live\" marker and text at defined xy-coordinates:\n",
    "xy = iquib([250, 250])\n",
    "x, y = xy\n",
    "plt.plot(x, y, 'o', color='Orange')\n",
    "plt.text(x, y + 20, xy, color='Orange', ha='center');\n",
    "\n",
    "# Define and plot a square around the xy-point\n",
    "d = iquib(120)\n",
    "plt.plot(d * np.array([ -1,  1,  1, -1, -1]) + x, \n",
    "         d * np.array([ -1, -1,  1,  1, -1]) + y, \n",
    "         color='Orange');\n",
    "\n",
    "# Define the box-size slider:\n",
    "box_size = 2 * d + 1\n",
    "slider_ax = plt.axes([0.2, 0.05, 0.25, 0.04])\n",
    "Slider(ax=slider_ax, label='box_size', valmin=1, valmax=500, \n",
    "       valinit=box_size);\n",
    "\n",
    "# Load and plot source image\n",
    "filename = iquib('bacteria_in_droplets.tif')\n",
    "img = plt.imread(filename)\n",
    "plt.subplot(1, 2, 1).imshow(img);\n",
    "\n",
    "# Cut and plot the sub-image:\n",
    "img_cut = img[y-d:y+d, x-d:x+d, :]\n",
    "plt.subplot(1, 2, 2).imshow(img_cut, origin='lower');"
   ]
  },
  {
   "cell_type": "markdown",
   "id": "567cc622",
   "metadata": {},
   "source": [
    "![](images/Quickstart_interactive_image_cut.gif)"
   ]
  },
  {
   "cell_type": "markdown",
   "id": "97d0987f",
   "metadata": {
    "pycharm": {
     "name": "#%% md\n"
    }
   },
   "source": [
    "### Conclusions\n",
    "\n",
    "As we have seen, *Quibbler* provides a fast, easy and intuitive way to analyze data in an inherently interactive way. Notably, such interactive analysis appears naturally in *Quibbler* without us needing to worry about the traditional, and often tedious, programming of specific callback functions for each interactive behavior. Instead, we can set our mind on the analysis from a data-oriented forward-looking standpoint, and let *Quibbler* deal with any asynchronous graphics or widget events.\n",
    "\n",
    "\n",
    "#### Other major features of *Quibbler*\n",
    "\n",
    "Beyond **Interactivity**, other important capabilities of *Quibbler*, not demonstrated above, include:\n",
    "\n",
    "**1. Efficiency.** Upon changes to parameters, *Quibbler* tracks and identifies which specific downstream data items, or even specific elements thereof, are affected and only recalculates these affected items. See [[Diverged-evaluation]].\n",
    "\n",
    "**2. Traceability** *Quibbler* allows us to easily probe which specific inputs affect a downstream result, and vise versa, which downstream results are affected by a given focal parameter. See [[Quib.ancestors]], [[Quib.descendants]].\n",
    "\n",
    "**3. Overriding**. Function quibs can be overridden, streamlining exception specifications to default behaviors. See [[Overriding-default-functionality]].\n",
    "\n",
    "**4. Transparency.** Inputs, as well as exceptions and overrides, are saved in simple human-readable files. See [[Project-save-load]] and the *Quibbler* Jupyer lab extension (no docs yet)."
   ]
  },
  {
   "cell_type": "code",
   "execution_count": null,
   "id": "67ce8b82-5193-445d-91d9-59686b4f2852",
   "metadata": {},
   "outputs": [],
   "source": []
  }
 ],
 "metadata": {
  "kernelspec": {
   "display_name": "Python 3 (ipykernel)",
   "language": "python",
   "name": "python3"
  },
  "language_info": {
   "codemirror_mode": {
    "name": "ipython",
    "version": 3
   },
   "file_extension": ".py",
   "mimetype": "text/x-python",
   "name": "python",
   "nbconvert_exporter": "python",
   "pygments_lexer": "ipython3",
   "version": "3.10.5"
  }
 },
 "nbformat": 4,
 "nbformat_minor": 5
}
