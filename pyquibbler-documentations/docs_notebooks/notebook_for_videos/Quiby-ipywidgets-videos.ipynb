{
 "cells": [
  {
   "cell_type": "markdown",
   "id": "a16052db",
   "metadata": {},
   "source": [
    "## Quiby ipywidgets"
   ]
  },
  {
   "cell_type": "markdown",
   "id": "548a826f-a95d-4ff8-870a-be3f10b138bf",
   "metadata": {
    "tags": []
   },
   "source": [
    "#### Imports"
   ]
  },
  {
   "cell_type": "code",
   "execution_count": 3,
   "id": "974a303d-bb74-4658-85da-c9340d219ba4",
   "metadata": {},
   "outputs": [],
   "source": [
    "import pyquibbler as qb\n",
    "from pyquibbler import iquib\n",
    "qb.initialize_quibbler()\n",
    "\n",
    "import ipywidgets as ipyw"
   ]
  },
  {
   "cell_type": "code",
   "execution_count": 4,
   "id": "b683d7d9-76e5-469e-a2a5-0370b7f8a5a0",
   "metadata": {},
   "outputs": [
    {
     "data": {
      "application/vnd.jupyter.widget-view+json": {
       "model_id": "8e9b24ff9c364de8a8507224fb0afc0e",
       "version_major": 2,
       "version_minor": 0
      },
      "text/plain": [
       "IntText(value=6)"
      ]
     },
     "execution_count": 4,
     "metadata": {},
     "output_type": "execute_result"
    }
   ],
   "source": [
    "quib = iquib(6)\n",
    "ipyw.IntText(quib)"
   ]
  },
  {
   "cell_type": "code",
   "execution_count": 3,
   "id": "daf07b60-f615-4a69-bdec-58029b0868d6",
   "metadata": {},
   "outputs": [
    {
     "data": {
      "text/plain": [
       "6"
      ]
     },
     "execution_count": 3,
     "metadata": {},
     "output_type": "execute_result"
    }
   ],
   "source": [
    "quib.get_value()"
   ]
  },
  {
   "cell_type": "code",
   "execution_count": 27,
   "id": "072d4e57-c712-415f-801c-027ff7afab0d",
   "metadata": {},
   "outputs": [],
   "source": [
    "quib.assign(97)"
   ]
  },
  {
   "cell_type": "code",
   "execution_count": null,
   "id": "e55079e3-79ba-4e5b-a3e5-312802e10d8f",
   "metadata": {},
   "outputs": [],
   "source": []
  },
  {
   "cell_type": "code",
   "execution_count": null,
   "id": "9b9897ce-c457-4ab9-83aa-c0dc4d150dff",
   "metadata": {},
   "outputs": [],
   "source": []
  },
  {
   "cell_type": "code",
   "execution_count": null,
   "id": "9d381601-8a1f-4047-8473-2eb2781ba0d7",
   "metadata": {},
   "outputs": [],
   "source": []
  },
  {
   "cell_type": "code",
   "execution_count": null,
   "id": "6193d83d-7fc2-4054-9a02-82c0c2e5d2d7",
   "metadata": {},
   "outputs": [],
   "source": []
  },
  {
   "cell_type": "markdown",
   "id": "b6bc2040-da8c-4be2-9e04-014d89eac7b4",
   "metadata": {},
   "source": [
    "As the quib changes, any downstream quibs, graphics and widgets will also be affected.\n",
    "\n",
    "For example:"
   ]
  },
  {
   "cell_type": "code",
   "execution_count": 8,
   "id": "eb3cdcd4-bb13-448f-9d41-4c795654aedc",
   "metadata": {},
   "outputs": [
    {
     "data": {
      "application/vnd.jupyter.widget-view+json": {
       "model_id": "e99a3b2a9c5a4c18b97e97f80f20b5a4",
       "version_major": 2,
       "version_minor": 0
      },
      "text/plain": [
       "Text(value='Bob', description='Name:')"
      ]
     },
     "execution_count": 8,
     "metadata": {},
     "output_type": "execute_result"
    }
   ],
   "source": [
    "name = iquib('Bob')\n",
    "ipyw.Text(name, description='Name:')"
   ]
  },
  {
   "cell_type": "code",
   "execution_count": 9,
   "id": "4f7e883d-cc59-4efb-b537-7c7fa267120d",
   "metadata": {},
   "outputs": [
    {
     "data": {
      "application/vnd.jupyter.widget-view+json": {
       "model_id": "c75b2f1c688e4706a1718787b0067919",
       "version_major": 2,
       "version_minor": 0
      },
      "text/plain": [
       "Label(value='Hello Bob')"
      ]
     },
     "execution_count": 9,
     "metadata": {},
     "output_type": "execute_result"
    }
   ],
   "source": [
    "greeting = 'Hello ' + name\n",
    "ipyw.Label(greeting)"
   ]
  },
  {
   "cell_type": "markdown",
   "id": "078a5e63-5e25-4614-b5b0-d1411dd2cd86",
   "metadata": {},
   "source": [
    "### Quibs allows functional links among multiple widget \n",
    "\n",
    "We often want to link the trait values of different quibs (for example, representing a value as a fraction in one widget or as percent in another widget). While in *ipywidgets*, widget traits can be linked using `ipywidgets.jslink`, creating functional relationships between traits requires implementing \"observe\" callback functions which are called when a trait value changes and which implement functional conversions from a given widget trait to another. Using *Quibbler*, in contrast, widgets that use dependent quibs become inherently linked; we do not need to worry about linking or about specify any what-to-do-if callback functions. \n",
    "\n",
    "As a simple example, compare the \"standard\" and \"quiby\" implementations of a code which creates three connected widgets representing a given value as a 'fraction', as a complement of that fraction (complement = 1 - fraction) and as a percent (percent = fraction * 100):"
   ]
  },
  {
   "cell_type": "markdown",
   "id": "85d2ae24-a50f-4e52-9f25-94fb55ae65eb",
   "metadata": {},
   "source": [
    "##### Linking widgets: the \"standard\" way\n",
    "\n",
    "To link 'fraction', 'complement' and 'percent', we need to implement callback functions that transform new value of each of these traits to the corresponding value in the other traits. Our code will look something like that:"
   ]
  },
  {
   "cell_type": "code",
   "execution_count": 4,
   "id": "6dee2fde-5a50-41b7-a74c-93bc37063471",
   "metadata": {},
   "outputs": [
    {
     "data": {
      "application/vnd.jupyter.widget-view+json": {
       "model_id": "1ffffe03af9b411b82c2206ed3bc64ed",
       "version_major": 2,
       "version_minor": 0
      },
      "text/plain": [
       "VBox(children=(FloatSlider(value=0.2, description='fraction', max=1.0, step=0.05), FloatSlider(value=0.8, desc…"
      ]
     },
     "execution_count": 4,
     "metadata": {},
     "output_type": "execute_result"
    }
   ],
   "source": [
    "fraction_widget = ipyw.FloatSlider(0.2, min=0, max=1, step=0.05, description='fraction')\n",
    "complement_widget = ipyw.FloatSlider(0.8, min=0, max=1, step=0.05, description='complement')\n",
    "percent_widget = ipyw.FloatSlider(20, min=0, max=100, step=5, description='percent')\n",
    "\n",
    "def on_fraction_change(changes):\n",
    "    percent_widget.value = changes['new'] * 100\n",
    "    complement_widget.value = 1 - changes['new']\n",
    "    \n",
    "def on_complement_change(changes):\n",
    "    fraction_widget.value = 1 - changes['new']\n",
    "    \n",
    "def on_percent_change(changes):\n",
    "    fraction_widget.value = changes['new'] / 100\n",
    "    \n",
    "fraction_widget.observe(on_fraction_change, 'value')\n",
    "complement_widget.observe(on_complement_change, 'value')\n",
    "percent_widget.observe(on_percent_change, 'value')\n",
    "\n",
    "ipyw.VBox([fraction_widget, complement_widget, percent_widget])"
   ]
  },
  {
   "cell_type": "markdown",
   "id": "859b0f21-b618-4be3-b00f-e8e9170ab529",
   "metadata": {},
   "source": [
    "##### Linking widgets: the \"quiby\" way\n",
    "\n",
    "In contrast with the cumbersome code above, implementing these same widgets with quibs, we do not need to worry about callback functions; multiple widgets that depend on the same quib are all inherently linked. We can therefore get the same functionality as above with much simpler code:"
   ]
  },
  {
   "cell_type": "code",
   "execution_count": 7,
   "id": "637256e1-3db3-4c26-8b52-4b6ecf263c26",
   "metadata": {},
   "outputs": [
    {
     "data": {
      "application/vnd.jupyter.widget-view+json": {
       "model_id": "053e40e2a53044b39e6288967847e456",
       "version_major": 2,
       "version_minor": 0
      },
      "text/plain": [
       "VBox(children=(FloatSlider(value=0.2, description='fraction', max=1.0, step=0.05), FloatSlider(value=0.8, desc…"
      ]
     },
     "execution_count": 7,
     "metadata": {},
     "output_type": "execute_result"
    }
   ],
   "source": [
    "fraction = iquib(0.2)\n",
    "ipyw.VBox([ipyw.FloatSlider(fraction, min=0, max=1, step=0.05, description='fraction'),\n",
    "           ipyw.FloatSlider(1 - fraction, min=0, max=1, step=0.05, description='complement'),\n",
    "           ipyw.FloatSlider(fraction * 100, min=0, max=100, step=5, description='percent')])"
   ]
  },
  {
   "cell_type": "markdown",
   "id": "11f58d80-b601-4cf5-a309-5a17d4580cfd",
   "metadata": {},
   "source": [
    "[[/images/graphics_gif/graphics_xy_refresh.gif]]"
   ]
  },
  {
   "cell_type": "markdown",
   "id": "d769ea34",
   "metadata": {},
   "source": [
    "### Any widget trait can be a quib"
   ]
  },
  {
   "cell_type": "markdown",
   "id": "8cfdbf81",
   "metadata": {},
   "source": [
    "Quibs can be used as arguments not only for the 'value' of an ipywidget, but also for other traits, making these traits dependent on the quib's value. \n",
    "\n",
    "For example, we can set the min and max of a Slider according to the values of a quib that are set in another slider:"
   ]
  },
  {
   "cell_type": "code",
   "execution_count": 6,
   "id": "ef9db588-3fef-48e3-b381-e7392ce012f3",
   "metadata": {},
   "outputs": [
    {
     "data": {
      "application/vnd.jupyter.widget-view+json": {
       "model_id": "14b6a16470e743b7a4fa051b67a4c5c1",
       "version_major": 2,
       "version_minor": 0
      },
      "text/plain": [
       "VBox(children=(IntRangeSlider(value=(0, 100)), IntSlider(value=20)))"
      ]
     },
     "execution_count": 6,
     "metadata": {},
     "output_type": "execute_result"
    }
   ],
   "source": [
    "import pyquibbler as qb\n",
    "from pyquibbler import iquib\n",
    "qb.initialize_quibbler()\n",
    "\n",
    "import ipywidgets as ipyw\n",
    "\n",
    "min_max = iquib([0, 100])\n",
    "value = iquib(20)\n",
    "ipyw.VBox([\n",
    "    ipyw.IntRangeSlider(value=min_max),\n",
    "    ipyw.IntSlider(value=value, min=min_max[0], max=min_max[1]),\n",
    "])"
   ]
  },
  {
   "cell_type": "code",
   "execution_count": 7,
   "id": "5d574cfa-fc18-4b63-8c77-62640befbc7e",
   "metadata": {},
   "outputs": [],
   "source": [
    "import numpy as np"
   ]
  },
  {
   "cell_type": "code",
   "execution_count": 9,
   "id": "54097e00-09c3-48e2-b32d-c33ab3bf815f",
   "metadata": {},
   "outputs": [
    {
     "data": {
      "text/plain": [
       "<function pyquibbler.function_overriding.function_override.sin>"
      ]
     },
     "execution_count": 9,
     "metadata": {},
     "output_type": "execute_result"
    }
   ],
   "source": [
    "np.sin"
   ]
  },
  {
   "cell_type": "code",
   "execution_count": 5,
   "id": "ed0866a0-d1d6-4c9f-8d7d-0a5d78388d18",
   "metadata": {},
   "outputs": [],
   "source": [
    "from pyquibbler import Quib"
   ]
  },
  {
   "cell_type": "code",
   "execution_count": 6,
   "id": "b8f67ffd-4695-4416-b10e-7f6750e60555",
   "metadata": {},
   "outputs": [
    {
     "data": {
      "text/plain": [
       "pyquibbler.quib.quib.Quib"
      ]
     },
     "execution_count": 6,
     "metadata": {},
     "output_type": "execute_result"
    }
   ],
   "source": [
    "Quib"
   ]
  },
  {
   "cell_type": "markdown",
   "id": "b2124ba3",
   "metadata": {},
   "source": [
    "[[/images/graphics_gif/graphics_slider_for_box_size.gif]]"
   ]
  },
  {
   "cell_type": "markdown",
   "id": "9a990ce3",
   "metadata": {},
   "source": [
    "### Quibbler-based GUI applications\n",
    "\n",
    "Combining *ipywidgets* and graphics with quibs allows us to quickly build interactive applications. \n",
    "\n",
    "As an example, consider an app to allow playing with the parameters of an ODE solver. In particular, we implement here an app for solving the Lorenz equations: "
   ]
  },
  {
   "cell_type": "code",
   "execution_count": 3,
   "id": "11117ee5-d7f9-4da2-98a0-990709d903a6",
   "metadata": {},
   "outputs": [],
   "source": [
    "%matplotlib widget\n",
    "import pyquibbler as qb\n",
    "from pyquibbler import iquib, quiby\n",
    "qb.initialize_quibbler()\n",
    "\n",
    "import ipywidgets as ipyw\n",
    "import numpy as np\n",
    "from scipy.integrate import solve_ivp\n",
    "import matplotlib.pyplot as plt\n",
    "\n",
    "\n",
    "@quiby\n",
    "def solve_lorenz(y0, t_final, s, r, b):\n",
    "\n",
    "    def lorenz_dydt(t, y):\n",
    "\n",
    "        xp = s*(y[1] - y[0])\n",
    "        yp = y[0] * (r - y[2]) - y[1]\n",
    "        zp = y[0]*y[1] - b*y[2]\n",
    "\n",
    "        return np.asarray([xp, yp, zp])\n",
    "\n",
    "    return solve_ivp(lorenz_dydt, [0, t_final], y0, method='RK45', rtol=1e-6)\n",
    "\n",
    "# Define parameters\n",
    "sigma = iquib(10.)\n",
    "rho = iquib(28.)\n",
    "beta = iquib(2.667)\n",
    "\n",
    "t_final = iquib(40)\n",
    "y0 = iquib([.2, .3, .4])\n",
    "\n",
    "# solve the ODEs\n",
    "sol = solve_lorenz(y0, t_final, sigma, rho, beta)\n",
    "y = sol['y']\n",
    "\n",
    "# plot solution\n",
    "output = ipyw.Output()\n",
    "with output:\n",
    "    fig = plt.figure(figsize=(4, 3))\n",
    "    fig.canvas.toolbar_visible = False\n",
    "    fig.canvas.header_visible = False\n",
    "    fig.canvas.footer_visible = False\n",
    "    fig.canvas.toolbar_visible = False\n",
    "    fig.canvas.header_visible = False\n",
    "    fig.canvas.resizable = False\n",
    "    ax = plt.axes([0, 0, 1, 1], projection='3d')\n",
    "    ax.plot3D(y[0], y[1], y[2], 'blue', linewidth=0.5);\n",
    "    plt.show()"
   ]
  },
  {
   "cell_type": "code",
   "execution_count": 4,
   "id": "6f3f4f0a-e659-4940-b94a-b1dbec213346",
   "metadata": {},
   "outputs": [
    {
     "data": {
      "application/vnd.jupyter.widget-view+json": {
       "model_id": "5b375adc74a545aa8230b24c5ce27005",
       "version_major": 2,
       "version_minor": 0
      },
      "text/plain": [
       "VBox(children=(FloatSlider(value=10.0, description='sigma'), FloatSlider(value=28.0, description='rho'), Float…"
      ]
     },
     "execution_count": 4,
     "metadata": {},
     "output_type": "execute_result"
    }
   ],
   "source": [
    "ipyw.VBox([\n",
    "    ipyw.FloatSlider(sigma, description='sigma'),\n",
    "    ipyw.FloatSlider(rho, description='rho'),\n",
    "    ipyw.FloatSlider(t_final, description='total time'),\n",
    "    ipyw.FloatText(beta, description='beta'),\n",
    "    output\n",
    "])"
   ]
  },
  {
   "cell_type": "markdown",
   "id": "8a865c65-2722-4040-afb5-923b14f511cf",
   "metadata": {},
   "source": [
    "[[/images/quiby_ipywidgets_gif/quiby-ipywidgets-lorenz.gif]]"
   ]
  },
  {
   "cell_type": "markdown",
   "id": "a0441fa8-5cc6-4f08-8110-a20851af9053",
   "metadata": {},
   "source": [
    " ### See also\n",
    "\n",
    "* [[Graphics]]\n",
    "\n",
    "* [[Inverse-assignments]]"
   ]
  }
 ],
 "metadata": {
  "kernelspec": {
   "display_name": "Python 3 (ipykernel)",
   "language": "python",
   "name": "python3"
  },
  "language_info": {
   "codemirror_mode": {
    "name": "ipython",
    "version": 3
   },
   "file_extension": ".py",
   "mimetype": "text/x-python",
   "name": "python",
   "nbconvert_exporter": "python",
   "pygments_lexer": "ipython3",
   "version": "3.10.5"
  },
  "quibs_archive": null
 },
 "nbformat": 4,
 "nbformat_minor": 5
}
