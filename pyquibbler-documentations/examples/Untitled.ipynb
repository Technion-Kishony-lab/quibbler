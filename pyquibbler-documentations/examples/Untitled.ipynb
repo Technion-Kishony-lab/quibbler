{
 "cells": [
  {
   "cell_type": "code",
   "execution_count": 1,
   "id": "83def578-7852-4637-98b2-ec028c095f35",
   "metadata": {},
   "outputs": [],
   "source": [
    "from pyquibbler import iquib, initialize_quibbler, q\n",
    "initialize_quibbler()\n",
    "import ipywidgets\n",
    "import matplotlib.pyplot as plt\n",
    "%matplotlib tk"
   ]
  },
  {
   "cell_type": "code",
   "execution_count": 2,
   "id": "ef04db78-99b2-42cd-a5d0-68f990b27f9f",
   "metadata": {},
   "outputs": [],
   "source": [
    "a = iquib(7)\n",
    "w = ipywidgets.IntSlider(a, continuous_update=True)"
   ]
  },
  {
   "cell_type": "code",
   "execution_count": 3,
   "id": "1ea3e314-94a6-4358-a6a7-5c58c5255e1d",
   "metadata": {},
   "outputs": [
    {
     "data": {
      "application/vnd.jupyter.widget-view+json": {
       "model_id": "794e9f5d2fd6475fa0a48b32425d36d4",
       "version_major": 2,
       "version_minor": 0
      },
      "text/plain": [
       "IntSlider(value=7)"
      ]
     },
     "metadata": {},
     "output_type": "display_data"
    }
   ],
   "source": [
    "w"
   ]
  },
  {
   "cell_type": "code",
   "execution_count": 3,
   "id": "64e817ec-6293-4726-805a-2f2ee55ae567",
   "metadata": {},
   "outputs": [
    {
     "data": {
      "application/vnd.jupyter.widget-view+json": {
       "model_id": "c29eae093a75426696817eb2e300bfad",
       "version_major": 2,
       "version_minor": 0
      },
      "text/plain": [
       "FloatSlider(value=10.0)"
      ]
     },
     "metadata": {},
     "output_type": "display_data"
    }
   ],
   "source": [
    "ipywidgets.FloatSlider(a)"
   ]
  },
  {
   "cell_type": "code",
   "execution_count": 4,
   "id": "deb57b5d-d445-48d0-9223-13e40bcc6516",
   "metadata": {},
   "outputs": [
    {
     "data": {
      "text/plain": [
       "plot(a, 1, 's', markersize=20)"
      ]
     },
     "execution_count": 4,
     "metadata": {},
     "output_type": "execute_result"
    }
   ],
   "source": [
    "plt.figure()\n",
    "plt.axis([0, 100, 0, 2])\n",
    "plt.plot(a, 1, 's', markersize=20)"
   ]
  },
  {
   "cell_type": "code",
   "execution_count": 5,
   "id": "10b57ea4-557a-4971-85d9-4a710815de24",
   "metadata": {},
   "outputs": [],
   "source": [
    "x = ipywidgets.IntSlider(continuous_update=True)\n",
    "y = ipywidgets.IntSlider(continuous_update=True)\n",
    "x.observe("
   ]
  },
  {
   "cell_type": "code",
   "execution_count": 10,
   "id": "956f28c4-a4d0-45ff-a6c8-2b01c0b06bef",
   "metadata": {},
   "outputs": [
    {
     "data": {
      "application/vnd.jupyter.widget-view+json": {
       "model_id": "a587678b0ec14740a61f3ac1f99191aa",
       "version_major": 2,
       "version_minor": 0
      },
      "text/plain": [
       "IntSlider(value=0, continuous_update=False)"
      ]
     },
     "metadata": {},
     "output_type": "display_data"
    }
   ],
   "source": [
    "cs = [0, 0]\n",
    "def counter0(*args):\n",
    "    cs[0] += 1\n",
    "    \n",
    "def counter1(*args):\n",
    "    cs[1] += 1\n",
    "    \n",
    "x = ipywidgets.IntSlider(continuous_update=False)\n",
    "y = ipywidgets.IntSlider(continuous_update=True)\n",
    "x.observe(counter0, 'value')\n",
    "y.observe(counter1, 'value')\n",
    "ipywidgets.jslink((x, 'value'), (y, 'value'))\n",
    "\n",
    "x"
   ]
  },
  {
   "cell_type": "code",
   "execution_count": 11,
   "id": "b7e0c0c7-a7cc-46bc-adf7-0f4a7312381a",
   "metadata": {},
   "outputs": [
    {
     "data": {
      "text/plain": [
       "[1, 1]"
      ]
     },
     "execution_count": 11,
     "metadata": {},
     "output_type": "execute_result"
    }
   ],
   "source": [
    "cs"
   ]
  },
  {
   "cell_type": "code",
   "execution_count": 5,
   "id": "4433f904-892f-4c81-a0c8-76d146bc576e",
   "metadata": {},
   "outputs": [],
   "source": [
    "import ipywidgets\n",
    "import functools\n",
    "\n",
    "WIDGETS_AND_TRAITS_TO_CALLBACKS = {}\n",
    "\n",
    "def wrap_trait_type_set():\n",
    "\n",
    "    from traitlets import TraitType\n",
    "    original_set = TraitType.set\n",
    "\n",
    "    @functools.wraps(original_set)\n",
    "    def _set(self, obj, value):\n",
    "        callback = WIDGETS_AND_TRAITS_TO_CALLBACKS.get((obj, self.name), None)\n",
    "        if callback is not None:\n",
    "            callback({'name': self.name, 'new': value, 'owner': obj, 'type': 'CHANGE'})\n",
    "            \n",
    "        original_set(self, obj, value)\n",
    "        \n",
    "    TraitType.set = _set\n",
    "\n",
    "\n",
    "wrap_trait_type_set()\n",
    "\n",
    "\n",
    "def set_on_drag_callback(widget, callback, trait):\n",
    "    WIDGETS_AND_TRAITS_TO_CALLBACKS[(widget, trait)] = callback"
   ]
  },
  {
   "cell_type": "code",
   "execution_count": 6,
   "id": "12149138-912e-41c7-a5cf-1ce752b57bee",
   "metadata": {},
   "outputs": [
    {
     "data": {
      "application/vnd.jupyter.widget-view+json": {
       "model_id": "bf36dc6250f447ca9fa163fc1e45be24",
       "version_major": 2,
       "version_minor": 0
      },
      "text/plain": [
       "FloatSlider(value=10.0)"
      ]
     },
     "metadata": {},
     "output_type": "display_data"
    }
   ],
   "source": [
    "counters = {'drag': 0, 'drop':0}\n",
    "\n",
    "\n",
    "def on_drag(*args):\n",
    "    print(args)\n",
    "    counters['drag'] += 1\n",
    "    \n",
    "\n",
    "def on_drop(*args):\n",
    "    print(args)\n",
    "    counters['drop'] += 1\n",
    "    \n",
    "\n",
    "\n",
    "w = ipywidgets.FloatSlider(10., continuous_update=True)\n",
    "\n",
    "set_on_drag_callback(w, on_drag, 'value')\n",
    "w.observe(on_drop, 'value')\n",
    "\n",
    "w"
   ]
  },
  {
   "cell_type": "code",
   "execution_count": 3,
   "id": "64545cb6-dfd9-48cd-a89a-e93c0867a73a",
   "metadata": {},
   "outputs": [
    {
     "data": {
      "text/plain": [
       "{'drag': 16, 'drop': 4}"
      ]
     },
     "execution_count": 3,
     "metadata": {},
     "output_type": "execute_result"
    }
   ],
   "source": [
    "counters"
   ]
  },
  {
   "cell_type": "code",
   "execution_count": 5,
   "id": "6a94fc54-1c94-45bf-89fd-a47786f16514",
   "metadata": {},
   "outputs": [
    {
     "data": {
      "text/plain": [
       "{'b': 2, 5: 7}"
      ]
     },
     "execution_count": 5,
     "metadata": {},
     "output_type": "execute_result"
    }
   ],
   "source": [
    "a[5] = 7\n",
    "a"
   ]
  },
  {
   "cell_type": "code",
   "execution_count": 7,
   "id": "af670781-ad15-421b-a233-e31305edbbc7",
   "metadata": {},
   "outputs": [
    {
     "ename": "AttributeError",
     "evalue": "'FloatSlider' object has no attribute 'on_submit'",
     "output_type": "error",
     "traceback": [
      "\u001b[0;31m---------------------------------------------------------------------------\u001b[0m",
      "\u001b[0;31mAttributeError\u001b[0m                            Traceback (most recent call last)",
      "Input \u001b[0;32mIn [7]\u001b[0m, in \u001b[0;36m<cell line: 1>\u001b[0;34m()\u001b[0m\n\u001b[0;32m----> 1\u001b[0m \u001b[43mw\u001b[49m\u001b[38;5;241;43m.\u001b[39;49m\u001b[43mon_submit\u001b[49m\n",
      "\u001b[0;31mAttributeError\u001b[0m: 'FloatSlider' object has no attribute 'on_submit'"
     ]
    }
   ],
   "source": [
    "w.on_submit"
   ]
  },
  {
   "cell_type": "code",
   "execution_count": 6,
   "id": "18971b02-883a-4c6b-8eed-69b9f0500c0e",
   "metadata": {},
   "outputs": [],
   "source": [
    "a = {1:2, 3:4}"
   ]
  },
  {
   "cell_type": "code",
   "execution_count": 8,
   "id": "1c0746a6-a582-453e-89cd-0600354c7459",
   "metadata": {},
   "outputs": [
    {
     "data": {
      "text/plain": [
       "2"
      ]
     },
     "execution_count": 8,
     "metadata": {},
     "output_type": "execute_result"
    }
   ],
   "source": [
    "a.get(1,None)"
   ]
  },
  {
   "cell_type": "code",
   "execution_count": null,
   "id": "8ef1c774-a452-4355-a89e-48aef0886894",
   "metadata": {},
   "outputs": [],
   "source": []
  }
 ],
 "metadata": {
  "kernelspec": {
   "display_name": "Python 3 (ipykernel)",
   "language": "python",
   "name": "python3"
  },
  "language_info": {
   "codemirror_mode": {
    "name": "ipython",
    "version": 3
   },
   "file_extension": ".py",
   "mimetype": "text/x-python",
   "name": "python",
   "nbconvert_exporter": "python",
   "pygments_lexer": "ipython3",
   "version": "3.10.5"
  },
  "quibs_archive": null
 },
 "nbformat": 4,
 "nbformat_minor": 5
}
