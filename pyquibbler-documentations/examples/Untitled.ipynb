{
 "cells": [
  {
   "cell_type": "code",
   "execution_count": 6,
   "id": "08b0cec5-f726-457d-aabe-aa1ee5a02b5c",
   "metadata": {},
   "outputs": [],
   "source": [
    "from pyquibbler import iquib, q, initialize_quibbler\n",
    "initialize_quibbler()\n",
    "from matplotlib import pyplot as plt\n",
    "import numpy as np\n",
    "\n",
    "%matplotlib tk"
   ]
  },
  {
   "cell_type": "code",
   "execution_count": 7,
   "id": "fe06a54f-36e6-4350-9918-00933612ddc9",
   "metadata": {},
   "outputs": [],
   "source": [
    "plt.figure()\n",
    "ax = plt.gca()"
   ]
  },
  {
   "cell_type": "code",
   "execution_count": 8,
   "id": "2cce07eb-2d66-41e4-a29c-da8b9bd86b50",
   "metadata": {},
   "outputs": [],
   "source": [
    "a = iquib([1., 2., 3., 2.])\n",
    "p = plt.plot(a, 'o', markersize=20)"
   ]
  },
  {
   "cell_type": "code",
   "execution_count": 9,
   "id": "b07ab309-fe0a-4ad0-88e8-1fdad4473525",
   "metadata": {},
   "outputs": [
    {
     "data": {
      "text/plain": [
       "p = plot(a, 'o', markersize=20, picker=True)"
      ]
     },
     "execution_count": 9,
     "metadata": {},
     "output_type": "execute_result"
    }
   ],
   "source": [
    "p"
   ]
  },
  {
   "cell_type": "code",
   "execution_count": 10,
   "id": "6a2a064b-762f-4485-a482-089aadddd037",
   "metadata": {},
   "outputs": [
    {
     "data": {
      "text/plain": [
       "plot(array(a) + 2, picker=True)"
      ]
     },
     "execution_count": 10,
     "metadata": {},
     "output_type": "execute_result"
    }
   ],
   "source": [
    "ax.plot(np.array(a) + 2)\n"
   ]
  },
  {
   "cell_type": "code",
   "execution_count": 12,
   "id": "90a3e3d4-5104-403f-9acf-c4145ec3c2d9",
   "metadata": {},
   "outputs": [
    {
     "data": {
      "text/plain": [
       "'plot'"
      ]
     },
     "execution_count": 12,
     "metadata": {},
     "output_type": "execute_result"
    }
   ],
   "source": [
    "ax.plot.__qualname__"
   ]
  },
  {
   "cell_type": "code",
   "execution_count": 13,
   "id": "909837b0-ddc8-40d2-820d-d6fd9ce3377f",
   "metadata": {},
   "outputs": [
    {
     "data": {
      "text/plain": [
       "array(True)"
      ]
     },
     "execution_count": 13,
     "metadata": {},
     "output_type": "execute_result"
    }
   ],
   "source": [
    "x = iquib(2)\n",
    "x.assign(7)\n",
    "x.get_override_mask().get_value()"
   ]
  },
  {
   "cell_type": "code",
   "execution_count": 15,
   "id": "ae5e33d2-c981-427c-8d12-d872d0cae29c",
   "metadata": {},
   "outputs": [
    {
     "data": {
      "text/plain": [
       "[False, [False, False], False]"
      ]
     },
     "execution_count": 15,
     "metadata": {},
     "output_type": "execute_result"
    }
   ],
   "source": [
    "x = iquib([1, [2, 3], 4])\n",
    "#x[1][1] = 0\n",
    "x.get_override_mask().get_value()"
   ]
  },
  {
   "cell_type": "code",
   "execution_count": 18,
   "id": "61737293-1c3d-4c83-bb98-7bae0ddbfcc7",
   "metadata": {},
   "outputs": [
    {
     "ename": "ExternalCallFailedException",
     "evalue": "Failed to execute get_override_mask(x)\n\nThe following quibs were in the stack of the exception: \n  File \"/var/folders/90/frsch0qx4nb6qc5hzm_jrvvr0000gn/T/ipykernel_46357/3463206912.py\", line 4\n\tget_override_mask(x) -> get_value()  \n\npyquibbler.cache.holistic_cache.PathCannotHaveComponentsException: This shallow cache does not support specifying paths that are not `all` (ie `[]`)\n",
     "output_type": "error",
     "traceback": [
      "\u001b[0;31m---------------------------------------------------------------------------\u001b[0m",
      "\u001b[0;31mExternalCallFailedException\u001b[0m               Traceback (most recent call last)",
      "Input \u001b[0;32mIn [18]\u001b[0m, in \u001b[0;36m<cell line: 4>\u001b[0;34m()\u001b[0m\n\u001b[1;32m      2\u001b[0m x[\u001b[38;5;241m1\u001b[39m] \u001b[38;5;241m=\u001b[39m \u001b[38;5;241m0\u001b[39m\n\u001b[1;32m      3\u001b[0m x\u001b[38;5;241m.\u001b[39massign(\u001b[38;5;241m7\u001b[39m)\n\u001b[0;32m----> 4\u001b[0m \u001b[43mx\u001b[49m\u001b[38;5;241;43m.\u001b[39;49m\u001b[43mget_override_mask\u001b[49m\u001b[43m(\u001b[49m\u001b[43m)\u001b[49m\u001b[38;5;241;43m.\u001b[39;49m\u001b[43mget_value\u001b[49m\u001b[43m(\u001b[49m\u001b[43m)\u001b[49m\n",
      "File \u001b[0;32m~/Git/quibbler/pyquibbler/pyquibbler/quib/external_call_failed_exception_handling.py:98\u001b[0m, in \u001b[0;36mraise_quib_call_exceptions_as_own.<locals>._wrapper\u001b[0;34m(*args, **kwargs)\u001b[0m\n\u001b[1;32m     94\u001b[0m quibs_with_calls \u001b[38;5;241m=\u001b[39m e\u001b[38;5;241m.\u001b[39mquibs_with_calls\n\u001b[1;32m     95\u001b[0m exc \u001b[38;5;241m=\u001b[39m ExternalCallFailedException(exception\u001b[38;5;241m=\u001b[39me\u001b[38;5;241m.\u001b[39mexception,\n\u001b[1;32m     96\u001b[0m                                   quibs_with_calls\u001b[38;5;241m=\u001b[39m[\u001b[38;5;241m*\u001b[39mquibs_with_calls, new_quib_with_call],\n\u001b[1;32m     97\u001b[0m                                   tb\u001b[38;5;241m=\u001b[39me\u001b[38;5;241m.\u001b[39mtraceback)\n\u001b[0;32m---> 98\u001b[0m \u001b[38;5;28;01mraise\u001b[39;00m exc \u001b[38;5;28;01mfrom\u001b[39;00m \u001b[38;5;28mNone\u001b[39m\n",
      "\u001b[0;31mExternalCallFailedException\u001b[0m: Failed to execute get_override_mask(x)\n\nThe following quibs were in the stack of the exception: \n  File \"/var/folders/90/frsch0qx4nb6qc5hzm_jrvvr0000gn/T/ipykernel_46357/3463206912.py\", line 4\n\tget_override_mask(x) -> get_value()  \n\npyquibbler.cache.holistic_cache.PathCannotHaveComponentsException: This shallow cache does not support specifying paths that are not `all` (ie `[]`)\n"
     ]
    }
   ],
   "source": [
    "x = iquib([1, 2, 3])\n",
    "x[1] = 0\n",
    "x.assign(7)\n",
    "x.get_override_mask().get_value()"
   ]
  },
  {
   "cell_type": "code",
   "execution_count": 6,
   "id": "c1e8e6ba-6053-43ad-8d8b-98369439befa",
   "metadata": {},
   "outputs": [
    {
     "data": {
      "text/plain": [
       "np.vectorize(create_roi, (4),()->())(rois, <AxesSubplot:>)"
      ]
     },
     "execution_count": 6,
     "metadata": {},
     "output_type": "execute_result"
    }
   ],
   "source": [
    "import numpy as np\n",
    "from functools import partial\n",
    "from matplotlib import pyplot as plt, widgets\n",
    "from pyquibbler import iquib, initialize_quibbler, q\n",
    "initialize_quibbler()\n",
    "%matplotlib osx\n",
    "\n",
    "@partial(np.vectorize, signature='(4),()->()', pass_quibs=True, is_graphics=True)\n",
    "def create_roi(roi, axs):\n",
    "    widgets.RectangleSelector(axs, extents=roi)\n",
    "\n",
    "\n",
    "plt.figure()\n",
    "ax1 = plt.gca()\n",
    "plt.axis([0, 400, 0, 400])\n",
    "\n",
    "images_count = iquib(2)\n",
    "roi_default = iquib([[10, 100, 10, 100]]).setp(allow_overriding=False)\n",
    "\n",
    "rois = np.repeat(roi_default, images_count, axis=0).setp(allow_overriding=True)\n",
    "\n",
    "create_roi(rois, ax1)\n"
   ]
  },
  {
   "cell_type": "code",
   "execution_count": 7,
   "id": "1f92ffba-2ad8-4741-8fbc-93b25fd63c41",
   "metadata": {},
   "outputs": [],
   "source": [
    "images_count.assign(7)"
   ]
  },
  {
   "cell_type": "code",
   "execution_count": 32,
   "id": "134b884b-5e90-4fa2-8178-ef56cd7eec1f",
   "metadata": {},
   "outputs": [],
   "source": [
    "images_count.assign(1)"
   ]
  },
  {
   "cell_type": "code",
   "execution_count": 29,
   "id": "a52eceda-4624-49de-af67-ea5553a0c1d6",
   "metadata": {},
   "outputs": [
    {
     "data": {
      "text/plain": [
       "2"
      ]
     },
     "execution_count": 29,
     "metadata": {},
     "output_type": "execute_result"
    }
   ],
   "source": [
    "2\n"
   ]
  },
  {
   "cell_type": "code",
   "execution_count": null,
   "id": "c228d2dd-4ad9-4736-9079-c870d5007431",
   "metadata": {},
   "outputs": [],
   "source": []
  }
 ],
 "metadata": {
  "kernelspec": {
   "display_name": "Python 3 (ipykernel)",
   "language": "python",
   "name": "python3"
  },
  "language_info": {
   "codemirror_mode": {
    "name": "ipython",
    "version": 3
   },
   "file_extension": ".py",
   "mimetype": "text/x-python",
   "name": "python",
   "nbconvert_exporter": "python",
   "pygments_lexer": "ipython3",
   "version": "3.10.5"
  }
 },
 "nbformat": 4,
 "nbformat_minor": 5
}
