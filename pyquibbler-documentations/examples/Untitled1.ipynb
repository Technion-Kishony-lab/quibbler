{
 "cells": [
  {
   "cell_type": "code",
   "execution_count": 13,
   "id": "cc493961-b826-4ac7-b9fa-2411cdf03401",
   "metadata": {},
   "outputs": [],
   "source": [
    "from pyquibbler import iquib, initialize_quibbler\n",
    "initialize_quibbler()\n",
    "import numpy as np"
   ]
  },
  {
   "cell_type": "code",
   "execution_count": 5,
   "id": "2639a86f-5f0a-428e-b279-60c9b8cec5cc",
   "metadata": {},
   "outputs": [
    {
     "data": {
      "application/vnd.jupyter.widget-view+json": {
       "model_id": "cfba71143e714924a6f797f9152714cb",
       "version_major": 2,
       "version_minor": 0
      },
      "text/plain": [
       "VBox(children=(Label(value='iquib(3)'), VBox(), HBox(children=(HBox(children=(ToggleButton(value=False, descri…"
      ]
     },
     "metadata": {},
     "output_type": "display_data"
    },
    {
     "data": {
      "text/html": [],
      "text/plain": [
       "iquib(3)"
      ]
     },
     "execution_count": 5,
     "metadata": {},
     "output_type": "execute_result"
    }
   ],
   "source": [
    "iquib(3)"
   ]
  },
  {
   "cell_type": "code",
   "execution_count": 10,
   "id": "dcf50e31-e676-4764-8042-943fff1b5097",
   "metadata": {},
   "outputs": [],
   "source": [
    "a = iquib([1, 3, 2, 4])\n",
    "b = np.sort(a)\n",
    "b.get_value()"
   ]
  },
  {
   "cell_type": "code",
   "execution_count": 22,
   "id": "e57d4f4a-df1e-45b9-b58d-4a20b81218f7",
   "metadata": {},
   "outputs": [
    {
     "ename": "AxisError",
     "evalue": "axis -1 is out of bounds for array of dimension 0",
     "output_type": "error",
     "traceback": [
      "\u001b[0;31m---------------------------------------------------------------------------\u001b[0m",
      "\u001b[0;31mAxisError\u001b[0m                                 Traceback (most recent call last)",
      "Input \u001b[0;32mIn [22]\u001b[0m, in \u001b[0;36m<cell line: 1>\u001b[0;34m()\u001b[0m\n\u001b[0;32m----> 1\u001b[0m \u001b[43mnp\u001b[49m\u001b[38;5;241;43m.\u001b[39;49m\u001b[43msort\u001b[49m\u001b[43m(\u001b[49m\u001b[38;5;241;43m4\u001b[39;49m\u001b[43m)\u001b[49m\n",
      "File \u001b[0;32m~/Git/quibbler/pyquibbler/pyquibbler/function_overriding/function_override.py:105\u001b[0m, in \u001b[0;36mFuncOverride._create_quib_supporting_func.<locals>._maybe_create_quib\u001b[0;34m(*args, **kwargs)\u001b[0m\n\u001b[1;32m     95\u001b[0m         func_definition_for_quib \u001b[38;5;241m=\u001b[39m func_definition\n\u001b[1;32m     97\u001b[0m     \u001b[38;5;28;01mreturn\u001b[39;00m create_quib(\n\u001b[1;32m     98\u001b[0m         func\u001b[38;5;241m=\u001b[39mwrapped_func,\n\u001b[1;32m     99\u001b[0m         args\u001b[38;5;241m=\u001b[39margs,\n\u001b[0;32m   (...)\u001b[0m\n\u001b[1;32m    102\u001b[0m         quib_locations\u001b[38;5;241m=\u001b[39mquib_locations,\n\u001b[1;32m    103\u001b[0m     )\n\u001b[0;32m--> 105\u001b[0m \u001b[38;5;28;01mreturn\u001b[39;00m \u001b[38;5;28;43mself\u001b[39;49m\u001b[38;5;241;43m.\u001b[39;49m\u001b[43m_call_wrapped_func\u001b[49m\u001b[43m(\u001b[49m\u001b[43mwrapped_func\u001b[49m\u001b[43m,\u001b[49m\u001b[43m \u001b[49m\u001b[43margs\u001b[49m\u001b[43m,\u001b[49m\u001b[43m \u001b[49m\u001b[43mkwargs\u001b[49m\u001b[43m)\u001b[49m\n",
      "File \u001b[0;32m~/Git/quibbler/pyquibbler/pyquibbler/function_overriding/function_override.py:52\u001b[0m, in \u001b[0;36mFuncOverride._call_wrapped_func\u001b[0;34m(func, args, kwargs)\u001b[0m\n\u001b[1;32m     50\u001b[0m \u001b[38;5;129m@staticmethod\u001b[39m\n\u001b[1;32m     51\u001b[0m \u001b[38;5;28;01mdef\u001b[39;00m \u001b[38;5;21m_call_wrapped_func\u001b[39m(func, args, kwargs) \u001b[38;5;241m-\u001b[39m\u001b[38;5;241m>\u001b[39m Any:\n\u001b[0;32m---> 52\u001b[0m     \u001b[38;5;28;01mreturn\u001b[39;00m \u001b[43mfunc\u001b[49m\u001b[43m(\u001b[49m\u001b[38;5;241;43m*\u001b[39;49m\u001b[43margs\u001b[49m\u001b[43m,\u001b[49m\u001b[43m \u001b[49m\u001b[38;5;241;43m*\u001b[39;49m\u001b[38;5;241;43m*\u001b[39;49m\u001b[43mkwargs\u001b[49m\u001b[43m)\u001b[49m\n",
      "File \u001b[0;32m<__array_function__ internals>:180\u001b[0m, in \u001b[0;36msort\u001b[0;34m(*args, **kwargs)\u001b[0m\n",
      "File \u001b[0;32m/Applications/anaconda3/envs/pyquibbler3/lib/python3.10/site-packages/numpy/core/fromnumeric.py:1004\u001b[0m, in \u001b[0;36msort\u001b[0;34m(a, axis, kind, order)\u001b[0m\n\u001b[1;32m   1002\u001b[0m \u001b[38;5;28;01melse\u001b[39;00m:\n\u001b[1;32m   1003\u001b[0m     a \u001b[38;5;241m=\u001b[39m asanyarray(a)\u001b[38;5;241m.\u001b[39mcopy(order\u001b[38;5;241m=\u001b[39m\u001b[38;5;124m\"\u001b[39m\u001b[38;5;124mK\u001b[39m\u001b[38;5;124m\"\u001b[39m)\n\u001b[0;32m-> 1004\u001b[0m \u001b[43ma\u001b[49m\u001b[38;5;241;43m.\u001b[39;49m\u001b[43msort\u001b[49m\u001b[43m(\u001b[49m\u001b[43maxis\u001b[49m\u001b[38;5;241;43m=\u001b[39;49m\u001b[43maxis\u001b[49m\u001b[43m,\u001b[49m\u001b[43m \u001b[49m\u001b[43mkind\u001b[49m\u001b[38;5;241;43m=\u001b[39;49m\u001b[43mkind\u001b[49m\u001b[43m,\u001b[49m\u001b[43m \u001b[49m\u001b[43morder\u001b[49m\u001b[38;5;241;43m=\u001b[39;49m\u001b[43morder\u001b[49m\u001b[43m)\u001b[49m\n\u001b[1;32m   1005\u001b[0m \u001b[38;5;28;01mreturn\u001b[39;00m a\n",
      "\u001b[0;31mAxisError\u001b[0m: axis -1 is out of bounds for array of dimension 0"
     ]
    }
   ],
   "source": [
    "np.sort(4)"
   ]
  },
  {
   "cell_type": "code",
   "execution_count": 34,
   "id": "0e9e5616-6e23-47c2-959c-c6cf86a0313f",
   "metadata": {},
   "outputs": [],
   "source": [
    "a = np.arange(24).reshape((2, 3, 4))\n",
    "print(a)\n",
    "\n",
    "def func(x):\n",
    "    print('x=')\n",
    "    x = x[:2]\n",
    "    print(x)\n",
    "    \n",
    "    return np.cumsum(x)\n",
    "    \n",
    "v = np.vectorize(func, signature='(m) -> (n)')\n",
    "k = v(a)"
   ]
  },
  {
   "cell_type": "code",
   "execution_count": 51,
   "id": "23f63172-c7a8-450b-8a7f-4996dc1a8811",
   "metadata": {},
   "outputs": [
    {
     "data": {
      "text/plain": [
       "(2, 3, 5)"
      ]
     },
     "execution_count": 51,
     "metadata": {},
     "output_type": "execute_result"
    }
   ],
   "source": [
    "a = np.zeros((5, )) + np.zeros((2, 3, 5))\n",
    "np.shape(a)"
   ]
  },
  {
   "cell_type": "code",
   "execution_count": 41,
   "id": "df1f9cfd-0bff-4c45-b493-0f906bfd22be",
   "metadata": {},
   "outputs": [
    {
     "data": {
      "text/plain": [
       "False"
      ]
     },
     "execution_count": 41,
     "metadata": {},
     "output_type": "execute_result"
    }
   ],
   "source": [
    "type(np.int64([])) is np.int64"
   ]
  },
  {
   "cell_type": "code",
   "execution_count": 57,
   "id": "cc663a6c-597f-4364-b1c5-d74d0256b939",
   "metadata": {},
   "outputs": [
    {
     "data": {
      "text/plain": [
       "0"
      ]
     },
     "execution_count": 57,
     "metadata": {},
     "output_type": "execute_result"
    }
   ],
   "source": [
    "if np.shape(4):\n",
    "    print('ok')\n",
    "np.ndim(4)"
   ]
  },
  {
   "cell_type": "code",
   "execution_count": 49,
   "id": "8f56471d-45fb-4ef1-bea6-ed11d83ed4fe",
   "metadata": {},
   "outputs": [
    {
     "data": {
      "text/plain": [
       "False"
      ]
     },
     "execution_count": 49,
     "metadata": {},
     "output_type": "execute_result"
    }
   ],
   "source": [
    "from enum import Enum\n",
    "class A(Enum):\n",
    "    pass\n",
    "\n",
    "class B(A):\n",
    "    b1 = 1\n",
    "    b2 = 2\n",
    "\n",
    "class C(A):\n",
    "    c1 = 1\n",
    "    c2 = 2\n",
    "    \n",
    "C.c1 in [B.b1, C.c2]"
   ]
  },
  {
   "cell_type": "code",
   "execution_count": 104,
   "id": "a11b46b3-3049-49fe-a3cc-272efcb96abd",
   "metadata": {},
   "outputs": [
    {
     "data": {
      "text/plain": [
       "numpy.ndarray"
      ]
     },
     "execution_count": 104,
     "metadata": {},
     "output_type": "execute_result"
    }
   ],
   "source": [
    "type(np.cumsum([]))"
   ]
  },
  {
   "cell_type": "code",
   "execution_count": 74,
   "id": "98ee4e63-ad05-416f-bf60-a4408409e5c0",
   "metadata": {},
   "outputs": [
    {
     "data": {
      "text/plain": [
       "array([4])"
      ]
     },
     "execution_count": 74,
     "metadata": {},
     "output_type": "execute_result"
    }
   ],
   "source": [
    "np.expand_dims(4, 0)"
   ]
  },
  {
   "cell_type": "code",
   "execution_count": 96,
   "id": "97a4c886-dbad-4985-aa5b-caab710c6ad5",
   "metadata": {},
   "outputs": [
    {
     "data": {
      "text/plain": [
       "numpy.ndarray"
      ]
     },
     "execution_count": 96,
     "metadata": {},
     "output_type": "execute_result"
    }
   ],
   "source": [
    "type(np.argmin(np.zeros((4,5)),1))"
   ]
  },
  {
   "cell_type": "code",
   "execution_count": 85,
   "id": "e1881690-7c47-4c05-83eb-ae0a43d723b8",
   "metadata": {},
   "outputs": [
    {
     "data": {
      "text/plain": [
       "numpy.float64"
      ]
     },
     "execution_count": 85,
     "metadata": {},
     "output_type": "execute_result"
    }
   ],
   "source": [
    "type(np.sin(5))"
   ]
  },
  {
   "cell_type": "code",
   "execution_count": null,
   "id": "bedb67fa-ca54-4266-bd63-2cbda63bba2d",
   "metadata": {},
   "outputs": [],
   "source": []
  }
 ],
 "metadata": {
  "kernelspec": {
   "display_name": "Python 3 (ipykernel)",
   "language": "python",
   "name": "python3"
  },
  "language_info": {
   "codemirror_mode": {
    "name": "ipython",
    "version": 3
   },
   "file_extension": ".py",
   "mimetype": "text/x-python",
   "name": "python",
   "nbconvert_exporter": "python",
   "pygments_lexer": "ipython3",
   "version": "3.10.5"
  },
  "widgets": {
   "application/vnd.jupyter.widget-state+json": {
    "state": {
     "0135f4204ba741f1be136a26c7070db4": {
      "model_module": "@jupyter-widgets/controls",
      "model_module_version": "2.0.0",
      "model_name": "ToggleButtonStyleModel",
      "state": {
       "description_width": "",
       "font_family": null,
       "font_size": null,
       "font_style": null,
       "font_variant": null,
       "font_weight": null,
       "text_color": null,
       "text_decoration": null
      }
     },
     "022ca9548c004cd28b581402b2e44b03": {
      "model_module": "@jupyter-widgets/controls",
      "model_module_version": "2.0.0",
      "model_name": "ButtonStyleModel",
      "state": {
       "font_family": null,
       "font_size": null,
       "font_style": null,
       "font_variant": null,
       "font_weight": null,
       "text_color": null,
       "text_decoration": null
      }
     },
     "051c5bf8b332415885981f26b623f91a": {
      "model_module": "@jupyter-widgets/controls",
      "model_module_version": "2.0.0",
      "model_name": "ButtonModel",
      "state": {
       "description": "Save",
       "layout": "IPY_MODEL_0d2729f6ac09451eb9353737ba3c5e63",
       "style": "IPY_MODEL_92312c56c56848ceacf3bd50c6706222",
       "tooltip": "Save assignments to file"
      }
     },
     "0603a1791f1d42b089f67b29f4c2e499": {
      "model_module": "@jupyter-widgets/base",
      "model_module_version": "2.0.0",
      "model_name": "LayoutModel",
      "state": {}
     },
     "086bde5d454d4411b317c93f01838627": {
      "model_module": "@jupyter-widgets/controls",
      "model_module_version": "2.0.0",
      "model_name": "ToggleButtonModel",
      "state": {
       "description": "Value",
       "layout": "IPY_MODEL_2b0f94ca8fd34c30879619dd8a848cf1",
       "style": "IPY_MODEL_4241e6f4ad9d4f2995bd0b43c86e94e7",
       "tooltip": "Show quib's value"
      }
     },
     "0d2729f6ac09451eb9353737ba3c5e63": {
      "model_module": "@jupyter-widgets/base",
      "model_module_version": "2.0.0",
      "model_name": "LayoutModel",
      "state": {
       "align_items": "center",
       "display": "flex",
       "height": "20px",
       "width": "auto"
      }
     },
     "0fea4af312b04bf9b3ea725d8c6d9e1f": {
      "model_module": "@jupyter-widgets/controls",
      "model_module_version": "2.0.0",
      "model_name": "HBoxModel",
      "state": {
       "children": [
        "IPY_MODEL_57b59973af9a4a7d9c079e7cfbdaaa4f",
        "IPY_MODEL_385a63fddba8407299509db87610d449"
       ],
       "layout": "IPY_MODEL_bb5d201de3f34f068da3fb061e2c8034"
      }
     },
     "1061f25738774a359a78f594a16100bf": {
      "model_module": "@jupyter-widgets/base",
      "model_module_version": "2.0.0",
      "model_name": "LayoutModel",
      "state": {
       "align_items": "center",
       "display": "flex",
       "height": "20px",
       "width": "auto"
      }
     },
     "114aaab7f30c4527946101ae60d6b051": {
      "model_module": "@jupyter-widgets/controls",
      "model_module_version": "2.0.0",
      "model_name": "ButtonStyleModel",
      "state": {
       "font_family": null,
       "font_size": null,
       "font_style": null,
       "font_variant": null,
       "font_weight": null,
       "text_color": null,
       "text_decoration": null
      }
     },
     "1525901d7b28418f972dc48ac37c49e4": {
      "model_module": "@jupyter-widgets/base",
      "model_module_version": "2.0.0",
      "model_name": "LayoutModel",
      "state": {}
     },
     "16791f33d5324f6cb9cd123e8972ab97": {
      "model_module": "@jupyter-widgets/controls",
      "model_module_version": "2.0.0",
      "model_name": "LabelModel",
      "state": {
       "layout": "IPY_MODEL_360b7f8e88d54c9095f024ede0f33b27",
       "style": "IPY_MODEL_254bdb9587264060b663787f2bfd7cf7",
       "value": "b = sort(a)"
      }
     },
     "1abba70d5a1d4a2784955e818df33635": {
      "model_module": "@jupyter-widgets/base",
      "model_module_version": "2.0.0",
      "model_name": "LayoutModel",
      "state": {}
     },
     "1e959f046fe944fbb668104cba711b18": {
      "model_module": "@jupyter-widgets/controls",
      "model_module_version": "2.0.0",
      "model_name": "ButtonModel",
      "state": {
       "description": "Load",
       "layout": "IPY_MODEL_bbbf10c71982457fae4d5241b5e7fd73",
       "style": "IPY_MODEL_3756f7657eb3460d8fbca575c41bcdfa",
       "tooltip": "Load assignments from file"
      }
     },
     "24a5b9ab3ac34f53ba9061bfc066753f": {
      "model_module": "@jupyter-widgets/controls",
      "model_module_version": "2.0.0",
      "model_name": "ButtonStyleModel",
      "state": {
       "font_family": null,
       "font_size": null,
       "font_style": null,
       "font_variant": null,
       "font_weight": null,
       "text_color": null,
       "text_decoration": null
      }
     },
     "254bdb9587264060b663787f2bfd7cf7": {
      "model_module": "@jupyter-widgets/controls",
      "model_module_version": "2.0.0",
      "model_name": "LabelStyleModel",
      "state": {
       "description_width": "",
       "font_family": null,
       "font_size": null,
       "font_style": null,
       "font_variant": null,
       "font_weight": null,
       "text_color": null,
       "text_decoration": null
      }
     },
     "2b0f94ca8fd34c30879619dd8a848cf1": {
      "model_module": "@jupyter-widgets/base",
      "model_module_version": "2.0.0",
      "model_name": "LayoutModel",
      "state": {
       "align_items": "center",
       "display": "flex",
       "height": "20px",
       "width": "auto"
      }
     },
     "3235650739994049b99f19a6b15c73d7": {
      "model_module": "@jupyter-widgets/controls",
      "model_module_version": "2.0.0",
      "model_name": "ButtonStyleModel",
      "state": {
       "font_family": null,
       "font_size": null,
       "font_style": null,
       "font_variant": null,
       "font_weight": null,
       "text_color": null,
       "text_decoration": null
      }
     },
     "32dc75d0981942c3b205cd2cba95fb78": {
      "model_module": "@jupyter-widgets/base",
      "model_module_version": "2.0.0",
      "model_name": "LayoutModel",
      "state": {}
     },
     "36067693ed554881b0ff7d0cd9c4d06f": {
      "model_module": "@jupyter-widgets/controls",
      "model_module_version": "2.0.0",
      "model_name": "LabelModel",
      "state": {
       "layout": "IPY_MODEL_1525901d7b28418f972dc48ac37c49e4",
       "style": "IPY_MODEL_85a3b0d986f942f790cb0ea0e92fc6e0",
       "value": "iquib(3)"
      }
     },
     "360b7f8e88d54c9095f024ede0f33b27": {
      "model_module": "@jupyter-widgets/base",
      "model_module_version": "2.0.0",
      "model_name": "LayoutModel",
      "state": {}
     },
     "3756f7657eb3460d8fbca575c41bcdfa": {
      "model_module": "@jupyter-widgets/controls",
      "model_module_version": "2.0.0",
      "model_name": "ButtonStyleModel",
      "state": {
       "font_family": null,
       "font_size": null,
       "font_style": null,
       "font_variant": null,
       "font_weight": null,
       "text_color": null,
       "text_decoration": null
      }
     },
     "385a63fddba8407299509db87610d449": {
      "model_module": "@jupyter-widgets/controls",
      "model_module_version": "2.0.0",
      "model_name": "ButtonModel",
      "state": {
       "description": "Props",
       "layout": "IPY_MODEL_887cfce24d354c60bc5ec6911bf51109",
       "style": "IPY_MODEL_022ca9548c004cd28b581402b2e44b03",
       "tooltip": "Show quib's properties"
      }
     },
     "39a4af4fa0d94a8887d18de85349d2d2": {
      "model_module": "@jupyter-widgets/controls",
      "model_module_version": "2.0.0",
      "model_name": "ButtonStyleModel",
      "state": {
       "font_family": null,
       "font_size": null,
       "font_style": null,
       "font_variant": null,
       "font_weight": null,
       "text_color": null,
       "text_decoration": null
      }
     },
     "3a51e9cad539443cae1fb0412392dc19": {
      "model_module": "@jupyter-widgets/base",
      "model_module_version": "2.0.0",
      "model_name": "LayoutModel",
      "state": {}
     },
     "4241e6f4ad9d4f2995bd0b43c86e94e7": {
      "model_module": "@jupyter-widgets/controls",
      "model_module_version": "2.0.0",
      "model_name": "ToggleButtonStyleModel",
      "state": {
       "description_width": "",
       "font_family": null,
       "font_size": null,
       "font_style": null,
       "font_variant": null,
       "font_weight": null,
       "text_color": null,
       "text_decoration": null
      }
     },
     "432bf07b02284c10b2b730260eae5193": {
      "model_module": "@jupyter-widgets/base",
      "model_module_version": "2.0.0",
      "model_name": "LayoutModel",
      "state": {
       "align_items": "center",
       "display": "flex",
       "height": "20px",
       "width": "auto"
      }
     },
     "4b413bbea32c4ef795215dbb6dbaead3": {
      "model_module": "@jupyter-widgets/base",
      "model_module_version": "2.0.0",
      "model_name": "LayoutModel",
      "state": {}
     },
     "5111318d89424d31acbf08232a81bbd7": {
      "model_module": "@jupyter-widgets/controls",
      "model_module_version": "2.0.0",
      "model_name": "ButtonModel",
      "state": {
       "description": "Load",
       "layout": "IPY_MODEL_dff4abf762594d06bc78f33d50c1d9c4",
       "style": "IPY_MODEL_c81ac360bced4c0e907d8c6aeadbfaf1",
       "tooltip": "Load assignments from file"
      }
     },
     "52b6743bde45488989f199f2d11fc73f": {
      "model_module": "@jupyter-widgets/controls",
      "model_module_version": "2.0.0",
      "model_name": "VBoxModel",
      "state": {
       "children": [
        "IPY_MODEL_36067693ed554881b0ff7d0cd9c4d06f",
        "IPY_MODEL_c18dadb011d146e29c0293e789cac045",
        "IPY_MODEL_ed9fce57dc824c50af3fa500539d3546"
       ],
       "layout": "IPY_MODEL_e0796cdace0b475782b604f07cc9732d"
      }
     },
     "57b59973af9a4a7d9c079e7cfbdaaa4f": {
      "model_module": "@jupyter-widgets/controls",
      "model_module_version": "2.0.0",
      "model_name": "ToggleButtonModel",
      "state": {
       "description": "Value",
       "layout": "IPY_MODEL_594342c931774717968d91b8366c8ed2",
       "style": "IPY_MODEL_0135f4204ba741f1be136a26c7070db4",
       "tooltip": "Show quib's value",
       "value": true
      }
     },
     "58a07f195a49448fa95c9aa7f58635a2": {
      "model_module": "@jupyter-widgets/base",
      "model_module_version": "2.0.0",
      "model_name": "LayoutModel",
      "state": {
       "align_items": "center",
       "display": "flex",
       "height": "20px",
       "width": "auto"
      }
     },
     "594342c931774717968d91b8366c8ed2": {
      "model_module": "@jupyter-widgets/base",
      "model_module_version": "2.0.0",
      "model_name": "LayoutModel",
      "state": {
       "align_items": "center",
       "display": "flex",
       "height": "20px",
       "width": "auto"
      }
     },
     "7243df4898bc4e32815dd5bfe3a84a98": {
      "model_module": "@jupyter-widgets/base",
      "model_module_version": "2.0.0",
      "model_name": "LayoutModel",
      "state": {}
     },
     "73ea57b055a84ab8ac0cbc07f2366729": {
      "model_module": "@jupyter-widgets/controls",
      "model_module_version": "2.0.0",
      "model_name": "ToggleButtonStyleModel",
      "state": {
       "description_width": "",
       "font_family": null,
       "font_size": null,
       "font_style": null,
       "font_variant": null,
       "font_weight": null,
       "text_color": null,
       "text_decoration": null
      }
     },
     "7e2fde665b6a4eeea62e0661d0ec580f": {
      "model_module": "@jupyter-widgets/controls",
      "model_module_version": "2.0.0",
      "model_name": "ToggleButtonModel",
      "state": {
       "description": "Value",
       "layout": "IPY_MODEL_58a07f195a49448fa95c9aa7f58635a2",
       "style": "IPY_MODEL_73ea57b055a84ab8ac0cbc07f2366729",
       "tooltip": "Show quib's value"
      }
     },
     "85a3b0d986f942f790cb0ea0e92fc6e0": {
      "model_module": "@jupyter-widgets/controls",
      "model_module_version": "2.0.0",
      "model_name": "LabelStyleModel",
      "state": {
       "description_width": "",
       "font_family": null,
       "font_size": null,
       "font_style": null,
       "font_variant": null,
       "font_weight": null,
       "text_color": null,
       "text_decoration": null
      }
     },
     "85e96b2529734de4aed3e457ed15ed66": {
      "model_module": "@jupyter-widgets/base",
      "model_module_version": "2.0.0",
      "model_name": "LayoutModel",
      "state": {
       "width": "284px"
      }
     },
     "87c8c892e8b74f96a0044658d817908d": {
      "model_module": "@jupyter-widgets/controls",
      "model_module_version": "2.0.0",
      "model_name": "HBoxModel",
      "state": {
       "children": [
        "IPY_MODEL_dda4b34609534f7e8684c77d59d44fc2"
       ],
       "layout": "IPY_MODEL_8b9f571ab12445efab7cc14b45c9f306"
      }
     },
     "887cfce24d354c60bc5ec6911bf51109": {
      "model_module": "@jupyter-widgets/base",
      "model_module_version": "2.0.0",
      "model_name": "LayoutModel",
      "state": {
       "align_items": "center",
       "display": "flex",
       "height": "20px",
       "width": "auto"
      }
     },
     "8a608d3ceac14942a2fc9345a76824ef": {
      "model_module": "@jupyter-widgets/controls",
      "model_module_version": "2.0.0",
      "model_name": "VBoxModel",
      "state": {
       "layout": "IPY_MODEL_d16d8dff8b91471facb18e0c9851c17a"
      }
     },
     "8b45dd7d4c3749019de59e529b6f21ae": {
      "model_module": "@jupyter-widgets/base",
      "model_module_version": "2.0.0",
      "model_name": "LayoutModel",
      "state": {
       "align_items": "center",
       "display": "flex",
       "height": "20px",
       "width": "auto"
      }
     },
     "8b6076bc387a41a58b7b33bb222b3279": {
      "model_module": "@jupyter-widgets/controls",
      "model_module_version": "2.0.0",
      "model_name": "HBoxModel",
      "state": {
       "children": [
        "IPY_MODEL_0fea4af312b04bf9b3ea725d8c6d9e1f"
       ],
       "layout": "IPY_MODEL_32dc75d0981942c3b205cd2cba95fb78"
      }
     },
     "8b9f571ab12445efab7cc14b45c9f306": {
      "model_module": "@jupyter-widgets/base",
      "model_module_version": "2.0.0",
      "model_name": "LayoutModel",
      "state": {}
     },
     "90141a3517114273abc40e9b5d4481fd": {
      "model_module": "@jupyter-widgets/base",
      "model_module_version": "2.0.0",
      "model_name": "LayoutModel",
      "state": {}
     },
     "92312c56c56848ceacf3bd50c6706222": {
      "model_module": "@jupyter-widgets/controls",
      "model_module_version": "2.0.0",
      "model_name": "ButtonStyleModel",
      "state": {
       "font_family": null,
       "font_size": null,
       "font_style": null,
       "font_variant": null,
       "font_weight": null,
       "text_color": null,
       "text_decoration": null
      }
     },
     "94ad2f45f5a04af9a18691778210395e": {
      "model_module": "@jupyter-widgets/controls",
      "model_module_version": "2.0.0",
      "model_name": "HTMLModel",
      "state": {
       "layout": "IPY_MODEL_7243df4898bc4e32815dd5bfe3a84a98",
       "style": "IPY_MODEL_9bee29c5f2f047f18d9d8081671d864b",
       "value": "<p style=\"color:red\">EXCEPTION DURING GET_VALUE()</p>"
      }
     },
     "98641ba02fa04b78b366385819e0f87a": {
      "model_module": "@jupyter-widgets/base",
      "model_module_version": "2.0.0",
      "model_name": "LayoutModel",
      "state": {
       "width": "284px"
      }
     },
     "9ad21ccd95cc45648cf57395d28a5c76": {
      "model_module": "@jupyter-widgets/controls",
      "model_module_version": "2.0.0",
      "model_name": "ToggleButtonStyleModel",
      "state": {
       "description_width": "",
       "font_family": null,
       "font_size": null,
       "font_style": null,
       "font_variant": null,
       "font_weight": null,
       "text_color": null,
       "text_decoration": null
      }
     },
     "9bee29c5f2f047f18d9d8081671d864b": {
      "model_module": "@jupyter-widgets/controls",
      "model_module_version": "2.0.0",
      "model_name": "HTMLStyleModel",
      "state": {
       "description_width": "",
       "font_size": null,
       "text_color": null
      }
     },
     "a0e11aad2b4246c2b813261c747ac1f4": {
      "model_module": "@jupyter-widgets/controls",
      "model_module_version": "2.0.0",
      "model_name": "LabelModel",
      "state": {
       "layout": "IPY_MODEL_1abba70d5a1d4a2784955e818df33635",
       "style": "IPY_MODEL_b122aa285d8f487ebdd32f106251c706",
       "value": "iquib(3)"
      }
     },
     "a34c877ece194103a804c50f56bd5771": {
      "model_module": "@jupyter-widgets/base",
      "model_module_version": "2.0.0",
      "model_name": "LayoutModel",
      "state": {
       "align_items": "center",
       "display": "flex",
       "height": "20px",
       "width": "auto"
      }
     },
     "a3cac36bd7b9475bb83190fefb9e61c6": {
      "model_module": "@jupyter-widgets/controls",
      "model_module_version": "2.0.0",
      "model_name": "ToggleButtonModel",
      "state": {
       "description": "Overrides",
       "layout": "IPY_MODEL_a34c877ece194103a804c50f56bd5771",
       "style": "IPY_MODEL_c56ebf9b9fba4c2582b7f74dd727e43d",
       "tooltip": "Show list of overriding assignments",
       "value": true
      }
     },
     "b122aa285d8f487ebdd32f106251c706": {
      "model_module": "@jupyter-widgets/controls",
      "model_module_version": "2.0.0",
      "model_name": "LabelStyleModel",
      "state": {
       "description_width": "",
       "font_family": null,
       "font_size": null,
       "font_style": null,
       "font_variant": null,
       "font_weight": null,
       "text_color": null,
       "text_decoration": null
      }
     },
     "b1a07b43b1fd42338064ab0e7bdf2026": {
      "model_module": "@jupyter-widgets/controls",
      "model_module_version": "2.0.0",
      "model_name": "ButtonModel",
      "state": {
       "description": "Props",
       "layout": "IPY_MODEL_432bf07b02284c10b2b730260eae5193",
       "style": "IPY_MODEL_cdfbda74b2014ec6b772dada2f711380",
       "tooltip": "Show quib's properties"
      }
     },
     "b1ed367083d94f01a0ee35353fe02a12": {
      "model_module": "@jupyter-widgets/base",
      "model_module_version": "2.0.0",
      "model_name": "LayoutModel",
      "state": {
       "align_items": "center",
       "display": "flex",
       "height": "20px",
       "width": "auto"
      }
     },
     "bb5d201de3f34f068da3fb061e2c8034": {
      "model_module": "@jupyter-widgets/base",
      "model_module_version": "2.0.0",
      "model_name": "LayoutModel",
      "state": {
       "width": "284px"
      }
     },
     "bbbf10c71982457fae4d5241b5e7fd73": {
      "model_module": "@jupyter-widgets/base",
      "model_module_version": "2.0.0",
      "model_name": "LayoutModel",
      "state": {
       "align_items": "center",
       "display": "flex",
       "height": "20px",
       "width": "auto"
      }
     },
     "c18dadb011d146e29c0293e789cac045": {
      "model_module": "@jupyter-widgets/controls",
      "model_module_version": "2.0.0",
      "model_name": "VBoxModel",
      "state": {
       "layout": "IPY_MODEL_4b413bbea32c4ef795215dbb6dbaead3"
      }
     },
     "c56ebf9b9fba4c2582b7f74dd727e43d": {
      "model_module": "@jupyter-widgets/controls",
      "model_module_version": "2.0.0",
      "model_name": "ToggleButtonStyleModel",
      "state": {
       "description_width": "",
       "font_family": null,
       "font_size": null,
       "font_style": null,
       "font_variant": null,
       "font_weight": null,
       "text_color": null,
       "text_decoration": null
      }
     },
     "c81ac360bced4c0e907d8c6aeadbfaf1": {
      "model_module": "@jupyter-widgets/controls",
      "model_module_version": "2.0.0",
      "model_name": "ButtonStyleModel",
      "state": {
       "font_family": null,
       "font_size": null,
       "font_style": null,
       "font_variant": null,
       "font_weight": null,
       "text_color": null,
       "text_decoration": null
      }
     },
     "c8f858cc5561451c9e0b8f03d0b5b97a": {
      "model_module": "@jupyter-widgets/base",
      "model_module_version": "2.0.0",
      "model_name": "LayoutModel",
      "state": {}
     },
     "cdfbda74b2014ec6b772dada2f711380": {
      "model_module": "@jupyter-widgets/controls",
      "model_module_version": "2.0.0",
      "model_name": "ButtonStyleModel",
      "state": {
       "font_family": null,
       "font_size": null,
       "font_style": null,
       "font_variant": null,
       "font_weight": null,
       "text_color": null,
       "text_decoration": null
      }
     },
     "cedf3f4928034914928eed7d6c64a5ea": {
      "model_module": "@jupyter-widgets/base",
      "model_module_version": "2.0.0",
      "model_name": "LayoutModel",
      "state": {
       "align_items": "center",
       "display": "flex",
       "height": "20px",
       "width": "auto"
      }
     },
     "cef39d701913432f96ee824002a7593f": {
      "model_module": "@jupyter-widgets/controls",
      "model_module_version": "2.0.0",
      "model_name": "HBoxModel",
      "state": {
       "children": [
        "IPY_MODEL_7e2fde665b6a4eeea62e0661d0ec580f",
        "IPY_MODEL_b1a07b43b1fd42338064ab0e7bdf2026",
        "IPY_MODEL_a3cac36bd7b9475bb83190fefb9e61c6",
        "IPY_MODEL_051c5bf8b332415885981f26b623f91a",
        "IPY_MODEL_1e959f046fe944fbb668104cba711b18"
       ],
       "layout": "IPY_MODEL_85e96b2529734de4aed3e457ed15ed66"
      }
     },
     "cfba71143e714924a6f797f9152714cb": {
      "model_module": "@jupyter-widgets/controls",
      "model_module_version": "2.0.0",
      "model_name": "VBoxModel",
      "state": {
       "children": [
        "IPY_MODEL_a0e11aad2b4246c2b813261c747ac1f4",
        "IPY_MODEL_8a608d3ceac14942a2fc9345a76824ef",
        "IPY_MODEL_f214a99c6de64327921dfb850ec97897"
       ],
       "layout": "IPY_MODEL_c8f858cc5561451c9e0b8f03d0b5b97a"
      }
     },
     "cfceee9fc21248f1bd7ffd14e843822b": {
      "model_module": "@jupyter-widgets/base",
      "model_module_version": "2.0.0",
      "model_name": "LayoutModel",
      "state": {
       "align_items": "center",
       "display": "flex",
       "height": "20px",
       "width": "auto"
      }
     },
     "d16d8dff8b91471facb18e0c9851c17a": {
      "model_module": "@jupyter-widgets/base",
      "model_module_version": "2.0.0",
      "model_name": "LayoutModel",
      "state": {}
     },
     "d54191f2fa69448e9daa452d776f9e13": {
      "model_module": "@jupyter-widgets/controls",
      "model_module_version": "2.0.0",
      "model_name": "ButtonModel",
      "state": {
       "description": "Props",
       "layout": "IPY_MODEL_cfceee9fc21248f1bd7ffd14e843822b",
       "style": "IPY_MODEL_114aaab7f30c4527946101ae60d6b051",
       "tooltip": "Show quib's properties"
      }
     },
     "da3a06e3ef6f44cc847b9117208065a9": {
      "model_module": "@jupyter-widgets/controls",
      "model_module_version": "2.0.0",
      "model_name": "ButtonModel",
      "state": {
       "description": "Save",
       "layout": "IPY_MODEL_cedf3f4928034914928eed7d6c64a5ea",
       "style": "IPY_MODEL_39a4af4fa0d94a8887d18de85349d2d2",
       "tooltip": "Save assignments to file"
      }
     },
     "dd7ac82ad1454b64b6c8c6112db0a045": {
      "model_module": "@jupyter-widgets/base",
      "model_module_version": "2.0.0",
      "model_name": "LayoutModel",
      "state": {
       "width": "284px"
      }
     },
     "dda4b34609534f7e8684c77d59d44fc2": {
      "model_module": "@jupyter-widgets/controls",
      "model_module_version": "2.0.0",
      "model_name": "HBoxModel",
      "state": {
       "children": [
        "IPY_MODEL_57b59973af9a4a7d9c079e7cfbdaaa4f",
        "IPY_MODEL_385a63fddba8407299509db87610d449"
       ],
       "layout": "IPY_MODEL_dd7ac82ad1454b64b6c8c6112db0a045"
      }
     },
     "dff4abf762594d06bc78f33d50c1d9c4": {
      "model_module": "@jupyter-widgets/base",
      "model_module_version": "2.0.0",
      "model_name": "LayoutModel",
      "state": {
       "align_items": "center",
       "display": "flex",
       "height": "20px",
       "width": "auto"
      }
     },
     "e0796cdace0b475782b604f07cc9732d": {
      "model_module": "@jupyter-widgets/base",
      "model_module_version": "2.0.0",
      "model_name": "LayoutModel",
      "state": {}
     },
     "e2b0fc152f5e4513b121b1a01555ce99": {
      "model_module": "@jupyter-widgets/controls",
      "model_module_version": "2.0.0",
      "model_name": "ButtonModel",
      "state": {
       "icon": "plus",
       "layout": "IPY_MODEL_b1ed367083d94f01a0ee35353fe02a12",
       "style": "IPY_MODEL_24a5b9ab3ac34f53ba9061bfc066753f",
       "tooltip": "Add a new assignment"
      }
     },
     "e31cfc18d20f4009b14f9f4306ef0ade": {
      "model_module": "@jupyter-widgets/controls",
      "model_module_version": "2.0.0",
      "model_name": "ToggleButtonModel",
      "state": {
       "description": "Overrides",
       "layout": "IPY_MODEL_8b45dd7d4c3749019de59e529b6f21ae",
       "style": "IPY_MODEL_9ad21ccd95cc45648cf57395d28a5c76",
       "tooltip": "Show list of overriding assignments",
       "value": true
      }
     },
     "e7b11ba932874c8b828f36cde539a458": {
      "model_module": "@jupyter-widgets/controls",
      "model_module_version": "2.0.0",
      "model_name": "ButtonModel",
      "state": {
       "icon": "plus",
       "layout": "IPY_MODEL_1061f25738774a359a78f594a16100bf",
       "style": "IPY_MODEL_3235650739994049b99f19a6b15c73d7",
       "tooltip": "Add a new assignment"
      }
     },
     "ed9fce57dc824c50af3fa500539d3546": {
      "model_module": "@jupyter-widgets/controls",
      "model_module_version": "2.0.0",
      "model_name": "HBoxModel",
      "state": {
       "children": [
        "IPY_MODEL_fdb2ec0192e943bea42d425152aa91f1",
        "IPY_MODEL_e2b0fc152f5e4513b121b1a01555ce99"
       ],
       "layout": "IPY_MODEL_0603a1791f1d42b089f67b29f4c2e499"
      }
     },
     "f0f164688e44445589b04e5c61a8d165": {
      "model_module": "@jupyter-widgets/controls",
      "model_module_version": "2.0.0",
      "model_name": "VBoxModel",
      "state": {
       "children": [
        "IPY_MODEL_16791f33d5324f6cb9cd123e8972ab97",
        "IPY_MODEL_8b6076bc387a41a58b7b33bb222b3279",
        "IPY_MODEL_94ad2f45f5a04af9a18691778210395e"
       ],
       "layout": "IPY_MODEL_90141a3517114273abc40e9b5d4481fd"
      }
     },
     "f214a99c6de64327921dfb850ec97897": {
      "model_module": "@jupyter-widgets/controls",
      "model_module_version": "2.0.0",
      "model_name": "HBoxModel",
      "state": {
       "children": [
        "IPY_MODEL_cef39d701913432f96ee824002a7593f",
        "IPY_MODEL_e7b11ba932874c8b828f36cde539a458"
       ],
       "layout": "IPY_MODEL_3a51e9cad539443cae1fb0412392dc19"
      }
     },
     "fdb2ec0192e943bea42d425152aa91f1": {
      "model_module": "@jupyter-widgets/controls",
      "model_module_version": "2.0.0",
      "model_name": "HBoxModel",
      "state": {
       "children": [
        "IPY_MODEL_086bde5d454d4411b317c93f01838627",
        "IPY_MODEL_d54191f2fa69448e9daa452d776f9e13",
        "IPY_MODEL_e31cfc18d20f4009b14f9f4306ef0ade",
        "IPY_MODEL_da3a06e3ef6f44cc847b9117208065a9",
        "IPY_MODEL_5111318d89424d31acbf08232a81bbd7"
       ],
       "layout": "IPY_MODEL_98641ba02fa04b78b366385819e0f87a"
      }
     }
    },
    "version_major": 2,
    "version_minor": 0
   }
  }
 },
 "nbformat": 4,
 "nbformat_minor": 5
}
