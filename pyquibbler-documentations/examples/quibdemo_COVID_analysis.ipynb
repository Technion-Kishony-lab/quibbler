{
 "cells": [
  {
   "cell_type": "markdown",
   "id": "491dbbee",
   "metadata": {},
   "source": [
    "## COVID-19 analysis\n",
    "\n",
    "**Analysis of COVID-19 infection rate by country.**\n",
    "\n",
    "* **Features**\n",
    "    * Reading data from external files\n",
    "    * Graphics-driven assignments\n",
    "\n",
    "* **Try me**\n",
    "    * Drag the high-rate threshold (triangle marker)"
   ]
  },
  {
   "cell_type": "code",
   "execution_count": 34,
   "id": "5dc0e2e4",
   "metadata": {},
   "outputs": [],
   "source": [
    "from pyquibbler import iquib, q, initialize_quibbler\n",
    "initialize_quibbler()\n",
    "from matplotlib import pyplot as plt\n",
    "import numpy as np\n",
    "\n",
    "%matplotlib tk"
   ]
  },
  {
   "cell_type": "code",
   "execution_count": 35,
   "id": "3c3674c5",
   "metadata": {},
   "outputs": [],
   "source": [
    "# Load data file of COVID statistics per countries\n",
    "file_name = iquib('COVID_Fatality.csv')  # <-- input\n",
    "\n",
    "dtype = [(\"Country\", str, 32), (\"ConfirmedCases\", int), (\"Deaths\", int),  (\"Population\", float)]\n",
    "fatality_table = np.genfromtxt(file_name, dtype=dtype, delimiter=',', names=True)"
   ]
  },
  {
   "cell_type": "code",
   "execution_count": 36,
   "id": "91f0fad0",
   "metadata": {},
   "outputs": [],
   "source": [
    "# Figure setup\n",
    "plt.xlabel(\"Confirmed Cases (%)\")\n",
    "plt.ylabel(\"Number of countries\")\n",
    "plt.axis([0, 20, 0, 70]);"
   ]
  },
  {
   "cell_type": "code",
   "execution_count": 37,
   "id": "1778da2c",
   "metadata": {},
   "outputs": [],
   "source": [
    "# Calculate and plot histogram of infection rate\n",
    "rate = fatality_table['ConfirmedCases'] / fatality_table['Population'] * 100\n",
    "plt.hist(rate, np.arange(0, 20, 1), facecolor='g');"
   ]
  },
  {
   "cell_type": "code",
   "execution_count": 38,
   "id": "1c030328",
   "metadata": {},
   "outputs": [],
   "source": [
    "# Threshold high-rate countries\n",
    "threshold = iquib(15.) # <-- input\n",
    "above_threshold = rate >= threshold\n",
    "plt.hist(rate[above_threshold], np.arange(0, 20, 1), facecolor='r')\n",
    "plt.plot([threshold, threshold], plt.ylim(), 'd--k', markersize=18);"
   ]
  },
  {
   "cell_type": "code",
   "execution_count": 39,
   "id": "e776b629-1975-46b5-8746-7d0a9a707e04",
   "metadata": {},
   "outputs": [],
   "source": [
    "# List high-rate countries\n",
    "text_props = {'va': 'top', 'ha': 'right', 'color': 'r'}\n",
    "plt.text(18, 68, 'High-rate countries', fontsize=14, **text_props)\n",
    "plt.text(18, 63, q(\"\\n\".join, fatality_table[above_threshold]['Country']), **text_props);"
   ]
  },
  {
   "cell_type": "code",
   "execution_count": 40,
   "id": "b65b9d1f-f4c2-4360-9b85-b377497a6a12",
   "metadata": {},
   "outputs": [],
   "source": [
    "# Plot pie chart\n",
    "totals = np.array([np.sum(~above_threshold), np.sum(above_threshold)])\n",
    "ax = plt.axes([0.2, 0.5, 0.3, 0.3])\n",
    "plt.pie(totals, colors=['g', 'r'], labels=totals);"
   ]
  },
  {
   "cell_type": "code",
   "execution_count": null,
   "id": "c3a53010-65ad-422e-9454-8cd48d38abbd",
   "metadata": {},
   "outputs": [],
   "source": []
  }
 ],
 "metadata": {
  "kernelspec": {
   "display_name": "Python 3 (ipykernel)",
   "language": "python",
   "name": "python3"
  },
  "language_info": {
   "codemirror_mode": {
    "name": "ipython",
    "version": 3
   },
   "file_extension": ".py",
   "mimetype": "text/x-python",
   "name": "python",
   "nbconvert_exporter": "python",
   "pygments_lexer": "ipython3",
   "version": "3.10.5"
  }
 },
 "nbformat": 4,
 "nbformat_minor": 5
}
