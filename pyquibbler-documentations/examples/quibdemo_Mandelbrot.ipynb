{
 "cells": [
  {
   "cell_type": "markdown",
   "id": "491dbbee",
   "metadata": {},
   "source": [
    "## Interactive zooming on Mandelbrot\n",
    "**Simple quib-based app for viewing and zooming on the Mandelbrot set.**\n",
    "\n",
    "* **Features**\n",
    "    * Calling a user-defined function\n",
    "    * Quib-linked widgets\n",
    "    * Inverse assignments\n",
    "\n",
    "\n",
    "* **Try me**\n",
    "    * Try moving the region-of-interests in panels 1 and 2 to choose zoom-in areas.\n"
   ]
  },
  {
   "cell_type": "code",
   "execution_count": 1,
   "id": "bc53a127",
   "metadata": {},
   "outputs": [],
   "source": [
    "from pyquibbler import iquib, initialize_quibbler, q\n",
    "initialize_quibbler()\n",
    "import matplotlib.pyplot as plt\n",
    "from matplotlib.widgets import RectangleSelector, Slider\n",
    "import numpy as np\n",
    "\n",
    "%matplotlib tk"
   ]
  },
  {
   "cell_type": "code",
   "execution_count": 2,
   "id": "3b594645",
   "metadata": {},
   "outputs": [],
   "source": [
    "def mandelbrot(extent, num_pixels=200, num_iterations=30):\n",
    "    '''\n",
    "    calculate mandelbrot set in the extent range\n",
    "    extent = [xmin, xmax, ymin, ymax]\n",
    "    '''\n",
    "    \n",
    "    x_range = extent[0:2]\n",
    "    y_range = extent[2:4]\n",
    "\n",
    "    dx = np.diff(x_range)\n",
    "    dy = np.diff(y_range)\n",
    "    d = np.maximum(dx,dy) / num_pixels\n",
    "    xy = np.mgrid[y_range[0]:y_range[1]:d, x_range[0]:x_range[1]:d]\n",
    "    y, x = xy\n",
    "    c = x + 1j * y\n",
    "    z = np.zeros(np.shape(x))\n",
    "    m = np.zeros(np.shape(x))\n",
    "\n",
    "    import warnings\n",
    "    warnings.filterwarnings(\"ignore\")\n",
    "    for i_iter in range(num_iterations):\n",
    "        z = z*z + c\n",
    "        m[(np.abs(z) > 2) & (m == 0)] = num_iterations - i_iter\n",
    "    warnings.filterwarnings(\"default\")\n",
    "    m = np.flipud(m)\n",
    "\n",
    "    return m"
   ]
  },
  {
   "cell_type": "code",
   "execution_count": 3,
   "id": "05c434f1",
   "metadata": {},
   "outputs": [],
   "source": [
    "# Define input quibs:\n",
    "\n",
    "# image resolution:\n",
    "resolution = iquib(200) \n",
    "\n",
    "# number of iterations for calculating convergence of the mandelbrot set:\n",
    "depth = iquib(200) \n",
    "\n",
    "# selection areas for each of the panels:\n",
    "XYs = [] \n",
    "XYs.append(iquib(np.array([-2.   ,  1.  , -1.5, 1.5  ])))\n",
    "XYs.append(iquib(np.array([-1.55 , -0.55, -0.5, 0.39 ])))\n",
    "XYs.append(iquib(np.array([-1.42 , -1.23, -0.1, 0.08 ])))\n",
    "\n",
    "# Figure setup:\n",
    "fig = plt.figure(figsize=(4.5,8))\n",
    "\n",
    "for k in range(3):\n",
    "    # Define a functional quib that calculates Mandelbrot:\n",
    "    img = q(mandelbrot,XYs[k], resolution, depth)\n",
    "\n",
    "    # Plot the image:\n",
    "    axs = fig.add_axes([0.1, 0.13 + (2-k) * 0.28, 0.8, 0.26])\n",
    "    axs.imshow(img, extent=XYs[k])\n",
    "    axs.set_xticks([])\n",
    "    axs.set_yticks([])\n",
    "    axs.text(0.03,0.97,str(k), transform = axs.transAxes, fontsize=16, va='top',ha='left')\n",
    "\n",
    "    # ROI selector:\n",
    "    if k<2:\n",
    "        RectangleSelector(axs, extents=XYs[k+1], \n",
    "                          rectprops=dict(edgecolor='black', alpha=0.7, fill=False, linewidth=3))\n",
    "\n",
    "# plot the depth slider\n",
    "axs = fig.add_axes([0.35,0.08,0.4,0.03])\n",
    "Slider(ax=axs, label='depth', valmin=0, valmax=200, valstep=1, valinit=depth);\n",
    "\n",
    "# plot the resolution slider\n",
    "axs = fig.add_axes([0.35,0.03,0.4,0.03])\n",
    "Slider(ax=axs, label='resolution', valmin=10, valmax=300, valstep=10, valinit=resolution);"
   ]
  }
 ],
 "metadata": {
  "kernelspec": {
   "display_name": "Python 3 (ipykernel)",
   "language": "python",
   "name": "python3"
  },
  "language_info": {
   "codemirror_mode": {
    "name": "ipython",
    "version": 3
   },
   "file_extension": ".py",
   "mimetype": "text/x-python",
   "name": "python",
   "nbconvert_exporter": "python",
   "pygments_lexer": "ipython3",
   "version": "3.10.4"
  }
 },
 "nbformat": 4,
 "nbformat_minor": 5
}
