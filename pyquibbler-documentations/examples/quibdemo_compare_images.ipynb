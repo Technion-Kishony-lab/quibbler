{
 "cells": [
  {
   "cell_type": "markdown",
   "id": "3fe5a497",
   "metadata": {},
   "source": [
    "## Compare images\n",
    "\n",
    "**Pairwise image comparison demonstrating diverged analysis.**\n",
    "\n",
    "In this example, we analyze similarity among a set of images. Specifically, the pipeline involves the following three steps:\n",
    "\n",
    "1. cutting _n_ sub-images from a source image based on user-specified Region Of Interests (ROIs).\n",
    "\n",
    "2. performing all pair-wise color-comparisons among these cut images.\n",
    "\n",
    "3. clustering the images based on their pairwise color similarity. \n",
    "    \n",
    "When a single ROI changes (by being dragged), *Quibbler* knows to only make the calculation needed: re-cutting the specific corresponding image and re-calculating the pairwise comparisons of this specific image with all other images (2*_n_-1 recalculations). \n",
    "\n",
    "A print command within the image-cutting and the image-comparison functions allows tracking functional call (dragging an ROI should follow by a report of a single \"Cutting image ...\" and then 2*_n_-1 \"Comparing ...\" messages). \n",
    "\n",
    "* **Features**\n",
    "    * Diverged calculations of quib slices\n",
    "    * Calling user function with np.vectorize\n",
    "    * Graphics-driven assignments\n",
    "    * Inverse assignments\n",
    "    * Assignment template\n",
    "\n",
    "\n",
    "* **Try me**\n",
    "    * Drag each region of interest to define the cut images. Watch the number of re-calculations being made.\n",
    "    * Change the similarity threshold either with the slider or on the color-scale. \n",
    "    * Add or remove images with the \"Image count\" slider.\n"
   ]
  },
  {
   "cell_type": "code",
   "execution_count": 1,
   "id": "3d35ab5e",
   "metadata": {},
   "outputs": [],
   "source": [
    "# Imports:\n",
    "\n",
    "import pyquibbler as qb\n",
    "from pyquibbler import iquib, q\n",
    "qb.initialize_quibbler()\n",
    "\n",
    "import numpy as np\n",
    "from scipy.sparse.csgraph import connected_components\n",
    "from functools import partial\n",
    "from matplotlib import pyplot as plt, widgets\n",
    "from mpl_toolkits.axes_grid1 import ImageGrid\n",
    "\n",
    "%matplotlib tk"
   ]
  },
  {
   "cell_type": "code",
   "execution_count": 2,
   "id": "6665ec4a",
   "metadata": {},
   "outputs": [],
   "source": [
    "# Define vectorized analysis steps:\n",
    "\n",
    "@partial(np.vectorize, signature='(4),()->()', pass_quibs=True, is_graphics=True)\n",
    "def create_roi(roi, axs):\n",
    "    rectprops = dict(facecolor='k', edgecolor='k', alpha=0.2, fill=True)\n",
    "    widgets.RectangleSelector(axs, extents=roi, rectprops=rectprops)\n",
    "\n",
    "\n",
    "@partial(np.vectorize, signature='(w,h,c),(4),()->()',otypes=[object])\n",
    "def cut_image(image, roi, image_id):\n",
    "    print(f'Cutting image {image_id}')\n",
    "    return image[roi[2]:roi[3], roi[0]:roi[1]]\n",
    "\n",
    "\n",
    "@partial(np.vectorize, otypes=[float])\n",
    "def image_distance(img1, img2, image_id1, image_id2):\n",
    "    print(f'Comparing {image_id1} -> {image_id2}')\n",
    "    rgd_distance = np.average(img1, axis=(0, 1)) - np.average(img2, axis=(0, 1))\n",
    "    return np.linalg.norm(rgd_distance / 255)\n",
    "\n",
    "\n",
    "@partial(np.vectorize, signature='(),()->()', is_graphics=True)\n",
    "def show_cut_images(ax, img):\n",
    "    ax.imshow(img)\n",
    "\n",
    "\n",
    "@partial(np.vectorize, signature='(),()->()', is_graphics=True)\n",
    "def plot_image_cluster_label(ax, index):\n",
    "    ax.text(0, 0, chr(index+65), fontsize=20, ha='left', va='top')\n",
    "\n",
    "    \n",
    "@partial(np.vectorize, is_graphics=True)\n",
    "def show_adjacency(axs, x, y, adjacent):\n",
    "    symbol = 'x' if adjacent else '.'\n",
    "    axs.plot(x, y, symbol, color='r')\n"
   ]
  },
  {
   "cell_type": "code",
   "execution_count": 3,
   "id": "a827bd69",
   "metadata": {},
   "outputs": [],
   "source": [
    "# Read and draw source image\n",
    "file_name = iquib('pipes.jpg')\n",
    "image = plt.imread(file_name)\n",
    "\n",
    "plt.figure(1, figsize=[6, 6])\n",
    "ax1 = plt.axes([0.15, 0.3, 0.7, 0.65])\n",
    "ax1.imshow(image);"
   ]
  },
  {
   "cell_type": "code",
   "execution_count": 4,
   "id": "a7eb4a30",
   "metadata": {},
   "outputs": [],
   "source": [
    "# Define ROIs:\n",
    "num_images = iquib(6, assignment_template=(0, 10, 1))\n",
    "image_ids = np.arange(num_images)\n",
    "\n",
    "roi_default = iquib([[20, 100, 20, 100]], allow_overriding=False)\n",
    "\n",
    "rois = np.repeat(roi_default, num_images, axis=0).setp(allow_overriding=True)\n",
    "\n",
    "similiarity_threshold = iquib(.1)"
   ]
  },
  {
   "cell_type": "code",
   "execution_count": 5,
   "id": "2ee57972",
   "metadata": {},
   "outputs": [],
   "source": [
    "# Cut the images from image according to the rois\n",
    "cut_images = cut_image(image, rois, image_ids)"
   ]
  },
  {
   "cell_type": "code",
   "execution_count": 6,
   "id": "804f77f8",
   "metadata": {},
   "outputs": [],
   "source": [
    "# Draw the rois\n",
    "create_roi(rois, ax1);"
   ]
  },
  {
   "cell_type": "code",
   "execution_count": 7,
   "id": "cbad8f33",
   "metadata": {},
   "outputs": [],
   "source": [
    "# Add slides for similarity threshold and image count:\n",
    "widgets.Slider(\n",
    "    ax=plt.axes([0.4, 0.2, 0.4, 0.03]),\n",
    "    label=\"Similiarity threshold\",\n",
    "    valmin=0, valmax=1, valstep=.05,\n",
    "    valinit=similiarity_threshold)\n",
    "\n",
    "widgets.Slider(\n",
    "    ax=plt.axes([0.4, 0.1, 0.4, 0.03]),\n",
    "    label=\"Image count\",\n",
    "    valmin=1, valmax=9, valstep=1,\n",
    "    valinit=num_images);"
   ]
  },
  {
   "cell_type": "code",
   "execution_count": 8,
   "id": "7495e47f",
   "metadata": {},
   "outputs": [
    {
     "name": "stdout",
     "output_type": "stream",
     "text": [
      "Cutting image 0\n",
      "Cutting image 1\n",
      "Cutting image 2\n",
      "Cutting image 3\n",
      "Cutting image 4\n",
      "Cutting image 5\n"
     ]
    }
   ],
   "source": [
    "# Figure 2 - Plot the cut images\n",
    "fig = plt.figure(2)\n",
    "grid_axes = iquib(ImageGrid(fig, 111, nrows_ncols=(3, 3), axes_pad=0.1))\n",
    "show_cut_images(grid_axes[:num_images], cut_images) \\\n",
    "    .setp(graphics_update='drop');"
   ]
  },
  {
   "cell_type": "code",
   "execution_count": 9,
   "id": "7735e890",
   "metadata": {},
   "outputs": [],
   "source": [
    "# Calculate all pairwise image comparisons \n",
    "image_distances = image_distance(np.expand_dims(cut_images, 1), cut_images, \n",
    "                                 np.expand_dims(image_ids, 1), image_ids)\n",
    "adjacents = image_distances < similiarity_threshold"
   ]
  },
  {
   "cell_type": "code",
   "execution_count": 10,
   "id": "9851b7f4-2a5c-4768-98b0-c3fc75f4de4a",
   "metadata": {},
   "outputs": [
    {
     "name": "stdout",
     "output_type": "stream",
     "text": [
      "Comparing 0 -> 0\n",
      "Comparing 0 -> 1\n",
      "Comparing 0 -> 2\n",
      "Comparing 0 -> 3\n",
      "Comparing 0 -> 4\n",
      "Comparing 0 -> 5\n",
      "Comparing 1 -> 0\n",
      "Comparing 1 -> 1\n",
      "Comparing 1 -> 2\n",
      "Comparing 1 -> 3\n",
      "Comparing 1 -> 4\n",
      "Comparing 1 -> 5\n",
      "Comparing 2 -> 0\n",
      "Comparing 2 -> 1\n",
      "Comparing 2 -> 2\n",
      "Comparing 2 -> 3\n",
      "Comparing 2 -> 4\n",
      "Comparing 2 -> 5\n",
      "Comparing 3 -> 0\n",
      "Comparing 3 -> 1\n",
      "Comparing 3 -> 2\n",
      "Comparing 3 -> 3\n",
      "Comparing 3 -> 4\n",
      "Comparing 3 -> 5\n",
      "Comparing 4 -> 0\n",
      "Comparing 4 -> 1\n",
      "Comparing 4 -> 2\n",
      "Comparing 4 -> 3\n",
      "Comparing 4 -> 4\n",
      "Comparing 4 -> 5\n",
      "Comparing 5 -> 0\n",
      "Comparing 5 -> 1\n",
      "Comparing 5 -> 2\n",
      "Comparing 5 -> 3\n",
      "Comparing 5 -> 4\n",
      "Comparing 5 -> 5\n"
     ]
    }
   ],
   "source": [
    "# Figure 3 - Plot distance matrix\n",
    "fig = plt.figure(3)\n",
    "fig.clf()\n",
    "axs = fig.add_axes([0.1, 0.15, 0.7, 0.7])\n",
    "axs.imshow(1 - image_distances, cmap='gray', vmin=0, vmax=1) \\\n",
    "    .setp(graphics_update='drop')\n",
    "axs.axis([-0.5, num_images-0.5, -0.5, num_images-0.5])\n",
    "axs.set_title('pairwise distance between images')\n",
    "axs.set_xlabel('Image number')\n",
    "axs.set_ylabel('Image number')\n",
    "\n",
    "\n",
    "show_adjacency(axs, np.expand_dims(image_ids, 1), image_ids, adjacents) \\\n",
    "    .setp(graphics_update='drop')\n",
    "\n",
    "# colormap\n",
    "axclr = fig.add_axes([0.85, 0.15, 0.06, 0.7])\n",
    "clrmap = np.linspace(1, 0, 10).reshape(10, 1)\n",
    "axclr.imshow(clrmap, cmap='gray', vmin=0, vmax=1)\n",
    "axclr.plot([-0.5, 0.5], similiarity_threshold * 10 - 0.5 + np.array([0, 0]), \n",
    "           '-r', linewidth=4, picker=True)\n",
    "axclr.set_xticks([])\n",
    "axclr.set_yticks([])\n",
    "axclr.set_ylabel('Similarity Threshold');"
   ]
  },
  {
   "cell_type": "code",
   "execution_count": 11,
   "id": "b53cb97c-8a25-4b82-a80e-0566f39a6d9e",
   "metadata": {},
   "outputs": [],
   "source": [
    "# add cluster label\n",
    "cluster_indeces = q(connected_components, adjacents)[1]\n",
    "plot_image_cluster_label(grid_axes[:num_images], cluster_indeces) \\\n",
    "    .setp(graphics_update='drop');"
   ]
  }
 ],
 "metadata": {
  "kernelspec": {
   "display_name": "Python 3 (ipykernel)",
   "language": "python",
   "name": "python3"
  },
  "language_info": {
   "codemirror_mode": {
    "name": "ipython",
    "version": 3
   },
   "file_extension": ".py",
   "mimetype": "text/x-python",
   "name": "python",
   "nbconvert_exporter": "python",
   "pygments_lexer": "ipython3",
   "version": "3.10.5"
  }
 },
 "nbformat": 4,
 "nbformat_minor": 5
}
