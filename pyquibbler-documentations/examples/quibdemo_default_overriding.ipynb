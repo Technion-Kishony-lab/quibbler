{
 "cells": [
  {
   "cell_type": "markdown",
   "id": "491dbbee",
   "metadata": {},
   "source": [
    "## Overriding default values\n",
    "\n",
    "**A demo of specifying default values and overriding for specific exception cases.**\n",
    "\n",
    "Say we have several \"items\" and we want to apply a function to each item with some \"default factor\". We need a way to choose this factor globally, but we might sometimes need to make an exception and adjust it for specific items (say the items are images and we need to normalize all of them by a certain default factor, while allowing an exception for some of the images). Essentially, we would like to copy the \"default factor\" for each item and allow \"overriding\" of these copies. In *Quibbler*, as shown below, such behavior is achieved quite seamlessly using overriding of function quibs. \n",
    "\n",
    "\n",
    "* **Features**\n",
    "    * Overriding default values\n",
    "    * Override mask\n",
    "    * Graphics-driven assignments\n",
    "    * Inverse assignments\n",
    "    * Assignment template\n",
    "\n",
    "\n",
    "* **Try me**\n",
    "    * Drag the horizontal line to change the overall \"default factor\"\n",
    "    * Drag the \"per-item factor\" markers will make an excpetion, moving a specific point. Right-click a point to cancel the exception and return to the default value."
   ]
  },
  {
   "cell_type": "code",
   "execution_count": 1,
   "id": "5dc0e2e4",
   "metadata": {},
   "outputs": [],
   "source": [
    "from pyquibbler import iquib, initialize_quibbler, q\n",
    "initialize_quibbler()\n",
    "import matplotlib.pyplot as plt\n",
    "from matplotlib.colors import ListedColormap\n",
    "import numpy as np\n",
    "%matplotlib tk"
   ]
  },
  {
   "cell_type": "code",
   "execution_count": 2,
   "id": "f43f4446",
   "metadata": {},
   "outputs": [],
   "source": [
    "# Set number of plates\n",
    "n_plates = iquib(10)"
   ]
  },
  {
   "cell_type": "code",
   "execution_count": 3,
   "id": "958e93b3",
   "metadata": {},
   "outputs": [],
   "source": [
    "# Figure setup\n",
    "plt.figure()\n",
    "plt.axis([-0.5, n_plates - 0.5, 0, 100])\n",
    "plt.ylabel('Per-item factor')\n",
    "plt.xticks(np.arange(n_plates));"
   ]
  },
  {
   "cell_type": "code",
   "execution_count": 4,
   "id": "5380bc4c",
   "metadata": {},
   "outputs": [],
   "source": [
    "# Common properties\n",
    "input_properties = {'assignment_template':(0, 100, 1), \n",
    "                    'allow_overriding':True}"
   ]
  },
  {
   "cell_type": "code",
   "execution_count": 5,
   "id": "32800d23",
   "metadata": {},
   "outputs": [],
   "source": [
    "# Define and plot the default factor\n",
    "default_factor = iquib(70, **input_properties)\n",
    "plt.axhline(default_factor, color='k', \n",
    "         zorder=3, linewidth=2, picker=True);"
   ]
  },
  {
   "cell_type": "code",
   "execution_count": 6,
   "id": "cdf3b2a3",
   "metadata": {},
   "outputs": [],
   "source": [
    "# Define and plot the per-item factor\n",
    "per_item_factor = np.repeat(default_factor, n_plates, 0) \\\n",
    "    .setp(**input_properties, assigned_quibs='self')\n",
    "\n",
    "x = np.arange(n_plates)\n",
    "plt.bar(x, per_item_factor, color=(0.7, 0.7, 0.7))\n",
    "\n",
    "plt.scatter(x, per_item_factor, marker='s', s=150, zorder=2, \n",
    "            cmap=ListedColormap(['grey', 'red']),\n",
    "            vmin=0, vmax=1,\n",
    "            c=per_item_factor.get_override_mask());"
   ]
  }
 ],
 "metadata": {
  "kernelspec": {
   "display_name": "Python 3 (ipykernel)",
   "language": "python",
   "name": "python3"
  },
  "language_info": {
   "codemirror_mode": {
    "name": "ipython",
    "version": 3
   },
   "file_extension": ".py",
   "mimetype": "text/x-python",
   "name": "python",
   "nbconvert_exporter": "python",
   "pygments_lexer": "ipython3",
   "version": "3.11.9"
  }
 },
 "nbformat": 4,
 "nbformat_minor": 5
}
