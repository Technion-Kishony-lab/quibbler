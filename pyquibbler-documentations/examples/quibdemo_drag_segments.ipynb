{
 "cells": [
  {
   "cell_type": "markdown",
   "id": "491dbbee",
   "metadata": {},
   "source": [
    "# Dragging graphics vertically/horizontally\n",
    "**A demo of interactive graphics-driven assignments with vertical/horizontal dragging.**\n",
    "\n",
    "\n",
    "* **Features**\n",
    "    * Graphics-driven assignments\n",
    "    * Horizontal/vertical dragging\n",
    "    * Inverse assignments\n",
    "\n",
    "\n",
    "* **Try me**\n",
    "    * Try dragging the circle - note that it can move freely.\n",
    "    * Try dragging the axis-sliders - note that they can only move horizontally / vertically. "
   ]
  },
  {
   "cell_type": "code",
   "execution_count": 1,
   "id": "5dc0e2e4",
   "metadata": {},
   "outputs": [],
   "source": [
    "from pyquibbler import iquib, initialize_quibbler, q\n",
    "initialize_quibbler()\n",
    "import matplotlib.pyplot as plt\n",
    "import numpy as np\n",
    "%matplotlib tk"
   ]
  },
  {
   "cell_type": "code",
   "execution_count": 2,
   "id": "ada9b182-fe0f-44c6-a1e6-59441d4234d6",
   "metadata": {},
   "outputs": [],
   "source": [
    "# Figure setup and graphic properties\n",
    "plt.figure(figsize=(4, 4))\n",
    "plt.axis('square')\n",
    "plt.axis([-4, 10, -1, 11])\n",
    "\n",
    "# Define x-y coordinates\n",
    "x0 = iquib(0.)\n",
    "x1 = iquib(6.)\n",
    "x2 = iquib(6.)\n",
    "y = 8.\n",
    "\n",
    "# Plot parallelogram\n",
    "plt.plot([x0, x2 - x1 + x0, x2 + x0, x1 + x0, x0], [0, y, y, 0, 0], 'k:D', linewidth=2);\n"
   ]
  },
  {
   "cell_type": "code",
   "execution_count": 4,
   "id": "829a53f7-a8dc-41f6-8505-0d47ab52604c",
   "metadata": {},
   "outputs": [
    {
     "data": {
      "text/plain": [
       "False"
      ]
     },
     "execution_count": 4,
     "metadata": {},
     "output_type": "execute_result"
    }
   ],
   "source": [
    "all([False, True])"
   ]
  },
  {
   "cell_type": "code",
   "execution_count": 4,
   "id": "9923c0ba-d94a-4942-af3e-9706fa238dd4",
   "metadata": {},
   "outputs": [],
   "source": [
    "from typing import Optional, NamedTuple, Any\n",
    "\n",
    "class XY(NamedTuple):\n",
    "    x: Optional[Any]\n",
    "    y: Optional[Any]"
   ]
  },
  {
   "cell_type": "code",
   "execution_count": 5,
   "id": "9453b892-e722-4c5f-b5a7-e7da095f227e",
   "metadata": {},
   "outputs": [],
   "source": [
    "a = XY(2, 3)"
   ]
  },
  {
   "cell_type": "code",
   "execution_count": 6,
   "id": "eae5cc6d-a57c-4edd-b337-d89d3c4cce32",
   "metadata": {},
   "outputs": [
    {
     "data": {
      "text/plain": [
       "XY(x=2, y=3)"
      ]
     },
     "execution_count": 6,
     "metadata": {},
     "output_type": "execute_result"
    }
   ],
   "source": [
    "a"
   ]
  },
  {
   "cell_type": "code",
   "execution_count": 13,
   "id": "8646e54f-127b-4d1d-bfba-4f53eecd4be6",
   "metadata": {},
   "outputs": [
    {
     "data": {
      "text/plain": [
       "3"
      ]
     },
     "execution_count": 13,
     "metadata": {},
     "output_type": "execute_result"
    }
   ],
   "source": [
    "a.y"
   ]
  },
  {
   "cell_type": "code",
   "execution_count": null,
   "id": "7f881c21-bdbe-4ba0-8ae0-0ac3b6814eda",
   "metadata": {},
   "outputs": [],
   "source": []
  }
 ],
 "metadata": {
  "kernelspec": {
   "display_name": "Python 3 (ipykernel)",
   "language": "python",
   "name": "python3"
  },
  "language_info": {
   "codemirror_mode": {
    "name": "ipython",
    "version": 3
   },
   "file_extension": ".py",
   "mimetype": "text/x-python",
   "name": "python",
   "nbconvert_exporter": "python",
   "pygments_lexer": "ipython3",
   "version": "3.10.8"
  }
 },
 "nbformat": 4,
 "nbformat_minor": 5
}
