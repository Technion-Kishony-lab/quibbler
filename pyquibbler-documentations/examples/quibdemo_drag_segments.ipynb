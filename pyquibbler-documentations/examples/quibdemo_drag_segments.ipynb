{
 "cells": [
  {
   "cell_type": "markdown",
   "id": "491dbbee",
   "metadata": {},
   "source": [
    "# Dragging graphics vertically/horizontally\n",
    "**A demo of interactive graphics-driven assignments with vertical/horizontal dragging.**\n",
    "\n",
    "\n",
    "* **Features**\n",
    "    * Graphics-driven assignments\n",
    "    * Horizontal/vertical dragging\n",
    "    * Inverse assignments\n",
    "\n",
    "\n",
    "* **Try me**\n",
    "    * Try dragging the corners\n",
    "    * Try dragging the edges"
   ]
  },
  {
   "cell_type": "code",
   "execution_count": 3,
   "id": "5dc0e2e4",
   "metadata": {},
   "outputs": [],
   "source": [
    "from pyquibbler import iquib, initialize_quibbler, q\n",
    "initialize_quibbler()\n",
    "import matplotlib.pyplot as plt\n",
    "import numpy as np\n",
    "%matplotlib tk"
   ]
  },
  {
   "cell_type": "code",
   "execution_count": 4,
   "id": "ada9b182-fe0f-44c6-a1e6-59441d4234d6",
   "metadata": {},
   "outputs": [],
   "source": [
    "# Figure setup and graphic properties\n",
    "plt.figure(figsize=(4, 4))\n",
    "plt.axis('square')\n",
    "plt.axis([-4, 10, -1, 11])\n",
    "\n",
    "# Define x-y coordinates\n",
    "x0 = iquib(0.)\n",
    "x1 = iquib(6.)\n",
    "x2 = iquib(6.)\n",
    "y = 8.\n",
    "\n",
    "# Plot parallelogram\n",
    "plt.plot([x0, x2 - x1 + x0, x2 + x0, x1 + x0, x0], [0, y, y, 0, 0], 'k:D', linewidth=2);\n"
   ]
  },
  {
   "cell_type": "code",
   "execution_count": null,
   "id": "7f881c21-bdbe-4ba0-8ae0-0ac3b6814eda",
   "metadata": {},
   "outputs": [],
   "source": []
  }
 ],
 "metadata": {
  "kernelspec": {
   "display_name": "Python 3 (ipykernel)",
   "language": "python",
   "name": "python3"
  },
  "language_info": {
   "codemirror_mode": {
    "name": "ipython",
    "version": 3
   },
   "file_extension": ".py",
   "mimetype": "text/x-python",
   "name": "python",
   "nbconvert_exporter": "python",
   "pygments_lexer": "ipython3",
   "version": "3.11.11"
  }
 },
 "nbformat": 4,
 "nbformat_minor": 5
}
