{
 "cells": [
  {
   "cell_type": "markdown",
   "id": "491dbbee",
   "metadata": {},
   "source": [
    "# Dragging graphics vertically/horizontally\n",
    "**A demo of interactive graphics-driven assignments with vertical/horizontal dragging.**\n",
    "\n",
    "\n",
    "* **Features**\n",
    "    * Graphics-driven assignments\n",
    "    * Horizontal/vertical dragging\n",
    "    * Inverse assignments\n",
    "\n",
    "\n",
    "* **Try me**\n",
    "    * Try dragging the circle - note that it can move freely.\n",
    "    * Try dragging the axis-sliders - note that they can only move horizontally / vertically. "
   ]
  },
  {
   "cell_type": "code",
   "execution_count": null,
   "id": "5dc0e2e4",
   "metadata": {},
   "outputs": [],
   "source": [
    "from pyquibbler import iquib, initialize_quibbler, q\n",
    "initialize_quibbler()\n",
    "import matplotlib.pyplot as plt\n",
    "import numpy as np\n",
    "%matplotlib tk"
   ]
  },
  {
   "cell_type": "code",
   "execution_count": 3,
   "id": "9c92769b",
   "metadata": {},
   "outputs": [],
   "source": [
    "# Figure setup and graphic properties\n",
    "plt.figure(figsize=(4, 4))\n",
    "plt.axis([0, 10, 0, 10])\n",
    "marker_props = {'markerfacecolor': 'r', \n",
    "                'markeredgecolor': 'k', 'markersize': 22}\n",
    "\n",
    "# Define x-y coordinates\n",
    "x = iquib(7.)\n",
    "y = iquib(4.)\n",
    "\n",
    "# Lines connecting x-y dot to axes\n",
    "plt.plot([x, x], [0, y], 'k:', linewidth=2)\n",
    "plt.plot([0, x], [y, y], 'k:', linewidth=2)\n",
    "\n",
    "# Freely draggable dot\n",
    "plt.plot(x, y, 'o', **marker_props)\n",
    "\n",
    "# Vertical and horizontal sliders\n",
    "plt.plot(x, 0.2, '^', **marker_props)\n",
    "plt.plot(0.2, y, '>', **marker_props)\n",
    "\n",
    "# Text above dot\n",
    "plt.text(x, y + 0.6, \n",
    "         q(\"({:3.1f}, {:3.1f})\".format, x, y),\n",
    "         ha=\"center\", va=\"bottom\", fontsize=16);"
   ]
  },
  {
   "cell_type": "code",
   "execution_count": null,
   "id": "9923c0ba-d94a-4942-af3e-9706fa238dd4",
   "metadata": {},
   "outputs": [],
   "source": []
  }
 ],
 "metadata": {
  "kernelspec": {
   "display_name": "Python 3 (ipykernel)",
   "language": "python",
   "name": "python3"
  },
  "language_info": {
   "codemirror_mode": {
    "name": "ipython",
    "version": 3
   },
   "file_extension": ".py",
   "mimetype": "text/x-python",
   "name": "python",
   "nbconvert_exporter": "python",
   "pygments_lexer": "ipython3",
   "version": "3.10.6"
  }
 },
 "nbformat": 4,
 "nbformat_minor": 5
}
