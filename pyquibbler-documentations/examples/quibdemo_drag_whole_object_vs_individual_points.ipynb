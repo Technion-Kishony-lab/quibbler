{
 "cells": [
  {
   "cell_type": "markdown",
   "id": "f7d3e4e4",
   "metadata": {},
   "source": [
    "## Dragging whole object versus individual points\n",
    "\n",
    "**Moving a graphics object as a whole, or refining individual data points.**\n",
    "\n",
    "* **Features:**\n",
    "    * Graphics-driven assignments\n",
    "    * Directing inverse assignments of binary operators\n",
    "    * Dragging individual points versus whole object\n",
    "    * Use of `q` syntax for non-quiby functions\n",
    "\n",
    "* **Try me:**\n",
    "    * Try dragging the 'Move me!' star - it will move as a whole.\n",
    "    * Try dragging the 'Change me!' star - it will change individual points.\n"
   ]
  },
  {
   "cell_type": "code",
   "execution_count": null,
   "id": "4512d802",
   "metadata": {
    "scrolled": true
   },
   "outputs": [],
   "source": [
    "from pyquibbler import iquib, initialize_quibbler, q\n",
    "initialize_quibbler()\n",
    "import matplotlib.pyplot as plt\n",
    "import numpy as np\n",
    "from numpy import pi\n",
    "%matplotlib tk"
   ]
  },
  {
   "cell_type": "code",
   "execution_count": null,
   "id": "95eb34af",
   "metadata": {},
   "outputs": [],
   "source": [
    "# Figure setup:\n",
    "fig1 = plt.figure(figsize=(4, 4))\n",
    "ax = fig1.gca()\n",
    "ax.axis('square')\n",
    "ax.axis([0, 12, 0, 12]);"
   ]
  },
  {
   "cell_type": "code",
   "execution_count": null,
   "id": "f38e5409",
   "metadata": {},
   "outputs": [],
   "source": [
    "# Define star coordinates:\n",
    "nPoints = iquib(5)\n",
    "dtet = 2 * pi / (2 * nPoints)\n",
    "tet = np.arange(0.5 * pi, 2.5 * pi, dtet)\n",
    "rR = np.array([1.5, 0.7])\n",
    "rs = np.tile(rR, (nPoints,))\n",
    "xy_star = np.array([np.cos(tet), np.sin(tet)]) * rs;"
   ]
  },
  {
   "cell_type": "code",
   "execution_count": null,
   "id": "0ee4a2d8",
   "metadata": {},
   "outputs": [],
   "source": [
    "# Allow changing the coordinates:\n",
    "xy_star.allow_overriding = True"
   ]
  },
  {
   "cell_type": "code",
   "execution_count": null,
   "id": "a6062ccb",
   "metadata": {},
   "outputs": [],
   "source": [
    "# Close the shapes by connecting the last point to the first point\n",
    "xy_star_circ = np.concatenate([xy_star, xy_star[:, [0]]], axis=1)"
   ]
  },
  {
   "cell_type": "code",
   "execution_count": null,
   "id": "528d3d71-24f8-4039-87ee-55870e33daec",
   "metadata": {},
   "outputs": [],
   "source": [
    "def plot_star(ax, xy, txt, color):\n",
    "    x, y = xy\n",
    "    ax.text(np.mean(x), np.min(y) - 0.2, txt, ha='center', va='top')\n",
    "    ax.plot(x, y, linewidth=2, color=color);"
   ]
  },
  {
   "cell_type": "code",
   "execution_count": null,
   "id": "253702b1",
   "metadata": {},
   "outputs": [],
   "source": [
    "# Define and draw movable star:\n",
    "xy_center_movable = iquib(np.array([[7.], [5.]]))\n",
    "\n",
    "# using x_center_movable as the first argument in the summation \n",
    "# (to which the inverse-assignment is channeled):\n",
    "xy_movable_star = xy_center_movable + xy_star_circ\n",
    "txt = q('Move me!\\n{:.1f},{:.1f}'.format, xy_center_movable[0, 0], xy_center_movable[1, 0])\n",
    "plot_star(ax, xy_movable_star, txt, color='m');"
   ]
  },
  {
   "cell_type": "code",
   "execution_count": null,
   "id": "84f29f03",
   "metadata": {},
   "outputs": [],
   "source": [
    "# Define and draw changeable star:\n",
    "xy_center_fixed = iquib(np.array([[2.], [8.]]))\n",
    "\n",
    "# using x_star_circ as the first argument in the summation\n",
    "xy_changeable_star = xy_star_circ + xy_center_fixed\n",
    "plot_star(ax, xy_changeable_star, 'Change me!', color='c');"
   ]
  }
 ],
 "metadata": {
  "kernelspec": {
   "display_name": "Python 3 (ipykernel)",
   "language": "python",
   "name": "python3"
  },
  "language_info": {
   "codemirror_mode": {
    "name": "ipython",
    "version": 3
   },
   "file_extension": ".py",
   "mimetype": "text/x-python",
   "name": "python",
   "nbconvert_exporter": "python",
   "pygments_lexer": "ipython3",
   "version": "3.11.9"
  },
  "quibs_archive": {}
 },
 "nbformat": 4,
 "nbformat_minor": 5
}
