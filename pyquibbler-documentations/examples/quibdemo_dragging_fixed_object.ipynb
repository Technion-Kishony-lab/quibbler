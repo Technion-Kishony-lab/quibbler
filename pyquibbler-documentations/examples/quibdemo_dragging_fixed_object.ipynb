{
 "cells": [
  {
   "cell_type": "markdown",
   "id": "491dbbee",
   "metadata": {},
   "source": [
    "## Dragging a fixed object to affect another\n",
    "**A demo of interactively \"dragging\" a non-movable object.**\n",
    "\n",
    "* **Features**\n",
    "    * Graphics quibs\n",
    "    * Graphics-driven assignments\n",
    "    * Inverse assignments of binary operators \n",
    "\n",
    "\n",
    "* **Try me**\n",
    "    * Try dragging the fixed diamond. It won't move but will affect the position of the circle.\n"
   ]
  },
  {
   "cell_type": "code",
   "execution_count": 2,
   "id": "4512d802",
   "metadata": {},
   "outputs": [],
   "source": [
    "from pyquibbler import iquib, override_all, q\n",
    "override_all()\n",
    "import matplotlib.pyplot as plt\n",
    "import numpy as np\n",
    "%matplotlib tk"
   ]
  },
  {
   "cell_type": "code",
   "execution_count": 10,
   "id": "567908e3",
   "metadata": {},
   "outputs": [],
   "source": [
    "# define and plot a point at xy coordinates:\n",
    "xy = iquib(np.array([2., 3.]))\n",
    "plt.axis('square')\n",
    "plt.axis([-10, 10, -10, 10])\n",
    "plt.plot(xy[0], xy[1], 'o', markersize=20)\n",
    "plt.text(-9, 9, np.array2string(xy, precision=2))\n",
    "\n",
    "# define and plot a differential function quib, which is by defintion fixed at [0, 0]:\n",
    "dxy = xy - xy\n",
    "plt.plot(dxy[0], dxy[1], 'd', markersize=20, picker=True);"
   ]
  }
 ],
 "metadata": {
  "kernelspec": {
   "display_name": "Python 3 (ipykernel)",
   "language": "python",
   "name": "python3"
  },
  "language_info": {
   "codemirror_mode": {
    "name": "ipython",
    "version": 3
   },
   "file_extension": ".py",
   "mimetype": "text/x-python",
   "name": "python",
   "nbconvert_exporter": "python",
   "pygments_lexer": "ipython3",
   "version": "3.10.4"
  }
 },
 "nbformat": 4,
 "nbformat_minor": 5
}
