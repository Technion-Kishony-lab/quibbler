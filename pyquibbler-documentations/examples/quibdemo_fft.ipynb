{
 "cells": [
  {
   "cell_type": "markdown",
   "id": "491dbbee",
   "metadata": {},
   "source": [
    "## Signal analysis with random noise\n",
    "\n",
    " **A demo of a quib-based GUI for signal analysis.**\n",
    "\n",
    "* **Features**\n",
    "    * Random quibs\n",
    "    * Graphics-driven assignments\n",
    "    * Inverse assignments\n",
    "    * Linking quibs with matplotlib.widgets: Slider, RadioButtons\n",
    "\n",
    "\n",
    "* **Try me**\n",
    "    * Try dragging the triangle markers to specify the band-width.\n",
    "    * Try playing with the sliders, or specifying a different function with the radio buttons."
   ]
  },
  {
   "cell_type": "code",
   "execution_count": 1,
   "id": "4512d802",
   "metadata": {},
   "outputs": [],
   "source": [
    "from pyquibbler import iquib, initialize_quibbler, q, \\\n",
    "    quiby, reset_random_quibs\n",
    "import numpy as np\n",
    "import matplotlib.pyplot as plt\n",
    "import matplotlib.patches as patches\n",
    "from matplotlib import widgets\n",
    "from matplotlib.patches import Rectangle\n",
    "initialize_quibbler()\n",
    "%matplotlib tk"
   ]
  },
  {
   "cell_type": "code",
   "execution_count": 2,
   "id": "8e736763",
   "metadata": {},
   "outputs": [],
   "source": [
    "# Total time (sec):\n",
    "total_time = iquib(100)\n",
    "\n",
    "# Number of time points (limited to even numbers between 0 and 1000):\n",
    "num_time_points = iquib(300).setp(assignment_template=(0, 1000, 2))\n",
    "\n",
    "# Time vector:\n",
    "t = np.linspace(0, total_time,num_time_points)\n",
    "\n",
    "# Period (sec):\n",
    "period = iquib(10)\n",
    "w = 2 * np.pi / period\n",
    "\n",
    "# Type of functions:\n",
    "nSin = iquib(3).setp(assignment_template=(1, 13, 2))\n",
    "signal_fnc_list = ['sin', 'square', 'triangle', 'sin^n']\n",
    "signal_fnc_chosen = iquib(1)\n",
    "\n",
    "# Signal as a function of time:\n",
    "@quiby\n",
    "def get_signal(t, w, chosen, power):\n",
    "    return {0: lambda s, n: s,\n",
    "            1: lambda s, n: (s > 0) * 2 - 1,\n",
    "            2: lambda s, n: np.arcsin(s),\n",
    "            3: lambda s, n: s ** n}[chosen](np.sin(w * t), power)\n",
    "\n",
    "signal = get_signal(t, w, signal_fnc_chosen, nSin)\n",
    "\n",
    "# Add Noise:\n",
    "noise_amp = iquib(0.0)\n",
    "noise = noise_amp * np.random.randn(num_time_points)\n",
    "\n",
    "measurement = signal + noise\n",
    "\n",
    "# Bandwidth:\n",
    "min_freq = iquib(0.0)\n",
    "max_freq = iquib(0.6)\n",
    "\n",
    "# FFT:\n",
    "spectrum = q(np.fft.fft, measurement)\n",
    "dfreqs = 1/total_time  # Frequency resolution\n",
    "freqs = np.concatenate([\n",
    "    np.arange(0, (num_time_points - 1) / 2), \n",
    "    np.arange(num_time_points / 2, 0, -1)]) * dfreqs  # Frequency vector\n",
    "\n",
    "# Apply band filter\n",
    "spectrum_filtered = spectrum * ((freqs>=min_freq) & (freqs<=max_freq))\n",
    "\n",
    "# Inverse FFT:\n",
    "S0 = q(np.fft.ifft, spectrum_filtered);"
   ]
  },
  {
   "cell_type": "code",
   "execution_count": 3,
   "id": "5c581f1a",
   "metadata": {},
   "outputs": [],
   "source": [
    "# figure setup:\n",
    "fig = plt.figure(1, figsize=(6, 8))"
   ]
  },
  {
   "cell_type": "code",
   "execution_count": 4,
   "id": "70563964",
   "metadata": {},
   "outputs": [],
   "source": [
    "# signal vs time \n",
    "ax1 = fig.add_axes((0.15, 0.78, 0.75, 0.2))\n",
    "ax1.set_ylim([np.min(measurement) - 0.5 - noise_amp, \n",
    "               np.max(measurement) + 0.5 + noise_amp])\n",
    "ax1.set_xlim([0, total_time])\n",
    "ax1.set_xlabel('Time (sec)')\n",
    "ax1.set_ylabel('Signal')\n",
    "ax1.plot(t,np.real(measurement), '.-', color=[0.8, 0, 0])\n",
    "ax1.plot(t,np.real(S0), '.-', color=[0, 0.7, 0]);"
   ]
  },
  {
   "cell_type": "code",
   "execution_count": 5,
   "id": "c15946f3",
   "metadata": {},
   "outputs": [],
   "source": [
    "# spectrum\n",
    "ax2 = fig.add_axes((0.15, 0.5, 0.75, 0.2))\n",
    "yl = np.max(np.abs(spectrum)) * 1.1\n",
    "ax2.axis([-dfreqs, np.max(freqs) + dfreqs, 0, yl])\n",
    "ax2.set_xlabel('Frequency (1/sec)')\n",
    "ax2.set_ylabel('Amplitude')\n",
    "ax2.plot(freqs, np.abs(spectrum), 'r.-')\n",
    "width = max_freq - min_freq\n",
    "band = Rectangle((min_freq, 0), width, yl, facecolor=(0.8, 1, 0.8))\n",
    "ax2.add_patch(band)\n",
    "ax2.plot(min_freq, 0, 'k^', markersize=22)\n",
    "ax2.plot(max_freq, 0, 'k^', markersize=22);"
   ]
  },
  {
   "cell_type": "code",
   "execution_count": 6,
   "id": "7f429a11-580a-4985-907c-0eeb722cdfec",
   "metadata": {},
   "outputs": [],
   "source": [
    "# sliders of quibs:\n",
    "slider_axs = [fig.add_axes([0.3, 0.2-i*0.04, 0.5, 0.02]) for i in range(5)]\n",
    "for i, label, valmin, valmax, valstep, valinit in (\n",
    "    (0, 'Number of points', 1, 1000, 2, num_time_points),\n",
    "    (1, 'Period', 0, 20, 1, period),\n",
    "    (2, 'Total time', 0, 200, 5, total_time),\n",
    "    (3, 'Noise amplitude', 0, 2, 0.1, noise_amp),\n",
    "    (4, 'Power of sin', 1, 13, 1, nSin)):\n",
    "    widgets.Slider(ax=slider_axs[i], label=label, valmin=valmin, \n",
    "                   valmax=valmax, valstep=valstep, valinit=valinit)\n",
    "# Make the 'Power of sin' slider visible only when signal_fnc_chosen==3:\n",
    "is_sinN = q(lambda x: x==3, signal_fnc_chosen)\n",
    "a = slider_axs[4].set_visible(is_sinN);"
   ]
  },
  {
   "cell_type": "code",
   "execution_count": 7,
   "id": "8c13b596",
   "metadata": {},
   "outputs": [],
   "source": [
    "# radio buttons to choose function:\n",
    "axs_radio = fig.add_axes([0.3, 0.25, 0.5, 0.14])\n",
    "btns = widgets.RadioButtons(\n",
    "    ax=axs_radio, labels=signal_fnc_list, active=signal_fnc_chosen)"
   ]
  },
  {
   "cell_type": "code",
   "execution_count": 8,
   "id": "f09b7785-c229-4d06-bba1-41435c367117",
   "metadata": {},
   "outputs": [],
   "source": [
    "# Randomization button\n",
    "randomize_button = widgets.Button(\n",
    "    ax=fig.add_axes([0.05, 0.26, 0.2, 0.03], xticks=[], yticks=[]), \n",
    "    label='Randomize')\n",
    "randomize_button.on_clicked(lambda x: reset_random_quibs());"
   ]
  },
  {
   "cell_type": "code",
   "execution_count": null,
   "id": "dde886b3-5ad2-47b7-bb6a-273f6492f29c",
   "metadata": {},
   "outputs": [],
   "source": []
  }
 ],
 "metadata": {
  "kernelspec": {
   "display_name": "Python 3 (ipykernel)",
   "language": "python",
   "name": "python3"
  },
  "language_info": {
   "codemirror_mode": {
    "name": "ipython",
    "version": 3
   },
   "file_extension": ".py",
   "mimetype": "text/x-python",
   "name": "python",
   "nbconvert_exporter": "python",
   "pygments_lexer": "ipython3",
   "version": "3.10.6"
  }
 },
 "nbformat": 4,
 "nbformat_minor": 5
}
