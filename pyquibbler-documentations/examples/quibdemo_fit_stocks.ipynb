{
 "cells": [
  {
   "cell_type": "markdown",
   "id": "63aae7ec",
   "metadata": {},
   "source": [
    "## Polyfit of stock value\n",
    "\n",
    "**A simple demo of an interactive polyfit extrapolation of stock values**\n",
    "\n",
    "* **Features**\n",
    "    * Graphics quibs\n",
    "    * Graphics-driven assignments\n",
    "    * Quib-linked widgets\n",
    "    * Inverse assignments\n",
    "\n",
    "* **Try me**\n",
    "    * Drag the cyan marker to move the fit period. \n",
    "    * Drag the dashed lines to change the width of the fit period.\n",
    "    * Use the slider to change the polynomial degree of the fit. "
   ]
  },
  {
   "cell_type": "code",
   "execution_count": 1,
   "id": "5d7bb894",
   "metadata": {},
   "outputs": [],
   "source": [
    "from pyquibbler import iquib, initialize_quibbler, q\n",
    "initialize_quibbler()\n",
    "\n",
    "import matplotlib.pyplot as plt\n",
    "import numpy as np\n",
    "from matplotlib.widgets import Slider\n",
    "from datetime import datetime\n",
    "%matplotlib tk"
   ]
  },
  {
   "cell_type": "code",
   "execution_count": 2,
   "id": "add349c2",
   "metadata": {},
   "outputs": [],
   "source": [
    "# Load data of Apple stock:\n",
    "t_init = datetime.strptime('2000-01-01', '%Y-%m-%d').timestamp()\n",
    "str2date = lambda x: (datetime.strptime(x.decode(\"utf-8\"), '%Y-%m-%d').timestamp() - t_init)/(365 * 24 * 60 * 60) + 2000\n",
    "filename = iquib('AAPL.csv')\n",
    "d = np.genfromtxt(filename,delimiter=',', names=True, converters = {0: str2date})\n",
    "\n",
    "# Initiate a figure:\n",
    "plt.figure()\n",
    "plt.axis([2017, 2022, 0, 200])\n",
    "\n",
    "# Plot the stock values:\n",
    "t = d['Date']\n",
    "y = d['Open']\n",
    "plt.plot(t, y, 'g', lw=1)\n",
    "\n",
    "# Define fit parameters:\n",
    "t_final = iquib(2020.)\n",
    "dt = iquib(2.)\n",
    "n = iquib(2)\n",
    "\n",
    "# define t_initial, starting with dt so that changes in t_initial affects dt\n",
    "t_initial = -dt + t_final \n",
    "\n",
    "# Define downstream function quibs of the fitted period:\n",
    "fit_range = (t >= t_initial) & (t <= t_final)\n",
    "\n",
    "# Do the fit and plot\n",
    "p = np.polyfit(t[fit_range], y[fit_range], n)\n",
    "plt.plot(t[fit_range], np.polyval(p, t[fit_range]), 'r-')\n",
    "\n",
    "# Plot extrapulation:\n",
    "extrapulate_range = t > t_final\n",
    "plt.plot(t[extrapulate_range], np.polyval(p, t[extrapulate_range]), 'r:')\n",
    "\n",
    "# Plot the fit parameters using picker=True to allow interactive dragging:\n",
    "a11 = np.array([1, 1])\n",
    "plt.plot(t_final * a11, [0, np.polyval(p, t_final)], 'k--', lw=1, picker=True)\n",
    "plt.plot(t_initial * a11, [0, np.polyval(p, t_initial)], 'k--', lw=1, picker=True)\n",
    "\n",
    "# Add the slider for the polynomial degree\n",
    "ax = plt.axes([0.3, 0.8, 0.3, 0.03])\n",
    "Slider(ax=ax, valmin=0, valmax=3, valinit=n, valstep=1, label='degree');"
   ]
  }
 ],
 "metadata": {
  "kernelspec": {
   "display_name": "Python 3 (ipykernel)",
   "language": "python",
   "name": "python3"
  },
  "language_info": {
   "codemirror_mode": {
    "name": "ipython",
    "version": 3
   },
   "file_extension": ".py",
   "mimetype": "text/x-python",
   "name": "python",
   "nbconvert_exporter": "python",
   "pygments_lexer": "ipython3",
   "version": "3.10.4"
  }
 },
 "nbformat": 4,
 "nbformat_minor": 5
}