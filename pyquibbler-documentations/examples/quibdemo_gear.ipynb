{
 "cells": [
  {
   "cell_type": "markdown",
   "id": "9cb1f44f-3faa-440f-9d9f-ea804588c8db",
   "metadata": {},
   "source": [
    "## Sequencial connections\n",
    "\n",
    " **A simple demo of interactive graphics-driven assignments.**\n",
    "\n",
    "* **Features:**\n",
    "    * vectorize function with pass_quibs\n",
    "    * Graphics-driven assignments from vectorized func\n",
    "    * quiby function with pass_quibs (see alternative code below)\n",
    "\n",
    "* **Try me:**\n",
    "    * Rotate any of the gears.\n",
    "    * Drag gear centers to change their radius.\n",
    "    * Add or remove gears using the slider"
   ]
  },
  {
   "cell_type": "code",
   "execution_count": null,
   "id": "280db230-f41e-4125-8461-787053490a4e",
   "metadata": {},
   "outputs": [],
   "source": [
    "from pyquibbler import initialize_quibbler, iquib, quiby\n",
    "initialize_quibbler()\n",
    "%matplotlib tk\n",
    "\n",
    "import matplotlib.pyplot as plt\n",
    "import numpy as np\n",
    "\n",
    "from numpy import pi, sin, cos\n",
    "from matplotlib.widgets import Slider"
   ]
  },
  {
   "cell_type": "code",
   "execution_count": null,
   "id": "275a3c64-0d15-4b2a-9cba-8e8076067a2b",
   "metadata": {},
   "outputs": [],
   "source": [
    "# create the figure\n",
    "plt.figure()\n",
    "ax = plt.gca()\n",
    "ax.axis('equal');"
   ]
  },
  {
   "cell_type": "code",
   "execution_count": null,
   "id": "bef6679e-e248-4f8e-8620-3d7afe1aec7e",
   "metadata": {},
   "outputs": [],
   "source": [
    "def create_wheel(center, n, r, phase, idx, color):\n",
    "    # wheel body\n",
    "    ax.add_patch(plt.Circle((center, 0), r, facecolor='gray', edgecolor='k'))\n",
    "    \n",
    "    # 90 deg lines\n",
    "    a = phase + np.arange(4) * 2 * pi / 4\n",
    "    ax.plot(cos(a[0::2])*r + center, sin(a[0::2])*r, '-k', lw=2)\n",
    "    ax.plot(cos(a[1::2])*r + center, sin(a[1::2])*r, '-k', lw=2)\n",
    "\n",
    "    # teeth\n",
    "    a = phase + (0.5*idx + np.arange(np.abs(n))) * 2 * pi / n\n",
    "    ax.plot(cos(a)*r + center, sin(a)*r, '.', markersize=15, color=color)\n",
    "    \n",
    "    # central axis\n",
    "    ax.plot(center, 0, 'ko', markersize=20)\n",
    "    \n",
    "    ax.axis([-10, 240, -90, 90]);"
   ]
  },
  {
   "cell_type": "code",
   "execution_count": null,
   "id": "1fd332a0-72b5-42bb-949b-f782b83101a6",
   "metadata": {},
   "outputs": [],
   "source": [
    "# Parameters\n",
    "default_num_tooth = 5\n",
    "radius_per_teeth = 2\n",
    "all_colors = list('rgbmcy')\n",
    "n_w = iquib(2)\n",
    "phase0 = iquib(0.)"
   ]
  },
  {
   "cell_type": "code",
   "execution_count": null,
   "id": "75185aa1-d13b-41c6-a0f1-61f70e191d0d",
   "metadata": {},
   "outputs": [],
   "source": [
    "# Create derived quibs\n",
    "teeth_nums = (np.zeros(n_w, dtype=int) + default_num_tooth)\n",
    "teeth_nums.allow_overriding = True\n",
    "teeth_nums = teeth_nums * 2  # make sure teeth_num is even\n",
    "\n",
    "radii = teeth_nums * radius_per_teeth\n",
    "centers = -radii + np.cumsum(2 * radii)\n",
    "transmision = - teeth_nums[:-1] / teeth_nums[1:]\n",
    "\n",
    "colors = iquib(all_colors)[:n_w]\n",
    "indices = np.arange(n_w)\n",
    "\n",
    "phases = phase0 * np.concatenate(([1], np.cumprod(transmision)))"
   ]
  },
  {
   "cell_type": "code",
   "execution_count": null,
   "id": "140a12b1-87cc-4c50-9513-55385f1b0674",
   "metadata": {},
   "outputs": [],
   "source": [
    "# Slider for number of wheels\n",
    "Slider(plt.axes(position=(0.3, 0.13, 0.4, 0.06)), valinit=n_w, valmin=1, valmax=5, label='# wheels');"
   ]
  },
  {
   "cell_type": "code",
   "execution_count": null,
   "id": "5d607eee-c574-4951-9d04-7252e9f930b6",
   "metadata": {},
   "outputs": [],
   "source": [
    "# Implement using vectorize\n",
    "create_wheels = np.vectorize(create_wheel, pass_quibs=True, is_graphics=True)\n",
    "create_wheels(centers, teeth_nums, radii, phases, indices, colors);"
   ]
  },
  {
   "cell_type": "code",
   "execution_count": null,
   "id": "b30ad200-876f-4eea-b289-bc86e2075163",
   "metadata": {},
   "outputs": [],
   "source": [
    "# Implement using quiby (alternative)\n",
    "\n",
    "# @quiby(pass_quibs=True, is_graphics=True)\n",
    "# def create_wheels(centers, teeth_nums, radii, phases, indices, colors):\n",
    "#     n = len(centers.get_value())\n",
    "#     for i in range(n):\n",
    "#         create_wheel(centers[i], teeth_nums[i], radii[i], phases[i], indices[i], colors[i])\n",
    "\n",
    "    \n",
    "# create_wheels(centers, teeth_nums, radii, phases, indices, colors);"
   ]
  }
 ],
 "metadata": {
  "kernelspec": {
   "display_name": "Python 3 (ipykernel)",
   "language": "python",
   "name": "python3"
  },
  "language_info": {
   "codemirror_mode": {
    "name": "ipython",
    "version": 3
   },
   "file_extension": ".py",
   "mimetype": "text/x-python",
   "name": "python",
   "nbconvert_exporter": "python",
   "pygments_lexer": "ipython3",
   "version": "3.11.9"
  }
 },
 "nbformat": 4,
 "nbformat_minor": 5
}
