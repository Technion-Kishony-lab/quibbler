{
 "cells": [
  {
   "cell_type": "markdown",
   "id": "491dbbee",
   "metadata": {},
   "source": [
    "## Interactive image cutting and thresholding \n",
    "\n",
    "**A simple demo of a quib-based GUI.**\n",
    "\n",
    "* **Features**\n",
    "    * Graphics quibs\n",
    "    * Graphics-driven assignments\n",
    "    * Inverse assignments\n",
    "    * Matplotlib widgets with quibs\n",
    "\n",
    "* **Try me**\n",
    "    * Try dragging/resizing the Region of Interest (ROI) in the main image.\n",
    "    * Try dragging/resizing the rectangle around the cut image in the second figure. \n",
    "    * Try moving the thresholds. \n"
   ]
  },
  {
   "cell_type": "code",
   "execution_count": null,
   "id": "66451ae0",
   "metadata": {},
   "outputs": [],
   "source": [
    "from pyquibbler import iquib, initialize_quibbler\n",
    "initialize_quibbler()"
   ]
  },
  {
   "cell_type": "code",
   "execution_count": null,
   "id": "5d7bb894",
   "metadata": {},
   "outputs": [],
   "source": [
    "import matplotlib.pyplot as plt\n",
    "from matplotlib.widgets import RectangleSelector\n",
    "import numpy as np\n",
    "%matplotlib tk"
   ]
  },
  {
   "cell_type": "code",
   "execution_count": null,
   "id": "ed87db7e",
   "metadata": {},
   "outputs": [],
   "source": [
    "# Load an image:\n",
    "filename = iquib('bacteria_in_droplets.tif')\n",
    "img_main = plt.imread(filename);"
   ]
  },
  {
   "cell_type": "code",
   "execution_count": null,
   "id": "f140208b",
   "metadata": {},
   "outputs": [],
   "source": [
    "# Show the image:\n",
    "plt.figure()\n",
    "ax = plt.gca()\n",
    "ax.imshow(img_main);"
   ]
  },
  {
   "cell_type": "code",
   "execution_count": null,
   "id": "563477de",
   "metadata": {},
   "outputs": [],
   "source": [
    "# Define and plot a rectangle Region Of Interest (ROI)\n",
    "ROI = iquib(np.array([250, 400, 300, 450]))\n",
    "rectprops = dict(edgecolor='w', alpha=0.7, fill=False, linewidth=3)\n",
    "RectangleSelector(ax, extents=ROI, rectprops=rectprops);"
   ]
  },
  {
   "cell_type": "code",
   "execution_count": null,
   "id": "9da0f98b",
   "metadata": {},
   "outputs": [],
   "source": [
    "# Cut the ROI from the main image:\n",
    "img_cut = img_main[ROI[2]:ROI[3], ROI[0]:ROI[1], :]\n",
    "\n",
    "# Plot the cut image:\n",
    "fig2 = plt.figure()\n",
    "ax_cut = fig2.add_axes([0.05, 0.55, 0.35, 0.4])\n",
    "ax_cut.imshow(img_cut);"
   ]
  },
  {
   "cell_type": "code",
   "execution_count": null,
   "id": "2da03fc3",
   "metadata": {},
   "outputs": [],
   "source": [
    "# Threshold each of the RGB channels:\n",
    "thresholds_rgb = iquib(np.array([160, 170, 150])) # <-- input: RGB thresholds\n",
    "img_cut01 = img_cut > np.reshape(thresholds_rgb,(1, 1, 3))\n",
    "\n",
    "# Plot the thresholded image:\n",
    "ax_cut01 = fig2.add_axes([0.05, 0.05, 0.35, 0.4])\n",
    "ax_cut01.imshow(img_cut01 * 1.);"
   ]
  },
  {
   "cell_type": "code",
   "execution_count": null,
   "id": "020877ff",
   "metadata": {},
   "outputs": [],
   "source": [
    "# Calculate area above threshold for each color:\n",
    "fraction_above_threshold = np.average(img_cut01, (0, 1))\n",
    "\n",
    "# Plot detected areas:\n",
    "ax_area = fig2.add_axes([0.6, 0.4, 0.3, 0.55])\n",
    "rgb = ['Red', 'Green', 'Blue']\n",
    "ax_area.bar(rgb, fraction_above_threshold * 100, color=list('rgb'))\n",
    "ax_area.axis([-0.5, 2.5, 0, 1.5])\n",
    "ax_area.set_ylabel('Total detected area, %');"
   ]
  },
  {
   "cell_type": "code",
   "execution_count": null,
   "id": "f7c78ce9",
   "metadata": {},
   "outputs": [],
   "source": [
    "# Threshold controls\n",
    "ax_thr = fig2.add_axes([0.6, 0.05, 0.3, 0.2])\n",
    "ax_thr.axis([-0.5, 2.5, 0, 255])\n",
    "ax_thr.xaxis.grid(True)\n",
    "ax_thr.plot(rgb, thresholds_rgb, 'sk', markersize=16, markerfacecolor='k');"
   ]
  },
  {
   "cell_type": "code",
   "execution_count": null,
   "id": "d92451da",
   "metadata": {},
   "outputs": [],
   "source": [
    "# Add a rectangle \"draggable\" ROI around the extracted image:\n",
    "shifted_ROI = ROI - ROI[[0, 0, 2, 2]]\n",
    "shrinked_shifted_ROI = shifted_ROI + [7, -7, +7, -7]\n",
    "RectangleSelector(ax_cut, extents=shrinked_shifted_ROI, rectprops=rectprops);"
   ]
  }
 ],
 "metadata": {
  "kernelspec": {
   "display_name": "Python 3 (ipykernel)",
   "language": "python",
   "name": "python3"
  },
  "language_info": {
   "codemirror_mode": {
    "name": "ipython",
    "version": 3
   },
   "file_extension": ".py",
   "mimetype": "text/x-python",
   "name": "python",
   "nbconvert_exporter": "python",
   "pygments_lexer": "ipython3",
   "version": "3.10.5"
  }
 },
 "nbformat": 4,
 "nbformat_minor": 5
}
