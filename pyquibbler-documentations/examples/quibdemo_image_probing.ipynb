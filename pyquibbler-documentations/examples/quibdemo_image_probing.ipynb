{
 "cells": [
  {
   "cell_type": "markdown",
   "id": "491dbbee",
   "metadata": {},
   "source": [
    "## Simple quib-app for probing image RGB\n",
    "\n",
    "**A simple demo of a quib-based GUI.**\n",
    "\n",
    "* **Features**\n",
    "    * Graphics quibs\n",
    "    * Graphics-driven assignments\n",
    "    * Inverse assignments\n",
    "\n",
    "* **Try me**\n",
    "    * Try dragging the marker and see the RGB values of the image.\n",
    "\n"
   ]
  },
  {
   "cell_type": "code",
   "execution_count": 3,
   "id": "2b71eba5-df27-4253-b9fc-bda69334d725",
   "metadata": {},
   "outputs": [],
   "source": [
    "from pyquibbler import iquib, initialize_quibbler, q\n",
    "initialize_quibbler()\n",
    "import matplotlib.pyplot as plt\n",
    "import numpy as np\n",
    "%matplotlib tk"
   ]
  },
  {
   "cell_type": "code",
   "execution_count": 4,
   "id": "2b23e0d5-9065-43af-8005-285181fe24ba",
   "metadata": {
    "tags": []
   },
   "outputs": [],
   "source": [
    "# Load and plot an image:\n",
    "file = iquib('bacteria_drop.tif')\n",
    "img = plt.imread(file)\n",
    "plt.figure(figsize=(8, 3))\n",
    "plt.subplot(1, 2, 1)\n",
    "plt.imshow(img)\n",
    "\n",
    "# Choose and plot an x-y point:\n",
    "xy = iquib([50, 45])\n",
    "x, y = xy\n",
    "plt.plot(x, y, 'w+', markersize=18)\n",
    "plt.text(5, 10, xy, color='w', fontsize=14)\n",
    "\n",
    "# Plot the RGB at the chosen point:\n",
    "ax = plt.subplot(1, 2, 2)\n",
    "rgb = img[y, x, :]\n",
    "plt.bar(['R', 'G', 'B'], rgb, color=list('rgb'))\n",
    "ax.set_ylim([0, 255]);"
   ]
  },
  {
   "cell_type": "code",
   "execution_count": null,
   "id": "0ca912d4-a49f-4bb3-ae87-45f338870172",
   "metadata": {},
   "outputs": [],
   "source": []
  }
 ],
 "metadata": {
  "kernelspec": {
   "display_name": "Python 3 (ipykernel)",
   "language": "python",
   "name": "python3"
  },
  "language_info": {
   "codemirror_mode": {
    "name": "ipython",
    "version": 3
   },
   "file_extension": ".py",
   "mimetype": "text/x-python",
   "name": "python",
   "nbconvert_exporter": "python",
   "pygments_lexer": "ipython3",
   "version": "3.10.6"
  }
 },
 "nbformat": 4,
 "nbformat_minor": 5
}
