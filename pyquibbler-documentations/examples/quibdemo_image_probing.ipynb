{
 "cells": [
  {
   "cell_type": "markdown",
   "id": "491dbbee",
   "metadata": {},
   "source": [
    "## Simple quib-app for probing image RGB\n",
    "\n",
    "**A simple demo of a quib-based GUI.**\n",
    "\n",
    "* **Features**\n",
    "    * Graphics quibs\n",
    "    * Graphics-driven assignments\n",
    "    * Inverse assignments\n",
    "\n",
    "* **Try me**\n",
    "    * Try dragging the marker and see the RGB values of the image.\n",
    "\n"
   ]
  },
  {
   "cell_type": "code",
   "execution_count": 2,
   "id": "2b71eba5-df27-4253-b9fc-bda69334d725",
   "metadata": {},
   "outputs": [],
   "source": [
    "from pyquibbler import iquib, override_all, q\n",
    "override_all()\n",
    "import matplotlib.pyplot as plt\n",
    "import numpy as np\n",
    "%matplotlib tk"
   ]
  },
  {
   "cell_type": "code",
   "execution_count": 5,
   "id": "d6148074-0793-4bef-899c-a6dfa205b32c",
   "metadata": {},
   "outputs": [],
   "source": [
    "plt.figure(1, figsize=(7, 3));\n",
    "plt.clf()"
   ]
  },
  {
   "cell_type": "code",
   "execution_count": 6,
   "id": "ed87db7e",
   "metadata": {},
   "outputs": [],
   "source": [
    "# Load an image:\n",
    "filename = iquib('bacteria_in_a_droplet.tif')\n",
    "img = plt.imread(filename)\n",
    "\n",
    "# Show the image:\n",
    "plt.subplot(1, 2, 1)\n",
    "plt.imshow(img)\n",
    "\n",
    "# Choose an x-y point:\n",
    "xy = iquib(np.array([50, 45]))\n",
    "plt.plot(xy[0], xy[1], 'w+', markersize=18, picker=True)\n",
    "plt.title('xy = ' + np.array2string(xy));\n",
    "\n",
    "# Plot the image RGB at the chosen point:\n",
    "plt.subplot(1, 2, 2)\n",
    "rgb = img[xy[1], xy[0], :]\n",
    "plt.bar([0, 1, 2], rgb, color=list('rgb'))\n",
    "plt.title('RGB = ' + np.array2string(rgb));"
   ]
  },
  {
   "cell_type": "code",
   "execution_count": null,
   "id": "fe8ef04b-f6c0-452c-8a80-afd1ca3617f9",
   "metadata": {},
   "outputs": [],
   "source": []
  }
 ],
 "metadata": {
  "kernelspec": {
   "display_name": "Python 3 (ipykernel)",
   "language": "python",
   "name": "python3"
  },
  "language_info": {
   "codemirror_mode": {
    "name": "ipython",
    "version": 3
   },
   "file_extension": ".py",
   "mimetype": "text/x-python",
   "name": "python",
   "nbconvert_exporter": "python",
   "pygments_lexer": "ipython3",
   "version": "3.10.4"
  }
 },
 "nbformat": 4,
 "nbformat_minor": 5
}