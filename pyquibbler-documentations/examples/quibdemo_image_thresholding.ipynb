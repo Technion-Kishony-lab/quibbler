{
 "cells": [
  {
   "cell_type": "markdown",
   "id": "491dbbee",
   "metadata": {},
   "source": [
    "## Simple quib-app for image thresholding\n",
    "\n",
    "**A simple demo of a quib-based GUI for thresholding an image.**\n",
    "\n",
    "* **Features**\n",
    "    * Graphics quibs\n",
    "    * Graphics-driven assignments\n",
    "    * Inverse assignments\n",
    "\n",
    "* **Try me**\n",
    "    * Try dragging the RGB threshold values.\n"
   ]
  },
  {
   "cell_type": "code",
   "execution_count": 142,
   "id": "66451ae0",
   "metadata": {},
   "outputs": [],
   "source": [
    "from pyquibbler import iquib, initialize_quibbler\n",
    "initialize_quibbler()"
   ]
  },
  {
   "cell_type": "code",
   "execution_count": 143,
   "id": "5d7bb894",
   "metadata": {},
   "outputs": [],
   "source": [
    "import matplotlib.pyplot as plt\n",
    "import numpy as np\n",
    "%matplotlib tk"
   ]
  },
  {
   "cell_type": "code",
   "execution_count": 144,
   "id": "e8c78acc-28a3-4091-a531-80967e6b42fe",
   "metadata": {},
   "outputs": [],
   "source": [
    "# Load an image:\n",
    "filename = iquib('bacteria_drop.tif') \n",
    "img = plt.imread(filename)\n",
    "\n",
    "# Show the image:\n",
    "plt.figure()\n",
    "ax = plt.subplot(2, 2, 1)\n",
    "ax.imshow(img);"
   ]
  },
  {
   "cell_type": "code",
   "execution_count": 145,
   "id": "2cbfdac6-190f-4a41-9108-34bde94d70cd",
   "metadata": {},
   "outputs": [],
   "source": [
    "# Threshold each of the RGB channels:\n",
    "thresholds_rgb = iquib([170, 170, 170])"
   ]
  },
  {
   "cell_type": "code",
   "execution_count": 146,
   "id": "40a0396a-55da-4f45-87f9-933db1277766",
   "metadata": {},
   "outputs": [],
   "source": [
    "# Plot the thresholds\n",
    "ax = plt.subplot(2, 2, 4)\n",
    "ax.axis([-0.5, 2.5, 0, 255])\n",
    "ax.xaxis.grid(True)\n",
    "rgb = list('RGB')\n",
    "ax.plot(rgb, thresholds_rgb, 'sk', \n",
    "        markersize=16, markerfacecolor='k');\n",
    "ax.set_ylabel('thresholds');"
   ]
  },
  {
   "cell_type": "code",
   "execution_count": 147,
   "id": "b3ef04ec-bb8f-4122-b15f-e31501e4b97a",
   "metadata": {},
   "outputs": [],
   "source": [
    "# Calculate and plot the thresholded image:\n",
    "img01 = img > np.expand_dims(thresholds_rgb, axis=(0, 1))\n",
    "plt.subplot(2, 2, 3)\n",
    "plt.imshow(img01 * 1.);"
   ]
  },
  {
   "cell_type": "code",
   "execution_count": 148,
   "id": "483f0292-f726-4c8f-b405-423909812a93",
   "metadata": {},
   "outputs": [],
   "source": [
    "# Calculate area above threshold for each color:\n",
    "fraction_above_threshold = np.average(img01, (0, 1)) \n",
    "\n",
    "# Plot detected areas:\n",
    "ax = plt.subplot(2, 2, 2)\n",
    "ax.bar(rgb, fraction_above_threshold * 100, color=list('rgb'))\n",
    "ax.axis([-0.5, 2.5, 0, 1.5])\n",
    "ax.set_ylabel('area above threshold');"
   ]
  },
  {
   "cell_type": "code",
   "execution_count": 149,
   "id": "5364c885",
   "metadata": {},
   "outputs": [],
   "source": [
    "# Show thresholds on log scale:\n",
    "log_thresholds_rgb = np.log2(thresholds_rgb)\n",
    "\n",
    "fg = plt.figure(figsize=(4, 3))\n",
    "ax = fg.gca()\n",
    "ax.plot(rgb, log_thresholds_rgb, 'sk', markersize=16, markerfacecolor='k')\n",
    "ax.axis([-0.5, 2.5, 0, 8])\n",
    "ax.xaxis.grid(True)"
   ]
  }
 ],
 "metadata": {
  "kernelspec": {
   "display_name": "Python 3 (ipykernel)",
   "language": "python",
   "name": "python3"
  },
  "language_info": {
   "codemirror_mode": {
    "name": "ipython",
    "version": 3
   },
   "file_extension": ".py",
   "mimetype": "text/x-python",
   "name": "python",
   "nbconvert_exporter": "python",
   "pygments_lexer": "ipython3",
   "version": "3.10.5"
  },
  "quibs_archive": "UEsDBBQAAAAIAMhO+VRoxi4oFwAAABoAAAASAAAAdGhyZXNob2xkc19yZ2IudHh0KyzNTIo2iFWwVTA0MOAqBPGMQDxLAwBQSwECFAMUAAAACADITvlUaMYuKBcAAAAaAAAAEgAAAAAAAAAAAAAApIEAAAAAdGhyZXNob2xkc19yZ2IudHh0UEsFBgAAAAABAAEAQAAAAEcAAAAAAA=="
 },
 "nbformat": 4,
 "nbformat_minor": 5
}
