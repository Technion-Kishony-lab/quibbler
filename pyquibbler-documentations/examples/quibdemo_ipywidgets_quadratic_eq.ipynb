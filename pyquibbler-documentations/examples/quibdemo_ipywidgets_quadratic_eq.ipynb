{
 "cells": [
  {
   "cell_type": "markdown",
   "id": "f7d3e4e4",
   "metadata": {},
   "source": [
    "## Quadratic equations with ipywidgets\n",
    "\n",
    " **A simple demo of an interactive app for solving a quadratic equation, implemented with quiby ipywidgets.**\n",
    "\n",
    "* **Features:**\n",
    "    * Quiby ipywidgets \n",
    "    * Graphics quibs\n",
    "    * Inverse assignments\n",
    "\n",
    "* **Try me:**\n",
    "    * Try setting the a, b, c coefficients of the quadratic equation.\n"
   ]
  },
  {
   "cell_type": "code",
   "execution_count": 1,
   "id": "4f564ebe-7de1-4288-b4df-438f45a9699f",
   "metadata": {},
   "outputs": [],
   "source": [
    "from pyquibbler import iquib, initialize_quibbler, q\n",
    "initialize_quibbler()\n",
    "\n",
    "import matplotlib.pyplot as plt\n",
    "import numpy as np\n",
    "import ipywidgets as ipyw\n",
    "import warnings"
   ]
  },
  {
   "cell_type": "code",
   "execution_count": 2,
   "id": "170cf1e6-654c-4c42-bd3e-bd6dbc5caf9e",
   "metadata": {},
   "outputs": [],
   "source": [
    "# Note: running in widget mode requires installing pip install ipympl\n",
    "%matplotlib widget"
   ]
  },
  {
   "cell_type": "code",
   "execution_count": 3,
   "id": "4aaf3217-7626-4f0a-b6cb-0a8f66d6fd47",
   "metadata": {},
   "outputs": [
    {
     "data": {
      "application/vnd.jupyter.widget-view+json": {
       "model_id": "5dc794170e0b4169bf711f2d237f8a63",
       "version_major": 2,
       "version_minor": 0
      },
      "text/plain": [
       "VBox(children=(FloatSlider(value=2.0, description='a', max=10.0, min=-10.0), FloatSlider(value=1.0, descriptio…"
      ]
     },
     "execution_count": 3,
     "metadata": {},
     "output_type": "execute_result"
    }
   ],
   "source": [
    "# define parameters:\n",
    "a = iquib(2.)\n",
    "b = iquib(1.)\n",
    "c = iquib(-5.)\n",
    "\n",
    "# define solutions for the quadratic equation:\n",
    "solution1 = (-b + np.sqrt(b**2 - 4*a*c)) / (2*a)\n",
    "solution2 = (-b - np.sqrt(b**2 - 4*a*c)) / (2*a)\n",
    "\n",
    "# define the quadratic curve:\n",
    "x = np.linspace(-10, 10, 100)\n",
    "y = a * x**2 + b*x + c\n",
    "\n",
    "# capture figure into an Output ipywidget:\n",
    "output = ipyw.Output()\n",
    "with output, warnings.catch_warnings():\n",
    "    # avoid warning on negative sqrt:\n",
    "    warnings.simplefilter(\"ignore\")\n",
    "    \n",
    "    # prepare figure\n",
    "    fig = plt.figure(figsize=(3, 2))\n",
    "    fig.canvas.header_visible = False\n",
    "    fig.canvas.resizable = False\n",
    "    ax = plt.gca()\n",
    "    ax.axis([-10, 10, -10, 10])\n",
    "    ax.grid()\n",
    "    \n",
    "    # plot the quadratic line and the solutions:\n",
    "    ax.plot(x, y, 'blue', linewidth=1)\n",
    "    ax.plot([solution1, solution2], [0, 0], 'ro')\n",
    "    \n",
    "    plt.show()\n",
    "\n",
    "# Show the quibs, the solutiions and the graph as ipywidgets:\n",
    "ipyw.VBox([\n",
    "    ipyw.FloatSlider(a, description='a', min=-10, max=10),\n",
    "    ipyw.FloatSlider(b, description='b', min=-10, max=10),\n",
    "    ipyw.FloatSlider(c, description='c', min=-10, max=10),\n",
    "    ipyw.Label(q('Solution 1: {:6.3f}'.format, solution1)),\n",
    "    ipyw.Label(q('Solution 2: {:6.3f}'.format, solution2)),\n",
    "    output\n",
    "])"
   ]
  }
 ],
 "metadata": {
  "kernelspec": {
   "display_name": "Python 3 (ipykernel)",
   "language": "python",
   "name": "python3"
  },
  "language_info": {
   "codemirror_mode": {
    "name": "ipython",
    "version": 3
   },
   "file_extension": ".py",
   "mimetype": "text/x-python",
   "name": "python",
   "nbconvert_exporter": "python",
   "pygments_lexer": "ipython3",
   "version": "3.10.8"
  }
 },
 "nbformat": 4,
 "nbformat_minor": 5
}
