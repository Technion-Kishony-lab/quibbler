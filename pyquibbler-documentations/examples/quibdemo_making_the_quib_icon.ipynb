{
 "cells": [
  {
   "cell_type": "markdown",
   "id": "4b7f9f36",
   "metadata": {},
   "source": [
    "## Making the quib icon\n",
    "**A demo of interactive design of the quib icon.**\n",
    "\n",
    "* **Features**\n",
    "    * Graphics-driven assignments\n",
    "    * Inverse assignments\n",
    "    * User-functions\n",
    "\n",
    "\n",
    "* **Try me**\n",
    "    * Drag the marker handles to change the 'quib' icon.\n",
    "    * Play with the sliders to choose line-width.\n",
    "    * Use the check-box to turn markers invisible. "
   ]
  },
  {
   "cell_type": "code",
   "execution_count": 1,
   "id": "af2b1b99-f283-47f3-bb8d-35386dcae33f",
   "metadata": {},
   "outputs": [],
   "source": [
    "from pyquibbler import iquib, initialize_quibbler, quiby\n",
    "initialize_quibbler()\n",
    "import numpy as np\n",
    "import matplotlib.pyplot as plt\n",
    "import matplotlib.widgets as widgets\n",
    "%matplotlib tk"
   ]
  },
  {
   "cell_type": "code",
   "execution_count": 3,
   "id": "fe711416-cb6e-4c1e-8e87-84ac8b97fad6",
   "metadata": {},
   "outputs": [],
   "source": [
    "@quiby\n",
    "def get_icon(par):\n",
    "    \"\"\"Returns the quib icon line path\"\"\"\n",
    "    \n",
    "    def arc(tet1, tet2, x0, y0, dx, dy):\n",
    "        tet = np.linspace(tet1, tet2, 50) * 2 * np.pi / 360;\n",
    "        return np.vstack([\n",
    "            x0 + np.cos(tet) * dx,\n",
    "            y0 + np.sin(tet) * dy\n",
    "            ])\n",
    "    \n",
    "    def add_segment(added_xy):\n",
    "        nonlocal xy\n",
    "        xy = np.hstack([xy, [[np.NaN], [np.NaN]], added_xy]);\n",
    "\n",
    "    xy = np.zeros((2,1))\n",
    "    \n",
    "    # make the curve of the 'q'\n",
    "    add_segment(arc(90 - par['qbExtend'], 270 - par['qbExtend'], \n",
    "                    -par['Width'], 0, par['qbCurve'], 1))\n",
    "\n",
    "    # make the line of the 'q'\n",
    "    add_segment(np.vstack([\n",
    "        -np.array([[1, 1]]) * par['Width'], \n",
    "         np.array([par['qbLineDown'], par['qbLineUp']])]))\n",
    "\n",
    "    # make the 'u'\n",
    "    add_segment(arc(par['uiAngle1'], 360 + par['uiAngle2'], \n",
    "                    -par['uiWidth'] - par['uiShift'], 1, par['uiWidth'], 2))\n",
    "\n",
    "    # reflect\n",
    "    add_segment(-xy)\n",
    "    \n",
    "    return xy"
   ]
  },
  {
   "cell_type": "code",
   "execution_count": 4,
   "id": "bf5d4fc9",
   "metadata": {},
   "outputs": [],
   "source": [
    "# Define the parameters of the icon\n",
    "\n",
    "is_handles_visible = iquib(True) \n",
    "\n",
    "icon_props = iquib({\n",
    "    'LineWidth':   15,\n",
    "    'PointWidth':  1.2,\n",
    "    'Width':       2.9,\n",
    "    'qbCurve':     1.5,\n",
    "    'qbLineDown': -3.3,\n",
    "    'qbLineUp':    0.9,\n",
    "    'qbExtend':    0.,\n",
    "    'uiAngle1':    177,\n",
    "    'uiAngle2':    -49,\n",
    "    'uiWidth':     1.,\n",
    "    'uiShift':     0.1,\n",
    "})\n",
    "\n",
    "point_position = iquib(np.array([0., 1.]))\n",
    "color = iquib(np.array([79, 113, 191]) / 255);"
   ]
  },
  {
   "cell_type": "code",
   "execution_count": 5,
   "id": "4a8994ae",
   "metadata": {},
   "outputs": [],
   "source": [
    "# Set the figure\n",
    "fig = plt.figure(figsize=(5, 7))\n",
    "axs = fig.add_axes([0.1, 0.4, 0.8, 0.55])\n",
    "axs.axis('equal')\n",
    "axs.axis([-6, 6, -6, 6]);"
   ]
  },
  {
   "cell_type": "code",
   "execution_count": 6,
   "id": "48eb97a3",
   "metadata": {},
   "outputs": [],
   "source": [
    "# Plot the icon\n",
    "xy = get_icon(icon_props)\n",
    "axs.plot(xy[0], xy[1], linewidth=icon_props['LineWidth'], color=color);"
   ]
  },
  {
   "cell_type": "code",
   "execution_count": 7,
   "id": "df878d6c",
   "metadata": {},
   "outputs": [],
   "source": [
    "# add the dot abobe the 'i'\n",
    "axs.plot(point_position[0] + icon_props['uiWidth'] + icon_props['uiShift'], \n",
    "         point_position[1] + 1, \n",
    "         marker='o', markersize=icon_props['LineWidth']*icon_props['PointWidth'], picker=True);"
   ]
  },
  {
   "cell_type": "code",
   "execution_count": 8,
   "id": "4e33a6b9",
   "metadata": {},
   "outputs": [],
   "source": [
    "# Plot the handle-markers\n",
    "options = {'markersize':icon_props['LineWidth'], 'picker':True, 'visible':is_handles_visible}\n",
    "\n",
    "axs.plot(icon_props['Width'], 0, 'dk', **options)\n",
    "axs.plot(icon_props['qbCurve'] + icon_props['Width'], 0, 'dk', **options)\n",
    "axs.plot(icon_props['Width'], -icon_props['qbLineDown'], '^k', **options)\n",
    "axs.plot(icon_props['uiWidth'] + icon_props['uiShift'], 1, 'dk', **options)\n",
    "axs.plot(icon_props['uiShift'] + 2 * icon_props['uiWidth'], -1, 'dk', **options)\n",
    "\n",
    "tet2 = icon_props['uiAngle2'] * (2*np.pi/360)\n",
    "axs.plot(-np.cos(tet2) * icon_props['uiWidth'] + icon_props['uiWidth'] + icon_props['uiShift'],\n",
    "         -np.sin(tet2) * 2 - 1, 'ok', **options);"
   ]
  },
  {
   "cell_type": "code",
   "execution_count": 9,
   "id": "a1670046",
   "metadata": {},
   "outputs": [],
   "source": [
    "# Make the Sliders widgets\n",
    "axs = fig.add_axes([0.2, 0.3, 0.6, 0.02])\n",
    "widgets.Slider(ax=axs, valmin=1, valmax=40, \n",
    "               label='line width', valinit=icon_props['LineWidth']);\n",
    "\n",
    "axs = fig.add_axes([0.2, 0.25, 0.6, 0.02])\n",
    "widgets.Slider(ax=axs, valmin=0, valmax=2, \n",
    "               label='point size', valinit=icon_props['PointWidth']);"
   ]
  },
  {
   "cell_type": "code",
   "execution_count": 10,
   "id": "240d682f",
   "metadata": {},
   "outputs": [],
   "source": [
    "# Make the CheckButtons widget\n",
    "axs = fig.add_axes([0.2, 0.02, 0.4, 0.16])\n",
    "axs.axis('off')\n",
    "w = widgets.CheckButtons(ax=axs, labels=['Show handles'], actives=[is_handles_visible]);"
   ]
  },
  {
   "cell_type": "code",
   "execution_count": null,
   "id": "4d559d2d-69c8-40f5-8b5b-e4665a5b536f",
   "metadata": {},
   "outputs": [],
   "source": []
  }
 ],
 "metadata": {
  "kernelspec": {
   "display_name": "Python 3 (ipykernel)",
   "language": "python",
   "name": "python3"
  },
  "language_info": {
   "codemirror_mode": {
    "name": "ipython",
    "version": 3
   },
   "file_extension": ".py",
   "mimetype": "text/x-python",
   "name": "python",
   "nbconvert_exporter": "python",
   "pygments_lexer": "ipython3",
   "version": "3.10.5"
  }
 },
 "nbformat": 4,
 "nbformat_minor": 5
}
