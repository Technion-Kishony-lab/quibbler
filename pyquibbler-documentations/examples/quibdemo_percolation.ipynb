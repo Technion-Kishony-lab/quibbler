{
 "cells": [
  {
   "cell_type": "markdown",
   "id": "e4718fd8-6cf9-4af6-80e1-242e343490e7",
   "metadata": {},
   "source": [
    "## Random simulations of lattice percolation \n",
    "\n",
    "**A simple demo of a quib-based GUI for lattice percolation.**\n",
    "\n",
    "* **Features**\n",
    "    * Graphics quibs\n",
    "    * Graphics-driven assignments\n",
    "    * Inverse assignments\n",
    "\n",
    "* **Try me**\n",
    "    * Try adjusting the lattice density. Note the size of the largest cluster (in gray). \n"
   ]
  },
  {
   "cell_type": "code",
   "execution_count": 7,
   "id": "0d2858d8-95d4-4ba4-9a42-e562a9504b34",
   "metadata": {},
   "outputs": [],
   "source": [
    "from pyquibbler import iquib, initialize_quibbler, quiby, reset_random_quibs\n",
    "initialize_quibbler()\n",
    "\n",
    "import matplotlib.pyplot as plt\n",
    "import numpy as np\n",
    "from matplotlib.widgets import Slider, Button\n",
    "from matplotlib.cm import get_cmap\n",
    "from matplotlib.colors import ListedColormap\n",
    "from scipy.ndimage import label\n",
    "%matplotlib tk"
   ]
  },
  {
   "cell_type": "code",
   "execution_count": 8,
   "id": "8464fd73-22f3-45e5-869a-771d72287d49",
   "metadata": {},
   "outputs": [],
   "source": [
    "@quiby\n",
    "def get_connected_components(img):\n",
    "    clusters, num_clusters = label(img)\n",
    "    cluster_sizes, _ = np.histogram(clusters, np.arange(1, num_clusters + 2))\n",
    "    largest_cluster = np.argmax(cluster_sizes) + 1\n",
    "    cmp = get_cmap('rainbow', num_clusters + 1)\n",
    "    cmp = cmp(np.arange(num_clusters + 1))\n",
    "    cmp[0, :3] = 0\n",
    "    cmp[largest_cluster, :3] = 0.7\n",
    "    return clusters, ListedColormap(cmp)"
   ]
  },
  {
   "cell_type": "code",
   "execution_count": 9,
   "id": "969de7ec-8c10-49eb-8d58-2e7481a9bdbd",
   "metadata": {},
   "outputs": [],
   "source": [
    "# Set quibs\n",
    "density = iquib(0.6)\n",
    "size = iquib(200)\n",
    "lattice = np.random.rand(size, size) < density\n",
    "clusters, cmp = get_connected_components(lattice)\n",
    "\n",
    "fig = plt.figure(figsize=(8, 8))\n",
    "plt.imshow(clusters, cmap=cmp)\n",
    "plt.axis('off');"
   ]
  },
  {
   "cell_type": "code",
   "execution_count": 10,
   "id": "00575c29-563c-43b1-ae94-e9a6ab190eed",
   "metadata": {},
   "outputs": [],
   "source": [
    "# Slider for the density value\n",
    "ax = fig.add_axes([0.3, 0.06, 0.4, 0.02])\n",
    "Slider(ax, label='density = ', valmin=0, valmax=1, valinit=density);"
   ]
  },
  {
   "cell_type": "code",
   "execution_count": 11,
   "id": "4b549528-a4f3-4b6d-b5a8-df57025a5ae2",
   "metadata": {},
   "outputs": [],
   "source": [
    "# Randomization button\n",
    "ax = fig.add_axes([0.75, 0.02, 0.2, 0.03])\n",
    "randomize_button = Button(ax, label='Randomize')\n",
    "randomize_button.on_clicked(lambda x: reset_random_quibs());"
   ]
  }
 ],
 "metadata": {
  "kernelspec": {
   "display_name": "Python 3 (ipykernel)",
   "language": "python",
   "name": "python3"
  },
  "language_info": {
   "codemirror_mode": {
    "name": "ipython",
    "version": 3
   },
   "file_extension": ".py",
   "mimetype": "text/x-python",
   "name": "python",
   "nbconvert_exporter": "python",
   "pygments_lexer": "ipython3",
   "version": "3.10.5"
  }
 },
 "nbformat": 4,
 "nbformat_minor": 5
}
