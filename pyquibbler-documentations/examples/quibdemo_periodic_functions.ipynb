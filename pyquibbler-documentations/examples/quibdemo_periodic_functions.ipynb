{
 "cells": [
  {
   "cell_type": "markdown",
   "id": "491dbbee",
   "metadata": {},
   "source": [
    "## Dragging graphics of periodic functions\n",
    "**A demo of interactively adjusting the hands of an analog clock.**\n",
    "\n",
    "* **Features**\n",
    "    * Graphics quibs\n",
    "    * Graphics-driven assignments\n",
    "    * Dragging with functional constrains\n",
    "    * Inverse-assignment of periodic functions\n",
    "\n",
    "\n",
    "* **Try me**\n",
    "    * Try dragging the minute hand or the hour hand of the clock."
   ]
  },
  {
   "cell_type": "code",
   "execution_count": 2,
   "id": "4512d802",
   "metadata": {},
   "outputs": [],
   "source": [
    "from pyquibbler import iquib, initialize_quibbler, q\n",
    "initialize_quibbler()\n",
    "import matplotlib.pyplot as plt\n",
    "import numpy as np\n",
    "%matplotlib tk"
   ]
  },
  {
   "cell_type": "code",
   "execution_count": 4,
   "id": "567908e3",
   "metadata": {},
   "outputs": [],
   "source": [
    "# Set figure\n",
    "plt.figure()\n",
    "plt.clf()\n",
    "plt.axis('square')\n",
    "plt.axis([-1.2, 1.2, -1.2, 1.2])\n",
    "plt.setp(plt.gca(), xticks=[], yticks=[])\n",
    "plt.rc('axes', titlesize=30)\n",
    "\n",
    "# Plot the hour dots\n",
    "a = np.arange(12) / 12 * 2 * np.pi\n",
    "plt.plot(np.cos(a), np.sin(a), 'co')\n",
    "\n",
    "# Plot the hands\n",
    "def plot_hand(rot, r, **kwargs):\n",
    "    phi = (-rot + 0.25) * 2 * np.pi\n",
    "    plt.plot([0, np.cos(phi) * r], [0, np.sin(phi) * r], **kwargs)\n",
    "\n",
    "t = iquib(3.)  # time in hours\n",
    "plot_hand(t / 12, r=0.7, color='k', linewidth=5)\n",
    "plot_hand(t, r=0.9, color='k', linewidth=2)\n",
    "plt.title(q('{:02.0f}:{:02.0f}'.format, t // 1, 60 * (t - t // 1)));"
   ]
  },
  {
   "cell_type": "code",
   "execution_count": null,
   "id": "dd446179-8abc-4195-91d2-f9f86fd1473c",
   "metadata": {},
   "outputs": [],
   "source": []
  }
 ],
 "metadata": {
  "kernelspec": {
   "display_name": "Python 3 (ipykernel)",
   "language": "python",
   "name": "python3"
  },
  "language_info": {
   "codemirror_mode": {
    "name": "ipython",
    "version": 3
   },
   "file_extension": ".py",
   "mimetype": "text/x-python",
   "name": "python",
   "nbconvert_exporter": "python",
   "pygments_lexer": "ipython3",
   "version": "3.10.8"
  }
 },
 "nbformat": 4,
 "nbformat_minor": 5
}
