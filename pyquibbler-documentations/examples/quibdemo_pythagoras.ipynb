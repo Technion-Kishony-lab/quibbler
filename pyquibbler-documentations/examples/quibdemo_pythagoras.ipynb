{
 "cells": [
  {
   "cell_type": "markdown",
   "id": "e4718fd8-6cf9-4af6-80e1-242e343490e7",
   "metadata": {},
   "source": [
    "## Interactive Pythagoras theorem\n",
    "\n",
    "**A simple demo of a an interactive triangle with the Pythagorean squares.**\n",
    "\n",
    "* **Features**\n",
    "    * Graphics-driven assignments\n",
    "    * Inverse assignment\n",
    "    * Binary operators\n",
    "\n",
    "* **Try me**\n",
    "    * Try adjusting the legs of the triangle or any of the vertices of the squares."
   ]
  },
  {
   "cell_type": "code",
   "execution_count": 1,
   "id": "0d2858d8-95d4-4ba4-9a42-e562a9504b34",
   "metadata": {},
   "outputs": [],
   "source": [
    "from pyquibbler import iquib, initialize_quibbler, quiby, reset_random_quibs\n",
    "initialize_quibbler()\n",
    "\n",
    "import matplotlib.pyplot as plt\n",
    "import numpy as np\n",
    "%matplotlib osx"
   ]
  },
  {
   "cell_type": "code",
   "execution_count": 2,
   "id": "8464fd73-22f3-45e5-869a-771d72287d49",
   "metadata": {},
   "outputs": [],
   "source": [
    "# Prepare figure\n",
    "plt.figure(0, figsize=(7, 7))\n",
    "plt.clf()\n",
    "plt.axis([-6, 10, -6, 10])\n",
    "plt.axis('square')\n",
    "plt.xticks(np.arange(-6, 12, 2))\n",
    "plt.yticks(np.arange(-6, 12, 2))\n",
    "plt.axvline(0, linewidth=0.5, color='k')\n",
    "plt.axhline(0, linewidth=0.5, color='k');"
   ]
  },
  {
   "cell_type": "code",
   "execution_count": 3,
   "id": "969de7ec-8c10-49eb-8d58-2e7481a9bdbd",
   "metadata": {},
   "outputs": [],
   "source": [
    "# Define triangle legs:\n",
    "ab = iquib([3., 4.])\n",
    "a, b = ab\n",
    "\n",
    "# Draw triangle:\n",
    "plt.plot([0, a, 0, 0], [0, 0, b, 0], color='black')\n",
    "\n",
    "# Draw squares:\n",
    "plt.plot([0, 0, a, a], [0, -a, -a, 0], color='red')\n",
    "plt.plot([0, -b, -b, 0], [0, 0, b, b], color='green')\n",
    "plt.plot([0, b, b+a, a], [b, a+b, a, 0], color='blue')\n",
    "\n",
    "# Add area text:\n",
    "props = dict(ha='center', va='center', fontsize=16)\n",
    "plt.text(a/2, -a/2, round(a**2, 1), **props)\n",
    "plt.text(-b/2, b/2, round(b**2, 1), **props)\n",
    "plt.text((a+b)/2, (a+b)/2, round(a**2 + b**2, 1), **props);"
   ]
  },
  {
   "cell_type": "code",
   "execution_count": null,
   "id": "d2601875-396b-4d31-a39d-f35a743526da",
   "metadata": {},
   "outputs": [],
   "source": []
  }
 ],
 "metadata": {
  "kernelspec": {
   "display_name": "Python 3 (ipykernel)",
   "language": "python",
   "name": "python3"
  },
  "language_info": {
   "codemirror_mode": {
    "name": "ipython",
    "version": 3
   },
   "file_extension": ".py",
   "mimetype": "text/x-python",
   "name": "python",
   "nbconvert_exporter": "python",
   "pygments_lexer": "ipython3",
   "version": "3.10.8"
  }
 },
 "nbformat": 4,
 "nbformat_minor": 5
}
