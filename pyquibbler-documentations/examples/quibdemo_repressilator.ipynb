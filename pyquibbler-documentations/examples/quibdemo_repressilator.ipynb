{
 "cells": [
  {
   "cell_type": "markdown",
   "id": "68ae67f9-27d1-45e4-ad35-64326da976b8",
   "metadata": {},
   "source": [
    "## Simulating the genetic \"repressilator\"\n",
    "\n",
    "**A demo of an quib-based ODE solver of the classical genetic repressilator.**\n",
    "\n",
    "* **Features**\n",
    "    * Quib-linked widgets\n",
    "    * Running user defined functions using _quiby_\n",
    "    * Graphics quibs\n",
    "    * Graphics-driven assignments\n",
    "    * Inverse assignments \n",
    "      (see the inversion of the `log` in the Slider value)\n",
    "\n",
    "* **Try me**\n",
    "    * Try dragging up and down the circle markers to set the initial conditions of protein concentrations. \n",
    "    * Try adjusting the sliders to set equation parameters. \n",
    "    \n",
    "**Credit**\n",
    "\n",
    "Based on code by Justin Bois, Michael Elowitz (Caltech).\n",
    "\n",
    "**References**\n",
    "\n",
    "- [Elowitz & Leibler, A synthetic oscillatory network of transcriptional regulators, *Nature*, 2000](https://doi.org/10.1038/35002125)\n",
    "- [Synchronous long-term oscillations in a synthetic gene circuit, *Nature*, 2016](https://doi.org/10.1038/nature19841) "
   ]
  },
  {
   "cell_type": "code",
   "execution_count": 1,
   "id": "02246c57-2eaf-4081-8b9d-8c8c8f420492",
   "metadata": {},
   "outputs": [],
   "source": [
    "from pyquibbler import iquib, initialize_quibbler, quiby\n",
    "initialize_quibbler()\n",
    "import matplotlib.pyplot as plt\n",
    "import numpy as np\n",
    "%matplotlib tk"
   ]
  },
  {
   "cell_type": "code",
   "execution_count": 2,
   "id": "aec1c622-adce-4e67-8f6a-de42719e5b3a",
   "metadata": {},
   "outputs": [],
   "source": [
    "import scipy.integrate\n",
    "import scipy.optimize"
   ]
  },
  {
   "cell_type": "code",
   "execution_count": 3,
   "id": "a322b5bc-aec9-4703-a418-08736e9b2eb4",
   "metadata": {},
   "outputs": [],
   "source": [
    "from matplotlib.widgets import Slider"
   ]
  },
  {
   "cell_type": "code",
   "execution_count": 4,
   "id": "5e9d83bc-2121-4a74-8ac4-d28d1330db1a",
   "metadata": {},
   "outputs": [],
   "source": [
    "# Set key parameters:\n",
    "beta = iquib(10.)\n",
    "gamma = iquib(1.)\n",
    "rho = iquib(0.001)\n",
    "n = iquib(3)  # cooperativity "
   ]
  },
  {
   "cell_type": "code",
   "execution_count": 5,
   "id": "a3217362-c334-4eee-a62f-26c6a7812d54",
   "metadata": {},
   "outputs": [],
   "source": [
    "# time\n",
    "t_max = iquib(40.)\n",
    "num_points = iquib(1000)  # Number of points to use in plots\n",
    "t = np.linspace(0, t_max, num_points)"
   ]
  },
  {
   "cell_type": "code",
   "execution_count": 6,
   "id": "210abdc6-fe15-4faa-967d-5b72588e397a",
   "metadata": {},
   "outputs": [],
   "source": [
    "# Initial condiations (3 x mRNA, 3 x Proteins)\n",
    "initial_m_x = iquib(np.array([0., 0., 0., 1., 1.5, 2.2]))"
   ]
  },
  {
   "cell_type": "code",
   "execution_count": 7,
   "id": "debdaf26-7132-4242-a76b-9062752d7a9f",
   "metadata": {},
   "outputs": [],
   "source": [
    "# Solver for the mRNA and Protein concentrations\n",
    "def repressilator_rhs(mx, t, beta, gamma, rho, n):\n",
    "    \"\"\"\n",
    "    Returns 6-array of (dm_1/dt, dm_2/dt, dm_3/dt, dx_1/dt, dx_2/dt, dx_3/dt)\n",
    "    \"\"\"\n",
    "    m_1, m_2, m_3, x_1, x_2, x_3 = mx\n",
    "    return np.array(\n",
    "        [\n",
    "            beta * (rho + 1 / (1 + x_3 ** n)) - m_1,\n",
    "            beta * (rho + 1 / (1 + x_1 ** n)) - m_2,\n",
    "            beta * (rho + 1 / (1 + x_2 ** n)) - m_3,\n",
    "            gamma * (m_1 - x_1),\n",
    "            gamma * (m_2 - x_2),\n",
    "            gamma * (m_3 - x_3),\n",
    "        ]\n",
    "    )\n",
    "\n",
    "\n",
    "@quiby\n",
    "def _solve_repressilator(beta, gamma, rho, n, t, x_init):\n",
    "    x = scipy.integrate.odeint(repressilator_rhs, x_init, t, args=(beta, gamma, rho, n))\n",
    "    return x.transpose()"
   ]
  },
  {
   "cell_type": "code",
   "execution_count": 8,
   "id": "27527ecb-13f1-491d-804e-c1e1d2b6384d",
   "metadata": {},
   "outputs": [],
   "source": [
    "# Run ODE and plot\n",
    "m1, m2, m3, x1, x2, x3 = _solve_repressilator(beta, gamma, rho, n, t, initial_m_x)\n",
    "\n",
    "plt.figure(figsize=(4, 3))\n",
    "plt.plot(t, x1, 'r', t, x2, 'g', t, x3, 'b');\n",
    "\n",
    "plt.plot(0, initial_m_x[3], 'ro')\n",
    "plt.plot(0, initial_m_x[4], 'go')\n",
    "plt.plot(0, initial_m_x[5], 'bo');"
   ]
  },
  {
   "cell_type": "code",
   "execution_count": 9,
   "id": "f49d9575-b14c-4943-8898-b8bdcb2f0ba1",
   "metadata": {},
   "outputs": [],
   "source": [
    "# Add sliders for parameters\n",
    "fig = plt.figure(figsize=(4, 2))\n",
    "axs = fig.add_gridspec(4, hspace=0.7, left=0.3, right=0.8).subplots()\n",
    "Slider(ax=axs[0], valmin= 0, valmax=3, valinit=np.log10(beta), label='log10(beta)')\n",
    "Slider(ax=axs[1], valmin=-1, valmax=2, valinit=np.log10(gamma), label='log10(gamma)')\n",
    "Slider(ax=axs[2], valmin=-5, valmax=0, valinit=np.log10(rho), label='log10(rho)')\n",
    "Slider(ax=axs[3], valmin= 0, valmax=5, valinit=n, label='n');"
   ]
  },
  {
   "cell_type": "code",
   "execution_count": null,
   "id": "4b5e8514-d9ae-4e17-a202-365de927d869",
   "metadata": {},
   "outputs": [],
   "source": []
  }
 ],
 "metadata": {
  "kernelspec": {
   "display_name": "Python 3 (ipykernel)",
   "language": "python",
   "name": "python3"
  },
  "language_info": {
   "codemirror_mode": {
    "name": "ipython",
    "version": 3
   },
   "file_extension": ".py",
   "mimetype": "text/x-python",
   "name": "python",
   "nbconvert_exporter": "python",
   "pygments_lexer": "ipython3",
   "version": "3.10.5"
  },
  "quibs_archive": null
 },
 "nbformat": 4,
 "nbformat_minor": 5
}
