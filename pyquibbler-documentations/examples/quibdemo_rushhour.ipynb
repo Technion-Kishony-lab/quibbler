{
 "cells": [
  {
   "cell_type": "markdown",
   "id": "d269df94-d4b4-4c78-b81f-525c5c1652c3",
   "metadata": {},
   "source": [
    "## RushHour: dragging with algorithmically specified constraints\n",
    "\n",
    "**Create a GUI for the RushHour game.**\n",
    "\n",
    "* **Features:**\n",
    "    * Graphics-driven assignments\n",
    "    * Validate legal dragging by calling a function that raises an exception on illegal values.\n",
    "\n",
    "* **Try me:**\n",
    "    * Try dragging the cars to let the red car pass through."
   ]
  },
  {
   "cell_type": "code",
   "execution_count": 1,
   "id": "382275cb-2fa7-448c-989f-e984b5b291e3",
   "metadata": {},
   "outputs": [],
   "source": [
    "from pyquibbler import iquib, initialize_quibbler, q, quiby\n",
    "initialize_quibbler()\n",
    "import matplotlib.pyplot as plt\n",
    "import numpy as np\n",
    "from matplotlib.patches import Rectangle\n",
    "%matplotlib osx"
   ]
  },
  {
   "cell_type": "code",
   "execution_count": 2,
   "id": "3b876eed-d195-450e-91c4-bda1bf9ad988",
   "metadata": {},
   "outputs": [],
   "source": [
    "# Board parameters:\n",
    "l = 6  # size of the board\n",
    "d = 3  # number of car steps per square\n",
    "spc = 0.2  # space betweek cars\n",
    "\n",
    "# initial car configuration:\n",
    "xv = np.array([2, 0, 1, 0, 1, 2, 2, 3, 4, 4]) * d\n",
    "yv = np.array([0, 2, 2, 0, 0, 2, 4, 2, 0, 3]) * d\n",
    "dxv = np.array([1, 1, 1, 1, 1, 1, 1, 1, 1, 1]) * d\n",
    "dyv = np.array([-2, -2, -2, 2, 2, 2, 2, 3, 2, 2]) * d  # pos/neg for vertical/horizontal cars\n",
    "\n",
    "yv = iquib(yv)\n",
    "\n",
    "# prepare figure:\n",
    "plt.figure(0)\n",
    "plt.clf()\n",
    "ax = plt.gca()\n",
    "ax.axis(np.array([-0.5, l - 0.5, -0.5, l - 0.5]) * d)\n",
    "ax.axis('square')\n",
    "plt.setp(ax, xticks=[], yticks=[])\n",
    "\n",
    "# Draw cars:\n",
    "clr = np.array([0.4, 0, 0])\n",
    "for x, y, dx, dy in zip(xv, yv, dxv, dyv):\n",
    "    if dy < 0:\n",
    "        x, y, dx, dy = y, x, -dy, dx\n",
    "    rect = Rectangle(xy=(x - d/2 + spc, y - d/2 + spc), \n",
    "                     width=dx - 2*spc, height=dy - 2*spc, \n",
    "                     facecolor=0.7 * clr)\n",
    "    ax.add_patch(rect)\n",
    "    plt.plot(x - d/2 + dx/2, y - d/2 + dy/2, 'o', \n",
    "             color=clr, markersize=30, pickradius=30)\n",
    "    clr = np.array([0.2, 0.8, 0.2])"
   ]
  },
  {
   "cell_type": "code",
   "execution_count": 3,
   "id": "1d38a1ca-3be5-4012-b208-3f534a08e437",
   "metadata": {},
   "outputs": [
    {
     "name": "stdout",
     "output_type": "stream",
     "text": [
      "x\n"
     ]
    }
   ],
   "source": [
    "# Raise exception on illegal car position\n",
    "# This will prevent dragging cars on top of each other\n",
    "@quiby(is_graphics=True)\n",
    "def check_valid(xx, yy, dxx, dyy):\n",
    "    print('x')\n",
    "    z = np.zeros((l*d, l*d), dtype=np.int8)\n",
    "    for x, y, dx, dy in zip(xx, yy, dxx, dyy):\n",
    "        if dy < 0:\n",
    "            x, y, dx, dy = y, x, -dy, dx\n",
    "        if x < 0 or y < 0 or x + dx > l*d or y + dy > l*d:\n",
    "            raise Exception('out of range')\n",
    "        z[x:x+dx, y:y+dy] += 1\n",
    "    \n",
    "    if np.any(z>1):\n",
    "        print('raising')\n",
    "        raise Exception('overlap')\n",
    "    \n",
    "    if yy[0] == 4 * d:\n",
    "        ax.set_title('Yeh!', fontsize=24)\n",
    "\n",
    "check = check_valid(xv, yv, dxv, dyv);"
   ]
  },
  {
   "cell_type": "code",
   "execution_count": null,
   "id": "8c027e6c-2bd2-47a8-9a13-b6abb84e8a4d",
   "metadata": {},
   "outputs": [],
   "source": []
  }
 ],
 "metadata": {
  "kernelspec": {
   "display_name": "Python 3 (ipykernel)",
   "language": "python",
   "name": "python3"
  },
  "language_info": {
   "codemirror_mode": {
    "name": "ipython",
    "version": 3
   },
   "file_extension": ".py",
   "mimetype": "text/x-python",
   "name": "python",
   "nbconvert_exporter": "python",
   "pygments_lexer": "ipython3",
   "version": "3.10.8"
  }
 },
 "nbformat": 4,
 "nbformat_minor": 5
}
