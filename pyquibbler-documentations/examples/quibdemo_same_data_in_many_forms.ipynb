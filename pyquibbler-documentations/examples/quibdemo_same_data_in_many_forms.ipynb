{
 "cells": [
  {
   "cell_type": "markdown",
   "id": "491dbbee",
   "metadata": {},
   "source": [
    "## Same variable in different co-adjusting graphical representations\n",
    "In data analysis, we often want to represent the same variable in different graphical forms, and/or following different arithmetic transformations (for example, representing the same threshold value in both linear and log scales). As these different presentations represent different transformations of the same value, we would want that a change in any one of them will automatically affect the others.\n",
    "\n",
    "In Quibbler, a change to any one of the graphical presentations of a variable is propagated backwards to the source variable, typically an iquib, thereby automatically affecting all representations.\n",
    "\n",
    "In the current example, the same data X,Y is represented in different graphical forms. Changing any one of these representations changes all the others accordingly.\n",
    "\n",
    "* **Features**\n",
    "    * Graphics quibs\n",
    "    * Quib-linked widgets\n",
    "    * Graphics-driven assignments\n",
    "    * Inverse assignments\n",
    "\n",
    "\n",
    "* **Try me:**\n",
    "    * Dragging the square markers in the top panel\n",
    "    * Dragging the circle markers in the linear or log scale panels\n",
    "    * Adjusting the sliders\n",
    "    * Entering a new value in the text boxes (not currently implemented)"
   ]
  },
  {
   "cell_type": "code",
   "execution_count": 1,
   "id": "4512d802",
   "metadata": {},
   "outputs": [],
   "source": [
    "from pyquibbler import iquib, initialize_quibbler, q\n",
    "initialize_quibbler()\n",
    "import matplotlib.pyplot as plt\n",
    "from matplotlib.widgets import TextBox, Slider\n",
    "import numpy as np\n",
    "%matplotlib tk"
   ]
  },
  {
   "cell_type": "code",
   "execution_count": 2,
   "id": "c4249b52",
   "metadata": {},
   "outputs": [],
   "source": [
    "# Figure setup:\n",
    "fig = plt.figure(figsize=(4, 9))\n",
    "\n",
    "axs1 = fig.add_axes([0.1, 0.78, 0.8, 0.2])\n",
    "axs2 = fig.add_axes([0.1, 0.50, 0.8, 0.23])\n",
    "axs3 = fig.add_axes([0.1, 0.20, 0.8, 0.23])\n",
    "\n",
    "axs1.set_xticks([1, 2])\n",
    "axs1.set_xticklabels(['X','Y'])\n",
    "\n",
    "axs2.axis('square')\n",
    "lim2 = iquib([0,8])\n",
    "axs2.set_xlim(lim2)\n",
    "axs2.set_ylim(lim2)\n",
    "axs2.set_xlabel('X')\n",
    "axs2.set_ylabel('Y')\n",
    "\n",
    "axs3.axis('square')\n",
    "lim3 = iquib([-1,3])\n",
    "axs3.set_xlim(lim3)\n",
    "axs3.set_ylim(lim3)\n",
    "axs3.set_xlabel('log2(X)')\n",
    "axs3.set_ylabel('log2(Y)')\n",
    "\n",
    "axs_slider_x = fig.add_axes([0.1, 0.07, 0.3, 0.03])\n",
    "axs_slider_y = fig.add_axes([0.6, 0.07, 0.3, 0.03])\n",
    "\n",
    "axs_txt_x = fig.add_axes([0.1, 0.03, 0.3, 0.03])\n",
    "axs_txt_y = fig.add_axes([0.6, 0.03, 0.3, 0.03])\n",
    "axs_txt_x.set_xlabel('X')\n",
    "axs_txt_y.set_xlabel('Y');"
   ]
  },
  {
   "cell_type": "code",
   "execution_count": 3,
   "id": "64b4f8fb",
   "metadata": {},
   "outputs": [],
   "source": [
    "# Define an input quib XY, representing X,Y coordinates:\n",
    "xy = iquib([7., 2.])\n",
    "x = xy[0];\n",
    "y = xy[1];"
   ]
  },
  {
   "cell_type": "code",
   "execution_count": 4,
   "id": "5852e08a",
   "metadata": {},
   "outputs": [],
   "source": [
    "# Present the same data in many different co-adjusting graphical objects. \n",
    "# Changing any one of the representaiotn will propagate backwards to change to \n",
    "# the iquib XY thereby affecting all other representations.\n",
    "\n",
    "# (1) Bar representation:\n",
    "axs1.bar([1, 2], xy) # Bars\n",
    "\n",
    "# (2) Point above bars:\n",
    "marker_props = {'markersize': 18, 'markerfacecolor': 'r', 'picker': True}\n",
    "axs1.plot([1, 2], xy, 's', **marker_props)\n",
    "\n",
    "# (3) X-Y representation in linear scale:\n",
    "axs2.plot(lim2, lim2, 'k-')\n",
    "axs2.plot(x, y, marker='o', **marker_props)\n",
    "\n",
    "# (4) X-Y representation in log scale:\n",
    "axs3.plot(lim3, lim3, 'k-')\n",
    "axs3.plot(np.log2(x), np.log2(y), 'o', **marker_props)\n",
    "\n",
    "# (5) Text representation:\n",
    "axs2.text(0.05, 0.85, q('X={:.2f}, Y={:.2f}'.format, x, y),\n",
    "          transform = axs3.transAxes, fontsize=12)\n",
    "\n",
    "# (6) TextBox\n",
    "x_round = np.round(x, decimals=2)\n",
    "y_round = np.round(y, decimals=2)\n",
    "TextBox(ax=axs_txt_x, label=None, initial=q(str, x_round))\n",
    "TextBox(ax=axs_txt_y, label=None, initial=q(str, y_round))\n",
    "\n",
    "# (7) Sliders\n",
    "Slider(ax=axs_slider_x, label=None, valmin=0, valmax=8, valstep=0.1, valinit=x)\n",
    "Slider(ax=axs_slider_y, label=None, valmin=0, valmax=8, valstep=0.1, valinit=y);"
   ]
  }
 ],
 "metadata": {
  "kernelspec": {
   "display_name": "Python 3 (ipykernel)",
   "language": "python",
   "name": "python3"
  },
  "language_info": {
   "codemirror_mode": {
    "name": "ipython",
    "version": 3
   },
   "file_extension": ".py",
   "mimetype": "text/x-python",
   "name": "python",
   "nbconvert_exporter": "python",
   "pygments_lexer": "ipython3",
   "version": "3.10.4"
  }
 },
 "nbformat": 4,
 "nbformat_minor": 5
}