{
 "cells": [
  {
   "cell_type": "code",
   "execution_count": 9,
   "id": "66451ae0",
   "metadata": {},
   "outputs": [],
   "source": [
    "from pyquibbler import iquib, initialize_quibbler, dependency_graph\n",
    "initialize_quibbler()"
   ]
  },
  {
   "cell_type": "code",
   "execution_count": 2,
   "id": "5d7bb894",
   "metadata": {},
   "outputs": [],
   "source": [
    "import matplotlib.pyplot as plt\n",
    "import numpy as np\n",
    "%matplotlib tk"
   ]
  },
  {
   "cell_type": "code",
   "execution_count": 3,
   "id": "e8c78acc-28a3-4091-a531-80967e6b42fe",
   "metadata": {},
   "outputs": [],
   "source": [
    "# Load an image:\n",
    "filename = iquib('bacteria_drop.tif') \n",
    "img = plt.imread(filename)\n",
    "\n",
    "# Show the image:\n",
    "plt.figure()\n",
    "ax = plt.subplot(2, 2, 1)\n",
    "ax.imshow(img);"
   ]
  },
  {
   "cell_type": "code",
   "execution_count": 4,
   "id": "2cbfdac6-190f-4a41-9108-34bde94d70cd",
   "metadata": {},
   "outputs": [],
   "source": [
    "# Threshold each of the RGB channels:\n",
    "thresholds_rgb = iquib([170, 170, 170])"
   ]
  },
  {
   "cell_type": "code",
   "execution_count": 5,
   "id": "40a0396a-55da-4f45-87f9-933db1277766",
   "metadata": {},
   "outputs": [],
   "source": [
    "# Plot the thresholds\n",
    "ax = plt.subplot(2, 2, 4)\n",
    "ax.axis([-0.5, 2.5, 0, 255])\n",
    "ax.xaxis.grid(True)\n",
    "rgb = list('RGB')\n",
    "ax.plot(rgb, thresholds_rgb, 'sk', \n",
    "        markersize=16, markerfacecolor='k');\n",
    "ax.set_ylabel('thresholds');"
   ]
  },
  {
   "cell_type": "code",
   "execution_count": 6,
   "id": "b3ef04ec-bb8f-4122-b15f-e31501e4b97a",
   "metadata": {},
   "outputs": [],
   "source": [
    "# Calculate and plot the thresholded image:\n",
    "img01 = img > np.expand_dims(thresholds_rgb, axis=(0, 1))\n",
    "plt.subplot(2, 2, 3)\n",
    "plt.imshow(img01 * 1.);"
   ]
  },
  {
   "cell_type": "code",
   "execution_count": 7,
   "id": "483f0292-f726-4c8f-b405-423909812a93",
   "metadata": {},
   "outputs": [],
   "source": [
    "# Calculate area above threshold for each color:\n",
    "fraction_above_threshold = np.average(img01, (0, 1)) \n",
    "\n",
    "# Plot detected areas:\n",
    "ax = plt.subplot(2, 2, 2)\n",
    "ax.bar(rgb, fraction_above_threshold * 100, color=list('rgb'))\n",
    "ax.axis([-0.5, 2.5, 0, 1.5])\n",
    "ax.set_ylabel('area above threshold');"
   ]
  },
  {
   "cell_type": "code",
   "execution_count": 8,
   "id": "7e318b64-8747-4342-86d3-0c75fd69e774",
   "metadata": {},
   "outputs": [],
   "source": [
    "# Show thresholds on log scale:\n",
    "log_thresholds_rgb = np.log2(thresholds_rgb)\n",
    "\n",
    "fg = plt.figure(figsize=(4, 3))\n",
    "ax = fg.gca()\n",
    "ax.plot(rgb, log_thresholds_rgb, 'sk', markersize=16, markerfacecolor='k')\n",
    "ax.axis([-0.5, 2.5, 0, 8])\n",
    "ax.xaxis.grid(True)"
   ]
  },
  {
   "cell_type": "code",
   "execution_count": 10,
   "id": "5c10b990-111f-4a2e-8a3f-c199a0c62aa1",
   "metadata": {},
   "outputs": [
    {
     "data": {
      "application/vnd.jupyter.widget-view+json": {
       "model_id": "5d7ad6ed682f4d8a8a58a6658dc86d7f",
       "version_major": 2,
       "version_minor": 0
      },
      "text/plain": [
       "Box(children=(CytoscapeWidget(cytoscape_layout={'name': 'preset'}, cytoscape_style=[{'selector': 'edge', 'styl…"
      ]
     },
     "metadata": {},
     "output_type": "display_data"
    }
   ],
   "source": [
    "dependency_graph(fraction_above_threshold)"
   ]
  },
  {
   "cell_type": "code",
   "execution_count": null,
   "id": "0b71d364-0ba5-460f-a979-362fa6e68b5a",
   "metadata": {},
   "outputs": [],
   "source": []
  }
 ],
 "metadata": {
  "kernelspec": {
   "display_name": "Python 3 (ipykernel)",
   "language": "python",
   "name": "python3"
  },
  "language_info": {
   "codemirror_mode": {
    "name": "ipython",
    "version": 3
   },
   "file_extension": ".py",
   "mimetype": "text/x-python",
   "name": "python",
   "nbconvert_exporter": "python",
   "pygments_lexer": "ipython3",
   "version": "3.10.5"
  },
  "quibs_archive": "UEsDBBQAAAAIAMhO+VRoxi4oFwAAABoAAAASAAAAdGhyZXNob2xkc19yZ2IudHh0KyzNTIo2iFWwVTA0MOAqBPGMQDxLAwBQSwECFAMUAAAACADITvlUaMYuKBcAAAAaAAAAEgAAAAAAAAAAAAAApIEAAAAAdGhyZXNob2xkc19yZ2IudHh0UEsFBgAAAAABAAEAQAAAAEcAAAAAAA=="
 },
 "nbformat": 4,
 "nbformat_minor": 5
}
