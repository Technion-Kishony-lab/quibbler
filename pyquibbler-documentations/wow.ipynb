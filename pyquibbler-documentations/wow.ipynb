{
 "cells": [
  {
   "cell_type": "code",
   "execution_count": 1,
   "id": "136922ff-e784-456c-9da5-428f2d153d3b",
   "metadata": {},
   "outputs": [],
   "source": [
    "from pyquibbler import initialize_quibbler, iquib\n",
    "initialize_quibbler()\n",
    "\n",
    "import matplotlib.pyplot as plt\n",
    "\n",
    "%matplotlib tk"
   ]
  },
  {
   "cell_type": "code",
   "execution_count": 8,
   "id": "9a0e044c-3527-44d2-8991-5d9fad6c18be",
   "metadata": {},
   "outputs": [
    {
     "data": {
      "application/vnd.jupyter.widget-view+json": {
       "model_id": "ab7a3db4eb65449396cb4b81249558cc",
       "version_major": 2,
       "version_minor": 0
      },
      "text/plain": [
       "VBox(children=(Label(value='set_title(x)'), HBox(children=(HBox(children=(ToggleButton(value=False, descriptio…"
      ]
     },
     "metadata": {},
     "output_type": "display_data"
    },
    {
     "data": {
      "text/html": [],
      "text/plain": [
       "set_title(x)"
      ]
     },
     "execution_count": 8,
     "metadata": {},
     "output_type": "execute_result"
    }
   ],
   "source": [
    "plt.figure(0)\n",
    "plt.clf()\n",
    "plt.axis('square')\n",
    "plt.axis([-1, 5, -1, 5])\n",
    "x = iquib(0.5)\n",
    "v = [0]\n",
    "for i in range(4):\n",
    "    v.append(v[-1] + x)\n",
    "\n",
    "plt.plot(v, v, 'o')\n",
    "plt.title(x)"
   ]
  },
  {
   "cell_type": "code",
   "execution_count": 19,
   "id": "45baf83d-98d4-409e-9df9-f06b6b5181b8",
   "metadata": {},
   "outputs": [],
   "source": [
    "class A:\n",
    "    pass\n",
    "\n",
    "a = A()\n",
    "from weakref import ref\n",
    "ar1 = ref(a)\n",
    "ar2 = ref(a)"
   ]
  },
  {
   "cell_type": "code",
   "execution_count": 22,
   "id": "069fcb87-6f49-4df9-8afb-6c2b6e4ddc48",
   "metadata": {},
   "outputs": [
    {
     "data": {
      "text/plain": [
       "True"
      ]
     },
     "execution_count": 22,
     "metadata": {},
     "output_type": "execute_result"
    }
   ],
   "source": [
    "ar1 == ar2"
   ]
  },
  {
   "cell_type": "code",
   "execution_count": 18,
   "id": "1589b3aa-89c9-4816-8a79-885dfdb8a0f4",
   "metadata": {},
   "outputs": [
    {
     "data": {
      "text/plain": [
       "140678919948512"
      ]
     },
     "execution_count": 18,
     "metadata": {},
     "output_type": "execute_result"
    }
   ],
   "source": [
    "id(a)"
   ]
  },
  {
   "cell_type": "code",
   "execution_count": 5,
   "id": "8c4526eb-762e-47bf-9223-4f7fe6723add",
   "metadata": {},
   "outputs": [],
   "source": [
    "import pyquibbler as qb"
   ]
  },
  {
   "cell_type": "code",
   "execution_count": 6,
   "id": "84dfe9e3-d8bc-4941-9a4b-ca735abcfdf9",
   "metadata": {},
   "outputs": [],
   "source": [
    "qb.get_project().set_jupyter_notebook_path('wow.ipynb')"
   ]
  },
  {
   "cell_type": "code",
   "execution_count": 6,
   "id": "8ac80929-7f61-4ad3-9ae8-c83cf919b8b8",
   "metadata": {},
   "outputs": [],
   "source": [
    "from pyquibbler import default\n",
    "a.assign(3)"
   ]
  },
  {
   "cell_type": "code",
   "execution_count": 5,
   "id": "b9954496-1153-495b-a7fc-0ca60187433c",
   "metadata": {},
   "outputs": [],
   "source": [
    "b.load()"
   ]
  },
  {
   "cell_type": "code",
   "execution_count": 8,
   "id": "0aea4eff-4337-402b-9991-0a3ce3dc6a92",
   "metadata": {},
   "outputs": [],
   "source": [
    "a.load()"
   ]
  },
  {
   "cell_type": "code",
   "execution_count": 3,
   "id": "10b98b14-9a6a-4c03-b19b-e8b701336b0f",
   "metadata": {},
   "outputs": [],
   "source": [
    "import os"
   ]
  },
  {
   "cell_type": "code",
   "execution_count": 13,
   "id": "4e386bca-02c6-44e9-b18f-b6b6072fd6fb",
   "metadata": {},
   "outputs": [
    {
     "name": "stdout",
     "output_type": "stream",
     "text": [
      "None\n"
     ]
    }
   ],
   "source": [
    "print(os.environ.get('sfew'))"
   ]
  },
  {
   "cell_type": "code",
   "execution_count": 7,
   "id": "1974fe22-fc43-41df-a4e9-1eac4a468b11",
   "metadata": {},
   "outputs": [
    {
     "data": {
      "text/plain": [
       "PosixPath('/Users/roeekishony/Git/quibbler/pyquibbler-documentations/wow.ipynb')"
      ]
     },
     "execution_count": 7,
     "metadata": {},
     "output_type": "execute_result"
    }
   ],
   "source": [
    "import ipynbname\n",
    "ipynbname.path()"
   ]
  },
  {
   "cell_type": "code",
   "execution_count": 8,
   "id": "b0a48198-b0b2-4d6c-94b7-320f71d34af5",
   "metadata": {},
   "outputs": [
    {
     "data": {
      "text/plain": [
       "PosixPath('/Users/roeekishony/Git/quibbler/pyquibbler-documentations/wow.ipynb')"
      ]
     },
     "execution_count": 8,
     "metadata": {},
     "output_type": "execute_result"
    }
   ],
   "source": [
    "qb.get_project().get_jupyter_notebook_path()"
   ]
  },
  {
   "cell_type": "code",
   "execution_count": null,
   "id": "78b0f374-8e6b-48cf-920e-509b3c82ba81",
   "metadata": {},
   "outputs": [],
   "source": []
  }
 ],
 "metadata": {
  "kernelspec": {
   "display_name": "Python 3 (ipykernel)",
   "language": "python",
   "name": "python3"
  },
  "language_info": {
   "codemirror_mode": {
    "name": "ipython",
    "version": 3
   },
   "file_extension": ".py",
   "mimetype": "text/x-python",
   "name": "python",
   "nbconvert_exporter": "python",
   "pygments_lexer": "ipython3",
   "version": "3.10.8"
  },
  "quibs_archive": null
 },
 "nbformat": 4,
 "nbformat_minor": 5
}
