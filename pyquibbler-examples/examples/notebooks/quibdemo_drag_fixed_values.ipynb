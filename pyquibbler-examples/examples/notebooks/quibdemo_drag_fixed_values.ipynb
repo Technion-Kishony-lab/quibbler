{
 "cells": [
  {
   "cell_type": "markdown",
   "id": "491dbbee",
   "metadata": {},
   "source": [
    "## Dragging graphics between fixed points\n",
    "**A demo of interactively choosing among a fixed set of values.**\n",
    "\n",
    "* **Features**\n",
    "    * Graphics-driven assignments\n",
    "    * Inverse assignments\n",
    "    * Assignment template\n",
    "\n",
    "\n",
    "* **Try me**\n",
    "    * Drag the cyan diamond marker to choose a square number.\n",
    "    * Drag the corner of the cyan square."
   ]
  },
  {
   "cell_type": "code",
   "execution_count": 1,
   "id": "5dc0e2e4",
   "metadata": {},
   "outputs": [],
   "source": [
    "from pyquibbler import iquib, override_all, q\n",
    "override_all()\n",
    "import matplotlib.pyplot as plt\n",
    "import numpy as np\n",
    "%matplotlib tk"
   ]
  },
  {
   "cell_type": "code",
   "execution_count": 2,
   "id": "1d3c4210",
   "metadata": {},
   "outputs": [],
   "source": [
    "# Prepare figure, axes\n",
    "fig = plt.figure(figsize=(5, 6))\n",
    "\n",
    "ax1 = fig.add_axes([0.1, 0.1, 0.8, 0.06])\n",
    "ax1.set_ylim([0, 1])\n",
    "ax1.set_xlim([0, 36.5])\n",
    "area_options = np.array(range(0, 7)) ** 2\n",
    "ax1.set_xticks(area_options)\n",
    "ax1.set_xticklabels(area_options, fontsize=12)\n",
    "ax1.set_yticks([])\n",
    "ax1.set_facecolor([0.9, 0.9, 0.9])\n",
    "\n",
    "ax2 = fig.add_axes([0.1, 0.3, 0.8, 0.6])\n",
    "ax2.axis('square')\n",
    "ax2.axis([-0.05, 6.15, -0.05, 6.15])\n",
    "ax2.spines['top'].set_visible(False)\n",
    "ax2.spines['right'].set_visible(False)"
   ]
  },
  {
   "cell_type": "code",
   "execution_count": 3,
   "id": "8bb76942",
   "metadata": {},
   "outputs": [],
   "source": [
    "# Define x, x_square\n",
    "# (use assingment_template to limit values of x)\n",
    "x = iquib(2).setp(assignment_template=(0, 6, 1))\n",
    "x_square = x ** 2"
   ]
  },
  {
   "cell_type": "code",
   "execution_count": 4,
   "id": "04660580",
   "metadata": {},
   "outputs": [],
   "source": [
    "# Plot draggable x_square. \n",
    "# (the marker position will be limitted to square numbers)\n",
    "ax1.plot(x_square, 0.5, 'dc', markersize=18, picker=True, pickradius=25);"
   ]
  },
  {
   "cell_type": "code",
   "execution_count": 5,
   "id": "93ff1ad8-c092-4cbe-bdde-cbf6be601c10",
   "metadata": {},
   "outputs": [],
   "source": [
    "# Plot the black sqaure, with text, and a draggable corner\n",
    "ax2.plot([0, x, x, 0, 0], [0, 0, x, x, 0], 'k-', linewidth=4)\n",
    "ax2.text(x/2, x/2, q(\"area: {:.0f}\".format, x_square), ha='center',  va='center')\n",
    "ax2.plot(x, x, 'sc', markersize=14, picker=True);"
   ]
  },
  {
   "cell_type": "code",
   "execution_count": 6,
   "id": "9bf4a932-9207-41ea-ba53-df70706d6421",
   "metadata": {},
   "outputs": [],
   "source": [
    "a = iquib([1, 2, 3])"
   ]
  },
  {
   "cell_type": "code",
   "execution_count": 7,
   "id": "fd682bd2-89d6-4cc1-9030-81a66544dca1",
   "metadata": {},
   "outputs": [
    {
     "data": {
      "text/plain": [
       "[1, 2, 3]"
      ]
     },
     "execution_count": 7,
     "metadata": {},
     "output_type": "execute_result"
    }
   ],
   "source": [
    "a.get_value()"
   ]
  },
  {
   "cell_type": "code",
   "execution_count": null,
   "id": "890b2529-af3b-49a3-b72a-b3d52ea5ff8c",
   "metadata": {},
   "outputs": [],
   "source": [
    "x.get_value()"
   ]
  },
  {
   "cell_type": "code",
   "execution_count": null,
   "id": "4b66c6c4-786f-40c3-a9fd-c96b1facd6f8",
   "metadata": {},
   "outputs": [],
   "source": []
  }
 ],
 "metadata": {
  "kernelspec": {
   "display_name": "Python 3 (ipykernel)",
   "language": "python",
   "name": "python3"
  },
  "language_info": {
   "codemirror_mode": {
    "name": "ipython",
    "version": 3
   },
   "file_extension": ".py",
   "mimetype": "text/x-python",
   "name": "python",
   "nbconvert_exporter": "python",
   "pygments_lexer": "ipython3",
   "version": "3.8.11"
  },
  "quibs_archive": null
 },
 "nbformat": 4,
 "nbformat_minor": 5
}
