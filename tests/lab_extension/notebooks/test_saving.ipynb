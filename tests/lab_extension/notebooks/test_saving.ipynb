{
 "cells": [
  {
   "cell_type": "code",
   "execution_count": null,
   "id": "5dc0e2e4",
   "metadata": {},
   "outputs": [],
   "source": [
    "from pyquibbler import iquib, initialize_quibbler\n",
    "initialize_quibbler()"
   ]
  },
  {
   "metadata": {},
   "cell_type": "code",
   "outputs": [],
   "execution_count": null,
   "source": [
    "# Verify kernel restarts\n",
    "try:\n",
    "    ID += 1\n",
    "except NameError:\n",
    "    ID = 0\n",
    "assert ID == 0"
   ],
   "id": "ce3b0011760ef619"
  },
  {
   "metadata": {},
   "cell_type": "code",
   "outputs": [],
   "execution_count": null,
   "source": [
    "from pyquibbler import Project\n",
    "project = Project.get_or_create() \n",
    "type(project)"
   ],
   "id": "7c7a3c3a75eb1fc7"
  },
  {
   "metadata": {},
   "cell_type": "code",
   "outputs": [],
   "execution_count": null,
   "source": "path = project._jupyter_notebook_path",
   "id": "9d9a46f344fcd849"
  },
  {
   "metadata": {},
   "cell_type": "code",
   "outputs": [],
   "execution_count": null,
   "source": "# project._get_notebook_content()",
   "id": "559e17216969cd63"
  },
  {
   "cell_type": "code",
   "execution_count": null,
   "id": "3c3674c5",
   "metadata": {
    "pycharm": {
     "name": "#%%\n"
    }
   },
   "outputs": [],
   "source": [
    "name = iquib('michael')\n",
    "nums = iquib([1, 2, 3])"
   ]
  }
 ],
 "metadata": {
  "kernelspec": {
   "display_name": "Python 3 (ipykernel)",
   "language": "python",
   "name": "python3"
  },
  "language_info": {
   "codemirror_mode": {
    "name": "ipython",
    "version": 3
   },
   "file_extension": ".py",
   "mimetype": "text/x-python",
   "name": "python",
   "nbconvert_exporter": "python",
   "pygments_lexer": "ipython3",
   "version": "3.11.9"
  }
 },
 "nbformat": 4,
 "nbformat_minor": 5
}
